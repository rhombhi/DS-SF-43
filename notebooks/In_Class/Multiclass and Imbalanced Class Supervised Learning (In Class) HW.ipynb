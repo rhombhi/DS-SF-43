{
 "cells": [
  {
   "cell_type": "markdown",
   "metadata": {},
   "source": [
    "# Advanced Sklearn Tools and Multi-Class and Imbalanced Class Machine Learning "
   ]
  },
  {
   "cell_type": "markdown",
   "metadata": {},
   "source": [
    "<b> Goals: </b>\n",
    "\n",
    "- Learn how to use an array of advanced tools in sklearn such as Pipelines, GridSearch, and more\n",
    "- Work on a supervised classification dataset with more than two classes, specifically the famous MNIST digits dataset.\n",
    "- Work on a supervised classification dataset with imbalanced classes, specifically the credit card fraud dataset."
   ]
  },
  {
   "cell_type": "markdown",
   "metadata": {},
   "source": [
    "## Advanced Sklearn tools "
   ]
  },
  {
   "cell_type": "code",
   "execution_count": 359,
   "metadata": {},
   "outputs": [],
   "source": [
    "import pandas as pd\n",
    "import numpy as np\n",
    "import seaborn as sns\n",
    "import matplotlib.pyplot as plt\n",
    "%matplotlib inline\n",
    "\n",
    "from sklearn.tree import DecisionTreeClassifier\n",
    "from sklearn.neighbors import KNeighborsClassifier\n",
    "from sklearn.linear_model import LogisticRegression\n",
    "from sklearn.metrics import confusion_matrix, precision_score, recall_score, roc_auc_score, roc_curve, accuracy_score\n",
    "from sklearn.model_selection import cross_val_score, train_test_split\n",
    "from sklearn.preprocessing import StandardScaler, LabelEncoder, OneHotEncoder, LabelBinarizer\n",
    "from sklearn.pipeline import Pipeline, make_pipeline\n",
    "from sklearn.grid_search import GridSearchCV, RandomizedSearchCV"
   ]
  },
  {
   "cell_type": "code",
   "execution_count": 2,
   "metadata": {},
   "outputs": [
    {
     "data": {
      "text/html": [
       "<div>\n",
       "<style scoped>\n",
       "    .dataframe tbody tr th:only-of-type {\n",
       "        vertical-align: middle;\n",
       "    }\n",
       "\n",
       "    .dataframe tbody tr th {\n",
       "        vertical-align: top;\n",
       "    }\n",
       "\n",
       "    .dataframe thead th {\n",
       "        text-align: right;\n",
       "    }\n",
       "</style>\n",
       "<table border=\"1\" class=\"dataframe\">\n",
       "  <thead>\n",
       "    <tr style=\"text-align: right;\">\n",
       "      <th></th>\n",
       "      <th>PassengerId</th>\n",
       "      <th>Survived</th>\n",
       "      <th>Pclass</th>\n",
       "      <th>Name</th>\n",
       "      <th>Sex</th>\n",
       "      <th>Age</th>\n",
       "      <th>SibSp</th>\n",
       "      <th>Parch</th>\n",
       "      <th>Ticket</th>\n",
       "      <th>Fare</th>\n",
       "      <th>Cabin</th>\n",
       "      <th>Embarked</th>\n",
       "    </tr>\n",
       "  </thead>\n",
       "  <tbody>\n",
       "    <tr>\n",
       "      <th>0</th>\n",
       "      <td>1</td>\n",
       "      <td>0</td>\n",
       "      <td>3</td>\n",
       "      <td>Braund, Mr. Owen Harris</td>\n",
       "      <td>male</td>\n",
       "      <td>22.0</td>\n",
       "      <td>1</td>\n",
       "      <td>0</td>\n",
       "      <td>A/5 21171</td>\n",
       "      <td>7.2500</td>\n",
       "      <td>NaN</td>\n",
       "      <td>S</td>\n",
       "    </tr>\n",
       "    <tr>\n",
       "      <th>1</th>\n",
       "      <td>2</td>\n",
       "      <td>1</td>\n",
       "      <td>1</td>\n",
       "      <td>Cumings, Mrs. John Bradley (Florence Briggs Th...</td>\n",
       "      <td>female</td>\n",
       "      <td>38.0</td>\n",
       "      <td>1</td>\n",
       "      <td>0</td>\n",
       "      <td>PC 17599</td>\n",
       "      <td>71.2833</td>\n",
       "      <td>C85</td>\n",
       "      <td>C</td>\n",
       "    </tr>\n",
       "    <tr>\n",
       "      <th>2</th>\n",
       "      <td>3</td>\n",
       "      <td>1</td>\n",
       "      <td>3</td>\n",
       "      <td>Heikkinen, Miss. Laina</td>\n",
       "      <td>female</td>\n",
       "      <td>26.0</td>\n",
       "      <td>0</td>\n",
       "      <td>0</td>\n",
       "      <td>STON/O2. 3101282</td>\n",
       "      <td>7.9250</td>\n",
       "      <td>NaN</td>\n",
       "      <td>S</td>\n",
       "    </tr>\n",
       "    <tr>\n",
       "      <th>3</th>\n",
       "      <td>4</td>\n",
       "      <td>1</td>\n",
       "      <td>1</td>\n",
       "      <td>Futrelle, Mrs. Jacques Heath (Lily May Peel)</td>\n",
       "      <td>female</td>\n",
       "      <td>35.0</td>\n",
       "      <td>1</td>\n",
       "      <td>0</td>\n",
       "      <td>113803</td>\n",
       "      <td>53.1000</td>\n",
       "      <td>C123</td>\n",
       "      <td>S</td>\n",
       "    </tr>\n",
       "    <tr>\n",
       "      <th>4</th>\n",
       "      <td>5</td>\n",
       "      <td>0</td>\n",
       "      <td>3</td>\n",
       "      <td>Allen, Mr. William Henry</td>\n",
       "      <td>male</td>\n",
       "      <td>35.0</td>\n",
       "      <td>0</td>\n",
       "      <td>0</td>\n",
       "      <td>373450</td>\n",
       "      <td>8.0500</td>\n",
       "      <td>NaN</td>\n",
       "      <td>S</td>\n",
       "    </tr>\n",
       "  </tbody>\n",
       "</table>\n",
       "</div>"
      ],
      "text/plain": [
       "   PassengerId  Survived  Pclass  \\\n",
       "0            1         0       3   \n",
       "1            2         1       1   \n",
       "2            3         1       3   \n",
       "3            4         1       1   \n",
       "4            5         0       3   \n",
       "\n",
       "                                                Name     Sex   Age  SibSp  \\\n",
       "0                            Braund, Mr. Owen Harris    male  22.0      1   \n",
       "1  Cumings, Mrs. John Bradley (Florence Briggs Th...  female  38.0      1   \n",
       "2                             Heikkinen, Miss. Laina  female  26.0      0   \n",
       "3       Futrelle, Mrs. Jacques Heath (Lily May Peel)  female  35.0      1   \n",
       "4                           Allen, Mr. William Henry    male  35.0      0   \n",
       "\n",
       "   Parch            Ticket     Fare Cabin Embarked  \n",
       "0      0         A/5 21171   7.2500   NaN        S  \n",
       "1      0          PC 17599  71.2833   C85        C  \n",
       "2      0  STON/O2. 3101282   7.9250   NaN        S  \n",
       "3      0            113803  53.1000  C123        S  \n",
       "4      0            373450   8.0500   NaN        S  "
      ]
     },
     "execution_count": 2,
     "metadata": {},
     "output_type": "execute_result"
    }
   ],
   "source": [
    "#Load in titanic data\n",
    "\n",
    "path = \"../../data/titanic.csv\"\n",
    "\n",
    "titanic = pd.read_csv(path)\n",
    "titanic.head()"
   ]
  },
  {
   "cell_type": "markdown",
   "metadata": {},
   "source": [
    "### Encoding aka dummy variables with sklearn"
   ]
  },
  {
   "cell_type": "markdown",
   "metadata": {},
   "source": [
    "**One hot encoding:*** Transforming categorical variables "
   ]
  },
  {
   "cell_type": "code",
   "execution_count": 8,
   "metadata": {},
   "outputs": [],
   "source": [
    "#Assign X and y\n",
    "\n",
    "X = titanic.drop(\"Survived\", axis = 1)\n",
    "y = titanic.Survived"
   ]
  },
  {
   "cell_type": "code",
   "execution_count": 9,
   "metadata": {},
   "outputs": [],
   "source": [
    "#Make a train test split with the titanic data\n",
    "\n",
    "X_train, X_test, y_train, y_test = train_test_split(X, y, test_size = 0.33, random_state = 8)"
   ]
  },
  {
   "cell_type": "code",
   "execution_count": null,
   "metadata": {},
   "outputs": [],
   "source": []
  },
  {
   "cell_type": "markdown",
   "metadata": {},
   "source": [
    "We're going to use LabelEncoder to turn the object values into numbers. Instead turning each unique value into a column a la dummy variables, this tool returns a single column and replaces the objects/strings with a number."
   ]
  },
  {
   "cell_type": "code",
   "execution_count": 10,
   "metadata": {},
   "outputs": [
    {
     "data": {
      "text/plain": [
       "array([1, 0, 1, 1, 1, 1, 0, 0, 0, 0, 1, 1, 0, 0, 0, 1, 1, 1, 1, 1, 0, 1,\n",
       "       1, 0, 1, 0, 0, 1, 1, 1, 0, 0, 1, 1, 1, 1, 0, 1, 0, 0, 1, 1, 1, 1,\n",
       "       1, 1, 1, 1, 1, 0, 1, 1, 1, 0, 1, 1, 1, 0, 0, 1, 1, 0, 0, 1, 0, 0,\n",
       "       0, 1, 0, 0, 1, 1, 1, 1, 0, 0, 1, 0, 1, 1, 1, 1, 0, 1, 1, 1, 1, 0,\n",
       "       1, 1, 0, 0, 1, 0, 0, 1, 1, 1, 1, 1, 1, 1, 1, 1, 1, 1, 1, 1, 1, 1,\n",
       "       1, 1, 1, 1, 1, 0, 1, 1, 1, 1, 0, 0, 0, 0, 0, 1, 1, 1, 0, 1, 1, 0,\n",
       "       0, 0, 1, 0, 1, 0, 0, 1, 0, 0, 0, 1, 1, 1, 0, 1, 1, 0, 1, 0, 1, 1,\n",
       "       1, 0, 1, 1, 1, 1, 0, 1, 0, 0, 1, 0, 1, 1, 0, 1, 1, 1, 1, 0, 0, 1,\n",
       "       0, 0, 1, 0, 1, 1, 1, 1, 1, 1, 1, 1, 0, 0, 1, 1, 1, 1, 1, 0, 0, 0,\n",
       "       1, 1, 1, 1, 0, 1, 1, 1, 1, 0, 0, 0, 1, 1, 1, 1, 0, 0, 1, 0, 1, 1,\n",
       "       0, 0, 1, 1, 1, 1, 1, 0, 1, 0, 0, 1, 0, 0, 1, 1, 1, 1, 1, 1, 0, 0,\n",
       "       1, 0, 1, 1, 1, 1, 1, 0, 0, 1, 1, 1, 0, 1, 1, 0, 1, 0, 1, 1, 1, 1,\n",
       "       1, 1, 1, 0, 1, 1, 0, 1, 1, 1, 1, 0, 1, 1, 1, 0, 1, 1, 1, 1, 1, 1,\n",
       "       1, 1, 0, 0, 0, 1, 1, 1, 1, 0, 1, 1, 1, 0, 1, 1, 1, 0, 1, 1, 1, 1,\n",
       "       1, 1, 1, 0, 0, 0, 0, 1, 1, 1, 0, 1, 1, 1, 1, 0, 1, 0, 1, 0, 1, 1,\n",
       "       1, 1, 0, 1, 1, 1, 0, 0, 1, 0, 1, 1, 0, 0, 1, 1, 1, 1, 0, 1, 1, 1,\n",
       "       1, 1, 0, 1, 1, 1, 0, 1, 1, 1, 1, 1, 1, 1, 1, 1, 0, 1, 0, 0, 0, 0,\n",
       "       0, 0, 1, 0, 1, 1, 1, 0, 1, 1, 1, 0, 1, 0, 1, 1, 0, 0, 1, 0, 1, 0,\n",
       "       1, 1, 1, 1, 0, 1, 1, 0, 1, 1, 1, 0, 0, 0, 1, 1, 0, 0, 1, 1, 1, 1,\n",
       "       0, 1, 1, 0, 0, 1, 1, 1, 1, 1, 1, 1, 0, 1, 1, 0, 1, 1, 1, 1, 0, 1,\n",
       "       0, 0, 1, 0, 1, 0, 0, 1, 0, 0, 0, 1, 1, 1, 1, 0, 0, 1, 0, 1, 0, 0,\n",
       "       1, 0, 0, 0, 1, 1, 1, 0, 1, 1, 0, 1, 1, 1, 1, 1, 1, 1, 0, 0, 0, 1,\n",
       "       0, 1, 0, 1, 1, 1, 1, 1, 0, 1, 1, 0, 0, 1, 1, 1, 0, 0, 1, 1, 1, 1,\n",
       "       1, 1, 1, 1, 1, 1, 1, 0, 0, 0, 0, 1, 1, 1, 1, 1, 1, 0, 0, 0, 1, 1,\n",
       "       1, 1, 0, 1, 1, 1, 0, 0, 1, 0, 1, 0, 1, 0, 0, 1, 0, 1, 0, 1, 1, 0,\n",
       "       1, 1, 1, 0, 1, 1, 1, 1, 0, 1, 0, 0, 1, 1, 1, 1, 1, 1, 0, 0, 0, 1,\n",
       "       1, 0, 0, 1, 1, 1, 0, 0, 1, 1, 0, 1, 1, 0, 1, 1, 1, 1, 1, 0, 0, 1,\n",
       "       1, 1])"
      ]
     },
     "execution_count": 10,
     "metadata": {},
     "output_type": "execute_result"
    }
   ],
   "source": [
    "#Intialize LabelEncoder object\n",
    "\n",
    "le = LabelEncoder()\n",
    "# le.fit_transform(X_train.Sex)\n",
    "\n",
    "#Use le on the sex column\n",
    "# sex_encoded = le.transform(X_test.Sex)\n",
    "sex_encoded = le.fit_transform(X_train.Sex)\n",
    "sex_encoded"
   ]
  },
  {
   "cell_type": "code",
   "execution_count": null,
   "metadata": {},
   "outputs": [],
   "source": []
  },
  {
   "cell_type": "markdown",
   "metadata": {},
   "source": [
    "Turns male and female into a 1s and 0s."
   ]
  },
  {
   "cell_type": "code",
   "execution_count": null,
   "metadata": {},
   "outputs": [],
   "source": []
  },
  {
   "cell_type": "code",
   "execution_count": null,
   "metadata": {},
   "outputs": [],
   "source": []
  },
  {
   "cell_type": "markdown",
   "metadata": {},
   "source": [
    "The advantage of using this is that we can use the LabelEncoder object (le) to transform other data."
   ]
  },
  {
   "cell_type": "code",
   "execution_count": 11,
   "metadata": {},
   "outputs": [
    {
     "data": {
      "text/plain": [
       "array([1, 1, 1, 0, 0, 1, 1, 0, 1, 0, 1, 1, 1, 0, 1, 1, 1, 1, 0, 1, 1, 0,\n",
       "       1, 0, 1, 1, 0, 1, 1, 0, 1, 1, 0, 0, 1, 0, 0, 1, 1, 0, 1, 0, 0, 1,\n",
       "       0, 1, 1, 0, 1, 1, 1, 1, 1, 0, 1, 0, 0, 1, 1, 1, 0, 0, 1, 1, 0, 1,\n",
       "       1, 0, 0, 0, 0, 1, 1, 1, 1, 1, 0, 0, 0, 1, 0, 0, 0, 0, 0, 1, 1, 0,\n",
       "       1, 0, 1, 1, 0, 1, 1, 1, 0, 0, 1, 1, 1, 1, 1, 1, 1, 1, 1, 0, 1, 1,\n",
       "       1, 0, 1, 1, 1, 0, 1, 0, 1, 0, 1, 1, 1, 1, 1, 1, 1, 1, 0, 1, 0, 0,\n",
       "       1, 0, 1, 0, 0, 1, 0, 1, 1, 0, 1, 1, 0, 0, 1, 1, 1, 1, 1, 0, 1, 1,\n",
       "       1, 1, 1, 1, 0, 1, 1, 1, 1, 1, 1, 1, 0, 1, 0, 1, 0, 1, 1, 1, 1, 1,\n",
       "       1, 1, 1, 1, 0, 0, 1, 1, 1, 1, 1, 0, 1, 1, 1, 1, 1, 1, 0, 1, 1, 1,\n",
       "       0, 1, 1, 1, 0, 1, 1, 1, 0, 0, 1, 1, 0, 1, 0, 1, 1, 0, 0, 1, 0, 0,\n",
       "       1, 1, 1, 1, 1, 1, 1, 1, 1, 1, 1, 1, 1, 1, 1, 1, 0, 1, 1, 1, 1, 0,\n",
       "       1, 1, 1, 1, 0, 1, 0, 1, 0, 1, 0, 1, 1, 1, 1, 0, 1, 1, 0, 1, 1, 0,\n",
       "       1, 0, 1, 0, 0, 1, 0, 0, 1, 0, 1, 0, 1, 0, 1, 0, 0, 0, 1, 0, 0, 1,\n",
       "       0, 0, 0, 0, 1, 0, 0, 0, 1])"
      ]
     },
     "execution_count": 11,
     "metadata": {},
     "output_type": "execute_result"
    }
   ],
   "source": [
    "#Pass in the Sex column on the testing dataset into the le object\n",
    "\n",
    "le.transform(X_test.Sex)\n"
   ]
  },
  {
   "cell_type": "code",
   "execution_count": 22,
   "metadata": {},
   "outputs": [
    {
     "data": {
      "text/plain": [
       "350      male\n",
       "176      male\n",
       "723      male\n",
       "404    female\n",
       "306    female\n",
       "665      male\n",
       "607      male\n",
       "151    female\n",
       "265      male\n",
       "865    female\n",
       "408      male\n",
       "78       male\n",
       "200      male\n",
       "40     female\n",
       "709      male\n",
       "785      male\n",
       "876      male\n",
       "64       male\n",
       "852    female\n",
       "429      male\n",
       "193      male\n",
       "437    female\n",
       "35       male\n",
       "654    female\n",
       "284      male\n",
       "101      male\n",
       "641    female\n",
       "744      male\n",
       "601      male\n",
       "56     female\n",
       "        ...  \n",
       "649    female\n",
       "499      male\n",
       "820    female\n",
       "431    female\n",
       "619      male\n",
       "708    female\n",
       "809    female\n",
       "5        male\n",
       "25     female\n",
       "468      male\n",
       "736    female\n",
       "314      male\n",
       "856    female\n",
       "553      male\n",
       "635    female\n",
       "53     female\n",
       "329    female\n",
       "175      male\n",
       "472    female\n",
       "880    female\n",
       "883      male\n",
       "427    female\n",
       "1      female\n",
       "346    female\n",
       "327    female\n",
       "411      male\n",
       "330    female\n",
       "558    female\n",
       "799    female\n",
       "33       male\n",
       "Name: Sex, Length: 295, dtype: object"
      ]
     },
     "execution_count": 22,
     "metadata": {},
     "output_type": "execute_result"
    }
   ],
   "source": [
    "X_test.Sex"
   ]
  },
  {
   "cell_type": "code",
   "execution_count": 14,
   "metadata": {},
   "outputs": [
    {
     "name": "stderr",
     "output_type": "stream",
     "text": [
      "/Users/roahuja/anaconda3/lib/python3.6/site-packages/pandas/core/generic.py:4355: SettingWithCopyWarning: \n",
      "A value is trying to be set on a copy of a slice from a DataFrame\n",
      "\n",
      "See the caveats in the documentation: http://pandas.pydata.org/pandas-docs/stable/indexing.html#indexing-view-versus-copy\n",
      "  self._update_inplace(new_data)\n"
     ]
    }
   ],
   "source": [
    "X_train.Embarked.fillna(\"unknown\", inplace=True)\n",
    "X_test.Embarked.fillna(\"unknown\", inplace=True)"
   ]
  },
  {
   "cell_type": "code",
   "execution_count": null,
   "metadata": {},
   "outputs": [],
   "source": []
  },
  {
   "cell_type": "markdown",
   "metadata": {},
   "source": [
    "Now let's try this on the Embarked column"
   ]
  },
  {
   "cell_type": "code",
   "execution_count": 15,
   "metadata": {},
   "outputs": [
    {
     "data": {
      "text/plain": [
       "array([1, 2, 2, 0, 0, 2, 2, 0, 2, 2, 1, 2, 0, 2, 2, 2, 2, 2, 1, 2, 2, 0,\n",
       "       2, 2, 2, 1, 2, 0, 2, 2, 2, 1, 0, 0, 0, 2, 2, 1, 2, 0, 2, 2, 2, 2,\n",
       "       2, 2, 2, 0, 2, 2, 2, 2, 2, 2, 2, 2, 2, 2, 2, 2, 0, 0, 2, 2, 2, 2,\n",
       "       1, 2, 2, 0, 1, 2, 2, 2, 0, 1, 2, 2, 0, 2, 2, 2, 0, 2, 2, 0, 2, 1,\n",
       "       2, 0, 1, 2, 2, 2, 0, 2, 2, 0, 2, 2, 2, 2, 2, 2, 0, 2, 2, 2, 2, 2,\n",
       "       0, 0, 2, 1, 0, 2, 1, 2, 2, 0, 2, 2, 0, 1, 1, 2, 2, 2, 0, 0, 2, 0,\n",
       "       2, 2, 0, 2, 0, 1, 0, 2, 2, 1, 2, 2, 1, 2, 2, 2, 2, 2, 0, 2, 2, 2,\n",
       "       2, 1, 2, 0, 2, 0, 2, 2, 2, 2, 0, 2, 2, 1, 2, 2, 2, 2, 2, 2, 2, 0,\n",
       "       1, 1, 2, 2, 2, 0, 2, 2, 1, 2, 2, 2, 0, 2, 2, 2, 2, 2, 2, 0, 2, 3,\n",
       "       2, 2, 2, 2, 2, 2, 2, 2, 2, 1, 0, 0, 2, 2, 2, 2, 2, 2, 2, 2, 2, 0,\n",
       "       2, 0, 2, 2, 2, 2, 1, 0, 2, 2, 0, 2, 2, 2, 1, 2, 0, 2, 2, 2, 2, 2,\n",
       "       0, 2, 2, 2, 0, 2, 1, 0, 2, 1, 2, 2, 2, 2, 2, 0, 1, 2, 2, 2, 0, 2,\n",
       "       2, 0, 2, 0, 2, 0, 0, 2, 2, 2, 2, 2, 0, 2, 2, 0, 2, 2, 0, 2, 2, 2,\n",
       "       2, 2, 1, 2, 2, 2, 1, 2, 0, 2, 0, 2, 2, 0, 2, 2, 2, 0, 2, 2, 2, 2,\n",
       "       2, 2, 2, 0, 2, 2, 0, 2, 2, 2, 2, 2, 2, 0, 2, 2, 2, 2, 2, 2, 0, 0,\n",
       "       2, 1, 0, 2, 2, 2, 2, 0, 2, 2, 2, 0, 1, 2, 2, 2, 2, 2, 2, 2, 0, 1,\n",
       "       2, 0, 2, 2, 2, 2, 2, 2, 2, 2, 1, 2, 2, 2, 2, 0, 2, 2, 2, 2, 0, 2,\n",
       "       2, 2, 2, 1, 2, 2, 2, 1, 2, 2, 2, 0, 2, 1, 2, 2, 2, 2, 2, 1, 2, 2,\n",
       "       2, 2, 2, 2, 2, 2, 0, 0, 2, 2, 2, 2, 2, 2, 2, 2, 2, 2, 2, 0, 0, 1,\n",
       "       0, 0, 2, 2, 0, 2, 2, 1, 0, 2, 2, 2, 2, 2, 2, 2, 2, 2, 2, 2, 2, 0,\n",
       "       0, 2, 2, 0, 2, 2, 2, 2, 2, 2, 2, 2, 2, 1, 2, 2, 0, 1, 2, 2, 2, 2,\n",
       "       2, 2, 0, 0, 2, 2, 2, 0, 2, 0, 2, 2, 2, 2, 2, 2, 2, 2, 0, 0, 2, 2,\n",
       "       2, 0, 0, 2, 2, 0, 2, 2, 2, 0, 0, 1, 1, 2, 2, 2, 0, 2, 2, 2, 2, 2,\n",
       "       2, 2, 0, 2, 2, 2, 2, 0, 2, 0, 0, 2, 2, 2, 2, 2, 1, 2, 2, 0, 0, 2,\n",
       "       2, 2, 2, 2, 2, 2, 2, 2, 2, 2, 2, 2, 0, 2, 2, 2, 1, 2, 0, 0, 2, 0,\n",
       "       0, 2, 2, 2, 2, 2, 2, 2, 0, 2, 0, 1, 2, 2, 0, 0, 2, 2, 2, 2, 2, 2,\n",
       "       2, 2, 2, 0, 2, 1, 3, 2, 0, 2, 2, 2, 1, 2, 2, 0, 1, 2, 2, 2, 2, 0,\n",
       "       2, 2])"
      ]
     },
     "execution_count": 15,
     "metadata": {},
     "output_type": "execute_result"
    }
   ],
   "source": [
    "\n",
    "#Intialize LabelEncoder\n",
    "le = LabelEncoder()\n",
    "\n",
    "\n",
    "#Pass Embarked column into le object\n",
    "emb_encoded = le.fit_transform(X_train.Embarked)\n",
    "\n",
    "#Look at first twenty rows\n",
    "emb_encoded"
   ]
  },
  {
   "cell_type": "code",
   "execution_count": null,
   "metadata": {},
   "outputs": [],
   "source": []
  },
  {
   "cell_type": "code",
   "execution_count": 16,
   "metadata": {},
   "outputs": [
    {
     "data": {
      "text/plain": [
       "array(['C', 'Q', 'S', 'unknown'], dtype=object)"
      ]
     },
     "execution_count": 16,
     "metadata": {},
     "output_type": "execute_result"
    }
   ],
   "source": [
    "# Call .classes_ to see the original object values\n",
    "le.classes_"
   ]
  },
  {
   "cell_type": "code",
   "execution_count": null,
   "metadata": {},
   "outputs": [],
   "source": []
  },
  {
   "cell_type": "code",
   "execution_count": 19,
   "metadata": {},
   "outputs": [
    {
     "data": {
      "text/plain": [
       "array([2, 2, 2, 2, 0, 2, 2, 2, 2, 2, 2, 2, 2, 2, 0, 2, 2, 0, 0, 2, 2, 2,\n",
       "       2, 1, 2, 2, 0, 2, 2, 2, 2, 2, 2, 2, 2, 2, 1, 2, 2, 1, 2, 0, 2, 2,\n",
       "       2, 0, 2, 0, 2, 2, 2, 0, 2, 0, 2, 2, 2, 0, 2, 2, 0, 1, 0, 2, 2, 2,\n",
       "       2, 2, 2, 2, 2, 0, 2, 2, 2, 2, 1, 2, 2, 2, 0, 2, 2, 1, 2, 0, 2, 2,\n",
       "       2, 2, 0, 2, 2, 2, 2, 2, 0, 2, 2, 2, 0, 2, 2, 1, 2, 2, 2, 2, 0, 2,\n",
       "       0, 2, 0, 2, 2, 1, 2, 0, 2, 2, 0, 2, 1, 1, 2, 0, 2, 0, 1, 2, 2, 0,\n",
       "       2, 0, 2, 2, 0, 2, 0, 2, 0, 1, 2, 1, 2, 2, 2, 2, 2, 2, 0, 2, 1, 2,\n",
       "       2, 2, 2, 2, 0, 2, 2, 2, 2, 2, 0, 2, 2, 2, 2, 2, 1, 2, 2, 2, 2, 2,\n",
       "       2, 2, 2, 1, 2, 2, 1, 2, 0, 2, 0, 2, 2, 2, 2, 2, 1, 2, 2, 2, 2, 2,\n",
       "       2, 0, 2, 2, 2, 2, 1, 2, 2, 2, 2, 2, 0, 0, 0, 2, 2, 2, 0, 2, 2, 2,\n",
       "       2, 2, 2, 2, 2, 2, 2, 2, 2, 2, 2, 2, 2, 2, 2, 0, 2, 2, 2, 1, 2, 2,\n",
       "       2, 1, 2, 2, 2, 2, 2, 0, 2, 2, 1, 2, 2, 0, 0, 2, 2, 2, 2, 2, 2, 2,\n",
       "       2, 2, 2, 2, 2, 2, 2, 2, 1, 2, 1, 2, 2, 2, 0, 2, 2, 0, 2, 2, 2, 2,\n",
       "       2, 0, 2, 2, 1, 1, 2, 2, 2])"
      ]
     },
     "execution_count": 19,
     "metadata": {},
     "output_type": "execute_result"
    }
   ],
   "source": [
    "#Transform the embarked class of the testing dataset\n",
    "emb_encoded_test = le.transform(X_test.Embarked)\n",
    "\n",
    "emb_encoded_test"
   ]
  },
  {
   "cell_type": "code",
   "execution_count": 21,
   "metadata": {
    "scrolled": false
   },
   "outputs": [
    {
     "data": {
      "text/plain": [
       "350    S\n",
       "176    S\n",
       "723    S\n",
       "404    S\n",
       "306    C\n",
       "665    S\n",
       "607    S\n",
       "151    S\n",
       "265    S\n",
       "865    S\n",
       "408    S\n",
       "78     S\n",
       "200    S\n",
       "40     S\n",
       "709    C\n",
       "785    S\n",
       "876    S\n",
       "64     C\n",
       "852    C\n",
       "429    S\n",
       "193    S\n",
       "437    S\n",
       "35     S\n",
       "654    Q\n",
       "284    S\n",
       "101    S\n",
       "641    C\n",
       "744    S\n",
       "601    S\n",
       "56     S\n",
       "      ..\n",
       "649    S\n",
       "499    S\n",
       "820    S\n",
       "431    S\n",
       "619    S\n",
       "708    S\n",
       "809    S\n",
       "5      Q\n",
       "25     S\n",
       "468    Q\n",
       "736    S\n",
       "314    S\n",
       "856    S\n",
       "553    C\n",
       "635    S\n",
       "53     S\n",
       "329    C\n",
       "175    S\n",
       "472    S\n",
       "880    S\n",
       "883    S\n",
       "427    S\n",
       "1      C\n",
       "346    S\n",
       "327    S\n",
       "411    Q\n",
       "330    Q\n",
       "558    S\n",
       "799    S\n",
       "33     S\n",
       "Name: Embarked, Length: 295, dtype: object"
      ]
     },
     "execution_count": 21,
     "metadata": {},
     "output_type": "execute_result"
    }
   ],
   "source": [
    "#Look at original X_test.Embarked\n",
    "\n",
    "X_test.Embarked\n"
   ]
  },
  {
   "cell_type": "code",
   "execution_count": null,
   "metadata": {},
   "outputs": [],
   "source": []
  },
  {
   "cell_type": "code",
   "execution_count": 28,
   "metadata": {},
   "outputs": [
    {
     "data": {
      "text/plain": [
       "(596,)"
      ]
     },
     "execution_count": 28,
     "metadata": {},
     "output_type": "execute_result"
    }
   ],
   "source": [
    "emb_encoded.shape"
   ]
  },
  {
   "cell_type": "code",
   "execution_count": 29,
   "metadata": {},
   "outputs": [
    {
     "data": {
      "text/plain": [
       "(596, 1)"
      ]
     },
     "execution_count": 29,
     "metadata": {},
     "output_type": "execute_result"
    }
   ],
   "source": [
    "emb_encoded.reshape(-1,1).shape"
   ]
  },
  {
   "cell_type": "markdown",
   "metadata": {},
   "source": [
    "How to use the OneHotEncoder object"
   ]
  },
  {
   "cell_type": "code",
   "execution_count": 40,
   "metadata": {},
   "outputs": [
    {
     "data": {
      "text/html": [
       "<div>\n",
       "<style scoped>\n",
       "    .dataframe tbody tr th:only-of-type {\n",
       "        vertical-align: middle;\n",
       "    }\n",
       "\n",
       "    .dataframe tbody tr th {\n",
       "        vertical-align: top;\n",
       "    }\n",
       "\n",
       "    .dataframe thead th {\n",
       "        text-align: right;\n",
       "    }\n",
       "</style>\n",
       "<table border=\"1\" class=\"dataframe\">\n",
       "  <thead>\n",
       "    <tr style=\"text-align: right;\">\n",
       "      <th></th>\n",
       "      <th>C</th>\n",
       "      <th>Q</th>\n",
       "      <th>S</th>\n",
       "      <th>unknown</th>\n",
       "    </tr>\n",
       "  </thead>\n",
       "  <tbody>\n",
       "    <tr>\n",
       "      <th>0</th>\n",
       "      <td>0.0</td>\n",
       "      <td>1.0</td>\n",
       "      <td>0.0</td>\n",
       "      <td>0.0</td>\n",
       "    </tr>\n",
       "    <tr>\n",
       "      <th>1</th>\n",
       "      <td>0.0</td>\n",
       "      <td>0.0</td>\n",
       "      <td>1.0</td>\n",
       "      <td>0.0</td>\n",
       "    </tr>\n",
       "    <tr>\n",
       "      <th>2</th>\n",
       "      <td>0.0</td>\n",
       "      <td>0.0</td>\n",
       "      <td>1.0</td>\n",
       "      <td>0.0</td>\n",
       "    </tr>\n",
       "    <tr>\n",
       "      <th>3</th>\n",
       "      <td>1.0</td>\n",
       "      <td>0.0</td>\n",
       "      <td>0.0</td>\n",
       "      <td>0.0</td>\n",
       "    </tr>\n",
       "    <tr>\n",
       "      <th>4</th>\n",
       "      <td>1.0</td>\n",
       "      <td>0.0</td>\n",
       "      <td>0.0</td>\n",
       "      <td>0.0</td>\n",
       "    </tr>\n",
       "  </tbody>\n",
       "</table>\n",
       "</div>"
      ],
      "text/plain": [
       "     C    Q    S  unknown\n",
       "0  0.0  1.0  0.0      0.0\n",
       "1  0.0  0.0  1.0      0.0\n",
       "2  0.0  0.0  1.0      0.0\n",
       "3  1.0  0.0  0.0      0.0\n",
       "4  1.0  0.0  0.0      0.0"
      ]
     },
     "execution_count": 40,
     "metadata": {},
     "output_type": "execute_result"
    }
   ],
   "source": [
    "\n",
    "#Intialize object\n",
    "\n",
    "onehot = OneHotEncoder()\n",
    "\n",
    "\n",
    "#Fit and transform using the emb_encoded variable\n",
    "\n",
    "emb_onehot = onehot.fit_transform(emb_encoded.reshape(-1,1))\n",
    "\n",
    "\n",
    "#Look at emb_onehot\n",
    "\n",
    "# type(emb_onehot)\n",
    "# emb_onehot.toarray()\n",
    "pd.DataFrame(emb_onehot.toarray(), columns=le.classes_).head()\n"
   ]
  },
  {
   "cell_type": "code",
   "execution_count": 45,
   "metadata": {},
   "outputs": [
    {
     "data": {
      "text/html": [
       "<div>\n",
       "<style scoped>\n",
       "    .dataframe tbody tr th:only-of-type {\n",
       "        vertical-align: middle;\n",
       "    }\n",
       "\n",
       "    .dataframe tbody tr th {\n",
       "        vertical-align: top;\n",
       "    }\n",
       "\n",
       "    .dataframe thead th {\n",
       "        text-align: right;\n",
       "    }\n",
       "</style>\n",
       "<table border=\"1\" class=\"dataframe\">\n",
       "  <thead>\n",
       "    <tr style=\"text-align: right;\">\n",
       "      <th></th>\n",
       "      <th>C</th>\n",
       "      <th>Q</th>\n",
       "      <th>S</th>\n",
       "      <th>unknown</th>\n",
       "    </tr>\n",
       "  </thead>\n",
       "  <tbody>\n",
       "    <tr>\n",
       "      <th>0</th>\n",
       "      <td>0.0</td>\n",
       "      <td>0.0</td>\n",
       "      <td>1.0</td>\n",
       "      <td>0.0</td>\n",
       "    </tr>\n",
       "    <tr>\n",
       "      <th>1</th>\n",
       "      <td>0.0</td>\n",
       "      <td>0.0</td>\n",
       "      <td>1.0</td>\n",
       "      <td>0.0</td>\n",
       "    </tr>\n",
       "    <tr>\n",
       "      <th>2</th>\n",
       "      <td>0.0</td>\n",
       "      <td>0.0</td>\n",
       "      <td>1.0</td>\n",
       "      <td>0.0</td>\n",
       "    </tr>\n",
       "    <tr>\n",
       "      <th>3</th>\n",
       "      <td>0.0</td>\n",
       "      <td>0.0</td>\n",
       "      <td>1.0</td>\n",
       "      <td>0.0</td>\n",
       "    </tr>\n",
       "    <tr>\n",
       "      <th>4</th>\n",
       "      <td>1.0</td>\n",
       "      <td>0.0</td>\n",
       "      <td>0.0</td>\n",
       "      <td>0.0</td>\n",
       "    </tr>\n",
       "  </tbody>\n",
       "</table>\n",
       "</div>"
      ],
      "text/plain": [
       "     C    Q    S  unknown\n",
       "0  0.0  0.0  1.0      0.0\n",
       "1  0.0  0.0  1.0      0.0\n",
       "2  0.0  0.0  1.0      0.0\n",
       "3  0.0  0.0  1.0      0.0\n",
       "4  1.0  0.0  0.0      0.0"
      ]
     },
     "execution_count": 45,
     "metadata": {},
     "output_type": "execute_result"
    }
   ],
   "source": [
    "#Transform emb_encoded_test using onehot object\n",
    "\n",
    "emb_onehot_test = onehot.transform(emb_encoded_test.reshape(-1, 1))\n",
    "\n",
    "emb_onehot_test_df = pd.DataFrame(emb_onehot_test.toarray(), columns=le.classes_)\n",
    "emb_onehot_test_df.head()"
   ]
  },
  {
   "cell_type": "code",
   "execution_count": null,
   "metadata": {},
   "outputs": [],
   "source": []
  },
  {
   "cell_type": "code",
   "execution_count": null,
   "metadata": {},
   "outputs": [],
   "source": []
  },
  {
   "cell_type": "markdown",
   "metadata": {},
   "source": [
    "We can also use the LabelBinarizer to do this as well"
   ]
  },
  {
   "cell_type": "code",
   "execution_count": 48,
   "metadata": {},
   "outputs": [
    {
     "data": {
      "text/plain": [
       "array([[0, 1, 0, 0],\n",
       "       [0, 0, 1, 0],\n",
       "       [0, 0, 1, 0],\n",
       "       ...,\n",
       "       [1, 0, 0, 0],\n",
       "       [0, 0, 1, 0],\n",
       "       [0, 0, 1, 0]])"
      ]
     },
     "execution_count": 48,
     "metadata": {},
     "output_type": "execute_result"
    }
   ],
   "source": [
    "\n",
    "#Intialize LabelBinarizer\n",
    "lb = LabelBinarizer() \n",
    "\n",
    "\n",
    "#Fit and transform on the Embarked column of the training dataset\n",
    "\n",
    "bin_data = lb.fit_transform(X_train.Embarked)\n",
    "\n",
    "#Fill nans with unknown\n",
    "bin_data\n"
   ]
  },
  {
   "cell_type": "code",
   "execution_count": 49,
   "metadata": {},
   "outputs": [
    {
     "data": {
      "text/plain": [
       "array(['C', 'Q', 'S', 'unknown'], dtype='<U7')"
      ]
     },
     "execution_count": 49,
     "metadata": {},
     "output_type": "execute_result"
    }
   ],
   "source": [
    "#Look at the class or column values\n",
    "\n",
    "lb.classes_\n"
   ]
  },
  {
   "cell_type": "code",
   "execution_count": null,
   "metadata": {},
   "outputs": [],
   "source": []
  },
  {
   "cell_type": "code",
   "execution_count": 50,
   "metadata": {},
   "outputs": [
    {
     "data": {
      "text/plain": [
       "array([[0, 0, 1, 0],\n",
       "       [0, 0, 1, 0],\n",
       "       [0, 0, 1, 0],\n",
       "       ...,\n",
       "       [0, 0, 1, 0],\n",
       "       [0, 0, 1, 0],\n",
       "       [0, 0, 1, 0]])"
      ]
     },
     "execution_count": 50,
     "metadata": {},
     "output_type": "execute_result"
    }
   ],
   "source": [
    "#Transform the testing data using lb\n",
    "\n",
    "bin_data_test = lb.transform(X_test.Embarked)\n",
    "bin_data_test"
   ]
  },
  {
   "cell_type": "code",
   "execution_count": null,
   "metadata": {},
   "outputs": [],
   "source": []
  },
  {
   "cell_type": "code",
   "execution_count": null,
   "metadata": {},
   "outputs": [],
   "source": []
  },
  {
   "cell_type": "markdown",
   "metadata": {},
   "source": [
    "You may be asking yourself \"Why use this instead of pd.get_dummies?\"\n",
    "\n",
    "That's because testing data or any other new you want to use may not have the same values in their categorical columns."
   ]
  },
  {
   "cell_type": "code",
   "execution_count": 51,
   "metadata": {},
   "outputs": [
    {
     "data": {
      "text/plain": [
       "array([[0, 0, 1, 0],\n",
       "       [0, 0, 1, 0],\n",
       "       [0, 0, 1, 0],\n",
       "       [0, 0, 1, 0],\n",
       "       [0, 0, 1, 0],\n",
       "       [0, 0, 1, 0],\n",
       "       [0, 0, 1, 0],\n",
       "       [0, 0, 1, 0],\n",
       "       [0, 0, 1, 0],\n",
       "       [0, 0, 1, 0],\n",
       "       [0, 0, 1, 0],\n",
       "       [0, 0, 1, 0],\n",
       "       [0, 0, 1, 0],\n",
       "       [0, 0, 1, 0],\n",
       "       [0, 0, 1, 0],\n",
       "       [0, 0, 1, 0],\n",
       "       [0, 0, 1, 0],\n",
       "       [0, 0, 1, 0],\n",
       "       [0, 0, 1, 0],\n",
       "       [0, 1, 0, 0],\n",
       "       [0, 0, 1, 0],\n",
       "       [0, 0, 1, 0],\n",
       "       [0, 0, 1, 0],\n",
       "       [0, 0, 1, 0],\n",
       "       [0, 0, 1, 0],\n",
       "       [0, 0, 1, 0],\n",
       "       [0, 0, 1, 0],\n",
       "       [0, 0, 1, 0],\n",
       "       [0, 0, 1, 0],\n",
       "       [0, 0, 1, 0],\n",
       "       [0, 0, 1, 0],\n",
       "       [0, 1, 0, 0],\n",
       "       [0, 0, 1, 0],\n",
       "       [0, 0, 1, 0],\n",
       "       [0, 1, 0, 0],\n",
       "       [0, 0, 1, 0],\n",
       "       [0, 0, 1, 0],\n",
       "       [0, 0, 1, 0],\n",
       "       [0, 0, 1, 0],\n",
       "       [0, 0, 1, 0],\n",
       "       [0, 0, 1, 0],\n",
       "       [0, 0, 1, 0],\n",
       "       [0, 0, 1, 0],\n",
       "       [0, 0, 1, 0],\n",
       "       [0, 0, 1, 0],\n",
       "       [0, 0, 1, 0],\n",
       "       [0, 0, 1, 0],\n",
       "       [0, 0, 1, 0],\n",
       "       [0, 0, 1, 0],\n",
       "       [0, 1, 0, 0],\n",
       "       [0, 0, 1, 0],\n",
       "       [0, 0, 1, 0],\n",
       "       [0, 0, 1, 0],\n",
       "       [0, 0, 1, 0],\n",
       "       [0, 0, 1, 0],\n",
       "       [0, 0, 1, 0],\n",
       "       [0, 0, 1, 0],\n",
       "       [0, 0, 1, 0],\n",
       "       [0, 0, 1, 0],\n",
       "       [0, 0, 1, 0],\n",
       "       [0, 0, 1, 0],\n",
       "       [0, 0, 1, 0],\n",
       "       [0, 1, 0, 0],\n",
       "       [0, 0, 1, 0],\n",
       "       [0, 0, 1, 0],\n",
       "       [0, 0, 1, 0],\n",
       "       [0, 0, 1, 0],\n",
       "       [0, 0, 1, 0],\n",
       "       [0, 1, 0, 0],\n",
       "       [0, 0, 1, 0],\n",
       "       [0, 0, 1, 0],\n",
       "       [0, 0, 1, 0],\n",
       "       [0, 0, 1, 0],\n",
       "       [0, 0, 1, 0],\n",
       "       [0, 0, 1, 0],\n",
       "       [0, 0, 1, 0],\n",
       "       [0, 0, 1, 0],\n",
       "       [0, 0, 1, 0],\n",
       "       [0, 0, 1, 0],\n",
       "       [0, 0, 1, 0],\n",
       "       [0, 0, 1, 0],\n",
       "       [0, 0, 1, 0],\n",
       "       [0, 0, 1, 0],\n",
       "       [0, 0, 1, 0],\n",
       "       [0, 1, 0, 0],\n",
       "       [0, 0, 1, 0],\n",
       "       [0, 0, 1, 0],\n",
       "       [0, 0, 1, 0],\n",
       "       [0, 0, 1, 0],\n",
       "       [0, 0, 1, 0],\n",
       "       [0, 0, 1, 0],\n",
       "       [0, 0, 1, 0],\n",
       "       [0, 0, 1, 0],\n",
       "       [0, 1, 0, 0],\n",
       "       [0, 0, 1, 0],\n",
       "       [0, 0, 1, 0],\n",
       "       [0, 0, 1, 0],\n",
       "       [0, 0, 1, 0],\n",
       "       [0, 1, 0, 0],\n",
       "       [0, 1, 0, 0],\n",
       "       [0, 0, 1, 0],\n",
       "       [0, 0, 1, 0],\n",
       "       [0, 1, 0, 0],\n",
       "       [0, 0, 1, 0],\n",
       "       [0, 0, 1, 0],\n",
       "       [0, 0, 1, 0],\n",
       "       [0, 0, 1, 0],\n",
       "       [0, 0, 1, 0],\n",
       "       [0, 0, 1, 0],\n",
       "       [0, 0, 1, 0],\n",
       "       [0, 1, 0, 0],\n",
       "       [0, 0, 1, 0],\n",
       "       [0, 1, 0, 0],\n",
       "       [0, 0, 1, 0],\n",
       "       [0, 0, 1, 0],\n",
       "       [0, 0, 1, 0],\n",
       "       [0, 0, 1, 0],\n",
       "       [0, 0, 1, 0],\n",
       "       [0, 0, 1, 0],\n",
       "       [0, 0, 1, 0],\n",
       "       [0, 1, 0, 0],\n",
       "       [0, 0, 1, 0],\n",
       "       [0, 0, 1, 0],\n",
       "       [0, 0, 1, 0],\n",
       "       [0, 0, 1, 0],\n",
       "       [0, 0, 1, 0],\n",
       "       [0, 0, 1, 0],\n",
       "       [0, 0, 1, 0],\n",
       "       [0, 0, 1, 0],\n",
       "       [0, 0, 1, 0],\n",
       "       [0, 0, 1, 0],\n",
       "       [0, 0, 1, 0],\n",
       "       [0, 0, 1, 0],\n",
       "       [0, 0, 1, 0],\n",
       "       [0, 0, 1, 0],\n",
       "       [0, 0, 1, 0],\n",
       "       [0, 1, 0, 0],\n",
       "       [0, 0, 1, 0],\n",
       "       [0, 0, 1, 0],\n",
       "       [0, 0, 1, 0],\n",
       "       [0, 0, 1, 0],\n",
       "       [0, 0, 1, 0],\n",
       "       [0, 0, 1, 0],\n",
       "       [0, 0, 1, 0],\n",
       "       [0, 0, 1, 0],\n",
       "       [0, 1, 0, 0],\n",
       "       [0, 0, 1, 0],\n",
       "       [0, 0, 1, 0],\n",
       "       [0, 1, 0, 0],\n",
       "       [0, 0, 1, 0],\n",
       "       [0, 0, 1, 0],\n",
       "       [0, 0, 1, 0],\n",
       "       [0, 0, 1, 0],\n",
       "       [0, 0, 1, 0],\n",
       "       [0, 0, 1, 0],\n",
       "       [0, 0, 1, 0],\n",
       "       [0, 1, 0, 0],\n",
       "       [0, 0, 1, 0],\n",
       "       [0, 0, 1, 0],\n",
       "       [0, 0, 1, 0],\n",
       "       [0, 0, 1, 0],\n",
       "       [0, 0, 1, 0],\n",
       "       [0, 0, 1, 0],\n",
       "       [0, 0, 1, 0],\n",
       "       [0, 0, 1, 0],\n",
       "       [0, 0, 1, 0],\n",
       "       [0, 0, 1, 0],\n",
       "       [0, 1, 0, 0],\n",
       "       [0, 0, 1, 0],\n",
       "       [0, 0, 1, 0],\n",
       "       [0, 0, 1, 0],\n",
       "       [0, 0, 1, 0],\n",
       "       [0, 0, 1, 0],\n",
       "       [0, 0, 1, 0],\n",
       "       [0, 0, 1, 0],\n",
       "       [0, 0, 1, 0],\n",
       "       [0, 0, 1, 0],\n",
       "       [0, 0, 1, 0],\n",
       "       [0, 0, 1, 0],\n",
       "       [0, 0, 1, 0],\n",
       "       [0, 0, 1, 0],\n",
       "       [0, 0, 1, 0],\n",
       "       [0, 0, 1, 0],\n",
       "       [0, 0, 1, 0],\n",
       "       [0, 0, 1, 0],\n",
       "       [0, 0, 1, 0],\n",
       "       [0, 0, 1, 0],\n",
       "       [0, 0, 1, 0],\n",
       "       [0, 0, 1, 0],\n",
       "       [0, 0, 1, 0],\n",
       "       [0, 0, 1, 0],\n",
       "       [0, 0, 1, 0],\n",
       "       [0, 0, 1, 0],\n",
       "       [0, 0, 1, 0],\n",
       "       [0, 0, 1, 0],\n",
       "       [0, 0, 1, 0],\n",
       "       [0, 0, 1, 0],\n",
       "       [0, 1, 0, 0],\n",
       "       [0, 0, 1, 0],\n",
       "       [0, 0, 1, 0],\n",
       "       [0, 0, 1, 0],\n",
       "       [0, 1, 0, 0],\n",
       "       [0, 0, 1, 0],\n",
       "       [0, 0, 1, 0],\n",
       "       [0, 0, 1, 0],\n",
       "       [0, 0, 1, 0],\n",
       "       [0, 0, 1, 0],\n",
       "       [0, 0, 1, 0],\n",
       "       [0, 0, 1, 0],\n",
       "       [0, 1, 0, 0],\n",
       "       [0, 0, 1, 0],\n",
       "       [0, 0, 1, 0],\n",
       "       [0, 0, 1, 0],\n",
       "       [0, 0, 1, 0],\n",
       "       [0, 0, 1, 0],\n",
       "       [0, 0, 1, 0],\n",
       "       [0, 0, 1, 0],\n",
       "       [0, 0, 1, 0],\n",
       "       [0, 0, 1, 0],\n",
       "       [0, 0, 1, 0],\n",
       "       [0, 0, 1, 0],\n",
       "       [0, 0, 1, 0],\n",
       "       [0, 0, 1, 0],\n",
       "       [0, 0, 1, 0],\n",
       "       [0, 0, 1, 0],\n",
       "       [0, 0, 1, 0],\n",
       "       [0, 0, 1, 0],\n",
       "       [0, 1, 0, 0],\n",
       "       [0, 0, 1, 0],\n",
       "       [0, 1, 0, 0],\n",
       "       [0, 0, 1, 0],\n",
       "       [0, 0, 1, 0],\n",
       "       [0, 0, 1, 0],\n",
       "       [0, 0, 1, 0],\n",
       "       [0, 0, 1, 0],\n",
       "       [0, 0, 1, 0],\n",
       "       [0, 0, 1, 0],\n",
       "       [0, 0, 1, 0],\n",
       "       [0, 0, 1, 0],\n",
       "       [0, 0, 1, 0],\n",
       "       [0, 0, 1, 0],\n",
       "       [0, 0, 1, 0],\n",
       "       [0, 1, 0, 0],\n",
       "       [0, 1, 0, 0],\n",
       "       [0, 0, 1, 0],\n",
       "       [0, 0, 1, 0],\n",
       "       [0, 0, 1, 0]])"
      ]
     },
     "execution_count": 51,
     "metadata": {},
     "output_type": "execute_result"
    }
   ],
   "source": [
    "#Create new dataset from X_test where there is no C value in the Embarked column\n",
    "X_test2 = X_test[X_test.Embarked != \"C\"]\n",
    "\n",
    "\n",
    "#Transform the Embarked column from  X_test2 using the LabelBinarizer\n",
    "\n",
    "lb.transform(X_test2.Embarked)\n"
   ]
  },
  {
   "cell_type": "markdown",
   "metadata": {},
   "source": [
    "This returns a 0 for every value under the C column. Using pd.get_dummies we would have three columns instead of four. This is important because when you fit you model using the training data and then make predictions using the testing data, the model won't work if your testing and training data don't have the same number of columns."
   ]
  },
  {
   "cell_type": "code",
   "execution_count": null,
   "metadata": {},
   "outputs": [],
   "source": []
  },
  {
   "cell_type": "code",
   "execution_count": null,
   "metadata": {},
   "outputs": [],
   "source": []
  },
  {
   "cell_type": "markdown",
   "metadata": {},
   "source": [
    "In conclusion:\n",
    "\n",
    "![e](https://chrisalbon.com/images/machine_learning_flashcards/One-Hot_Encoding_print.png)"
   ]
  },
  {
   "cell_type": "code",
   "execution_count": null,
   "metadata": {},
   "outputs": [],
   "source": []
  },
  {
   "cell_type": "markdown",
   "metadata": {},
   "source": [
    "## Grid Search and Pipelines"
   ]
  },
  {
   "cell_type": "markdown",
   "metadata": {},
   "source": [
    "Algorithm that tests every combination of model parameters to find the best one.\n",
    "\n",
    "Let's use GridSearch to find the best K value for a KNN model and Spotify data"
   ]
  },
  {
   "cell_type": "code",
   "execution_count": 52,
   "metadata": {},
   "outputs": [],
   "source": [
    "#Load in spotify data and assign X/y\n",
    "spotify = pd.read_csv(\"../../data/spotify_data.csv\", index_col=[0])\n",
    "\n",
    "X = spotify.drop(\"target\", axis = 1)\n",
    "y = spotify.target"
   ]
  },
  {
   "cell_type": "code",
   "execution_count": 65,
   "metadata": {},
   "outputs": [
    {
     "data": {
      "text/plain": [
       "{'n_neighbors': [1,\n",
       "  3,\n",
       "  5,\n",
       "  7,\n",
       "  9,\n",
       "  11,\n",
       "  13,\n",
       "  15,\n",
       "  17,\n",
       "  19,\n",
       "  21,\n",
       "  23,\n",
       "  25,\n",
       "  27,\n",
       "  29,\n",
       "  31,\n",
       "  33,\n",
       "  35,\n",
       "  37,\n",
       "  39,\n",
       "  41,\n",
       "  43,\n",
       "  45,\n",
       "  47,\n",
       "  49]}"
      ]
     },
     "execution_count": 65,
     "metadata": {},
     "output_type": "execute_result"
    }
   ],
   "source": [
    "#Intialize parameter grid\n",
    "\n",
    "#Range of neighbors to test\n",
    "\n",
    "neighnors_range = list(range(1, 50, 2))\n",
    "\n",
    "#Dictionary of parameter values \n",
    "param_grid_knn = {}\n",
    "param_grid_knn['n_neighbors']=neighnors_range\n",
    "param_grid_knn"
   ]
  },
  {
   "cell_type": "code",
   "execution_count": 66,
   "metadata": {},
   "outputs": [
    {
     "data": {
      "text/plain": [
       "GridSearchCV(cv=5, error_score='raise',\n",
       "       estimator=KNeighborsClassifier(algorithm='auto', leaf_size=30, metric='minkowski',\n",
       "           metric_params=None, n_jobs=1, n_neighbors=5, p=2,\n",
       "           weights='uniform'),\n",
       "       fit_params={}, iid=True, n_jobs=1,\n",
       "       param_grid={'n_neighbors': [1, 3, 5, 7, 9, 11, 13, 15, 17, 19, 21, 23, 25, 27, 29, 31, 33, 35, 37, 39, 41, 43, 45, 47, 49]},\n",
       "       pre_dispatch='2*n_jobs', refit=True, scoring='accuracy', verbose=0)"
      ]
     },
     "execution_count": 66,
     "metadata": {},
     "output_type": "execute_result"
    }
   ],
   "source": [
    "#Intialize Grid\n",
    "\n",
    "grid_knn = GridSearchCV(KNeighborsClassifier(), param_grid_knn, scoring='accuracy', cv=5)\n",
    "\n",
    "\n",
    "#Fit grid on data\n",
    "grid_knn.fit(X, y)\n"
   ]
  },
  {
   "cell_type": "code",
   "execution_count": 68,
   "metadata": {},
   "outputs": [
    {
     "data": {
      "text/plain": [
       "0.691125433812593"
      ]
     },
     "execution_count": 68,
     "metadata": {},
     "output_type": "execute_result"
    }
   ],
   "source": [
    "grid_knn.score(X, y)"
   ]
  },
  {
   "cell_type": "code",
   "execution_count": 70,
   "metadata": {},
   "outputs": [
    {
     "data": {
      "text/plain": [
       "[mean: 0.56668, std: 0.03445, params: {'n_neighbors': 1},\n",
       " mean: 0.58404, std: 0.04995, params: {'n_neighbors': 3},\n",
       " mean: 0.58007, std: 0.05479, params: {'n_neighbors': 5},\n",
       " mean: 0.57759, std: 0.05078, params: {'n_neighbors': 7},\n",
       " mean: 0.58999, std: 0.05879, params: {'n_neighbors': 9},\n",
       " mean: 0.60337, std: 0.06452, params: {'n_neighbors': 11},\n",
       " mean: 0.59891, std: 0.05833, params: {'n_neighbors': 13},\n",
       " mean: 0.60089, std: 0.05880, params: {'n_neighbors': 15},\n",
       " mean: 0.59841, std: 0.05767, params: {'n_neighbors': 17},\n",
       " mean: 0.60139, std: 0.05741, params: {'n_neighbors': 19},\n",
       " mean: 0.60783, std: 0.05533, params: {'n_neighbors': 21},\n",
       " mean: 0.60337, std: 0.05728, params: {'n_neighbors': 23},\n",
       " mean: 0.60635, std: 0.05986, params: {'n_neighbors': 25},\n",
       " mean: 0.60486, std: 0.06027, params: {'n_neighbors': 27},\n",
       " mean: 0.61180, std: 0.05100, params: {'n_neighbors': 29},\n",
       " mean: 0.60040, std: 0.05144, params: {'n_neighbors': 31},\n",
       " mean: 0.60288, std: 0.04893, params: {'n_neighbors': 33},\n",
       " mean: 0.60040, std: 0.04946, params: {'n_neighbors': 35},\n",
       " mean: 0.60238, std: 0.05149, params: {'n_neighbors': 37},\n",
       " mean: 0.60436, std: 0.04751, params: {'n_neighbors': 39},\n",
       " mean: 0.60040, std: 0.04503, params: {'n_neighbors': 41},\n",
       " mean: 0.59941, std: 0.05189, params: {'n_neighbors': 43},\n",
       " mean: 0.60288, std: 0.04688, params: {'n_neighbors': 45},\n",
       " mean: 0.60288, std: 0.04882, params: {'n_neighbors': 47},\n",
       " mean: 0.60436, std: 0.04793, params: {'n_neighbors': 49}]"
      ]
     },
     "execution_count": 70,
     "metadata": {},
     "output_type": "execute_result"
    }
   ],
   "source": [
    "#View scores\n",
    "\n",
    "grid_knn.grid_scores_"
   ]
  },
  {
   "cell_type": "code",
   "execution_count": 73,
   "metadata": {},
   "outputs": [
    {
     "ename": "TypeError",
     "evalue": "'list' object is not callable",
     "output_type": "error",
     "traceback": [
      "\u001b[0;31m---------------------------------------------------------------------------\u001b[0m",
      "\u001b[0;31mTypeError\u001b[0m                                 Traceback (most recent call last)",
      "\u001b[0;32m<ipython-input-73-2ef7a269de24>\u001b[0m in \u001b[0;36m<module>\u001b[0;34m()\u001b[0m\n\u001b[0;32m----> 1\u001b[0;31m \u001b[0mnp\u001b[0m\u001b[0;34m.\u001b[0m\u001b[0mmean\u001b[0m\u001b[0;34m(\u001b[0m\u001b[0mgrid_knn\u001b[0m\u001b[0;34m.\u001b[0m\u001b[0mgrid_scores_\u001b[0m\u001b[0;34m(\u001b[0m\u001b[0;34m)\u001b[0m\u001b[0;34m)\u001b[0m\u001b[0;34m\u001b[0m\u001b[0m\n\u001b[0m",
      "\u001b[0;31mTypeError\u001b[0m: 'list' object is not callable"
     ]
    }
   ],
   "source": [
    "# np.mean(grid_knn.grid_scores_())\n"
   ]
  },
  {
   "cell_type": "code",
   "execution_count": 74,
   "metadata": {},
   "outputs": [
    {
     "data": {
      "text/plain": [
       "0.6117997025285077"
      ]
     },
     "execution_count": 74,
     "metadata": {},
     "output_type": "execute_result"
    }
   ],
   "source": [
    "#Whats the best cross validated accuracy score\n",
    "\n",
    "grid_knn.best_score_"
   ]
  },
  {
   "cell_type": "code",
   "execution_count": 75,
   "metadata": {},
   "outputs": [
    {
     "data": {
      "text/plain": [
       "{'n_neighbors': 29}"
      ]
     },
     "execution_count": 75,
     "metadata": {},
     "output_type": "execute_result"
    }
   ],
   "source": [
    "#Find the best parameters\n",
    "\n",
    "grid_knn.best_params_"
   ]
  },
  {
   "cell_type": "code",
   "execution_count": 76,
   "metadata": {},
   "outputs": [
    {
     "data": {
      "text/plain": [
       "KNeighborsClassifier(algorithm='auto', leaf_size=30, metric='minkowski',\n",
       "           metric_params=None, n_jobs=1, n_neighbors=29, p=2,\n",
       "           weights='uniform')"
      ]
     },
     "execution_count": 76,
     "metadata": {},
     "output_type": "execute_result"
    }
   ],
   "source": [
    "grid_knn.best_estimator_"
   ]
  },
  {
   "cell_type": "code",
   "execution_count": null,
   "metadata": {},
   "outputs": [],
   "source": []
  },
  {
   "cell_type": "markdown",
   "metadata": {},
   "source": [
    "This simple technique gives us the best K value.\n",
    "\n",
    "We can use the best model from grid_knn to make predictions."
   ]
  },
  {
   "cell_type": "code",
   "execution_count": 78,
   "metadata": {},
   "outputs": [
    {
     "data": {
      "text/plain": [
       "array([1])"
      ]
     },
     "execution_count": 78,
     "metadata": {},
     "output_type": "execute_result"
    }
   ],
   "source": [
    "#Input \n",
    "x = [[0.2, .15, 0.68, 0.05, 0.328]]\n",
    "\n",
    "#Make prediction \n",
    "\n",
    "grid_knn.predict(x)"
   ]
  },
  {
   "cell_type": "code",
   "execution_count": 82,
   "metadata": {},
   "outputs": [
    {
     "data": {
      "text/plain": [
       "array([[0.13793103, 0.86206897]])"
      ]
     },
     "execution_count": 82,
     "metadata": {},
     "output_type": "execute_result"
    }
   ],
   "source": [
    "#Proability\n",
    "\n",
    "grid_knn.predict_proba(x)"
   ]
  },
  {
   "cell_type": "code",
   "execution_count": null,
   "metadata": {},
   "outputs": [],
   "source": []
  },
  {
   "cell_type": "code",
   "execution_count": null,
   "metadata": {},
   "outputs": [],
   "source": []
  },
  {
   "cell_type": "code",
   "execution_count": null,
   "metadata": {},
   "outputs": [],
   "source": []
  },
  {
   "cell_type": "code",
   "execution_count": 87,
   "metadata": {},
   "outputs": [
    {
     "data": {
      "text/plain": [
       "{'max_depth': [2, 3, 4, 5, 6, 7, 8, 9, 10, 11, 12, 13, 14, 15, 16, 17, 18, 19]}"
      ]
     },
     "execution_count": 87,
     "metadata": {},
     "output_type": "execute_result"
    }
   ],
   "source": [
    "\n",
    "\n",
    "#Range of neighbors to test\n",
    "depths_range = range(2, 20)\n",
    "\n",
    "#Dictionary of parameter values \n",
    "param_grid_dt = {}\n",
    "param_grid_dt['max_depth']=list(depths_range)\n",
    "param_grid_dt"
   ]
  },
  {
   "cell_type": "code",
   "execution_count": 88,
   "metadata": {},
   "outputs": [
    {
     "data": {
      "text/plain": [
       "GridSearchCV(cv=5, error_score='raise',\n",
       "       estimator=DecisionTreeClassifier(class_weight=None, criterion='gini', max_depth=None,\n",
       "            max_features=None, max_leaf_nodes=None,\n",
       "            min_impurity_decrease=0.0, min_impurity_split=None,\n",
       "            min_samples_leaf=1, min_samples_split=2,\n",
       "            min_weight_fraction_leaf=0.0, presort=False, random_state=None,\n",
       "            splitter='best'),\n",
       "       fit_params={}, iid=True, n_jobs=1,\n",
       "       param_grid={'max_depth': [2, 3, 4, 5, 6, 7, 8, 9, 10, 11, 12, 13, 14, 15, 16, 17, 18, 19]},\n",
       "       pre_dispatch='2*n_jobs', refit=True, scoring='accuracy', verbose=0)"
      ]
     },
     "execution_count": 88,
     "metadata": {},
     "output_type": "execute_result"
    }
   ],
   "source": [
    "#Intialize Grid\n",
    "\n",
    "grid_dt = GridSearchCV(DecisionTreeClassifier(), param_grid_dt, cv=5, scoring='accuracy')\n",
    "\n",
    "\n",
    "#Fit grid on data\n",
    "grid_dt.fit(X, y)\n"
   ]
  },
  {
   "cell_type": "code",
   "execution_count": 89,
   "metadata": {},
   "outputs": [
    {
     "data": {
      "text/plain": [
       "0.6608824987605354"
      ]
     },
     "execution_count": 89,
     "metadata": {},
     "output_type": "execute_result"
    }
   ],
   "source": [
    "#Best score for DT model\n",
    "grid_dt.best_score_"
   ]
  },
  {
   "cell_type": "code",
   "execution_count": 90,
   "metadata": {},
   "outputs": [
    {
     "data": {
      "text/plain": [
       "{'max_depth': 4}"
      ]
     },
     "execution_count": 90,
     "metadata": {},
     "output_type": "execute_result"
    }
   ],
   "source": [
    "#Best parameter for DT model\n",
    "grid_dt.best_params_"
   ]
  },
  {
   "cell_type": "code",
   "execution_count": 91,
   "metadata": {},
   "outputs": [
    {
     "data": {
      "text/plain": [
       "array([1])"
      ]
     },
     "execution_count": 91,
     "metadata": {},
     "output_type": "execute_result"
    }
   ],
   "source": [
    "#Make prediction\n",
    "\n",
    "grid_dt.predict(x)"
   ]
  },
  {
   "cell_type": "markdown",
   "metadata": {},
   "source": [
    "So far our grids have been one-dimensional, now let's try using multiple dimensions"
   ]
  },
  {
   "cell_type": "code",
   "execution_count": null,
   "metadata": {},
   "outputs": [],
   "source": []
  },
  {
   "cell_type": "code",
   "execution_count": 97,
   "metadata": {},
   "outputs": [
    {
     "data": {
      "text/plain": [
       "{'max_depth': [2, 3, 4, 5, 6, 7, 8, 9, 10, 11, 12, 13, 14, 15, 16, 17, 18, 19],\n",
       " 'min_samples_split': [2, 4, 6, 8, 10, 12, 14, 16, 18, 20, 22, 24, 26, 28]}"
      ]
     },
     "execution_count": 97,
     "metadata": {},
     "output_type": "execute_result"
    }
   ],
   "source": [
    "#Param grid with test different split criteria as well.\n",
    "param_grid_dt = {'min_samples_split' : list(range(2, 30 ,2)), \"max_depth\": list(depths_range)}\n",
    "\n",
    "param_grid_dt"
   ]
  },
  {
   "cell_type": "code",
   "execution_count": 98,
   "metadata": {},
   "outputs": [
    {
     "data": {
      "text/plain": [
       "GridSearchCV(cv=5, error_score='raise',\n",
       "       estimator=DecisionTreeClassifier(class_weight=None, criterion='gini', max_depth=None,\n",
       "            max_features=None, max_leaf_nodes=None,\n",
       "            min_impurity_decrease=0.0, min_impurity_split=None,\n",
       "            min_samples_leaf=1, min_samples_split=2,\n",
       "            min_weight_fraction_leaf=0.0, presort=False, random_state=None,\n",
       "            splitter='best'),\n",
       "       fit_params={}, iid=True, n_jobs=1,\n",
       "       param_grid={'min_samples_split': [2, 4, 6, 8, 10, 12, 14, 16, 18, 20, 22, 24, 26, 28], 'max_depth': [2, 3, 4, 5, 6, 7, 8, 9, 10, 11, 12, 13, 14, 15, 16, 17, 18, 19]},\n",
       "       pre_dispatch='2*n_jobs', refit=True, scoring='accuracy', verbose=0)"
      ]
     },
     "execution_count": 98,
     "metadata": {},
     "output_type": "execute_result"
    }
   ],
   "source": [
    "#Intialize Grid\n",
    "grid_dt = GridSearchCV(DecisionTreeClassifier(), param_grid_dt, cv=5, scoring='accuracy')\n",
    "\n",
    "#Fit grid on data\n",
    "grid_dt.fit(X, y)"
   ]
  },
  {
   "cell_type": "code",
   "execution_count": 99,
   "metadata": {},
   "outputs": [
    {
     "data": {
      "text/plain": [
       "{'max_depth': 4, 'min_samples_split': 12}"
      ]
     },
     "execution_count": 99,
     "metadata": {},
     "output_type": "execute_result"
    }
   ],
   "source": [
    "#Best parameter\n",
    "\n",
    "grid_dt.best_params_"
   ]
  },
  {
   "cell_type": "code",
   "execution_count": 100,
   "metadata": {},
   "outputs": [
    {
     "data": {
      "text/plain": [
       "0.6623698562221121"
      ]
     },
     "execution_count": 100,
     "metadata": {},
     "output_type": "execute_result"
    }
   ],
   "source": [
    "#Best score\n",
    "\n",
    "grid_dt.best_score_"
   ]
  },
  {
   "cell_type": "code",
   "execution_count": 101,
   "metadata": {},
   "outputs": [
    {
     "data": {
      "text/plain": [
       "[mean: 0.63907, std: 0.06683, params: {'max_depth': 2, 'min_samples_split': 2},\n",
       " mean: 0.63907, std: 0.06683, params: {'max_depth': 2, 'min_samples_split': 4},\n",
       " mean: 0.63907, std: 0.06683, params: {'max_depth': 2, 'min_samples_split': 6},\n",
       " mean: 0.63907, std: 0.06683, params: {'max_depth': 2, 'min_samples_split': 8},\n",
       " mean: 0.63907, std: 0.06683, params: {'max_depth': 2, 'min_samples_split': 10},\n",
       " mean: 0.63907, std: 0.06683, params: {'max_depth': 2, 'min_samples_split': 12},\n",
       " mean: 0.63907, std: 0.06683, params: {'max_depth': 2, 'min_samples_split': 14},\n",
       " mean: 0.63907, std: 0.06683, params: {'max_depth': 2, 'min_samples_split': 16},\n",
       " mean: 0.63907, std: 0.06683, params: {'max_depth': 2, 'min_samples_split': 18},\n",
       " mean: 0.63907, std: 0.06683, params: {'max_depth': 2, 'min_samples_split': 20},\n",
       " mean: 0.63907, std: 0.06683, params: {'max_depth': 2, 'min_samples_split': 22},\n",
       " mean: 0.63907, std: 0.06683, params: {'max_depth': 2, 'min_samples_split': 24},\n",
       " mean: 0.63907, std: 0.06683, params: {'max_depth': 2, 'min_samples_split': 26},\n",
       " mean: 0.63907, std: 0.06683, params: {'max_depth': 2, 'min_samples_split': 28},\n",
       " mean: 0.64303, std: 0.06100, params: {'max_depth': 3, 'min_samples_split': 2},\n",
       " mean: 0.64303, std: 0.06100, params: {'max_depth': 3, 'min_samples_split': 4},\n",
       " mean: 0.64303, std: 0.06100, params: {'max_depth': 3, 'min_samples_split': 6},\n",
       " mean: 0.64303, std: 0.06100, params: {'max_depth': 3, 'min_samples_split': 8},\n",
       " mean: 0.64303, std: 0.06100, params: {'max_depth': 3, 'min_samples_split': 10},\n",
       " mean: 0.64303, std: 0.06100, params: {'max_depth': 3, 'min_samples_split': 12},\n",
       " mean: 0.64303, std: 0.06100, params: {'max_depth': 3, 'min_samples_split': 14},\n",
       " mean: 0.64303, std: 0.06100, params: {'max_depth': 3, 'min_samples_split': 16},\n",
       " mean: 0.64303, std: 0.06100, params: {'max_depth': 3, 'min_samples_split': 18},\n",
       " mean: 0.64303, std: 0.06100, params: {'max_depth': 3, 'min_samples_split': 20},\n",
       " mean: 0.64303, std: 0.06100, params: {'max_depth': 3, 'min_samples_split': 22},\n",
       " mean: 0.64303, std: 0.06100, params: {'max_depth': 3, 'min_samples_split': 24},\n",
       " mean: 0.64303, std: 0.06100, params: {'max_depth': 3, 'min_samples_split': 26},\n",
       " mean: 0.64303, std: 0.06100, params: {'max_depth': 3, 'min_samples_split': 28},\n",
       " mean: 0.66187, std: 0.04178, params: {'max_depth': 4, 'min_samples_split': 2},\n",
       " mean: 0.66187, std: 0.04178, params: {'max_depth': 4, 'min_samples_split': 4},\n",
       " mean: 0.66088, std: 0.04292, params: {'max_depth': 4, 'min_samples_split': 6},\n",
       " mean: 0.66138, std: 0.04233, params: {'max_depth': 4, 'min_samples_split': 8},\n",
       " mean: 0.66138, std: 0.04233, params: {'max_depth': 4, 'min_samples_split': 10},\n",
       " mean: 0.66237, std: 0.04116, params: {'max_depth': 4, 'min_samples_split': 12},\n",
       " mean: 0.66237, std: 0.04116, params: {'max_depth': 4, 'min_samples_split': 14},\n",
       " mean: 0.66237, std: 0.04116, params: {'max_depth': 4, 'min_samples_split': 16},\n",
       " mean: 0.66237, std: 0.04116, params: {'max_depth': 4, 'min_samples_split': 18},\n",
       " mean: 0.66237, std: 0.04116, params: {'max_depth': 4, 'min_samples_split': 20},\n",
       " mean: 0.66237, std: 0.04116, params: {'max_depth': 4, 'min_samples_split': 22},\n",
       " mean: 0.66237, std: 0.04116, params: {'max_depth': 4, 'min_samples_split': 24},\n",
       " mean: 0.66237, std: 0.04116, params: {'max_depth': 4, 'min_samples_split': 26},\n",
       " mean: 0.66237, std: 0.04116, params: {'max_depth': 4, 'min_samples_split': 28},\n",
       " mean: 0.64998, std: 0.02408, params: {'max_depth': 5, 'min_samples_split': 2},\n",
       " mean: 0.64898, std: 0.02564, params: {'max_depth': 5, 'min_samples_split': 4},\n",
       " mean: 0.64998, std: 0.02408, params: {'max_depth': 5, 'min_samples_split': 6},\n",
       " mean: 0.64898, std: 0.02628, params: {'max_depth': 5, 'min_samples_split': 8},\n",
       " mean: 0.65047, std: 0.02387, params: {'max_depth': 5, 'min_samples_split': 10},\n",
       " mean: 0.64898, std: 0.02628, params: {'max_depth': 5, 'min_samples_split': 12},\n",
       " mean: 0.64849, std: 0.02644, params: {'max_depth': 5, 'min_samples_split': 14},\n",
       " mean: 0.64998, std: 0.02408, params: {'max_depth': 5, 'min_samples_split': 16},\n",
       " mean: 0.64601, std: 0.02747, params: {'max_depth': 5, 'min_samples_split': 18},\n",
       " mean: 0.64601, std: 0.02747, params: {'max_depth': 5, 'min_samples_split': 20},\n",
       " mean: 0.64601, std: 0.02747, params: {'max_depth': 5, 'min_samples_split': 22},\n",
       " mean: 0.64601, std: 0.02747, params: {'max_depth': 5, 'min_samples_split': 24},\n",
       " mean: 0.64403, std: 0.02930, params: {'max_depth': 5, 'min_samples_split': 26},\n",
       " mean: 0.64353, std: 0.02992, params: {'max_depth': 5, 'min_samples_split': 28},\n",
       " mean: 0.63956, std: 0.03290, params: {'max_depth': 6, 'min_samples_split': 2},\n",
       " mean: 0.64254, std: 0.02898, params: {'max_depth': 6, 'min_samples_split': 4},\n",
       " mean: 0.64155, std: 0.03225, params: {'max_depth': 6, 'min_samples_split': 6},\n",
       " mean: 0.64155, std: 0.03071, params: {'max_depth': 6, 'min_samples_split': 8},\n",
       " mean: 0.64006, std: 0.03205, params: {'max_depth': 6, 'min_samples_split': 10},\n",
       " mean: 0.64155, std: 0.03128, params: {'max_depth': 6, 'min_samples_split': 12},\n",
       " mean: 0.64105, std: 0.02841, params: {'max_depth': 6, 'min_samples_split': 14},\n",
       " mean: 0.64105, std: 0.02841, params: {'max_depth': 6, 'min_samples_split': 16},\n",
       " mean: 0.63461, std: 0.03088, params: {'max_depth': 6, 'min_samples_split': 18},\n",
       " mean: 0.63510, std: 0.03052, params: {'max_depth': 6, 'min_samples_split': 20},\n",
       " mean: 0.63609, std: 0.03056, params: {'max_depth': 6, 'min_samples_split': 22},\n",
       " mean: 0.63907, std: 0.02891, params: {'max_depth': 6, 'min_samples_split': 24},\n",
       " mean: 0.63808, std: 0.02874, params: {'max_depth': 6, 'min_samples_split': 26},\n",
       " mean: 0.63808, std: 0.02988, params: {'max_depth': 6, 'min_samples_split': 28},\n",
       " mean: 0.63659, std: 0.03205, params: {'max_depth': 7, 'min_samples_split': 2},\n",
       " mean: 0.63758, std: 0.03043, params: {'max_depth': 7, 'min_samples_split': 4},\n",
       " mean: 0.64056, std: 0.03266, params: {'max_depth': 7, 'min_samples_split': 6},\n",
       " mean: 0.63560, std: 0.03126, params: {'max_depth': 7, 'min_samples_split': 8},\n",
       " mean: 0.63312, std: 0.03572, params: {'max_depth': 7, 'min_samples_split': 10},\n",
       " mean: 0.63411, std: 0.03598, params: {'max_depth': 7, 'min_samples_split': 12},\n",
       " mean: 0.63312, std: 0.03282, params: {'max_depth': 7, 'min_samples_split': 14},\n",
       " mean: 0.63262, std: 0.03562, params: {'max_depth': 7, 'min_samples_split': 16},\n",
       " mean: 0.62866, std: 0.03711, params: {'max_depth': 7, 'min_samples_split': 18},\n",
       " mean: 0.63014, std: 0.03723, params: {'max_depth': 7, 'min_samples_split': 20},\n",
       " mean: 0.63064, std: 0.03861, params: {'max_depth': 7, 'min_samples_split': 22},\n",
       " mean: 0.63510, std: 0.03255, params: {'max_depth': 7, 'min_samples_split': 24},\n",
       " mean: 0.63411, std: 0.03348, params: {'max_depth': 7, 'min_samples_split': 26},\n",
       " mean: 0.63213, std: 0.03615, params: {'max_depth': 7, 'min_samples_split': 28},\n",
       " mean: 0.61230, std: 0.03840, params: {'max_depth': 8, 'min_samples_split': 2},\n",
       " mean: 0.61725, std: 0.03415, params: {'max_depth': 8, 'min_samples_split': 4},\n",
       " mean: 0.61230, std: 0.03266, params: {'max_depth': 8, 'min_samples_split': 6},\n",
       " mean: 0.61577, std: 0.03111, params: {'max_depth': 8, 'min_samples_split': 8},\n",
       " mean: 0.61031, std: 0.03998, params: {'max_depth': 8, 'min_samples_split': 10},\n",
       " mean: 0.61527, std: 0.03719, params: {'max_depth': 8, 'min_samples_split': 12},\n",
       " mean: 0.61477, std: 0.03514, params: {'max_depth': 8, 'min_samples_split': 14},\n",
       " mean: 0.61626, std: 0.03968, params: {'max_depth': 8, 'min_samples_split': 16},\n",
       " mean: 0.61230, std: 0.04164, params: {'max_depth': 8, 'min_samples_split': 18},\n",
       " mean: 0.61279, std: 0.04119, params: {'max_depth': 8, 'min_samples_split': 20},\n",
       " mean: 0.61477, std: 0.04371, params: {'max_depth': 8, 'min_samples_split': 22},\n",
       " mean: 0.61924, std: 0.03934, params: {'max_depth': 8, 'min_samples_split': 24},\n",
       " mean: 0.61874, std: 0.04012, params: {'max_depth': 8, 'min_samples_split': 26},\n",
       " mean: 0.61775, std: 0.03979, params: {'max_depth': 8, 'min_samples_split': 28},\n",
       " mean: 0.63114, std: 0.02528, params: {'max_depth': 9, 'min_samples_split': 2},\n",
       " mean: 0.62866, std: 0.02607, params: {'max_depth': 9, 'min_samples_split': 4},\n",
       " mean: 0.62618, std: 0.02762, params: {'max_depth': 9, 'min_samples_split': 6},\n",
       " mean: 0.61924, std: 0.02996, params: {'max_depth': 9, 'min_samples_split': 8},\n",
       " mean: 0.63064, std: 0.02893, params: {'max_depth': 9, 'min_samples_split': 10},\n",
       " mean: 0.62023, std: 0.03211, params: {'max_depth': 9, 'min_samples_split': 12},\n",
       " mean: 0.61725, std: 0.03598, params: {'max_depth': 9, 'min_samples_split': 14},\n",
       " mean: 0.62271, std: 0.03845, params: {'max_depth': 9, 'min_samples_split': 16},\n",
       " mean: 0.61477, std: 0.04116, params: {'max_depth': 9, 'min_samples_split': 18},\n",
       " mean: 0.61725, std: 0.03951, params: {'max_depth': 9, 'min_samples_split': 20},\n",
       " mean: 0.61279, std: 0.04158, params: {'max_depth': 9, 'min_samples_split': 22},\n",
       " mean: 0.61775, std: 0.03785, params: {'max_depth': 9, 'min_samples_split': 24},\n",
       " mean: 0.61180, std: 0.03631, params: {'max_depth': 9, 'min_samples_split': 26},\n",
       " mean: 0.61130, std: 0.03709, params: {'max_depth': 9, 'min_samples_split': 28},\n",
       " mean: 0.61477, std: 0.02484, params: {'max_depth': 10, 'min_samples_split': 2},\n",
       " mean: 0.61180, std: 0.02326, params: {'max_depth': 10, 'min_samples_split': 4},\n",
       " mean: 0.61378, std: 0.02178, params: {'max_depth': 10, 'min_samples_split': 6},\n",
       " mean: 0.61230, std: 0.02728, params: {'max_depth': 10, 'min_samples_split': 8},\n",
       " mean: 0.62023, std: 0.02322, params: {'max_depth': 10, 'min_samples_split': 10},\n",
       " mean: 0.61081, std: 0.03039, params: {'max_depth': 10, 'min_samples_split': 12},\n",
       " mean: 0.61180, std: 0.02977, params: {'max_depth': 10, 'min_samples_split': 14},\n",
       " mean: 0.61279, std: 0.03578, params: {'max_depth': 10, 'min_samples_split': 16},\n",
       " mean: 0.61180, std: 0.03734, params: {'max_depth': 10, 'min_samples_split': 18},\n",
       " mean: 0.61428, std: 0.03781, params: {'max_depth': 10, 'min_samples_split': 20},\n",
       " mean: 0.61031, std: 0.03907, params: {'max_depth': 10, 'min_samples_split': 22},\n",
       " mean: 0.62072, std: 0.03892, params: {'max_depth': 10, 'min_samples_split': 24},\n",
       " mean: 0.61577, std: 0.03862, params: {'max_depth': 10, 'min_samples_split': 26},\n",
       " mean: 0.61477, std: 0.03957, params: {'max_depth': 10, 'min_samples_split': 28},\n",
       " mean: 0.60932, std: 0.02281, params: {'max_depth': 11, 'min_samples_split': 2},\n",
       " mean: 0.60734, std: 0.02406, params: {'max_depth': 11, 'min_samples_split': 4},\n",
       " mean: 0.60982, std: 0.02671, params: {'max_depth': 11, 'min_samples_split': 6},\n",
       " mean: 0.61180, std: 0.02086, params: {'max_depth': 11, 'min_samples_split': 8},\n",
       " mean: 0.60932, std: 0.02801, params: {'max_depth': 11, 'min_samples_split': 10},\n",
       " mean: 0.60436, std: 0.02915, params: {'max_depth': 11, 'min_samples_split': 12},\n",
       " mean: 0.60734, std: 0.03047, params: {'max_depth': 11, 'min_samples_split': 14},\n",
       " mean: 0.61230, std: 0.03261, params: {'max_depth': 11, 'min_samples_split': 16},\n",
       " mean: 0.60932, std: 0.03631, params: {'max_depth': 11, 'min_samples_split': 18},\n",
       " mean: 0.60982, std: 0.03583, params: {'max_depth': 11, 'min_samples_split': 20},\n",
       " mean: 0.60734, std: 0.03579, params: {'max_depth': 11, 'min_samples_split': 22},\n",
       " mean: 0.61527, std: 0.03744, params: {'max_depth': 11, 'min_samples_split': 24},\n",
       " mean: 0.61031, std: 0.03692, params: {'max_depth': 11, 'min_samples_split': 26},\n",
       " mean: 0.61031, std: 0.03425, params: {'max_depth': 11, 'min_samples_split': 28},\n",
       " mean: 0.59147, std: 0.03022, params: {'max_depth': 12, 'min_samples_split': 2},\n",
       " mean: 0.60089, std: 0.02703, params: {'max_depth': 12, 'min_samples_split': 4},\n",
       " mean: 0.60288, std: 0.02731, params: {'max_depth': 12, 'min_samples_split': 6},\n",
       " mean: 0.60040, std: 0.02825, params: {'max_depth': 12, 'min_samples_split': 8},\n",
       " mean: 0.59990, std: 0.02436, params: {'max_depth': 12, 'min_samples_split': 10},\n",
       " mean: 0.59494, std: 0.02341, params: {'max_depth': 12, 'min_samples_split': 12},\n",
       " mean: 0.59891, std: 0.02951, params: {'max_depth': 12, 'min_samples_split': 14},\n",
       " mean: 0.60238, std: 0.03301, params: {'max_depth': 12, 'min_samples_split': 16},\n",
       " mean: 0.60089, std: 0.03751, params: {'max_depth': 12, 'min_samples_split': 18},\n",
       " mean: 0.59990, std: 0.03480, params: {'max_depth': 12, 'min_samples_split': 20},\n",
       " mean: 0.59891, std: 0.03441, params: {'max_depth': 12, 'min_samples_split': 22},\n",
       " mean: 0.60982, std: 0.03534, params: {'max_depth': 12, 'min_samples_split': 24},\n",
       " mean: 0.60535, std: 0.03493, params: {'max_depth': 12, 'min_samples_split': 26},\n",
       " mean: 0.60486, std: 0.03345, params: {'max_depth': 12, 'min_samples_split': 28},\n",
       " mean: 0.59395, std: 0.02298, params: {'max_depth': 13, 'min_samples_split': 2},\n",
       " mean: 0.59941, std: 0.02126, params: {'max_depth': 13, 'min_samples_split': 4},\n",
       " mean: 0.59593, std: 0.01967, params: {'max_depth': 13, 'min_samples_split': 6},\n",
       " mean: 0.59544, std: 0.02122, params: {'max_depth': 13, 'min_samples_split': 8},\n",
       " mean: 0.59593, std: 0.02734, params: {'max_depth': 13, 'min_samples_split': 10},\n",
       " mean: 0.59197, std: 0.02474, params: {'max_depth': 13, 'min_samples_split': 12},\n",
       " mean: 0.59395, std: 0.02882, params: {'max_depth': 13, 'min_samples_split': 14},\n",
       " mean: 0.60040, std: 0.03241, params: {'max_depth': 13, 'min_samples_split': 16},\n",
       " mean: 0.59891, std: 0.03467, params: {'max_depth': 13, 'min_samples_split': 18},\n",
       " mean: 0.60089, std: 0.03379, params: {'max_depth': 13, 'min_samples_split': 20},\n",
       " mean: 0.59395, std: 0.03306, params: {'max_depth': 13, 'min_samples_split': 22},\n",
       " mean: 0.60734, std: 0.03633, params: {'max_depth': 13, 'min_samples_split': 24},\n",
       " mean: 0.60089, std: 0.03370, params: {'max_depth': 13, 'min_samples_split': 26},\n",
       " mean: 0.60387, std: 0.03335, params: {'max_depth': 13, 'min_samples_split': 28},\n",
       " mean: 0.59098, std: 0.03705, params: {'max_depth': 14, 'min_samples_split': 2},\n",
       " mean: 0.59544, std: 0.03262, params: {'max_depth': 14, 'min_samples_split': 4},\n",
       " mean: 0.58850, std: 0.02479, params: {'max_depth': 14, 'min_samples_split': 6},\n",
       " mean: 0.59841, std: 0.02708, params: {'max_depth': 14, 'min_samples_split': 8},\n",
       " mean: 0.59891, std: 0.02358, params: {'max_depth': 14, 'min_samples_split': 10},\n",
       " mean: 0.59693, std: 0.02760, params: {'max_depth': 14, 'min_samples_split': 12},\n",
       " mean: 0.59048, std: 0.02643, params: {'max_depth': 14, 'min_samples_split': 14},\n",
       " mean: 0.59742, std: 0.03723, params: {'max_depth': 14, 'min_samples_split': 16},\n",
       " mean: 0.59395, std: 0.03762, params: {'max_depth': 14, 'min_samples_split': 18},\n",
       " mean: 0.59841, std: 0.03544, params: {'max_depth': 14, 'min_samples_split': 20},\n",
       " mean: 0.59296, std: 0.03626, params: {'max_depth': 14, 'min_samples_split': 22},\n",
       " mean: 0.60635, std: 0.03662, params: {'max_depth': 14, 'min_samples_split': 24},\n",
       " mean: 0.60139, std: 0.03510, params: {'max_depth': 14, 'min_samples_split': 26},\n",
       " mean: 0.60089, std: 0.03416, params: {'max_depth': 14, 'min_samples_split': 28},\n",
       " mean: 0.59246, std: 0.02665, params: {'max_depth': 15, 'min_samples_split': 2},\n",
       " mean: 0.59346, std: 0.02643, params: {'max_depth': 15, 'min_samples_split': 4},\n",
       " mean: 0.59296, std: 0.02182, params: {'max_depth': 15, 'min_samples_split': 6},\n",
       " mean: 0.59395, std: 0.01961, params: {'max_depth': 15, 'min_samples_split': 8},\n",
       " mean: 0.59246, std: 0.02690, params: {'max_depth': 15, 'min_samples_split': 10},\n",
       " mean: 0.58999, std: 0.02589, params: {'max_depth': 15, 'min_samples_split': 12},\n",
       " mean: 0.58949, std: 0.02881, params: {'max_depth': 15, 'min_samples_split': 14},\n",
       " mean: 0.59147, std: 0.03498, params: {'max_depth': 15, 'min_samples_split': 16},\n",
       " mean: 0.59593, std: 0.03816, params: {'max_depth': 15, 'min_samples_split': 18},\n",
       " mean: 0.59891, std: 0.03321, params: {'max_depth': 15, 'min_samples_split': 20},\n",
       " mean: 0.59098, std: 0.03627, params: {'max_depth': 15, 'min_samples_split': 22},\n",
       " mean: 0.60288, std: 0.03346, params: {'max_depth': 15, 'min_samples_split': 24},\n",
       " mean: 0.59990, std: 0.03956, params: {'max_depth': 15, 'min_samples_split': 26},\n",
       " mean: 0.60139, std: 0.03614, params: {'max_depth': 15, 'min_samples_split': 28},\n",
       " mean: 0.59296, std: 0.02087, params: {'max_depth': 16, 'min_samples_split': 2},\n",
       " mean: 0.58949, std: 0.03387, params: {'max_depth': 16, 'min_samples_split': 4},\n",
       " mean: 0.59296, std: 0.02849, params: {'max_depth': 16, 'min_samples_split': 6},\n",
       " mean: 0.58354, std: 0.02773, params: {'max_depth': 16, 'min_samples_split': 8},\n",
       " mean: 0.58354, std: 0.02867, params: {'max_depth': 16, 'min_samples_split': 10},\n",
       " mean: 0.58751, std: 0.02963, params: {'max_depth': 16, 'min_samples_split': 12},\n",
       " mean: 0.58800, std: 0.02778, params: {'max_depth': 16, 'min_samples_split': 14},\n",
       " mean: 0.59246, std: 0.03732, params: {'max_depth': 16, 'min_samples_split': 16},\n",
       " mean: 0.59445, std: 0.03532, params: {'max_depth': 16, 'min_samples_split': 18},\n",
       " mean: 0.59494, std: 0.03025, params: {'max_depth': 16, 'min_samples_split': 20},\n",
       " mean: 0.59296, std: 0.03519, params: {'max_depth': 16, 'min_samples_split': 22},\n",
       " mean: 0.60337, std: 0.03562, params: {'max_depth': 16, 'min_samples_split': 24},\n",
       " mean: 0.59792, std: 0.03575, params: {'max_depth': 16, 'min_samples_split': 26},\n",
       " mean: 0.60040, std: 0.03514, params: {'max_depth': 16, 'min_samples_split': 28},\n",
       " mean: 0.58106, std: 0.02840, params: {'max_depth': 17, 'min_samples_split': 2},\n",
       " mean: 0.58949, std: 0.02173, params: {'max_depth': 17, 'min_samples_split': 4},\n",
       " mean: 0.58751, std: 0.02628, params: {'max_depth': 17, 'min_samples_split': 6},\n",
       " mean: 0.58354, std: 0.02508, params: {'max_depth': 17, 'min_samples_split': 8},\n",
       " mean: 0.58651, std: 0.02387, params: {'max_depth': 17, 'min_samples_split': 10},\n",
       " mean: 0.58850, std: 0.02263, params: {'max_depth': 17, 'min_samples_split': 12},\n",
       " mean: 0.58949, std: 0.02955, params: {'max_depth': 17, 'min_samples_split': 14},\n",
       " mean: 0.59197, std: 0.03424, params: {'max_depth': 17, 'min_samples_split': 16},\n",
       " mean: 0.59197, std: 0.03706, params: {'max_depth': 17, 'min_samples_split': 18},\n",
       " mean: 0.59544, std: 0.03258, params: {'max_depth': 17, 'min_samples_split': 20},\n",
       " mean: 0.59098, std: 0.03376, params: {'max_depth': 17, 'min_samples_split': 22},\n",
       " mean: 0.60188, std: 0.03555, params: {'max_depth': 17, 'min_samples_split': 24},\n",
       " mean: 0.59990, std: 0.03625, params: {'max_depth': 17, 'min_samples_split': 26},\n",
       " mean: 0.59941, std: 0.03561, params: {'max_depth': 17, 'min_samples_split': 28},\n",
       " mean: 0.58751, std: 0.02660, params: {'max_depth': 18, 'min_samples_split': 2},\n",
       " mean: 0.58354, std: 0.02888, params: {'max_depth': 18, 'min_samples_split': 4},\n",
       " mean: 0.58304, std: 0.01730, params: {'max_depth': 18, 'min_samples_split': 6},\n",
       " mean: 0.58404, std: 0.02318, params: {'max_depth': 18, 'min_samples_split': 8},\n",
       " mean: 0.58800, std: 0.02606, params: {'max_depth': 18, 'min_samples_split': 10},\n",
       " mean: 0.58304, std: 0.02798, params: {'max_depth': 18, 'min_samples_split': 12},\n",
       " mean: 0.58751, std: 0.03167, params: {'max_depth': 18, 'min_samples_split': 14},\n",
       " mean: 0.59098, std: 0.03466, params: {'max_depth': 18, 'min_samples_split': 16},\n",
       " mean: 0.58999, std: 0.03859, params: {'max_depth': 18, 'min_samples_split': 18},\n",
       " mean: 0.59296, std: 0.03205, params: {'max_depth': 18, 'min_samples_split': 20},\n",
       " mean: 0.59147, std: 0.03298, params: {'max_depth': 18, 'min_samples_split': 22},\n",
       " mean: 0.60139, std: 0.03563, params: {'max_depth': 18, 'min_samples_split': 24},\n",
       " mean: 0.59792, std: 0.03755, params: {'max_depth': 18, 'min_samples_split': 26},\n",
       " mean: 0.59941, std: 0.03561, params: {'max_depth': 18, 'min_samples_split': 28},\n",
       " mean: 0.58850, std: 0.02294, params: {'max_depth': 19, 'min_samples_split': 2},\n",
       " mean: 0.57362, std: 0.02546, params: {'max_depth': 19, 'min_samples_split': 4},\n",
       " mean: 0.58255, std: 0.01996, params: {'max_depth': 19, 'min_samples_split': 6},\n",
       " mean: 0.59197, std: 0.02196, params: {'max_depth': 19, 'min_samples_split': 8},\n",
       " mean: 0.58999, std: 0.02569, params: {'max_depth': 19, 'min_samples_split': 10},\n",
       " mean: 0.58850, std: 0.02217, params: {'max_depth': 19, 'min_samples_split': 12},\n",
       " mean: 0.58205, std: 0.02646, params: {'max_depth': 19, 'min_samples_split': 14},\n",
       " mean: 0.59346, std: 0.03180, params: {'max_depth': 19, 'min_samples_split': 16},\n",
       " mean: 0.59346, std: 0.03676, params: {'max_depth': 19, 'min_samples_split': 18},\n",
       " mean: 0.59296, std: 0.03350, params: {'max_depth': 19, 'min_samples_split': 20},\n",
       " mean: 0.58899, std: 0.03627, params: {'max_depth': 19, 'min_samples_split': 22},\n",
       " mean: 0.60089, std: 0.03797, params: {'max_depth': 19, 'min_samples_split': 24},\n",
       " mean: 0.59693, std: 0.03376, params: {'max_depth': 19, 'min_samples_split': 26},\n",
       " mean: 0.59941, std: 0.03561, params: {'max_depth': 19, 'min_samples_split': 28}]"
      ]
     },
     "execution_count": 101,
     "metadata": {},
     "output_type": "execute_result"
    }
   ],
   "source": [
    "grid_dt.grid_scores_"
   ]
  },
  {
   "cell_type": "markdown",
   "metadata": {},
   "source": [
    "How many models did the grid search algorithm fit?"
   ]
  },
  {
   "cell_type": "code",
   "execution_count": 104,
   "metadata": {},
   "outputs": [],
   "source": [
    "#Add another dimension\n",
    "param_grid_dt[\"max_features\"] = [1, 2, 3, 4, 5]"
   ]
  },
  {
   "cell_type": "code",
   "execution_count": 105,
   "metadata": {},
   "outputs": [],
   "source": [
    "#import time \n",
    "from time import time"
   ]
  },
  {
   "cell_type": "code",
   "execution_count": 106,
   "metadata": {},
   "outputs": [
    {
     "name": "stdout",
     "output_type": "stream",
     "text": [
      "26.884172201156616\n"
     ]
    }
   ],
   "source": [
    "#Intialize Grid\n",
    "grid_dt = GridSearchCV(estimator = DecisionTreeClassifier(), \n",
    "                        param_grid = param_grid_dt, cv = 5, scoring = \"accuracy\")\n",
    "\n",
    "#Time the code \n",
    "\n",
    "t = time()\n",
    "\n",
    "#Fit grid on data\n",
    "grid_dt.fit(X, y)\n",
    "\n",
    "#Print time difference\n",
    "\n",
    "print (time() - t)"
   ]
  },
  {
   "cell_type": "code",
   "execution_count": 107,
   "metadata": {},
   "outputs": [
    {
     "data": {
      "text/plain": [
       "{'max_depth': 4, 'max_features': 4, 'min_samples_split': 8}"
      ]
     },
     "execution_count": 107,
     "metadata": {},
     "output_type": "execute_result"
    }
   ],
   "source": [
    "#Best parameter\n",
    "\n",
    "grid_dt.best_params_"
   ]
  },
  {
   "cell_type": "code",
   "execution_count": 108,
   "metadata": {},
   "outputs": [
    {
     "data": {
      "text/plain": [
       "0.6782350024789291"
      ]
     },
     "execution_count": 108,
     "metadata": {},
     "output_type": "execute_result"
    }
   ],
   "source": [
    "#Best score\n",
    "\n",
    "grid_dt.best_score_"
   ]
  },
  {
   "cell_type": "code",
   "execution_count": null,
   "metadata": {},
   "outputs": [],
   "source": []
  },
  {
   "cell_type": "code",
   "execution_count": null,
   "metadata": {},
   "outputs": [],
   "source": []
  },
  {
   "cell_type": "markdown",
   "metadata": {},
   "source": [
    "Obviously grid search takes a long time and in some case can cause memory errors. This is where RandomizedSearchCV comes in."
   ]
  },
  {
   "cell_type": "code",
   "execution_count": 116,
   "metadata": {},
   "outputs": [
    {
     "name": "stdout",
     "output_type": "stream",
     "text": [
      "2.006991147994995\n"
     ]
    }
   ],
   "source": [
    "#Intialize RandomizedSearchCV grid with n_iter = 15\n",
    "grid_dt = RandomizedSearchCV(DecisionTreeClassifier(), param_grid_dt, n_iter=100, cv=5, scoring='accuracy')\n",
    "\n",
    "\n",
    "#Time the code \n",
    "\n",
    "t = time()\n",
    "\n",
    "#Fit grid on data\n",
    "grid_dt.fit(X, y)\n",
    "\n",
    "#Print time difference\n",
    "\n",
    "print (time() - t)"
   ]
  },
  {
   "cell_type": "code",
   "execution_count": null,
   "metadata": {},
   "outputs": [],
   "source": []
  },
  {
   "cell_type": "code",
   "execution_count": null,
   "metadata": {},
   "outputs": [],
   "source": []
  },
  {
   "cell_type": "code",
   "execution_count": null,
   "metadata": {},
   "outputs": [],
   "source": []
  },
  {
   "cell_type": "markdown",
   "metadata": {},
   "source": [
    "Reduced run time by  a whole a lot. But now let's see if we sacrificed performance."
   ]
  },
  {
   "cell_type": "code",
   "execution_count": 117,
   "metadata": {},
   "outputs": [
    {
     "data": {
      "text/plain": [
       "0.6673277144273674"
      ]
     },
     "execution_count": 117,
     "metadata": {},
     "output_type": "execute_result"
    }
   ],
   "source": [
    "#Check best score\n",
    "\n",
    "grid_dt.best_score_\n"
   ]
  },
  {
   "cell_type": "code",
   "execution_count": 118,
   "metadata": {},
   "outputs": [
    {
     "data": {
      "text/plain": [
       "{'max_depth': 5, 'max_features': 3, 'min_samples_split': 24}"
      ]
     },
     "execution_count": 118,
     "metadata": {},
     "output_type": "execute_result"
    }
   ],
   "source": [
    "grid_dt.best_params_"
   ]
  },
  {
   "cell_type": "code",
   "execution_count": null,
   "metadata": {},
   "outputs": [],
   "source": []
  },
  {
   "cell_type": "markdown",
   "metadata": {},
   "source": [
    "### **Pipelines**"
   ]
  },
  {
   "cell_type": "markdown",
   "metadata": {},
   "source": [
    "Let's go back to using the KNN model.\n",
    "\n",
    "We know that we need to scale our data for the KNN algorithm right?"
   ]
  },
  {
   "cell_type": "code",
   "execution_count": 119,
   "metadata": {},
   "outputs": [],
   "source": [
    "#Scale data and fit it a Grid search function it.\n",
    "\n",
    "#Intialize scalar\n",
    "scale = StandardScaler()\n",
    "\n",
    "#Fit and transform scaler on the data\n",
    "Xs = scale.fit_transform(X)"
   ]
  },
  {
   "cell_type": "code",
   "execution_count": null,
   "metadata": {},
   "outputs": [],
   "source": []
  },
  {
   "cell_type": "markdown",
   "metadata": {},
   "source": [
    "Time to make a pipeline"
   ]
  },
  {
   "cell_type": "code",
   "execution_count": 120,
   "metadata": {},
   "outputs": [],
   "source": [
    "#Pass scaler and knn classifier objects into make_pipeline function\n",
    "pipe = make_pipeline(StandardScaler(), KNeighborsClassifier())\n"
   ]
  },
  {
   "cell_type": "code",
   "execution_count": 121,
   "metadata": {},
   "outputs": [
    {
     "data": {
      "text/plain": [
       "{'kneighborsclassifier__n_neighbors': [2,\n",
       "  3,\n",
       "  4,\n",
       "  5,\n",
       "  6,\n",
       "  7,\n",
       "  8,\n",
       "  9,\n",
       "  10,\n",
       "  11,\n",
       "  12,\n",
       "  13,\n",
       "  14,\n",
       "  15,\n",
       "  16,\n",
       "  17,\n",
       "  18,\n",
       "  19,\n",
       "  20]}"
      ]
     },
     "execution_count": 121,
     "metadata": {},
     "output_type": "execute_result"
    }
   ],
   "source": [
    "#Create new param_grid\n",
    "neighbors_range = range(2, 21)\n",
    "param_grid_knn = {}\n",
    "param_grid_knn[\"kneighborsclassifier__n_neighbors\"] = list(neighbors_range)\n",
    "param_grid_knn"
   ]
  },
  {
   "cell_type": "code",
   "execution_count": 122,
   "metadata": {},
   "outputs": [
    {
     "name": "stdout",
     "output_type": "stream",
     "text": [
      "0.6063460585027268 {'kneighborsclassifier__n_neighbors': 17}\n"
     ]
    }
   ],
   "source": [
    "#Pass in pipe into GridSearchCV function, \n",
    "grid_knn_pipe = GridSearchCV(pipe, param_grid_knn, cv=5, scoring='accuracy')\n",
    "\n",
    "\n",
    "#Fit on original versions of data\n",
    "grid_knn_pipe.fit(X,y)\n",
    "\n",
    "\n",
    "#Best scores and params\n",
    "    print (grid_knn_pipe.best_score_, grid_knn_pipe.best_params_)"
   ]
  },
  {
   "cell_type": "code",
   "execution_count": 130,
   "metadata": {},
   "outputs": [
    {
     "data": {
      "text/plain": [
       "0.5775851902808146"
      ]
     },
     "execution_count": 130,
     "metadata": {},
     "output_type": "execute_result"
    }
   ],
   "source": [
    "# Use the cross-validation process using Pipeline\n",
    "pipe = make_pipeline(StandardScaler(), KNeighborsClassifier(n_neighbors=3))\n",
    "\n",
    "cross_val_score(pipe, X, y, cv=5, scoring='accuracy').mean()\n"
   ]
  },
  {
   "cell_type": "code",
   "execution_count": null,
   "metadata": {},
   "outputs": [],
   "source": []
  },
  {
   "cell_type": "code",
   "execution_count": null,
   "metadata": {},
   "outputs": [],
   "source": []
  },
  {
   "cell_type": "code",
   "execution_count": null,
   "metadata": {},
   "outputs": [],
   "source": []
  },
  {
   "cell_type": "code",
   "execution_count": null,
   "metadata": {},
   "outputs": [],
   "source": []
  },
  {
   "cell_type": "code",
   "execution_count": null,
   "metadata": {},
   "outputs": [],
   "source": []
  },
  {
   "cell_type": "code",
   "execution_count": null,
   "metadata": {},
   "outputs": [],
   "source": []
  },
  {
   "cell_type": "markdown",
   "metadata": {},
   "source": [
    "## Multi-class Supervised Learning"
   ]
  },
  {
   "cell_type": "markdown",
   "metadata": {},
   "source": [
    "So far in our classification lessons we've mainly modeling binary classification datasets aka either-or data. In this class we're going to work through the MNIST digits dataset and learn to work with and interpret models trained on multiple classes—multiple meaning more than two."
   ]
  },
  {
   "cell_type": "code",
   "execution_count": null,
   "metadata": {},
   "outputs": [],
   "source": []
  },
  {
   "cell_type": "markdown",
   "metadata": {},
   "source": [
    "Before we get into the MNIST dataset, let's bring back the Iris dataset"
   ]
  },
  {
   "cell_type": "code",
   "execution_count": 132,
   "metadata": {},
   "outputs": [
    {
     "data": {
      "text/html": [
       "<div>\n",
       "<style scoped>\n",
       "    .dataframe tbody tr th:only-of-type {\n",
       "        vertical-align: middle;\n",
       "    }\n",
       "\n",
       "    .dataframe tbody tr th {\n",
       "        vertical-align: top;\n",
       "    }\n",
       "\n",
       "    .dataframe thead th {\n",
       "        text-align: right;\n",
       "    }\n",
       "</style>\n",
       "<table border=\"1\" class=\"dataframe\">\n",
       "  <thead>\n",
       "    <tr style=\"text-align: right;\">\n",
       "      <th></th>\n",
       "      <th>sepal_length</th>\n",
       "      <th>sepal_width</th>\n",
       "      <th>petal_length</th>\n",
       "      <th>petal_width</th>\n",
       "      <th>species</th>\n",
       "    </tr>\n",
       "  </thead>\n",
       "  <tbody>\n",
       "    <tr>\n",
       "      <th>0</th>\n",
       "      <td>5.1</td>\n",
       "      <td>3.5</td>\n",
       "      <td>1.4</td>\n",
       "      <td>0.2</td>\n",
       "      <td>Iris-setosa</td>\n",
       "    </tr>\n",
       "    <tr>\n",
       "      <th>1</th>\n",
       "      <td>4.9</td>\n",
       "      <td>3.0</td>\n",
       "      <td>1.4</td>\n",
       "      <td>0.2</td>\n",
       "      <td>Iris-setosa</td>\n",
       "    </tr>\n",
       "    <tr>\n",
       "      <th>2</th>\n",
       "      <td>4.7</td>\n",
       "      <td>3.2</td>\n",
       "      <td>1.3</td>\n",
       "      <td>0.2</td>\n",
       "      <td>Iris-setosa</td>\n",
       "    </tr>\n",
       "    <tr>\n",
       "      <th>3</th>\n",
       "      <td>4.6</td>\n",
       "      <td>3.1</td>\n",
       "      <td>1.5</td>\n",
       "      <td>0.2</td>\n",
       "      <td>Iris-setosa</td>\n",
       "    </tr>\n",
       "    <tr>\n",
       "      <th>4</th>\n",
       "      <td>5.0</td>\n",
       "      <td>3.6</td>\n",
       "      <td>1.4</td>\n",
       "      <td>0.2</td>\n",
       "      <td>Iris-setosa</td>\n",
       "    </tr>\n",
       "  </tbody>\n",
       "</table>\n",
       "</div>"
      ],
      "text/plain": [
       "   sepal_length  sepal_width  petal_length  petal_width      species\n",
       "0           5.1          3.5           1.4          0.2  Iris-setosa\n",
       "1           4.9          3.0           1.4          0.2  Iris-setosa\n",
       "2           4.7          3.2           1.3          0.2  Iris-setosa\n",
       "3           4.6          3.1           1.5          0.2  Iris-setosa\n",
       "4           5.0          3.6           1.4          0.2  Iris-setosa"
      ]
     },
     "execution_count": 132,
     "metadata": {},
     "output_type": "execute_result"
    }
   ],
   "source": [
    "#Load in iris data using seaborn\n",
    "# iris = sb.load_dataset(\"iris\")\n",
    "\n",
    "path = '../../data/iris.csv'\n",
    "\n",
    "iris = pd.read_csv(path)\n",
    "\n",
    "iris.head()"
   ]
  },
  {
   "cell_type": "code",
   "execution_count": null,
   "metadata": {},
   "outputs": [],
   "source": []
  },
  {
   "cell_type": "code",
   "execution_count": null,
   "metadata": {},
   "outputs": [],
   "source": []
  },
  {
   "cell_type": "markdown",
   "metadata": {},
   "source": [
    "The iris dataset is a mulit-class dataset because there are three uniques values in the dependent variable"
   ]
  },
  {
   "cell_type": "code",
   "execution_count": 133,
   "metadata": {},
   "outputs": [
    {
     "data": {
      "text/plain": [
       "array(['Iris-setosa', 'Iris-versicolor', 'Iris-virginica'], dtype=object)"
      ]
     },
     "execution_count": 133,
     "metadata": {},
     "output_type": "execute_result"
    }
   ],
   "source": [
    "#The class of species\n",
    "iris.species.unique()"
   ]
  },
  {
   "cell_type": "code",
   "execution_count": null,
   "metadata": {},
   "outputs": [],
   "source": []
  },
  {
   "cell_type": "code",
   "execution_count": null,
   "metadata": {},
   "outputs": [],
   "source": []
  },
  {
   "cell_type": "markdown",
   "metadata": {},
   "source": [
    "Now let's model this data and using a confusion matrix to analyze the results."
   ]
  },
  {
   "cell_type": "code",
   "execution_count": 137,
   "metadata": {},
   "outputs": [],
   "source": [
    "# X"
   ]
  },
  {
   "cell_type": "code",
   "execution_count": 138,
   "metadata": {},
   "outputs": [
    {
     "data": {
      "text/plain": [
       "0.88"
      ]
     },
     "execution_count": 138,
     "metadata": {},
     "output_type": "execute_result"
    }
   ],
   "source": [
    "#Step 1. Assign X and y\n",
    "\n",
    "X = iris.drop('species', axis=1)\n",
    "\n",
    "y = iris.species\n",
    "\n",
    "#Step 2. train test split\n",
    "\n",
    "X_train, X_test, y_train, y_test = train_test_split(X, y, test_size=.33, random_state=27)\n",
    "\n",
    "\n",
    "#Step 3. Fit KNN model with 3 neighbors on training data\n",
    "\n",
    "knn = KNeighborsClassifier(n_neighbors=3)\n",
    "knn.fit(X_train, y_train)\n",
    "\n",
    "\n",
    "#Step 4. Make predictions on the X_test using the model\n",
    "\n",
    "preds = knn.predict(X_test)\n",
    "\n",
    "#Step 5. Score predictions\n",
    "\n",
    "knn.score(X_test, y_test)\n"
   ]
  },
  {
   "cell_type": "code",
   "execution_count": null,
   "metadata": {},
   "outputs": [],
   "source": []
  },
  {
   "cell_type": "code",
   "execution_count": null,
   "metadata": {},
   "outputs": [],
   "source": []
  },
  {
   "cell_type": "markdown",
   "metadata": {},
   "source": [
    "Pretty decent model right? Now let's use the confusion matrix to better understand our predictions, particulary the wrong ones."
   ]
  },
  {
   "cell_type": "code",
   "execution_count": 139,
   "metadata": {},
   "outputs": [
    {
     "data": {
      "text/plain": [
       "array([[13,  0,  0],\n",
       "       [ 0, 15,  3],\n",
       "       [ 0,  3, 16]])"
      ]
     },
     "execution_count": 139,
     "metadata": {},
     "output_type": "execute_result"
    }
   ],
   "source": [
    "\n",
    "#Call pass in y_test and preds into confusion_matrix object\n",
    "\n",
    "cm = confusion_matrix(y_test, preds)\n",
    "\n",
    "\n",
    "cm"
   ]
  },
  {
   "cell_type": "markdown",
   "metadata": {},
   "source": [
    "Let's turn this into a dataframe"
   ]
  },
  {
   "cell_type": "code",
   "execution_count": 140,
   "metadata": {},
   "outputs": [
    {
     "data": {
      "text/plain": [
       "array(['Iris-setosa', 'Iris-versicolor', 'Iris-virginica'], dtype=object)"
      ]
     },
     "execution_count": 140,
     "metadata": {},
     "output_type": "execute_result"
    }
   ],
   "source": [
    "y.unique()"
   ]
  },
  {
   "cell_type": "code",
   "execution_count": 141,
   "metadata": {},
   "outputs": [
    {
     "data": {
      "text/html": [
       "<div>\n",
       "<style scoped>\n",
       "    .dataframe tbody tr th:only-of-type {\n",
       "        vertical-align: middle;\n",
       "    }\n",
       "\n",
       "    .dataframe tbody tr th {\n",
       "        vertical-align: top;\n",
       "    }\n",
       "\n",
       "    .dataframe thead th {\n",
       "        text-align: right;\n",
       "    }\n",
       "</style>\n",
       "<table border=\"1\" class=\"dataframe\">\n",
       "  <thead>\n",
       "    <tr style=\"text-align: right;\">\n",
       "      <th></th>\n",
       "      <th>pred_setosa</th>\n",
       "      <th>pred_versicolor</th>\n",
       "      <th>pred_virginica</th>\n",
       "    </tr>\n",
       "  </thead>\n",
       "  <tbody>\n",
       "    <tr>\n",
       "      <th>actual_setosa</th>\n",
       "      <td>13</td>\n",
       "      <td>0</td>\n",
       "      <td>0</td>\n",
       "    </tr>\n",
       "    <tr>\n",
       "      <th>actual_versicolor</th>\n",
       "      <td>0</td>\n",
       "      <td>15</td>\n",
       "      <td>3</td>\n",
       "    </tr>\n",
       "    <tr>\n",
       "      <th>actual_virginica</th>\n",
       "      <td>0</td>\n",
       "      <td>3</td>\n",
       "      <td>16</td>\n",
       "    </tr>\n",
       "  </tbody>\n",
       "</table>\n",
       "</div>"
      ],
      "text/plain": [
       "                   pred_setosa  pred_versicolor  pred_virginica\n",
       "actual_setosa               13                0               0\n",
       "actual_versicolor            0               15               3\n",
       "actual_virginica             0                3              16"
      ]
     },
     "execution_count": 141,
     "metadata": {},
     "output_type": "execute_result"
    }
   ],
   "source": [
    "#Column and index values for our confusion matrix dataframe\n",
    "cols = [\"pred_setosa\", \"pred_versicolor\", \"pred_virginica\"]\n",
    "index = [\"actual_setosa\", \"actual_versicolor\", \"actual_virginica\"]\n",
    "\n",
    "#Make dataframe out of confusion matrix\n",
    "\n",
    "cm_df = pd.DataFrame(cm, columns=cols, index=index)\n",
    "\n",
    "cm_df"
   ]
  },
  {
   "cell_type": "code",
   "execution_count": null,
   "metadata": {},
   "outputs": [],
   "source": []
  },
  {
   "cell_type": "markdown",
   "metadata": {},
   "source": [
    "The accuracy score told us that our model correctly classified 88% of the testing dataset.\n",
    "\n",
    "What does the confusion matrix tell us that the accuracy score doesn't? What is the accuracy if we ignore setosa?"
   ]
  },
  {
   "cell_type": "code",
   "execution_count": null,
   "metadata": {},
   "outputs": [],
   "source": []
  },
  {
   "cell_type": "code",
   "execution_count": null,
   "metadata": {},
   "outputs": [],
   "source": []
  },
  {
   "cell_type": "code",
   "execution_count": 142,
   "metadata": {},
   "outputs": [
    {
     "data": {
      "text/plain": [
       "0.8378378378378378"
      ]
     },
     "execution_count": 142,
     "metadata": {},
     "output_type": "execute_result"
    }
   ],
   "source": [
    "#Non setosa accuracy score\n",
    "\n",
    "(15+16)/(15+16+3+3)"
   ]
  },
  {
   "cell_type": "code",
   "execution_count": null,
   "metadata": {},
   "outputs": [],
   "source": []
  },
  {
   "cell_type": "markdown",
   "metadata": {},
   "source": [
    "The 13, 15, 16, represent the values that we correctly identified.\n",
    "\n",
    "The two 3 values represent the values that we incorrectly identified.\n",
    "\n",
    "<br>\n",
    "\n",
    "If we want to calculate the recall and precision scores then we need to designate one of the classes as true and the rest as false\n",
    "\n",
    "![ee](https://media.licdn.com/mpr/mpr/AAEAAQAAAAAAAAykAAAAJDUzZGVlZGM0LTUyNWMtNDNjZi1hNjkxLTdlZjEzY2VmMmM4OQ.png)"
   ]
  },
  {
   "cell_type": "markdown",
   "metadata": {},
   "source": [
    "Precision = TP/TP+FP\n",
    "\n",
    "Recall = TP/TP+FN\n",
    "\n",
    "Good blog post to refresh your memory on these metrics:http://blog.exsilio.com/all/accuracy-precision-recall-f1-score-interpretation-of-performance-measures/"
   ]
  },
  {
   "cell_type": "code",
   "execution_count": 143,
   "metadata": {},
   "outputs": [
    {
     "data": {
      "text/plain": [
       "1.0"
      ]
     },
     "execution_count": 143,
     "metadata": {},
     "output_type": "execute_result"
    }
   ],
   "source": [
    "#The recall score for setaosa\n",
    "\n",
    "tp_set = cm_df.loc[\"actual_setosa\", \"pred_setosa\"]\n",
    "\n",
    "#Divide tp_set by the sum of values in the actual setosa row\n",
    "\n",
    "tp_set/float(cm_df.loc[\"actual_setosa\"].sum())"
   ]
  },
  {
   "cell_type": "code",
   "execution_count": 144,
   "metadata": {},
   "outputs": [
    {
     "data": {
      "text/plain": [
       "1.0"
      ]
     },
     "execution_count": 144,
     "metadata": {},
     "output_type": "execute_result"
    }
   ],
   "source": [
    "#The precision score for setosa\n",
    "\n",
    "\n",
    "\n",
    "#Divide tp_set by the sum of values in the predicted setosa column\n",
    "\n",
    "tp_set/float(cm_df.pred_setosa.sum())"
   ]
  },
  {
   "cell_type": "markdown",
   "metadata": {},
   "source": [
    "We got perfect scores but thats boring, let's try this with versicolor"
   ]
  },
  {
   "cell_type": "code",
   "execution_count": 145,
   "metadata": {},
   "outputs": [
    {
     "name": "stderr",
     "output_type": "stream",
     "text": [
      "/Users/roahuja/anaconda3/lib/python3.6/site-packages/ipykernel_launcher.py:7: DeprecationWarning: \n",
      ".ix is deprecated. Please use\n",
      ".loc for label based indexing or\n",
      ".iloc for positional indexing\n",
      "\n",
      "See the documentation here:\n",
      "http://pandas.pydata.org/pandas-docs/stable/indexing.html#ix-indexer-is-deprecated\n",
      "  import sys\n"
     ]
    },
    {
     "data": {
      "text/plain": [
       "0.8333333333333334"
      ]
     },
     "execution_count": 145,
     "metadata": {},
     "output_type": "execute_result"
    }
   ],
   "source": [
    "#The recall score for versicolor\n",
    "\n",
    "tp_ver = cm_df.loc[\"actual_versicolor\", \"pred_versicolor\"]\n",
    "\n",
    "#Divide tp_set by the sum of values in the actual versicolor row\n",
    "\n",
    "tp_ver/float(cm_df.ix[\"actual_versicolor\"].sum())"
   ]
  },
  {
   "cell_type": "code",
   "execution_count": 146,
   "metadata": {},
   "outputs": [
    {
     "data": {
      "text/plain": [
       "0.8333333333333334"
      ]
     },
     "execution_count": 146,
     "metadata": {},
     "output_type": "execute_result"
    }
   ],
   "source": [
    "#The precision score for versicolor\n",
    "\n",
    "#Divide tp_set by the sum of values in the predicted versicolor column\n",
    "\n",
    "tp_ver/float(cm_df.pred_versicolor.sum())"
   ]
  },
  {
   "cell_type": "code",
   "execution_count": null,
   "metadata": {},
   "outputs": [],
   "source": []
  },
  {
   "cell_type": "code",
   "execution_count": null,
   "metadata": {},
   "outputs": [],
   "source": []
  },
  {
   "cell_type": "markdown",
   "metadata": {},
   "source": [
    "Multi-class confusion matrix explained:\n",
    "![s](https://3.bp.blogspot.com/-YpiS7AXxlgs/VEVrZGx5oaI/AAAAAAAAG1c/E8PdwoUamYw/s1600/multi-class-confusionmatrix.png)\n",
    "\n",
    "[Source](http://text-analytics101.rxnlp.com/2014/10/computing-precision-and-recall-for.html)"
   ]
  },
  {
   "cell_type": "code",
   "execution_count": null,
   "metadata": {},
   "outputs": [],
   "source": []
  },
  {
   "cell_type": "code",
   "execution_count": null,
   "metadata": {},
   "outputs": [],
   "source": []
  },
  {
   "cell_type": "markdown",
   "metadata": {},
   "source": [
    "## MNIST Dataset"
   ]
  },
  {
   "cell_type": "markdown",
   "metadata": {},
   "source": [
    "Famous machine learning dataset that is frequently used over and over again in machine learning courses.\n",
    "http://yann.lecun.com/exdb/mnist/"
   ]
  },
  {
   "cell_type": "markdown",
   "metadata": {},
   "source": [
    "The hand written digits of the mnist dataset.\n",
    "![a](https://kuanhoong.files.wordpress.com/2016/01/mnistdigits.gif)"
   ]
  },
  {
   "cell_type": "code",
   "execution_count": 150,
   "metadata": {},
   "outputs": [],
   "source": [
    "#Load in dataset from sklearn\n",
    "from sklearn.datasets import load_digits"
   ]
  },
  {
   "cell_type": "code",
   "execution_count": 151,
   "metadata": {},
   "outputs": [],
   "source": [
    "digits_dict = load_digits()"
   ]
  },
  {
   "cell_type": "code",
   "execution_count": 152,
   "metadata": {},
   "outputs": [
    {
     "data": {
      "text/plain": [
       "['Optical Recognition of Handwritten Digits Data Set',\n",
       " '===================================================',\n",
       " '',\n",
       " 'Notes',\n",
       " '-----',\n",
       " 'Data Set Characteristics:',\n",
       " '    :Number of Instances: 5620',\n",
       " '    :Number of Attributes: 64',\n",
       " '    :Attribute Information: 8x8 image of integer pixels in the range 0..16.',\n",
       " '    :Missing Attribute Values: None',\n",
       " \"    :Creator: E. Alpaydin (alpaydin '@' boun.edu.tr)\",\n",
       " '    :Date: July; 1998',\n",
       " '',\n",
       " 'This is a copy of the test set of the UCI ML hand-written digits datasets',\n",
       " 'http://archive.ics.uci.edu/ml/datasets/Optical+Recognition+of+Handwritten+Digits',\n",
       " '',\n",
       " 'The data set contains images of hand-written digits: 10 classes where',\n",
       " 'each class refers to a digit.',\n",
       " '',\n",
       " 'Preprocessing programs made available by NIST were used to extract',\n",
       " 'normalized bitmaps of handwritten digits from a preprinted form. From a',\n",
       " 'total of 43 people, 30 contributed to the training set and different 13',\n",
       " 'to the test set. 32x32 bitmaps are divided into nonoverlapping blocks of',\n",
       " '4x4 and the number of on pixels are counted in each block. This generates',\n",
       " 'an input matrix of 8x8 where each element is an integer in the range',\n",
       " '0..16. This reduces dimensionality and gives invariance to small',\n",
       " 'distortions.',\n",
       " '',\n",
       " 'For info on NIST preprocessing routines, see M. D. Garris, J. L. Blue, G.',\n",
       " 'T. Candela, D. L. Dimmick, J. Geist, P. J. Grother, S. A. Janet, and C.',\n",
       " 'L. Wilson, NIST Form-Based Handprint Recognition System, NISTIR 5469,',\n",
       " '1994.',\n",
       " '',\n",
       " 'References',\n",
       " '----------',\n",
       " '  - C. Kaynak (1995) Methods of Combining Multiple Classifiers and Their',\n",
       " '    Applications to Handwritten Digit Recognition, MSc Thesis, Institute of',\n",
       " '    Graduate Studies in Science and Engineering, Bogazici University.',\n",
       " '  - E. Alpaydin, C. Kaynak (1998) Cascading Classifiers, Kybernetika.',\n",
       " '  - Ken Tang and Ponnuthurai N. Suganthan and Xi Yao and A. Kai Qin.',\n",
       " '    Linear dimensionalityreduction using relevance weighted LDA. School of',\n",
       " '    Electrical and Electronic Engineering Nanyang Technological University.',\n",
       " '    2005.',\n",
       " '  - Claudio Gentile. A New Approximate Maximal Margin Classification',\n",
       " '    Algorithm. NIPS. 2000.',\n",
       " '']"
      ]
     },
     "execution_count": 152,
     "metadata": {},
     "output_type": "execute_result"
    }
   ],
   "source": [
    "#Data description\n",
    "digits_dict[\"DESCR\"].split(\"\\n\")"
   ]
  },
  {
   "cell_type": "code",
   "execution_count": 153,
   "metadata": {},
   "outputs": [],
   "source": [
    "#Load in data\n",
    "\n",
    "data = digits_dict[\"data\"]\n",
    "\n",
    "target = digits_dict[\"target\"]"
   ]
  },
  {
   "cell_type": "code",
   "execution_count": 154,
   "metadata": {},
   "outputs": [
    {
     "data": {
      "text/plain": [
       "array([[ 0.,  0.,  5., ...,  0.,  0.,  0.],\n",
       "       [ 0.,  0.,  0., ..., 10.,  0.,  0.],\n",
       "       [ 0.,  0.,  0., ..., 16.,  9.,  0.],\n",
       "       ...,\n",
       "       [ 0.,  0.,  1., ...,  6.,  0.,  0.],\n",
       "       [ 0.,  0.,  2., ..., 12.,  0.,  0.],\n",
       "       [ 0.,  0., 10., ..., 12.,  1.,  0.]])"
      ]
     },
     "execution_count": 154,
     "metadata": {},
     "output_type": "execute_result"
    }
   ],
   "source": [
    "#Look at data\n",
    "data"
   ]
  },
  {
   "cell_type": "code",
   "execution_count": 155,
   "metadata": {},
   "outputs": [
    {
     "data": {
      "text/plain": [
       "array([0, 1, 2, ..., 8, 9, 8])"
      ]
     },
     "execution_count": 155,
     "metadata": {},
     "output_type": "execute_result"
    }
   ],
   "source": [
    "#Look at target variable\n",
    "target"
   ]
  },
  {
   "cell_type": "code",
   "execution_count": 156,
   "metadata": {},
   "outputs": [
    {
     "name": "stdout",
     "output_type": "stream",
     "text": [
      "Image Data Shape (1797, 64)\n",
      "Label Data Shape (1797,)\n"
     ]
    }
   ],
   "source": [
    "# Print to show there are 1797 images (8 by 8 images for a dimensionality of 64)\n",
    "print('Image Data Shape' , digits_dict.data.shape)\n",
    "# Print to show there are 1797 labels (integers from 0–9)\n",
    "print(\"Label Data Shape\", digits_dict.target.shape)"
   ]
  },
  {
   "cell_type": "code",
   "execution_count": null,
   "metadata": {},
   "outputs": [],
   "source": []
  },
  {
   "cell_type": "code",
   "execution_count": 157,
   "metadata": {},
   "outputs": [
    {
     "data": {
      "text/plain": [
       "array([[ 0.,  0.,  0., 12., 13.,  5.,  0.,  0.],\n",
       "       [ 0.,  0.,  0., 11., 16.,  9.,  0.,  0.],\n",
       "       [ 0.,  0.,  3., 15., 16.,  6.,  0.,  0.],\n",
       "       [ 0.,  7., 15., 16., 16.,  2.,  0.,  0.],\n",
       "       [ 0.,  0.,  1., 16., 16.,  3.,  0.,  0.],\n",
       "       [ 0.,  0.,  1., 16., 16.,  6.,  0.,  0.],\n",
       "       [ 0.,  0.,  1., 16., 16.,  6.,  0.,  0.],\n",
       "       [ 0.,  0.,  0., 11., 16., 10.,  0.,  0.]])"
      ]
     },
     "execution_count": 157,
     "metadata": {},
     "output_type": "execute_result"
    }
   ],
   "source": [
    "#View data of single digit\n",
    "\n",
    "data[1].reshape(8, 8)"
   ]
  },
  {
   "cell_type": "markdown",
   "metadata": {},
   "source": [
    "Can you tell what number this data is showing?"
   ]
  },
  {
   "cell_type": "code",
   "execution_count": 159,
   "metadata": {},
   "outputs": [
    {
     "data": {
      "text/plain": [
       "1"
      ]
     },
     "execution_count": 159,
     "metadata": {},
     "output_type": "execute_result"
    }
   ],
   "source": [
    "target[1]"
   ]
  },
  {
   "cell_type": "code",
   "execution_count": 161,
   "metadata": {},
   "outputs": [
    {
     "data": {
      "text/plain": [
       "(1797, 64)"
      ]
     },
     "execution_count": 161,
     "metadata": {},
     "output_type": "execute_result"
    }
   ],
   "source": [
    "data.shape"
   ]
  },
  {
   "cell_type": "code",
   "execution_count": null,
   "metadata": {},
   "outputs": [],
   "source": []
  },
  {
   "cell_type": "markdown",
   "metadata": {},
   "source": [
    "Let's visualize the digits"
   ]
  },
  {
   "cell_type": "code",
   "execution_count": 177,
   "metadata": {},
   "outputs": [
    {
     "data": {
      "image/png": "[encoded data removed]",
      "text/plain": [
       "<matplotlib.figure.Figure at 0x1a1c152828>"
      ]
     },
     "metadata": {},
     "output_type": "display_data"
    }
   ],
   "source": [
    "#Use matplotlib to view the images\n",
    "plt.figure(figsize=(20, 4))\n",
    "for index, (image, label) in enumerate(zip(data[0:5], target[0:5])):\n",
    "    plt.subplot(1, 5, index+1)\n",
    "    plt.imshow(image.reshape(8,8))\n",
    "    plt.title('Target: %i' % label)"
   ]
  },
  {
   "cell_type": "code",
   "execution_count": null,
   "metadata": {},
   "outputs": [],
   "source": []
  },
  {
   "cell_type": "code",
   "execution_count": null,
   "metadata": {},
   "outputs": [],
   "source": []
  },
  {
   "cell_type": "markdown",
   "metadata": {},
   "source": [
    "Now let's use a logistic regression algorithm to model this data"
   ]
  },
  {
   "cell_type": "code",
   "execution_count": null,
   "metadata": {},
   "outputs": [],
   "source": []
  },
  {
   "cell_type": "code",
   "execution_count": 252,
   "metadata": {},
   "outputs": [
    {
     "name": "stdout",
     "output_type": "stream",
     "text": [
      "DT: 0.8358831710709318\n",
      "LR: 0.933240611961057\n"
     ]
    }
   ],
   "source": [
    "\n",
    "#Step 1. train test split\n",
    "\n",
    "X_train, X_test, y_train, y_test = train_test_split(data, target, test_size=.4, random_state=19)\n",
    "\n",
    "\n",
    "#Step 2. Fit DecisionTreeClassifier with max_depth 10 on training data\n",
    "dt = DecisionTreeClassifier()\n",
    "dt.fit(X_train, y_train)\n",
    "\n",
    "lr = LogisticRegression()\n",
    "lr.fit(X_train, y_train)\n",
    "\n",
    "#Step 3. Make predictions on the X_test using the model\n",
    "\n",
    "preds1 = dt.predict(X_test)\n",
    "preds2 = lr.predict(X_test)\n",
    "\n",
    "#Step 4. Score predictions\n",
    "print(\"DT: \"+str(dt.score(X_test, y_test)))\n",
    "print(\"LR: \"+str(lr.score(X_test, y_test)))\n",
    "\n"
   ]
  },
  {
   "cell_type": "markdown",
   "metadata": {},
   "source": [
    "Confusion matrix time"
   ]
  },
  {
   "cell_type": "code",
   "execution_count": null,
   "metadata": {},
   "outputs": [],
   "source": []
  },
  {
   "cell_type": "code",
   "execution_count": 266,
   "metadata": {},
   "outputs": [
    {
     "data": {
      "text/html": [
       "<div>\n",
       "<style scoped>\n",
       "    .dataframe tbody tr th:only-of-type {\n",
       "        vertical-align: middle;\n",
       "    }\n",
       "\n",
       "    .dataframe tbody tr th {\n",
       "        vertical-align: top;\n",
       "    }\n",
       "\n",
       "    .dataframe thead th {\n",
       "        text-align: right;\n",
       "    }\n",
       "</style>\n",
       "<table border=\"1\" class=\"dataframe\">\n",
       "  <thead>\n",
       "    <tr style=\"text-align: right;\">\n",
       "      <th></th>\n",
       "      <th>0</th>\n",
       "      <th>1</th>\n",
       "      <th>2</th>\n",
       "      <th>3</th>\n",
       "      <th>4</th>\n",
       "      <th>5</th>\n",
       "      <th>6</th>\n",
       "      <th>7</th>\n",
       "      <th>8</th>\n",
       "      <th>9</th>\n",
       "    </tr>\n",
       "  </thead>\n",
       "  <tbody>\n",
       "    <tr>\n",
       "      <th>0</th>\n",
       "      <td>61</td>\n",
       "      <td>0</td>\n",
       "      <td>0</td>\n",
       "      <td>0</td>\n",
       "      <td>1</td>\n",
       "      <td>0</td>\n",
       "      <td>0</td>\n",
       "      <td>0</td>\n",
       "      <td>0</td>\n",
       "      <td>0</td>\n",
       "    </tr>\n",
       "    <tr>\n",
       "      <th>1</th>\n",
       "      <td>0</td>\n",
       "      <td>63</td>\n",
       "      <td>0</td>\n",
       "      <td>0</td>\n",
       "      <td>0</td>\n",
       "      <td>0</td>\n",
       "      <td>0</td>\n",
       "      <td>0</td>\n",
       "      <td>2</td>\n",
       "      <td>0</td>\n",
       "    </tr>\n",
       "    <tr>\n",
       "      <th>2</th>\n",
       "      <td>0</td>\n",
       "      <td>0</td>\n",
       "      <td>77</td>\n",
       "      <td>0</td>\n",
       "      <td>0</td>\n",
       "      <td>0</td>\n",
       "      <td>0</td>\n",
       "      <td>0</td>\n",
       "      <td>1</td>\n",
       "      <td>0</td>\n",
       "    </tr>\n",
       "    <tr>\n",
       "      <th>3</th>\n",
       "      <td>0</td>\n",
       "      <td>0</td>\n",
       "      <td>0</td>\n",
       "      <td>65</td>\n",
       "      <td>0</td>\n",
       "      <td>1</td>\n",
       "      <td>0</td>\n",
       "      <td>3</td>\n",
       "      <td>6</td>\n",
       "      <td>1</td>\n",
       "    </tr>\n",
       "    <tr>\n",
       "      <th>4</th>\n",
       "      <td>0</td>\n",
       "      <td>1</td>\n",
       "      <td>0</td>\n",
       "      <td>0</td>\n",
       "      <td>66</td>\n",
       "      <td>0</td>\n",
       "      <td>0</td>\n",
       "      <td>1</td>\n",
       "      <td>0</td>\n",
       "      <td>1</td>\n",
       "    </tr>\n",
       "    <tr>\n",
       "      <th>5</th>\n",
       "      <td>0</td>\n",
       "      <td>2</td>\n",
       "      <td>0</td>\n",
       "      <td>0</td>\n",
       "      <td>0</td>\n",
       "      <td>69</td>\n",
       "      <td>0</td>\n",
       "      <td>0</td>\n",
       "      <td>0</td>\n",
       "      <td>2</td>\n",
       "    </tr>\n",
       "    <tr>\n",
       "      <th>6</th>\n",
       "      <td>0</td>\n",
       "      <td>0</td>\n",
       "      <td>0</td>\n",
       "      <td>0</td>\n",
       "      <td>1</td>\n",
       "      <td>1</td>\n",
       "      <td>72</td>\n",
       "      <td>0</td>\n",
       "      <td>1</td>\n",
       "      <td>0</td>\n",
       "    </tr>\n",
       "    <tr>\n",
       "      <th>7</th>\n",
       "      <td>0</td>\n",
       "      <td>1</td>\n",
       "      <td>0</td>\n",
       "      <td>0</td>\n",
       "      <td>0</td>\n",
       "      <td>0</td>\n",
       "      <td>0</td>\n",
       "      <td>69</td>\n",
       "      <td>1</td>\n",
       "      <td>4</td>\n",
       "    </tr>\n",
       "    <tr>\n",
       "      <th>8</th>\n",
       "      <td>0</td>\n",
       "      <td>5</td>\n",
       "      <td>0</td>\n",
       "      <td>1</td>\n",
       "      <td>0</td>\n",
       "      <td>1</td>\n",
       "      <td>0</td>\n",
       "      <td>0</td>\n",
       "      <td>61</td>\n",
       "      <td>0</td>\n",
       "    </tr>\n",
       "    <tr>\n",
       "      <th>9</th>\n",
       "      <td>0</td>\n",
       "      <td>4</td>\n",
       "      <td>0</td>\n",
       "      <td>2</td>\n",
       "      <td>1</td>\n",
       "      <td>1</td>\n",
       "      <td>0</td>\n",
       "      <td>0</td>\n",
       "      <td>2</td>\n",
       "      <td>68</td>\n",
       "    </tr>\n",
       "  </tbody>\n",
       "</table>\n",
       "</div>"
      ],
      "text/plain": [
       "    0   1   2   3   4   5   6   7   8   9\n",
       "0  61   0   0   0   1   0   0   0   0   0\n",
       "1   0  63   0   0   0   0   0   0   2   0\n",
       "2   0   0  77   0   0   0   0   0   1   0\n",
       "3   0   0   0  65   0   1   0   3   6   1\n",
       "4   0   1   0   0  66   0   0   1   0   1\n",
       "5   0   2   0   0   0  69   0   0   0   2\n",
       "6   0   0   0   0   1   1  72   0   1   0\n",
       "7   0   1   0   0   0   0   0  69   1   4\n",
       "8   0   5   0   1   0   1   0   0  61   0\n",
       "9   0   4   0   2   1   1   0   0   2  68"
      ]
     },
     "execution_count": 266,
     "metadata": {},
     "output_type": "execute_result"
    }
   ],
   "source": [
    "#Create confusion matrix from predictions and y_test\n",
    "\n",
    "cm_digits = pd.DataFrame(confusion_matrix(y_test, preds2))\n",
    "\n",
    "cm_digits"
   ]
  },
  {
   "cell_type": "code",
   "execution_count": 254,
   "metadata": {},
   "outputs": [
    {
     "data": {
      "text/plain": [
       "(10, 10)"
      ]
     },
     "execution_count": 254,
     "metadata": {},
     "output_type": "execute_result"
    }
   ],
   "source": [
    "cm_digits.shape"
   ]
  },
  {
   "cell_type": "code",
   "execution_count": 216,
   "metadata": {},
   "outputs": [
    {
     "data": {
      "image/png": "[encoded data removed]",
      "text/plain": [
       "<matplotlib.figure.Figure at 0x1a1bd8e518>"
      ]
     },
     "metadata": {},
     "output_type": "display_data"
    }
   ],
   "source": [
    "#Heatmap version\n",
    "\n",
    "plt.figure(figsize=(10, 8))\n",
    "sns.heatmap(cm_digits, cmap='coolwarm', annot=True)\n",
    "plt.xlabel(\"Predicted Labels\")\n",
    "plt.ylabel(\"Actual Labels\");"
   ]
  },
  {
   "cell_type": "code",
   "execution_count": null,
   "metadata": {},
   "outputs": [],
   "source": []
  },
  {
   "cell_type": "markdown",
   "metadata": {},
   "source": [
    "What does this tell us?"
   ]
  },
  {
   "cell_type": "code",
   "execution_count": 219,
   "metadata": {},
   "outputs": [],
   "source": [
    "# from sklearn.datasets import fetch_mldata\n",
    "# mnist = fetch_mldata('MNIST original')"
   ]
  },
  {
   "cell_type": "code",
   "execution_count": 255,
   "metadata": {},
   "outputs": [
    {
     "data": {
      "text/plain": [
       "array([[61,  0,  0,  0,  1,  0,  0,  0,  0,  0],\n",
       "       [ 0, 63,  0,  0,  0,  0,  0,  0,  2,  0],\n",
       "       [ 0,  0, 77,  0,  0,  0,  0,  0,  1,  0],\n",
       "       [ 0,  0,  0, 65,  0,  1,  0,  3,  6,  1],\n",
       "       [ 0,  1,  0,  0, 66,  0,  0,  1,  0,  1],\n",
       "       [ 0,  2,  0,  0,  0, 69,  0,  0,  0,  2],\n",
       "       [ 0,  0,  0,  0,  1,  1, 72,  0,  1,  0],\n",
       "       [ 0,  1,  0,  0,  0,  0,  0, 69,  1,  4],\n",
       "       [ 0,  5,  0,  1,  0,  1,  0,  0, 61,  0],\n",
       "       [ 0,  4,  0,  2,  1,  1,  0,  0,  2, 68]])"
      ]
     },
     "execution_count": 255,
     "metadata": {},
     "output_type": "execute_result"
    }
   ],
   "source": [
    "confusion_matrix(y_test, preds2)"
   ]
  },
  {
   "cell_type": "code",
   "execution_count": null,
   "metadata": {},
   "outputs": [],
   "source": []
  },
  {
   "cell_type": "markdown",
   "metadata": {},
   "source": [
    "Let's see some of the images we got wrong."
   ]
  },
  {
   "cell_type": "code",
   "execution_count": 256,
   "metadata": {},
   "outputs": [],
   "source": [
    "#Identify indices of wrong predictions\n",
    "index = 0\n",
    "false_index = []"
   ]
  },
  {
   "cell_type": "code",
   "execution_count": 257,
   "metadata": {},
   "outputs": [],
   "source": [
    "false_preds = y_test!=preds2"
   ]
  },
  {
   "cell_type": "code",
   "execution_count": 258,
   "metadata": {},
   "outputs": [
    {
     "data": {
      "text/plain": [
       "array([False, False, False, False, False, False, False, False, False,\n",
       "       False, False, False, False, False, False, False, False, False,\n",
       "       False,  True])"
      ]
     },
     "execution_count": 258,
     "metadata": {},
     "output_type": "execute_result"
    }
   ],
   "source": [
    "false_preds[0:20]"
   ]
  },
  {
   "cell_type": "code",
   "execution_count": 259,
   "metadata": {},
   "outputs": [
    {
     "data": {
      "text/plain": [
       "48"
      ]
     },
     "execution_count": 259,
     "metadata": {},
     "output_type": "execute_result"
    }
   ],
   "source": [
    "for i,x in enumerate(false_preds):\n",
    "    if x:\n",
    "        false_index.append(i)\n",
    "\n",
    "len(false_index)"
   ]
  },
  {
   "cell_type": "code",
   "execution_count": 260,
   "metadata": {},
   "outputs": [],
   "source": [
    "# misclassifiedIndexes"
   ]
  },
  {
   "cell_type": "code",
   "execution_count": 263,
   "metadata": {},
   "outputs": [
    {
     "data": {
      "image/png": "[encoded data removed]",
      "text/plain": [
       "<matplotlib.figure.Figure at 0x1a10421ef0>"
      ]
     },
     "metadata": {},
     "output_type": "display_data"
    }
   ],
   "source": [
    "plt.figure(figsize=(20,4))\n",
    "for index, i in enumerate(false_index[0:5]):\n",
    "    plt.subplot(1,5,index+1)\n",
    "    image = X_test[false_index[index]]\n",
    "    plt.imshow(image.reshape(8,8))\n",
    "    plt.title('actual: {}, predict {}'.format(y_test[i], preds2[i]))"
   ]
  },
  {
   "cell_type": "code",
   "execution_count": null,
   "metadata": {},
   "outputs": [],
   "source": []
  },
  {
   "cell_type": "code",
   "execution_count": 265,
   "metadata": {},
   "outputs": [
    {
     "data": {
      "text/html": [
       "<div>\n",
       "<style scoped>\n",
       "    .dataframe tbody tr th:only-of-type {\n",
       "        vertical-align: middle;\n",
       "    }\n",
       "\n",
       "    .dataframe tbody tr th {\n",
       "        vertical-align: top;\n",
       "    }\n",
       "\n",
       "    .dataframe thead th {\n",
       "        text-align: right;\n",
       "    }\n",
       "</style>\n",
       "<table border=\"1\" class=\"dataframe\">\n",
       "  <thead>\n",
       "    <tr style=\"text-align: right;\">\n",
       "      <th></th>\n",
       "      <th>0</th>\n",
       "      <th>1</th>\n",
       "      <th>2</th>\n",
       "      <th>3</th>\n",
       "      <th>4</th>\n",
       "      <th>5</th>\n",
       "      <th>6</th>\n",
       "      <th>7</th>\n",
       "      <th>8</th>\n",
       "      <th>9</th>\n",
       "    </tr>\n",
       "  </thead>\n",
       "  <tbody>\n",
       "    <tr>\n",
       "      <th>0</th>\n",
       "      <td>61</td>\n",
       "      <td>0</td>\n",
       "      <td>0</td>\n",
       "      <td>0</td>\n",
       "      <td>1</td>\n",
       "      <td>0</td>\n",
       "      <td>0</td>\n",
       "      <td>0</td>\n",
       "      <td>0</td>\n",
       "      <td>0</td>\n",
       "    </tr>\n",
       "    <tr>\n",
       "      <th>1</th>\n",
       "      <td>0</td>\n",
       "      <td>63</td>\n",
       "      <td>0</td>\n",
       "      <td>0</td>\n",
       "      <td>0</td>\n",
       "      <td>0</td>\n",
       "      <td>0</td>\n",
       "      <td>0</td>\n",
       "      <td>2</td>\n",
       "      <td>0</td>\n",
       "    </tr>\n",
       "    <tr>\n",
       "      <th>2</th>\n",
       "      <td>0</td>\n",
       "      <td>0</td>\n",
       "      <td>77</td>\n",
       "      <td>0</td>\n",
       "      <td>0</td>\n",
       "      <td>0</td>\n",
       "      <td>0</td>\n",
       "      <td>0</td>\n",
       "      <td>1</td>\n",
       "      <td>0</td>\n",
       "    </tr>\n",
       "    <tr>\n",
       "      <th>3</th>\n",
       "      <td>0</td>\n",
       "      <td>0</td>\n",
       "      <td>0</td>\n",
       "      <td>65</td>\n",
       "      <td>0</td>\n",
       "      <td>1</td>\n",
       "      <td>0</td>\n",
       "      <td>3</td>\n",
       "      <td>6</td>\n",
       "      <td>1</td>\n",
       "    </tr>\n",
       "    <tr>\n",
       "      <th>4</th>\n",
       "      <td>0</td>\n",
       "      <td>1</td>\n",
       "      <td>0</td>\n",
       "      <td>0</td>\n",
       "      <td>66</td>\n",
       "      <td>0</td>\n",
       "      <td>0</td>\n",
       "      <td>1</td>\n",
       "      <td>0</td>\n",
       "      <td>1</td>\n",
       "    </tr>\n",
       "    <tr>\n",
       "      <th>5</th>\n",
       "      <td>0</td>\n",
       "      <td>2</td>\n",
       "      <td>0</td>\n",
       "      <td>0</td>\n",
       "      <td>0</td>\n",
       "      <td>69</td>\n",
       "      <td>0</td>\n",
       "      <td>0</td>\n",
       "      <td>0</td>\n",
       "      <td>2</td>\n",
       "    </tr>\n",
       "    <tr>\n",
       "      <th>6</th>\n",
       "      <td>0</td>\n",
       "      <td>0</td>\n",
       "      <td>0</td>\n",
       "      <td>0</td>\n",
       "      <td>1</td>\n",
       "      <td>1</td>\n",
       "      <td>72</td>\n",
       "      <td>0</td>\n",
       "      <td>1</td>\n",
       "      <td>0</td>\n",
       "    </tr>\n",
       "    <tr>\n",
       "      <th>7</th>\n",
       "      <td>0</td>\n",
       "      <td>1</td>\n",
       "      <td>0</td>\n",
       "      <td>0</td>\n",
       "      <td>0</td>\n",
       "      <td>0</td>\n",
       "      <td>0</td>\n",
       "      <td>69</td>\n",
       "      <td>1</td>\n",
       "      <td>4</td>\n",
       "    </tr>\n",
       "    <tr>\n",
       "      <th>8</th>\n",
       "      <td>0</td>\n",
       "      <td>5</td>\n",
       "      <td>0</td>\n",
       "      <td>1</td>\n",
       "      <td>0</td>\n",
       "      <td>1</td>\n",
       "      <td>0</td>\n",
       "      <td>0</td>\n",
       "      <td>61</td>\n",
       "      <td>0</td>\n",
       "    </tr>\n",
       "    <tr>\n",
       "      <th>9</th>\n",
       "      <td>0</td>\n",
       "      <td>4</td>\n",
       "      <td>0</td>\n",
       "      <td>2</td>\n",
       "      <td>1</td>\n",
       "      <td>1</td>\n",
       "      <td>0</td>\n",
       "      <td>0</td>\n",
       "      <td>2</td>\n",
       "      <td>68</td>\n",
       "    </tr>\n",
       "  </tbody>\n",
       "</table>\n",
       "</div>"
      ],
      "text/plain": [
       "    0   1   2   3   4   5   6   7   8   9\n",
       "0  61   0   0   0   1   0   0   0   0   0\n",
       "1   0  63   0   0   0   0   0   0   2   0\n",
       "2   0   0  77   0   0   0   0   0   1   0\n",
       "3   0   0   0  65   0   1   0   3   6   1\n",
       "4   0   1   0   0  66   0   0   1   0   1\n",
       "5   0   2   0   0   0  69   0   0   0   2\n",
       "6   0   0   0   0   1   1  72   0   1   0\n",
       "7   0   1   0   0   0   0   0  69   1   4\n",
       "8   0   5   0   1   0   1   0   0  61   0\n",
       "9   0   4   0   2   1   1   0   0   2  68"
      ]
     },
     "execution_count": 265,
     "metadata": {},
     "output_type": "execute_result"
    }
   ],
   "source": [
    "cm_digits"
   ]
  },
  {
   "cell_type": "markdown",
   "metadata": {},
   "source": [
    "Class exercise time: \n",
    "\n",
    "Which digit did our model do the best at identifying? What digit was the worst?"
   ]
  },
  {
   "cell_type": "code",
   "execution_count": 275,
   "metadata": {},
   "outputs": [
    {
     "data": {
      "text/html": [
       "<div>\n",
       "<style scoped>\n",
       "    .dataframe tbody tr th:only-of-type {\n",
       "        vertical-align: middle;\n",
       "    }\n",
       "\n",
       "    .dataframe tbody tr th {\n",
       "        vertical-align: top;\n",
       "    }\n",
       "\n",
       "    .dataframe thead th {\n",
       "        text-align: right;\n",
       "    }\n",
       "</style>\n",
       "<table border=\"1\" class=\"dataframe\">\n",
       "  <thead>\n",
       "    <tr style=\"text-align: right;\">\n",
       "      <th></th>\n",
       "      <th>1</th>\n",
       "      <th>2</th>\n",
       "      <th>3</th>\n",
       "      <th>4</th>\n",
       "      <th>5</th>\n",
       "      <th>6</th>\n",
       "      <th>7</th>\n",
       "      <th>8</th>\n",
       "      <th>9</th>\n",
       "    </tr>\n",
       "  </thead>\n",
       "  <tbody>\n",
       "    <tr>\n",
       "      <th>0</th>\n",
       "      <td>0</td>\n",
       "      <td>0</td>\n",
       "      <td>0</td>\n",
       "      <td>1</td>\n",
       "      <td>0</td>\n",
       "      <td>0</td>\n",
       "      <td>0</td>\n",
       "      <td>0</td>\n",
       "      <td>0</td>\n",
       "    </tr>\n",
       "    <tr>\n",
       "      <th>1</th>\n",
       "      <td>63</td>\n",
       "      <td>0</td>\n",
       "      <td>0</td>\n",
       "      <td>0</td>\n",
       "      <td>0</td>\n",
       "      <td>0</td>\n",
       "      <td>0</td>\n",
       "      <td>2</td>\n",
       "      <td>0</td>\n",
       "    </tr>\n",
       "    <tr>\n",
       "      <th>2</th>\n",
       "      <td>0</td>\n",
       "      <td>77</td>\n",
       "      <td>0</td>\n",
       "      <td>0</td>\n",
       "      <td>0</td>\n",
       "      <td>0</td>\n",
       "      <td>0</td>\n",
       "      <td>1</td>\n",
       "      <td>0</td>\n",
       "    </tr>\n",
       "    <tr>\n",
       "      <th>3</th>\n",
       "      <td>0</td>\n",
       "      <td>0</td>\n",
       "      <td>65</td>\n",
       "      <td>0</td>\n",
       "      <td>1</td>\n",
       "      <td>0</td>\n",
       "      <td>3</td>\n",
       "      <td>6</td>\n",
       "      <td>1</td>\n",
       "    </tr>\n",
       "    <tr>\n",
       "      <th>4</th>\n",
       "      <td>1</td>\n",
       "      <td>0</td>\n",
       "      <td>0</td>\n",
       "      <td>66</td>\n",
       "      <td>0</td>\n",
       "      <td>0</td>\n",
       "      <td>1</td>\n",
       "      <td>0</td>\n",
       "      <td>1</td>\n",
       "    </tr>\n",
       "    <tr>\n",
       "      <th>5</th>\n",
       "      <td>2</td>\n",
       "      <td>0</td>\n",
       "      <td>0</td>\n",
       "      <td>0</td>\n",
       "      <td>69</td>\n",
       "      <td>0</td>\n",
       "      <td>0</td>\n",
       "      <td>0</td>\n",
       "      <td>2</td>\n",
       "    </tr>\n",
       "    <tr>\n",
       "      <th>6</th>\n",
       "      <td>0</td>\n",
       "      <td>0</td>\n",
       "      <td>0</td>\n",
       "      <td>1</td>\n",
       "      <td>1</td>\n",
       "      <td>72</td>\n",
       "      <td>0</td>\n",
       "      <td>1</td>\n",
       "      <td>0</td>\n",
       "    </tr>\n",
       "    <tr>\n",
       "      <th>7</th>\n",
       "      <td>1</td>\n",
       "      <td>0</td>\n",
       "      <td>0</td>\n",
       "      <td>0</td>\n",
       "      <td>0</td>\n",
       "      <td>0</td>\n",
       "      <td>69</td>\n",
       "      <td>1</td>\n",
       "      <td>4</td>\n",
       "    </tr>\n",
       "    <tr>\n",
       "      <th>8</th>\n",
       "      <td>5</td>\n",
       "      <td>0</td>\n",
       "      <td>1</td>\n",
       "      <td>0</td>\n",
       "      <td>1</td>\n",
       "      <td>0</td>\n",
       "      <td>0</td>\n",
       "      <td>61</td>\n",
       "      <td>0</td>\n",
       "    </tr>\n",
       "    <tr>\n",
       "      <th>9</th>\n",
       "      <td>4</td>\n",
       "      <td>0</td>\n",
       "      <td>2</td>\n",
       "      <td>1</td>\n",
       "      <td>1</td>\n",
       "      <td>0</td>\n",
       "      <td>0</td>\n",
       "      <td>2</td>\n",
       "      <td>68</td>\n",
       "    </tr>\n",
       "  </tbody>\n",
       "</table>\n",
       "</div>"
      ],
      "text/plain": [
       "    1   2   3   4   5   6   7   8   9\n",
       "0   0   0   0   1   0   0   0   0   0\n",
       "1  63   0   0   0   0   0   0   2   0\n",
       "2   0  77   0   0   0   0   0   1   0\n",
       "3   0   0  65   0   1   0   3   6   1\n",
       "4   1   0   0  66   0   0   1   0   1\n",
       "5   2   0   0   0  69   0   0   0   2\n",
       "6   0   0   0   1   1  72   0   1   0\n",
       "7   1   0   0   0   0   0  69   1   4\n",
       "8   5   0   1   0   1   0   0  61   0\n",
       "9   4   0   2   1   1   0   0   2  68"
      ]
     },
     "execution_count": 275,
     "metadata": {},
     "output_type": "execute_result"
    }
   ],
   "source": [
    "cm_digits.drop(0, axis=1)"
   ]
  },
  {
   "cell_type": "code",
   "execution_count": 285,
   "metadata": {},
   "outputs": [
    {
     "data": {
      "text/plain": [
       "657"
      ]
     },
     "execution_count": 285,
     "metadata": {},
     "output_type": "execute_result"
    }
   ],
   "source": [
    "cm_digits.drop(0).sum().sum()"
   ]
  },
  {
   "cell_type": "code",
   "execution_count": 301,
   "metadata": {},
   "outputs": [
    {
     "data": {
      "text/plain": [
       "13"
      ]
     },
     "execution_count": 301,
     "metadata": {},
     "output_type": "execute_result"
    }
   ],
   "source": [
    "cm_digits.drop(1)[:][1].sum()"
   ]
  },
  {
   "cell_type": "code",
   "execution_count": 318,
   "metadata": {},
   "outputs": [
    {
     "data": {
      "text/plain": [
       "0     0\n",
       "1     2\n",
       "2     1\n",
       "3     6\n",
       "4     0\n",
       "5     0\n",
       "6     1\n",
       "7     1\n",
       "8    61\n",
       "9     2\n",
       "Name: 8, dtype: int64"
      ]
     },
     "execution_count": 318,
     "metadata": {},
     "output_type": "execute_result"
    }
   ],
   "source": [
    "cm_digits[8]"
   ]
  },
  {
   "cell_type": "code",
   "execution_count": 321,
   "metadata": {},
   "outputs": [],
   "source": [
    "# cm_digits.drop(1, axis=1)[:,1]"
   ]
  },
  {
   "cell_type": "code",
   "execution_count": 323,
   "metadata": {},
   "outputs": [
    {
     "data": {
      "text/plain": [
       "{0: 0.9986111111111111,\n",
       " 1: 0.9791955617198336,\n",
       " 2: 0.9986111111111111,\n",
       " 3: 0.9808219178082191,\n",
       " 4: 0.9916897506925207,\n",
       " 5: 0.9889349930843707,\n",
       " 6: 0.9958448753462604,\n",
       " 7: 0.9862068965517241,\n",
       " 8: 0.9724517906336089,\n",
       " 9: 0.9753086419753086}"
      ]
     },
     "execution_count": 323,
     "metadata": {},
     "output_type": "execute_result"
    }
   ],
   "source": [
    "#Accuracy score answer \n",
    "\n",
    "acc_scores = {}\n",
    "\n",
    "for i in range(10):\n",
    "    tp = cm_digits[i][i]\n",
    "    tn = cm_digits.drop(i, axis=1).sum().sum()\n",
    "    fp = cm_digits.drop(i)[:][i].sum()\n",
    "    fn = cm_digits.drop(i, axis=1).iloc[i].sum()\n",
    "    acc_score = (tp+tn)/(tp+tn+fp+fn)\n",
    "    acc_scores[i] = acc_score\n",
    "\n",
    "acc_scores"
   ]
  },
  {
   "cell_type": "code",
   "execution_count": 327,
   "metadata": {},
   "outputs": [
    {
     "data": {
      "text/plain": [
       "[(0, 0.9986111111111111),\n",
       " (2, 0.9986111111111111),\n",
       " (6, 0.9958448753462604),\n",
       " (4, 0.9916897506925207),\n",
       " (5, 0.9889349930843707),\n",
       " (7, 0.9862068965517241),\n",
       " (3, 0.9808219178082191),\n",
       " (1, 0.9791955617198336),\n",
       " (9, 0.9753086419753086),\n",
       " (8, 0.9724517906336089)]"
      ]
     },
     "execution_count": 327,
     "metadata": {},
     "output_type": "execute_result"
    }
   ],
   "source": [
    "sorted(acc_scores.items(), key=lambda x:x[1], reverse=True)"
   ]
  },
  {
   "cell_type": "code",
   "execution_count": 328,
   "metadata": {},
   "outputs": [
    {
     "data": {
      "text/plain": [
       "{0: 1.0,\n",
       " 1: 0.8289473684210527,\n",
       " 2: 1.0,\n",
       " 3: 0.9558823529411765,\n",
       " 4: 0.9565217391304348,\n",
       " 5: 0.9452054794520548,\n",
       " 6: 1.0,\n",
       " 7: 0.9452054794520548,\n",
       " 8: 0.8243243243243243,\n",
       " 9: 0.8947368421052632}"
      ]
     },
     "execution_count": 328,
     "metadata": {},
     "output_type": "execute_result"
    }
   ],
   "source": [
    "#Precision score answer \n",
    "\n",
    "prec_scores = {}\n",
    "\n",
    "for i in range(10):\n",
    "    tp = cm_digits[i][i]\n",
    "#     tn = cm_digits.drop(i, axis=1).sum().sum()\n",
    "    fp = cm_digits.drop(i)[:][i].sum()\n",
    "#     fn = cm_digits.drop(i, axis=1).iloc[i].sum()\n",
    "    prec_score = (tp)/(tp+fp)\n",
    "    prec_scores[i] = prec_score\n",
    "\n",
    "prec_scores"
   ]
  },
  {
   "cell_type": "code",
   "execution_count": 329,
   "metadata": {},
   "outputs": [
    {
     "data": {
      "text/plain": [
       "[(0, 1.0),\n",
       " (2, 1.0),\n",
       " (6, 1.0),\n",
       " (4, 0.9565217391304348),\n",
       " (3, 0.9558823529411765),\n",
       " (5, 0.9452054794520548),\n",
       " (7, 0.9452054794520548),\n",
       " (9, 0.8947368421052632),\n",
       " (1, 0.8289473684210527),\n",
       " (8, 0.8243243243243243)]"
      ]
     },
     "execution_count": 329,
     "metadata": {},
     "output_type": "execute_result"
    }
   ],
   "source": [
    "sorted(prec_scores.items(), key=lambda x:x[1], reverse=True)"
   ]
  },
  {
   "cell_type": "code",
   "execution_count": 357,
   "metadata": {},
   "outputs": [
    {
     "data": {
      "text/plain": [
       "{0: 0.9838709677419355,\n",
       " 1: 0.9692307692307692,\n",
       " 2: 0.9871794871794872,\n",
       " 3: 0.8552631578947368,\n",
       " 4: 0.9565217391304348,\n",
       " 5: 0.9452054794520548,\n",
       " 6: 0.96,\n",
       " 7: 0.92,\n",
       " 8: 0.8970588235294118,\n",
       " 9: 0.8717948717948718}"
      ]
     },
     "execution_count": 357,
     "metadata": {},
     "output_type": "execute_result"
    }
   ],
   "source": [
    "#Recall score answer \n",
    "\n",
    "recall_scores = {}\n",
    "\n",
    "for i in range(10):\n",
    "    tp = cm_digits[i][i]\n",
    "#     tn = cm_digits.drop(i, axis=1).sum().sum()\n",
    "#     fp = cm_digits.drop(i)[:][i].sum()\n",
    "    fn = cm_digits.drop(i, axis=1).iloc[i].sum()\n",
    "    rec_score = (tp)/(tp+fn)\n",
    "    recall_scores[i] = rec_score\n",
    "\n",
    "recall_scores\n",
    "\n"
   ]
  },
  {
   "cell_type": "code",
   "execution_count": 358,
   "metadata": {},
   "outputs": [
    {
     "data": {
      "text/plain": [
       "[(2, 0.9871794871794872),\n",
       " (0, 0.9838709677419355),\n",
       " (1, 0.9692307692307692),\n",
       " (6, 0.96),\n",
       " (4, 0.9565217391304348),\n",
       " (5, 0.9452054794520548),\n",
       " (7, 0.92),\n",
       " (8, 0.8970588235294118),\n",
       " (9, 0.8717948717948718),\n",
       " (3, 0.8552631578947368)]"
      ]
     },
     "execution_count": 358,
     "metadata": {},
     "output_type": "execute_result"
    }
   ],
   "source": [
    "sorted(recall_scores.items(), key=lambda x:x[1], reverse=True)"
   ]
  },
  {
   "cell_type": "code",
   "execution_count": null,
   "metadata": {},
   "outputs": [],
   "source": []
  },
  {
   "cell_type": "code",
   "execution_count": null,
   "metadata": {},
   "outputs": [],
   "source": []
  },
  {
   "cell_type": "markdown",
   "metadata": {},
   "source": [
    "## Imbalanced Class Machine Learning"
   ]
  },
  {
   "cell_type": "markdown",
   "metadata": {},
   "source": [
    "As if often the case in real-world machine learning, there is a huge imbalance between the distribution of class of the variable we're trying to predicting.\n",
    "\n",
    "Class False: 98.23%\n",
    "\n",
    "Class True: 1.77%"
   ]
  },
  {
   "cell_type": "markdown",
   "metadata": {},
   "source": [
    "Illustrated example\n",
    "![www](http://www.svds.com/wp-content/uploads/2016/08/messy.png)"
   ]
  },
  {
   "cell_type": "markdown",
   "metadata": {},
   "source": [
    "The main problem that imbalanced machine learning project present that is they render the accuracy score metric almost irrelevant.\n",
    "\n",
    "If our null accuracy is 99.5%, then we don't have much room for improvement.\n",
    "\n",
    "<br>\n",
    "\n",
    "Imagine a confusion with 1000 TNs, 20 FPs, 15 FNs, and 25 TPs. What would the accuracy, precision, and recall scores be?"
   ]
  },
  {
   "cell_type": "code",
   "execution_count": 332,
   "metadata": {},
   "outputs": [
    {
     "data": {
      "text/html": [
       "<div>\n",
       "<style scoped>\n",
       "    .dataframe tbody tr th:only-of-type {\n",
       "        vertical-align: middle;\n",
       "    }\n",
       "\n",
       "    .dataframe tbody tr th {\n",
       "        vertical-align: top;\n",
       "    }\n",
       "\n",
       "    .dataframe thead th {\n",
       "        text-align: right;\n",
       "    }\n",
       "</style>\n",
       "<table border=\"1\" class=\"dataframe\">\n",
       "  <thead>\n",
       "    <tr style=\"text-align: right;\">\n",
       "      <th></th>\n",
       "      <th>Predicted_False</th>\n",
       "      <th>Predicted_True</th>\n",
       "    </tr>\n",
       "  </thead>\n",
       "  <tbody>\n",
       "    <tr>\n",
       "      <th>Actual_False</th>\n",
       "      <td>1000</td>\n",
       "      <td>20</td>\n",
       "    </tr>\n",
       "    <tr>\n",
       "      <th>Actual_True</th>\n",
       "      <td>15</td>\n",
       "      <td>25</td>\n",
       "    </tr>\n",
       "  </tbody>\n",
       "</table>\n",
       "</div>"
      ],
      "text/plain": [
       "              Predicted_False  Predicted_True\n",
       "Actual_False             1000              20\n",
       "Actual_True                15              25"
      ]
     },
     "execution_count": 332,
     "metadata": {},
     "output_type": "execute_result"
    }
   ],
   "source": [
    "#Confusion matrix form\n",
    "pd.DataFrame(data=[[1000, 20], [15, 25]], \n",
    "             columns=[\"Predicted_False\", \"Predicted_True\"], \n",
    "             index=[\"Actual_False\", \"Actual_True\"])"
   ]
  },
  {
   "cell_type": "code",
   "execution_count": 333,
   "metadata": {},
   "outputs": [],
   "source": [
    "#Assign variables\n",
    "\n",
    "tn = 1000.\n",
    "fp = 20.\n",
    "fn = 15.\n",
    "tp = 25."
   ]
  },
  {
   "cell_type": "code",
   "execution_count": 334,
   "metadata": {},
   "outputs": [
    {
     "data": {
      "text/plain": [
       "0.9669811320754716"
      ]
     },
     "execution_count": 334,
     "metadata": {},
     "output_type": "execute_result"
    }
   ],
   "source": [
    "#Accuracy score\n",
    "\n",
    "(tp + tn)/(tn + fp + fn + tp)"
   ]
  },
  {
   "cell_type": "code",
   "execution_count": null,
   "metadata": {},
   "outputs": [],
   "source": []
  },
  {
   "cell_type": "code",
   "execution_count": null,
   "metadata": {},
   "outputs": [],
   "source": []
  },
  {
   "cell_type": "markdown",
   "metadata": {},
   "source": [
    "Pretty good score! Or is it???"
   ]
  },
  {
   "cell_type": "code",
   "execution_count": 335,
   "metadata": {},
   "outputs": [
    {
     "data": {
      "text/plain": [
       "0.9622641509433962"
      ]
     },
     "execution_count": 335,
     "metadata": {},
     "output_type": "execute_result"
    }
   ],
   "source": [
    "#Whats the null accuracy\n",
    "\n",
    "(tn + fp)/(tn + fp + fn + tp)"
   ]
  },
  {
   "cell_type": "code",
   "execution_count": null,
   "metadata": {},
   "outputs": [],
   "source": []
  },
  {
   "cell_type": "code",
   "execution_count": null,
   "metadata": {},
   "outputs": [],
   "source": []
  },
  {
   "cell_type": "markdown",
   "metadata": {},
   "source": [
    "We hardly beat the null accuracy. Now let's calculate precision and recall"
   ]
  },
  {
   "cell_type": "code",
   "execution_count": 336,
   "metadata": {},
   "outputs": [
    {
     "data": {
      "text/plain": [
       "0.5555555555555556"
      ]
     },
     "execution_count": 336,
     "metadata": {},
     "output_type": "execute_result"
    }
   ],
   "source": [
    "#Precision\n",
    "\n",
    "tp/(tp + fp)"
   ]
  },
  {
   "cell_type": "code",
   "execution_count": 337,
   "metadata": {},
   "outputs": [
    {
     "data": {
      "text/plain": [
       "0.625"
      ]
     },
     "execution_count": 337,
     "metadata": {},
     "output_type": "execute_result"
    }
   ],
   "source": [
    "#Recall\n",
    "tp/(tp + fn)"
   ]
  },
  {
   "cell_type": "code",
   "execution_count": null,
   "metadata": {},
   "outputs": [],
   "source": []
  },
  {
   "cell_type": "markdown",
   "metadata": {},
   "source": [
    "Do we have a good model or not?"
   ]
  },
  {
   "cell_type": "code",
   "execution_count": null,
   "metadata": {},
   "outputs": [],
   "source": []
  },
  {
   "cell_type": "code",
   "execution_count": null,
   "metadata": {},
   "outputs": [],
   "source": []
  },
  {
   "cell_type": "markdown",
   "metadata": {},
   "source": [
    "Let's move onto the real thing by modeling credit card fraud data\n",
    "\n",
    "https://www.kaggle.com/dalpozz/creditcardfraud"
   ]
  },
  {
   "cell_type": "code",
   "execution_count": 338,
   "metadata": {},
   "outputs": [
    {
     "data": {
      "text/html": [
       "<div>\n",
       "<style scoped>\n",
       "    .dataframe tbody tr th:only-of-type {\n",
       "        vertical-align: middle;\n",
       "    }\n",
       "\n",
       "    .dataframe tbody tr th {\n",
       "        vertical-align: top;\n",
       "    }\n",
       "\n",
       "    .dataframe thead th {\n",
       "        text-align: right;\n",
       "    }\n",
       "</style>\n",
       "<table border=\"1\" class=\"dataframe\">\n",
       "  <thead>\n",
       "    <tr style=\"text-align: right;\">\n",
       "      <th></th>\n",
       "      <th>V1</th>\n",
       "      <th>V2</th>\n",
       "      <th>V3</th>\n",
       "      <th>V4</th>\n",
       "      <th>V5</th>\n",
       "      <th>V6</th>\n",
       "      <th>V7</th>\n",
       "      <th>V8</th>\n",
       "      <th>V9</th>\n",
       "      <th>V10</th>\n",
       "      <th>...</th>\n",
       "      <th>V21</th>\n",
       "      <th>V22</th>\n",
       "      <th>V23</th>\n",
       "      <th>V24</th>\n",
       "      <th>V25</th>\n",
       "      <th>V26</th>\n",
       "      <th>V27</th>\n",
       "      <th>V28</th>\n",
       "      <th>Amount</th>\n",
       "      <th>Class</th>\n",
       "    </tr>\n",
       "  </thead>\n",
       "  <tbody>\n",
       "    <tr>\n",
       "      <th>0</th>\n",
       "      <td>-1.359807</td>\n",
       "      <td>-0.072781</td>\n",
       "      <td>2.536347</td>\n",
       "      <td>1.378155</td>\n",
       "      <td>-0.338321</td>\n",
       "      <td>0.462388</td>\n",
       "      <td>0.239599</td>\n",
       "      <td>0.098698</td>\n",
       "      <td>0.363787</td>\n",
       "      <td>0.090794</td>\n",
       "      <td>...</td>\n",
       "      <td>-0.018307</td>\n",
       "      <td>0.277838</td>\n",
       "      <td>-0.110474</td>\n",
       "      <td>0.066928</td>\n",
       "      <td>0.128539</td>\n",
       "      <td>-0.189115</td>\n",
       "      <td>0.133558</td>\n",
       "      <td>-0.021053</td>\n",
       "      <td>149.62</td>\n",
       "      <td>0</td>\n",
       "    </tr>\n",
       "    <tr>\n",
       "      <th>12</th>\n",
       "      <td>1.249999</td>\n",
       "      <td>-1.221637</td>\n",
       "      <td>0.383930</td>\n",
       "      <td>-1.234899</td>\n",
       "      <td>-1.485419</td>\n",
       "      <td>-0.753230</td>\n",
       "      <td>-0.689405</td>\n",
       "      <td>-0.227487</td>\n",
       "      <td>-2.094011</td>\n",
       "      <td>1.323729</td>\n",
       "      <td>...</td>\n",
       "      <td>-0.231809</td>\n",
       "      <td>-0.483285</td>\n",
       "      <td>0.084668</td>\n",
       "      <td>0.392831</td>\n",
       "      <td>0.161135</td>\n",
       "      <td>-0.354990</td>\n",
       "      <td>0.026416</td>\n",
       "      <td>0.042422</td>\n",
       "      <td>121.50</td>\n",
       "      <td>0</td>\n",
       "    </tr>\n",
       "    <tr>\n",
       "      <th>15</th>\n",
       "      <td>-0.752417</td>\n",
       "      <td>0.345485</td>\n",
       "      <td>2.057323</td>\n",
       "      <td>-1.468643</td>\n",
       "      <td>-1.158394</td>\n",
       "      <td>-0.077850</td>\n",
       "      <td>-0.608581</td>\n",
       "      <td>0.003603</td>\n",
       "      <td>-0.436167</td>\n",
       "      <td>0.747731</td>\n",
       "      <td>...</td>\n",
       "      <td>0.499625</td>\n",
       "      <td>1.353650</td>\n",
       "      <td>-0.256573</td>\n",
       "      <td>-0.065084</td>\n",
       "      <td>-0.039124</td>\n",
       "      <td>-0.087086</td>\n",
       "      <td>-0.180998</td>\n",
       "      <td>0.129394</td>\n",
       "      <td>15.99</td>\n",
       "      <td>0</td>\n",
       "    </tr>\n",
       "    <tr>\n",
       "      <th>16</th>\n",
       "      <td>1.103215</td>\n",
       "      <td>-0.040296</td>\n",
       "      <td>1.267332</td>\n",
       "      <td>1.289091</td>\n",
       "      <td>-0.735997</td>\n",
       "      <td>0.288069</td>\n",
       "      <td>-0.586057</td>\n",
       "      <td>0.189380</td>\n",
       "      <td>0.782333</td>\n",
       "      <td>-0.267975</td>\n",
       "      <td>...</td>\n",
       "      <td>-0.024612</td>\n",
       "      <td>0.196002</td>\n",
       "      <td>0.013802</td>\n",
       "      <td>0.103758</td>\n",
       "      <td>0.364298</td>\n",
       "      <td>-0.382261</td>\n",
       "      <td>0.092809</td>\n",
       "      <td>0.037051</td>\n",
       "      <td>12.99</td>\n",
       "      <td>0</td>\n",
       "    </tr>\n",
       "    <tr>\n",
       "      <th>21</th>\n",
       "      <td>0.962496</td>\n",
       "      <td>0.328461</td>\n",
       "      <td>-0.171479</td>\n",
       "      <td>2.109204</td>\n",
       "      <td>1.129566</td>\n",
       "      <td>1.696038</td>\n",
       "      <td>0.107712</td>\n",
       "      <td>0.521502</td>\n",
       "      <td>-1.191311</td>\n",
       "      <td>0.724396</td>\n",
       "      <td>...</td>\n",
       "      <td>0.143997</td>\n",
       "      <td>0.402492</td>\n",
       "      <td>-0.048508</td>\n",
       "      <td>-1.371866</td>\n",
       "      <td>0.390814</td>\n",
       "      <td>0.199964</td>\n",
       "      <td>0.016371</td>\n",
       "      <td>-0.014605</td>\n",
       "      <td>34.09</td>\n",
       "      <td>0</td>\n",
       "    </tr>\n",
       "  </tbody>\n",
       "</table>\n",
       "<p>5 rows × 30 columns</p>\n",
       "</div>"
      ],
      "text/plain": [
       "          V1        V2        V3        V4        V5        V6        V7  \\\n",
       "0  -1.359807 -0.072781  2.536347  1.378155 -0.338321  0.462388  0.239599   \n",
       "12  1.249999 -1.221637  0.383930 -1.234899 -1.485419 -0.753230 -0.689405   \n",
       "15 -0.752417  0.345485  2.057323 -1.468643 -1.158394 -0.077850 -0.608581   \n",
       "16  1.103215 -0.040296  1.267332  1.289091 -0.735997  0.288069 -0.586057   \n",
       "21  0.962496  0.328461 -0.171479  2.109204  1.129566  1.696038  0.107712   \n",
       "\n",
       "          V8        V9       V10  ...         V21       V22       V23  \\\n",
       "0   0.098698  0.363787  0.090794  ...   -0.018307  0.277838 -0.110474   \n",
       "12 -0.227487 -2.094011  1.323729  ...   -0.231809 -0.483285  0.084668   \n",
       "15  0.003603 -0.436167  0.747731  ...    0.499625  1.353650 -0.256573   \n",
       "16  0.189380  0.782333 -0.267975  ...   -0.024612  0.196002  0.013802   \n",
       "21  0.521502 -1.191311  0.724396  ...    0.143997  0.402492 -0.048508   \n",
       "\n",
       "         V24       V25       V26       V27       V28  Amount  Class  \n",
       "0   0.066928  0.128539 -0.189115  0.133558 -0.021053  149.62      0  \n",
       "12  0.392831  0.161135 -0.354990  0.026416  0.042422  121.50      0  \n",
       "15 -0.065084 -0.039124 -0.087086 -0.180998  0.129394   15.99      0  \n",
       "16  0.103758  0.364298 -0.382261  0.092809  0.037051   12.99      0  \n",
       "21 -1.371866  0.390814  0.199964  0.016371 -0.014605   34.09      0  \n",
       "\n",
       "[5 rows x 30 columns]"
      ]
     },
     "execution_count": 338,
     "metadata": {},
     "output_type": "execute_result"
    }
   ],
   "source": [
    "path = \"../../data/fraud.csv\"\n",
    "\n",
    "fraud = pd.read_csv(path, index_col=[0])\n",
    "\n",
    "fraud.drop(\"Time\", axis = 1, inplace = True)\n",
    "fraud.head()"
   ]
  },
  {
   "cell_type": "markdown",
   "metadata": {},
   "source": [
    "The V features are principal components which we'll learn about next Thursday, in the meantime think of them as hidden features."
   ]
  },
  {
   "cell_type": "code",
   "execution_count": null,
   "metadata": {},
   "outputs": [],
   "source": []
  },
  {
   "cell_type": "code",
   "execution_count": null,
   "metadata": {},
   "outputs": [],
   "source": []
  },
  {
   "cell_type": "markdown",
   "metadata": {},
   "source": [
    "Let'see how imbalanced the classes are"
   ]
  },
  {
   "cell_type": "code",
   "execution_count": 342,
   "metadata": {},
   "outputs": [
    {
     "data": {
      "text/plain": [
       "0    64315\n",
       "1      492\n",
       "Name: Class, dtype: int64"
      ]
     },
     "execution_count": 342,
     "metadata": {},
     "output_type": "execute_result"
    }
   ],
   "source": [
    "#Value counts without normalize\n",
    "fraud.Class.value_counts()"
   ]
  },
  {
   "cell_type": "code",
   "execution_count": 343,
   "metadata": {},
   "outputs": [
    {
     "data": {
      "text/plain": [
       "0    0.992408\n",
       "1    0.007592\n",
       "Name: Class, dtype: float64"
      ]
     },
     "execution_count": 343,
     "metadata": {},
     "output_type": "execute_result"
    }
   ],
   "source": [
    "#Value counts with normalize\n",
    "fraud.Class.value_counts(normalize=True)"
   ]
  },
  {
   "cell_type": "code",
   "execution_count": null,
   "metadata": {},
   "outputs": [],
   "source": []
  },
  {
   "cell_type": "code",
   "execution_count": null,
   "metadata": {},
   "outputs": [],
   "source": []
  },
  {
   "cell_type": "markdown",
   "metadata": {},
   "source": [
    "That is pretty imbalanced would you say?"
   ]
  },
  {
   "cell_type": "code",
   "execution_count": null,
   "metadata": {},
   "outputs": [],
   "source": []
  },
  {
   "cell_type": "code",
   "execution_count": 344,
   "metadata": {},
   "outputs": [
    {
     "data": {
      "text/plain": [
       "Class\n",
       "0     89.589643\n",
       "1    122.211321\n",
       "Name: Amount, dtype: float64"
      ]
     },
     "execution_count": 344,
     "metadata": {},
     "output_type": "execute_result"
    }
   ],
   "source": [
    "#Quick EDA to find relationship amount and fraud status\n",
    "\n",
    "fraud.groupby(\"Class\").mean()[\"Amount\"]"
   ]
  },
  {
   "cell_type": "code",
   "execution_count": null,
   "metadata": {},
   "outputs": [],
   "source": []
  },
  {
   "cell_type": "code",
   "execution_count": null,
   "metadata": {},
   "outputs": [],
   "source": []
  },
  {
   "cell_type": "markdown",
   "metadata": {},
   "source": [
    "What does this say about the relationship between amount of the transaction and fraudelent status?"
   ]
  },
  {
   "cell_type": "code",
   "execution_count": null,
   "metadata": {},
   "outputs": [],
   "source": []
  },
  {
   "cell_type": "code",
   "execution_count": null,
   "metadata": {},
   "outputs": [],
   "source": []
  },
  {
   "cell_type": "markdown",
   "metadata": {},
   "source": [
    "Before we get into modeling, what metric should we try to minimize False Negatives or False Positives? Why?"
   ]
  },
  {
   "cell_type": "code",
   "execution_count": null,
   "metadata": {},
   "outputs": [],
   "source": []
  },
  {
   "cell_type": "code",
   "execution_count": null,
   "metadata": {},
   "outputs": [],
   "source": []
  },
  {
   "cell_type": "markdown",
   "metadata": {},
   "source": [
    "Let's do some modeling.\n",
    "\n",
    "Train a logistic regression model and evaluate it on the testing dataset using accuracy, recall, and precision scores"
   ]
  },
  {
   "cell_type": "code",
   "execution_count": 399,
   "metadata": {},
   "outputs": [],
   "source": [
    "#Assign variables\n",
    "\n",
    "X = fraud.drop(\"Class\", axis = 1)\n",
    "\n",
    "y = fraud.Class"
   ]
  },
  {
   "cell_type": "code",
   "execution_count": 400,
   "metadata": {},
   "outputs": [],
   "source": [
    "#Make a train test split\n",
    "\n",
    "X_train, X_test, y_train, y_test = train_test_split(X, y, test_size = 0.4, random_state = 25)"
   ]
  },
  {
   "cell_type": "code",
   "execution_count": 401,
   "metadata": {},
   "outputs": [
    {
     "data": {
      "text/plain": [
       "LogisticRegression(C=1.0, class_weight=None, dual=False, fit_intercept=True,\n",
       "          intercept_scaling=1, max_iter=100, multi_class='ovr', n_jobs=1,\n",
       "          penalty='l2', random_state=None, solver='liblinear', tol=0.0001,\n",
       "          verbose=0, warm_start=False)"
      ]
     },
     "execution_count": 401,
     "metadata": {},
     "output_type": "execute_result"
    }
   ],
   "source": [
    "#Fit logistic regression model on training data\n",
    "\n",
    "lr = LogisticRegression()\n",
    "lr.fit(X_train, y_train)\n"
   ]
  },
  {
   "cell_type": "code",
   "execution_count": 402,
   "metadata": {},
   "outputs": [
    {
     "data": {
      "text/plain": [
       "0    0.992979\n",
       "1    0.007021\n",
       "Name: Class, dtype: float64"
      ]
     },
     "execution_count": 402,
     "metadata": {},
     "output_type": "execute_result"
    }
   ],
   "source": [
    "#Null accuracy of testing data\n",
    "\n",
    "y_test.value_counts(normalize=True)"
   ]
  },
  {
   "cell_type": "code",
   "execution_count": 403,
   "metadata": {},
   "outputs": [
    {
     "data": {
      "text/plain": [
       "0.9981869382401728"
      ]
     },
     "execution_count": 403,
     "metadata": {},
     "output_type": "execute_result"
    }
   ],
   "source": [
    "#Evaluate it on testing set using accuracy score\n",
    "\n",
    "preds = lr.predict(X_test)\n",
    "accuracy_score(y_test, preds)"
   ]
  },
  {
   "cell_type": "code",
   "execution_count": 404,
   "metadata": {},
   "outputs": [
    {
     "data": {
      "text/plain": [
       "0.9411764705882353"
      ]
     },
     "execution_count": 404,
     "metadata": {},
     "output_type": "execute_result"
    }
   ],
   "source": [
    "#Evaluate it on testing set using precision score\n",
    "\n",
    "precision_score(y_test, preds)\n"
   ]
  },
  {
   "cell_type": "code",
   "execution_count": 405,
   "metadata": {},
   "outputs": [
    {
     "data": {
      "text/plain": [
       "0.7912087912087912"
      ]
     },
     "execution_count": 405,
     "metadata": {},
     "output_type": "execute_result"
    }
   ],
   "source": [
    "#Evaluate it on testing set using recall score\n",
    "\n",
    "recall_score(y_test, preds)"
   ]
  },
  {
   "cell_type": "code",
   "execution_count": 406,
   "metadata": {},
   "outputs": [
    {
     "data": {
      "text/plain": [
       "array([[25732,     9],\n",
       "       [   38,   144]])"
      ]
     },
     "execution_count": 406,
     "metadata": {},
     "output_type": "execute_result"
    }
   ],
   "source": [
    "#Confusion matrix\n",
    "\n",
    "confusion_matrix(y_test, preds)"
   ]
  },
  {
   "cell_type": "markdown",
   "metadata": {},
   "source": [
    "What do these metrics tell us about our dataset?"
   ]
  },
  {
   "cell_type": "code",
   "execution_count": null,
   "metadata": {},
   "outputs": [],
   "source": []
  },
  {
   "cell_type": "code",
   "execution_count": null,
   "metadata": {},
   "outputs": [],
   "source": []
  },
  {
   "cell_type": "markdown",
   "metadata": {},
   "source": [
    "Cross validation time"
   ]
  },
  {
   "cell_type": "code",
   "execution_count": 407,
   "metadata": {},
   "outputs": [
    {
     "data": {
      "text/plain": [
       "0.9978551609155503"
      ]
     },
     "execution_count": 407,
     "metadata": {},
     "output_type": "execute_result"
    }
   ],
   "source": [
    "cross_val_score(LogisticRegression(), X, y, cv=5, scoring='accuracy').mean()"
   ]
  },
  {
   "cell_type": "code",
   "execution_count": 408,
   "metadata": {},
   "outputs": [
    {
     "data": {
      "text/plain": [
       "0.9456811815635346"
      ]
     },
     "execution_count": 408,
     "metadata": {},
     "output_type": "execute_result"
    }
   ],
   "source": [
    "#Cross validate using precision score\n",
    "\n",
    "cross_val_score(LogisticRegression(), X, y, cv=5, scoring='precision').mean()"
   ]
  },
  {
   "cell_type": "code",
   "execution_count": 409,
   "metadata": {},
   "outputs": [
    {
     "data": {
      "text/plain": [
       "0.7639868068439497"
      ]
     },
     "execution_count": 409,
     "metadata": {},
     "output_type": "execute_result"
    }
   ],
   "source": [
    "#Cross validate using precision score\n",
    "\n",
    "cross_val_score(LogisticRegression(), X, y, cv=5, scoring='recall').mean()"
   ]
  },
  {
   "cell_type": "code",
   "execution_count": 410,
   "metadata": {},
   "outputs": [
    {
     "data": {
      "text/plain": [
       "0.9747032268272591"
      ]
     },
     "execution_count": 410,
     "metadata": {},
     "output_type": "execute_result"
    }
   ],
   "source": [
    "#Cross validate using roc_auc score\n",
    "\n",
    "cross_val_score(LogisticRegression(), X, y, cv=5, scoring='roc_auc').mean()"
   ]
  },
  {
   "cell_type": "code",
   "execution_count": null,
   "metadata": {},
   "outputs": [],
   "source": []
  },
  {
   "cell_type": "code",
   "execution_count": null,
   "metadata": {},
   "outputs": [],
   "source": []
  },
  {
   "cell_type": "markdown",
   "metadata": {},
   "source": [
    "Make a roc curve"
   ]
  },
  {
   "cell_type": "code",
   "execution_count": 372,
   "metadata": {},
   "outputs": [
    {
     "data": {
      "text/plain": [
       "array([0.00062562, 0.00302408, 0.00070984, ..., 0.0009586 , 0.00113733,\n",
       "       0.00120691])"
      ]
     },
     "execution_count": 372,
     "metadata": {},
     "output_type": "execute_result"
    }
   ],
   "source": [
    "lr.predict_proba(X_test)[:,1]"
   ]
  },
  {
   "cell_type": "code",
   "execution_count": 375,
   "metadata": {},
   "outputs": [],
   "source": [
    "#Derive probabilities of class 1 from the test set\n",
    "test_probabs = lr.predict_proba(X_test)[:,1]\n",
    "\n",
    "#Pass in the test_probs variable and the true test labels aka y_test in the roc_curve function\n",
    "fpr, tpr, thres = roc_curve(y_test, test_probabs)\n",
    "\n",
    "#Outputs the fpr, tpr, for varying thresholds"
   ]
  },
  {
   "cell_type": "code",
   "execution_count": 376,
   "metadata": {},
   "outputs": [
    {
     "data": {
      "image/png": "[encoded data removed]",
      "text/plain": [
       "<matplotlib.figure.Figure at 0x1a1c3fc780>"
      ]
     },
     "metadata": {},
     "output_type": "display_data"
    }
   ],
   "source": [
    "#Plot ROC_curve again but this time annotate the curve with the threshold value\n",
    "plt.figure(figsize=(15,11))\n",
    "plt.plot(fpr, tpr, linewidth=12, alpha = .6)\n",
    "plt.plot([0,1], [0,1], \"--\", alpha=.6)\n",
    "for label, x, y in zip(thres[::10], fpr[::10], tpr[::10]):\n",
    "    plt.annotate(\"{0:.2f}\".format(label), xy=(x, y ), size = 15)\n",
    "plt.xlabel(\"False Positive Rate\")\n",
    "plt.ylabel(\"True Positive Rate\")\n",
    "plt.title(\"ROC Curve\")\n",
    "plt.show()"
   ]
  },
  {
   "cell_type": "markdown",
   "metadata": {},
   "source": [
    "How do you interpret this chart?"
   ]
  },
  {
   "cell_type": "code",
   "execution_count": null,
   "metadata": {},
   "outputs": [],
   "source": []
  },
  {
   "cell_type": "code",
   "execution_count": null,
   "metadata": {},
   "outputs": [],
   "source": []
  },
  {
   "cell_type": "markdown",
   "metadata": {},
   "source": [
    "### Imbalanced class techniques"
   ]
  },
  {
   "cell_type": "markdown",
   "metadata": {},
   "source": [
    "![eop](https://chrisalbon.com/images/machine_learning_flashcards/Downsampling_print.png)\n",
    "Source: Chris Albon"
   ]
  },
  {
   "cell_type": "code",
   "execution_count": null,
   "metadata": {},
   "outputs": [],
   "source": []
  },
  {
   "cell_type": "markdown",
   "metadata": {},
   "source": [
    "Let's go ahead apply down sampling to our training dataset"
   ]
  },
  {
   "cell_type": "code",
   "execution_count": 377,
   "metadata": {},
   "outputs": [
    {
     "data": {
      "text/plain": [
       "0    64315\n",
       "1      492\n",
       "Name: Class, dtype: int64"
      ]
     },
     "execution_count": 377,
     "metadata": {},
     "output_type": "execute_result"
    }
   ],
   "source": [
    "#How many true class are there in the training dataset?\n",
    "\n",
    "fraud.Class.value_counts()"
   ]
  },
  {
   "cell_type": "code",
   "execution_count": 383,
   "metadata": {},
   "outputs": [
    {
     "data": {
      "text/plain": [
       "492"
      ]
     },
     "execution_count": 383,
     "metadata": {},
     "output_type": "execute_result"
    }
   ],
   "source": [
    "fraud.Class.value_counts().min()"
   ]
  },
  {
   "cell_type": "code",
   "execution_count": 378,
   "metadata": {},
   "outputs": [
    {
     "data": {
      "text/plain": [
       "492"
      ]
     },
     "execution_count": 378,
     "metadata": {},
     "output_type": "execute_result"
    }
   ],
   "source": [
    "#Assign number of fraud class in training data to variable\n",
    "N = fraud.Class.value_counts()[1]\n",
    "N"
   ]
  },
  {
   "cell_type": "code",
   "execution_count": null,
   "metadata": {},
   "outputs": [],
   "source": []
  },
  {
   "cell_type": "code",
   "execution_count": null,
   "metadata": {},
   "outputs": [],
   "source": []
  },
  {
   "cell_type": "code",
   "execution_count": 390,
   "metadata": {},
   "outputs": [
    {
     "data": {
      "text/plain": [
       "492"
      ]
     },
     "execution_count": 390,
     "metadata": {},
     "output_type": "execute_result"
    }
   ],
   "source": [
    "#Import resample function from sklearn\n",
    "from sklearn.utils import resample\n",
    "\n",
    "fraud_maj = fraud[fraud.Class==0]\n",
    "fraud_min = fraud[fraud.Class==1]\n",
    " \n",
    "# Downsample majority class\n",
    "fraud_majority_downsampled = resample(fraud_maj, \n",
    "                                 replace=False,     # Do not sample with replacement\n",
    "                                 n_samples=N,    # to match minority class\n",
    "                                 random_state=123) # reproducible results\n",
    " \n",
    "len(fraud_majority_downsampled)"
   ]
  },
  {
   "cell_type": "code",
   "execution_count": 392,
   "metadata": {},
   "outputs": [
    {
     "data": {
      "text/plain": [
       "984"
      ]
     },
     "execution_count": 392,
     "metadata": {},
     "output_type": "execute_result"
    }
   ],
   "source": [
    "len(pd.concat([fraud_majority_downsampled, fraud_min]))"
   ]
  },
  {
   "cell_type": "code",
   "execution_count": 393,
   "metadata": {},
   "outputs": [
    {
     "data": {
      "text/plain": [
       "1    492\n",
       "0    492\n",
       "Name: Class, dtype: int64"
      ]
     },
     "execution_count": 393,
     "metadata": {},
     "output_type": "execute_result"
    }
   ],
   "source": [
    "# Combine majority class with upsampled minority class\n",
    "fraud_ds = pd.concat([fraud_majority_downsampled, fraud_min])\n",
    " \n",
    "# Display new class counts\n",
    "fraud_ds.Class.value_counts()"
   ]
  },
  {
   "cell_type": "code",
   "execution_count": null,
   "metadata": {},
   "outputs": [],
   "source": []
  },
  {
   "cell_type": "code",
   "execution_count": null,
   "metadata": {},
   "outputs": [],
   "source": []
  },
  {
   "cell_type": "markdown",
   "metadata": {},
   "source": [
    "Perfectly balanced classes. Let's use cross validate to see how well our model does.\n",
    "\n",
    "Use accuracy, recall, precision, and roc_auc metrics"
   ]
  },
  {
   "cell_type": "code",
   "execution_count": 394,
   "metadata": {},
   "outputs": [
    {
     "data": {
      "text/plain": [
       "0.9278086992372707"
      ]
     },
     "execution_count": 394,
     "metadata": {},
     "output_type": "execute_result"
    }
   ],
   "source": [
    "X_ds = fraud_ds.drop(\"Class\", axis = 1)\n",
    "y_ds = fraud_ds.Class\n",
    "\n",
    "cross_val_score(LogisticRegression(), X_ds, y_ds, cv = 5, scoring=\"accuracy\").mean()"
   ]
  },
  {
   "cell_type": "code",
   "execution_count": 395,
   "metadata": {},
   "outputs": [
    {
     "data": {
      "text/plain": [
       "0.9585630164258212"
      ]
     },
     "execution_count": 395,
     "metadata": {},
     "output_type": "execute_result"
    }
   ],
   "source": [
    "#Precision\n",
    "cross_val_score(LogisticRegression(), X_ds, y_ds, cv = 5, scoring=\"precision\").mean()"
   ]
  },
  {
   "cell_type": "code",
   "execution_count": 396,
   "metadata": {},
   "outputs": [
    {
     "data": {
      "text/plain": [
       "0.8942692228406515"
      ]
     },
     "execution_count": 396,
     "metadata": {},
     "output_type": "execute_result"
    }
   ],
   "source": [
    "#Precision\n",
    "cross_val_score(LogisticRegression(), X_ds, y_ds, cv = 5, scoring=\"recall\").mean()"
   ]
  },
  {
   "cell_type": "code",
   "execution_count": 397,
   "metadata": {},
   "outputs": [
    {
     "data": {
      "text/plain": [
       "0.9588887711778427"
      ]
     },
     "execution_count": 397,
     "metadata": {},
     "output_type": "execute_result"
    }
   ],
   "source": [
    "#Precision\n",
    "cross_val_score(LogisticRegression(), X_ds, y_ds, cv = 5, scoring=\"roc_auc\").mean()"
   ]
  },
  {
   "cell_type": "markdown",
   "metadata": {},
   "source": [
    "What does this tell us about our model and our data?"
   ]
  },
  {
   "cell_type": "code",
   "execution_count": null,
   "metadata": {},
   "outputs": [],
   "source": []
  },
  {
   "cell_type": "markdown",
   "metadata": {},
   "source": [
    "![aw](https://chrisalbon.com/images/machine_learning_flashcards/Upsampling_print.png)"
   ]
  },
  {
   "cell_type": "code",
   "execution_count": 411,
   "metadata": {},
   "outputs": [
    {
     "data": {
      "text/plain": [
       "1    64315\n",
       "0    64315\n",
       "Name: Class, dtype: int64"
      ]
     },
     "execution_count": 411,
     "metadata": {},
     "output_type": "execute_result"
    }
   ],
   "source": [
    "\n",
    "#Number non fraud observations\n",
    "N = fraud.Class.value_counts()[0]\n",
    "\n",
    "# Downsample majority class\n",
    "fraud_minority_upsampled = resample(fraud_min, \n",
    "                                 replace=True,     # Do not sample with replacement\n",
    "                                 n_samples=N,    # to match minority class\n",
    "                                 random_state=123) # reproducible results\n",
    " \n",
    "# Combine majority class with upsampled minority class\n",
    "fraud_us = pd.concat([fraud_minority_upsampled, fraud_maj])\n",
    " \n",
    "# Display new class counts\n",
    "fraud_us.Class.value_counts()"
   ]
  },
  {
   "cell_type": "markdown",
   "metadata": {},
   "source": [
    "Cross validation again"
   ]
  },
  {
   "cell_type": "code",
   "execution_count": 412,
   "metadata": {},
   "outputs": [
    {
     "data": {
      "text/plain": [
       "0.9464821581279639"
      ]
     },
     "execution_count": 412,
     "metadata": {},
     "output_type": "execute_result"
    }
   ],
   "source": [
    "#Assign X and y\n",
    "X_us = fraud_us.drop(\"Class\", axis = 1)\n",
    "y_us = fraud_us.Class\n",
    "\n",
    "#Accuracy score\n",
    "cross_val_score(LogisticRegression(), X_us, y_us, cv = 5, scoring=\"accuracy\").mean()"
   ]
  },
  {
   "cell_type": "code",
   "execution_count": 413,
   "metadata": {},
   "outputs": [
    {
     "data": {
      "text/plain": [
       "0.9701457901577344"
      ]
     },
     "execution_count": 413,
     "metadata": {},
     "output_type": "execute_result"
    }
   ],
   "source": [
    "#Precision score\n",
    "cross_val_score(LogisticRegression(), X_us, y_us, cv = 5, scoring=\"precision\").mean()"
   ]
  },
  {
   "cell_type": "code",
   "execution_count": 414,
   "metadata": {},
   "outputs": [
    {
     "data": {
      "text/plain": [
       "0.9214180206794683"
      ]
     },
     "execution_count": 414,
     "metadata": {},
     "output_type": "execute_result"
    }
   ],
   "source": [
    "#Recall\n",
    "cross_val_score(LogisticRegression(), X_us, y_us, cv = 5, scoring=\"recall\").mean()"
   ]
  },
  {
   "cell_type": "code",
   "execution_count": 415,
   "metadata": {},
   "outputs": [
    {
     "data": {
      "text/plain": [
       "0.9853185069750758"
      ]
     },
     "execution_count": 415,
     "metadata": {},
     "output_type": "execute_result"
    }
   ],
   "source": [
    "#Roc auc score\n",
    "cross_val_score(LogisticRegression(), X_us, y_us, cv = 5, scoring=\"roc_auc\").mean()"
   ]
  },
  {
   "cell_type": "code",
   "execution_count": null,
   "metadata": {},
   "outputs": [],
   "source": []
  },
  {
   "cell_type": "markdown",
   "metadata": {},
   "source": [
    "With both techniques, our interpretation of the accuracy score is more meaningful."
   ]
  },
  {
   "cell_type": "markdown",
   "metadata": {},
   "source": [
    "![wee](https://svds.com/wp-content/uploads/2016/08/ImbalancedClasses_fig5.jpg)"
   ]
  },
  {
   "cell_type": "code",
   "execution_count": null,
   "metadata": {},
   "outputs": [],
   "source": []
  },
  {
   "cell_type": "code",
   "execution_count": null,
   "metadata": {},
   "outputs": [],
   "source": []
  },
  {
   "cell_type": "markdown",
   "metadata": {},
   "source": [
    "However, there is an issue here and that is can a model trained on balanced data work well with imbalanced data? Let's find out!\n",
    "\n",
    "\n",
    "We're going to train a logistic regression model on a downsampled training dataset and then apply it to an imbalanced testing dataset."
   ]
  },
  {
   "cell_type": "code",
   "execution_count": null,
   "metadata": {},
   "outputs": [],
   "source": []
  },
  {
   "cell_type": "code",
   "execution_count": 451,
   "metadata": {},
   "outputs": [],
   "source": [
    "#reassign variables\n",
    "\n",
    "X = fraud.drop(\"Class\", axis = 1)\n",
    "\n",
    "y = fraud.Class"
   ]
  },
  {
   "cell_type": "code",
   "execution_count": 452,
   "metadata": {},
   "outputs": [],
   "source": [
    "#Train test split\n",
    "X_train, X_test, y_train, y_test = train_test_split(X, y, \n",
    "                                                    test_size = 0.4, \n",
    "                                                    random_state = 23)"
   ]
  },
  {
   "cell_type": "code",
   "execution_count": 453,
   "metadata": {},
   "outputs": [
    {
     "data": {
      "text/html": [
       "<div>\n",
       "<style scoped>\n",
       "    .dataframe tbody tr th:only-of-type {\n",
       "        vertical-align: middle;\n",
       "    }\n",
       "\n",
       "    .dataframe tbody tr th {\n",
       "        vertical-align: top;\n",
       "    }\n",
       "\n",
       "    .dataframe thead th {\n",
       "        text-align: right;\n",
       "    }\n",
       "</style>\n",
       "<table border=\"1\" class=\"dataframe\">\n",
       "  <thead>\n",
       "    <tr style=\"text-align: right;\">\n",
       "      <th></th>\n",
       "      <th>V1</th>\n",
       "      <th>V2</th>\n",
       "      <th>V3</th>\n",
       "      <th>V4</th>\n",
       "      <th>V5</th>\n",
       "      <th>V6</th>\n",
       "      <th>V7</th>\n",
       "      <th>V8</th>\n",
       "      <th>V9</th>\n",
       "      <th>V10</th>\n",
       "      <th>...</th>\n",
       "      <th>V20</th>\n",
       "      <th>V21</th>\n",
       "      <th>V22</th>\n",
       "      <th>V23</th>\n",
       "      <th>V24</th>\n",
       "      <th>V25</th>\n",
       "      <th>V26</th>\n",
       "      <th>V27</th>\n",
       "      <th>V28</th>\n",
       "      <th>Amount</th>\n",
       "    </tr>\n",
       "  </thead>\n",
       "  <tbody>\n",
       "    <tr>\n",
       "      <th>199907</th>\n",
       "      <td>-2.898534</td>\n",
       "      <td>2.335865</td>\n",
       "      <td>-2.580650</td>\n",
       "      <td>-1.635801</td>\n",
       "      <td>1.004089</td>\n",
       "      <td>0.241421</td>\n",
       "      <td>-1.947226</td>\n",
       "      <td>-11.701934</td>\n",
       "      <td>-0.582457</td>\n",
       "      <td>1.987813</td>\n",
       "      <td>...</td>\n",
       "      <td>-0.469586</td>\n",
       "      <td>1.863208</td>\n",
       "      <td>0.496664</td>\n",
       "      <td>0.496874</td>\n",
       "      <td>1.174098</td>\n",
       "      <td>-1.652801</td>\n",
       "      <td>0.379717</td>\n",
       "      <td>-1.024649</td>\n",
       "      <td>-0.939494</td>\n",
       "      <td>64.99</td>\n",
       "    </tr>\n",
       "    <tr>\n",
       "      <th>108425</th>\n",
       "      <td>0.465652</td>\n",
       "      <td>-2.211063</td>\n",
       "      <td>0.825680</td>\n",
       "      <td>0.002524</td>\n",
       "      <td>-2.161795</td>\n",
       "      <td>0.044469</td>\n",
       "      <td>-0.651862</td>\n",
       "      <td>0.106444</td>\n",
       "      <td>-0.153201</td>\n",
       "      <td>0.413537</td>\n",
       "      <td>...</td>\n",
       "      <td>0.316451</td>\n",
       "      <td>-0.287784</td>\n",
       "      <td>-1.102149</td>\n",
       "      <td>-0.179108</td>\n",
       "      <td>0.580409</td>\n",
       "      <td>-0.197611</td>\n",
       "      <td>0.839903</td>\n",
       "      <td>-0.090394</td>\n",
       "      <td>0.082187</td>\n",
       "      <td>419.27</td>\n",
       "    </tr>\n",
       "    <tr>\n",
       "      <th>265756</th>\n",
       "      <td>0.127149</td>\n",
       "      <td>0.813936</td>\n",
       "      <td>-0.542322</td>\n",
       "      <td>-1.174614</td>\n",
       "      <td>1.705919</td>\n",
       "      <td>-1.290807</td>\n",
       "      <td>2.004082</td>\n",
       "      <td>-0.921752</td>\n",
       "      <td>-0.128364</td>\n",
       "      <td>-0.129620</td>\n",
       "      <td>...</td>\n",
       "      <td>-0.091926</td>\n",
       "      <td>0.192409</td>\n",
       "      <td>0.910717</td>\n",
       "      <td>-0.317445</td>\n",
       "      <td>0.785640</td>\n",
       "      <td>-0.424653</td>\n",
       "      <td>-0.031038</td>\n",
       "      <td>-0.304005</td>\n",
       "      <td>-0.241409</td>\n",
       "      <td>3.90</td>\n",
       "    </tr>\n",
       "    <tr>\n",
       "      <th>240309</th>\n",
       "      <td>1.997032</td>\n",
       "      <td>0.471299</td>\n",
       "      <td>-2.288758</td>\n",
       "      <td>1.373118</td>\n",
       "      <td>1.010453</td>\n",
       "      <td>-0.673412</td>\n",
       "      <td>0.530564</td>\n",
       "      <td>-0.162376</td>\n",
       "      <td>-0.069638</td>\n",
       "      <td>-0.176525</td>\n",
       "      <td>...</td>\n",
       "      <td>-0.258244</td>\n",
       "      <td>0.006095</td>\n",
       "      <td>0.182688</td>\n",
       "      <td>0.012547</td>\n",
       "      <td>0.568676</td>\n",
       "      <td>0.433247</td>\n",
       "      <td>-0.539873</td>\n",
       "      <td>-0.006559</td>\n",
       "      <td>-0.034073</td>\n",
       "      <td>1.00</td>\n",
       "    </tr>\n",
       "    <tr>\n",
       "      <th>230792</th>\n",
       "      <td>-2.396032</td>\n",
       "      <td>-0.553487</td>\n",
       "      <td>1.312400</td>\n",
       "      <td>-1.132354</td>\n",
       "      <td>0.245760</td>\n",
       "      <td>-0.129237</td>\n",
       "      <td>0.889585</td>\n",
       "      <td>-0.015832</td>\n",
       "      <td>0.677545</td>\n",
       "      <td>-0.746701</td>\n",
       "      <td>...</td>\n",
       "      <td>-1.033433</td>\n",
       "      <td>-0.613249</td>\n",
       "      <td>-1.087025</td>\n",
       "      <td>0.617427</td>\n",
       "      <td>-0.476856</td>\n",
       "      <td>0.532635</td>\n",
       "      <td>-0.353114</td>\n",
       "      <td>-0.283374</td>\n",
       "      <td>0.100989</td>\n",
       "      <td>103.99</td>\n",
       "    </tr>\n",
       "    <tr>\n",
       "      <th>32450</th>\n",
       "      <td>-0.827556</td>\n",
       "      <td>-0.083257</td>\n",
       "      <td>2.062609</td>\n",
       "      <td>-1.916331</td>\n",
       "      <td>-0.998365</td>\n",
       "      <td>0.063317</td>\n",
       "      <td>-0.434585</td>\n",
       "      <td>0.418814</td>\n",
       "      <td>-0.720426</td>\n",
       "      <td>0.376913</td>\n",
       "      <td>...</td>\n",
       "      <td>0.027090</td>\n",
       "      <td>0.481265</td>\n",
       "      <td>1.239019</td>\n",
       "      <td>-0.212110</td>\n",
       "      <td>-0.016285</td>\n",
       "      <td>-0.050586</td>\n",
       "      <td>-0.174210</td>\n",
       "      <td>0.220622</td>\n",
       "      <td>0.151746</td>\n",
       "      <td>39.00</td>\n",
       "    </tr>\n",
       "    <tr>\n",
       "      <th>207728</th>\n",
       "      <td>2.134170</td>\n",
       "      <td>0.038352</td>\n",
       "      <td>-2.338952</td>\n",
       "      <td>-0.076475</td>\n",
       "      <td>0.711083</td>\n",
       "      <td>-1.310592</td>\n",
       "      <td>0.725398</td>\n",
       "      <td>-0.478574</td>\n",
       "      <td>0.308230</td>\n",
       "      <td>0.029776</td>\n",
       "      <td>...</td>\n",
       "      <td>-0.228567</td>\n",
       "      <td>0.127905</td>\n",
       "      <td>0.421162</td>\n",
       "      <td>-0.033422</td>\n",
       "      <td>0.616146</td>\n",
       "      <td>0.457346</td>\n",
       "      <td>0.217986</td>\n",
       "      <td>-0.097946</td>\n",
       "      <td>-0.073277</td>\n",
       "      <td>15.33</td>\n",
       "    </tr>\n",
       "    <tr>\n",
       "      <th>236892</th>\n",
       "      <td>1.933270</td>\n",
       "      <td>-1.350878</td>\n",
       "      <td>0.652871</td>\n",
       "      <td>1.011541</td>\n",
       "      <td>-1.594781</td>\n",
       "      <td>1.221503</td>\n",
       "      <td>-1.850292</td>\n",
       "      <td>0.425636</td>\n",
       "      <td>1.405681</td>\n",
       "      <td>0.604810</td>\n",
       "      <td>...</td>\n",
       "      <td>-0.600846</td>\n",
       "      <td>-0.269129</td>\n",
       "      <td>0.228633</td>\n",
       "      <td>0.088670</td>\n",
       "      <td>-0.789299</td>\n",
       "      <td>-0.163106</td>\n",
       "      <td>-0.425544</td>\n",
       "      <td>0.157662</td>\n",
       "      <td>-0.015464</td>\n",
       "      <td>40.00</td>\n",
       "    </tr>\n",
       "    <tr>\n",
       "      <th>244943</th>\n",
       "      <td>-1.173946</td>\n",
       "      <td>0.609209</td>\n",
       "      <td>0.741983</td>\n",
       "      <td>-1.809244</td>\n",
       "      <td>0.180076</td>\n",
       "      <td>-0.010626</td>\n",
       "      <td>0.312183</td>\n",
       "      <td>0.399817</td>\n",
       "      <td>-1.805899</td>\n",
       "      <td>-0.311466</td>\n",
       "      <td>...</td>\n",
       "      <td>-0.596603</td>\n",
       "      <td>-0.114611</td>\n",
       "      <td>0.072045</td>\n",
       "      <td>-0.516300</td>\n",
       "      <td>0.773349</td>\n",
       "      <td>0.970481</td>\n",
       "      <td>0.701896</td>\n",
       "      <td>-0.285448</td>\n",
       "      <td>-0.050652</td>\n",
       "      <td>11.50</td>\n",
       "    </tr>\n",
       "    <tr>\n",
       "      <th>267824</th>\n",
       "      <td>1.844686</td>\n",
       "      <td>-0.619484</td>\n",
       "      <td>-0.394620</td>\n",
       "      <td>0.343100</td>\n",
       "      <td>-0.214237</td>\n",
       "      <td>0.969722</td>\n",
       "      <td>-0.901900</td>\n",
       "      <td>0.434638</td>\n",
       "      <td>1.577066</td>\n",
       "      <td>-0.286928</td>\n",
       "      <td>...</td>\n",
       "      <td>-0.366190</td>\n",
       "      <td>0.265499</td>\n",
       "      <td>1.103009</td>\n",
       "      <td>0.205172</td>\n",
       "      <td>-1.114025</td>\n",
       "      <td>-0.337757</td>\n",
       "      <td>-0.107353</td>\n",
       "      <td>0.090250</td>\n",
       "      <td>-0.050351</td>\n",
       "      <td>9.99</td>\n",
       "    </tr>\n",
       "    <tr>\n",
       "      <th>268131</th>\n",
       "      <td>-0.114616</td>\n",
       "      <td>0.251710</td>\n",
       "      <td>1.536465</td>\n",
       "      <td>1.066808</td>\n",
       "      <td>-0.350781</td>\n",
       "      <td>0.473709</td>\n",
       "      <td>-0.615864</td>\n",
       "      <td>0.260233</td>\n",
       "      <td>0.662910</td>\n",
       "      <td>0.024137</td>\n",
       "      <td>...</td>\n",
       "      <td>0.103496</td>\n",
       "      <td>0.173948</td>\n",
       "      <td>0.673010</td>\n",
       "      <td>0.014641</td>\n",
       "      <td>0.674069</td>\n",
       "      <td>-1.146933</td>\n",
       "      <td>-0.080433</td>\n",
       "      <td>0.220144</td>\n",
       "      <td>0.215169</td>\n",
       "      <td>15.40</td>\n",
       "    </tr>\n",
       "    <tr>\n",
       "      <th>193708</th>\n",
       "      <td>-2.156828</td>\n",
       "      <td>2.678184</td>\n",
       "      <td>-2.279124</td>\n",
       "      <td>-1.087435</td>\n",
       "      <td>0.367839</td>\n",
       "      <td>-0.178373</td>\n",
       "      <td>-0.006520</td>\n",
       "      <td>1.181235</td>\n",
       "      <td>0.395433</td>\n",
       "      <td>0.686286</td>\n",
       "      <td>...</td>\n",
       "      <td>0.611705</td>\n",
       "      <td>-0.434500</td>\n",
       "      <td>-0.915794</td>\n",
       "      <td>0.142096</td>\n",
       "      <td>-0.310162</td>\n",
       "      <td>0.018270</td>\n",
       "      <td>0.150617</td>\n",
       "      <td>0.321682</td>\n",
       "      <td>0.023475</td>\n",
       "      <td>10.71</td>\n",
       "    </tr>\n",
       "    <tr>\n",
       "      <th>169862</th>\n",
       "      <td>2.017953</td>\n",
       "      <td>0.058252</td>\n",
       "      <td>-1.619452</td>\n",
       "      <td>0.353067</td>\n",
       "      <td>0.315459</td>\n",
       "      <td>-0.681202</td>\n",
       "      <td>0.036451</td>\n",
       "      <td>-0.059286</td>\n",
       "      <td>0.334024</td>\n",
       "      <td>-0.187849</td>\n",
       "      <td>...</td>\n",
       "      <td>-0.198141</td>\n",
       "      <td>-0.309022</td>\n",
       "      <td>-0.858695</td>\n",
       "      <td>0.359254</td>\n",
       "      <td>0.649453</td>\n",
       "      <td>-0.338457</td>\n",
       "      <td>0.145044</td>\n",
       "      <td>-0.071171</td>\n",
       "      <td>-0.040289</td>\n",
       "      <td>1.98</td>\n",
       "    </tr>\n",
       "    <tr>\n",
       "      <th>260085</th>\n",
       "      <td>-0.466681</td>\n",
       "      <td>1.470471</td>\n",
       "      <td>-0.909695</td>\n",
       "      <td>-0.251940</td>\n",
       "      <td>1.616060</td>\n",
       "      <td>-1.919969</td>\n",
       "      <td>1.482073</td>\n",
       "      <td>-0.320694</td>\n",
       "      <td>-0.312395</td>\n",
       "      <td>-2.290189</td>\n",
       "      <td>...</td>\n",
       "      <td>-0.076373</td>\n",
       "      <td>-0.009784</td>\n",
       "      <td>0.003451</td>\n",
       "      <td>-0.454421</td>\n",
       "      <td>-0.321732</td>\n",
       "      <td>0.438356</td>\n",
       "      <td>-0.511653</td>\n",
       "      <td>0.140682</td>\n",
       "      <td>0.199139</td>\n",
       "      <td>5.00</td>\n",
       "    </tr>\n",
       "    <tr>\n",
       "      <th>8670</th>\n",
       "      <td>0.759117</td>\n",
       "      <td>-0.860906</td>\n",
       "      <td>0.407423</td>\n",
       "      <td>0.343693</td>\n",
       "      <td>-0.512834</td>\n",
       "      <td>0.610339</td>\n",
       "      <td>-0.332852</td>\n",
       "      <td>0.196187</td>\n",
       "      <td>1.863866</td>\n",
       "      <td>-0.725106</td>\n",
       "      <td>...</td>\n",
       "      <td>0.172922</td>\n",
       "      <td>-0.047264</td>\n",
       "      <td>-0.076314</td>\n",
       "      <td>-0.162885</td>\n",
       "      <td>-0.240179</td>\n",
       "      <td>0.151794</td>\n",
       "      <td>1.095899</td>\n",
       "      <td>-0.104776</td>\n",
       "      <td>0.009129</td>\n",
       "      <td>200.00</td>\n",
       "    </tr>\n",
       "    <tr>\n",
       "      <th>189698</th>\n",
       "      <td>1.894893</td>\n",
       "      <td>0.371393</td>\n",
       "      <td>-0.064436</td>\n",
       "      <td>3.607553</td>\n",
       "      <td>0.201358</td>\n",
       "      <td>0.689180</td>\n",
       "      <td>-0.427763</td>\n",
       "      <td>0.120717</td>\n",
       "      <td>-0.600859</td>\n",
       "      <td>1.400583</td>\n",
       "      <td>...</td>\n",
       "      <td>-0.156698</td>\n",
       "      <td>0.184745</td>\n",
       "      <td>0.555916</td>\n",
       "      <td>0.187321</td>\n",
       "      <td>0.463481</td>\n",
       "      <td>-0.193536</td>\n",
       "      <td>-0.023847</td>\n",
       "      <td>0.007603</td>\n",
       "      <td>-0.022976</td>\n",
       "      <td>13.92</td>\n",
       "    </tr>\n",
       "    <tr>\n",
       "      <th>160534</th>\n",
       "      <td>1.979639</td>\n",
       "      <td>-1.029783</td>\n",
       "      <td>-1.444450</td>\n",
       "      <td>-0.694480</td>\n",
       "      <td>-0.671629</td>\n",
       "      <td>-1.360079</td>\n",
       "      <td>-0.017294</td>\n",
       "      <td>-0.465088</td>\n",
       "      <td>-0.517971</td>\n",
       "      <td>0.731342</td>\n",
       "      <td>...</td>\n",
       "      <td>0.208411</td>\n",
       "      <td>0.104271</td>\n",
       "      <td>0.070109</td>\n",
       "      <td>0.082159</td>\n",
       "      <td>0.067652</td>\n",
       "      <td>-0.053678</td>\n",
       "      <td>-0.295420</td>\n",
       "      <td>-0.062363</td>\n",
       "      <td>-0.041079</td>\n",
       "      <td>136.47</td>\n",
       "    </tr>\n",
       "    <tr>\n",
       "      <th>126091</th>\n",
       "      <td>-2.597581</td>\n",
       "      <td>-0.767684</td>\n",
       "      <td>1.272246</td>\n",
       "      <td>0.336127</td>\n",
       "      <td>1.791811</td>\n",
       "      <td>-0.642956</td>\n",
       "      <td>-0.466455</td>\n",
       "      <td>0.810727</td>\n",
       "      <td>-1.083739</td>\n",
       "      <td>-0.859014</td>\n",
       "      <td>...</td>\n",
       "      <td>0.303990</td>\n",
       "      <td>0.408754</td>\n",
       "      <td>0.346980</td>\n",
       "      <td>-0.326109</td>\n",
       "      <td>-0.258752</td>\n",
       "      <td>0.533110</td>\n",
       "      <td>-0.390259</td>\n",
       "      <td>-0.029540</td>\n",
       "      <td>-0.320822</td>\n",
       "      <td>9.49</td>\n",
       "    </tr>\n",
       "    <tr>\n",
       "      <th>34355</th>\n",
       "      <td>-1.414166</td>\n",
       "      <td>-0.426362</td>\n",
       "      <td>0.295761</td>\n",
       "      <td>0.193104</td>\n",
       "      <td>2.475615</td>\n",
       "      <td>-2.339276</td>\n",
       "      <td>0.111606</td>\n",
       "      <td>-0.394224</td>\n",
       "      <td>-0.103002</td>\n",
       "      <td>-0.722651</td>\n",
       "      <td>...</td>\n",
       "      <td>-0.393367</td>\n",
       "      <td>-0.030060</td>\n",
       "      <td>0.260830</td>\n",
       "      <td>-0.204197</td>\n",
       "      <td>0.329769</td>\n",
       "      <td>-1.102415</td>\n",
       "      <td>-0.024056</td>\n",
       "      <td>0.131416</td>\n",
       "      <td>-0.047611</td>\n",
       "      <td>0.76</td>\n",
       "    </tr>\n",
       "    <tr>\n",
       "      <th>171997</th>\n",
       "      <td>2.166922</td>\n",
       "      <td>-0.753291</td>\n",
       "      <td>-0.887595</td>\n",
       "      <td>-1.106112</td>\n",
       "      <td>-0.636526</td>\n",
       "      <td>-0.684831</td>\n",
       "      <td>-0.650198</td>\n",
       "      <td>-0.096660</td>\n",
       "      <td>-0.626875</td>\n",
       "      <td>0.958453</td>\n",
       "      <td>...</td>\n",
       "      <td>-0.027292</td>\n",
       "      <td>-0.203135</td>\n",
       "      <td>-0.722754</td>\n",
       "      <td>0.450314</td>\n",
       "      <td>-0.464699</td>\n",
       "      <td>-0.578893</td>\n",
       "      <td>-0.690986</td>\n",
       "      <td>-0.017831</td>\n",
       "      <td>-0.058220</td>\n",
       "      <td>9.89</td>\n",
       "    </tr>\n",
       "    <tr>\n",
       "      <th>57661</th>\n",
       "      <td>-0.966652</td>\n",
       "      <td>1.478130</td>\n",
       "      <td>0.771943</td>\n",
       "      <td>0.333734</td>\n",
       "      <td>0.621895</td>\n",
       "      <td>0.681178</td>\n",
       "      <td>0.432067</td>\n",
       "      <td>-0.883951</td>\n",
       "      <td>-0.588684</td>\n",
       "      <td>0.376683</td>\n",
       "      <td>...</td>\n",
       "      <td>-0.147157</td>\n",
       "      <td>0.851272</td>\n",
       "      <td>-0.120858</td>\n",
       "      <td>-0.176219</td>\n",
       "      <td>-1.035003</td>\n",
       "      <td>-0.085018</td>\n",
       "      <td>-0.395726</td>\n",
       "      <td>-0.337084</td>\n",
       "      <td>0.144295</td>\n",
       "      <td>25.00</td>\n",
       "    </tr>\n",
       "    <tr>\n",
       "      <th>135738</th>\n",
       "      <td>-0.968716</td>\n",
       "      <td>0.781718</td>\n",
       "      <td>1.227021</td>\n",
       "      <td>0.267244</td>\n",
       "      <td>0.945096</td>\n",
       "      <td>0.043601</td>\n",
       "      <td>0.315519</td>\n",
       "      <td>0.050625</td>\n",
       "      <td>-0.849959</td>\n",
       "      <td>-0.145913</td>\n",
       "      <td>...</td>\n",
       "      <td>0.198595</td>\n",
       "      <td>-0.213616</td>\n",
       "      <td>-0.788073</td>\n",
       "      <td>-0.252262</td>\n",
       "      <td>-0.863587</td>\n",
       "      <td>0.129750</td>\n",
       "      <td>0.302896</td>\n",
       "      <td>-0.296841</td>\n",
       "      <td>0.218349</td>\n",
       "      <td>0.89</td>\n",
       "    </tr>\n",
       "    <tr>\n",
       "      <th>13767</th>\n",
       "      <td>0.991567</td>\n",
       "      <td>-0.209039</td>\n",
       "      <td>0.765694</td>\n",
       "      <td>0.377316</td>\n",
       "      <td>0.006870</td>\n",
       "      <td>1.156989</td>\n",
       "      <td>-0.509382</td>\n",
       "      <td>0.331841</td>\n",
       "      <td>1.755394</td>\n",
       "      <td>-0.891513</td>\n",
       "      <td>...</td>\n",
       "      <td>-0.172627</td>\n",
       "      <td>-0.308394</td>\n",
       "      <td>-0.358728</td>\n",
       "      <td>0.253165</td>\n",
       "      <td>-0.610914</td>\n",
       "      <td>-0.168959</td>\n",
       "      <td>0.886243</td>\n",
       "      <td>-0.019708</td>\n",
       "      <td>-0.004244</td>\n",
       "      <td>34.56</td>\n",
       "    </tr>\n",
       "    <tr>\n",
       "      <th>137127</th>\n",
       "      <td>-2.240391</td>\n",
       "      <td>1.562074</td>\n",
       "      <td>0.867433</td>\n",
       "      <td>-1.680612</td>\n",
       "      <td>-0.558472</td>\n",
       "      <td>-0.438408</td>\n",
       "      <td>0.095502</td>\n",
       "      <td>0.576837</td>\n",
       "      <td>1.062155</td>\n",
       "      <td>1.103078</td>\n",
       "      <td>...</td>\n",
       "      <td>0.401158</td>\n",
       "      <td>-0.191431</td>\n",
       "      <td>-0.229241</td>\n",
       "      <td>0.084992</td>\n",
       "      <td>-0.028267</td>\n",
       "      <td>-0.263373</td>\n",
       "      <td>0.726299</td>\n",
       "      <td>0.374340</td>\n",
       "      <td>0.182592</td>\n",
       "      <td>7.68</td>\n",
       "    </tr>\n",
       "    <tr>\n",
       "      <th>210631</th>\n",
       "      <td>0.106760</td>\n",
       "      <td>0.949853</td>\n",
       "      <td>-0.535160</td>\n",
       "      <td>-0.745178</td>\n",
       "      <td>1.193639</td>\n",
       "      <td>-0.232937</td>\n",
       "      <td>0.840860</td>\n",
       "      <td>0.085040</td>\n",
       "      <td>-0.286439</td>\n",
       "      <td>-0.672787</td>\n",
       "      <td>...</td>\n",
       "      <td>0.042659</td>\n",
       "      <td>-0.305864</td>\n",
       "      <td>-0.764512</td>\n",
       "      <td>0.049295</td>\n",
       "      <td>0.117717</td>\n",
       "      <td>-0.416061</td>\n",
       "      <td>0.122208</td>\n",
       "      <td>0.220586</td>\n",
       "      <td>0.070412</td>\n",
       "      <td>3.59</td>\n",
       "    </tr>\n",
       "    <tr>\n",
       "      <th>149812</th>\n",
       "      <td>0.042436</td>\n",
       "      <td>0.892376</td>\n",
       "      <td>0.410827</td>\n",
       "      <td>-0.379318</td>\n",
       "      <td>0.405166</td>\n",
       "      <td>-1.020157</td>\n",
       "      <td>0.825473</td>\n",
       "      <td>-0.195507</td>\n",
       "      <td>1.417329</td>\n",
       "      <td>-0.755035</td>\n",
       "      <td>...</td>\n",
       "      <td>-0.166944</td>\n",
       "      <td>-0.419621</td>\n",
       "      <td>-0.830058</td>\n",
       "      <td>0.099268</td>\n",
       "      <td>-0.113272</td>\n",
       "      <td>-0.567867</td>\n",
       "      <td>0.108790</td>\n",
       "      <td>0.216404</td>\n",
       "      <td>0.087752</td>\n",
       "      <td>2.28</td>\n",
       "    </tr>\n",
       "    <tr>\n",
       "      <th>88972</th>\n",
       "      <td>1.232193</td>\n",
       "      <td>-0.229653</td>\n",
       "      <td>-0.332639</td>\n",
       "      <td>0.085176</td>\n",
       "      <td>1.573836</td>\n",
       "      <td>3.959564</td>\n",
       "      <td>-1.130371</td>\n",
       "      <td>1.067693</td>\n",
       "      <td>0.628682</td>\n",
       "      <td>-0.085159</td>\n",
       "      <td>...</td>\n",
       "      <td>-0.017532</td>\n",
       "      <td>-0.063580</td>\n",
       "      <td>-0.169507</td>\n",
       "      <td>-0.034198</td>\n",
       "      <td>0.997747</td>\n",
       "      <td>0.552384</td>\n",
       "      <td>-0.384011</td>\n",
       "      <td>0.072874</td>\n",
       "      <td>0.031000</td>\n",
       "      <td>1.18</td>\n",
       "    </tr>\n",
       "    <tr>\n",
       "      <th>182871</th>\n",
       "      <td>1.929301</td>\n",
       "      <td>-0.223788</td>\n",
       "      <td>-3.120130</td>\n",
       "      <td>0.292451</td>\n",
       "      <td>2.889450</td>\n",
       "      <td>3.318414</td>\n",
       "      <td>0.070513</td>\n",
       "      <td>0.660561</td>\n",
       "      <td>0.039372</td>\n",
       "      <td>0.259345</td>\n",
       "      <td>...</td>\n",
       "      <td>-0.115701</td>\n",
       "      <td>0.071827</td>\n",
       "      <td>0.199280</td>\n",
       "      <td>-0.012749</td>\n",
       "      <td>0.709901</td>\n",
       "      <td>0.492767</td>\n",
       "      <td>-0.477041</td>\n",
       "      <td>-0.007833</td>\n",
       "      <td>-0.059462</td>\n",
       "      <td>57.78</td>\n",
       "    </tr>\n",
       "    <tr>\n",
       "      <th>178562</th>\n",
       "      <td>1.951046</td>\n",
       "      <td>-0.393448</td>\n",
       "      <td>-0.628717</td>\n",
       "      <td>0.241213</td>\n",
       "      <td>-0.578649</td>\n",
       "      <td>-0.208219</td>\n",
       "      <td>-0.899786</td>\n",
       "      <td>0.177414</td>\n",
       "      <td>1.691489</td>\n",
       "      <td>-0.718515</td>\n",
       "      <td>...</td>\n",
       "      <td>-0.162766</td>\n",
       "      <td>-0.021552</td>\n",
       "      <td>0.042071</td>\n",
       "      <td>0.292816</td>\n",
       "      <td>0.480529</td>\n",
       "      <td>-0.473001</td>\n",
       "      <td>-0.097127</td>\n",
       "      <td>0.037072</td>\n",
       "      <td>0.001485</td>\n",
       "      <td>19.99</td>\n",
       "    </tr>\n",
       "    <tr>\n",
       "      <th>208441</th>\n",
       "      <td>-2.511998</td>\n",
       "      <td>-2.781748</td>\n",
       "      <td>1.408172</td>\n",
       "      <td>-3.048312</td>\n",
       "      <td>2.863623</td>\n",
       "      <td>-0.482142</td>\n",
       "      <td>-1.593723</td>\n",
       "      <td>0.136738</td>\n",
       "      <td>-1.832276</td>\n",
       "      <td>0.744206</td>\n",
       "      <td>...</td>\n",
       "      <td>-0.800161</td>\n",
       "      <td>-0.254756</td>\n",
       "      <td>0.077137</td>\n",
       "      <td>-0.701778</td>\n",
       "      <td>-0.286356</td>\n",
       "      <td>0.508312</td>\n",
       "      <td>-0.168597</td>\n",
       "      <td>0.095949</td>\n",
       "      <td>-0.309488</td>\n",
       "      <td>12.00</td>\n",
       "    </tr>\n",
       "    <tr>\n",
       "      <th>...</th>\n",
       "      <td>...</td>\n",
       "      <td>...</td>\n",
       "      <td>...</td>\n",
       "      <td>...</td>\n",
       "      <td>...</td>\n",
       "      <td>...</td>\n",
       "      <td>...</td>\n",
       "      <td>...</td>\n",
       "      <td>...</td>\n",
       "      <td>...</td>\n",
       "      <td>...</td>\n",
       "      <td>...</td>\n",
       "      <td>...</td>\n",
       "      <td>...</td>\n",
       "      <td>...</td>\n",
       "      <td>...</td>\n",
       "      <td>...</td>\n",
       "      <td>...</td>\n",
       "      <td>...</td>\n",
       "      <td>...</td>\n",
       "      <td>...</td>\n",
       "    </tr>\n",
       "    <tr>\n",
       "      <th>152574</th>\n",
       "      <td>1.973531</td>\n",
       "      <td>-0.474499</td>\n",
       "      <td>0.197153</td>\n",
       "      <td>0.549060</td>\n",
       "      <td>-1.020910</td>\n",
       "      <td>-0.398638</td>\n",
       "      <td>-1.011277</td>\n",
       "      <td>-0.017140</td>\n",
       "      <td>2.768881</td>\n",
       "      <td>-0.373530</td>\n",
       "      <td>...</td>\n",
       "      <td>-0.240604</td>\n",
       "      <td>-0.129143</td>\n",
       "      <td>-0.008698</td>\n",
       "      <td>0.314886</td>\n",
       "      <td>-0.159973</td>\n",
       "      <td>-0.624526</td>\n",
       "      <td>0.451226</td>\n",
       "      <td>-0.044144</td>\n",
       "      <td>-0.045731</td>\n",
       "      <td>15.95</td>\n",
       "    </tr>\n",
       "    <tr>\n",
       "      <th>241318</th>\n",
       "      <td>-0.074110</td>\n",
       "      <td>-0.347253</td>\n",
       "      <td>1.745622</td>\n",
       "      <td>0.381817</td>\n",
       "      <td>0.094591</td>\n",
       "      <td>3.256371</td>\n",
       "      <td>-1.262272</td>\n",
       "      <td>1.318783</td>\n",
       "      <td>1.921173</td>\n",
       "      <td>-0.724335</td>\n",
       "      <td>...</td>\n",
       "      <td>-0.460282</td>\n",
       "      <td>0.231311</td>\n",
       "      <td>1.107849</td>\n",
       "      <td>-0.082169</td>\n",
       "      <td>-0.996882</td>\n",
       "      <td>-0.568866</td>\n",
       "      <td>-0.456633</td>\n",
       "      <td>0.201699</td>\n",
       "      <td>0.007315</td>\n",
       "      <td>1.00</td>\n",
       "    </tr>\n",
       "    <tr>\n",
       "      <th>50927</th>\n",
       "      <td>-4.678386</td>\n",
       "      <td>3.451893</td>\n",
       "      <td>-1.946664</td>\n",
       "      <td>0.277297</td>\n",
       "      <td>-3.050028</td>\n",
       "      <td>-0.865884</td>\n",
       "      <td>-2.385780</td>\n",
       "      <td>3.357111</td>\n",
       "      <td>-0.523805</td>\n",
       "      <td>-0.457277</td>\n",
       "      <td>...</td>\n",
       "      <td>-0.541724</td>\n",
       "      <td>0.198531</td>\n",
       "      <td>-0.418373</td>\n",
       "      <td>0.241571</td>\n",
       "      <td>0.536152</td>\n",
       "      <td>0.228046</td>\n",
       "      <td>0.160962</td>\n",
       "      <td>-1.251586</td>\n",
       "      <td>-0.306001</td>\n",
       "      <td>12.23</td>\n",
       "    </tr>\n",
       "    <tr>\n",
       "      <th>187342</th>\n",
       "      <td>2.041429</td>\n",
       "      <td>-1.886582</td>\n",
       "      <td>-1.072220</td>\n",
       "      <td>-1.705269</td>\n",
       "      <td>-1.137088</td>\n",
       "      <td>0.256496</td>\n",
       "      <td>-1.284295</td>\n",
       "      <td>0.065178</td>\n",
       "      <td>-1.243489</td>\n",
       "      <td>1.660271</td>\n",
       "      <td>...</td>\n",
       "      <td>-0.157120</td>\n",
       "      <td>-0.057725</td>\n",
       "      <td>0.016847</td>\n",
       "      <td>0.120146</td>\n",
       "      <td>0.112397</td>\n",
       "      <td>-0.290600</td>\n",
       "      <td>-0.203048</td>\n",
       "      <td>-0.004073</td>\n",
       "      <td>-0.033163</td>\n",
       "      <td>136.00</td>\n",
       "    </tr>\n",
       "    <tr>\n",
       "      <th>128365</th>\n",
       "      <td>1.231586</td>\n",
       "      <td>-0.413043</td>\n",
       "      <td>1.098834</td>\n",
       "      <td>-0.843303</td>\n",
       "      <td>-1.407439</td>\n",
       "      <td>-0.837886</td>\n",
       "      <td>-0.786304</td>\n",
       "      <td>0.001675</td>\n",
       "      <td>1.810669</td>\n",
       "      <td>-1.003697</td>\n",
       "      <td>...</td>\n",
       "      <td>-0.094942</td>\n",
       "      <td>0.267405</td>\n",
       "      <td>0.923146</td>\n",
       "      <td>-0.115746</td>\n",
       "      <td>0.404664</td>\n",
       "      <td>0.482778</td>\n",
       "      <td>-0.550712</td>\n",
       "      <td>0.102953</td>\n",
       "      <td>0.041372</td>\n",
       "      <td>8.00</td>\n",
       "    </tr>\n",
       "    <tr>\n",
       "      <th>265684</th>\n",
       "      <td>-0.484560</td>\n",
       "      <td>0.659441</td>\n",
       "      <td>1.732009</td>\n",
       "      <td>-0.660167</td>\n",
       "      <td>0.006633</td>\n",
       "      <td>-0.396754</td>\n",
       "      <td>0.581202</td>\n",
       "      <td>-0.246530</td>\n",
       "      <td>0.514145</td>\n",
       "      <td>-0.325413</td>\n",
       "      <td>...</td>\n",
       "      <td>0.159222</td>\n",
       "      <td>0.174096</td>\n",
       "      <td>0.947562</td>\n",
       "      <td>-0.266288</td>\n",
       "      <td>0.134397</td>\n",
       "      <td>-0.329606</td>\n",
       "      <td>0.504733</td>\n",
       "      <td>0.078024</td>\n",
       "      <td>0.006248</td>\n",
       "      <td>11.50</td>\n",
       "    </tr>\n",
       "    <tr>\n",
       "      <th>167547</th>\n",
       "      <td>-2.210887</td>\n",
       "      <td>-1.344151</td>\n",
       "      <td>-0.064065</td>\n",
       "      <td>0.618148</td>\n",
       "      <td>3.610308</td>\n",
       "      <td>-1.203713</td>\n",
       "      <td>-0.615840</td>\n",
       "      <td>0.371216</td>\n",
       "      <td>-0.271876</td>\n",
       "      <td>-1.329248</td>\n",
       "      <td>...</td>\n",
       "      <td>0.796152</td>\n",
       "      <td>0.043285</td>\n",
       "      <td>-0.546567</td>\n",
       "      <td>-0.052014</td>\n",
       "      <td>-0.309504</td>\n",
       "      <td>0.993172</td>\n",
       "      <td>0.013963</td>\n",
       "      <td>-0.037262</td>\n",
       "      <td>0.139016</td>\n",
       "      <td>43.55</td>\n",
       "    </tr>\n",
       "    <tr>\n",
       "      <th>268760</th>\n",
       "      <td>2.084722</td>\n",
       "      <td>-0.076536</td>\n",
       "      <td>-1.456916</td>\n",
       "      <td>0.055482</td>\n",
       "      <td>0.485344</td>\n",
       "      <td>-0.283433</td>\n",
       "      <td>0.124140</td>\n",
       "      <td>-0.173196</td>\n",
       "      <td>0.218975</td>\n",
       "      <td>0.216269</td>\n",
       "      <td>...</td>\n",
       "      <td>-0.116798</td>\n",
       "      <td>-0.292322</td>\n",
       "      <td>-0.704764</td>\n",
       "      <td>0.188002</td>\n",
       "      <td>-1.012921</td>\n",
       "      <td>-0.164213</td>\n",
       "      <td>0.238378</td>\n",
       "      <td>-0.070871</td>\n",
       "      <td>-0.077936</td>\n",
       "      <td>5.48</td>\n",
       "    </tr>\n",
       "    <tr>\n",
       "      <th>197784</th>\n",
       "      <td>2.071716</td>\n",
       "      <td>-1.176000</td>\n",
       "      <td>-1.196195</td>\n",
       "      <td>-1.092389</td>\n",
       "      <td>-0.495480</td>\n",
       "      <td>0.029847</td>\n",
       "      <td>-0.801790</td>\n",
       "      <td>-0.007139</td>\n",
       "      <td>-0.229354</td>\n",
       "      <td>0.885753</td>\n",
       "      <td>...</td>\n",
       "      <td>0.134972</td>\n",
       "      <td>0.228813</td>\n",
       "      <td>0.550809</td>\n",
       "      <td>-0.024919</td>\n",
       "      <td>-1.131703</td>\n",
       "      <td>-0.067649</td>\n",
       "      <td>-0.133243</td>\n",
       "      <td>-0.019360</td>\n",
       "      <td>-0.061658</td>\n",
       "      <td>80.50</td>\n",
       "    </tr>\n",
       "    <tr>\n",
       "      <th>155257</th>\n",
       "      <td>-0.490327</td>\n",
       "      <td>0.807327</td>\n",
       "      <td>2.399965</td>\n",
       "      <td>-0.103815</td>\n",
       "      <td>0.076465</td>\n",
       "      <td>-0.372893</td>\n",
       "      <td>0.505751</td>\n",
       "      <td>-0.253555</td>\n",
       "      <td>1.576216</td>\n",
       "      <td>-1.124264</td>\n",
       "      <td>...</td>\n",
       "      <td>0.033987</td>\n",
       "      <td>-0.313714</td>\n",
       "      <td>-0.465484</td>\n",
       "      <td>-0.299141</td>\n",
       "      <td>-0.068129</td>\n",
       "      <td>0.249814</td>\n",
       "      <td>-0.729107</td>\n",
       "      <td>-0.082298</td>\n",
       "      <td>-0.146533</td>\n",
       "      <td>2.12</td>\n",
       "    </tr>\n",
       "    <tr>\n",
       "      <th>142660</th>\n",
       "      <td>-3.110861</td>\n",
       "      <td>0.982156</td>\n",
       "      <td>0.330847</td>\n",
       "      <td>0.829458</td>\n",
       "      <td>-0.242277</td>\n",
       "      <td>-0.856808</td>\n",
       "      <td>-1.567547</td>\n",
       "      <td>-1.927998</td>\n",
       "      <td>-1.061453</td>\n",
       "      <td>-1.129589</td>\n",
       "      <td>...</td>\n",
       "      <td>0.477053</td>\n",
       "      <td>-1.479701</td>\n",
       "      <td>-0.464347</td>\n",
       "      <td>-0.523528</td>\n",
       "      <td>0.408897</td>\n",
       "      <td>-0.091166</td>\n",
       "      <td>0.192121</td>\n",
       "      <td>-0.014562</td>\n",
       "      <td>-0.307888</td>\n",
       "      <td>3.27</td>\n",
       "    </tr>\n",
       "    <tr>\n",
       "      <th>72505</th>\n",
       "      <td>1.096057</td>\n",
       "      <td>-0.522901</td>\n",
       "      <td>0.875029</td>\n",
       "      <td>0.185963</td>\n",
       "      <td>-0.921279</td>\n",
       "      <td>-0.049623</td>\n",
       "      <td>-0.469502</td>\n",
       "      <td>-0.010056</td>\n",
       "      <td>1.033144</td>\n",
       "      <td>-0.525924</td>\n",
       "      <td>...</td>\n",
       "      <td>0.180929</td>\n",
       "      <td>-0.204105</td>\n",
       "      <td>-0.437802</td>\n",
       "      <td>-0.066361</td>\n",
       "      <td>-0.000833</td>\n",
       "      <td>0.217877</td>\n",
       "      <td>0.960943</td>\n",
       "      <td>-0.040551</td>\n",
       "      <td>0.025671</td>\n",
       "      <td>86.80</td>\n",
       "    </tr>\n",
       "    <tr>\n",
       "      <th>204990</th>\n",
       "      <td>0.022811</td>\n",
       "      <td>0.352146</td>\n",
       "      <td>0.277257</td>\n",
       "      <td>1.047408</td>\n",
       "      <td>0.871873</td>\n",
       "      <td>-0.544502</td>\n",
       "      <td>0.316577</td>\n",
       "      <td>-0.139794</td>\n",
       "      <td>-0.447481</td>\n",
       "      <td>0.185510</td>\n",
       "      <td>...</td>\n",
       "      <td>0.331010</td>\n",
       "      <td>-0.168732</td>\n",
       "      <td>-0.448164</td>\n",
       "      <td>0.106051</td>\n",
       "      <td>-0.633335</td>\n",
       "      <td>-0.995675</td>\n",
       "      <td>0.592678</td>\n",
       "      <td>0.179258</td>\n",
       "      <td>0.210541</td>\n",
       "      <td>6.75</td>\n",
       "    </tr>\n",
       "    <tr>\n",
       "      <th>195383</th>\n",
       "      <td>0.469750</td>\n",
       "      <td>-1.237555</td>\n",
       "      <td>-1.767341</td>\n",
       "      <td>4.833490</td>\n",
       "      <td>-0.268715</td>\n",
       "      <td>-0.512760</td>\n",
       "      <td>1.140149</td>\n",
       "      <td>-0.341273</td>\n",
       "      <td>-1.046351</td>\n",
       "      <td>0.085662</td>\n",
       "      <td>...</td>\n",
       "      <td>1.277315</td>\n",
       "      <td>0.303905</td>\n",
       "      <td>-0.647075</td>\n",
       "      <td>-0.373014</td>\n",
       "      <td>0.260801</td>\n",
       "      <td>-0.496566</td>\n",
       "      <td>-0.245973</td>\n",
       "      <td>-0.117858</td>\n",
       "      <td>0.144774</td>\n",
       "      <td>723.21</td>\n",
       "    </tr>\n",
       "    <tr>\n",
       "      <th>44696</th>\n",
       "      <td>0.937545</td>\n",
       "      <td>-0.543255</td>\n",
       "      <td>1.027463</td>\n",
       "      <td>0.512110</td>\n",
       "      <td>-0.831667</td>\n",
       "      <td>0.385503</td>\n",
       "      <td>-0.634467</td>\n",
       "      <td>0.131506</td>\n",
       "      <td>0.574428</td>\n",
       "      <td>-0.256355</td>\n",
       "      <td>...</td>\n",
       "      <td>0.268107</td>\n",
       "      <td>0.308424</td>\n",
       "      <td>0.748671</td>\n",
       "      <td>-0.192632</td>\n",
       "      <td>-0.330654</td>\n",
       "      <td>0.176630</td>\n",
       "      <td>0.619430</td>\n",
       "      <td>0.013191</td>\n",
       "      <td>0.047957</td>\n",
       "      <td>137.95</td>\n",
       "    </tr>\n",
       "    <tr>\n",
       "      <th>31864</th>\n",
       "      <td>1.234139</td>\n",
       "      <td>-0.943517</td>\n",
       "      <td>0.695706</td>\n",
       "      <td>-1.339927</td>\n",
       "      <td>-1.509932</td>\n",
       "      <td>-0.613180</td>\n",
       "      <td>-0.797182</td>\n",
       "      <td>-0.034444</td>\n",
       "      <td>0.574644</td>\n",
       "      <td>-0.304890</td>\n",
       "      <td>...</td>\n",
       "      <td>-0.487586</td>\n",
       "      <td>-0.156467</td>\n",
       "      <td>0.248959</td>\n",
       "      <td>-0.058356</td>\n",
       "      <td>0.419196</td>\n",
       "      <td>0.513941</td>\n",
       "      <td>-0.490566</td>\n",
       "      <td>0.114715</td>\n",
       "      <td>0.038206</td>\n",
       "      <td>41.95</td>\n",
       "    </tr>\n",
       "    <tr>\n",
       "      <th>233909</th>\n",
       "      <td>-1.050381</td>\n",
       "      <td>0.601436</td>\n",
       "      <td>-0.480727</td>\n",
       "      <td>-2.287084</td>\n",
       "      <td>-0.156796</td>\n",
       "      <td>-1.011860</td>\n",
       "      <td>-0.067803</td>\n",
       "      <td>0.660398</td>\n",
       "      <td>-1.750226</td>\n",
       "      <td>-0.312153</td>\n",
       "      <td>...</td>\n",
       "      <td>-0.255996</td>\n",
       "      <td>0.262440</td>\n",
       "      <td>0.295577</td>\n",
       "      <td>-0.140619</td>\n",
       "      <td>-0.334669</td>\n",
       "      <td>-0.215177</td>\n",
       "      <td>-0.450262</td>\n",
       "      <td>-0.272015</td>\n",
       "      <td>-0.011373</td>\n",
       "      <td>4.13</td>\n",
       "    </tr>\n",
       "    <tr>\n",
       "      <th>183101</th>\n",
       "      <td>0.116849</td>\n",
       "      <td>0.746846</td>\n",
       "      <td>-2.580209</td>\n",
       "      <td>-1.114107</td>\n",
       "      <td>2.711441</td>\n",
       "      <td>3.133278</td>\n",
       "      <td>0.076749</td>\n",
       "      <td>1.214324</td>\n",
       "      <td>-0.321833</td>\n",
       "      <td>-1.183319</td>\n",
       "      <td>...</td>\n",
       "      <td>-0.075537</td>\n",
       "      <td>0.343801</td>\n",
       "      <td>0.795495</td>\n",
       "      <td>0.046289</td>\n",
       "      <td>0.615515</td>\n",
       "      <td>-0.217676</td>\n",
       "      <td>-0.130093</td>\n",
       "      <td>-0.063341</td>\n",
       "      <td>-0.048145</td>\n",
       "      <td>52.00</td>\n",
       "    </tr>\n",
       "    <tr>\n",
       "      <th>88265</th>\n",
       "      <td>-1.206488</td>\n",
       "      <td>1.004657</td>\n",
       "      <td>0.152853</td>\n",
       "      <td>-1.962787</td>\n",
       "      <td>-0.656907</td>\n",
       "      <td>-0.706286</td>\n",
       "      <td>-0.466546</td>\n",
       "      <td>0.801169</td>\n",
       "      <td>-1.248699</td>\n",
       "      <td>0.062107</td>\n",
       "      <td>...</td>\n",
       "      <td>0.095808</td>\n",
       "      <td>0.203655</td>\n",
       "      <td>0.396986</td>\n",
       "      <td>-0.160760</td>\n",
       "      <td>-0.571046</td>\n",
       "      <td>0.034573</td>\n",
       "      <td>-0.343876</td>\n",
       "      <td>0.228299</td>\n",
       "      <td>0.120429</td>\n",
       "      <td>5.00</td>\n",
       "    </tr>\n",
       "    <tr>\n",
       "      <th>72476</th>\n",
       "      <td>0.683389</td>\n",
       "      <td>-0.940750</td>\n",
       "      <td>-0.032823</td>\n",
       "      <td>0.352668</td>\n",
       "      <td>-0.898172</td>\n",
       "      <td>-1.047873</td>\n",
       "      <td>0.440964</td>\n",
       "      <td>-0.293963</td>\n",
       "      <td>0.178112</td>\n",
       "      <td>-0.269365</td>\n",
       "      <td>...</td>\n",
       "      <td>0.533982</td>\n",
       "      <td>-0.045068</td>\n",
       "      <td>-0.877869</td>\n",
       "      <td>-0.160987</td>\n",
       "      <td>0.432490</td>\n",
       "      <td>0.041511</td>\n",
       "      <td>0.783159</td>\n",
       "      <td>-0.148393</td>\n",
       "      <td>0.058986</td>\n",
       "      <td>319.00</td>\n",
       "    </tr>\n",
       "    <tr>\n",
       "      <th>73886</th>\n",
       "      <td>-1.435844</td>\n",
       "      <td>0.372468</td>\n",
       "      <td>1.526811</td>\n",
       "      <td>-1.628174</td>\n",
       "      <td>-1.265586</td>\n",
       "      <td>0.131469</td>\n",
       "      <td>-0.385453</td>\n",
       "      <td>-2.730749</td>\n",
       "      <td>-1.735721</td>\n",
       "      <td>-0.798762</td>\n",
       "      <td>...</td>\n",
       "      <td>0.659205</td>\n",
       "      <td>-1.266709</td>\n",
       "      <td>0.107082</td>\n",
       "      <td>-0.530021</td>\n",
       "      <td>0.391454</td>\n",
       "      <td>-0.107222</td>\n",
       "      <td>-0.586771</td>\n",
       "      <td>0.156965</td>\n",
       "      <td>0.061044</td>\n",
       "      <td>264.39</td>\n",
       "    </tr>\n",
       "    <tr>\n",
       "      <th>123547</th>\n",
       "      <td>-2.429452</td>\n",
       "      <td>2.028011</td>\n",
       "      <td>-0.981596</td>\n",
       "      <td>-2.806809</td>\n",
       "      <td>1.682207</td>\n",
       "      <td>3.026534</td>\n",
       "      <td>-0.385599</td>\n",
       "      <td>1.459261</td>\n",
       "      <td>1.016029</td>\n",
       "      <td>1.261373</td>\n",
       "      <td>...</td>\n",
       "      <td>0.955400</td>\n",
       "      <td>-0.298395</td>\n",
       "      <td>-0.659499</td>\n",
       "      <td>0.028475</td>\n",
       "      <td>1.006401</td>\n",
       "      <td>0.199777</td>\n",
       "      <td>0.767798</td>\n",
       "      <td>0.862653</td>\n",
       "      <td>0.538995</td>\n",
       "      <td>1.54</td>\n",
       "    </tr>\n",
       "    <tr>\n",
       "      <th>190267</th>\n",
       "      <td>0.108692</td>\n",
       "      <td>0.883450</td>\n",
       "      <td>-0.525120</td>\n",
       "      <td>-0.720752</td>\n",
       "      <td>1.063351</td>\n",
       "      <td>-0.301055</td>\n",
       "      <td>0.760852</td>\n",
       "      <td>0.144138</td>\n",
       "      <td>-0.122277</td>\n",
       "      <td>-0.638261</td>\n",
       "      <td>...</td>\n",
       "      <td>-0.037977</td>\n",
       "      <td>-0.315987</td>\n",
       "      <td>-0.842099</td>\n",
       "      <td>0.064093</td>\n",
       "      <td>0.158193</td>\n",
       "      <td>-0.464388</td>\n",
       "      <td>0.121649</td>\n",
       "      <td>0.214521</td>\n",
       "      <td>0.068449</td>\n",
       "      <td>0.89</td>\n",
       "    </tr>\n",
       "    <tr>\n",
       "      <th>27586</th>\n",
       "      <td>1.115923</td>\n",
       "      <td>-0.208065</td>\n",
       "      <td>1.272632</td>\n",
       "      <td>1.244066</td>\n",
       "      <td>-1.095039</td>\n",
       "      <td>0.070824</td>\n",
       "      <td>-0.797603</td>\n",
       "      <td>0.346743</td>\n",
       "      <td>0.923676</td>\n",
       "      <td>0.025468</td>\n",
       "      <td>...</td>\n",
       "      <td>-0.254451</td>\n",
       "      <td>-0.035142</td>\n",
       "      <td>-0.015426</td>\n",
       "      <td>0.008990</td>\n",
       "      <td>0.274308</td>\n",
       "      <td>0.321104</td>\n",
       "      <td>-0.419127</td>\n",
       "      <td>0.056912</td>\n",
       "      <td>0.023216</td>\n",
       "      <td>5.50</td>\n",
       "    </tr>\n",
       "    <tr>\n",
       "      <th>42965</th>\n",
       "      <td>-2.588478</td>\n",
       "      <td>-2.640332</td>\n",
       "      <td>2.471179</td>\n",
       "      <td>-1.262654</td>\n",
       "      <td>1.707620</td>\n",
       "      <td>-0.594148</td>\n",
       "      <td>-1.034840</td>\n",
       "      <td>0.517822</td>\n",
       "      <td>1.547498</td>\n",
       "      <td>-1.560564</td>\n",
       "      <td>...</td>\n",
       "      <td>0.687919</td>\n",
       "      <td>0.187373</td>\n",
       "      <td>0.092052</td>\n",
       "      <td>0.386099</td>\n",
       "      <td>-0.327056</td>\n",
       "      <td>0.474424</td>\n",
       "      <td>-0.800287</td>\n",
       "      <td>-0.146961</td>\n",
       "      <td>-0.112966</td>\n",
       "      <td>117.99</td>\n",
       "    </tr>\n",
       "    <tr>\n",
       "      <th>49424</th>\n",
       "      <td>-1.362896</td>\n",
       "      <td>0.784266</td>\n",
       "      <td>2.135114</td>\n",
       "      <td>0.901308</td>\n",
       "      <td>-1.010935</td>\n",
       "      <td>1.006875</td>\n",
       "      <td>0.089636</td>\n",
       "      <td>0.724738</td>\n",
       "      <td>-0.537778</td>\n",
       "      <td>-0.626742</td>\n",
       "      <td>...</td>\n",
       "      <td>-0.066826</td>\n",
       "      <td>0.173608</td>\n",
       "      <td>0.545437</td>\n",
       "      <td>0.029496</td>\n",
       "      <td>0.030706</td>\n",
       "      <td>0.201539</td>\n",
       "      <td>-0.257087</td>\n",
       "      <td>-0.042535</td>\n",
       "      <td>-0.033667</td>\n",
       "      <td>132.27</td>\n",
       "    </tr>\n",
       "    <tr>\n",
       "      <th>116825</th>\n",
       "      <td>-0.444432</td>\n",
       "      <td>0.943937</td>\n",
       "      <td>1.329332</td>\n",
       "      <td>-0.188890</td>\n",
       "      <td>0.385943</td>\n",
       "      <td>-0.169757</td>\n",
       "      <td>0.581994</td>\n",
       "      <td>0.112878</td>\n",
       "      <td>-0.347264</td>\n",
       "      <td>-0.348392</td>\n",
       "      <td>...</td>\n",
       "      <td>0.082414</td>\n",
       "      <td>-0.231877</td>\n",
       "      <td>-0.581957</td>\n",
       "      <td>-0.048439</td>\n",
       "      <td>-0.447981</td>\n",
       "      <td>-0.202409</td>\n",
       "      <td>0.132211</td>\n",
       "      <td>0.279578</td>\n",
       "      <td>0.112970</td>\n",
       "      <td>1.79</td>\n",
       "    </tr>\n",
       "    <tr>\n",
       "      <th>40971</th>\n",
       "      <td>-1.497122</td>\n",
       "      <td>1.152116</td>\n",
       "      <td>1.661257</td>\n",
       "      <td>1.564480</td>\n",
       "      <td>-0.985292</td>\n",
       "      <td>1.088036</td>\n",
       "      <td>-0.812311</td>\n",
       "      <td>1.394429</td>\n",
       "      <td>0.124257</td>\n",
       "      <td>-0.608783</td>\n",
       "      <td>...</td>\n",
       "      <td>-0.134520</td>\n",
       "      <td>-0.233120</td>\n",
       "      <td>-0.425322</td>\n",
       "      <td>-0.016851</td>\n",
       "      <td>0.023437</td>\n",
       "      <td>-0.065413</td>\n",
       "      <td>-0.394613</td>\n",
       "      <td>0.078557</td>\n",
       "      <td>0.015980</td>\n",
       "      <td>18.90</td>\n",
       "    </tr>\n",
       "    <tr>\n",
       "      <th>273455</th>\n",
       "      <td>-0.510381</td>\n",
       "      <td>0.946413</td>\n",
       "      <td>1.925877</td>\n",
       "      <td>-0.538333</td>\n",
       "      <td>0.386981</td>\n",
       "      <td>0.026039</td>\n",
       "      <td>0.710646</td>\n",
       "      <td>-0.164836</td>\n",
       "      <td>0.246040</td>\n",
       "      <td>-0.599644</td>\n",
       "      <td>...</td>\n",
       "      <td>0.312857</td>\n",
       "      <td>-0.247204</td>\n",
       "      <td>-0.310712</td>\n",
       "      <td>-0.420937</td>\n",
       "      <td>-0.672705</td>\n",
       "      <td>0.474619</td>\n",
       "      <td>-0.634045</td>\n",
       "      <td>0.198508</td>\n",
       "      <td>-0.083822</td>\n",
       "      <td>1.00</td>\n",
       "    </tr>\n",
       "    <tr>\n",
       "      <th>182867</th>\n",
       "      <td>-0.710812</td>\n",
       "      <td>0.798818</td>\n",
       "      <td>-1.195173</td>\n",
       "      <td>-0.716560</td>\n",
       "      <td>3.372018</td>\n",
       "      <td>3.742349</td>\n",
       "      <td>0.709788</td>\n",
       "      <td>-0.011504</td>\n",
       "      <td>-0.823814</td>\n",
       "      <td>-0.538357</td>\n",
       "      <td>...</td>\n",
       "      <td>-0.298919</td>\n",
       "      <td>0.747178</td>\n",
       "      <td>-0.292879</td>\n",
       "      <td>-0.413609</td>\n",
       "      <td>0.695876</td>\n",
       "      <td>1.471391</td>\n",
       "      <td>-0.318451</td>\n",
       "      <td>-0.011694</td>\n",
       "      <td>-0.163276</td>\n",
       "      <td>67.77</td>\n",
       "    </tr>\n",
       "  </tbody>\n",
       "</table>\n",
       "<p>38884 rows × 29 columns</p>\n",
       "</div>"
      ],
      "text/plain": [
       "              V1        V2        V3        V4        V5        V6        V7  \\\n",
       "199907 -2.898534  2.335865 -2.580650 -1.635801  1.004089  0.241421 -1.947226   \n",
       "108425  0.465652 -2.211063  0.825680  0.002524 -2.161795  0.044469 -0.651862   \n",
       "265756  0.127149  0.813936 -0.542322 -1.174614  1.705919 -1.290807  2.004082   \n",
       "240309  1.997032  0.471299 -2.288758  1.373118  1.010453 -0.673412  0.530564   \n",
       "230792 -2.396032 -0.553487  1.312400 -1.132354  0.245760 -0.129237  0.889585   \n",
       "32450  -0.827556 -0.083257  2.062609 -1.916331 -0.998365  0.063317 -0.434585   \n",
       "207728  2.134170  0.038352 -2.338952 -0.076475  0.711083 -1.310592  0.725398   \n",
       "236892  1.933270 -1.350878  0.652871  1.011541 -1.594781  1.221503 -1.850292   \n",
       "244943 -1.173946  0.609209  0.741983 -1.809244  0.180076 -0.010626  0.312183   \n",
       "267824  1.844686 -0.619484 -0.394620  0.343100 -0.214237  0.969722 -0.901900   \n",
       "268131 -0.114616  0.251710  1.536465  1.066808 -0.350781  0.473709 -0.615864   \n",
       "193708 -2.156828  2.678184 -2.279124 -1.087435  0.367839 -0.178373 -0.006520   \n",
       "169862  2.017953  0.058252 -1.619452  0.353067  0.315459 -0.681202  0.036451   \n",
       "260085 -0.466681  1.470471 -0.909695 -0.251940  1.616060 -1.919969  1.482073   \n",
       "8670    0.759117 -0.860906  0.407423  0.343693 -0.512834  0.610339 -0.332852   \n",
       "189698  1.894893  0.371393 -0.064436  3.607553  0.201358  0.689180 -0.427763   \n",
       "160534  1.979639 -1.029783 -1.444450 -0.694480 -0.671629 -1.360079 -0.017294   \n",
       "126091 -2.597581 -0.767684  1.272246  0.336127  1.791811 -0.642956 -0.466455   \n",
       "34355  -1.414166 -0.426362  0.295761  0.193104  2.475615 -2.339276  0.111606   \n",
       "171997  2.166922 -0.753291 -0.887595 -1.106112 -0.636526 -0.684831 -0.650198   \n",
       "57661  -0.966652  1.478130  0.771943  0.333734  0.621895  0.681178  0.432067   \n",
       "135738 -0.968716  0.781718  1.227021  0.267244  0.945096  0.043601  0.315519   \n",
       "13767   0.991567 -0.209039  0.765694  0.377316  0.006870  1.156989 -0.509382   \n",
       "137127 -2.240391  1.562074  0.867433 -1.680612 -0.558472 -0.438408  0.095502   \n",
       "210631  0.106760  0.949853 -0.535160 -0.745178  1.193639 -0.232937  0.840860   \n",
       "149812  0.042436  0.892376  0.410827 -0.379318  0.405166 -1.020157  0.825473   \n",
       "88972   1.232193 -0.229653 -0.332639  0.085176  1.573836  3.959564 -1.130371   \n",
       "182871  1.929301 -0.223788 -3.120130  0.292451  2.889450  3.318414  0.070513   \n",
       "178562  1.951046 -0.393448 -0.628717  0.241213 -0.578649 -0.208219 -0.899786   \n",
       "208441 -2.511998 -2.781748  1.408172 -3.048312  2.863623 -0.482142 -1.593723   \n",
       "...          ...       ...       ...       ...       ...       ...       ...   \n",
       "152574  1.973531 -0.474499  0.197153  0.549060 -1.020910 -0.398638 -1.011277   \n",
       "241318 -0.074110 -0.347253  1.745622  0.381817  0.094591  3.256371 -1.262272   \n",
       "50927  -4.678386  3.451893 -1.946664  0.277297 -3.050028 -0.865884 -2.385780   \n",
       "187342  2.041429 -1.886582 -1.072220 -1.705269 -1.137088  0.256496 -1.284295   \n",
       "128365  1.231586 -0.413043  1.098834 -0.843303 -1.407439 -0.837886 -0.786304   \n",
       "265684 -0.484560  0.659441  1.732009 -0.660167  0.006633 -0.396754  0.581202   \n",
       "167547 -2.210887 -1.344151 -0.064065  0.618148  3.610308 -1.203713 -0.615840   \n",
       "268760  2.084722 -0.076536 -1.456916  0.055482  0.485344 -0.283433  0.124140   \n",
       "197784  2.071716 -1.176000 -1.196195 -1.092389 -0.495480  0.029847 -0.801790   \n",
       "155257 -0.490327  0.807327  2.399965 -0.103815  0.076465 -0.372893  0.505751   \n",
       "142660 -3.110861  0.982156  0.330847  0.829458 -0.242277 -0.856808 -1.567547   \n",
       "72505   1.096057 -0.522901  0.875029  0.185963 -0.921279 -0.049623 -0.469502   \n",
       "204990  0.022811  0.352146  0.277257  1.047408  0.871873 -0.544502  0.316577   \n",
       "195383  0.469750 -1.237555 -1.767341  4.833490 -0.268715 -0.512760  1.140149   \n",
       "44696   0.937545 -0.543255  1.027463  0.512110 -0.831667  0.385503 -0.634467   \n",
       "31864   1.234139 -0.943517  0.695706 -1.339927 -1.509932 -0.613180 -0.797182   \n",
       "233909 -1.050381  0.601436 -0.480727 -2.287084 -0.156796 -1.011860 -0.067803   \n",
       "183101  0.116849  0.746846 -2.580209 -1.114107  2.711441  3.133278  0.076749   \n",
       "88265  -1.206488  1.004657  0.152853 -1.962787 -0.656907 -0.706286 -0.466546   \n",
       "72476   0.683389 -0.940750 -0.032823  0.352668 -0.898172 -1.047873  0.440964   \n",
       "73886  -1.435844  0.372468  1.526811 -1.628174 -1.265586  0.131469 -0.385453   \n",
       "123547 -2.429452  2.028011 -0.981596 -2.806809  1.682207  3.026534 -0.385599   \n",
       "190267  0.108692  0.883450 -0.525120 -0.720752  1.063351 -0.301055  0.760852   \n",
       "27586   1.115923 -0.208065  1.272632  1.244066 -1.095039  0.070824 -0.797603   \n",
       "42965  -2.588478 -2.640332  2.471179 -1.262654  1.707620 -0.594148 -1.034840   \n",
       "49424  -1.362896  0.784266  2.135114  0.901308 -1.010935  1.006875  0.089636   \n",
       "116825 -0.444432  0.943937  1.329332 -0.188890  0.385943 -0.169757  0.581994   \n",
       "40971  -1.497122  1.152116  1.661257  1.564480 -0.985292  1.088036 -0.812311   \n",
       "273455 -0.510381  0.946413  1.925877 -0.538333  0.386981  0.026039  0.710646   \n",
       "182867 -0.710812  0.798818 -1.195173 -0.716560  3.372018  3.742349  0.709788   \n",
       "\n",
       "               V8        V9       V10   ...         V20       V21       V22  \\\n",
       "199907 -11.701934 -0.582457  1.987813   ...   -0.469586  1.863208  0.496664   \n",
       "108425   0.106444 -0.153201  0.413537   ...    0.316451 -0.287784 -1.102149   \n",
       "265756  -0.921752 -0.128364 -0.129620   ...   -0.091926  0.192409  0.910717   \n",
       "240309  -0.162376 -0.069638 -0.176525   ...   -0.258244  0.006095  0.182688   \n",
       "230792  -0.015832  0.677545 -0.746701   ...   -1.033433 -0.613249 -1.087025   \n",
       "32450    0.418814 -0.720426  0.376913   ...    0.027090  0.481265  1.239019   \n",
       "207728  -0.478574  0.308230  0.029776   ...   -0.228567  0.127905  0.421162   \n",
       "236892   0.425636  1.405681  0.604810   ...   -0.600846 -0.269129  0.228633   \n",
       "244943   0.399817 -1.805899 -0.311466   ...   -0.596603 -0.114611  0.072045   \n",
       "267824   0.434638  1.577066 -0.286928   ...   -0.366190  0.265499  1.103009   \n",
       "268131   0.260233  0.662910  0.024137   ...    0.103496  0.173948  0.673010   \n",
       "193708   1.181235  0.395433  0.686286   ...    0.611705 -0.434500 -0.915794   \n",
       "169862  -0.059286  0.334024 -0.187849   ...   -0.198141 -0.309022 -0.858695   \n",
       "260085  -0.320694 -0.312395 -2.290189   ...   -0.076373 -0.009784  0.003451   \n",
       "8670     0.196187  1.863866 -0.725106   ...    0.172922 -0.047264 -0.076314   \n",
       "189698   0.120717 -0.600859  1.400583   ...   -0.156698  0.184745  0.555916   \n",
       "160534  -0.465088 -0.517971  0.731342   ...    0.208411  0.104271  0.070109   \n",
       "126091   0.810727 -1.083739 -0.859014   ...    0.303990  0.408754  0.346980   \n",
       "34355   -0.394224 -0.103002 -0.722651   ...   -0.393367 -0.030060  0.260830   \n",
       "171997  -0.096660 -0.626875  0.958453   ...   -0.027292 -0.203135 -0.722754   \n",
       "57661   -0.883951 -0.588684  0.376683   ...   -0.147157  0.851272 -0.120858   \n",
       "135738   0.050625 -0.849959 -0.145913   ...    0.198595 -0.213616 -0.788073   \n",
       "13767    0.331841  1.755394 -0.891513   ...   -0.172627 -0.308394 -0.358728   \n",
       "137127   0.576837  1.062155  1.103078   ...    0.401158 -0.191431 -0.229241   \n",
       "210631   0.085040 -0.286439 -0.672787   ...    0.042659 -0.305864 -0.764512   \n",
       "149812  -0.195507  1.417329 -0.755035   ...   -0.166944 -0.419621 -0.830058   \n",
       "88972    1.067693  0.628682 -0.085159   ...   -0.017532 -0.063580 -0.169507   \n",
       "182871   0.660561  0.039372  0.259345   ...   -0.115701  0.071827  0.199280   \n",
       "178562   0.177414  1.691489 -0.718515   ...   -0.162766 -0.021552  0.042071   \n",
       "208441   0.136738 -1.832276  0.744206   ...   -0.800161 -0.254756  0.077137   \n",
       "...           ...       ...       ...   ...         ...       ...       ...   \n",
       "152574  -0.017140  2.768881 -0.373530   ...   -0.240604 -0.129143 -0.008698   \n",
       "241318   1.318783  1.921173 -0.724335   ...   -0.460282  0.231311  1.107849   \n",
       "50927    3.357111 -0.523805 -0.457277   ...   -0.541724  0.198531 -0.418373   \n",
       "187342   0.065178 -1.243489  1.660271   ...   -0.157120 -0.057725  0.016847   \n",
       "128365   0.001675  1.810669 -1.003697   ...   -0.094942  0.267405  0.923146   \n",
       "265684  -0.246530  0.514145 -0.325413   ...    0.159222  0.174096  0.947562   \n",
       "167547   0.371216 -0.271876 -1.329248   ...    0.796152  0.043285 -0.546567   \n",
       "268760  -0.173196  0.218975  0.216269   ...   -0.116798 -0.292322 -0.704764   \n",
       "197784  -0.007139 -0.229354  0.885753   ...    0.134972  0.228813  0.550809   \n",
       "155257  -0.253555  1.576216 -1.124264   ...    0.033987 -0.313714 -0.465484   \n",
       "142660  -1.927998 -1.061453 -1.129589   ...    0.477053 -1.479701 -0.464347   \n",
       "72505   -0.010056  1.033144 -0.525924   ...    0.180929 -0.204105 -0.437802   \n",
       "204990  -0.139794 -0.447481  0.185510   ...    0.331010 -0.168732 -0.448164   \n",
       "195383  -0.341273 -1.046351  0.085662   ...    1.277315  0.303905 -0.647075   \n",
       "44696    0.131506  0.574428 -0.256355   ...    0.268107  0.308424  0.748671   \n",
       "31864   -0.034444  0.574644 -0.304890   ...   -0.487586 -0.156467  0.248959   \n",
       "233909   0.660398 -1.750226 -0.312153   ...   -0.255996  0.262440  0.295577   \n",
       "183101   1.214324 -0.321833 -1.183319   ...   -0.075537  0.343801  0.795495   \n",
       "88265    0.801169 -1.248699  0.062107   ...    0.095808  0.203655  0.396986   \n",
       "72476   -0.293963  0.178112 -0.269365   ...    0.533982 -0.045068 -0.877869   \n",
       "73886   -2.730749 -1.735721 -0.798762   ...    0.659205 -1.266709  0.107082   \n",
       "123547   1.459261  1.016029  1.261373   ...    0.955400 -0.298395 -0.659499   \n",
       "190267   0.144138 -0.122277 -0.638261   ...   -0.037977 -0.315987 -0.842099   \n",
       "27586    0.346743  0.923676  0.025468   ...   -0.254451 -0.035142 -0.015426   \n",
       "42965    0.517822  1.547498 -1.560564   ...    0.687919  0.187373  0.092052   \n",
       "49424    0.724738 -0.537778 -0.626742   ...   -0.066826  0.173608  0.545437   \n",
       "116825   0.112878 -0.347264 -0.348392   ...    0.082414 -0.231877 -0.581957   \n",
       "40971    1.394429  0.124257 -0.608783   ...   -0.134520 -0.233120 -0.425322   \n",
       "273455  -0.164836  0.246040 -0.599644   ...    0.312857 -0.247204 -0.310712   \n",
       "182867  -0.011504 -0.823814 -0.538357   ...   -0.298919  0.747178 -0.292879   \n",
       "\n",
       "             V23       V24       V25       V26       V27       V28  Amount  \n",
       "199907  0.496874  1.174098 -1.652801  0.379717 -1.024649 -0.939494   64.99  \n",
       "108425 -0.179108  0.580409 -0.197611  0.839903 -0.090394  0.082187  419.27  \n",
       "265756 -0.317445  0.785640 -0.424653 -0.031038 -0.304005 -0.241409    3.90  \n",
       "240309  0.012547  0.568676  0.433247 -0.539873 -0.006559 -0.034073    1.00  \n",
       "230792  0.617427 -0.476856  0.532635 -0.353114 -0.283374  0.100989  103.99  \n",
       "32450  -0.212110 -0.016285 -0.050586 -0.174210  0.220622  0.151746   39.00  \n",
       "207728 -0.033422  0.616146  0.457346  0.217986 -0.097946 -0.073277   15.33  \n",
       "236892  0.088670 -0.789299 -0.163106 -0.425544  0.157662 -0.015464   40.00  \n",
       "244943 -0.516300  0.773349  0.970481  0.701896 -0.285448 -0.050652   11.50  \n",
       "267824  0.205172 -1.114025 -0.337757 -0.107353  0.090250 -0.050351    9.99  \n",
       "268131  0.014641  0.674069 -1.146933 -0.080433  0.220144  0.215169   15.40  \n",
       "193708  0.142096 -0.310162  0.018270  0.150617  0.321682  0.023475   10.71  \n",
       "169862  0.359254  0.649453 -0.338457  0.145044 -0.071171 -0.040289    1.98  \n",
       "260085 -0.454421 -0.321732  0.438356 -0.511653  0.140682  0.199139    5.00  \n",
       "8670   -0.162885 -0.240179  0.151794  1.095899 -0.104776  0.009129  200.00  \n",
       "189698  0.187321  0.463481 -0.193536 -0.023847  0.007603 -0.022976   13.92  \n",
       "160534  0.082159  0.067652 -0.053678 -0.295420 -0.062363 -0.041079  136.47  \n",
       "126091 -0.326109 -0.258752  0.533110 -0.390259 -0.029540 -0.320822    9.49  \n",
       "34355  -0.204197  0.329769 -1.102415 -0.024056  0.131416 -0.047611    0.76  \n",
       "171997  0.450314 -0.464699 -0.578893 -0.690986 -0.017831 -0.058220    9.89  \n",
       "57661  -0.176219 -1.035003 -0.085018 -0.395726 -0.337084  0.144295   25.00  \n",
       "135738 -0.252262 -0.863587  0.129750  0.302896 -0.296841  0.218349    0.89  \n",
       "13767   0.253165 -0.610914 -0.168959  0.886243 -0.019708 -0.004244   34.56  \n",
       "137127  0.084992 -0.028267 -0.263373  0.726299  0.374340  0.182592    7.68  \n",
       "210631  0.049295  0.117717 -0.416061  0.122208  0.220586  0.070412    3.59  \n",
       "149812  0.099268 -0.113272 -0.567867  0.108790  0.216404  0.087752    2.28  \n",
       "88972  -0.034198  0.997747  0.552384 -0.384011  0.072874  0.031000    1.18  \n",
       "182871 -0.012749  0.709901  0.492767 -0.477041 -0.007833 -0.059462   57.78  \n",
       "178562  0.292816  0.480529 -0.473001 -0.097127  0.037072  0.001485   19.99  \n",
       "208441 -0.701778 -0.286356  0.508312 -0.168597  0.095949 -0.309488   12.00  \n",
       "...          ...       ...       ...       ...       ...       ...     ...  \n",
       "152574  0.314886 -0.159973 -0.624526  0.451226 -0.044144 -0.045731   15.95  \n",
       "241318 -0.082169 -0.996882 -0.568866 -0.456633  0.201699  0.007315    1.00  \n",
       "50927   0.241571  0.536152  0.228046  0.160962 -1.251586 -0.306001   12.23  \n",
       "187342  0.120146  0.112397 -0.290600 -0.203048 -0.004073 -0.033163  136.00  \n",
       "128365 -0.115746  0.404664  0.482778 -0.550712  0.102953  0.041372    8.00  \n",
       "265684 -0.266288  0.134397 -0.329606  0.504733  0.078024  0.006248   11.50  \n",
       "167547 -0.052014 -0.309504  0.993172  0.013963 -0.037262  0.139016   43.55  \n",
       "268760  0.188002 -1.012921 -0.164213  0.238378 -0.070871 -0.077936    5.48  \n",
       "197784 -0.024919 -1.131703 -0.067649 -0.133243 -0.019360 -0.061658   80.50  \n",
       "155257 -0.299141 -0.068129  0.249814 -0.729107 -0.082298 -0.146533    2.12  \n",
       "142660 -0.523528  0.408897 -0.091166  0.192121 -0.014562 -0.307888    3.27  \n",
       "72505  -0.066361 -0.000833  0.217877  0.960943 -0.040551  0.025671   86.80  \n",
       "204990  0.106051 -0.633335 -0.995675  0.592678  0.179258  0.210541    6.75  \n",
       "195383 -0.373014  0.260801 -0.496566 -0.245973 -0.117858  0.144774  723.21  \n",
       "44696  -0.192632 -0.330654  0.176630  0.619430  0.013191  0.047957  137.95  \n",
       "31864  -0.058356  0.419196  0.513941 -0.490566  0.114715  0.038206   41.95  \n",
       "233909 -0.140619 -0.334669 -0.215177 -0.450262 -0.272015 -0.011373    4.13  \n",
       "183101  0.046289  0.615515 -0.217676 -0.130093 -0.063341 -0.048145   52.00  \n",
       "88265  -0.160760 -0.571046  0.034573 -0.343876  0.228299  0.120429    5.00  \n",
       "72476  -0.160987  0.432490  0.041511  0.783159 -0.148393  0.058986  319.00  \n",
       "73886  -0.530021  0.391454 -0.107222 -0.586771  0.156965  0.061044  264.39  \n",
       "123547  0.028475  1.006401  0.199777  0.767798  0.862653  0.538995    1.54  \n",
       "190267  0.064093  0.158193 -0.464388  0.121649  0.214521  0.068449    0.89  \n",
       "27586   0.008990  0.274308  0.321104 -0.419127  0.056912  0.023216    5.50  \n",
       "42965   0.386099 -0.327056  0.474424 -0.800287 -0.146961 -0.112966  117.99  \n",
       "49424   0.029496  0.030706  0.201539 -0.257087 -0.042535 -0.033667  132.27  \n",
       "116825 -0.048439 -0.447981 -0.202409  0.132211  0.279578  0.112970    1.79  \n",
       "40971  -0.016851  0.023437 -0.065413 -0.394613  0.078557  0.015980   18.90  \n",
       "273455 -0.420937 -0.672705  0.474619 -0.634045  0.198508 -0.083822    1.00  \n",
       "182867 -0.413609  0.695876  1.471391 -0.318451 -0.011694 -0.163276   67.77  \n",
       "\n",
       "[38884 rows x 29 columns]"
      ]
     },
     "execution_count": 453,
     "metadata": {},
     "output_type": "execute_result"
    }
   ],
   "source": [
    "X_train"
   ]
  },
  {
   "cell_type": "markdown",
   "metadata": {},
   "source": [
    "Downsample data"
   ]
  },
  {
   "cell_type": "code",
   "execution_count": 454,
   "metadata": {},
   "outputs": [],
   "source": [
    "#Combine the two training datasets\n",
    "train = X_train.copy()\n",
    "train[\"Class\"] = y_train"
   ]
  },
  {
   "cell_type": "code",
   "execution_count": 455,
   "metadata": {},
   "outputs": [
    {
     "data": {
      "text/plain": [
       "0    38588\n",
       "1      296\n",
       "Name: Class, dtype: int64"
      ]
     },
     "execution_count": 455,
     "metadata": {},
     "output_type": "execute_result"
    }
   ],
   "source": [
    "#Class count\n",
    "train.Class.value_counts()"
   ]
  },
  {
   "cell_type": "code",
   "execution_count": 456,
   "metadata": {},
   "outputs": [
    {
     "data": {
      "text/plain": [
       "1    296\n",
       "0    296\n",
       "Name: Class, dtype: int64"
      ]
     },
     "execution_count": 456,
     "metadata": {},
     "output_type": "execute_result"
    }
   ],
   "source": [
    "N = train.Class.value_counts()[1]\n",
    "\n",
    "fraud_maj = train[train.Class==0]\n",
    "fraud_min = train[train.Class==1]\n",
    " \n",
    "# Downsample majority class\n",
    "fraud_majority_downsampled = resample(fraud_maj, \n",
    "                                 replace=False,     # Do not sample with replacement\n",
    "                                 n_samples=N,    # to match minority class\n",
    "                                 random_state=123) # reproducible results\n",
    " \n",
    "# Combine majority class with upsampled minority class\n",
    "fraud_ds = pd.concat([fraud_majority_downsampled, fraud_min])\n",
    " \n",
    "# Display new class counts\n",
    "fraud_ds.Class.value_counts()"
   ]
  },
  {
   "cell_type": "code",
   "execution_count": null,
   "metadata": {},
   "outputs": [],
   "source": []
  },
  {
   "cell_type": "markdown",
   "metadata": {},
   "source": [
    "\n",
    "Train Logistic Regression on downsampled data and evaluate it on testing data"
   ]
  },
  {
   "cell_type": "code",
   "execution_count": 457,
   "metadata": {},
   "outputs": [
    {
     "data": {
      "text/plain": [
       "LogisticRegression(C=1.0, class_weight=None, dual=False, fit_intercept=True,\n",
       "          intercept_scaling=1, max_iter=100, multi_class='ovr', n_jobs=1,\n",
       "          penalty='l2', random_state=None, solver='liblinear', tol=0.0001,\n",
       "          verbose=0, warm_start=False)"
      ]
     },
     "execution_count": 457,
     "metadata": {},
     "output_type": "execute_result"
    }
   ],
   "source": [
    "#Assign X and y\n",
    "fraud_ds_X = fraud_ds.drop(\"Class\", axis = 1)\n",
    "fraud_ds_y = fraud_ds.Class\n",
    "#Intialize\n",
    "lr = LogisticRegression()\n",
    "lr.fit(fraud_ds_X, fraud_ds_y)"
   ]
  },
  {
   "cell_type": "code",
   "execution_count": 458,
   "metadata": {},
   "outputs": [
    {
     "data": {
      "text/plain": [
       "0    0.992439\n",
       "1    0.007561\n",
       "Name: Class, dtype: float64"
      ]
     },
     "execution_count": 458,
     "metadata": {},
     "output_type": "execute_result"
    }
   ],
   "source": [
    "#Null accuracy \n",
    "\n",
    "y_test.value_counts(normalize=True)"
   ]
  },
  {
   "cell_type": "code",
   "execution_count": 459,
   "metadata": {},
   "outputs": [
    {
     "data": {
      "text/plain": [
       "0.9554063958646761"
      ]
     },
     "execution_count": 459,
     "metadata": {},
     "output_type": "execute_result"
    }
   ],
   "source": [
    "#Evaluate on testing dataset\n",
    "\n",
    "preds = lr.predict(X_test)\n",
    "\n",
    "accuracy_score(y_test, preds)"
   ]
  },
  {
   "cell_type": "code",
   "execution_count": 460,
   "metadata": {},
   "outputs": [
    {
     "data": {
      "text/plain": [
       "0.13414634146341464"
      ]
     },
     "execution_count": 460,
     "metadata": {},
     "output_type": "execute_result"
    }
   ],
   "source": [
    "#precision\n",
    "\n",
    "precision_score(y_test, preds)"
   ]
  },
  {
   "cell_type": "code",
   "execution_count": 461,
   "metadata": {},
   "outputs": [
    {
     "data": {
      "text/plain": [
       "0.8979591836734694"
      ]
     },
     "execution_count": 461,
     "metadata": {},
     "output_type": "execute_result"
    }
   ],
   "source": [
    "#recall\n",
    "\n",
    "recall_score(y_test, preds)"
   ]
  },
  {
   "cell_type": "code",
   "execution_count": 432,
   "metadata": {},
   "outputs": [
    {
     "data": {
      "text/plain": [
       "array([[24591,  1136],\n",
       "       [   20,   176]])"
      ]
     },
     "execution_count": 432,
     "metadata": {},
     "output_type": "execute_result"
    }
   ],
   "source": [
    "#Confusion matrix\n",
    "confusion_matrix(y_test, preds)"
   ]
  },
  {
   "cell_type": "markdown",
   "metadata": {},
   "source": [
    "What's your interpretation now?\n",
    "\n",
    "<br>\n",
    "Let's the upsampling technique to see if that produces a better model."
   ]
  },
  {
   "cell_type": "code",
   "execution_count": 447,
   "metadata": {},
   "outputs": [
    {
     "ename": "ValueError",
     "evalue": "Cannot sample 38588 out of arrays with dim 296 when replace is False",
     "output_type": "error",
     "traceback": [
      "\u001b[0;31m---------------------------------------------------------------------------\u001b[0m",
      "\u001b[0;31mValueError\u001b[0m                                Traceback (most recent call last)",
      "\u001b[0;32m<ipython-input-447-730d00ad16be>\u001b[0m in \u001b[0;36m<module>\u001b[0;34m()\u001b[0m\n\u001b[1;32m      5\u001b[0m \u001b[0;34m\u001b[0m\u001b[0m\n\u001b[1;32m      6\u001b[0m \u001b[0;31m# Downsample majority class\u001b[0m\u001b[0;34m\u001b[0m\u001b[0;34m\u001b[0m\u001b[0m\n\u001b[0;32m----> 7\u001b[0;31m \u001b[0mfraud_minority_upsampled\u001b[0m \u001b[0;34m=\u001b[0m \u001b[0mresample\u001b[0m\u001b[0;34m(\u001b[0m\u001b[0mfraud_min\u001b[0m\u001b[0;34m,\u001b[0m \u001b[0mreplace\u001b[0m\u001b[0;34m=\u001b[0m\u001b[0;32mFalse\u001b[0m\u001b[0;34m,\u001b[0m \u001b[0mn_samples\u001b[0m\u001b[0;34m=\u001b[0m\u001b[0mN\u001b[0m\u001b[0;34m,\u001b[0m \u001b[0mrandom_state\u001b[0m\u001b[0;34m=\u001b[0m\u001b[0;36m123\u001b[0m\u001b[0;34m)\u001b[0m\u001b[0;34m\u001b[0m\u001b[0m\n\u001b[0m\u001b[1;32m      8\u001b[0m \u001b[0;34m\u001b[0m\u001b[0m\n\u001b[1;32m      9\u001b[0m \u001b[0;31m# Combine majority class with upsampled minority class\u001b[0m\u001b[0;34m\u001b[0m\u001b[0;34m\u001b[0m\u001b[0m\n",
      "\u001b[0;32m~/anaconda3/lib/python3.6/site-packages/sklearn/utils/__init__.py\u001b[0m in \u001b[0;36mresample\u001b[0;34m(*arrays, **options)\u001b[0m\n\u001b[1;32m    254\u001b[0m         raise ValueError(\"Cannot sample %d out of arrays with dim %d \"\n\u001b[1;32m    255\u001b[0m                          \"when replace is False\" % (max_n_samples,\n\u001b[0;32m--> 256\u001b[0;31m                                                     n_samples))\n\u001b[0m\u001b[1;32m    257\u001b[0m \u001b[0;34m\u001b[0m\u001b[0m\n\u001b[1;32m    258\u001b[0m     \u001b[0mcheck_consistent_length\u001b[0m\u001b[0;34m(\u001b[0m\u001b[0;34m*\u001b[0m\u001b[0marrays\u001b[0m\u001b[0;34m)\u001b[0m\u001b[0;34m\u001b[0m\u001b[0m\n",
      "\u001b[0;31mValueError\u001b[0m: Cannot sample 38588 out of arrays with dim 296 when replace is False"
     ]
    }
   ],
   "source": [
    "N = train.Class.value_counts()[0]\n",
    "\n",
    "fraud_maj = train[train.Class==0]\n",
    "fraud_min = train[train.Class==1]\n",
    " \n",
    "# Downsample majority class\n",
    "fraud_minority_upsampled = resample(fraud_min, replace=False, n_samples=N, random_state=123)\n",
    " \n",
    "# Combine majority class with upsampled minority class\n",
    "fraud_us = pd.concat([fraud_minority_upsampled, fraud_maj])\n",
    " \n",
    "# Display new class counts\n",
    "fraud_us.Class.value_counts()"
   ]
  },
  {
   "cell_type": "code",
   "execution_count": 434,
   "metadata": {},
   "outputs": [
    {
     "data": {
      "text/plain": [
       "LogisticRegression(C=1.0, class_weight=None, dual=False, fit_intercept=True,\n",
       "          intercept_scaling=1, max_iter=100, multi_class='ovr', n_jobs=1,\n",
       "          penalty='l2', random_state=None, solver='liblinear', tol=0.0001,\n",
       "          verbose=0, warm_start=False)"
      ]
     },
     "execution_count": 434,
     "metadata": {},
     "output_type": "execute_result"
    }
   ],
   "source": [
    "#Assign X and y\n",
    "fraud_us_X = fraud_ds.drop(\"Class\", axis = 1)\n",
    "fraud_us_y = fraud_ds.Class\n",
    "#Intialize\n",
    "lr = LogisticRegression()\n",
    "lr.fit(fraud_us_X, fraud_us_y)"
   ]
  },
  {
   "cell_type": "code",
   "execution_count": 435,
   "metadata": {},
   "outputs": [
    {
     "data": {
      "text/plain": [
       "0.9554063958646761"
      ]
     },
     "execution_count": 435,
     "metadata": {},
     "output_type": "execute_result"
    }
   ],
   "source": [
    "#Evaluate on testing dataset\n",
    "\n",
    "preds = lr.predict(X_test)\n",
    "\n",
    "accuracy_score(y_test, preds)"
   ]
  },
  {
   "cell_type": "code",
   "execution_count": 436,
   "metadata": {},
   "outputs": [
    {
     "data": {
      "text/plain": [
       "0.13414634146341464"
      ]
     },
     "execution_count": 436,
     "metadata": {},
     "output_type": "execute_result"
    }
   ],
   "source": [
    "#precision\n",
    "\n",
    "precision_score(y_test, preds)"
   ]
  },
  {
   "cell_type": "code",
   "execution_count": 437,
   "metadata": {},
   "outputs": [
    {
     "data": {
      "text/plain": [
       "0.8979591836734694"
      ]
     },
     "execution_count": 437,
     "metadata": {},
     "output_type": "execute_result"
    }
   ],
   "source": [
    "#recall\n",
    "\n",
    "recall_score(y_test, preds)"
   ]
  },
  {
   "cell_type": "code",
   "execution_count": 438,
   "metadata": {},
   "outputs": [
    {
     "data": {
      "text/plain": [
       "array([[24591,  1136],\n",
       "       [   20,   176]])"
      ]
     },
     "execution_count": 438,
     "metadata": {},
     "output_type": "execute_result"
    }
   ],
   "source": [
    "#Confusion matrix\n",
    "confusion_matrix(y_test, preds)"
   ]
  },
  {
   "cell_type": "code",
   "execution_count": null,
   "metadata": {},
   "outputs": [],
   "source": []
  },
  {
   "cell_type": "code",
   "execution_count": null,
   "metadata": {},
   "outputs": [],
   "source": []
  },
  {
   "cell_type": "markdown",
   "metadata": {},
   "source": [
    "What do we make of these results??"
   ]
  },
  {
   "cell_type": "code",
   "execution_count": null,
   "metadata": {},
   "outputs": [],
   "source": []
  },
  {
   "cell_type": "code",
   "execution_count": null,
   "metadata": {},
   "outputs": [],
   "source": []
  },
  {
   "cell_type": "code",
   "execution_count": null,
   "metadata": {},
   "outputs": [],
   "source": []
  },
  {
   "cell_type": "markdown",
   "metadata": {},
   "source": [
    "Here's the good news. We can set a class_weight setting in our models to be assigned to \"balanced\".\n",
    "\n",
    "From sklearn:\n",
    "\n",
    "\"The 'balanced' mode uses the values of y to automatically adjust weights inversely proportional to class frequencies in the input data as n_samples / (n_classes * np.bincount(y)).\"\n",
    "\n"
   ]
  },
  {
   "cell_type": "markdown",
   "metadata": {},
   "source": [
    "We'll cross validate with Logistic Regression, Decision Trees, and RandomForest models with the class_weight parameter set to \"balanced.\"\n",
    "\n",
    "But first let's calculate those weights"
   ]
  },
  {
   "cell_type": "code",
   "execution_count": null,
   "metadata": {},
   "outputs": [],
   "source": [
    "#Class 0 weight\n",
    "(y.shape[0])/float((2*y.value_counts()[0]))"
   ]
  },
  {
   "cell_type": "code",
   "execution_count": null,
   "metadata": {},
   "outputs": [],
   "source": [
    "#Class 1 weight\n",
    "(y.shape[0])/float((2*y.value_counts()[1]))"
   ]
  },
  {
   "cell_type": "code",
   "execution_count": null,
   "metadata": {},
   "outputs": [],
   "source": [
    "y.value_counts()"
   ]
  },
  {
   "cell_type": "code",
   "execution_count": null,
   "metadata": {},
   "outputs": [],
   "source": [
    "#multiple class counts by weights\n",
    "64315*0.5038249242011972"
   ]
  },
  {
   "cell_type": "code",
   "execution_count": null,
   "metadata": {},
   "outputs": [],
   "source": [
    "\n",
    "65*492"
   ]
  },
  {
   "cell_type": "code",
   "execution_count": null,
   "metadata": {},
   "outputs": [],
   "source": [
    "#Logistic regression \n",
    "\n",
    "cross_val_score(LogisticRegression(class_weight=\"balanced\"), \n",
    "                X, y, cv = 5, scoring=\"accuracy\").mean()"
   ]
  },
  {
   "cell_type": "code",
   "execution_count": null,
   "metadata": {},
   "outputs": [],
   "source": [
    "#Decision Tree with max depth = 12\n",
    "\n",
    "cross_val_score(DecisionTreeClassifier(class_weight=\"balanced\", max_depth=14), \n",
    "                X, y, cv = 5, scoring=\"accuracy\").mean()"
   ]
  },
  {
   "cell_type": "code",
   "execution_count": null,
   "metadata": {},
   "outputs": [],
   "source": [
    "#Random Forest with n_estimators = 40\n",
    "\n",
    "cross_val_score(RandomForestClassifier(class_weight=\"balanced\", n_estimators=40), \n",
    "                X, y, cv = 5, scoring=\"accuracy\").mean()"
   ]
  },
  {
   "cell_type": "code",
   "execution_count": null,
   "metadata": {},
   "outputs": [],
   "source": []
  },
  {
   "cell_type": "markdown",
   "metadata": {},
   "source": [
    "# Resources\n",
    "\n",
    "MNIST:\n",
    "\n",
    "- https://github.com/grfiv/MNIST/blob/master/knn/knn.ipynb\n",
    "- https://github.com/monsta-hd/ml-mnist\n",
    "- https://www.youtube.com/watch?v=aZsZrkIgan0\n",
    "- http://joshmontague.com/posts/2016/mnist-scikit-learn/\n",
    "\n",
    "Multi-class:\n",
    "\n",
    "- https://gallery.cortanaintelligence.com/Competition/Tutorial-Competition-Iris-Multiclass-Classification-2\n",
    "-https://www.youtube.com/watch?v=6kzvrq-MIO0\n",
    "\n",
    "\n",
    "Imbalanced classes:\n",
    "\n",
    "- https://towardsdatascience.com/what-metrics-should-we-use-on-imbalanced-data-set-precision-recall-roc-e2e79252aeba\n",
    "- https://svds.com/learning-imbalanced-classes/\n",
    "- https://www.youtube.com/watch?v=X9MZtvvQDR4\n",
    "- https://elitedatascience.com/imbalanced-classes\n",
    "- https://machinelearningmastery.com/tactics-to-combat-imbalanced-classes-in-your-machine-learning-dataset/\n",
    "\n",
    "Grid Search and Pipelines\n",
    "\n",
    "- https://chrisalbon.com/machine-learning/cross_validation_parameter_tuning_grid_search.html\n",
    "- https://machinelearningmastery.com/how-to-tune-algorithm-parameters-with-scikit-learn/\n",
    "- https://www.youtube.com/watch?v=Gol_qOgRqfA\n",
    "- https://chrisalbon.com/machine-learning/pipelines_with_parameter_optimization.html\n",
    "- https://chrisalbon.com/machine-learning/hyperparameter_tuning_using_random_search.html\n",
    "- https://machinelearningmastery.com/automate-machine-learning-workflows-pipelines-python-scikit-learn/\n",
    "- https://www.civisanalytics.com/blog/workflows-in-python-using-pipeline-and-gridsearchcv-for-more-compact-and-comprehensive-code/"
   ]
  },
  {
   "cell_type": "code",
   "execution_count": null,
   "metadata": {},
   "outputs": [],
   "source": []
  },
  {
   "cell_type": "markdown",
   "metadata": {},
   "source": [
    "## Bonus: Gridsearch with Regression"
   ]
  },
  {
   "cell_type": "code",
   "execution_count": 439,
   "metadata": {},
   "outputs": [
    {
     "data": {
      "text/html": [
       "<div>\n",
       "<style scoped>\n",
       "    .dataframe tbody tr th:only-of-type {\n",
       "        vertical-align: middle;\n",
       "    }\n",
       "\n",
       "    .dataframe tbody tr th {\n",
       "        vertical-align: top;\n",
       "    }\n",
       "\n",
       "    .dataframe thead th {\n",
       "        text-align: right;\n",
       "    }\n",
       "</style>\n",
       "<table border=\"1\" class=\"dataframe\">\n",
       "  <thead>\n",
       "    <tr style=\"text-align: right;\">\n",
       "      <th></th>\n",
       "      <th>CRIM</th>\n",
       "      <th>ZN</th>\n",
       "      <th>INDUS</th>\n",
       "      <th>CHAS</th>\n",
       "      <th>NOX</th>\n",
       "      <th>RM</th>\n",
       "      <th>AGE</th>\n",
       "      <th>DIS</th>\n",
       "      <th>RAD</th>\n",
       "      <th>TAX</th>\n",
       "      <th>PTRATIO</th>\n",
       "      <th>B</th>\n",
       "      <th>LSTAT</th>\n",
       "      <th>MEDV</th>\n",
       "    </tr>\n",
       "  </thead>\n",
       "  <tbody>\n",
       "    <tr>\n",
       "      <th>0</th>\n",
       "      <td>0.00632</td>\n",
       "      <td>18.0</td>\n",
       "      <td>2.31</td>\n",
       "      <td>0.0</td>\n",
       "      <td>0.538</td>\n",
       "      <td>6.575</td>\n",
       "      <td>65.2</td>\n",
       "      <td>4.0900</td>\n",
       "      <td>1.0</td>\n",
       "      <td>296.0</td>\n",
       "      <td>15.3</td>\n",
       "      <td>396.90</td>\n",
       "      <td>4.98</td>\n",
       "      <td>24.0</td>\n",
       "    </tr>\n",
       "    <tr>\n",
       "      <th>1</th>\n",
       "      <td>0.02731</td>\n",
       "      <td>0.0</td>\n",
       "      <td>7.07</td>\n",
       "      <td>0.0</td>\n",
       "      <td>0.469</td>\n",
       "      <td>6.421</td>\n",
       "      <td>78.9</td>\n",
       "      <td>4.9671</td>\n",
       "      <td>2.0</td>\n",
       "      <td>242.0</td>\n",
       "      <td>17.8</td>\n",
       "      <td>396.90</td>\n",
       "      <td>9.14</td>\n",
       "      <td>21.6</td>\n",
       "    </tr>\n",
       "    <tr>\n",
       "      <th>2</th>\n",
       "      <td>0.02729</td>\n",
       "      <td>0.0</td>\n",
       "      <td>7.07</td>\n",
       "      <td>0.0</td>\n",
       "      <td>0.469</td>\n",
       "      <td>7.185</td>\n",
       "      <td>61.1</td>\n",
       "      <td>4.9671</td>\n",
       "      <td>2.0</td>\n",
       "      <td>242.0</td>\n",
       "      <td>17.8</td>\n",
       "      <td>392.83</td>\n",
       "      <td>4.03</td>\n",
       "      <td>34.7</td>\n",
       "    </tr>\n",
       "    <tr>\n",
       "      <th>3</th>\n",
       "      <td>0.03237</td>\n",
       "      <td>0.0</td>\n",
       "      <td>2.18</td>\n",
       "      <td>0.0</td>\n",
       "      <td>0.458</td>\n",
       "      <td>6.998</td>\n",
       "      <td>45.8</td>\n",
       "      <td>6.0622</td>\n",
       "      <td>3.0</td>\n",
       "      <td>222.0</td>\n",
       "      <td>18.7</td>\n",
       "      <td>394.63</td>\n",
       "      <td>2.94</td>\n",
       "      <td>33.4</td>\n",
       "    </tr>\n",
       "    <tr>\n",
       "      <th>4</th>\n",
       "      <td>0.06905</td>\n",
       "      <td>0.0</td>\n",
       "      <td>2.18</td>\n",
       "      <td>0.0</td>\n",
       "      <td>0.458</td>\n",
       "      <td>7.147</td>\n",
       "      <td>54.2</td>\n",
       "      <td>6.0622</td>\n",
       "      <td>3.0</td>\n",
       "      <td>222.0</td>\n",
       "      <td>18.7</td>\n",
       "      <td>396.90</td>\n",
       "      <td>5.33</td>\n",
       "      <td>36.2</td>\n",
       "    </tr>\n",
       "  </tbody>\n",
       "</table>\n",
       "</div>"
      ],
      "text/plain": [
       "      CRIM    ZN  INDUS  CHAS    NOX     RM   AGE     DIS  RAD    TAX  \\\n",
       "0  0.00632  18.0   2.31   0.0  0.538  6.575  65.2  4.0900  1.0  296.0   \n",
       "1  0.02731   0.0   7.07   0.0  0.469  6.421  78.9  4.9671  2.0  242.0   \n",
       "2  0.02729   0.0   7.07   0.0  0.469  7.185  61.1  4.9671  2.0  242.0   \n",
       "3  0.03237   0.0   2.18   0.0  0.458  6.998  45.8  6.0622  3.0  222.0   \n",
       "4  0.06905   0.0   2.18   0.0  0.458  7.147  54.2  6.0622  3.0  222.0   \n",
       "\n",
       "   PTRATIO       B  LSTAT  MEDV  \n",
       "0     15.3  396.90   4.98  24.0  \n",
       "1     17.8  396.90   9.14  21.6  \n",
       "2     17.8  392.83   4.03  34.7  \n",
       "3     18.7  394.63   2.94  33.4  \n",
       "4     18.7  396.90   5.33  36.2  "
      ]
     },
     "execution_count": 439,
     "metadata": {},
     "output_type": "execute_result"
    }
   ],
   "source": [
    "#Load in boston dataset\n",
    "from sklearn.datasets import load_boston\n",
    "from sklearn.preprocessing import PolynomialFeatures\n",
    "from sklearn.linear_model import LinearRegression, Lasso, Ridge\n",
    "boston = load_boston()\n",
    "df = pd.DataFrame(boston[\"data\"])\n",
    "df.columns = boston[\"feature_names\"]\n",
    "df[\"MEDV\"] = boston[\"target\"]\n",
    "df.head()"
   ]
  },
  {
   "cell_type": "code",
   "execution_count": 440,
   "metadata": {},
   "outputs": [],
   "source": [
    "#Assign X and y\n",
    "\n",
    "X = df.drop(\"MEDV\", axis =1)\n",
    "y = df.MEDV"
   ]
  },
  {
   "cell_type": "code",
   "execution_count": 441,
   "metadata": {},
   "outputs": [],
   "source": [
    "#Use a Pipeline Class instead of function to establish pipeline\n",
    "pipe_poly = Pipeline(steps=[('polynomialfeatures', PolynomialFeatures()),\n",
    "                           ('linearregression', LinearRegression())])                           "
   ]
  },
  {
   "cell_type": "code",
   "execution_count": 442,
   "metadata": {},
   "outputs": [],
   "source": [
    "#Select a few features from X\n",
    "XX = X[[\"RM\", \"DIS\", \"NOX\", \"CRIM\"]].copy()"
   ]
  },
  {
   "cell_type": "code",
   "execution_count": 443,
   "metadata": {},
   "outputs": [],
   "source": [
    "#Intialize range values for poly\n",
    "poly_range = [1, 2, 3, 4, 5, 6, 7]\n",
    "\n",
    "#Intialize grid dictionary\n",
    "param_grid_poly = {}\n",
    "\n",
    "#Input grid values\n",
    "param_grid_poly[\"polynomialfeatures__degree\"] = poly_range\n",
    "\n",
    "#Establish the grid\n",
    "poly_grid = GridSearchCV(pipe_poly, \n",
    "                         param_grid = param_grid_poly, cv=5, \n",
    "                         scoring='neg_mean_squared_error')"
   ]
  },
  {
   "cell_type": "code",
   "execution_count": 444,
   "metadata": {},
   "outputs": [
    {
     "data": {
      "text/plain": [
       "GridSearchCV(cv=5, error_score='raise',\n",
       "       estimator=Pipeline(memory=None,\n",
       "     steps=[('polynomialfeatures', PolynomialFeatures(degree=2, include_bias=True, interaction_only=False)), ('linearregression', LinearRegression(copy_X=True, fit_intercept=True, n_jobs=1, normalize=False))]),\n",
       "       fit_params={}, iid=True, n_jobs=1,\n",
       "       param_grid={'polynomialfeatures__degree': [1, 2, 3, 4, 5, 6, 7]},\n",
       "       pre_dispatch='2*n_jobs', refit=True,\n",
       "       scoring='neg_mean_squared_error', verbose=0)"
      ]
     },
     "execution_count": 444,
     "metadata": {},
     "output_type": "execute_result"
    }
   ],
   "source": [
    "poly_grid.fit(XX, y)"
   ]
  },
  {
   "cell_type": "code",
   "execution_count": 445,
   "metadata": {},
   "outputs": [
    {
     "data": {
      "text/plain": [
       "RandomizedSearchCV(cv=5, error_score='raise',\n",
       "          estimator=Pipeline(memory=None,\n",
       "     steps=[('polynomialfeatures', PolynomialFeatures(degree=2, include_bias=True, interaction_only=False)), ('ridgeregression', Ridge(alpha=1.0, copy_X=True, fit_intercept=True, max_iter=None,\n",
       "   normalize=False, random_state=None, solver='auto', tol=0.001))]),\n",
       "          fit_params={}, iid=True, n_iter=5, n_jobs=1,\n",
       "          param_distributions={'polynomialfeatures__degree': [1, 2, 3, 4, 5], 'ridgeregression__alpha': [0.001, 0.01, 0.1, 1, 10, 100]},\n",
       "          pre_dispatch='2*n_jobs', random_state=None, refit=True,\n",
       "          scoring='neg_mean_squared_error', verbose=0)"
      ]
     },
     "execution_count": 445,
     "metadata": {},
     "output_type": "execute_result"
    }
   ],
   "source": [
    "pipe_poly = Pipeline(steps=[('polynomialfeatures', PolynomialFeatures()),\n",
    "                            ('ridgeregression', Ridge())]) \n",
    "\n",
    "param_grid_ridge = {'polynomialfeatures__degree': [1, 2, 3, 4, 5],\n",
    "              'ridgeregression__alpha': [0.001, 0.01, 0.1, 1, 10, 100]}\n",
    "\n",
    "grid_ridge = RandomizedSearchCV(pipe_poly, param_distributions=param_grid_ridge, \n",
    "                                n_iter = 5 , cv = 5, scoring='neg_mean_squared_error')\n",
    "grid_ridge.fit(XX, y)"
   ]
  },
  {
   "cell_type": "code",
   "execution_count": 446,
   "metadata": {},
   "outputs": [
    {
     "name": "stdout",
     "output_type": "stream",
     "text": [
      "{'ridgeregression__alpha': 0.01, 'polynomialfeatures__degree': 2} -41.51075524490348\n"
     ]
    }
   ],
   "source": [
    "\n",
    "print (grid_ridge.best_params_, grid_ridge.best_score_)"
   ]
  },
  {
   "cell_type": "code",
   "execution_count": null,
   "metadata": {},
   "outputs": [],
   "source": []
  },
  {
   "cell_type": "code",
   "execution_count": null,
   "metadata": {},
   "outputs": [],
   "source": []
  }
 ],
 "metadata": {
  "kernelspec": {
   "display_name": "Python 3",
   "language": "python",
   "name": "python3"
  },
  "language_info": {
   "codemirror_mode": {
    "name": "ipython",
    "version": 3
   },
   "file_extension": ".py",
   "mimetype": "text/x-python",
   "name": "python",
   "nbconvert_exporter": "python",
   "pygments_lexer": "ipython3",
   "version": "3.6.4"
  }
 },
 "nbformat": 4,
 "nbformat_minor": 2
}
