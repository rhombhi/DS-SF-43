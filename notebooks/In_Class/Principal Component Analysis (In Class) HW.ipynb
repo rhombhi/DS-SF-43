{
 "cells": [
  {
   "cell_type": "markdown",
   "metadata": {},
   "source": [
    "# Unsupervised Learning with Principal Component Analysis"
   ]
  },
  {
   "cell_type": "markdown",
   "metadata": {},
   "source": [
    "**Goals:** \n",
    "\n",
    "- What is PCA (Principal Component Analysis)? How it works and how to use it.\n",
    "- Visualize and interpret PCA-transformed data\n",
    "- Work with PCA-transformed data for classification and clustering purposes\n"
   ]
  },
  {
   "cell_type": "code",
   "execution_count": null,
   "metadata": {},
   "outputs": [],
   "source": []
  },
  {
   "cell_type": "code",
   "execution_count": null,
   "metadata": {},
   "outputs": [],
   "source": []
  },
  {
   "cell_type": "code",
   "execution_count": null,
   "metadata": {},
   "outputs": [],
   "source": []
  },
  {
   "cell_type": "code",
   "execution_count": null,
   "metadata": {},
   "outputs": [],
   "source": []
  },
  {
   "cell_type": "markdown",
   "metadata": {},
   "source": [
    "## Image 1"
   ]
  },
  {
   "cell_type": "markdown",
   "metadata": {},
   "source": [
    "![a](images/pca_image.jpeg)"
   ]
  },
  {
   "cell_type": "code",
   "execution_count": null,
   "metadata": {},
   "outputs": [],
   "source": []
  },
  {
   "cell_type": "code",
   "execution_count": null,
   "metadata": {},
   "outputs": [],
   "source": []
  },
  {
   "cell_type": "markdown",
   "metadata": {},
   "source": [
    "## Image 2"
   ]
  },
  {
   "cell_type": "markdown",
   "metadata": {},
   "source": [
    "![we](images/pca_image_transformed.jpeg)"
   ]
  },
  {
   "cell_type": "code",
   "execution_count": null,
   "metadata": {},
   "outputs": [],
   "source": []
  },
  {
   "cell_type": "code",
   "execution_count": null,
   "metadata": {},
   "outputs": [],
   "source": []
  },
  {
   "cell_type": "code",
   "execution_count": null,
   "metadata": {},
   "outputs": [],
   "source": []
  },
  {
   "cell_type": "markdown",
   "metadata": {},
   "source": [
    "**What is the difference between the two images???**"
   ]
  },
  {
   "cell_type": "code",
   "execution_count": null,
   "metadata": {},
   "outputs": [],
   "source": []
  },
  {
   "cell_type": "code",
   "execution_count": null,
   "metadata": {},
   "outputs": [],
   "source": []
  },
  {
   "cell_type": "code",
   "execution_count": null,
   "metadata": {},
   "outputs": [],
   "source": []
  },
  {
   "cell_type": "code",
   "execution_count": null,
   "metadata": {},
   "outputs": [],
   "source": []
  },
  {
   "cell_type": "code",
   "execution_count": null,
   "metadata": {},
   "outputs": [],
   "source": []
  },
  {
   "cell_type": "code",
   "execution_count": null,
   "metadata": {},
   "outputs": [],
   "source": []
  },
  {
   "cell_type": "markdown",
   "metadata": {},
   "source": [
    "**Answer:** The first image is the high-quality version and the second is the low quality. The first is 16MB and the second 1.2MB\n",
    "\n",
    "<br>\n",
    "\n",
    "Given that information, is it fair to say that these two images are effectively the same?"
   ]
  },
  {
   "cell_type": "code",
   "execution_count": null,
   "metadata": {},
   "outputs": [],
   "source": []
  },
  {
   "cell_type": "code",
   "execution_count": null,
   "metadata": {},
   "outputs": [],
   "source": []
  },
  {
   "cell_type": "code",
   "execution_count": null,
   "metadata": {},
   "outputs": [],
   "source": []
  },
  {
   "cell_type": "code",
   "execution_count": null,
   "metadata": {},
   "outputs": [],
   "source": []
  },
  {
   "cell_type": "markdown",
   "metadata": {},
   "source": [
    "## PCA (Principal Component Analysis)\n",
    "--- \n",
    "\n",
    "* Dimension Reductionality technique that when faced with a large set of correlated variables, allow us to summarize this set with a smaller number of representative variables that **collectively** explain most of the variability in the original set.\n",
    "* The quintessential \"dimensionality reduction\" algorithm, where _\"dimensionality reduction\"_ = process of combining or collapsing your existing features (columns in $X$) into new features that retain the signal in the original data in fewer variables while ideally reducing noise.\n",
    "* **PCA** is an unsupervised approach, since it involves only a set of features $X_1$, $X_2$, . . . , $X_p$, and no associated response $Y$ \n",
    "* **PCA** produces derived variables to use in supervised methods and is also a tool for data visualization. Imagine being able to visualize a 100-dimension dataset on a 2D scatter plot.\n",
    "\n",
    "- Like the two images above the PCA can transform data with 100 dimensions into 2 while retaining the \"essence\" of the original data. \n",
    "\n"
   ]
  },
  {
   "cell_type": "markdown",
   "metadata": {},
   "source": [
    "From [Sebastian Raschka](http://sebastianraschka.com/Articles/2015_pca_in_3_steps.html#introduction):\n",
    "\n",
    "\"The sheer size of data in the modern age is not only a challenge for computer hardware but also a main bottleneck for the performance of many machine learning algorithms. The main goal of a PCA analysis is to identify patterns in data; PCA aims to detect the correlation between variables. If a strong correlation between variables exists, the attempt to reduce the dimensionality only makes sense. In a nutshell, this is what PCA is all about: Finding the directions of maximum variance in high-dimensional data and project it onto a smaller dimensional subspace while retaining most of the information.\""
   ]
  },
  {
   "cell_type": "code",
   "execution_count": null,
   "metadata": {},
   "outputs": [],
   "source": []
  },
  {
   "cell_type": "code",
   "execution_count": null,
   "metadata": {},
   "outputs": [],
   "source": []
  },
  {
   "cell_type": "code",
   "execution_count": null,
   "metadata": {},
   "outputs": [],
   "source": []
  },
  {
   "cell_type": "code",
   "execution_count": null,
   "metadata": {},
   "outputs": [],
   "source": []
  },
  {
   "cell_type": "markdown",
   "metadata": {},
   "source": [
    "* The idea is that each of the $n$ observations lives in $p$-dimensional space, but not all of these dimensions are equally interesting.\n",
    "* Each of the dimensions found by **PCA** is a linear combination of the $p$ features, so the first principal component of a set of features $X_1$, $X_2$, . . . , $X_p$ is the **normalized** linear combination of the features:\n",
    "$$Z_1 = φ_{11}X_1 +φ_{21}X_2 +...+φ_{p1}X_p$$\n",
    "that have the **largest variance**  \n",
    "The elements $φ_{11}$,...,$φ_{p1}$ are the loadings of the **first** PCA, **AND** together these loadings make up the principal component loading vector whose **SUM** is equal to **1**: $$φ_1 = (φ_{11}  φ_{21} ... φ_{p1})^T$$"
   ]
  },
  {
   "cell_type": "code",
   "execution_count": null,
   "metadata": {},
   "outputs": [],
   "source": []
  },
  {
   "cell_type": "markdown",
   "metadata": {},
   "source": [
    "### The process\n",
    "---\n",
    "* Linearly transform an $𝑁$×$𝑑$ matrix $𝑋$ into an $𝑁$×$𝑚$ matrix $𝑌$\n",
    "    * Centralized the data (subtract the mean). \n",
    "    * Calculate the $𝑑$×$𝑑$ covariance matrix: $$𝐶 = \\frac1{N-1} X^T X$$\n",
    "        * $C_{ij}$ =  $\\frac1{N-1}$ $\\sum_{q=1}^N$ $X_{q,i}$ $X_{q,i}$ \n",
    "        * $C_{i,i}$ (diagonal) is the variance of variable $i$\n",
    "        * $C_{i,j}$ (off-diagonal) is the covariance between variables $i$ and $j$\n",
    "    * Calculate the **eigenvectors** of the covariance matrix\n",
    "         * An **eigenvector** specifies a direction through the original coordinate space. \n",
    "    * Select $m$ **eigenvectors** that correspond to the **largest $m$ eigenvalues** to be the new basis.\n",
    "         * The eigenvector with the highest correspoding **eigenvalue** is the first principal component.\n",
    "         * **Eigenvalues** indicate the amount of variance in the direction of it's corresponding eigenvector"
   ]
  },
  {
   "cell_type": "markdown",
   "metadata": {},
   "source": [
    "### Eigenvectors\n",
    "---\n",
    "* If $A$ is a **square matrix**, a non-zero vector **$v$** is an **eigenvector** of $A$ if there is a scalar $λ$ **(eigenvalue)** such that $$Av = λv$$\n",
    "\n",
    "* For example:\n",
    "$$ Av = \n",
    "\\left(\\begin{array}{cc} \n",
    "2 & 3\\\\\n",
    "2 & 1\n",
    "\\end{array}\\right) *\n",
    "\\left(\\begin{array}{cc} \n",
    "3 \\\\ \n",
    "2 \n",
    "\\end{array}\\right) = \n",
    "\\left(\\begin{array}{cc} \n",
    "12 \\\\\n",
    "8\n",
    "\\end{array}\\right) = \n",
    "4\n",
    "\\left(\\begin{array}{cc} \n",
    "3 \\\\\n",
    "2\n",
    "\\end{array}\\right)\n",
    "= λv\n",
    "$$ \n",
    "$~$\n",
    "* If you think of the squared matrix $A$ as a transformation matrix, then multiply it with the **eigenvector do not change its direction.**\n",
    "\n",
    "<a href = http://setosa.io/ev/eigenvectors-and-eigenvalues/> Please see Eigenvectors and Eigenvalues Visually </a>"
   ]
  },
  {
   "cell_type": "code",
   "execution_count": null,
   "metadata": {},
   "outputs": [],
   "source": []
  },
  {
   "cell_type": "markdown",
   "metadata": {},
   "source": [
    "### Visualizing the principal components\n",
    "---\n",
    "\n",
    "![](https://snag.gy/ECsJye.jpg)\n",
    "*Image from Introduction to Statistical Learning*"
   ]
  },
  {
   "cell_type": "code",
   "execution_count": null,
   "metadata": {},
   "outputs": [],
   "source": []
  },
  {
   "cell_type": "code",
   "execution_count": null,
   "metadata": {},
   "outputs": [],
   "source": []
  },
  {
   "cell_type": "code",
   "execution_count": null,
   "metadata": {},
   "outputs": [],
   "source": []
  },
  {
   "cell_type": "code",
   "execution_count": null,
   "metadata": {},
   "outputs": [],
   "source": []
  },
  {
   "cell_type": "code",
   "execution_count": null,
   "metadata": {},
   "outputs": [],
   "source": []
  },
  {
   "cell_type": "code",
   "execution_count": null,
   "metadata": {},
   "outputs": [],
   "source": []
  },
  {
   "cell_type": "code",
   "execution_count": null,
   "metadata": {},
   "outputs": [],
   "source": []
  },
  {
   "cell_type": "code",
   "execution_count": null,
   "metadata": {},
   "outputs": [],
   "source": []
  },
  {
   "cell_type": "markdown",
   "metadata": {},
   "source": [
    "### Summary\n",
    "---\n",
    "\n",
    "* What is a principal component? **Principal components are the vectors that define the new coordinate system for your data.** Transforming your original data columns onto the principal component axes constructs new variables that are optimized to explain as much variance as possible and to be independent (uncorrelated).\n",
    "\n",
    "* Creating these variables is a well-defined mathematical process, but in essence **each component is created as a weighted sum of your original columns, such that all components are orthogonal (perpendicular) to each other**.\n",
    "\n",
    "* Eigenvectors: The direction of the components\n",
    "\n",
    "* Eigenvalues: The lenght of the Eigenvectors, every eigenvector has an Eigenvalue. The magnitude of the Eigenvector encodes the proportion of total variance explained by a component. The whole variance is the same as the number of variables in the PCA. A value of 1 mean it explains as much variance as one variable. >1 means a component explains more variance than a single variable.\n",
    "\n",
    "* We can reduce the number of dimensions (remove bottom number of components) and lose the least possible amount of variance information in our data.\n",
    "* Since we are assuming our variables are interrelated (at least in the sense that they together explain a dependent variable), the information of interest should exist along directions with largest variance.\n",
    "* The directions of largest variance should have the highest Signal to Noise ratio.\n",
    "* Correlated predictor variables (also referred to as \"redundancy\" of information) are combined into independent variables. Our predictors from PCA are guaranteed to be independent.\n",
    "---\n",
    "![](https://snag.gy/0Hur9o.jpg)\n",
    "*Image from http://setosa.io/ev/principal-component-analysis/*"
   ]
  },
  {
   "cell_type": "code",
   "execution_count": null,
   "metadata": {},
   "outputs": [],
   "source": []
  },
  {
   "cell_type": "code",
   "execution_count": null,
   "metadata": {},
   "outputs": [],
   "source": []
  },
  {
   "cell_type": "markdown",
   "metadata": {},
   "source": [
    "## PCA Lesson Adapted from Sebastian Raschka"
   ]
  },
  {
   "cell_type": "code",
   "execution_count": 210,
   "metadata": {},
   "outputs": [],
   "source": [
    "#Imports\n",
    "import pandas as pd\n",
    "import numpy as np\n",
    "import matplotlib.pyplot as plt\n",
    "%matplotlib inline\n",
    "import seaborn as sns\n",
    "\n",
    "from sklearn.decomposition import PCA\n",
    "from sklearn.metrics import accuracy_score, confusion_matrix, recall_score, precision_score\n",
    "from sklearn.preprocessing import StandardScaler\n",
    "from sklearn.model_selection import cross_val_score, train_test_split\n",
    "from sklearn.datasets import load_digits\n",
    "\n",
    "from sklearn.cluster import KMeans\n",
    "from sklearn.linear_model import LogisticRegression\n",
    "\n",
    "plt.style.use('fivethirtyeight')"
   ]
  },
  {
   "cell_type": "markdown",
   "metadata": {},
   "source": [
    "We're going to do a walkthrough on this lesson adapted from [Sebastian Raschka](http://sebastianraschka.com/Articles/2015_pca_in_3_steps.html#introduction) on how to use PCA with the Iris dataset."
   ]
  },
  {
   "cell_type": "markdown",
   "metadata": {},
   "source": [
    "### 1. Standardize the data"
   ]
  },
  {
   "cell_type": "code",
   "execution_count": 2,
   "metadata": {},
   "outputs": [
    {
     "data": {
      "text/html": [
       "<div>\n",
       "<style scoped>\n",
       "    .dataframe tbody tr th:only-of-type {\n",
       "        vertical-align: middle;\n",
       "    }\n",
       "\n",
       "    .dataframe tbody tr th {\n",
       "        vertical-align: top;\n",
       "    }\n",
       "\n",
       "    .dataframe thead th {\n",
       "        text-align: right;\n",
       "    }\n",
       "</style>\n",
       "<table border=\"1\" class=\"dataframe\">\n",
       "  <thead>\n",
       "    <tr style=\"text-align: right;\">\n",
       "      <th></th>\n",
       "      <th>sepal_length</th>\n",
       "      <th>sepal_width</th>\n",
       "      <th>petal_length</th>\n",
       "      <th>petal_width</th>\n",
       "      <th>species</th>\n",
       "    </tr>\n",
       "  </thead>\n",
       "  <tbody>\n",
       "    <tr>\n",
       "      <th>0</th>\n",
       "      <td>5.1</td>\n",
       "      <td>3.5</td>\n",
       "      <td>1.4</td>\n",
       "      <td>0.2</td>\n",
       "      <td>Iris-setosa</td>\n",
       "    </tr>\n",
       "    <tr>\n",
       "      <th>1</th>\n",
       "      <td>4.9</td>\n",
       "      <td>3.0</td>\n",
       "      <td>1.4</td>\n",
       "      <td>0.2</td>\n",
       "      <td>Iris-setosa</td>\n",
       "    </tr>\n",
       "    <tr>\n",
       "      <th>2</th>\n",
       "      <td>4.7</td>\n",
       "      <td>3.2</td>\n",
       "      <td>1.3</td>\n",
       "      <td>0.2</td>\n",
       "      <td>Iris-setosa</td>\n",
       "    </tr>\n",
       "    <tr>\n",
       "      <th>3</th>\n",
       "      <td>4.6</td>\n",
       "      <td>3.1</td>\n",
       "      <td>1.5</td>\n",
       "      <td>0.2</td>\n",
       "      <td>Iris-setosa</td>\n",
       "    </tr>\n",
       "    <tr>\n",
       "      <th>4</th>\n",
       "      <td>5.0</td>\n",
       "      <td>3.6</td>\n",
       "      <td>1.4</td>\n",
       "      <td>0.2</td>\n",
       "      <td>Iris-setosa</td>\n",
       "    </tr>\n",
       "  </tbody>\n",
       "</table>\n",
       "</div>"
      ],
      "text/plain": [
       "   sepal_length  sepal_width  petal_length  petal_width      species\n",
       "0           5.1          3.5           1.4          0.2  Iris-setosa\n",
       "1           4.9          3.0           1.4          0.2  Iris-setosa\n",
       "2           4.7          3.2           1.3          0.2  Iris-setosa\n",
       "3           4.6          3.1           1.5          0.2  Iris-setosa\n",
       "4           5.0          3.6           1.4          0.2  Iris-setosa"
      ]
     },
     "execution_count": 2,
     "metadata": {},
     "output_type": "execute_result"
    }
   ],
   "source": [
    "#Load data and assign X and y\n",
    "\n",
    "path = \"../../data/iris.csv\"\n",
    "\n",
    "iris = pd.read_csv(path)\n",
    "\n",
    "iris.head()\n"
   ]
  },
  {
   "cell_type": "code",
   "execution_count": 3,
   "metadata": {},
   "outputs": [],
   "source": [
    "X = iris.drop('species', axis=1)\n",
    "y = iris.species"
   ]
  },
  {
   "cell_type": "code",
   "execution_count": 4,
   "metadata": {},
   "outputs": [],
   "source": [
    "#Standardize the data\n",
    "\n",
    "ss = StandardScaler()\n",
    "\n",
    "Xs = ss.fit_transform(X)\n"
   ]
  },
  {
   "cell_type": "code",
   "execution_count": 5,
   "metadata": {},
   "outputs": [
    {
     "data": {
      "text/plain": [
       "array([[-9.00681170e-01,  1.03205722e+00, -1.34127240e+00,\n",
       "        -1.31297673e+00],\n",
       "       [-1.14301691e+00, -1.24957601e-01, -1.34127240e+00,\n",
       "        -1.31297673e+00],\n",
       "       [-1.38535265e+00,  3.37848329e-01, -1.39813811e+00,\n",
       "        -1.31297673e+00],\n",
       "       [-1.50652052e+00,  1.06445364e-01, -1.28440670e+00,\n",
       "        -1.31297673e+00],\n",
       "       [-1.02184904e+00,  1.26346019e+00, -1.34127240e+00,\n",
       "        -1.31297673e+00],\n",
       "       [-5.37177559e-01,  1.95766909e+00, -1.17067529e+00,\n",
       "        -1.05003079e+00],\n",
       "       [-1.50652052e+00,  8.00654259e-01, -1.34127240e+00,\n",
       "        -1.18150376e+00],\n",
       "       [-1.02184904e+00,  8.00654259e-01, -1.28440670e+00,\n",
       "        -1.31297673e+00],\n",
       "       [-1.74885626e+00, -3.56360566e-01, -1.34127240e+00,\n",
       "        -1.31297673e+00],\n",
       "       [-1.14301691e+00,  1.06445364e-01, -1.28440670e+00,\n",
       "        -1.44444970e+00],\n",
       "       [-5.37177559e-01,  1.49486315e+00, -1.28440670e+00,\n",
       "        -1.31297673e+00],\n",
       "       [-1.26418478e+00,  8.00654259e-01, -1.22754100e+00,\n",
       "        -1.31297673e+00],\n",
       "       [-1.26418478e+00, -1.24957601e-01, -1.34127240e+00,\n",
       "        -1.44444970e+00],\n",
       "       [-1.87002413e+00, -1.24957601e-01, -1.51186952e+00,\n",
       "        -1.44444970e+00],\n",
       "       [-5.25060772e-02,  2.18907205e+00, -1.45500381e+00,\n",
       "        -1.31297673e+00],\n",
       "       [-1.73673948e-01,  3.11468391e+00, -1.28440670e+00,\n",
       "        -1.05003079e+00],\n",
       "       [-5.37177559e-01,  1.95766909e+00, -1.39813811e+00,\n",
       "        -1.05003079e+00],\n",
       "       [-9.00681170e-01,  1.03205722e+00, -1.34127240e+00,\n",
       "        -1.18150376e+00],\n",
       "       [-1.73673948e-01,  1.72626612e+00, -1.17067529e+00,\n",
       "        -1.18150376e+00],\n",
       "       [-9.00681170e-01,  1.72626612e+00, -1.28440670e+00,\n",
       "        -1.18150376e+00],\n",
       "       [-5.37177559e-01,  8.00654259e-01, -1.17067529e+00,\n",
       "        -1.31297673e+00],\n",
       "       [-9.00681170e-01,  1.49486315e+00, -1.28440670e+00,\n",
       "        -1.05003079e+00],\n",
       "       [-1.50652052e+00,  1.26346019e+00, -1.56873522e+00,\n",
       "        -1.31297673e+00],\n",
       "       [-9.00681170e-01,  5.69251294e-01, -1.17067529e+00,\n",
       "        -9.18557817e-01],\n",
       "       [-1.26418478e+00,  8.00654259e-01, -1.05694388e+00,\n",
       "        -1.31297673e+00],\n",
       "       [-1.02184904e+00, -1.24957601e-01, -1.22754100e+00,\n",
       "        -1.31297673e+00],\n",
       "       [-1.02184904e+00,  8.00654259e-01, -1.22754100e+00,\n",
       "        -1.05003079e+00],\n",
       "       [-7.79513300e-01,  1.03205722e+00, -1.28440670e+00,\n",
       "        -1.31297673e+00],\n",
       "       [-7.79513300e-01,  8.00654259e-01, -1.34127240e+00,\n",
       "        -1.31297673e+00],\n",
       "       [-1.38535265e+00,  3.37848329e-01, -1.22754100e+00,\n",
       "        -1.31297673e+00],\n",
       "       [-1.26418478e+00,  1.06445364e-01, -1.22754100e+00,\n",
       "        -1.31297673e+00],\n",
       "       [-5.37177559e-01,  8.00654259e-01, -1.28440670e+00,\n",
       "        -1.05003079e+00],\n",
       "       [-7.79513300e-01,  2.42047502e+00, -1.28440670e+00,\n",
       "        -1.44444970e+00],\n",
       "       [-4.16009689e-01,  2.65187798e+00, -1.34127240e+00,\n",
       "        -1.31297673e+00],\n",
       "       [-1.14301691e+00,  1.06445364e-01, -1.28440670e+00,\n",
       "        -1.44444970e+00],\n",
       "       [-1.02184904e+00,  3.37848329e-01, -1.45500381e+00,\n",
       "        -1.31297673e+00],\n",
       "       [-4.16009689e-01,  1.03205722e+00, -1.39813811e+00,\n",
       "        -1.31297673e+00],\n",
       "       [-1.14301691e+00,  1.06445364e-01, -1.28440670e+00,\n",
       "        -1.44444970e+00],\n",
       "       [-1.74885626e+00, -1.24957601e-01, -1.39813811e+00,\n",
       "        -1.31297673e+00],\n",
       "       [-9.00681170e-01,  8.00654259e-01, -1.28440670e+00,\n",
       "        -1.31297673e+00],\n",
       "       [-1.02184904e+00,  1.03205722e+00, -1.39813811e+00,\n",
       "        -1.18150376e+00],\n",
       "       [-1.62768839e+00, -1.74477836e+00, -1.39813811e+00,\n",
       "        -1.18150376e+00],\n",
       "       [-1.74885626e+00,  3.37848329e-01, -1.39813811e+00,\n",
       "        -1.31297673e+00],\n",
       "       [-1.02184904e+00,  1.03205722e+00, -1.22754100e+00,\n",
       "        -7.87084847e-01],\n",
       "       [-9.00681170e-01,  1.72626612e+00, -1.05694388e+00,\n",
       "        -1.05003079e+00],\n",
       "       [-1.26418478e+00, -1.24957601e-01, -1.34127240e+00,\n",
       "        -1.18150376e+00],\n",
       "       [-9.00681170e-01,  1.72626612e+00, -1.22754100e+00,\n",
       "        -1.31297673e+00],\n",
       "       [-1.50652052e+00,  3.37848329e-01, -1.34127240e+00,\n",
       "        -1.31297673e+00],\n",
       "       [-6.58345429e-01,  1.49486315e+00, -1.28440670e+00,\n",
       "        -1.31297673e+00],\n",
       "       [-1.02184904e+00,  5.69251294e-01, -1.34127240e+00,\n",
       "        -1.31297673e+00],\n",
       "       [ 1.40150837e+00,  3.37848329e-01,  5.35295827e-01,\n",
       "         2.64698913e-01],\n",
       "       [ 6.74501145e-01,  3.37848329e-01,  4.21564419e-01,\n",
       "         3.96171883e-01],\n",
       "       [ 1.28034050e+00,  1.06445364e-01,  6.49027235e-01,\n",
       "         3.96171883e-01],\n",
       "       [-4.16009689e-01, -1.74477836e+00,  1.37235899e-01,\n",
       "         1.33225943e-01],\n",
       "       [ 7.95669016e-01, -5.87763531e-01,  4.78430123e-01,\n",
       "         3.96171883e-01],\n",
       "       [-1.73673948e-01, -5.87763531e-01,  4.21564419e-01,\n",
       "         1.33225943e-01],\n",
       "       [ 5.53333275e-01,  5.69251294e-01,  5.35295827e-01,\n",
       "         5.27644853e-01],\n",
       "       [-1.14301691e+00, -1.51337539e+00, -2.60824029e-01,\n",
       "        -2.61192967e-01],\n",
       "       [ 9.16836886e-01, -3.56360566e-01,  4.78430123e-01,\n",
       "         1.33225943e-01],\n",
       "       [-7.79513300e-01, -8.19166497e-01,  8.03701950e-02,\n",
       "         2.64698913e-01],\n",
       "       [-1.02184904e+00, -2.43898725e+00, -1.47092621e-01,\n",
       "        -2.61192967e-01],\n",
       "       [ 6.86617933e-02, -1.24957601e-01,  2.50967307e-01,\n",
       "         3.96171883e-01],\n",
       "       [ 1.89829664e-01, -1.97618132e+00,  1.37235899e-01,\n",
       "        -2.61192967e-01],\n",
       "       [ 3.10997534e-01, -3.56360566e-01,  5.35295827e-01,\n",
       "         2.64698913e-01],\n",
       "       [-2.94841818e-01, -3.56360566e-01, -9.02269170e-02,\n",
       "         1.33225943e-01],\n",
       "       [ 1.03800476e+00,  1.06445364e-01,  3.64698715e-01,\n",
       "         2.64698913e-01],\n",
       "       [-2.94841818e-01, -1.24957601e-01,  4.21564419e-01,\n",
       "         3.96171883e-01],\n",
       "       [-5.25060772e-02, -8.19166497e-01,  1.94101603e-01,\n",
       "        -2.61192967e-01],\n",
       "       [ 4.32165405e-01, -1.97618132e+00,  4.21564419e-01,\n",
       "         3.96171883e-01],\n",
       "       [-2.94841818e-01, -1.28197243e+00,  8.03701950e-02,\n",
       "        -1.29719997e-01],\n",
       "       [ 6.86617933e-02,  3.37848329e-01,  5.92161531e-01,\n",
       "         7.90590793e-01],\n",
       "       [ 3.10997534e-01, -5.87763531e-01,  1.37235899e-01,\n",
       "         1.33225943e-01],\n",
       "       [ 5.53333275e-01, -1.28197243e+00,  6.49027235e-01,\n",
       "         3.96171883e-01],\n",
       "       [ 3.10997534e-01, -5.87763531e-01,  5.35295827e-01,\n",
       "         1.75297293e-03],\n",
       "       [ 6.74501145e-01, -3.56360566e-01,  3.07833011e-01,\n",
       "         1.33225943e-01],\n",
       "       [ 9.16836886e-01, -1.24957601e-01,  3.64698715e-01,\n",
       "         2.64698913e-01],\n",
       "       [ 1.15917263e+00, -5.87763531e-01,  5.92161531e-01,\n",
       "         2.64698913e-01],\n",
       "       [ 1.03800476e+00, -1.24957601e-01,  7.05892939e-01,\n",
       "         6.59117823e-01],\n",
       "       [ 1.89829664e-01, -3.56360566e-01,  4.21564419e-01,\n",
       "         3.96171883e-01],\n",
       "       [-1.73673948e-01, -1.05056946e+00, -1.47092621e-01,\n",
       "        -2.61192967e-01],\n",
       "       [-4.16009689e-01, -1.51337539e+00,  2.35044910e-02,\n",
       "        -1.29719997e-01],\n",
       "       [-4.16009689e-01, -1.51337539e+00, -3.33612130e-02,\n",
       "        -2.61192967e-01],\n",
       "       [-5.25060772e-02, -8.19166497e-01,  8.03701950e-02,\n",
       "         1.75297293e-03],\n",
       "       [ 1.89829664e-01, -8.19166497e-01,  7.62758643e-01,\n",
       "         5.27644853e-01],\n",
       "       [-5.37177559e-01, -1.24957601e-01,  4.21564419e-01,\n",
       "         3.96171883e-01],\n",
       "       [ 1.89829664e-01,  8.00654259e-01,  4.21564419e-01,\n",
       "         5.27644853e-01],\n",
       "       [ 1.03800476e+00,  1.06445364e-01,  5.35295827e-01,\n",
       "         3.96171883e-01],\n",
       "       [ 5.53333275e-01, -1.74477836e+00,  3.64698715e-01,\n",
       "         1.33225943e-01],\n",
       "       [-2.94841818e-01, -1.24957601e-01,  1.94101603e-01,\n",
       "         1.33225943e-01],\n",
       "       [-4.16009689e-01, -1.28197243e+00,  1.37235899e-01,\n",
       "         1.33225943e-01],\n",
       "       [-4.16009689e-01, -1.05056946e+00,  3.64698715e-01,\n",
       "         1.75297293e-03],\n",
       "       [ 3.10997534e-01, -1.24957601e-01,  4.78430123e-01,\n",
       "         2.64698913e-01],\n",
       "       [-5.25060772e-02, -1.05056946e+00,  1.37235899e-01,\n",
       "         1.75297293e-03],\n",
       "       [-1.02184904e+00, -1.74477836e+00, -2.60824029e-01,\n",
       "        -2.61192967e-01],\n",
       "       [-2.94841818e-01, -8.19166497e-01,  2.50967307e-01,\n",
       "         1.33225943e-01],\n",
       "       [-1.73673948e-01, -1.24957601e-01,  2.50967307e-01,\n",
       "         1.75297293e-03],\n",
       "       [-1.73673948e-01, -3.56360566e-01,  2.50967307e-01,\n",
       "         1.33225943e-01],\n",
       "       [ 4.32165405e-01, -3.56360566e-01,  3.07833011e-01,\n",
       "         1.33225943e-01],\n",
       "       [-9.00681170e-01, -1.28197243e+00, -4.31421141e-01,\n",
       "        -1.29719997e-01],\n",
       "       [-1.73673948e-01, -5.87763531e-01,  1.94101603e-01,\n",
       "         1.33225943e-01],\n",
       "       [ 5.53333275e-01,  5.69251294e-01,  1.27454998e+00,\n",
       "         1.71090158e+00],\n",
       "       [-5.25060772e-02, -8.19166497e-01,  7.62758643e-01,\n",
       "         9.22063763e-01],\n",
       "       [ 1.52267624e+00, -1.24957601e-01,  1.21768427e+00,\n",
       "         1.18500970e+00],\n",
       "       [ 5.53333275e-01, -3.56360566e-01,  1.04708716e+00,\n",
       "         7.90590793e-01],\n",
       "       [ 7.95669016e-01, -1.24957601e-01,  1.16081857e+00,\n",
       "         1.31648267e+00],\n",
       "       [ 2.12851559e+00, -1.24957601e-01,  1.61574420e+00,\n",
       "         1.18500970e+00],\n",
       "       [-1.14301691e+00, -1.28197243e+00,  4.21564419e-01,\n",
       "         6.59117823e-01],\n",
       "       [ 1.76501198e+00, -3.56360566e-01,  1.44514709e+00,\n",
       "         7.90590793e-01],\n",
       "       [ 1.03800476e+00, -1.28197243e+00,  1.16081857e+00,\n",
       "         7.90590793e-01],\n",
       "       [ 1.64384411e+00,  1.26346019e+00,  1.33141568e+00,\n",
       "         1.71090158e+00],\n",
       "       [ 7.95669016e-01,  3.37848329e-01,  7.62758643e-01,\n",
       "         1.05353673e+00],\n",
       "       [ 6.74501145e-01, -8.19166497e-01,  8.76490051e-01,\n",
       "         9.22063763e-01],\n",
       "       [ 1.15917263e+00, -1.24957601e-01,  9.90221459e-01,\n",
       "         1.18500970e+00],\n",
       "       [-1.73673948e-01, -1.28197243e+00,  7.05892939e-01,\n",
       "         1.05353673e+00],\n",
       "       [-5.25060772e-02, -5.87763531e-01,  7.62758643e-01,\n",
       "         1.57942861e+00],\n",
       "       [ 6.74501145e-01,  3.37848329e-01,  8.76490051e-01,\n",
       "         1.44795564e+00],\n",
       "       [ 7.95669016e-01, -1.24957601e-01,  9.90221459e-01,\n",
       "         7.90590793e-01],\n",
       "       [ 2.24968346e+00,  1.72626612e+00,  1.67260991e+00,\n",
       "         1.31648267e+00],\n",
       "       [ 2.24968346e+00, -1.05056946e+00,  1.78634131e+00,\n",
       "         1.44795564e+00],\n",
       "       [ 1.89829664e-01, -1.97618132e+00,  7.05892939e-01,\n",
       "         3.96171883e-01],\n",
       "       [ 1.28034050e+00,  3.37848329e-01,  1.10395287e+00,\n",
       "         1.44795564e+00],\n",
       "       [-2.94841818e-01, -5.87763531e-01,  6.49027235e-01,\n",
       "         1.05353673e+00],\n",
       "       [ 2.24968346e+00, -5.87763531e-01,  1.67260991e+00,\n",
       "         1.05353673e+00],\n",
       "       [ 5.53333275e-01, -8.19166497e-01,  6.49027235e-01,\n",
       "         7.90590793e-01],\n",
       "       [ 1.03800476e+00,  5.69251294e-01,  1.10395287e+00,\n",
       "         1.18500970e+00],\n",
       "       [ 1.64384411e+00,  3.37848329e-01,  1.27454998e+00,\n",
       "         7.90590793e-01],\n",
       "       [ 4.32165405e-01, -5.87763531e-01,  5.92161531e-01,\n",
       "         7.90590793e-01],\n",
       "       [ 3.10997534e-01, -1.24957601e-01,  6.49027235e-01,\n",
       "         7.90590793e-01],\n",
       "       [ 6.74501145e-01, -5.87763531e-01,  1.04708716e+00,\n",
       "         1.18500970e+00],\n",
       "       [ 1.64384411e+00, -1.24957601e-01,  1.16081857e+00,\n",
       "         5.27644853e-01],\n",
       "       [ 1.88617985e+00, -5.87763531e-01,  1.33141568e+00,\n",
       "         9.22063763e-01],\n",
       "       [ 2.49201920e+00,  1.72626612e+00,  1.50201279e+00,\n",
       "         1.05353673e+00],\n",
       "       [ 6.74501145e-01, -5.87763531e-01,  1.04708716e+00,\n",
       "         1.31648267e+00],\n",
       "       [ 5.53333275e-01, -5.87763531e-01,  7.62758643e-01,\n",
       "         3.96171883e-01],\n",
       "       [ 3.10997534e-01, -1.05056946e+00,  1.04708716e+00,\n",
       "         2.64698913e-01],\n",
       "       [ 2.24968346e+00, -1.24957601e-01,  1.33141568e+00,\n",
       "         1.44795564e+00],\n",
       "       [ 5.53333275e-01,  8.00654259e-01,  1.04708716e+00,\n",
       "         1.57942861e+00],\n",
       "       [ 6.74501145e-01,  1.06445364e-01,  9.90221459e-01,\n",
       "         7.90590793e-01],\n",
       "       [ 1.89829664e-01, -1.24957601e-01,  5.92161531e-01,\n",
       "         7.90590793e-01],\n",
       "       [ 1.28034050e+00,  1.06445364e-01,  9.33355755e-01,\n",
       "         1.18500970e+00],\n",
       "       [ 1.03800476e+00,  1.06445364e-01,  1.04708716e+00,\n",
       "         1.57942861e+00],\n",
       "       [ 1.28034050e+00,  1.06445364e-01,  7.62758643e-01,\n",
       "         1.44795564e+00],\n",
       "       [-5.25060772e-02, -8.19166497e-01,  7.62758643e-01,\n",
       "         9.22063763e-01],\n",
       "       [ 1.15917263e+00,  3.37848329e-01,  1.21768427e+00,\n",
       "         1.44795564e+00],\n",
       "       [ 1.03800476e+00,  5.69251294e-01,  1.10395287e+00,\n",
       "         1.71090158e+00],\n",
       "       [ 1.03800476e+00, -1.24957601e-01,  8.19624347e-01,\n",
       "         1.44795564e+00],\n",
       "       [ 5.53333275e-01, -1.28197243e+00,  7.05892939e-01,\n",
       "         9.22063763e-01],\n",
       "       [ 7.95669016e-01, -1.24957601e-01,  8.19624347e-01,\n",
       "         1.05353673e+00],\n",
       "       [ 4.32165405e-01,  8.00654259e-01,  9.33355755e-01,\n",
       "         1.44795564e+00],\n",
       "       [ 6.86617933e-02, -1.24957601e-01,  7.62758643e-01,\n",
       "         7.90590793e-01]])"
      ]
     },
     "execution_count": 5,
     "metadata": {},
     "output_type": "execute_result"
    }
   ],
   "source": [
    "Xs"
   ]
  },
  {
   "cell_type": "code",
   "execution_count": null,
   "metadata": {},
   "outputs": [],
   "source": []
  },
  {
   "cell_type": "markdown",
   "metadata": {},
   "source": [
    "### 2. Eigendecomposition - Computing Eigenvectors and Eigenvalues\n",
    "\n",
    "\"The eigenvectors and eigenvalues of a covariance (or correlation) matrix represent the “core” of a PCA: The eigenvectors (principal components) determine the directions of the new feature space, and the eigenvalues determine their magnitude. In other words, the eigenvalues explain the variance of the data along the new feature axes.\""
   ]
  },
  {
   "cell_type": "markdown",
   "metadata": {},
   "source": [
    "**Covariance Matrix**\n",
    "\"The classic approach to PCA is to perform the eigendecomposition on the covariance matrix Σ, which is a d×d matrix where each element represents the covariance between two features. The covariance between two features is calculated as follows:\""
   ]
  },
  {
   "cell_type": "markdown",
   "metadata": {},
   "source": [
    "\\begin{align}\n",
    "\\sigma_{jk} = \\frac{1}{n-1}\\sum_{i=1}^{N}\\left(  x_{ij}-\\bar{x}_j \\right)  \\left( x_{ik}-\\bar{x}_k \\right).\n",
    "\\end{align}"
   ]
  },
  {
   "cell_type": "markdown",
   "metadata": {},
   "source": [
    "We can summarize the calculation of the covariance matrix via the following matrix equation:"
   ]
  },
  {
   "cell_type": "markdown",
   "metadata": {},
   "source": [
    "\\begin{align}\n",
    "\\Sigma = \\frac{1}{n-1} \\left( (\\mathbf{X} - \\mathbf{\\bar{x}})^T\\;(\\mathbf{X} - \\mathbf{\\bar{x}}) \\right)\n",
    "\\end{align}"
   ]
  },
  {
   "cell_type": "markdown",
   "metadata": {},
   "source": [
    "Where x¯ is the mean vector \\begin{align}\\mathbf{\\bar{x}} = \\sum\\limits_{k=1}^n x_{i}.\\end{align}"
   ]
  },
  {
   "cell_type": "markdown",
   "metadata": {},
   "source": [
    "The mean vector is a d-dimensional vector where each value in this vector represents the sample mean of a feature column in the dataset."
   ]
  },
  {
   "cell_type": "code",
   "execution_count": 6,
   "metadata": {},
   "outputs": [
    {
     "data": {
      "text/plain": [
       "array([-4.73695157e-16, -6.63173220e-16,  3.31586610e-16, -2.84217094e-16])"
      ]
     },
     "execution_count": 6,
     "metadata": {},
     "output_type": "execute_result"
    }
   ],
   "source": [
    "#Use numpy \n",
    "\n",
    "mean_vec = np.mean(Xs, axis=0)\n",
    "\n",
    "#The mean value of each column\n",
    "mean_vec"
   ]
  },
  {
   "cell_type": "code",
   "execution_count": 7,
   "metadata": {},
   "outputs": [
    {
     "data": {
      "text/plain": [
       "array([[ 1.00671141, -0.11010327,  0.87760486,  0.82344326],\n",
       "       [-0.11010327,  1.00671141, -0.42333835, -0.358937  ],\n",
       "       [ 0.87760486, -0.42333835,  1.00671141,  0.96921855],\n",
       "       [ 0.82344326, -0.358937  ,  0.96921855,  1.00671141]])"
      ]
     },
     "execution_count": 7,
     "metadata": {},
     "output_type": "execute_result"
    }
   ],
   "source": [
    "#Manually Calculate the covariance matrix\n",
    "cov_mat = (Xs - mean_vec).T.dot((Xs - mean_vec))/(Xs.shape[0]-1)\n",
    "\n",
    "cov_mat"
   ]
  },
  {
   "cell_type": "code",
   "execution_count": 8,
   "metadata": {},
   "outputs": [
    {
     "data": {
      "text/plain": [
       "array([[ 1.00671141, -0.11010327,  0.87760486,  0.82344326],\n",
       "       [-0.11010327,  1.00671141, -0.42333835, -0.358937  ],\n",
       "       [ 0.87760486, -0.42333835,  1.00671141,  0.96921855],\n",
       "       [ 0.82344326, -0.358937  ,  0.96921855,  1.00671141]])"
      ]
     },
     "execution_count": 8,
     "metadata": {},
     "output_type": "execute_result"
    }
   ],
   "source": [
    "#Use numpy\n",
    "cov_mat = np.cov(Xs.T)\n",
    "cov_mat"
   ]
  },
  {
   "cell_type": "code",
   "execution_count": 9,
   "metadata": {},
   "outputs": [
    {
     "data": {
      "text/plain": [
       "array([2.93035378, 0.92740362, 0.14834223, 0.02074601])"
      ]
     },
     "execution_count": 9,
     "metadata": {},
     "output_type": "execute_result"
    }
   ],
   "source": [
    "#Derive eigenvalues and eigenvectors\n",
    "eig_vals, eig_vecs = np.linalg.eig(cov_mat)\n",
    "\n",
    "eig_vals"
   ]
  },
  {
   "cell_type": "code",
   "execution_count": 10,
   "metadata": {},
   "outputs": [
    {
     "data": {
      "text/plain": [
       "array([[ 0.52237162, -0.37231836, -0.72101681,  0.26199559],\n",
       "       [-0.26335492, -0.92555649,  0.24203288, -0.12413481],\n",
       "       [ 0.58125401, -0.02109478,  0.14089226, -0.80115427],\n",
       "       [ 0.56561105, -0.06541577,  0.6338014 ,  0.52354627]])"
      ]
     },
     "execution_count": 10,
     "metadata": {},
     "output_type": "execute_result"
    }
   ],
   "source": [
    "eig_vecs"
   ]
  },
  {
   "cell_type": "markdown",
   "metadata": {},
   "source": [
    "**Correlation Matrix**\n",
    "\n",
    "\"Especially, in the field of \"Finance,\" the correlation matrix typically used instead of the covariance matrix. However, the eigendecomposition of the covariance matrix (if the input data was standardized) yields the same results as a eigendecomposition on the correlation matrix, since the correlation matrix can be understood as the normalized covariance matrix. Eigendecomposition of the standardized data based on the correlation matrix:\""
   ]
  },
  {
   "cell_type": "code",
   "execution_count": 11,
   "metadata": {},
   "outputs": [
    {
     "data": {
      "text/plain": [
       "array([[ 1.        , -0.10936925,  0.87175416,  0.81795363],\n",
       "       [-0.10936925,  1.        , -0.4205161 , -0.35654409],\n",
       "       [ 0.87175416, -0.4205161 ,  1.        ,  0.9627571 ],\n",
       "       [ 0.81795363, -0.35654409,  0.9627571 ,  1.        ]])"
      ]
     },
     "execution_count": 11,
     "metadata": {},
     "output_type": "execute_result"
    }
   ],
   "source": [
    "cor_mat1 = np.corrcoef(Xs.T)\n",
    "cor_mat1"
   ]
  },
  {
   "cell_type": "code",
   "execution_count": 12,
   "metadata": {},
   "outputs": [],
   "source": [
    "eig_vals, eig_vecs = np.linalg.eig(cor_mat1)"
   ]
  },
  {
   "cell_type": "code",
   "execution_count": 13,
   "metadata": {},
   "outputs": [
    {
     "data": {
      "text/plain": [
       "array([[ 0.52237162, -0.37231836, -0.72101681,  0.26199559],\n",
       "       [-0.26335492, -0.92555649,  0.24203288, -0.12413481],\n",
       "       [ 0.58125401, -0.02109478,  0.14089226, -0.80115427],\n",
       "       [ 0.56561105, -0.06541577,  0.6338014 ,  0.52354627]])"
      ]
     },
     "execution_count": 13,
     "metadata": {},
     "output_type": "execute_result"
    }
   ],
   "source": [
    "#Eigenvectors\n",
    "eig_vecs"
   ]
  },
  {
   "cell_type": "code",
   "execution_count": 14,
   "metadata": {},
   "outputs": [
    {
     "data": {
      "text/plain": [
       "array([2.91081808, 0.92122093, 0.14735328, 0.02060771])"
      ]
     },
     "execution_count": 14,
     "metadata": {},
     "output_type": "execute_result"
    }
   ],
   "source": [
    "#Eigenvalues\n",
    "eig_vals"
   ]
  },
  {
   "cell_type": "code",
   "execution_count": null,
   "metadata": {},
   "outputs": [],
   "source": []
  },
  {
   "cell_type": "markdown",
   "metadata": {},
   "source": [
    "### 3. Selecting Principal Components"
   ]
  },
  {
   "cell_type": "markdown",
   "metadata": {},
   "source": [
    "\"The typical goal of a PCA is to reduce the dimensionality of the original feature space by projecting it onto a smaller subspace, where the eigenvectors will form the axes.\""
   ]
  },
  {
   "cell_type": "markdown",
   "metadata": {},
   "source": [
    "\"In order to decide which eigenvector(s) can dropped without losing too much information for the construction of lower-dimensional subspace, we need to inspect the corresponding eigenvalues: The eigenvectors with the lowest eigenvalues bear the least information about the distribution of the data; those are the ones can be dropped.\n",
    "In order to do so, the common approach is to rank the eigenvalues from highest to lowest in order choose the top `k` eigenvectors.\""
   ]
  },
  {
   "cell_type": "code",
   "execution_count": 15,
   "metadata": {},
   "outputs": [
    {
     "data": {
      "text/plain": [
       "[(2.910818083752054,\n",
       "  array([ 0.52237162, -0.26335492,  0.58125401,  0.56561105])),\n",
       " (0.9212209307072252,\n",
       "  array([-0.37231836, -0.92555649, -0.02109478, -0.06541577])),\n",
       " (0.1473532783050952,\n",
       "  array([-0.72101681,  0.24203288,  0.14089226,  0.6338014 ])),\n",
       " (0.020607707235625158,\n",
       "  array([ 0.26199559, -0.12413481, -0.80115427,  0.52354627]))]"
      ]
     },
     "execution_count": 15,
     "metadata": {},
     "output_type": "execute_result"
    }
   ],
   "source": [
    "# Make a list of (eigenvalue, eigenvector) tuples\n",
    "eig_pairs = [(np.abs(eig_vals[i]),eig_vecs[:,i]) for i in range(len(eig_vals))]\n",
    "eig_pairs"
   ]
  },
  {
   "cell_type": "code",
   "execution_count": 16,
   "metadata": {},
   "outputs": [],
   "source": [
    "# Sort the (eigenvalue, eigenvector) tuples from high to low\n",
    "eig_pairs.sort()\n",
    "eig_pairs.reverse()"
   ]
  },
  {
   "cell_type": "code",
   "execution_count": 17,
   "metadata": {},
   "outputs": [
    {
     "name": "stdout",
     "output_type": "stream",
     "text": [
      "Eigenvalues in descending order:\n",
      "2.910818083752054\n",
      "0.9212209307072252\n",
      "0.1473532783050952\n",
      "0.020607707235625158\n"
     ]
    }
   ],
   "source": [
    "# Visually confirm that the list is correctly sorted by decreasing eigenvalues\n",
    "print('Eigenvalues in descending order:')\n",
    "for i in eig_pairs:\n",
    "    print(i[0])"
   ]
  },
  {
   "cell_type": "markdown",
   "metadata": {},
   "source": [
    "After sorting the eigenpairs, the next question is \"how many principal components are we going to choose for our new feature subspace?\" A useful measure is the so-called \"explained variance,\" which can be calculated from the eigenvalues. The explained variance tells us how much information (variance) can be attributed to each of the principal components."
   ]
  },
  {
   "cell_type": "code",
   "execution_count": 18,
   "metadata": {},
   "outputs": [
    {
     "data": {
      "text/plain": [
       "array([2.91081808, 3.83203901, 3.97939229, 4.        ])"
      ]
     },
     "execution_count": 18,
     "metadata": {},
     "output_type": "execute_result"
    }
   ],
   "source": [
    "cumeig = np.cumsum(eig_vals)\n",
    "cumeig"
   ]
  },
  {
   "cell_type": "code",
   "execution_count": 19,
   "metadata": {},
   "outputs": [
    {
     "data": {
      "text/plain": [
       "[72.77045209380137, 23.030523267680632, 3.6838319576273806, 0.5151926808906291]"
      ]
     },
     "execution_count": 19,
     "metadata": {},
     "output_type": "execute_result"
    }
   ],
   "source": [
    "tot = sum(eig_vals)\n",
    "var_exp = [(i/tot) * 100 for i in sorted(eig_vals, reverse=True)]\n",
    "var_exp"
   ]
  },
  {
   "cell_type": "code",
   "execution_count": 20,
   "metadata": {},
   "outputs": [
    {
     "data": {
      "text/plain": [
       "array([ 72.77045209,  95.80097536,  99.48480732, 100.        ])"
      ]
     },
     "execution_count": 20,
     "metadata": {},
     "output_type": "execute_result"
    }
   ],
   "source": [
    "cumvar  = np.cumsum(var_exp)\n",
    "cumvar"
   ]
  },
  {
   "cell_type": "code",
   "execution_count": 21,
   "metadata": {},
   "outputs": [
    {
     "data": {
      "text/plain": [
       "[<matplotlib.lines.Line2D at 0x1a12ed21d0>]"
      ]
     },
     "execution_count": 21,
     "metadata": {},
     "output_type": "execute_result"
    },
    {
     "data": {
      "image/png": "[encoded data removed]",
      "text/plain": [
       "<matplotlib.figure.Figure at 0x1a12ed24e0>"
      ]
     },
     "metadata": {},
     "output_type": "display_data"
    }
   ],
   "source": [
    "#Plotting variance explained and cumulative variance explained\n",
    "\n",
    "plt.bar([1,2,3,4],eig_vals)\n",
    "plt.plot([1,2,3,4], cumeig, c='r')\n"
   ]
  },
  {
   "cell_type": "markdown",
   "metadata": {},
   "source": [
    "Note: Total of eigen values is equal to the total no. of features"
   ]
  },
  {
   "cell_type": "code",
   "execution_count": 22,
   "metadata": {},
   "outputs": [
    {
     "data": {
      "text/plain": [
       "[<matplotlib.lines.Line2D at 0x1a12ed2080>]"
      ]
     },
     "execution_count": 22,
     "metadata": {},
     "output_type": "execute_result"
    },
    {
     "data": {
      "image/png": "[encoded data removed]",
      "text/plain": [
       "<matplotlib.figure.Figure at 0x1a12ed2160>"
      ]
     },
     "metadata": {},
     "output_type": "display_data"
    }
   ],
   "source": [
    "plt.bar([1,2,3,4],var_exp)\n",
    "plt.plot([1,2,3,4], cumvar, c='r')"
   ]
  },
  {
   "cell_type": "code",
   "execution_count": null,
   "metadata": {},
   "outputs": [],
   "source": []
  },
  {
   "cell_type": "markdown",
   "metadata": {},
   "source": [
    "The plot above clearly shows that most of the variance (72.77% of the variance to be precise) can be explained by the first principal component alone. The second principal component still bears some information (23.03%) while the third and fourth principal components can safely be dropped without losing to much information. Together, the first two principal components contain 95.8% of the information."
   ]
  },
  {
   "cell_type": "markdown",
   "metadata": {},
   "source": [
    "It's about time to get to the really interesting part: The construction of the projection matrix that will be used to transform the Iris data onto the new feature subspace. Although, the name \"projection matrix\" has a nice ring to it, it is basically just a matrix of our concatenated top k eigenvectors.\n",
    "\n",
    "Here, we are reducing the 4-dimensional feature space to a 2-dimensional feature subspace, by choosing the \"top 2\" eigenvectors with the highest eigenvalues to construct our `d×k`-dimensional eigenvector matrix `W`."
   ]
  },
  {
   "cell_type": "code",
   "execution_count": 23,
   "metadata": {},
   "outputs": [
    {
     "data": {
      "text/plain": [
       "[(2.910818083752054,\n",
       "  array([ 0.52237162, -0.26335492,  0.58125401,  0.56561105])),\n",
       " (0.9212209307072252,\n",
       "  array([-0.37231836, -0.92555649, -0.02109478, -0.06541577])),\n",
       " (0.1473532783050952,\n",
       "  array([-0.72101681,  0.24203288,  0.14089226,  0.6338014 ])),\n",
       " (0.020607707235625158,\n",
       "  array([ 0.26199559, -0.12413481, -0.80115427,  0.52354627]))]"
      ]
     },
     "execution_count": 23,
     "metadata": {},
     "output_type": "execute_result"
    }
   ],
   "source": [
    "eig_pairs"
   ]
  },
  {
   "cell_type": "code",
   "execution_count": 24,
   "metadata": {},
   "outputs": [
    {
     "data": {
      "text/plain": [
       "array([[ 0.52237162],\n",
       "       [-0.26335492],\n",
       "       [ 0.58125401],\n",
       "       [ 0.56561105]])"
      ]
     },
     "execution_count": 24,
     "metadata": {},
     "output_type": "execute_result"
    }
   ],
   "source": [
    "eig_pairs[0][1].reshape(4,1)"
   ]
  },
  {
   "cell_type": "code",
   "execution_count": 25,
   "metadata": {},
   "outputs": [
    {
     "data": {
      "text/plain": [
       "array([[ 0.52237162, -0.37231836],\n",
       "       [-0.26335492, -0.92555649],\n",
       "       [ 0.58125401, -0.02109478],\n",
       "       [ 0.56561105, -0.06541577]])"
      ]
     },
     "execution_count": 25,
     "metadata": {},
     "output_type": "execute_result"
    }
   ],
   "source": [
    "matrix_w = np.hstack((eig_pairs[0][1].reshape(4,1),\n",
    "                    eig_pairs[1][1].reshape(4,1)))\n",
    "matrix_w"
   ]
  },
  {
   "cell_type": "code",
   "execution_count": null,
   "metadata": {},
   "outputs": [],
   "source": []
  },
  {
   "cell_type": "markdown",
   "metadata": {},
   "source": [
    "### 4. Projection Onto the New Feature Space\n",
    "\n",
    "In this last step we will use the 4×2-dimensional projection matrix `W` to transform our samples onto the new subspace via the equation\n",
    "`Y=X×W`, where `Y` is a 150×2 matrix of our transformed samples."
   ]
  },
  {
   "cell_type": "code",
   "execution_count": 26,
   "metadata": {},
   "outputs": [
    {
     "data": {
      "text/plain": [
       "array([-0.90068117,  1.03205722, -1.3412724 , -1.31297673])"
      ]
     },
     "execution_count": 26,
     "metadata": {},
     "output_type": "execute_result"
    }
   ],
   "source": [
    "Xs[0]"
   ]
  },
  {
   "cell_type": "code",
   "execution_count": 27,
   "metadata": {},
   "outputs": [
    {
     "data": {
      "text/plain": [
       "(150, 4)"
      ]
     },
     "execution_count": 27,
     "metadata": {},
     "output_type": "execute_result"
    }
   ],
   "source": [
    "Xs.shape"
   ]
  },
  {
   "cell_type": "code",
   "execution_count": 28,
   "metadata": {},
   "outputs": [
    {
     "data": {
      "text/plain": [
       "(4, 2)"
      ]
     },
     "execution_count": 28,
     "metadata": {},
     "output_type": "execute_result"
    }
   ],
   "source": [
    "matrix_w.shape"
   ]
  },
  {
   "cell_type": "markdown",
   "metadata": {},
   "source": []
  },
  {
   "cell_type": "code",
   "execution_count": 29,
   "metadata": {},
   "outputs": [
    {
     "data": {
      "text/plain": [
       "array([[-2.26454173e+00, -5.05703903e-01],\n",
       "       [-2.08642550e+00,  6.55404729e-01],\n",
       "       [-2.36795045e+00,  3.18477311e-01],\n",
       "       [-2.30419716e+00,  5.75367713e-01],\n",
       "       [-2.38877749e+00, -6.74767397e-01],\n",
       "       [-2.07053681e+00, -1.51854856e+00],\n",
       "       [-2.44571134e+00, -7.45626750e-02],\n",
       "       [-2.23384186e+00, -2.47613932e-01],\n",
       "       [-2.34195768e+00,  1.09514636e+00],\n",
       "       [-2.18867576e+00,  4.48629048e-01],\n",
       "       [-2.16348656e+00, -1.07059558e+00],\n",
       "       [-2.32737775e+00, -1.58587455e-01],\n",
       "       [-2.22408272e+00,  7.09118158e-01],\n",
       "       [-2.63971626e+00,  9.38281982e-01],\n",
       "       [-2.19229151e+00, -1.88997851e+00],\n",
       "       [-2.25146521e+00, -2.72237108e+00],\n",
       "       [-2.20275048e+00, -1.51375028e+00],\n",
       "       [-2.19017916e+00, -5.14304308e-01],\n",
       "       [-1.89407429e+00, -1.43111071e+00],\n",
       "       [-2.33994907e+00, -1.15803343e+00],\n",
       "       [-1.91455639e+00, -4.30465163e-01],\n",
       "       [-2.20464540e+00, -9.52457317e-01],\n",
       "       [-2.77416979e+00, -4.89517027e-01],\n",
       "       [-1.82041156e+00, -1.06750793e-01],\n",
       "       [-2.22821750e+00, -1.62186163e-01],\n",
       "       [-1.95702401e+00,  6.07892567e-01],\n",
       "       [-2.05206331e+00, -2.66014312e-01],\n",
       "       [-2.16819365e+00, -5.52016495e-01],\n",
       "       [-2.14030596e+00, -3.36640409e-01],\n",
       "       [-2.26879019e+00,  3.14878603e-01],\n",
       "       [-2.14455443e+00,  4.83942097e-01],\n",
       "       [-1.83193810e+00, -4.45266836e-01],\n",
       "       [-2.60820287e+00, -1.82847519e+00],\n",
       "       [-2.43795086e+00, -2.18539162e+00],\n",
       "       [-2.18867576e+00,  4.48629048e-01],\n",
       "       [-2.21111990e+00,  1.84337811e-01],\n",
       "       [-2.04441652e+00, -6.84956426e-01],\n",
       "       [-2.18867576e+00,  4.48629048e-01],\n",
       "       [-2.43595220e+00,  8.82169415e-01],\n",
       "       [-2.17054720e+00, -2.92726955e-01],\n",
       "       [-2.28652724e+00, -4.67991716e-01],\n",
       "       [-1.87170722e+00,  2.32769161e+00],\n",
       "       [-2.55783442e+00,  4.53816380e-01],\n",
       "       [-1.96427929e+00, -4.97391640e-01],\n",
       "       [-2.13337283e+00, -1.17143211e+00],\n",
       "       [-2.07535759e+00,  6.91917347e-01],\n",
       "       [-2.38125822e+00, -1.15063259e+00],\n",
       "       [-2.39819169e+00,  3.62390765e-01],\n",
       "       [-2.22678121e+00, -1.02548255e+00],\n",
       "       [-2.20595417e+00, -3.22378453e-02],\n",
       "       [ 1.10399365e+00, -8.63112446e-01],\n",
       "       [ 7.32481440e-01, -5.98635573e-01],\n",
       "       [ 1.24210951e+00, -6.14822450e-01],\n",
       "       [ 3.97307283e-01,  1.75816895e+00],\n",
       "       [ 1.07259395e+00,  2.11757903e-01],\n",
       "       [ 3.84458146e-01,  5.91062469e-01],\n",
       "       [ 7.48715076e-01, -7.78698611e-01],\n",
       "       [-4.97863388e-01,  1.84886877e+00],\n",
       "       [ 9.26222368e-01, -3.03308268e-02],\n",
       "       [ 4.96802558e-03,  1.02940111e+00],\n",
       "       [-1.24697461e-01,  2.65806268e+00],\n",
       "       [ 4.38730118e-01,  5.88812850e-02],\n",
       "       [ 5.51633981e-01,  1.77258156e+00],\n",
       "       [ 7.17165066e-01,  1.85434315e-01],\n",
       "       [-3.72583830e-02,  4.32795099e-01],\n",
       "       [ 8.75890536e-01, -5.09998151e-01],\n",
       "       [ 3.48006402e-01,  1.90621647e-01],\n",
       "       [ 1.53392545e-01,  7.90725456e-01],\n",
       "       [ 1.21530321e+00,  1.63335564e+00],\n",
       "       [ 1.56941176e-01,  1.30310327e+00],\n",
       "       [ 7.38256104e-01, -4.02470382e-01],\n",
       "       [ 4.72369682e-01,  4.16608222e-01],\n",
       "       [ 1.22798821e+00,  9.40914793e-01],\n",
       "       [ 6.29381045e-01,  4.16811643e-01],\n",
       "       [ 7.00472799e-01,  6.34939277e-02],\n",
       "       [ 8.73536987e-01, -2.50708611e-01],\n",
       "       [ 1.25422219e+00,  8.26200998e-02],\n",
       "       [ 1.35823985e+00, -3.28820266e-01],\n",
       "       [ 6.62126138e-01,  2.24346071e-01],\n",
       "       [-4.72815133e-02,  1.05721241e+00],\n",
       "       [ 1.21534209e-01,  1.56359238e+00],\n",
       "       [ 1.41182261e-02,  1.57339235e+00],\n",
       "       [ 2.36010837e-01,  7.75923784e-01],\n",
       "       [ 1.05669143e+00,  6.36901284e-01],\n",
       "       [ 2.21417088e-01,  2.80847693e-01],\n",
       "       [ 4.31783161e-01, -8.55136920e-01],\n",
       "       [ 1.04941336e+00, -5.22197265e-01],\n",
       "       [ 1.03587821e+00,  1.39246648e+00],\n",
       "       [ 6.70675999e-02,  2.12620735e-01],\n",
       "       [ 2.75425066e-01,  1.32981591e+00],\n",
       "       [ 2.72335066e-01,  1.11944152e+00],\n",
       "       [ 6.23170540e-01, -2.75426333e-02],\n",
       "       [ 3.30005364e-01,  9.88900732e-01],\n",
       "       [-3.73627623e-01,  2.01793227e+00],\n",
       "       [ 2.82944343e-01,  8.53950717e-01],\n",
       "       [ 8.90531103e-02,  1.74908548e-01],\n",
       "       [ 2.24356783e-01,  3.80484659e-01],\n",
       "       [ 5.73883486e-01,  1.53719974e-01],\n",
       "       [-4.57012873e-01,  1.53946451e+00],\n",
       "       [ 2.52244473e-01,  5.95860746e-01],\n",
       "       [ 1.84767259e+00, -8.71696662e-01],\n",
       "       [ 1.15318981e+00,  7.01326114e-01],\n",
       "       [ 2.20634950e+00, -5.54470105e-01],\n",
       "       [ 1.43868540e+00,  5.00105223e-02],\n",
       "       [ 1.86789070e+00, -2.91192802e-01],\n",
       "       [ 2.75419671e+00, -7.88432206e-01],\n",
       "       [ 3.58374475e-01,  1.56009458e+00],\n",
       "       [ 2.30300590e+00, -4.09516695e-01],\n",
       "       [ 2.00173530e+00,  7.23865359e-01],\n",
       "       [ 2.26755460e+00, -1.92144299e+00],\n",
       "       [ 1.36590943e+00, -6.93948040e-01],\n",
       "       [ 1.59906459e+00,  4.28248836e-01],\n",
       "       [ 1.88425185e+00, -4.14332758e-01],\n",
       "       [ 1.25308651e+00,  1.16739134e+00],\n",
       "       [ 1.46406152e+00,  4.44147569e-01],\n",
       "       [ 1.59180930e+00, -6.77035372e-01],\n",
       "       [ 1.47128019e+00, -2.53192472e-01],\n",
       "       [ 2.43737848e+00, -2.55675734e+00],\n",
       "       [ 3.30914118e+00,  2.36132010e-03],\n",
       "       [ 1.25398099e+00,  1.71758384e+00],\n",
       "       [ 2.04049626e+00, -9.07398765e-01],\n",
       "       [ 9.73915114e-01,  5.71174376e-01],\n",
       "       [ 2.89806444e+00, -3.97791359e-01],\n",
       "       [ 1.32919369e+00,  4.86760542e-01],\n",
       "       [ 1.70424071e+00, -1.01414842e+00],\n",
       "       [ 1.95772766e+00, -1.00333452e+00],\n",
       "       [ 1.17190451e+00,  3.18896617e-01],\n",
       "       [ 1.01978105e+00, -6.55429631e-02],\n",
       "       [ 1.78600886e+00,  1.93272800e-01],\n",
       "       [ 1.86477791e+00, -5.55381532e-01],\n",
       "       [ 2.43549739e+00, -2.46654468e-01],\n",
       "       [ 2.31608241e+00, -2.62618387e+00],\n",
       "       [ 1.86037143e+00,  1.84672394e-01],\n",
       "       [ 1.11127173e+00,  2.95986102e-01],\n",
       "       [ 1.19746916e+00,  8.17167742e-01],\n",
       "       [ 2.80094940e+00, -8.44748194e-01],\n",
       "       [ 1.58015525e+00, -1.07247450e+00],\n",
       "       [ 1.34704442e+00, -4.22255966e-01],\n",
       "       [ 9.23432978e-01, -1.92303705e-02],\n",
       "       [ 1.85355198e+00, -6.72422729e-01],\n",
       "       [ 2.01615720e+00, -6.10397038e-01],\n",
       "       [ 1.90311686e+00, -6.86024832e-01],\n",
       "       [ 1.15318981e+00,  7.01326114e-01],\n",
       "       [ 2.04330844e+00, -8.64684880e-01],\n",
       "       [ 2.00169097e+00, -1.04855005e+00],\n",
       "       [ 1.87052207e+00, -3.82821838e-01],\n",
       "       [ 1.55849189e+00,  9.05313601e-01],\n",
       "       [ 1.52084506e+00, -2.66794575e-01],\n",
       "       [ 1.37639119e+00, -1.01636193e+00],\n",
       "       [ 9.59298576e-01,  2.22839447e-02]])"
      ]
     },
     "execution_count": 29,
     "metadata": {},
     "output_type": "execute_result"
    }
   ],
   "source": [
    "#Take the dot product of Xs and matrix_w\n",
    "Y = Xs.dot(matrix_w)\n",
    "Y"
   ]
  },
  {
   "cell_type": "code",
   "execution_count": 30,
   "metadata": {},
   "outputs": [
    {
     "data": {
      "text/plain": [
       "0         Iris-setosa\n",
       "1         Iris-setosa\n",
       "2         Iris-setosa\n",
       "3         Iris-setosa\n",
       "4         Iris-setosa\n",
       "5         Iris-setosa\n",
       "6         Iris-setosa\n",
       "7         Iris-setosa\n",
       "8         Iris-setosa\n",
       "9         Iris-setosa\n",
       "10        Iris-setosa\n",
       "11        Iris-setosa\n",
       "12        Iris-setosa\n",
       "13        Iris-setosa\n",
       "14        Iris-setosa\n",
       "15        Iris-setosa\n",
       "16        Iris-setosa\n",
       "17        Iris-setosa\n",
       "18        Iris-setosa\n",
       "19        Iris-setosa\n",
       "20        Iris-setosa\n",
       "21        Iris-setosa\n",
       "22        Iris-setosa\n",
       "23        Iris-setosa\n",
       "24        Iris-setosa\n",
       "25        Iris-setosa\n",
       "26        Iris-setosa\n",
       "27        Iris-setosa\n",
       "28        Iris-setosa\n",
       "29        Iris-setosa\n",
       "            ...      \n",
       "120    Iris-virginica\n",
       "121    Iris-virginica\n",
       "122    Iris-virginica\n",
       "123    Iris-virginica\n",
       "124    Iris-virginica\n",
       "125    Iris-virginica\n",
       "126    Iris-virginica\n",
       "127    Iris-virginica\n",
       "128    Iris-virginica\n",
       "129    Iris-virginica\n",
       "130    Iris-virginica\n",
       "131    Iris-virginica\n",
       "132    Iris-virginica\n",
       "133    Iris-virginica\n",
       "134    Iris-virginica\n",
       "135    Iris-virginica\n",
       "136    Iris-virginica\n",
       "137    Iris-virginica\n",
       "138    Iris-virginica\n",
       "139    Iris-virginica\n",
       "140    Iris-virginica\n",
       "141    Iris-virginica\n",
       "142    Iris-virginica\n",
       "143    Iris-virginica\n",
       "144    Iris-virginica\n",
       "145    Iris-virginica\n",
       "146    Iris-virginica\n",
       "147    Iris-virginica\n",
       "148    Iris-virginica\n",
       "149    Iris-virginica\n",
       "Name: species, Length: 150, dtype: object"
      ]
     },
     "execution_count": 30,
     "metadata": {},
     "output_type": "execute_result"
    }
   ],
   "source": [
    "y"
   ]
  },
  {
   "cell_type": "code",
   "execution_count": 32,
   "metadata": {},
   "outputs": [
    {
     "data": {
      "text/plain": [
       "(150, 4)"
      ]
     },
     "execution_count": 32,
     "metadata": {},
     "output_type": "execute_result"
    }
   ],
   "source": [
    "Xs.shape"
   ]
  },
  {
   "cell_type": "code",
   "execution_count": 33,
   "metadata": {},
   "outputs": [
    {
     "data": {
      "text/plain": [
       "(150,)"
      ]
     },
     "execution_count": 33,
     "metadata": {},
     "output_type": "execute_result"
    }
   ],
   "source": [
    "y.shape"
   ]
  },
  {
   "cell_type": "code",
   "execution_count": 37,
   "metadata": {},
   "outputs": [
    {
     "data": {
      "text/plain": [
       "(150,)"
      ]
     },
     "execution_count": 37,
     "metadata": {},
     "output_type": "execute_result"
    }
   ],
   "source": [
    "Y[:,0].shape"
   ]
  },
  {
   "cell_type": "code",
   "execution_count": 38,
   "metadata": {},
   "outputs": [
    {
     "data": {
      "text/plain": [
       "(150,)"
      ]
     },
     "execution_count": 38,
     "metadata": {},
     "output_type": "execute_result"
    }
   ],
   "source": [
    "Y[:,1].shape"
   ]
  },
  {
   "cell_type": "code",
   "execution_count": 60,
   "metadata": {},
   "outputs": [
    {
     "data": {
      "text/plain": [
       "<matplotlib.collections.PathCollection at 0x1a1c8ce710>"
      ]
     },
     "execution_count": 60,
     "metadata": {},
     "output_type": "execute_result"
    },
    {
     "data": {
      "image/png": "[encoded data removed]",
      "text/plain": [
       "<matplotlib.figure.Figure at 0x1a1d26ac50>"
      ]
     },
     "metadata": {},
     "output_type": "display_data"
    }
   ],
   "source": [
    "#Plot components with color-encoding\n",
    "\n",
    "colors = y.map({\"Iris-setosa\": \"olive\", \"Iris-virginica\": \"#b75203\", \"Iris-versicolor\": \"#f2ab15\"})\n",
    "plt.figure(figsize=(8, 7))\n",
    "# plt.scatter(Xs, y, c=colors)\n",
    "plt.scatter(Y[:,0], Y[:,1], c=colors)"
   ]
  },
  {
   "cell_type": "code",
   "execution_count": null,
   "metadata": {},
   "outputs": [],
   "source": []
  },
  {
   "cell_type": "code",
   "execution_count": null,
   "metadata": {},
   "outputs": [],
   "source": []
  },
  {
   "cell_type": "code",
   "execution_count": null,
   "metadata": {},
   "outputs": [],
   "source": []
  },
  {
   "cell_type": "code",
   "execution_count": null,
   "metadata": {},
   "outputs": [],
   "source": []
  },
  {
   "cell_type": "markdown",
   "metadata": {},
   "source": [
    "## PCA in Sklearn with Iris, the NBA, and Digits"
   ]
  },
  {
   "cell_type": "markdown",
   "metadata": {},
   "source": [
    "We're going to learn how to use PCA with the Iris, NBA 16/17 stats, and MNIST digits datasets."
   ]
  },
  {
   "cell_type": "code",
   "execution_count": null,
   "metadata": {},
   "outputs": [],
   "source": []
  },
  {
   "cell_type": "markdown",
   "metadata": {},
   "source": [
    "### Iris\n",
    "\n",
    "Let's use the pairplot of iris to compare what that looks like to the two components pca scatter plot"
   ]
  },
  {
   "cell_type": "code",
   "execution_count": 64,
   "metadata": {},
   "outputs": [
    {
     "data": {
      "text/plain": [
       "<seaborn.axisgrid.PairGrid at 0x1a1e03d128>"
      ]
     },
     "execution_count": 64,
     "metadata": {},
     "output_type": "execute_result"
    },
    {
     "data": {
      "image/png": "[encoded data removed]",
      "text/plain": [
       "<matplotlib.figure.Figure at 0x1a1ec6a668>"
      ]
     },
     "metadata": {},
     "output_type": "display_data"
    }
   ],
   "source": [
    "#Pairplot of iris data with species color-encoding\n",
    "\n",
    "sns.pairplot(iris, hue='species')\n"
   ]
  },
  {
   "cell_type": "code",
   "execution_count": null,
   "metadata": {},
   "outputs": [],
   "source": []
  },
  {
   "cell_type": "markdown",
   "metadata": {},
   "source": [
    "As we know, we can't visualize a four-dimensional dataset, the pairplot gives use the next best thing, which is visualizing the four-dimensional dataset from as many different perspectives as possible.\n",
    "\n",
    "Now let's compare this pairplot with a scatter plot of the iris' data two principal components."
   ]
  },
  {
   "cell_type": "code",
   "execution_count": 67,
   "metadata": {},
   "outputs": [
    {
     "data": {
      "text/plain": [
       "array([[-2.26454173e+00,  5.05703903e-01, -1.21943348e-01,\n",
       "        -2.30733235e-02],\n",
       "       [-2.08642550e+00, -6.55404729e-01, -2.27250832e-01,\n",
       "        -1.03208244e-01],\n",
       "       [-2.36795045e+00, -3.18477311e-01,  5.14796236e-02,\n",
       "        -2.78252250e-02],\n",
       "       [-2.30419716e+00, -5.75367713e-01,  9.88604444e-02,\n",
       "         6.63114622e-02],\n",
       "       [-2.38877749e+00,  6.74767397e-01,  2.14278490e-02,\n",
       "         3.73972870e-02],\n",
       "       [-2.07053681e+00,  1.51854856e+00,  3.06842583e-02,\n",
       "        -4.39877494e-03],\n",
       "       [-2.44571134e+00,  7.45626750e-02,  3.42197636e-01,\n",
       "         3.80965668e-02],\n",
       "       [-2.23384186e+00,  2.47613932e-01, -8.25744645e-02,\n",
       "         2.55051623e-02],\n",
       "       [-2.34195768e+00, -1.09514636e+00,  1.53562399e-01,\n",
       "         2.67938291e-02],\n",
       "       [-2.18867576e+00, -4.48629048e-01, -2.46559522e-01,\n",
       "         3.99073035e-02],\n",
       "       [-2.16348656e+00,  1.07059558e+00, -2.64009373e-01,\n",
       "        -1.53011377e-02],\n",
       "       [-2.32737775e+00,  1.58587455e-01,  1.00165616e-01,\n",
       "         1.34554258e-01],\n",
       "       [-2.22408272e+00, -7.09118158e-01, -2.23214514e-01,\n",
       "        -2.63061382e-03],\n",
       "       [-2.63971626e+00, -9.38281982e-01,  1.89570030e-01,\n",
       "         1.94220183e-02],\n",
       "       [-2.19229151e+00,  1.88997851e+00, -4.69480095e-01,\n",
       "        -1.92782042e-01],\n",
       "       [-2.25146521e+00,  2.72237108e+00,  3.26037967e-02,\n",
       "        -4.71257043e-02],\n",
       "       [-2.20275048e+00,  1.51375028e+00, -1.36349158e-03,\n",
       "        -1.86631581e-01],\n",
       "       [-2.19017916e+00,  5.14304308e-01, -3.86155949e-02,\n",
       "        -9.19055067e-02],\n",
       "       [-1.89407429e+00,  1.43111071e+00, -3.70742834e-01,\n",
       "        -5.95280968e-02],\n",
       "       [-2.33994907e+00,  1.15803343e+00,  1.37417719e-01,\n",
       "         3.98281842e-02],\n",
       "       [-1.91455639e+00,  4.30465163e-01, -4.16006875e-01,\n",
       "        -1.03602240e-02],\n",
       "       [-2.20464540e+00,  9.52457317e-01,  1.64738346e-01,\n",
       "        -5.77291622e-02],\n",
       "       [-2.77416979e+00,  4.89517027e-01,  3.38836384e-01,\n",
       "        -1.78537297e-02],\n",
       "       [-1.82041156e+00,  1.06750793e-01,  4.00614724e-02,\n",
       "        -1.50345595e-01],\n",
       "       [-2.22821750e+00,  1.62186163e-01,  1.24201428e-01,\n",
       "         2.71228863e-01],\n",
       "       [-1.95702401e+00, -6.07892567e-01, -2.98591029e-01,\n",
       "        -4.38372887e-02],\n",
       "       [-2.05206331e+00,  2.66014312e-01,  9.20929788e-02,\n",
       "        -6.66010028e-02],\n",
       "       [-2.16819365e+00,  5.52016495e-01, -2.01295482e-01,\n",
       "        -9.26056927e-03],\n",
       "       [-2.14030596e+00,  3.36640409e-01, -2.65314545e-01,\n",
       "        -8.35439339e-02],\n",
       "       [-2.26879019e+00, -3.14878603e-01,  7.55154360e-02,\n",
       "         1.08849380e-01],\n",
       "       [-2.14455443e+00, -4.83942097e-01, -6.78557607e-02,\n",
       "         4.83787691e-02],\n",
       "       [-1.83193810e+00,  4.45266836e-01, -2.65375244e-01,\n",
       "        -2.39140994e-01],\n",
       "       [-2.60820287e+00,  1.82847519e+00,  5.14195182e-02,\n",
       "         2.31922593e-01],\n",
       "       [-2.43795086e+00,  2.18539162e+00, -7.93497549e-02,\n",
       "         5.10210291e-02],\n",
       "       [-2.18867576e+00, -4.48629048e-01, -2.46559522e-01,\n",
       "         3.99073035e-02],\n",
       "       [-2.21111990e+00, -1.84337811e-01, -2.18624528e-01,\n",
       "        -1.68619769e-01],\n",
       "       [-2.04441652e+00,  6.84956426e-01, -4.79411570e-01,\n",
       "        -1.95613314e-01],\n",
       "       [-2.18867576e+00, -4.48629048e-01, -2.46559522e-01,\n",
       "         3.99073035e-02],\n",
       "       [-2.43595220e+00, -8.82169415e-01,  2.01557587e-01,\n",
       "         9.96079072e-03],\n",
       "       [-2.17054720e+00,  2.92726955e-01, -1.69938536e-01,\n",
       "        -6.24028506e-03],\n",
       "       [-2.28652724e+00,  4.67991716e-01,  4.07365390e-02,\n",
       "        -1.05718261e-01],\n",
       "       [-1.87170722e+00, -2.32769161e+00, -1.94528610e-01,\n",
       "        -2.91692982e-01],\n",
       "       [-2.55783442e+00, -4.53816380e-01,  3.13571838e-01,\n",
       "         6.74111170e-02],\n",
       "       [-1.96427929e+00,  4.97391640e-01,  3.14755610e-01,\n",
       "        -1.75540206e-01],\n",
       "       [-2.13337283e+00,  1.17143211e+00,  2.52793222e-01,\n",
       "         1.53228807e-01],\n",
       "       [-2.07535759e+00, -6.91917347e-01, -5.65590082e-02,\n",
       "        -1.40294980e-01],\n",
       "       [-2.38125822e+00,  1.15063259e+00,  6.21019035e-02,\n",
       "         1.54218569e-01],\n",
       "       [-2.39819169e+00, -3.62390765e-01,  1.46855632e-01,\n",
       "         4.94784238e-02],\n",
       "       [-2.22678121e+00,  1.02548255e+00, -1.76645302e-01,\n",
       "         1.64443096e-02],\n",
       "       [-2.20595417e+00,  3.22378453e-02, -1.46593527e-01,\n",
       "        -4.87782024e-02],\n",
       "       [ 1.10399365e+00,  8.63112446e-01, -6.85555108e-01,\n",
       "        -3.49778613e-02],\n",
       "       [ 7.32481440e-01,  5.98635573e-01, -9.40668020e-02,\n",
       "        -4.45376367e-03],\n",
       "       [ 1.24210951e+00,  6.14822450e-01, -5.54846534e-01,\n",
       "        -9.67335738e-03],\n",
       "       [ 3.97307283e-01, -1.75816895e+00, -1.85694824e-02,\n",
       "        -6.73978468e-02],\n",
       "       [ 1.07259395e+00, -2.11757903e-01, -3.97447438e-01,\n",
       "        -1.05541662e-01],\n",
       "       [ 3.84458146e-01, -5.91062469e-01,  1.26797690e-01,\n",
       "         2.40528082e-01],\n",
       "       [ 7.48715076e-01,  7.78698611e-01,  1.48656023e-01,\n",
       "         7.83010665e-02],\n",
       "       [-4.97863388e-01, -1.84886877e+00,  2.55555250e-01,\n",
       "         3.93891395e-02],\n",
       "       [ 9.26222368e-01,  3.03308268e-02, -5.95459889e-01,\n",
       "         2.91024204e-02],\n",
       "       [ 4.96802558e-03, -1.02940111e+00,  5.42867049e-01,\n",
       "         2.83487629e-02],\n",
       "       [-1.24697461e-01, -2.65806268e+00, -3.98134482e-02,\n",
       "        -1.61405573e-02],\n",
       "       [ 4.38730118e-01, -5.88812850e-02,  2.06703491e-01,\n",
       "        -3.98514578e-02],\n",
       "       [ 5.51633981e-01, -1.77258156e+00, -7.61380223e-01,\n",
       "        -4.83536968e-02],\n",
       "       [ 7.17165066e-01, -1.85434315e-01, -6.72998424e-02,\n",
       "         1.64555675e-01],\n",
       "       [-3.72583830e-02, -4.32795099e-01,  1.98061449e-01,\n",
       "        -1.09025121e-01],\n",
       "       [ 8.75890536e-01,  5.09998151e-01, -5.03505832e-01,\n",
       "        -1.05141287e-01],\n",
       "       [ 3.48006402e-01, -1.90621647e-01,  4.92831518e-01,\n",
       "         1.92059489e-01],\n",
       "       [ 1.53392545e-01, -7.90725456e-01, -2.98604516e-01,\n",
       "         2.04321215e-01],\n",
       "       [ 1.21530321e+00, -1.63335564e+00, -4.79409914e-01,\n",
       "        -2.28214500e-01],\n",
       "       [ 1.56941176e-01, -1.30310327e+00, -1.68586746e-01,\n",
       "         5.04131971e-02],\n",
       "       [ 7.38256104e-01,  4.02470382e-01,  6.16772626e-01,\n",
       "         8.44515277e-02],\n",
       "       [ 4.72369682e-01, -4.16608222e-01, -2.62718283e-01,\n",
       "        -1.14244715e-01],\n",
       "       [ 1.22798821e+00, -9.40914793e-01, -3.66704859e-01,\n",
       "         8.44834785e-03],\n",
       "       [ 6.29381045e-01, -4.16811643e-01, -2.89962474e-01,\n",
       "         2.73494879e-01],\n",
       "       [ 7.00472799e-01, -6.34939277e-02, -4.44767559e-01,\n",
       "        -4.40812895e-02],\n",
       "       [ 8.73536987e-01,  2.50708611e-01, -4.72148886e-01,\n",
       "        -1.02121003e-01],\n",
       "       [ 1.25422219e+00, -8.26200998e-02, -7.26843529e-01,\n",
       "        -4.08294177e-02],\n",
       "       [ 1.35823985e+00,  3.28820266e-01, -2.61458074e-01,\n",
       "        -6.70137909e-02],\n",
       "       [ 6.62126138e-01, -2.24346071e-01,  8.73681069e-02,\n",
       "         3.63525363e-02],\n",
       "       [-4.72815133e-02, -1.05721241e+00, -3.15319195e-01,\n",
       "        -6.60077099e-02],\n",
       "       [ 1.21534209e-01, -1.56359238e+00, -1.45241738e-01,\n",
       "         7.87527979e-03],\n",
       "       [ 1.41182261e-02, -1.57339235e+00, -2.36581428e-01,\n",
       "         3.11492615e-02],\n",
       "       [ 2.36010837e-01, -7.75923784e-01, -1.47972885e-01,\n",
       "        -2.44595546e-02],\n",
       "       [ 1.05669143e+00, -6.36901284e-01,  1.06753234e-01,\n",
       "         1.83419236e-01],\n",
       "       [ 2.21417088e-01, -2.80847693e-01,  6.67559660e-01,\n",
       "         2.55550383e-01],\n",
       "       [ 4.31783161e-01,  8.55136920e-01,  4.50731487e-01,\n",
       "         1.11146169e-01],\n",
       "       [ 1.04941336e+00,  5.22197265e-01, -3.96142266e-01,\n",
       "        -3.72988658e-02],\n",
       "       [ 1.03587821e+00, -1.39246648e+00, -6.85434303e-01,\n",
       "        -1.39128619e-01],\n",
       "       [ 6.70675999e-02, -2.12620735e-01,  2.94128262e-01,\n",
       "         1.47491049e-01],\n",
       "       [ 2.75425066e-01, -1.32981591e+00,  9.34447685e-02,\n",
       "        -9.94752060e-03],\n",
       "       [ 2.72335066e-01, -1.11944152e+00,  9.81718909e-02,\n",
       "         2.69842632e-01],\n",
       "       [ 6.23170540e-01,  2.75426333e-02, -1.93046544e-02,\n",
       "         1.47722637e-01],\n",
       "       [ 3.30005364e-01, -9.88900732e-01, -1.95968073e-01,\n",
       "        -7.62651620e-03],\n",
       "       [-3.73627623e-01, -2.01793227e+00,  1.12184053e-01,\n",
       "        -2.10814710e-02],\n",
       "       [ 2.82944343e-01, -8.53950717e-01,  1.34118823e-01,\n",
       "         1.06873761e-01],\n",
       "       [ 8.90531103e-02, -1.74908548e-01,  1.31448375e-01,\n",
       "         2.30135987e-01],\n",
       "       [ 2.24356783e-01, -3.80484659e-01,  1.58769003e-01,\n",
       "         1.32578640e-01],\n",
       "       [ 5.73883486e-01, -1.53719974e-01, -2.70039416e-01,\n",
       "         1.94096051e-02],\n",
       "       [-4.57012873e-01, -1.53946451e+00,  1.96126173e-01,\n",
       "        -2.00883380e-01],\n",
       "       [ 2.52244473e-01, -5.95860746e-01,  9.47499397e-02,\n",
       "         5.82952756e-02],\n",
       "       [ 1.84767259e+00,  8.71696662e-01,  1.00276099e+00,\n",
       "         5.10680368e-02],\n",
       "       [ 1.15318981e+00, -7.01326114e-01,  5.31464635e-01,\n",
       "         4.04135807e-02],\n",
       "       [ 2.20634950e+00,  5.54470105e-01, -2.05495910e-01,\n",
       "        -5.93004996e-02],\n",
       "       [ 1.43868540e+00, -5.00105223e-02,  1.63390464e-01,\n",
       "         2.35759861e-01],\n",
       "       [ 1.86789070e+00,  2.91192802e-01,  3.94004333e-01,\n",
       "         1.67817996e-02],\n",
       "       [ 2.75419671e+00,  7.88432206e-01, -5.86232704e-01,\n",
       "         1.00879674e-01],\n",
       "       [ 3.58374475e-01, -1.56009458e+00,  9.90999895e-01,\n",
       "         1.32987438e-01],\n",
       "       [ 2.30300590e+00,  4.09516695e-01, -6.54166687e-01,\n",
       "         2.37212798e-01],\n",
       "       [ 2.00173530e+00, -7.23865359e-01, -3.94070448e-01,\n",
       "         8.49938224e-02],\n",
       "       [ 2.26755460e+00,  1.92144299e+00,  3.92517658e-01,\n",
       "        -1.02907298e-01],\n",
       "       [ 1.36590943e+00,  6.93948040e-01,  2.83279516e-01,\n",
       "        -1.07010918e-01],\n",
       "       [ 1.59906459e+00, -4.28248836e-01,  2.33040821e-02,\n",
       "        -5.89427002e-02],\n",
       "       [ 1.88425185e+00,  4.14332758e-01,  2.45485540e-02,\n",
       "        -1.46296964e-01],\n",
       "       [ 1.25308651e+00, -1.16739134e+00,  5.82130271e-01,\n",
       "        -9.96816830e-02],\n",
       "       [ 1.46406152e+00, -4.44147569e-01,  1.00411052e+00,\n",
       "        -2.75022173e-01],\n",
       "       [ 1.59180930e+00,  6.77035372e-01,  6.36650721e-01,\n",
       "        -1.90645618e-01],\n",
       "       [ 1.47128019e+00,  2.53192472e-01,  3.66575092e-02,\n",
       "         1.55435928e-01],\n",
       "       [ 2.43737848e+00,  2.55675734e+00, -1.34200082e-01,\n",
       "         2.75661550e-01],\n",
       "       [ 3.30914118e+00, -2.36132010e-03, -7.06933959e-01,\n",
       "        -4.67561875e-02],\n",
       "       [ 1.25398099e+00, -1.71758384e+00, -2.64622084e-01,\n",
       "         6.30674020e-02],\n",
       "       [ 2.04049626e+00,  9.07398765e-01,  2.31878114e-01,\n",
       "        -1.67140048e-01],\n",
       "       [ 9.73915114e-01, -5.71174376e-01,  8.29503781e-01,\n",
       "        -2.73189478e-02],\n",
       "       [ 2.89806444e+00,  3.97791359e-01, -8.60926842e-01,\n",
       "         1.26074286e-01],\n",
       "       [ 1.32919369e+00, -4.86760542e-01, -4.70734933e-03,\n",
       "        -1.40597876e-01],\n",
       "       [ 1.70424071e+00,  1.01414842e+00,  2.95957877e-01,\n",
       "         6.27403760e-02],\n",
       "       [ 1.95772766e+00,  1.00333452e+00, -4.22817052e-01,\n",
       "         2.18459131e-01],\n",
       "       [ 1.17190451e+00, -3.18896617e-01,  1.30651910e-01,\n",
       "        -1.25685467e-01],\n",
       "       [ 1.01978105e+00,  6.55429631e-02,  3.38042170e-01,\n",
       "         9.06850833e-03],\n",
       "       [ 1.78600886e+00, -1.93272800e-01,  2.70002526e-01,\n",
       "        -3.12072991e-02],\n",
       "       [ 1.86477791e+00,  5.55381532e-01, -7.17510683e-01,\n",
       "         2.07556768e-01],\n",
       "       [ 2.43549739e+00,  2.46654468e-01, -7.30234006e-01,\n",
       "         1.67936017e-02],\n",
       "       [ 2.31608241e+00,  2.62618387e+00, -4.99619543e-01,\n",
       "         2.13160418e-01],\n",
       "       [ 1.86037143e+00, -1.84672394e-01,  3.53330279e-01,\n",
       "        -1.00039482e-01],\n",
       "       [ 1.11127173e+00, -2.95986102e-01, -1.82659608e-01,\n",
       "         1.85740240e-01],\n",
       "       [ 1.19746916e+00, -8.17167742e-01, -1.63213782e-01,\n",
       "         4.88404000e-01],\n",
       "       [ 2.80094940e+00,  8.44748194e-01, -5.47000957e-01,\n",
       "        -2.96321147e-01],\n",
       "       [ 1.58015525e+00,  1.07247450e+00,  9.43392608e-01,\n",
       "        -3.36074229e-02],\n",
       "       [ 1.34704442e+00,  4.22255966e-01,  1.80028706e-01,\n",
       "         2.15906539e-01],\n",
       "       [ 9.23432978e-01,  1.92303705e-02,  4.17394303e-01,\n",
       "        -4.74424586e-03],\n",
       "       [ 1.85355198e+00,  6.72422729e-01, -1.48203294e-02,\n",
       "        -1.94875449e-01],\n",
       "       [ 2.01615720e+00,  6.10397038e-01,  4.25914947e-01,\n",
       "        -2.46764702e-01],\n",
       "       [ 1.90311686e+00,  6.86024832e-01,  1.27799364e-01,\n",
       "        -4.69214421e-01],\n",
       "       [ 1.15318981e+00, -7.01326114e-01,  5.31464635e-01,\n",
       "         4.04135807e-02],\n",
       "       [ 2.04330844e+00,  8.64684880e-01,  3.35266061e-01,\n",
       "        -4.42781979e-02],\n",
       "       [ 2.00169097e+00,  1.04855005e+00,  6.29268888e-01,\n",
       "        -2.12588357e-01],\n",
       "       [ 1.87052207e+00,  3.82821838e-01,  2.54532319e-01,\n",
       "        -3.88890487e-01],\n",
       "       [ 1.55849189e+00, -9.05313601e-01, -2.53819099e-02,\n",
       "        -2.21322184e-01],\n",
       "       [ 1.52084506e+00,  2.66794575e-01,  1.79277203e-01,\n",
       "        -1.18903043e-01],\n",
       "       [ 1.37639119e+00,  1.01636193e+00,  9.31405052e-01,\n",
       "        -2.41461953e-02],\n",
       "       [ 9.59298576e-01, -2.22839447e-02,  5.28794187e-01,\n",
       "         1.63675806e-01]])"
      ]
     },
     "execution_count": 67,
     "metadata": {},
     "output_type": "execute_result"
    }
   ],
   "source": [
    "#Initialize pca object with 4 components\n",
    "\n",
    "pca = PCA(n_components=4)\n",
    "\n",
    "\n",
    "#Fit and transform scaled iris data using pca\n",
    "iris_pca = pca.fit_transform(Xs)\n",
    "\n",
    "iris_pca"
   ]
  },
  {
   "cell_type": "code",
   "execution_count": 71,
   "metadata": {},
   "outputs": [
    {
     "data": {
      "text/plain": [
       "array([ 0.52237162, -0.26335492,  0.58125401,  0.56561105])"
      ]
     },
     "execution_count": 71,
     "metadata": {},
     "output_type": "execute_result"
    }
   ],
   "source": [
    "# the components_ are the eigenvectors. For now, just know that we are using \n",
    "# them to transform the data.\n",
    "\n",
    "first_pc = pca.components_[0]\n",
    "second_pc = pca.components_[1]\n",
    "\n",
    "first_pc"
   ]
  },
  {
   "cell_type": "code",
   "execution_count": 72,
   "metadata": {},
   "outputs": [
    {
     "data": {
      "text/plain": [
       "array([0.37231836, 0.92555649, 0.02109478, 0.06541577])"
      ]
     },
     "execution_count": 72,
     "metadata": {},
     "output_type": "execute_result"
    }
   ],
   "source": [
    "second_pc"
   ]
  },
  {
   "cell_type": "code",
   "execution_count": 73,
   "metadata": {},
   "outputs": [
    {
     "data": {
      "text/plain": [
       "array([2.93035378, 0.92740362, 0.14834223, 0.02074601])"
      ]
     },
     "execution_count": 73,
     "metadata": {},
     "output_type": "execute_result"
    }
   ],
   "source": [
    "#Explained variance\n",
    "\n",
    "pca.explained_variance_"
   ]
  },
  {
   "cell_type": "code",
   "execution_count": 74,
   "metadata": {},
   "outputs": [
    {
     "data": {
      "text/plain": [
       "array([0.72770452, 0.23030523, 0.03683832, 0.00515193])"
      ]
     },
     "execution_count": 74,
     "metadata": {},
     "output_type": "execute_result"
    }
   ],
   "source": [
    "#Explained variance ratio\n",
    "pca.explained_variance_ratio_\n"
   ]
  },
  {
   "cell_type": "code",
   "execution_count": 75,
   "metadata": {},
   "outputs": [
    {
     "data": {
      "text/plain": [
       "array([0.72770452, 0.95800975, 0.99484807, 1.        ])"
      ]
     },
     "execution_count": 75,
     "metadata": {},
     "output_type": "execute_result"
    }
   ],
   "source": [
    "pca.explained_variance_ratio_.cumsum()\n"
   ]
  },
  {
   "cell_type": "code",
   "execution_count": null,
   "metadata": {},
   "outputs": [],
   "source": []
  },
  {
   "cell_type": "code",
   "execution_count": null,
   "metadata": {},
   "outputs": [],
   "source": []
  },
  {
   "cell_type": "code",
   "execution_count": 77,
   "metadata": {},
   "outputs": [
    {
     "data": {
      "text/plain": [
       "<matplotlib.patches.FancyArrow at 0x1a1ffc5438>"
      ]
     },
     "execution_count": 77,
     "metadata": {},
     "output_type": "execute_result"
    },
    {
     "data": {
      "image/png": "[encoded data removed]",
      "text/plain": [
       "<matplotlib.figure.Figure at 0x1a1fdf4dd8>"
      ]
     },
     "metadata": {},
     "output_type": "display_data"
    }
   ],
   "source": [
    "# The points presented above indicates the direction of each PCA. lets plot them to see the direction of each \n",
    "\n",
    "x1 = pca.components_[0][0]\n",
    "x2 = pca.components_[0][1]\n",
    "\n",
    "y1 = pca.components_[1][0]\n",
    "y2 = pca.components_[1][1]\n",
    "\n",
    "plt.axis([-.5, 2, -0.9, 2])\n",
    "plt.arrow(0,0,x1,x2, color = 'black', width = .07)\n",
    "plt.arrow(0,0,y1,y2, color = 'brown', width = .07)"
   ]
  },
  {
   "cell_type": "markdown",
   "metadata": {},
   "source": [
    " The black arrow shows the direction of the first principal component. the graph above shows the projections of the data into those axes."
   ]
  },
  {
   "cell_type": "code",
   "execution_count": 79,
   "metadata": {},
   "outputs": [
    {
     "data": {
      "text/plain": [
       "<matplotlib.patches.FancyArrow at 0x1a2084b198>"
      ]
     },
     "execution_count": 79,
     "metadata": {},
     "output_type": "execute_result"
    },
    {
     "data": {
      "image/png": "[encoded data removed]",
      "text/plain": [
       "<matplotlib.figure.Figure at 0x1a1feab7b8>"
      ]
     },
     "metadata": {},
     "output_type": "display_data"
    }
   ],
   "source": [
    "plt.figure(figsize=(9, 7))\n",
    "plt.scatter(iris_pca[:, 0], iris_pca[:, 1], c = colors, alpha=.4, s = 50)\n",
    "plt.xlabel(\"Principal Component 1\")\n",
    "plt.ylabel(\"Principal Component 2\")\n",
    "plt.arrow(0,0,x1,x2, color = 'brown', width = .1)\n",
    "plt.arrow(0,0,y1,y2, color = 'black', width = .1)\n"
   ]
  },
  {
   "cell_type": "code",
   "execution_count": null,
   "metadata": {},
   "outputs": [],
   "source": []
  },
  {
   "cell_type": "markdown",
   "metadata": {},
   "source": [
    "### NBA Player data"
   ]
  },
  {
   "cell_type": "code",
   "execution_count": 128,
   "metadata": {},
   "outputs": [
    {
     "data": {
      "text/html": [
       "<div>\n",
       "<style scoped>\n",
       "    .dataframe tbody tr th:only-of-type {\n",
       "        vertical-align: middle;\n",
       "    }\n",
       "\n",
       "    .dataframe tbody tr th {\n",
       "        vertical-align: top;\n",
       "    }\n",
       "\n",
       "    .dataframe thead th {\n",
       "        text-align: right;\n",
       "    }\n",
       "</style>\n",
       "<table border=\"1\" class=\"dataframe\">\n",
       "  <thead>\n",
       "    <tr style=\"text-align: right;\">\n",
       "      <th></th>\n",
       "      <th>GP</th>\n",
       "      <th>MIN</th>\n",
       "      <th>PTS</th>\n",
       "      <th>FGM</th>\n",
       "      <th>FGA</th>\n",
       "      <th>FG%</th>\n",
       "      <th>3PM</th>\n",
       "      <th>3PA</th>\n",
       "      <th>3P%</th>\n",
       "      <th>FTM</th>\n",
       "      <th>FTA</th>\n",
       "      <th>FT%</th>\n",
       "      <th>OREB</th>\n",
       "      <th>DREB</th>\n",
       "      <th>REB</th>\n",
       "      <th>AST</th>\n",
       "      <th>STL</th>\n",
       "      <th>BLK</th>\n",
       "      <th>TOV</th>\n",
       "      <th>EFF</th>\n",
       "    </tr>\n",
       "  </thead>\n",
       "  <tbody>\n",
       "    <tr>\n",
       "      <th>Russell Westbrook</th>\n",
       "      <td>81</td>\n",
       "      <td>34.6</td>\n",
       "      <td>31.6</td>\n",
       "      <td>10.2</td>\n",
       "      <td>24.0</td>\n",
       "      <td>42.5</td>\n",
       "      <td>2.5</td>\n",
       "      <td>7.2</td>\n",
       "      <td>34.3</td>\n",
       "      <td>8.8</td>\n",
       "      <td>10.4</td>\n",
       "      <td>84.5</td>\n",
       "      <td>1.7</td>\n",
       "      <td>9.0</td>\n",
       "      <td>10.7</td>\n",
       "      <td>10.4</td>\n",
       "      <td>1.6</td>\n",
       "      <td>0.4</td>\n",
       "      <td>5.4</td>\n",
       "      <td>33.8</td>\n",
       "    </tr>\n",
       "    <tr>\n",
       "      <th>James Harden</th>\n",
       "      <td>81</td>\n",
       "      <td>36.4</td>\n",
       "      <td>29.1</td>\n",
       "      <td>8.3</td>\n",
       "      <td>18.9</td>\n",
       "      <td>44.0</td>\n",
       "      <td>3.2</td>\n",
       "      <td>9.3</td>\n",
       "      <td>34.7</td>\n",
       "      <td>9.2</td>\n",
       "      <td>10.9</td>\n",
       "      <td>84.7</td>\n",
       "      <td>1.2</td>\n",
       "      <td>7.0</td>\n",
       "      <td>8.1</td>\n",
       "      <td>11.2</td>\n",
       "      <td>1.5</td>\n",
       "      <td>0.5</td>\n",
       "      <td>5.7</td>\n",
       "      <td>32.4</td>\n",
       "    </tr>\n",
       "    <tr>\n",
       "      <th>Isaiah Thomas</th>\n",
       "      <td>76</td>\n",
       "      <td>33.8</td>\n",
       "      <td>28.9</td>\n",
       "      <td>9.0</td>\n",
       "      <td>19.4</td>\n",
       "      <td>46.3</td>\n",
       "      <td>3.2</td>\n",
       "      <td>8.5</td>\n",
       "      <td>37.9</td>\n",
       "      <td>7.8</td>\n",
       "      <td>8.5</td>\n",
       "      <td>90.9</td>\n",
       "      <td>0.6</td>\n",
       "      <td>2.1</td>\n",
       "      <td>2.7</td>\n",
       "      <td>5.9</td>\n",
       "      <td>0.9</td>\n",
       "      <td>0.2</td>\n",
       "      <td>2.8</td>\n",
       "      <td>24.7</td>\n",
       "    </tr>\n",
       "    <tr>\n",
       "      <th>Anthony Davis</th>\n",
       "      <td>75</td>\n",
       "      <td>36.1</td>\n",
       "      <td>28.0</td>\n",
       "      <td>10.3</td>\n",
       "      <td>20.3</td>\n",
       "      <td>50.5</td>\n",
       "      <td>0.5</td>\n",
       "      <td>1.8</td>\n",
       "      <td>29.9</td>\n",
       "      <td>6.9</td>\n",
       "      <td>8.6</td>\n",
       "      <td>80.2</td>\n",
       "      <td>2.3</td>\n",
       "      <td>9.5</td>\n",
       "      <td>11.8</td>\n",
       "      <td>2.1</td>\n",
       "      <td>1.3</td>\n",
       "      <td>2.2</td>\n",
       "      <td>2.4</td>\n",
       "      <td>31.1</td>\n",
       "    </tr>\n",
       "    <tr>\n",
       "      <th>DeMar DeRozan</th>\n",
       "      <td>74</td>\n",
       "      <td>35.4</td>\n",
       "      <td>27.3</td>\n",
       "      <td>9.7</td>\n",
       "      <td>20.9</td>\n",
       "      <td>46.7</td>\n",
       "      <td>0.4</td>\n",
       "      <td>1.7</td>\n",
       "      <td>26.6</td>\n",
       "      <td>7.4</td>\n",
       "      <td>8.7</td>\n",
       "      <td>84.2</td>\n",
       "      <td>0.9</td>\n",
       "      <td>4.3</td>\n",
       "      <td>5.2</td>\n",
       "      <td>3.9</td>\n",
       "      <td>1.1</td>\n",
       "      <td>0.2</td>\n",
       "      <td>2.4</td>\n",
       "      <td>22.7</td>\n",
       "    </tr>\n",
       "  </tbody>\n",
       "</table>\n",
       "</div>"
      ],
      "text/plain": [
       "                   GP   MIN   PTS   FGM   FGA   FG%  3PM  3PA   3P%  FTM  \\\n",
       "Russell Westbrook  81  34.6  31.6  10.2  24.0  42.5  2.5  7.2  34.3  8.8   \n",
       "James Harden       81  36.4  29.1   8.3  18.9  44.0  3.2  9.3  34.7  9.2   \n",
       "Isaiah Thomas      76  33.8  28.9   9.0  19.4  46.3  3.2  8.5  37.9  7.8   \n",
       "Anthony Davis      75  36.1  28.0  10.3  20.3  50.5  0.5  1.8  29.9  6.9   \n",
       "DeMar DeRozan      74  35.4  27.3   9.7  20.9  46.7  0.4  1.7  26.6  7.4   \n",
       "\n",
       "                    FTA   FT%  OREB  DREB   REB   AST  STL  BLK  TOV   EFF  \n",
       "Russell Westbrook  10.4  84.5   1.7   9.0  10.7  10.4  1.6  0.4  5.4  33.8  \n",
       "James Harden       10.9  84.7   1.2   7.0   8.1  11.2  1.5  0.5  5.7  32.4  \n",
       "Isaiah Thomas       8.5  90.9   0.6   2.1   2.7   5.9  0.9  0.2  2.8  24.7  \n",
       "Anthony Davis       8.6  80.2   2.3   9.5  11.8   2.1  1.3  2.2  2.4  31.1  \n",
       "DeMar DeRozan       8.7  84.2   0.9   4.3   5.2   3.9  1.1  0.2  2.4  22.7  "
      ]
     },
     "execution_count": 128,
     "metadata": {},
     "output_type": "execute_result"
    }
   ],
   "source": [
    "#Load in the wine data\n",
    "path = '../../data/nba_player_data_1617.csv'\n",
    "\n",
    "nba = pd.read_csv(path, index_col=0)\n",
    "\n",
    "nba.head()"
   ]
  },
  {
   "cell_type": "code",
   "execution_count": 129,
   "metadata": {},
   "outputs": [
    {
     "data": {
      "text/html": [
       "<div>\n",
       "<style scoped>\n",
       "    .dataframe tbody tr th:only-of-type {\n",
       "        vertical-align: middle;\n",
       "    }\n",
       "\n",
       "    .dataframe tbody tr th {\n",
       "        vertical-align: top;\n",
       "    }\n",
       "\n",
       "    .dataframe thead th {\n",
       "        text-align: right;\n",
       "    }\n",
       "</style>\n",
       "<table border=\"1\" class=\"dataframe\">\n",
       "  <thead>\n",
       "    <tr style=\"text-align: right;\">\n",
       "      <th></th>\n",
       "      <th>PTS</th>\n",
       "      <th>OREB</th>\n",
       "      <th>REB</th>\n",
       "      <th>AST</th>\n",
       "      <th>STL</th>\n",
       "      <th>BLK</th>\n",
       "      <th>TOV</th>\n",
       "      <th>MIN</th>\n",
       "      <th>EFF</th>\n",
       "    </tr>\n",
       "  </thead>\n",
       "  <tbody>\n",
       "    <tr>\n",
       "      <th>Russell Westbrook</th>\n",
       "      <td>31.6</td>\n",
       "      <td>1.7</td>\n",
       "      <td>10.7</td>\n",
       "      <td>10.4</td>\n",
       "      <td>1.6</td>\n",
       "      <td>0.4</td>\n",
       "      <td>5.4</td>\n",
       "      <td>34.6</td>\n",
       "      <td>33.8</td>\n",
       "    </tr>\n",
       "    <tr>\n",
       "      <th>James Harden</th>\n",
       "      <td>29.1</td>\n",
       "      <td>1.2</td>\n",
       "      <td>8.1</td>\n",
       "      <td>11.2</td>\n",
       "      <td>1.5</td>\n",
       "      <td>0.5</td>\n",
       "      <td>5.7</td>\n",
       "      <td>36.4</td>\n",
       "      <td>32.4</td>\n",
       "    </tr>\n",
       "    <tr>\n",
       "      <th>Isaiah Thomas</th>\n",
       "      <td>28.9</td>\n",
       "      <td>0.6</td>\n",
       "      <td>2.7</td>\n",
       "      <td>5.9</td>\n",
       "      <td>0.9</td>\n",
       "      <td>0.2</td>\n",
       "      <td>2.8</td>\n",
       "      <td>33.8</td>\n",
       "      <td>24.7</td>\n",
       "    </tr>\n",
       "    <tr>\n",
       "      <th>Anthony Davis</th>\n",
       "      <td>28.0</td>\n",
       "      <td>2.3</td>\n",
       "      <td>11.8</td>\n",
       "      <td>2.1</td>\n",
       "      <td>1.3</td>\n",
       "      <td>2.2</td>\n",
       "      <td>2.4</td>\n",
       "      <td>36.1</td>\n",
       "      <td>31.1</td>\n",
       "    </tr>\n",
       "    <tr>\n",
       "      <th>DeMar DeRozan</th>\n",
       "      <td>27.3</td>\n",
       "      <td>0.9</td>\n",
       "      <td>5.2</td>\n",
       "      <td>3.9</td>\n",
       "      <td>1.1</td>\n",
       "      <td>0.2</td>\n",
       "      <td>2.4</td>\n",
       "      <td>35.4</td>\n",
       "      <td>22.7</td>\n",
       "    </tr>\n",
       "  </tbody>\n",
       "</table>\n",
       "</div>"
      ],
      "text/plain": [
       "                    PTS  OREB   REB   AST  STL  BLK  TOV   MIN   EFF\n",
       "Russell Westbrook  31.6   1.7  10.7  10.4  1.6  0.4  5.4  34.6  33.8\n",
       "James Harden       29.1   1.2   8.1  11.2  1.5  0.5  5.7  36.4  32.4\n",
       "Isaiah Thomas      28.9   0.6   2.7   5.9  0.9  0.2  2.8  33.8  24.7\n",
       "Anthony Davis      28.0   2.3  11.8   2.1  1.3  2.2  2.4  36.1  31.1\n",
       "DeMar DeRozan      27.3   0.9   5.2   3.9  1.1  0.2  2.4  35.4  22.7"
      ]
     },
     "execution_count": 129,
     "metadata": {},
     "output_type": "execute_result"
    }
   ],
   "source": [
    "#Filter dataset\n",
    "\n",
    "cols = [\"PTS\", \"OREB\", \"REB\", \"AST\", \"STL\", \"BLK\", \"TOV\", \"MIN\", \"EFF\"]\n",
    "\n",
    "nba = nba[cols]\n",
    "\n",
    "nba.head()\n"
   ]
  },
  {
   "cell_type": "code",
   "execution_count": 130,
   "metadata": {},
   "outputs": [],
   "source": [
    "#rename columns\n",
    "\n",
    "nba.columns = [\"points\", \"offensive_rebs\", \"total_rebounds\", \"assists\", \"steals\", \"blocks\",\n",
    "              \"turnovers\", \"minutes\", \"efficiency\"]"
   ]
  },
  {
   "cell_type": "markdown",
   "metadata": {},
   "source": [
    "First let's examine the correlations between variables"
   ]
  },
  {
   "cell_type": "code",
   "execution_count": 131,
   "metadata": {},
   "outputs": [
    {
     "data": {
      "text/html": [
       "<div>\n",
       "<style scoped>\n",
       "    .dataframe tbody tr th:only-of-type {\n",
       "        vertical-align: middle;\n",
       "    }\n",
       "\n",
       "    .dataframe tbody tr th {\n",
       "        vertical-align: top;\n",
       "    }\n",
       "\n",
       "    .dataframe thead th {\n",
       "        text-align: right;\n",
       "    }\n",
       "</style>\n",
       "<table border=\"1\" class=\"dataframe\">\n",
       "  <thead>\n",
       "    <tr style=\"text-align: right;\">\n",
       "      <th></th>\n",
       "      <th>points</th>\n",
       "      <th>offensive_rebs</th>\n",
       "      <th>total_rebounds</th>\n",
       "      <th>assists</th>\n",
       "      <th>steals</th>\n",
       "      <th>blocks</th>\n",
       "      <th>turnovers</th>\n",
       "      <th>minutes</th>\n",
       "      <th>efficiency</th>\n",
       "    </tr>\n",
       "  </thead>\n",
       "  <tbody>\n",
       "    <tr>\n",
       "      <th>points</th>\n",
       "      <td>1.000000</td>\n",
       "      <td>0.194430</td>\n",
       "      <td>0.444177</td>\n",
       "      <td>0.591217</td>\n",
       "      <td>0.513174</td>\n",
       "      <td>0.244027</td>\n",
       "      <td>0.795541</td>\n",
       "      <td>0.833035</td>\n",
       "      <td>0.894996</td>\n",
       "    </tr>\n",
       "    <tr>\n",
       "      <th>offensive_rebs</th>\n",
       "      <td>0.194430</td>\n",
       "      <td>1.000000</td>\n",
       "      <td>0.878663</td>\n",
       "      <td>-0.135596</td>\n",
       "      <td>0.061734</td>\n",
       "      <td>0.666489</td>\n",
       "      <td>0.166197</td>\n",
       "      <td>0.236639</td>\n",
       "      <td>0.489487</td>\n",
       "    </tr>\n",
       "    <tr>\n",
       "      <th>total_rebounds</th>\n",
       "      <td>0.444177</td>\n",
       "      <td>0.878663</td>\n",
       "      <td>1.000000</td>\n",
       "      <td>0.090435</td>\n",
       "      <td>0.257066</td>\n",
       "      <td>0.709474</td>\n",
       "      <td>0.400776</td>\n",
       "      <td>0.481297</td>\n",
       "      <td>0.731441</td>\n",
       "    </tr>\n",
       "    <tr>\n",
       "      <th>assists</th>\n",
       "      <td>0.591217</td>\n",
       "      <td>-0.135596</td>\n",
       "      <td>0.090435</td>\n",
       "      <td>1.000000</td>\n",
       "      <td>0.634580</td>\n",
       "      <td>-0.075879</td>\n",
       "      <td>0.828330</td>\n",
       "      <td>0.562189</td>\n",
       "      <td>0.608225</td>\n",
       "    </tr>\n",
       "    <tr>\n",
       "      <th>steals</th>\n",
       "      <td>0.513174</td>\n",
       "      <td>0.061734</td>\n",
       "      <td>0.257066</td>\n",
       "      <td>0.634580</td>\n",
       "      <td>1.000000</td>\n",
       "      <td>0.101148</td>\n",
       "      <td>0.602735</td>\n",
       "      <td>0.640755</td>\n",
       "      <td>0.575982</td>\n",
       "    </tr>\n",
       "    <tr>\n",
       "      <th>blocks</th>\n",
       "      <td>0.244027</td>\n",
       "      <td>0.666489</td>\n",
       "      <td>0.709474</td>\n",
       "      <td>-0.075879</td>\n",
       "      <td>0.101148</td>\n",
       "      <td>1.000000</td>\n",
       "      <td>0.186895</td>\n",
       "      <td>0.277724</td>\n",
       "      <td>0.487780</td>\n",
       "    </tr>\n",
       "    <tr>\n",
       "      <th>turnovers</th>\n",
       "      <td>0.795541</td>\n",
       "      <td>0.166197</td>\n",
       "      <td>0.400776</td>\n",
       "      <td>0.828330</td>\n",
       "      <td>0.602735</td>\n",
       "      <td>0.186895</td>\n",
       "      <td>1.000000</td>\n",
       "      <td>0.684116</td>\n",
       "      <td>0.791712</td>\n",
       "    </tr>\n",
       "    <tr>\n",
       "      <th>minutes</th>\n",
       "      <td>0.833035</td>\n",
       "      <td>0.236639</td>\n",
       "      <td>0.481297</td>\n",
       "      <td>0.562189</td>\n",
       "      <td>0.640755</td>\n",
       "      <td>0.277724</td>\n",
       "      <td>0.684116</td>\n",
       "      <td>1.000000</td>\n",
       "      <td>0.814198</td>\n",
       "    </tr>\n",
       "    <tr>\n",
       "      <th>efficiency</th>\n",
       "      <td>0.894996</td>\n",
       "      <td>0.489487</td>\n",
       "      <td>0.731441</td>\n",
       "      <td>0.608225</td>\n",
       "      <td>0.575982</td>\n",
       "      <td>0.487780</td>\n",
       "      <td>0.791712</td>\n",
       "      <td>0.814198</td>\n",
       "      <td>1.000000</td>\n",
       "    </tr>\n",
       "  </tbody>\n",
       "</table>\n",
       "</div>"
      ],
      "text/plain": [
       "                  points  offensive_rebs  total_rebounds   assists    steals  \\\n",
       "points          1.000000        0.194430        0.444177  0.591217  0.513174   \n",
       "offensive_rebs  0.194430        1.000000        0.878663 -0.135596  0.061734   \n",
       "total_rebounds  0.444177        0.878663        1.000000  0.090435  0.257066   \n",
       "assists         0.591217       -0.135596        0.090435  1.000000  0.634580   \n",
       "steals          0.513174        0.061734        0.257066  0.634580  1.000000   \n",
       "blocks          0.244027        0.666489        0.709474 -0.075879  0.101148   \n",
       "turnovers       0.795541        0.166197        0.400776  0.828330  0.602735   \n",
       "minutes         0.833035        0.236639        0.481297  0.562189  0.640755   \n",
       "efficiency      0.894996        0.489487        0.731441  0.608225  0.575982   \n",
       "\n",
       "                  blocks  turnovers   minutes  efficiency  \n",
       "points          0.244027   0.795541  0.833035    0.894996  \n",
       "offensive_rebs  0.666489   0.166197  0.236639    0.489487  \n",
       "total_rebounds  0.709474   0.400776  0.481297    0.731441  \n",
       "assists        -0.075879   0.828330  0.562189    0.608225  \n",
       "steals          0.101148   0.602735  0.640755    0.575982  \n",
       "blocks          1.000000   0.186895  0.277724    0.487780  \n",
       "turnovers       0.186895   1.000000  0.684116    0.791712  \n",
       "minutes         0.277724   0.684116  1.000000    0.814198  \n",
       "efficiency      0.487780   0.791712  0.814198    1.000000  "
      ]
     },
     "execution_count": 131,
     "metadata": {},
     "output_type": "execute_result"
    }
   ],
   "source": [
    "#Correlation heatmap\n",
    "\n",
    "nba.corr()"
   ]
  },
  {
   "cell_type": "code",
   "execution_count": 132,
   "metadata": {},
   "outputs": [
    {
     "data": {
      "text/plain": [
       "<matplotlib.axes._subplots.AxesSubplot at 0x1a22fb6208>"
      ]
     },
     "execution_count": 132,
     "metadata": {},
     "output_type": "execute_result"
    },
    {
     "data": {
      "image/png": "[encoded data removed]",
      "text/plain": [
       "<matplotlib.figure.Figure at 0x1a22defdd8>"
      ]
     },
     "metadata": {},
     "output_type": "display_data"
    }
   ],
   "source": [
    "plt.figure(figsize=(15,8))\n",
    "sns.heatmap(nba.corr())"
   ]
  },
  {
   "cell_type": "markdown",
   "metadata": {},
   "source": [
    "What do you make of this plot?"
   ]
  },
  {
   "cell_type": "code",
   "execution_count": null,
   "metadata": {},
   "outputs": [],
   "source": []
  },
  {
   "cell_type": "code",
   "execution_count": null,
   "metadata": {},
   "outputs": [],
   "source": []
  },
  {
   "cell_type": "code",
   "execution_count": null,
   "metadata": {},
   "outputs": [],
   "source": []
  },
  {
   "cell_type": "code",
   "execution_count": null,
   "metadata": {},
   "outputs": [],
   "source": []
  },
  {
   "cell_type": "markdown",
   "metadata": {},
   "source": [
    "One benefit of PCA is that it can deal with multicollinearity pretty well because multicollinearity simply means that you have excess dimensions in your data."
   ]
  },
  {
   "cell_type": "code",
   "execution_count": null,
   "metadata": {},
   "outputs": [],
   "source": []
  },
  {
   "cell_type": "code",
   "execution_count": null,
   "metadata": {},
   "outputs": [],
   "source": []
  },
  {
   "cell_type": "code",
   "execution_count": null,
   "metadata": {},
   "outputs": [],
   "source": []
  },
  {
   "cell_type": "markdown",
   "metadata": {},
   "source": [
    "Let's go ahead and transform our data with PCA. But first we have to standardize it."
   ]
  },
  {
   "cell_type": "code",
   "execution_count": null,
   "metadata": {},
   "outputs": [],
   "source": []
  },
  {
   "cell_type": "code",
   "execution_count": null,
   "metadata": {},
   "outputs": [],
   "source": []
  },
  {
   "cell_type": "code",
   "execution_count": 133,
   "metadata": {},
   "outputs": [],
   "source": [
    "#Intialize scaler\n",
    "\n",
    "ss = StandardScaler()\n",
    "\n",
    "\n",
    "#Fit and transform wine data using standard scaler\n",
    "\n",
    "Xs = ss.fit_transform(nba)\n"
   ]
  },
  {
   "cell_type": "code",
   "execution_count": null,
   "metadata": {},
   "outputs": [],
   "source": []
  },
  {
   "cell_type": "code",
   "execution_count": 134,
   "metadata": {},
   "outputs": [
    {
     "data": {
      "text/plain": [
       "9"
      ]
     },
     "execution_count": 134,
     "metadata": {},
     "output_type": "execute_result"
    }
   ],
   "source": [
    "#Intialize PCA object\n",
    "#We're deliberating leaving the n_components parameters alone\n",
    "\n",
    "pca = PCA()\n",
    "\n",
    "\n",
    "#Fit and transform wine_s use pca\n",
    "\n",
    "nba_pca = pca.fit_transform(Xs)\n",
    "\n",
    "#Number of components\n",
    "pca.n_components_\n"
   ]
  },
  {
   "cell_type": "code",
   "execution_count": null,
   "metadata": {},
   "outputs": [],
   "source": []
  },
  {
   "cell_type": "code",
   "execution_count": null,
   "metadata": {},
   "outputs": [],
   "source": []
  },
  {
   "cell_type": "markdown",
   "metadata": {},
   "source": [
    "We did not reduce any of the dimensions of the dataset because we are going to visualize how much variance is explained by all 9 dimensions."
   ]
  },
  {
   "cell_type": "code",
   "execution_count": null,
   "metadata": {},
   "outputs": [],
   "source": []
  },
  {
   "cell_type": "code",
   "execution_count": null,
   "metadata": {},
   "outputs": [],
   "source": []
  },
  {
   "cell_type": "markdown",
   "metadata": {},
   "source": [
    "Plot the variance explained ratio of the components"
   ]
  },
  {
   "cell_type": "code",
   "execution_count": 135,
   "metadata": {},
   "outputs": [
    {
     "data": {
      "text/plain": [
       "array([5.06408585, 2.2644199 , 0.53308642, 0.45380229, 0.37409849,\n",
       "       0.15353813, 0.10813828, 0.07664667, 0.00551731])"
      ]
     },
     "execution_count": 135,
     "metadata": {},
     "output_type": "execute_result"
    }
   ],
   "source": [
    "#Shows the percentage of the variance explained by each component\n",
    "\n",
    "pca.explained_variance_"
   ]
  },
  {
   "cell_type": "code",
   "execution_count": 136,
   "metadata": {},
   "outputs": [
    {
     "data": {
      "text/plain": [
       "array([0.56059991, 0.25067379, 0.05901326, 0.05023642, 0.04141312,\n",
       "       0.01699684, 0.01197103, 0.00848487, 0.00061077])"
      ]
     },
     "execution_count": 136,
     "metadata": {},
     "output_type": "execute_result"
    }
   ],
   "source": [
    "pca.explained_variance_ratio_"
   ]
  },
  {
   "cell_type": "code",
   "execution_count": 137,
   "metadata": {},
   "outputs": [
    {
     "data": {
      "text/plain": [
       "array([5.06408585, 7.32850574, 7.86159217, 8.31539446, 8.68949295,\n",
       "       8.84303108, 8.95116936, 9.02781602, 9.03333333])"
      ]
     },
     "execution_count": 137,
     "metadata": {},
     "output_type": "execute_result"
    }
   ],
   "source": [
    "pca.explained_variance_.cumsum()"
   ]
  },
  {
   "cell_type": "code",
   "execution_count": null,
   "metadata": {},
   "outputs": [],
   "source": []
  },
  {
   "cell_type": "markdown",
   "metadata": {},
   "source": [
    "We're going to plot a bar plot of the explained variance ratios and a line plot of the cumulative sum of the explained variance ratios."
   ]
  },
  {
   "cell_type": "code",
   "execution_count": 138,
   "metadata": {},
   "outputs": [
    {
     "data": {
      "text/plain": [
       "[<matplotlib.lines.Line2D at 0x1a23264470>]"
      ]
     },
     "execution_count": 138,
     "metadata": {},
     "output_type": "execute_result"
    },
    {
     "data": {
      "image/png": "[encoded data removed]",
      "text/plain": [
       "<matplotlib.figure.Figure at 0x1a242c1080>"
      ]
     },
     "metadata": {},
     "output_type": "display_data"
    }
   ],
   "source": [
    "plt.figure(figsize=(8, 6))\n",
    "\n",
    "components = range(pca.n_components_)\n",
    "\n",
    "plt.bar(components, pca.explained_variance_, color='b')\n",
    "plt.plot(components, pca.explained_variance_.cumsum(), color='r')\n"
   ]
  },
  {
   "cell_type": "code",
   "execution_count": null,
   "metadata": {},
   "outputs": [],
   "source": []
  },
  {
   "cell_type": "code",
   "execution_count": null,
   "metadata": {},
   "outputs": [],
   "source": []
  },
  {
   "cell_type": "markdown",
   "metadata": {},
   "source": [
    "This tell us that if we view this 9-dimension data on a 2D scatter plot then we would be seeing four-fifths of the total variance in the dataset."
   ]
  },
  {
   "cell_type": "code",
   "execution_count": 139,
   "metadata": {},
   "outputs": [],
   "source": [
    "players = [u'Russell Westbrook', u'James Harden', u'Isaiah Thomas',\n",
    "       u'Anthony Davis', u'DeMar DeRozan', u'Damian Lillard',\n",
    "       u'DeMarcus Cousins', u'LeBron James', u'Kawhi Leonard',\n",
    "       u'Stephen Curry', u'Kyrie Irving', u'Karl-Anthony Towns',\n",
    "       u'Kevin Durant', u'Paul George', u'Andrew Wiggins',\n",
    "        u'John Wall', 'Giannis Antetokounmpo', 'Harrison Barnes',\n",
    "          'Kevin Love', 'DeAndre Jordan', 'Serge Ibaka', 'Enes Kanter', 'Rudy Gobert', u'Al Horford',\n",
    "          'Dwight Howard']"
   ]
  },
  {
   "cell_type": "code",
   "execution_count": 140,
   "metadata": {},
   "outputs": [
    {
     "data": {
      "text/plain": [
       "(271, 9)"
      ]
     },
     "execution_count": 140,
     "metadata": {},
     "output_type": "execute_result"
    }
   ],
   "source": [
    "nba_pca.shape"
   ]
  },
  {
   "cell_type": "code",
   "execution_count": 141,
   "metadata": {},
   "outputs": [
    {
     "data": {
      "text/plain": [
       "array([[ 8.00436427e+00, -2.21529715e+00],\n",
       "       [ 7.62979921e+00, -3.04858250e+00],\n",
       "       [ 3.29816588e+00, -2.49869697e+00],\n",
       "       [ 5.92908103e+00,  3.08761707e+00],\n",
       "       [ 3.19717509e+00, -1.47948291e+00],\n",
       "       [ 3.50970970e+00, -1.94237288e+00],\n",
       "       [ 6.05298877e+00,  9.29065687e-01],\n",
       "       [ 6.19790946e+00, -1.63423151e+00],\n",
       "       [ 3.88355897e+00, -8.74823344e-01],\n",
       "       [ 4.26301467e+00, -2.72036540e+00],\n",
       "       [ 3.10693673e+00, -2.21495510e+00],\n",
       "       [ 5.39348404e+00,  3.25924568e+00],\n",
       "       [ 4.52016816e+00,  4.25980942e-01],\n",
       "       [ 4.42497865e+00, -1.23448083e+00],\n",
       "       [ 3.76293688e+00, -1.32956851e+00],\n",
       "       [ 2.30691434e+00, -8.45092691e-01],\n",
       "       [ 2.67633860e+00, -1.95113831e+00],\n",
       "       [ 5.73607109e+00, -3.58353143e+00],\n",
       "       [ 2.14395330e+00, -1.60255446e+00],\n",
       "       [ 2.26370493e+00, -1.14739172e+00],\n",
       "       [ 5.70387622e+00,  1.00939557e+00],\n",
       "       [ 2.24009707e+00, -5.21889484e-01],\n",
       "       [ 4.05963943e+00, -2.43532408e+00],\n",
       "       [ 1.46159657e+00, -7.39827215e-01],\n",
       "       [ 2.14205878e+00, -1.80795612e+00],\n",
       "       [ 2.31211291e+00, -1.06905521e+00],\n",
       "       [ 3.46996145e+00, -6.48261152e-02],\n",
       "       [ 3.67644323e+00, -2.06644131e+00],\n",
       "       [ 2.38599669e+00,  1.44845280e+00],\n",
       "       [ 2.69823669e+00, -2.40953539e+00],\n",
       "       [ 2.81367708e+00, -2.21947807e+00],\n",
       "       [ 3.03217268e+00,  8.17962576e-02],\n",
       "       [ 1.17440483e+00, -2.25919882e-01],\n",
       "       [ 2.95666275e+00,  1.58251500e+00],\n",
       "       [ 2.24591231e+00, -8.20383304e-01],\n",
       "       [ 9.24377282e-01, -5.17555320e-01],\n",
       "       [ 2.49957411e+00,  2.38934248e+00],\n",
       "       [ 3.83689021e+00, -3.06044659e+00],\n",
       "       [ 3.25703288e+00,  3.37094500e-01],\n",
       "       [ 1.60270598e+00, -1.17476807e+00],\n",
       "       [ 2.19073914e+00, -2.49587923e+00],\n",
       "       [ 5.34938332e-01, -1.55858494e+00],\n",
       "       [ 2.06898443e+00,  2.19111958e+00],\n",
       "       [ 1.03673086e+00, -1.63739968e+00],\n",
       "       [ 4.36230826e+00,  5.37016374e+00],\n",
       "       [ 3.51103569e+00,  1.66419585e+00],\n",
       "       [ 2.95641540e-01, -7.52080694e-01],\n",
       "       [ 6.51022713e-01,  4.53963033e-02],\n",
       "       [ 1.20435610e+00, -1.13648027e+00],\n",
       "       [ 1.14678219e+00,  4.81728390e-01],\n",
       "       [ 1.74344224e+00, -2.10913411e+00],\n",
       "       [ 3.03285389e+00, -2.09296151e+00],\n",
       "       [ 2.59400199e+00, -2.42366155e+00],\n",
       "       [ 2.51358678e+00, -1.45952681e+00],\n",
       "       [-5.75858068e-01, -1.17456800e+00],\n",
       "       [ 1.32509569e+00,  2.39090734e+00],\n",
       "       [ 4.80001784e-01, -1.50802818e+00],\n",
       "       [ 2.61513405e+00,  2.08541278e+00],\n",
       "       [ 2.20358812e+00,  2.78067734e+00],\n",
       "       [-3.30487195e-01, -1.02965367e+00],\n",
       "       [ 8.59838796e-01,  8.61360661e-01],\n",
       "       [ 5.23125081e-01,  1.96921173e+00],\n",
       "       [ 6.57870789e-01,  1.46289212e+00],\n",
       "       [ 4.21140549e+00,  5.81806178e+00],\n",
       "       [ 2.40729489e+00,  8.09234927e-01],\n",
       "       [ 2.59989547e-01, -1.69661595e-01],\n",
       "       [ 1.40274882e+00,  4.53880445e-01],\n",
       "       [ 8.19726798e-01, -3.48181410e-01],\n",
       "       [ 4.30564319e-01, -1.12752864e+00],\n",
       "       [-7.13291460e-01, -6.45535332e-01],\n",
       "       [ 7.25975897e-01, -5.91827760e-01],\n",
       "       [ 6.88330655e-01, -3.96289748e-01],\n",
       "       [ 3.94081594e+00,  4.06407496e+00],\n",
       "       [-4.15155921e-01,  6.59844450e-01],\n",
       "       [ 3.54697688e+00,  4.00154930e+00],\n",
       "       [ 5.07809332e-01, -1.52281285e+00],\n",
       "       [ 1.25694373e+00,  5.47578243e-01],\n",
       "       [ 4.77228035e-01, -2.08124847e+00],\n",
       "       [-1.28400078e+00, -5.65170628e-01],\n",
       "       [ 2.01461041e+00,  8.71596810e-01],\n",
       "       [-3.25761450e-01, -1.01472043e+00],\n",
       "       [ 2.49195457e-01,  4.28016404e-01],\n",
       "       [ 2.26586904e+00,  3.78708854e-01],\n",
       "       [ 8.02799828e-01,  2.65989955e-01],\n",
       "       [ 1.52023477e+00,  2.14518663e-03],\n",
       "       [ 1.21587606e-03, -1.49626126e+00],\n",
       "       [ 1.92756150e+00, -1.21887136e+00],\n",
       "       [ 3.49501494e-01,  5.16354374e-01],\n",
       "       [ 3.32241936e+00,  4.91197898e+00],\n",
       "       [-8.19780144e-01, -7.00870912e-01],\n",
       "       [ 1.12655619e+00,  3.02792600e+00],\n",
       "       [ 9.42591953e-01,  1.98739348e+00],\n",
       "       [-7.52606195e-01, -1.46941752e+00],\n",
       "       [-5.57093485e-01, -1.46304714e+00],\n",
       "       [ 1.15210461e+00,  2.93799039e+00],\n",
       "       [ 1.00758906e+00,  8.77835193e-01],\n",
       "       [ 1.21535246e+00, -8.07259350e-01],\n",
       "       [-4.09920865e-01,  9.68876919e-02],\n",
       "       [ 2.00850253e+00,  2.65151147e+00],\n",
       "       [ 3.90420173e-01,  1.00774483e+00],\n",
       "       [ 2.83800622e+00, -2.91609130e+00],\n",
       "       [-8.75421827e-01, -7.75041170e-01],\n",
       "       [ 1.14942194e+00,  3.75094244e-01],\n",
       "       [ 3.12494464e-01, -7.04233615e-01],\n",
       "       [-3.32713733e-02, -2.06076761e+00],\n",
       "       [ 1.89840508e-01,  1.76993579e+00],\n",
       "       [-7.15701541e-03, -7.52063423e-01],\n",
       "       [ 1.67089977e+00,  2.80562217e+00],\n",
       "       [-1.60585455e+00, -1.35627381e-01],\n",
       "       [-1.03376289e+00, -6.22479255e-01],\n",
       "       [-2.25589961e-01,  8.04427792e-01],\n",
       "       [ 1.38191409e+00, -1.40089568e+00],\n",
       "       [-1.35503571e+00, -6.11132970e-01],\n",
       "       [-1.41459903e+00, -9.91521243e-01],\n",
       "       [-1.82707938e+00, -6.99976789e-01],\n",
       "       [ 1.53419956e+00,  1.64415696e+00],\n",
       "       [ 5.20707372e-01,  3.33910447e+00],\n",
       "       [ 9.35334142e-01,  1.68221375e+00],\n",
       "       [-5.77771490e-01,  7.52017406e-01],\n",
       "       [ 8.82970796e-02, -1.48206920e+00],\n",
       "       [ 3.97104543e+00, -2.06457472e-01],\n",
       "       [ 1.09739229e+00,  2.01431639e+00],\n",
       "       [-9.32289693e-01, -1.86368904e+00],\n",
       "       [-1.25513742e+00, -6.69315965e-01],\n",
       "       [ 3.34638435e-01,  9.30922086e-01],\n",
       "       [ 1.08210676e+00,  1.00155527e+00],\n",
       "       [ 1.82097793e+00,  2.09268300e+00],\n",
       "       [-2.10805242e+00,  3.03838366e-01],\n",
       "       [-1.21918535e+00, -6.49371029e-01],\n",
       "       [ 1.74042013e-01, -1.83398971e+00],\n",
       "       [-1.61514790e+00,  3.21332860e-01],\n",
       "       [ 3.19135725e-01,  2.63957869e+00],\n",
       "       [-1.19591200e+00, -5.87818218e-01],\n",
       "       [ 1.47829537e+00, -4.76695521e-01],\n",
       "       [-1.11587993e+00, -1.62513996e+00],\n",
       "       [-7.26277173e-01, -8.27683180e-01],\n",
       "       [-4.21811206e-01, -1.12903433e-01],\n",
       "       [-2.31557837e-01, -1.38114374e+00],\n",
       "       [-5.89328571e-01, -1.04076165e+00],\n",
       "       [-1.58208553e+00, -2.85838190e-01],\n",
       "       [-1.55290390e+00, -5.38072898e-01],\n",
       "       [-6.97110693e-01,  8.54718656e-01],\n",
       "       [ 6.35136438e-01,  1.72078201e+00],\n",
       "       [-1.47757221e+00, -4.94314574e-01],\n",
       "       [-1.96996763e-01, -1.74649855e+00],\n",
       "       [-1.70159063e+00,  4.22247229e-01],\n",
       "       [-8.73890523e-01,  8.21178247e-01],\n",
       "       [-1.35159151e+00,  1.22791864e+00],\n",
       "       [ 7.73830448e-01,  6.15665939e-01],\n",
       "       [-7.19539658e-01,  2.76786377e-01],\n",
       "       [-3.21978133e-01, -6.67084769e-01],\n",
       "       [-2.26645212e+00, -2.83319829e-01],\n",
       "       [ 1.68360991e-01,  1.57879404e+00],\n",
       "       [-7.19676441e-01, -3.55203202e-02],\n",
       "       [ 7.00804087e-01,  9.20665661e-01],\n",
       "       [-1.75451635e+00,  1.03231246e+00],\n",
       "       [ 1.42007101e-01,  4.15072667e-01],\n",
       "       [-1.26072527e+00, -5.77961177e-01],\n",
       "       [-1.68958770e-01, -1.32295415e+00],\n",
       "       [-2.10989836e+00, -7.43582981e-01],\n",
       "       [-2.05072570e+00, -6.06390409e-01],\n",
       "       [-2.84325694e+00, -4.63958555e-01],\n",
       "       [-2.14967496e-01,  1.85509354e+00],\n",
       "       [-1.12782825e+00,  7.74474948e-01],\n",
       "       [-2.29838028e+00, -5.98578605e-01],\n",
       "       [-2.24684751e+00,  7.38318338e-01],\n",
       "       [ 1.11258200e+00,  3.88170248e+00],\n",
       "       [-1.17883324e+00, -2.19068313e-01],\n",
       "       [-1.63246247e-01,  2.61568330e+00],\n",
       "       [-2.25116176e+00, -5.98450891e-01],\n",
       "       [-2.14773818e+00, -1.23113712e+00],\n",
       "       [ 1.55929665e+00, -1.66038813e+00],\n",
       "       [-6.91560807e-01, -1.82617974e+00],\n",
       "       [-3.91601431e-01, -1.01129206e+00],\n",
       "       [-1.73303801e+00, -3.63541197e-01],\n",
       "       [-7.26177083e-01, -1.95561915e+00],\n",
       "       [-2.51092188e-01, -3.99198154e-01],\n",
       "       [-1.10268911e+00, -1.27961225e+00],\n",
       "       [-1.24962739e+00, -3.74208505e-01],\n",
       "       [-1.04742972e+00, -7.16257961e-01],\n",
       "       [-1.00019234e+00, -7.03365228e-01],\n",
       "       [-5.91134318e-01, -9.88330336e-02],\n",
       "       [-9.22786744e-01,  1.46284469e+00],\n",
       "       [-1.54849573e+00, -1.50360435e+00],\n",
       "       [-1.10093619e-01, -2.48823928e-01],\n",
       "       [-4.61817169e-01, -1.68578503e+00],\n",
       "       [ 8.90821439e-02,  1.06155591e+00],\n",
       "       [-7.27747241e-01, -1.73070032e+00],\n",
       "       [-5.51446794e-01, -6.36063400e-02],\n",
       "       [-1.99569750e+00,  2.42993426e-01],\n",
       "       [-1.58383659e+00,  1.42303769e-01],\n",
       "       [-7.40321732e-01, -1.33441518e+00],\n",
       "       [-6.97885764e-01, -3.42028877e-01],\n",
       "       [-1.62251474e+00,  1.05676694e+00],\n",
       "       [ 8.68779510e-01, -2.46232605e+00],\n",
       "       [-1.36246237e+00,  4.28605666e-01],\n",
       "       [-2.77377996e+00, -5.89721135e-01],\n",
       "       [-2.23997153e+00,  9.27832602e-01],\n",
       "       [-1.40457782e+00, -3.62061581e-01],\n",
       "       [-7.94450176e-01,  2.14937495e+00],\n",
       "       [-1.47247388e+00, -7.06665801e-01],\n",
       "       [-2.20345190e+00, -9.67424037e-01],\n",
       "       [-1.30519208e+00,  3.21480448e-01],\n",
       "       [-1.70095847e+00,  8.62288019e-01],\n",
       "       [-1.42204306e-01,  2.24212589e-01],\n",
       "       [-1.02266089e+00,  1.70786783e+00],\n",
       "       [-1.97952106e-02,  1.01302905e+00],\n",
       "       [-2.32730963e+00, -7.62559295e-02],\n",
       "       [-1.58371165e+00,  5.30815646e-01],\n",
       "       [-2.00824071e+00,  6.42900782e-01],\n",
       "       [-8.41493304e-01,  1.18673841e+00],\n",
       "       [-2.42383890e+00, -5.37798582e-01],\n",
       "       [-3.08571147e+00, -9.99480606e-02],\n",
       "       [-1.50935729e+00,  1.17279878e-01],\n",
       "       [-2.04702976e+00,  9.99969149e-02],\n",
       "       [-6.98311374e-01,  2.44303955e+00],\n",
       "       [-2.91718589e+00, -6.44358918e-01],\n",
       "       [-2.72363764e+00, -8.54318014e-02],\n",
       "       [-2.33451765e+00, -4.39795482e-01],\n",
       "       [-1.82090405e+00,  7.80137140e-01],\n",
       "       [-1.81751656e+00,  2.61556274e-01],\n",
       "       [-2.35751284e+00,  2.26482011e-01],\n",
       "       [-2.20694130e+00, -5.37489608e-01],\n",
       "       [-2.55487864e+00,  1.71839997e+00],\n",
       "       [-5.30417203e-01,  1.25158699e+00],\n",
       "       [-2.01195421e+00,  3.35076546e-01],\n",
       "       [-1.83490118e+00, -2.09826918e-01],\n",
       "       [-3.11522709e+00, -4.70376888e-01],\n",
       "       [-4.94828716e-01,  2.49587926e+00],\n",
       "       [-1.93905242e+00,  1.88261285e-01],\n",
       "       [-1.73742791e+00, -9.67363782e-01],\n",
       "       [-2.34556341e+00, -8.83696224e-01],\n",
       "       [-1.45663673e+00,  2.01187277e+00],\n",
       "       [-2.14142863e+00, -3.54668496e-02],\n",
       "       [-2.31186046e+00,  1.07895887e+00],\n",
       "       [-2.57316484e+00, -2.47890980e-01],\n",
       "       [-2.34038500e+00, -3.59806522e-01],\n",
       "       [-2.20384193e+00,  8.90156965e-01],\n",
       "       [-2.74830817e+00,  3.73556192e-01],\n",
       "       [-2.53715430e+00,  3.34686777e-01],\n",
       "       [-2.39507862e+00, -1.27204778e+00],\n",
       "       [-2.09853286e+00,  2.01489217e+00],\n",
       "       [-2.32814703e+00, -9.40605827e-01],\n",
       "       [-2.37921541e+00, -3.86410222e-01],\n",
       "       [-1.12634201e+00,  2.07745779e+00],\n",
       "       [-2.96589964e+00, -7.96899681e-01],\n",
       "       [-2.84647251e+00,  2.81732854e-01],\n",
       "       [-2.84758326e+00, -3.59439503e-01],\n",
       "       [-2.26463560e+00,  1.51519462e+00],\n",
       "       [-2.08820751e+00,  1.49512509e+00],\n",
       "       [-3.27637674e+00, -9.04554610e-02],\n",
       "       [-1.92642925e+00,  3.03064896e-01],\n",
       "       [-2.40985447e+00, -5.24328622e-01],\n",
       "       [-2.68450347e+00, -9.95547644e-01],\n",
       "       [-2.66556182e+00, -4.37115068e-01],\n",
       "       [-3.37170481e+00,  8.64068960e-02],\n",
       "       [-1.84252335e+00,  1.54652146e+00],\n",
       "       [-2.30666413e+00, -3.01540850e-01],\n",
       "       [-2.38084985e+00,  9.49293347e-02],\n",
       "       [-2.76811704e+00, -5.00278660e-01],\n",
       "       [-3.15730612e+00, -3.97297078e-01],\n",
       "       [-2.80962222e+00,  4.65660865e-01],\n",
       "       [-1.85454261e+00, -6.94020906e-01],\n",
       "       [-2.84538649e+00, -1.09343213e+00],\n",
       "       [-2.59503645e+00,  9.23370842e-02],\n",
       "       [-2.47167331e+00,  1.71255900e+00],\n",
       "       [-2.62928666e+00,  1.33220149e+00],\n",
       "       [-3.18325523e+00, -6.68138336e-01],\n",
       "       [-3.43584254e+00,  4.72758529e-01],\n",
       "       [-3.11825333e+00, -4.76529081e-01],\n",
       "       [-3.59585425e+00,  7.50016691e-01]])"
      ]
     },
     "execution_count": 141,
     "metadata": {},
     "output_type": "execute_result"
    }
   ],
   "source": [
    "# nba_pca[0,:2]\n",
    "nba_pca[:,:2]"
   ]
  },
  {
   "cell_type": "code",
   "execution_count": null,
   "metadata": {},
   "outputs": [],
   "source": []
  },
  {
   "cell_type": "code",
   "execution_count": 152,
   "metadata": {},
   "outputs": [],
   "source": [
    "# nba_pca_df = pd.DataFrame(nba_pca[:, :2], columns=[\"pc1\", \"pc2\"], index=nba.index)\n",
    "\n",
    "# plt.figure(figsize=(12, 9))\n",
    "# plt.scatter(nba_pca_df.pc1, nba_pca_df.pc2)\n",
    "\n",
    "# for player in players:\n",
    "#     data = nba_pca_df.loc[player]\n",
    "#     plt.annotate(player, (data[\"pc1\"], data[\"pc2\"]))"
   ]
  },
  {
   "cell_type": "code",
   "execution_count": 153,
   "metadata": {},
   "outputs": [
    {
     "data": {
      "image/png": "[encoded data removed]",
      "text/plain": [
       "<matplotlib.figure.Figure at 0x1a241a24a8>"
      ]
     },
     "metadata": {},
     "output_type": "display_data"
    }
   ],
   "source": [
    "#Plotting NBA PCA Data with names\n",
    "nba_pca_df = pd.DataFrame(nba_pca[:, :2], columns=['pca1','pca2'], index=nba.index)\n",
    "\n",
    "plt.figure(figsize=(16,12))\n",
    "plt.scatter(nba_pca_df.pca1, nba_pca_df.pca2, s=50)\n",
    "\n",
    "for player in players:\n",
    "    data = nba_pca_df.loc[player]\n",
    "    plt.annotate(player, (data['pca1'], data['pca2']))\n"
   ]
  },
  {
   "cell_type": "code",
   "execution_count": null,
   "metadata": {},
   "outputs": [],
   "source": []
  },
  {
   "cell_type": "markdown",
   "metadata": {},
   "source": [
    "How do you label the components based on the weights?"
   ]
  },
  {
   "cell_type": "markdown",
   "metadata": {},
   "source": [
    "Let's print out the component weights with their corresponding variables for PC1, PC2, and PC3"
   ]
  },
  {
   "cell_type": "code",
   "execution_count": 161,
   "metadata": {},
   "outputs": [
    {
     "data": {
      "text/plain": [
       "array([0.38943904, 0.2067054 , 0.31267047, 0.29767214, 0.30406529,\n",
       "       0.21077471, 0.38204575, 0.38533758, 0.43348922])"
      ]
     },
     "execution_count": 161,
     "metadata": {},
     "output_type": "execute_result"
    }
   ],
   "source": [
    "pca.components_[0]"
   ]
  },
  {
   "cell_type": "code",
   "execution_count": 158,
   "metadata": {},
   "outputs": [
    {
     "name": "stdout",
     "output_type": "stream",
     "text": [
      "points 0.38943903907432015\n",
      "offensive_rebs 0.2067054039027892\n",
      "total_rebounds 0.3126704658303232\n",
      "assists 0.29767213601129305\n",
      "steals 0.30406528653918985\n",
      "blocks 0.21077471448426188\n",
      "turnovers 0.38204575221647585\n",
      "minutes 0.38533757941895264\n",
      "efficiency 0.43348922067219303\n"
     ]
    }
   ],
   "source": [
    "#Component 1\n",
    "\n",
    "for col, component in zip(nba.columns, pca.components_[0]):\n",
    "    print(col, component)\n"
   ]
  },
  {
   "cell_type": "code",
   "execution_count": 160,
   "metadata": {},
   "outputs": [
    {
     "name": "stdout",
     "output_type": "stream",
     "text": [
      "points -0.13182641485123914\n",
      "offensive_rebs 0.5372281720324729\n",
      "total_rebounds 0.43616832569523745\n",
      "assists -0.40443072254937174\n",
      "steals -0.2398055465783561\n",
      "blocks 0.47338388484308885\n",
      "turnovers -0.21347851807606705\n",
      "minutes -0.10496019211401453\n",
      "efficiency 0.04485473924881781\n"
     ]
    }
   ],
   "source": [
    "#Component 2\n",
    "\n",
    "for col, componenet in zip(nba.columns, pca.components_[1]):\n",
    "    print(col,componenet)\n"
   ]
  },
  {
   "cell_type": "code",
   "execution_count": 164,
   "metadata": {},
   "outputs": [
    {
     "name": "stdout",
     "output_type": "stream",
     "text": [
      "points -0.48689798678076596\n",
      "offensive_rebs 0.1238683225655395\n",
      "total_rebounds 0.05800339326260096\n",
      "assists 0.10942463628539517\n",
      "steals 0.8158842517406791\n",
      "blocks 0.11468583692138173\n",
      "turnovers -0.122001750739177\n",
      "minutes -0.10471785665969807\n",
      "efficiency -0.1660681617946067\n"
     ]
    }
   ],
   "source": [
    "#Component 3\n",
    "\n",
    "for component, col in zip(pca.components_[2], nba.columns):\n",
    "    print(col, component)\n"
   ]
  },
  {
   "cell_type": "code",
   "execution_count": 165,
   "metadata": {},
   "outputs": [
    {
     "name": "stdout",
     "output_type": "stream",
     "text": [
      "points -0.48689798678076596\n",
      "offensive_rebs 0.1238683225655395\n",
      "total_rebounds 0.05800339326260096\n",
      "assists 0.10942463628539517\n",
      "steals 0.8158842517406791\n",
      "blocks 0.11468583692138173\n",
      "turnovers -0.122001750739177\n",
      "minutes -0.10471785665969807\n",
      "efficiency -0.1660681617946067\n"
     ]
    }
   ],
   "source": [
    "for col, componenet in zip(nba.columns, pca.components_[2]):\n",
    "    print(col,componenet)\n"
   ]
  },
  {
   "cell_type": "code",
   "execution_count": null,
   "metadata": {},
   "outputs": [],
   "source": []
  },
  {
   "cell_type": "code",
   "execution_count": null,
   "metadata": {},
   "outputs": [],
   "source": []
  },
  {
   "cell_type": "code",
   "execution_count": null,
   "metadata": {},
   "outputs": [],
   "source": []
  },
  {
   "cell_type": "code",
   "execution_count": null,
   "metadata": {},
   "outputs": [],
   "source": []
  },
  {
   "cell_type": "code",
   "execution_count": null,
   "metadata": {},
   "outputs": [],
   "source": []
  },
  {
   "cell_type": "code",
   "execution_count": null,
   "metadata": {},
   "outputs": [],
   "source": []
  },
  {
   "cell_type": "code",
   "execution_count": null,
   "metadata": {},
   "outputs": [],
   "source": []
  },
  {
   "cell_type": "markdown",
   "metadata": {},
   "source": [
    "## Digits"
   ]
  },
  {
   "cell_type": "code",
   "execution_count": 169,
   "metadata": {},
   "outputs": [
    {
     "data": {
      "text/plain": [
       "{'DESCR': \"Optical Recognition of Handwritten Digits Data Set\\n===================================================\\n\\nNotes\\n-----\\nData Set Characteristics:\\n    :Number of Instances: 5620\\n    :Number of Attributes: 64\\n    :Attribute Information: 8x8 image of integer pixels in the range 0..16.\\n    :Missing Attribute Values: None\\n    :Creator: E. Alpaydin (alpaydin '@' boun.edu.tr)\\n    :Date: July; 1998\\n\\nThis is a copy of the test set of the UCI ML hand-written digits datasets\\nhttp://archive.ics.uci.edu/ml/datasets/Optical+Recognition+of+Handwritten+Digits\\n\\nThe data set contains images of hand-written digits: 10 classes where\\neach class refers to a digit.\\n\\nPreprocessing programs made available by NIST were used to extract\\nnormalized bitmaps of handwritten digits from a preprinted form. From a\\ntotal of 43 people, 30 contributed to the training set and different 13\\nto the test set. 32x32 bitmaps are divided into nonoverlapping blocks of\\n4x4 and the number of on pixels are counted in each block. This generates\\nan input matrix of 8x8 where each element is an integer in the range\\n0..16. This reduces dimensionality and gives invariance to small\\ndistortions.\\n\\nFor info on NIST preprocessing routines, see M. D. Garris, J. L. Blue, G.\\nT. Candela, D. L. Dimmick, J. Geist, P. J. Grother, S. A. Janet, and C.\\nL. Wilson, NIST Form-Based Handprint Recognition System, NISTIR 5469,\\n1994.\\n\\nReferences\\n----------\\n  - C. Kaynak (1995) Methods of Combining Multiple Classifiers and Their\\n    Applications to Handwritten Digit Recognition, MSc Thesis, Institute of\\n    Graduate Studies in Science and Engineering, Bogazici University.\\n  - E. Alpaydin, C. Kaynak (1998) Cascading Classifiers, Kybernetika.\\n  - Ken Tang and Ponnuthurai N. Suganthan and Xi Yao and A. Kai Qin.\\n    Linear dimensionalityreduction using relevance weighted LDA. School of\\n    Electrical and Electronic Engineering Nanyang Technological University.\\n    2005.\\n  - Claudio Gentile. A New Approximate Maximal Margin Classification\\n    Algorithm. NIPS. 2000.\\n\",\n",
       " 'data': array([[ 0.,  0.,  5., ...,  0.,  0.,  0.],\n",
       "        [ 0.,  0.,  0., ..., 10.,  0.,  0.],\n",
       "        [ 0.,  0.,  0., ..., 16.,  9.,  0.],\n",
       "        ...,\n",
       "        [ 0.,  0.,  1., ...,  6.,  0.,  0.],\n",
       "        [ 0.,  0.,  2., ..., 12.,  0.,  0.],\n",
       "        [ 0.,  0., 10., ..., 12.,  1.,  0.]]),\n",
       " 'images': array([[[ 0.,  0.,  5., ...,  1.,  0.,  0.],\n",
       "         [ 0.,  0., 13., ..., 15.,  5.,  0.],\n",
       "         [ 0.,  3., 15., ..., 11.,  8.,  0.],\n",
       "         ...,\n",
       "         [ 0.,  4., 11., ..., 12.,  7.,  0.],\n",
       "         [ 0.,  2., 14., ..., 12.,  0.,  0.],\n",
       "         [ 0.,  0.,  6., ...,  0.,  0.,  0.]],\n",
       " \n",
       "        [[ 0.,  0.,  0., ...,  5.,  0.,  0.],\n",
       "         [ 0.,  0.,  0., ...,  9.,  0.,  0.],\n",
       "         [ 0.,  0.,  3., ...,  6.,  0.,  0.],\n",
       "         ...,\n",
       "         [ 0.,  0.,  1., ...,  6.,  0.,  0.],\n",
       "         [ 0.,  0.,  1., ...,  6.,  0.,  0.],\n",
       "         [ 0.,  0.,  0., ..., 10.,  0.,  0.]],\n",
       " \n",
       "        [[ 0.,  0.,  0., ..., 12.,  0.,  0.],\n",
       "         [ 0.,  0.,  3., ..., 14.,  0.,  0.],\n",
       "         [ 0.,  0.,  8., ..., 16.,  0.,  0.],\n",
       "         ...,\n",
       "         [ 0.,  9., 16., ...,  0.,  0.,  0.],\n",
       "         [ 0.,  3., 13., ..., 11.,  5.,  0.],\n",
       "         [ 0.,  0.,  0., ..., 16.,  9.,  0.]],\n",
       " \n",
       "        ...,\n",
       " \n",
       "        [[ 0.,  0.,  1., ...,  1.,  0.,  0.],\n",
       "         [ 0.,  0., 13., ...,  2.,  1.,  0.],\n",
       "         [ 0.,  0., 16., ..., 16.,  5.,  0.],\n",
       "         ...,\n",
       "         [ 0.,  0., 16., ..., 15.,  0.,  0.],\n",
       "         [ 0.,  0., 15., ..., 16.,  0.,  0.],\n",
       "         [ 0.,  0.,  2., ...,  6.,  0.,  0.]],\n",
       " \n",
       "        [[ 0.,  0.,  2., ...,  0.,  0.,  0.],\n",
       "         [ 0.,  0., 14., ..., 15.,  1.,  0.],\n",
       "         [ 0.,  4., 16., ..., 16.,  7.,  0.],\n",
       "         ...,\n",
       "         [ 0.,  0.,  0., ..., 16.,  2.,  0.],\n",
       "         [ 0.,  0.,  4., ..., 16.,  2.,  0.],\n",
       "         [ 0.,  0.,  5., ..., 12.,  0.,  0.]],\n",
       " \n",
       "        [[ 0.,  0., 10., ...,  1.,  0.,  0.],\n",
       "         [ 0.,  2., 16., ...,  1.,  0.,  0.],\n",
       "         [ 0.,  0., 15., ..., 15.,  0.,  0.],\n",
       "         ...,\n",
       "         [ 0.,  4., 16., ..., 16.,  6.,  0.],\n",
       "         [ 0.,  8., 16., ..., 16.,  8.,  0.],\n",
       "         [ 0.,  1.,  8., ..., 12.,  1.,  0.]]]),\n",
       " 'target': array([0, 1, 2, ..., 8, 9, 8]),\n",
       " 'target_names': array([0, 1, 2, 3, 4, 5, 6, 7, 8, 9])}"
      ]
     },
     "execution_count": 169,
     "metadata": {},
     "output_type": "execute_result"
    }
   ],
   "source": [
    "digits = load_digits()\n",
    "\n",
    "digits"
   ]
  },
  {
   "cell_type": "code",
   "execution_count": 189,
   "metadata": {},
   "outputs": [
    {
     "data": {
      "text/plain": [
       "(1797, 64)"
      ]
     },
     "execution_count": 189,
     "metadata": {},
     "output_type": "execute_result"
    }
   ],
   "source": [
    "#Load in the mnist digits data\n",
    "\n",
    "\n",
    "digits = load_digits()\n",
    "data = digits.data\n",
    "numbers = digits.target\n",
    "\n",
    "#shape of data\n",
    "data.shape"
   ]
  },
  {
   "cell_type": "markdown",
   "metadata": {},
   "source": [
    "Let's PCA the digits data using two components"
   ]
  },
  {
   "cell_type": "code",
   "execution_count": 190,
   "metadata": {},
   "outputs": [],
   "source": [
    "#Intialize PCA with 2 components\n",
    "pca = PCA(n_components=2)  \n",
    "\n",
    "# project from 64 to 2 dimensions\n",
    "\n",
    "data_pca = pca.fit_transform(data)"
   ]
  },
  {
   "cell_type": "code",
   "execution_count": 191,
   "metadata": {},
   "outputs": [
    {
     "data": {
      "text/plain": [
       "(1797, 2)"
      ]
     },
     "execution_count": 191,
     "metadata": {},
     "output_type": "execute_result"
    }
   ],
   "source": [
    "data_pca.shape"
   ]
  },
  {
   "cell_type": "code",
   "execution_count": 176,
   "metadata": {},
   "outputs": [
    {
     "data": {
      "text/plain": [
       "array([[ -1.25946673,  21.27488425],\n",
       "       [  7.95761184, -20.76869703],\n",
       "       [  6.99192297,  -9.95598856],\n",
       "       ...,\n",
       "       [ 10.80128385,  -6.96025195],\n",
       "       [ -4.87209833,  12.42396116],\n",
       "       [ -0.34438963,   6.36554878]])"
      ]
     },
     "execution_count": 176,
     "metadata": {},
     "output_type": "execute_result"
    }
   ],
   "source": [
    "\n",
    "data_pca"
   ]
  },
  {
   "cell_type": "markdown",
   "metadata": {},
   "source": [
    "Plot the prinicpal components of the digits dataset using the number labels as the color-encoding"
   ]
  },
  {
   "cell_type": "code",
   "execution_count": 179,
   "metadata": {},
   "outputs": [],
   "source": [
    "# data.pca"
   ]
  },
  {
   "cell_type": "code",
   "execution_count": 188,
   "metadata": {},
   "outputs": [
    {
     "data": {
      "text/plain": [
       "<matplotlib.colorbar.Colorbar at 0x1a23a557f0>"
      ]
     },
     "execution_count": 188,
     "metadata": {},
     "output_type": "execute_result"
    },
    {
     "data": {
      "image/png": "[encoded data removed]",
      "text/plain": [
       "<matplotlib.figure.Figure at 0x1a2399e278>"
      ]
     },
     "metadata": {},
     "output_type": "display_data"
    }
   ],
   "source": [
    "#PLotting digitis pca data\n",
    "\n",
    "plt.figure(figsize=(12,8))\n",
    "\n",
    "plt.scatter(data_pca[:,0], data_pca[:,1], c=numbers, alpha=0.5)\n",
    "plt.colorbar()"
   ]
  },
  {
   "cell_type": "code",
   "execution_count": 194,
   "metadata": {},
   "outputs": [
    {
     "data": {
      "text/plain": [
       "(2, 64)"
      ]
     },
     "execution_count": 194,
     "metadata": {},
     "output_type": "execute_result"
    }
   ],
   "source": [
    "pca.components_.shape"
   ]
  },
  {
   "cell_type": "code",
   "execution_count": null,
   "metadata": {},
   "outputs": [],
   "source": []
  },
  {
   "cell_type": "markdown",
   "metadata": {},
   "source": [
    "Below is because data is not scaled"
   ]
  },
  {
   "cell_type": "code",
   "execution_count": 198,
   "metadata": {},
   "outputs": [
    {
     "data": {
      "text/plain": [
       "array([179.0069301 , 163.71774688])"
      ]
     },
     "execution_count": 198,
     "metadata": {},
     "output_type": "execute_result"
    }
   ],
   "source": [
    "#Explained variance of the pca data\n",
    "\n",
    "pca.explained_variance_\n"
   ]
  },
  {
   "cell_type": "code",
   "execution_count": null,
   "metadata": {},
   "outputs": [],
   "source": []
  },
  {
   "cell_type": "code",
   "execution_count": null,
   "metadata": {},
   "outputs": [],
   "source": []
  },
  {
   "cell_type": "code",
   "execution_count": 200,
   "metadata": {},
   "outputs": [
    {
     "data": {
      "text/plain": [
       "array([0.14890594, 0.13618771])"
      ]
     },
     "execution_count": 200,
     "metadata": {},
     "output_type": "execute_result"
    }
   ],
   "source": [
    "pca.explained_variance_ratio_"
   ]
  },
  {
   "cell_type": "code",
   "execution_count": null,
   "metadata": {},
   "outputs": [],
   "source": []
  },
  {
   "cell_type": "markdown",
   "metadata": {},
   "source": [
    "Below is because data is not scaled"
   ]
  },
  {
   "cell_type": "code",
   "execution_count": 201,
   "metadata": {},
   "outputs": [
    {
     "data": {
      "text/plain": [
       "array([179.0069301 , 342.72467698])"
      ]
     },
     "execution_count": 201,
     "metadata": {},
     "output_type": "execute_result"
    }
   ],
   "source": [
    "pca.explained_variance_.cumsum()"
   ]
  },
  {
   "cell_type": "code",
   "execution_count": 202,
   "metadata": {},
   "outputs": [
    {
     "data": {
      "text/plain": [
       "0.2850936482369908"
      ]
     },
     "execution_count": 202,
     "metadata": {},
     "output_type": "execute_result"
    }
   ],
   "source": [
    "pca.explained_variance_ratio_.sum()"
   ]
  },
  {
   "cell_type": "markdown",
   "metadata": {},
   "source": [
    "2 components gets us about 28.5 of the way there, let's see how many components it takes to get 50, 70, and 90%."
   ]
  },
  {
   "cell_type": "code",
   "execution_count": 205,
   "metadata": {},
   "outputs": [
    {
     "data": {
      "text/plain": [
       "5"
      ]
     },
     "execution_count": 205,
     "metadata": {},
     "output_type": "execute_result"
    }
   ],
   "source": [
    "#We can set n_components equal to a explained variance ratio value\n",
    "\n",
    "#50% EVR\n",
    "pca = PCA(n_components=.5).fit(data)\n",
    "\n",
    "#Number components\n",
    "pca.n_components_"
   ]
  },
  {
   "cell_type": "code",
   "execution_count": 206,
   "metadata": {},
   "outputs": [
    {
     "data": {
      "text/plain": [
       "9"
      ]
     },
     "execution_count": 206,
     "metadata": {},
     "output_type": "execute_result"
    }
   ],
   "source": [
    "#70% EVR\n",
    "pca = PCA(n_components=.7).fit(data)\n",
    "\n",
    "#Number components\n",
    "pca.n_components_"
   ]
  },
  {
   "cell_type": "code",
   "execution_count": 207,
   "metadata": {},
   "outputs": [
    {
     "data": {
      "text/plain": [
       "21"
      ]
     },
     "execution_count": 207,
     "metadata": {},
     "output_type": "execute_result"
    }
   ],
   "source": [
    "#90% EVR\n",
    "pca = PCA(n_components=.9).fit(data)\n",
    "\n",
    "#Number components\n",
    "pca.n_components_"
   ]
  },
  {
   "cell_type": "markdown",
   "metadata": {},
   "source": [
    "Visualize EVR curve"
   ]
  },
  {
   "cell_type": "code",
   "execution_count": 208,
   "metadata": {},
   "outputs": [
    {
     "data": {
      "image/png": "[encoded data removed]",
      "text/plain": [
       "<matplotlib.figure.Figure at 0x1a23b42a90>"
      ]
     },
     "metadata": {},
     "output_type": "display_data"
    }
   ],
   "source": [
    "#Intialize and fit digits data using PCA\n",
    "pca = PCA().fit(data)\n",
    "plt.figure(figsize=(8, 6))\n",
    "plt.plot(np.cumsum(pca.explained_variance_ratio_))\n",
    "plt.xlabel('number of components')\n",
    "plt.ylabel('cumulative explained variance');"
   ]
  },
  {
   "cell_type": "code",
   "execution_count": 214,
   "metadata": {},
   "outputs": [
    {
     "data": {
      "text/plain": [
       "(1797, 64)"
      ]
     },
     "execution_count": 214,
     "metadata": {},
     "output_type": "execute_result"
    }
   ],
   "source": [
    "data.shape"
   ]
  },
  {
   "cell_type": "code",
   "execution_count": 215,
   "metadata": {},
   "outputs": [
    {
     "data": {
      "text/plain": [
       "0.9210188113360701"
      ]
     },
     "execution_count": 215,
     "metadata": {},
     "output_type": "execute_result"
    }
   ],
   "source": [
    "cross_val_score(LogisticRegression(), data, numbers, scoring='accuracy', cv=5 ).mean()"
   ]
  },
  {
   "cell_type": "code",
   "execution_count": 220,
   "metadata": {},
   "outputs": [
    {
     "data": {
      "text/plain": [
       "0.8041716164939036"
      ]
     },
     "execution_count": 220,
     "metadata": {},
     "output_type": "execute_result"
    }
   ],
   "source": [
    "pca5 = PCA(n_components=5)\n",
    "data_pca5 = pca5.fit_transform(data)\n",
    "cross_val_score(LogisticRegression(), data_pca5, numbers, scoring='accuracy', cv=5 ).mean()"
   ]
  },
  {
   "cell_type": "code",
   "execution_count": 221,
   "metadata": {},
   "outputs": [
    {
     "data": {
      "text/plain": [
       "0.8041716164939036"
      ]
     },
     "execution_count": 221,
     "metadata": {},
     "output_type": "execute_result"
    }
   ],
   "source": [
    "pca2 = PCA(n_components=2)\n",
    "data_pca2 = pca5.fit_transform(data)\n",
    "cross_val_score(LogisticRegression(), data_pca2, numbers, scoring='accuracy', cv=5 ).mean()"
   ]
  },
  {
   "cell_type": "code",
   "execution_count": null,
   "metadata": {},
   "outputs": [],
   "source": []
  },
  {
   "cell_type": "code",
   "execution_count": 226,
   "metadata": {},
   "outputs": [
    {
     "data": {
      "text/plain": [
       "[<matplotlib.lines.Line2D at 0x1a2bfe6c88>]"
      ]
     },
     "execution_count": 226,
     "metadata": {},
     "output_type": "execute_result"
    },
    {
     "data": {
      "image/png": "[encoded data removed]",
      "text/plain": [
       "<matplotlib.figure.Figure at 0x1a238733c8>"
      ]
     },
     "metadata": {},
     "output_type": "display_data"
    }
   ],
   "source": [
    "pca_range = range(2, 64, 2)\n",
    "\n",
    "scores = []\n",
    "\n",
    "for n in pca_range:\n",
    "    pca = PCA(n_components=n)\n",
    "    data_pca = pca.fit_transform(data)\n",
    "    score = cross_val_score(LogisticRegression(), data_pca, numbers, scoring='accuracy', cv=5 ).mean()\n",
    "    scores.append(score)\n",
    "    \n",
    "plt.plot(pca_range, scores)"
   ]
  },
  {
   "cell_type": "code",
   "execution_count": null,
   "metadata": {},
   "outputs": [],
   "source": []
  },
  {
   "cell_type": "markdown",
   "metadata": {},
   "source": [
    "## Resources:\n",
    "\n",
    "- https://towardsdatascience.com/pca-using-python-scikit-learn-e653f8989e60\n",
    "- https://jakevdp.github.io/PythonDataScienceHandbook/05.09-principal-component-analysis.html\n",
    "- http://setosa.io/ev/principal-component-analysis/\n",
    "- https://georgemdallas.wordpress.com/2013/10/30/principal-component-analysis-4-dummies-eigenvectors-eigenvalues-and-dimension-reduction/\n",
    "- https://github.com/viniciuspantoja/tutorial_PCA/blob/master/Tutorial_PCA.ipynb\n",
    "- http://sebastianraschka.com/Articles/2015_pca_in_3_steps.html\n",
    "- https://towardsdatascience.com/reducing-dimensionality-from-dimensionality-reduction-techniques-f658aec24dfe\n",
    "- https://towardsdatascience.com/exploratory-data-analysis-into-the-relationship-between-different-types-of-crime-in-london-20c328e193ff\n",
    "- https://www.analyticsvidhya.com/blog/2016/03/practical-guide-principal-component-analysis-python/"
   ]
  },
  {
   "cell_type": "code",
   "execution_count": null,
   "metadata": {},
   "outputs": [],
   "source": []
  },
  {
   "cell_type": "code",
   "execution_count": null,
   "metadata": {},
   "outputs": [],
   "source": []
  },
  {
   "cell_type": "markdown",
   "metadata": {},
   "source": [
    "## In class\n",
    "\n",
    "1. Use PCA on a supervised learning dataset we've worked with previously to see if PCA-transformed data can produce models as good as the original data.\n",
    "\n",
    "2. Use time to work on final project."
   ]
  },
  {
   "cell_type": "code",
   "execution_count": null,
   "metadata": {},
   "outputs": [],
   "source": []
  }
 ],
 "metadata": {
  "kernelspec": {
   "display_name": "Python 3",
   "language": "python",
   "name": "python3"
  },
  "language_info": {
   "codemirror_mode": {
    "name": "ipython",
    "version": 3
   },
   "file_extension": ".py",
   "mimetype": "text/x-python",
   "name": "python",
   "nbconvert_exporter": "python",
   "pygments_lexer": "ipython3",
   "version": "3.6.4"
  }
 },
 "nbformat": 4,
 "nbformat_minor": 2
}
