{
 "cells": [
  {
   "cell_type": "markdown",
   "metadata": {},
   "source": [
    "# Introduction to Machine Learning & Decision Trees Lesson"
   ]
  },
  {
   "cell_type": "markdown",
   "metadata": {},
   "source": [
    "## <b>Goals</b>\n",
    "\n",
    "- Build from scratch our own machine learning algorithm that we'll use to train on the iris dataset.\n",
    "\n",
    "- Decision Trees algorithm.\n",
    "    - Our very first machine learning algorithm. Learn how it works and how to use it."
   ]
  },
  {
   "cell_type": "code",
   "execution_count": null,
   "metadata": {},
   "outputs": [],
   "source": []
  },
  {
   "cell_type": "code",
   "execution_count": null,
   "metadata": {},
   "outputs": [],
   "source": []
  },
  {
   "cell_type": "markdown",
   "metadata": {},
   "source": [
    "### Building our own machine learning classifier with the iris dataset."
   ]
  },
  {
   "cell_type": "code",
   "execution_count": 4,
   "metadata": {},
   "outputs": [],
   "source": [
    "#Imports\n",
    "import pandas as pd\n",
    "import numpy as np\n",
    "import matplotlib.pyplot as plt\n",
    "import seaborn as sns\n",
    "%matplotlib inline"
   ]
  },
  {
   "cell_type": "code",
   "execution_count": 5,
   "metadata": {},
   "outputs": [
    {
     "data": {
      "text/html": [
       "<div>\n",
       "<style scoped>\n",
       "    .dataframe tbody tr th:only-of-type {\n",
       "        vertical-align: middle;\n",
       "    }\n",
       "\n",
       "    .dataframe tbody tr th {\n",
       "        vertical-align: top;\n",
       "    }\n",
       "\n",
       "    .dataframe thead th {\n",
       "        text-align: right;\n",
       "    }\n",
       "</style>\n",
       "<table border=\"1\" class=\"dataframe\">\n",
       "  <thead>\n",
       "    <tr style=\"text-align: right;\">\n",
       "      <th></th>\n",
       "      <th>sepal_length</th>\n",
       "      <th>sepal_width</th>\n",
       "      <th>petal_length</th>\n",
       "      <th>petal_width</th>\n",
       "      <th>species</th>\n",
       "    </tr>\n",
       "  </thead>\n",
       "  <tbody>\n",
       "    <tr>\n",
       "      <th>0</th>\n",
       "      <td>5.1</td>\n",
       "      <td>3.5</td>\n",
       "      <td>1.4</td>\n",
       "      <td>0.2</td>\n",
       "      <td>Iris-setosa</td>\n",
       "    </tr>\n",
       "    <tr>\n",
       "      <th>1</th>\n",
       "      <td>4.9</td>\n",
       "      <td>3.0</td>\n",
       "      <td>1.4</td>\n",
       "      <td>0.2</td>\n",
       "      <td>Iris-setosa</td>\n",
       "    </tr>\n",
       "    <tr>\n",
       "      <th>2</th>\n",
       "      <td>4.7</td>\n",
       "      <td>3.2</td>\n",
       "      <td>1.3</td>\n",
       "      <td>0.2</td>\n",
       "      <td>Iris-setosa</td>\n",
       "    </tr>\n",
       "    <tr>\n",
       "      <th>3</th>\n",
       "      <td>4.6</td>\n",
       "      <td>3.1</td>\n",
       "      <td>1.5</td>\n",
       "      <td>0.2</td>\n",
       "      <td>Iris-setosa</td>\n",
       "    </tr>\n",
       "    <tr>\n",
       "      <th>4</th>\n",
       "      <td>5.0</td>\n",
       "      <td>3.6</td>\n",
       "      <td>1.4</td>\n",
       "      <td>0.2</td>\n",
       "      <td>Iris-setosa</td>\n",
       "    </tr>\n",
       "  </tbody>\n",
       "</table>\n",
       "</div>"
      ],
      "text/plain": [
       "   sepal_length  sepal_width  petal_length  petal_width      species\n",
       "0           5.1          3.5           1.4          0.2  Iris-setosa\n",
       "1           4.9          3.0           1.4          0.2  Iris-setosa\n",
       "2           4.7          3.2           1.3          0.2  Iris-setosa\n",
       "3           4.6          3.1           1.5          0.2  Iris-setosa\n",
       "4           5.0          3.6           1.4          0.2  Iris-setosa"
      ]
     },
     "execution_count": 5,
     "metadata": {},
     "output_type": "execute_result"
    }
   ],
   "source": [
    "#Load in the iris dataset from seaborn\n",
    "# iris = sns.load_dataset(\"iris\")\n",
    "\n",
    "path = \"../../data/iris.csv\"\n",
    "iris = pd.read_csv(path)\n",
    "\n",
    "#Look at first five rows\n",
    "iris.head()"
   ]
  },
  {
   "cell_type": "code",
   "execution_count": 6,
   "metadata": {},
   "outputs": [
    {
     "data": {
      "text/plain": [
       "(150, 5)"
      ]
     },
     "execution_count": 6,
     "metadata": {},
     "output_type": "execute_result"
    }
   ],
   "source": [
    "#Data size\n",
    "iris.shape"
   ]
  },
  {
   "cell_type": "code",
   "execution_count": 7,
   "metadata": {},
   "outputs": [
    {
     "data": {
      "text/plain": [
       "array(['Iris-setosa', 'Iris-versicolor', 'Iris-virginica'], dtype=object)"
      ]
     },
     "execution_count": 7,
     "metadata": {},
     "output_type": "execute_result"
    }
   ],
   "source": [
    "#What are the classes of the target variable?\n",
    "iris.species.unique()"
   ]
  },
  {
   "cell_type": "code",
   "execution_count": 11,
   "metadata": {},
   "outputs": [],
   "source": [
    "iris.species = iris.species.str.replace('Iris-','')"
   ]
  },
  {
   "cell_type": "code",
   "execution_count": 16,
   "metadata": {},
   "outputs": [
    {
     "data": {
      "text/plain": [
       "array(['setosa', 'versicolor', 'virginica'], dtype=object)"
      ]
     },
     "execution_count": 16,
     "metadata": {},
     "output_type": "execute_result"
    }
   ],
   "source": [
    "iris.species.unique()"
   ]
  },
  {
   "cell_type": "markdown",
   "metadata": {},
   "source": [
    "Our mission is to create a model that can differentiate between the three classes using the features of sepal length, sepal width, petal length, and petal width."
   ]
  },
  {
   "cell_type": "code",
   "execution_count": null,
   "metadata": {},
   "outputs": [],
   "source": []
  },
  {
   "cell_type": "code",
   "execution_count": null,
   "metadata": {},
   "outputs": [],
   "source": []
  },
  {
   "cell_type": "markdown",
   "metadata": {},
   "source": [
    "#### Time for some quick EDA."
   ]
  },
  {
   "cell_type": "code",
   "execution_count": 17,
   "metadata": {},
   "outputs": [
    {
     "data": {
      "text/html": [
       "<div>\n",
       "<style scoped>\n",
       "    .dataframe tbody tr th:only-of-type {\n",
       "        vertical-align: middle;\n",
       "    }\n",
       "\n",
       "    .dataframe tbody tr th {\n",
       "        vertical-align: top;\n",
       "    }\n",
       "\n",
       "    .dataframe thead th {\n",
       "        text-align: right;\n",
       "    }\n",
       "</style>\n",
       "<table border=\"1\" class=\"dataframe\">\n",
       "  <thead>\n",
       "    <tr style=\"text-align: right;\">\n",
       "      <th></th>\n",
       "      <th>sepal_length</th>\n",
       "      <th>sepal_width</th>\n",
       "      <th>petal_length</th>\n",
       "      <th>petal_width</th>\n",
       "    </tr>\n",
       "    <tr>\n",
       "      <th>species</th>\n",
       "      <th></th>\n",
       "      <th></th>\n",
       "      <th></th>\n",
       "      <th></th>\n",
       "    </tr>\n",
       "  </thead>\n",
       "  <tbody>\n",
       "    <tr>\n",
       "      <th>setosa</th>\n",
       "      <td>5.006</td>\n",
       "      <td>3.418</td>\n",
       "      <td>1.464</td>\n",
       "      <td>0.244</td>\n",
       "    </tr>\n",
       "    <tr>\n",
       "      <th>versicolor</th>\n",
       "      <td>5.936</td>\n",
       "      <td>2.770</td>\n",
       "      <td>4.260</td>\n",
       "      <td>1.326</td>\n",
       "    </tr>\n",
       "    <tr>\n",
       "      <th>virginica</th>\n",
       "      <td>6.588</td>\n",
       "      <td>2.974</td>\n",
       "      <td>5.552</td>\n",
       "      <td>2.026</td>\n",
       "    </tr>\n",
       "  </tbody>\n",
       "</table>\n",
       "</div>"
      ],
      "text/plain": [
       "            sepal_length  sepal_width  petal_length  petal_width\n",
       "species                                                         \n",
       "setosa             5.006        3.418         1.464        0.244\n",
       "versicolor         5.936        2.770         4.260        1.326\n",
       "virginica          6.588        2.974         5.552        2.026"
      ]
     },
     "execution_count": 17,
     "metadata": {},
     "output_type": "execute_result"
    }
   ],
   "source": [
    "#Group the data by species and derive the average values of each attribute in each category\n",
    "\n",
    "iris.groupby('species').mean()"
   ]
  },
  {
   "cell_type": "markdown",
   "metadata": {},
   "source": [
    "What does this tell us about the differences and similarities of each species?"
   ]
  },
  {
   "cell_type": "code",
   "execution_count": null,
   "metadata": {},
   "outputs": [],
   "source": []
  },
  {
   "cell_type": "code",
   "execution_count": null,
   "metadata": {},
   "outputs": [],
   "source": []
  },
  {
   "cell_type": "code",
   "execution_count": 18,
   "metadata": {},
   "outputs": [
    {
     "data": {
      "text/plain": [
       "<seaborn.axisgrid.PairGrid at 0x1a0ad53da0>"
      ]
     },
     "execution_count": 18,
     "metadata": {},
     "output_type": "execute_result"
    },
    {
     "data": {
      "image/png": "[encoded data removed]",
      "text/plain": [
       "<matplotlib.figure.Figure at 0x1a0ad537f0>"
      ]
     },
     "metadata": {},
     "output_type": "display_data"
    }
   ],
   "source": [
    "#Use a pairplot to visualize the dataset and use the species column to color encode the plots\n",
    "\n",
    "sns.pairplot(data=iris, hue='species')"
   ]
  },
  {
   "cell_type": "code",
   "execution_count": null,
   "metadata": {},
   "outputs": [],
   "source": []
  },
  {
   "cell_type": "code",
   "execution_count": null,
   "metadata": {},
   "outputs": [],
   "source": []
  },
  {
   "cell_type": "markdown",
   "metadata": {},
   "source": [
    "Again what does this tell us? How can we use this plot to our advantage when we create our machine learning model? What are the vertical and horizontal boundaries between the classes?"
   ]
  },
  {
   "cell_type": "code",
   "execution_count": null,
   "metadata": {},
   "outputs": [],
   "source": []
  },
  {
   "cell_type": "code",
   "execution_count": null,
   "metadata": {},
   "outputs": [],
   "source": []
  },
  {
   "cell_type": "markdown",
   "metadata": {},
   "source": [
    "#### Building the model from scratch"
   ]
  },
  {
   "cell_type": "markdown",
   "metadata": {},
   "source": [
    "Plan: \n",
    "- Build a function that uses control flow to make predictions. \n",
    "    - If feature A is less than 3 then return class 1, if not then return class 2.\n",
    "    - If feature B is greater than 4, check to see if feature C  is greater than 1, if so then return class 3, if not then return class 1.\n",
    "    \n",
    "- Use EDA to determine the decision boundaries for this model. If petal_length > 5 then return class ? Or check other conditions.\n",
    "\n",
    "- Make a python function that uses our decision boundaries and apply it to our dataframe. Measure the accuracy of our \"model.\""
   ]
  },
  {
   "cell_type": "markdown",
   "metadata": {},
   "source": [
    "7 minute exercise: Work with a partner to determine the boundaries. Don't worry about coding a function, take notes on your boundaries.\n",
    "\n",
    "Be prepared to share your boundary coordinates."
   ]
  },
  {
   "cell_type": "code",
   "execution_count": null,
   "metadata": {},
   "outputs": [],
   "source": []
  },
  {
   "cell_type": "code",
   "execution_count": null,
   "metadata": {},
   "outputs": [],
   "source": []
  },
  {
   "cell_type": "markdown",
   "metadata": {},
   "source": [
    "x.feature_name allow us to apply function to data frame as opposed to a series."
   ]
  },
  {
   "cell_type": "code",
   "execution_count": 37,
   "metadata": {},
   "outputs": [],
   "source": [
    "#Simple version of model\n",
    "def iris_model(x):\n",
    "    if x.petal_length<=2.5:\n",
    "        return 'setosa'\n",
    "    else:\n",
    "        if x.petal_length>2.5 and x.petal_length<=5 and x.petal_width<=1.7:\n",
    "            return 'versicolor'\n",
    "        else:\n",
    "            return 'virginica'"
   ]
  },
  {
   "cell_type": "markdown",
   "metadata": {},
   "source": [
    "Apply model on to iris data frame."
   ]
  },
  {
   "cell_type": "code",
   "execution_count": 38,
   "metadata": {},
   "outputs": [],
   "source": [
    "#Use model on data by caling the .apply() method on the iris data frame with axis = 1\n",
    "#Assign it to variable called preds\n",
    "\n",
    "preds = iris.apply(iris_model, axis=1)"
   ]
  },
  {
   "cell_type": "code",
   "execution_count": 39,
   "metadata": {},
   "outputs": [
    {
     "data": {
      "text/plain": [
       "0         setosa\n",
       "1         setosa\n",
       "2         setosa\n",
       "3         setosa\n",
       "4         setosa\n",
       "5         setosa\n",
       "6         setosa\n",
       "7         setosa\n",
       "8         setosa\n",
       "9         setosa\n",
       "10        setosa\n",
       "11        setosa\n",
       "12        setosa\n",
       "13        setosa\n",
       "14        setosa\n",
       "15        setosa\n",
       "16        setosa\n",
       "17        setosa\n",
       "18        setosa\n",
       "19        setosa\n",
       "20        setosa\n",
       "21        setosa\n",
       "22        setosa\n",
       "23        setosa\n",
       "24        setosa\n",
       "25        setosa\n",
       "26        setosa\n",
       "27        setosa\n",
       "28        setosa\n",
       "29        setosa\n",
       "         ...    \n",
       "120    virginica\n",
       "121    virginica\n",
       "122    virginica\n",
       "123    virginica\n",
       "124    virginica\n",
       "125    virginica\n",
       "126    virginica\n",
       "127    virginica\n",
       "128    virginica\n",
       "129    virginica\n",
       "130    virginica\n",
       "131    virginica\n",
       "132    virginica\n",
       "133    virginica\n",
       "134    virginica\n",
       "135    virginica\n",
       "136    virginica\n",
       "137    virginica\n",
       "138    virginica\n",
       "139    virginica\n",
       "140    virginica\n",
       "141    virginica\n",
       "142    virginica\n",
       "143    virginica\n",
       "144    virginica\n",
       "145    virginica\n",
       "146    virginica\n",
       "147    virginica\n",
       "148    virginica\n",
       "149    virginica\n",
       "Length: 150, dtype: object"
      ]
     },
     "execution_count": 39,
     "metadata": {},
     "output_type": "execute_result"
    }
   ],
   "source": [
    "#Take a look at the predictions\n",
    "preds"
   ]
  },
  {
   "cell_type": "code",
   "execution_count": 40,
   "metadata": {},
   "outputs": [
    {
     "data": {
      "text/plain": [
       "versicolor    50\n",
       "virginica     50\n",
       "setosa        50\n",
       "dtype: int64"
      ]
     },
     "execution_count": 40,
     "metadata": {},
     "output_type": "execute_result"
    }
   ],
   "source": [
    "preds.value_counts()"
   ]
  },
  {
   "cell_type": "markdown",
   "metadata": {},
   "source": [
    "Accuracy score metric: The percentage of correct predictions. Number of correct divided by total number of predictions."
   ]
  },
  {
   "cell_type": "code",
   "execution_count": 41,
   "metadata": {},
   "outputs": [
    {
     "data": {
      "text/plain": [
       "versicolor    50\n",
       "virginica     50\n",
       "setosa        50\n",
       "Name: species, dtype: int64"
      ]
     },
     "execution_count": 41,
     "metadata": {},
     "output_type": "execute_result"
    }
   ],
   "source": [
    "iris.species.value_counts()"
   ]
  },
  {
   "cell_type": "code",
   "execution_count": 42,
   "metadata": {},
   "outputs": [
    {
     "data": {
      "text/plain": [
       "versicolor    50\n",
       "virginica     50\n",
       "setosa        50\n",
       "dtype: int64"
      ]
     },
     "execution_count": 42,
     "metadata": {},
     "output_type": "execute_result"
    }
   ],
   "source": [
    "preds.value_counts()"
   ]
  },
  {
   "cell_type": "code",
   "execution_count": 43,
   "metadata": {},
   "outputs": [],
   "source": [
    "#Write a function that tests the accuracy of the predictions\n",
    "\n",
    "def model_tester(labels, predictions):\n",
    "    #Assumes lengths of labels and predictions are the same  \n",
    "    correct = sum(labels==predictions)\n",
    "    return correct/len(labels)"
   ]
  },
  {
   "cell_type": "code",
   "execution_count": null,
   "metadata": {},
   "outputs": [],
   "source": []
  },
  {
   "cell_type": "markdown",
   "metadata": {},
   "source": [
    "The big moment!!"
   ]
  },
  {
   "cell_type": "code",
   "execution_count": 44,
   "metadata": {},
   "outputs": [
    {
     "name": "stdout",
     "output_type": "stream",
     "text": [
      "The model correctly classified 97.33333333333334 percent of the data.\n"
     ]
    }
   ],
   "source": [
    "#Assign species column to y \n",
    "y = iris.species\n",
    "\n",
    "#Pass the labels and predictions in to the model_tester function\n",
    "#Assign result to accuracy_score variable\n",
    "score = model_tester(y,preds)\n",
    "\n",
    "print (\"The model correctly classified {} percent of the data.\".format(score*100))"
   ]
  },
  {
   "cell_type": "code",
   "execution_count": null,
   "metadata": {},
   "outputs": [],
   "source": []
  },
  {
   "cell_type": "code",
   "execution_count": null,
   "metadata": {},
   "outputs": [],
   "source": []
  },
  {
   "cell_type": "code",
   "execution_count": null,
   "metadata": {},
   "outputs": [],
   "source": []
  },
  {
   "cell_type": "code",
   "execution_count": null,
   "metadata": {},
   "outputs": [],
   "source": []
  },
  {
   "cell_type": "markdown",
   "metadata": {},
   "source": [
    "### <b> CONGRATULATIONS ON MAKING YOUR FIRST SUCCESSFUL MACHINE LEARNING MODEL!! <b>"
   ]
  },
  {
   "cell_type": "code",
   "execution_count": null,
   "metadata": {},
   "outputs": [],
   "source": []
  },
  {
   "cell_type": "code",
   "execution_count": null,
   "metadata": {},
   "outputs": [],
   "source": []
  },
  {
   "cell_type": "markdown",
   "metadata": {},
   "source": [
    "Let's a closer look to see what we got right and wrong. We are going to compare and contrast the labels and our predictions."
   ]
  },
  {
   "cell_type": "code",
   "execution_count": 45,
   "metadata": {},
   "outputs": [
    {
     "data": {
      "text/html": [
       "<div>\n",
       "<style scoped>\n",
       "    .dataframe tbody tr th:only-of-type {\n",
       "        vertical-align: middle;\n",
       "    }\n",
       "\n",
       "    .dataframe tbody tr th {\n",
       "        vertical-align: top;\n",
       "    }\n",
       "\n",
       "    .dataframe thead th {\n",
       "        text-align: right;\n",
       "    }\n",
       "</style>\n",
       "<table border=\"1\" class=\"dataframe\">\n",
       "  <thead>\n",
       "    <tr style=\"text-align: right;\">\n",
       "      <th>species</th>\n",
       "      <th>setosa</th>\n",
       "      <th>versicolor</th>\n",
       "      <th>virginica</th>\n",
       "    </tr>\n",
       "    <tr>\n",
       "      <th>row_0</th>\n",
       "      <th></th>\n",
       "      <th></th>\n",
       "      <th></th>\n",
       "    </tr>\n",
       "  </thead>\n",
       "  <tbody>\n",
       "    <tr>\n",
       "      <th>setosa</th>\n",
       "      <td>50</td>\n",
       "      <td>0</td>\n",
       "      <td>0</td>\n",
       "    </tr>\n",
       "    <tr>\n",
       "      <th>versicolor</th>\n",
       "      <td>0</td>\n",
       "      <td>48</td>\n",
       "      <td>2</td>\n",
       "    </tr>\n",
       "    <tr>\n",
       "      <th>virginica</th>\n",
       "      <td>0</td>\n",
       "      <td>2</td>\n",
       "      <td>48</td>\n",
       "    </tr>\n",
       "  </tbody>\n",
       "</table>\n",
       "</div>"
      ],
      "text/plain": [
       "species     setosa  versicolor  virginica\n",
       "row_0                                    \n",
       "setosa          50           0          0\n",
       "versicolor       0          48          2\n",
       "virginica        0           2         48"
      ]
     },
     "execution_count": 45,
     "metadata": {},
     "output_type": "execute_result"
    }
   ],
   "source": [
    "#Use pd.crosstab() to make a cross-tabulated data frame of the labels and predictions\n",
    "\n",
    "pd.crosstab(preds, iris.species)"
   ]
  },
  {
   "cell_type": "markdown",
   "metadata": {},
   "source": [
    "The actual labels are the index values and the predicted labels are the columns. Known as a <b>confusion matrix</b>.\n",
    "<br><br>\n",
    "What does this tell us about our model?"
   ]
  },
  {
   "cell_type": "code",
   "execution_count": null,
   "metadata": {},
   "outputs": [],
   "source": []
  },
  {
   "cell_type": "markdown",
   "metadata": {},
   "source": [
    "Questions so far???"
   ]
  },
  {
   "cell_type": "code",
   "execution_count": null,
   "metadata": {},
   "outputs": [],
   "source": []
  },
  {
   "cell_type": "code",
   "execution_count": null,
   "metadata": {},
   "outputs": [],
   "source": []
  },
  {
   "cell_type": "markdown",
   "metadata": {},
   "source": [
    "### Decision Trees"
   ]
  },
  {
   "cell_type": "markdown",
   "metadata": {},
   "source": [
    "- One of the most popular and oldest machine learning models.\n",
    "- Both a classification and regression supervised model.\n",
    "- Intuitive. Very obvious why it's called \"Decision Trees.\" \n",
    "- Foundation is asking a series of questions designed to zero-in on the classification. Sound familiar? (Hint: 20 questions.)\n",
    "- Gateway model to more complex models such as Random Forests and Gradient Boosting."
   ]
  },
  {
   "cell_type": "markdown",
   "metadata": {},
   "source": [
    "Agenda: \n",
    "\n",
    "- Interpret a tree diagram\n",
    "- Explain how a decision tree is created\n",
    "- Build a decision tree model in scikit-learn"
   ]
  },
  {
   "cell_type": "code",
   "execution_count": null,
   "metadata": {},
   "outputs": [],
   "source": []
  },
  {
   "cell_type": "markdown",
   "metadata": {},
   "source": [
    "#### How a Decision Tree works\n",
    "What makes Decision Trees great is that you can see the process in how it determines a classification.\n",
    "<br><br>\n",
    "Below is a decision tree that models data from the 2008 Democratic primary. It is predicting whether or not a county voted for Hillary Clinton or Barack Obama based on demographics and other features."
   ]
  },
  {
   "cell_type": "markdown",
   "metadata": {},
   "source": [
    "![Stuff](https://static01.nyt.com/images/2008/04/16/us/0416-nat-subOBAMA.jpg)"
   ]
  },
  {
   "cell_type": "markdown",
   "metadata": {},
   "source": [
    "**Important:**\n",
    "\n",
    "- What are the observations? How many observations are there?\n",
    "- What is the response variable?\n",
    "- What are the features?\n",
    "- How are the predictions made?\n",
    "- What is the most predictive feature?"
   ]
  },
  {
   "cell_type": "code",
   "execution_count": null,
   "metadata": {},
   "outputs": [],
   "source": []
  },
  {
   "cell_type": "code",
   "execution_count": null,
   "metadata": {},
   "outputs": [],
   "source": []
  },
  {
   "cell_type": "markdown",
   "metadata": {},
   "source": [
    "The first split is \"County > 20% Black Population\". In this example, when a splitting rule is <b>True</b>, the model follows the right branch and when the splitting rule is <b>False</b>, it follows the left branch. "
   ]
  },
  {
   "cell_type": "markdown",
   "metadata": {},
   "source": [
    "#### Which candidate would the model predict winning this county?\n",
    "15% Black, 82% HS graduation rate, located in Michigan, 60% earned less than $30,000\n",
    "<br><br>\n",
    "Whats the probability for this prediction?"
   ]
  },
  {
   "cell_type": "code",
   "execution_count": null,
   "metadata": {},
   "outputs": [],
   "source": []
  },
  {
   "cell_type": "markdown",
   "metadata": {},
   "source": [
    "- Number of questions indicates the depth of the model, which measures the complexitiy of a model. \n",
    "- Model splits until every observation that satisfies a series of conditions is of the same class or until the model reaches the maximum depth.\n",
    "- Setting a maximum depth is known as \"pruning\" and not setting one or choosing too big of one can lead to overfitting."
   ]
  },
  {
   "cell_type": "code",
   "execution_count": null,
   "metadata": {},
   "outputs": [],
   "source": []
  },
  {
   "cell_type": "markdown",
   "metadata": {},
   "source": [
    "<b> Why did this model make those decisions? Why is fewer than 20% black the first decision? Why 20% instead of 16 or 25?</b>\n",
    "- At each node, we choose the decision that provides the best split, this is known as maximixing the information gain.\n",
    "- The point where the split is made is determined by which point yields the lowest gini coefficient which measures the quality of a split (0 means perfect split.)\n",
    "- Order of decisions is based on feature importance. The first decision is made on the model's most important feature. Very valuable method for feature selection and engineering."
   ]
  },
  {
   "cell_type": "code",
   "execution_count": null,
   "metadata": {},
   "outputs": [],
   "source": []
  },
  {
   "cell_type": "markdown",
   "metadata": {},
   "source": [
    "### Decision Tree Classifier with Sklearn"
   ]
  },
  {
   "cell_type": "code",
   "execution_count": 84,
   "metadata": {},
   "outputs": [],
   "source": [
    "#Import model from scikit learn library\n",
    "from sklearn.tree import DecisionTreeClassifier\n"
   ]
  },
  {
   "cell_type": "code",
   "execution_count": 85,
   "metadata": {},
   "outputs": [],
   "source": [
    "#We're going to use sklearn to make some fake data.\n",
    "from sklearn.datasets import make_classification\n",
    "\n",
    "#Generate fake data that is 500 x 2.\n",
    "data = make_classification(n_samples=500, n_features=2, n_informative=2, n_redundant=0, random_state=14)"
   ]
  },
  {
   "cell_type": "code",
   "execution_count": 86,
   "metadata": {},
   "outputs": [
    {
     "data": {
      "text/plain": [
       "tuple"
      ]
     },
     "execution_count": 86,
     "metadata": {},
     "output_type": "execute_result"
    }
   ],
   "source": [
    "type(data)"
   ]
  },
  {
   "cell_type": "code",
   "execution_count": 87,
   "metadata": {},
   "outputs": [
    {
     "data": {
      "text/plain": [
       "2"
      ]
     },
     "execution_count": 87,
     "metadata": {},
     "output_type": "execute_result"
    }
   ],
   "source": [
    "len(data)"
   ]
  },
  {
   "cell_type": "code",
   "execution_count": 88,
   "metadata": {},
   "outputs": [
    {
     "data": {
      "text/plain": [
       "(array([[ 2.76025409,  0.14972185],\n",
       "        [ 0.04178023,  0.39037211],\n",
       "        [-0.58198647,  0.90512326],\n",
       "        [ 0.31480609, -0.84286856],\n",
       "        [ 2.65353098, -3.11802035],\n",
       "        [-0.73507186,  0.6769099 ],\n",
       "        [ 3.19661398, -3.07745597],\n",
       "        [-0.25009558,  1.36548754],\n",
       "        [-1.43846523, -1.31134489],\n",
       "        [-1.0114854 , -0.8894869 ],\n",
       "        [ 3.39716996, -3.47695046],\n",
       "        [ 0.65528967,  0.64650298],\n",
       "        [-0.9226429 , -0.74684497],\n",
       "        [-0.33919246, -1.45792078],\n",
       "        [ 0.18175904, -0.20965302],\n",
       "        [ 1.20846877,  0.81627507],\n",
       "        [-1.81635567, -0.33895916],\n",
       "        [ 0.63244078, -0.36112151],\n",
       "        [ 0.58362039,  1.24497016],\n",
       "        [ 1.03480333, -1.01548994],\n",
       "        [ 2.29787966,  0.80302421],\n",
       "        [-0.35345764,  0.52479877],\n",
       "        [ 1.04253462,  0.47895117],\n",
       "        [-0.4534809 ,  1.70934813],\n",
       "        [ 3.07363322,  0.15867007],\n",
       "        [ 2.83371275,  0.4423501 ],\n",
       "        [-1.7121883 ,  1.1173544 ],\n",
       "        [ 0.351539  ,  1.01282378],\n",
       "        [ 1.52472404, -2.05477695],\n",
       "        [-0.78681761, -0.12257138],\n",
       "        [-1.30759267, -2.07180751],\n",
       "        [ 1.06629875, -0.07116688],\n",
       "        [ 1.81377774,  0.54351754],\n",
       "        [ 2.49408055, -1.86846649],\n",
       "        [-0.51738297, -0.1287162 ],\n",
       "        [-1.35455186, -1.26789104],\n",
       "        [-3.23429748, -1.23941155],\n",
       "        [-1.83570816,  2.22736839],\n",
       "        [ 0.64170953, -0.49540053],\n",
       "        [ 0.61048852,  0.38223432],\n",
       "        [-0.39907043, -0.60227978],\n",
       "        [ 0.6140264 , -0.51812789],\n",
       "        [-1.76155797, -2.00622579],\n",
       "        [ 0.26870958, -0.2680748 ],\n",
       "        [ 2.72743537,  0.41653666],\n",
       "        [-0.94143007, -1.22201753],\n",
       "        [ 0.55732666, -1.00479948],\n",
       "        [ 0.54658924,  0.90638905],\n",
       "        [-0.17032465, -0.36026056],\n",
       "        [-2.44377948, -2.85054272],\n",
       "        [ 0.68829847,  1.24668036],\n",
       "        [ 0.05231203,  0.45959664],\n",
       "        [ 0.13589149,  1.22228737],\n",
       "        [ 0.55653003,  0.68443011],\n",
       "        [-1.02166108, -0.55202443],\n",
       "        [ 1.09839559,  1.23716084],\n",
       "        [ 2.08599787,  0.31250587],\n",
       "        [ 0.02611695,  0.09099511],\n",
       "        [ 1.1753665 ,  0.81768256],\n",
       "        [-3.39929382,  2.43193448],\n",
       "        [ 1.19436317, -2.3199859 ],\n",
       "        [ 1.94199352, -2.19293166],\n",
       "        [-1.3821796 , -1.55825799],\n",
       "        [-2.42374543,  3.88577455],\n",
       "        [-1.42661417,  0.29613578],\n",
       "        [ 0.06120338, -0.13589895],\n",
       "        [-0.04889488, -0.24703962],\n",
       "        [-1.22439645,  1.18680772],\n",
       "        [-1.17809584, -1.80545664],\n",
       "        [ 0.59980389,  1.57384727],\n",
       "        [ 1.96708027, -2.07474195],\n",
       "        [ 0.39645173,  0.80761096],\n",
       "        [ 2.57911545,  1.20497896],\n",
       "        [-1.21785684, -1.53918606],\n",
       "        [ 1.81792449,  0.75824324],\n",
       "        [-0.50688682, -0.3625788 ],\n",
       "        [ 0.99371037,  1.27582846],\n",
       "        [ 0.20207565,  1.34478942],\n",
       "        [ 1.63997214,  0.43945811],\n",
       "        [ 1.4113813 , -1.40996136],\n",
       "        [-1.45555658, -1.5884656 ],\n",
       "        [-0.42383159, -0.60145816],\n",
       "        [-1.65867593, -1.13482282],\n",
       "        [ 0.43223646, -0.47471186],\n",
       "        [-0.74976585,  0.46666807],\n",
       "        [-0.16905302,  0.33504237],\n",
       "        [-1.32534093,  1.91859   ],\n",
       "        [-1.3580011 , -1.2242777 ],\n",
       "        [ 0.11942084,  1.23097763],\n",
       "        [-1.26980317, -1.29505646],\n",
       "        [ 2.50536051, -2.73995475],\n",
       "        [-1.30670524, -1.54095933],\n",
       "        [-0.87844222, -1.56205318],\n",
       "        [-1.08793669, -0.86833889],\n",
       "        [ 1.39631743,  0.63015538],\n",
       "        [-2.5602794 ,  1.04369976],\n",
       "        [-1.58552684,  2.71009466],\n",
       "        [-0.29788072, -0.49246264],\n",
       "        [-0.52873033, -0.43341344],\n",
       "        [ 1.66023227,  1.12764445],\n",
       "        [ 0.44412119,  0.77983182],\n",
       "        [ 2.19757834, -2.0393018 ],\n",
       "        [ 3.34045317,  0.5333612 ],\n",
       "        [-1.01363404,  1.03007989],\n",
       "        [ 1.82993461,  0.65699173],\n",
       "        [-1.43157961, -1.5056203 ],\n",
       "        [-2.19705543, -2.40969221],\n",
       "        [ 1.78134985, -1.89955687],\n",
       "        [-0.26929053, -0.65075823],\n",
       "        [-0.30177248, -1.03992585],\n",
       "        [ 1.58291142,  1.00735677],\n",
       "        [-1.05568669, -0.70264571],\n",
       "        [-1.17244192,  0.71364316],\n",
       "        [-1.08425815,  0.96499265],\n",
       "        [ 1.38817845, -1.35268   ],\n",
       "        [ 0.25333877,  0.49081023],\n",
       "        [ 0.30084682, -0.68425797],\n",
       "        [-1.31642407,  0.09356341],\n",
       "        [-0.88043001,  0.86763852],\n",
       "        [ 0.21398579,  1.39086006],\n",
       "        [ 0.05319275, -0.34550222],\n",
       "        [-0.03376397,  0.22144767],\n",
       "        [-1.00644508, -0.77725652],\n",
       "        [-0.05714021, -0.47240577],\n",
       "        [ 0.20817268,  0.04298125],\n",
       "        [-1.1190659 ,  0.80995232],\n",
       "        [-1.38372222, -1.40233114],\n",
       "        [ 1.90380845,  0.72171847],\n",
       "        [ 1.59557199,  0.57906192],\n",
       "        [-0.10896576, -0.03674602],\n",
       "        [-1.08500303,  1.09790287],\n",
       "        [-1.61320049,  1.32406115],\n",
       "        [-2.24501755,  1.47976233],\n",
       "        [ 0.44025708,  1.87251363],\n",
       "        [-1.55988713, -1.3218529 ],\n",
       "        [-1.82222212, -1.69213596],\n",
       "        [ 1.20053425, -0.67018961],\n",
       "        [-0.82074865,  2.24672478],\n",
       "        [-1.2376592 , -1.43260389],\n",
       "        [ 0.02635305,  0.15986201],\n",
       "        [-0.23378388,  1.35007163],\n",
       "        [ 1.569145  , -1.53551529],\n",
       "        [-0.65468466, -1.17127319],\n",
       "        [-0.66757162, -0.62011161],\n",
       "        [ 1.34309412, -0.67951644],\n",
       "        [ 1.04617462,  1.07215438],\n",
       "        [-0.69415176, -0.7520569 ],\n",
       "        [-1.35391688,  0.62222071],\n",
       "        [ 1.28520739,  1.13011173],\n",
       "        [ 1.63584781,  0.80506305],\n",
       "        [ 0.19161699, -1.08661697],\n",
       "        [-0.76335267,  1.35750404],\n",
       "        [ 2.10588567,  0.39143564],\n",
       "        [ 0.61827457, -0.68185441],\n",
       "        [-0.89694494,  1.29219726],\n",
       "        [-1.29140778, -0.8943828 ],\n",
       "        [ 0.53546332, -0.98863884],\n",
       "        [-1.91032551,  0.75614887],\n",
       "        [-0.03840734,  1.2909047 ],\n",
       "        [ 1.3984971 , -0.43136006],\n",
       "        [ 1.11904245, -1.44018429],\n",
       "        [-2.06968367, -1.42176763],\n",
       "        [-0.83280919, -0.80681757],\n",
       "        [ 0.74604451,  0.24822541],\n",
       "        [ 1.5590508 , -1.19188417],\n",
       "        [ 3.71098518, -3.66557421],\n",
       "        [ 1.7219194 , -2.40197258],\n",
       "        [-2.36399938,  0.69356015],\n",
       "        [ 1.81293542,  0.19219755],\n",
       "        [ 0.0740041 , -0.23964663],\n",
       "        [ 0.21500292,  1.56347297],\n",
       "        [-0.99071332, -1.29802345],\n",
       "        [ 1.47738738, -2.84115904],\n",
       "        [ 0.89271877, -0.40415824],\n",
       "        [-1.4121753 , -1.50825824],\n",
       "        [ 0.30788973, -0.78324944],\n",
       "        [ 0.83730581, -2.10311275],\n",
       "        [-0.98890047, -1.46847485],\n",
       "        [ 1.05639406,  1.15000044],\n",
       "        [-1.00346845,  1.43639903],\n",
       "        [ 0.70397582,  0.61404357],\n",
       "        [-0.7193614 ,  1.17004564],\n",
       "        [-0.45777589, -0.67799705],\n",
       "        [ 0.57006906,  1.08012656],\n",
       "        [ 1.91944963,  0.39914847],\n",
       "        [ 1.89379566, -1.78096396],\n",
       "        [ 1.63883104,  1.00392265],\n",
       "        [ 0.95926082, -0.55065199],\n",
       "        [-1.2658567 , -1.45788726],\n",
       "        [-0.88378571, -0.36850601],\n",
       "        [ 0.56150425, -0.14021648],\n",
       "        [ 0.31806788, -0.98722151],\n",
       "        [ 1.20309137,  0.63410249],\n",
       "        [-0.55979642,  0.65650103],\n",
       "        [ 2.44906004, -2.36894441],\n",
       "        [ 0.5345327 ,  0.4824287 ],\n",
       "        [-1.03426678, -0.55478945],\n",
       "        [ 1.05024427,  1.53772018],\n",
       "        [-1.17704268, -1.67436818],\n",
       "        [-0.52251426, -0.30296519],\n",
       "        [ 0.4200957 ,  0.4630682 ],\n",
       "        [ 0.03312809,  1.47483417],\n",
       "        [ 1.40360775, -1.12550047],\n",
       "        [ 2.96914174,  0.35844467],\n",
       "        [-0.43273268,  0.75218669],\n",
       "        [ 1.78546847,  1.21786177],\n",
       "        [-1.89787333, -2.04833695],\n",
       "        [ 0.58771668, -0.22722878],\n",
       "        [-1.18454676, -1.81428443],\n",
       "        [ 0.15778868,  1.4881716 ],\n",
       "        [ 2.69968288, -2.95807556],\n",
       "        [-1.22585531, -1.81932625],\n",
       "        [-2.20538742, -2.55389328],\n",
       "        [ 0.73161057,  1.00438855],\n",
       "        [-0.04191246, -1.53215563],\n",
       "        [-0.62815592,  1.44493714],\n",
       "        [ 2.01765691, -3.02699969],\n",
       "        [ 1.37137064, -1.76108891],\n",
       "        [ 0.45707483, -0.45232655],\n",
       "        [-0.70036275, -0.66304463],\n",
       "        [ 1.8267806 , -1.90970456],\n",
       "        [-1.46012771,  1.66112671],\n",
       "        [-0.65533152,  1.74412408],\n",
       "        [-2.60584508,  0.7549036 ],\n",
       "        [-0.41081958,  0.64024162],\n",
       "        [-1.34988731, -0.55597925],\n",
       "        [ 0.04927735, -0.56287062],\n",
       "        [ 0.45718256,  0.9039456 ],\n",
       "        [-1.37398206, -0.19638228],\n",
       "        [ 2.02083482, -1.69813893],\n",
       "        [-2.7170251 ,  0.21459863],\n",
       "        [ 0.00990942,  1.28488433],\n",
       "        [-1.99409619,  0.03925239],\n",
       "        [-1.19067543,  0.71677691],\n",
       "        [ 0.50149926, -0.13472649],\n",
       "        [-0.80847658, -0.88924177],\n",
       "        [-1.41303918, -1.31170145],\n",
       "        [-2.92547326, -2.95739049],\n",
       "        [-0.46155845, -0.21540413],\n",
       "        [-0.27525808,  0.93828352],\n",
       "        [ 2.39729263, -2.09352739],\n",
       "        [ 2.01265386,  0.69063072],\n",
       "        [-0.61459205,  0.26610409],\n",
       "        [ 0.40226536,  0.98255096],\n",
       "        [-2.13257016, -1.97567452],\n",
       "        [-1.42770598, -0.98403538],\n",
       "        [-1.31859357, -1.19533503],\n",
       "        [-1.3338928 , -1.63648287],\n",
       "        [-1.01453863, -1.04470213],\n",
       "        [ 0.04665968,  1.24434251],\n",
       "        [ 1.90518204,  0.3406163 ],\n",
       "        [ 1.69683355, -1.5466798 ],\n",
       "        [ 2.37668099, -0.06348234],\n",
       "        [ 0.83496786,  1.00132311],\n",
       "        [-0.35270621, -0.50627593],\n",
       "        [-0.06165357,  1.36972212],\n",
       "        [ 2.38442252,  0.46498506],\n",
       "        [ 0.52897372,  0.56737211],\n",
       "        [-1.02734029, -0.89135001],\n",
       "        [ 2.725117  ,  0.12069033],\n",
       "        [-0.98160716,  2.57762183],\n",
       "        [ 2.11468886,  0.59645219],\n",
       "        [ 0.10896672, -0.29255919],\n",
       "        [ 0.45308958,  1.41415921],\n",
       "        [ 0.85280069,  1.09521156],\n",
       "        [ 1.39222048, -2.03532987],\n",
       "        [ 0.01394301,  1.05973286],\n",
       "        [ 2.62956361, -2.29115454],\n",
       "        [ 1.21405523, -1.74874149],\n",
       "        [-1.04384932, -0.62291504],\n",
       "        [ 1.66722743,  0.73088964],\n",
       "        [-2.12158749, -0.02699681],\n",
       "        [-0.22490887,  1.54869555],\n",
       "        [-1.49367043,  1.32906744],\n",
       "        [-0.39828747, -0.0151061 ],\n",
       "        [ 0.51210739, -0.31009073],\n",
       "        [-0.64790934,  0.85622012],\n",
       "        [-0.17029208, -0.42304235],\n",
       "        [-1.00378606, -1.157625  ],\n",
       "        [ 2.221432  , -2.06271904],\n",
       "        [-1.89194243,  1.46430319],\n",
       "        [ 1.86300854,  0.67576851],\n",
       "        [-1.53736812,  0.18682477],\n",
       "        [-1.29655803, -1.46071097],\n",
       "        [-1.1224978 , -0.693575  ],\n",
       "        [ 0.76979291,  0.70365507],\n",
       "        [ 1.55429006,  0.8382132 ],\n",
       "        [-0.72513215,  0.10641717],\n",
       "        [-0.15729658,  0.14836862],\n",
       "        [ 2.6066961 ,  1.14108086],\n",
       "        [ 1.08440301, -1.77161935],\n",
       "        [-1.44936498, -1.78051151],\n",
       "        [ 1.95512789, -1.97000153],\n",
       "        [ 2.14553252,  0.66343709],\n",
       "        [ 2.04680783,  1.12304517],\n",
       "        [-0.59797141,  1.03499723],\n",
       "        [-1.44123374, -1.39891613],\n",
       "        [-1.95885237, -1.88198623],\n",
       "        [-0.66141922,  0.533344  ],\n",
       "        [-1.64503802, -1.29897353],\n",
       "        [-1.67313196, -1.40918176],\n",
       "        [-1.29369171,  1.57015747],\n",
       "        [-1.05713392,  1.19611554],\n",
       "        [-1.47936671, -1.38305593],\n",
       "        [ 2.06589219, -2.60419929],\n",
       "        [-0.20114881,  0.98312492],\n",
       "        [-1.35384298, -1.7944116 ],\n",
       "        [-1.02763645,  1.55899197],\n",
       "        [-1.7693672 , -1.76716359],\n",
       "        [ 0.55423678, -0.86495138],\n",
       "        [ 0.32795246,  0.88394916],\n",
       "        [ 0.20587153, -0.42563848],\n",
       "        [-0.98175398,  1.00121254],\n",
       "        [-1.47434542, -1.6034169 ],\n",
       "        [ 1.4657714 , -1.57468367],\n",
       "        [-1.32349506, -1.98075632],\n",
       "        [ 2.03572077,  0.7796819 ],\n",
       "        [-1.43109838, -1.89112775],\n",
       "        [ 1.42940529, -1.93816839],\n",
       "        [ 0.9642296 ,  0.95714076],\n",
       "        [ 1.64724743, -1.1108332 ],\n",
       "        [ 1.86830812, -2.39057769],\n",
       "        [-1.0973059 , -0.77066799],\n",
       "        [ 0.59962432, -1.05112945],\n",
       "        [-1.66755187,  1.5889892 ],\n",
       "        [-0.93857418,  0.8765546 ],\n",
       "        [ 3.05263941,  0.48532447],\n",
       "        [-0.11318385,  1.62928332],\n",
       "        [-1.10523696, -1.0902436 ],\n",
       "        [-0.53072879,  1.43783611],\n",
       "        [-0.25092775, -1.05386225],\n",
       "        [-1.59477978, -1.31954199],\n",
       "        [-0.36531984,  1.74739894],\n",
       "        [-0.55245493,  0.70350815],\n",
       "        [-0.34888559,  1.24179129],\n",
       "        [ 0.10903235,  1.80033292],\n",
       "        [ 2.57471227, -2.70941064],\n",
       "        [ 1.11953042, -0.86065878],\n",
       "        [ 0.19587611,  0.14380906],\n",
       "        [-0.01719062,  0.51368656],\n",
       "        [ 3.1262283 ,  0.53017785],\n",
       "        [ 0.12599748,  0.4166585 ],\n",
       "        [ 0.19297572,  0.3234995 ],\n",
       "        [ 1.11348463, -1.1646948 ],\n",
       "        [-0.32052828, -0.29569111],\n",
       "        [-0.06851831,  1.02239369],\n",
       "        [-0.59980696,  0.08997861],\n",
       "        [ 2.24102617, -1.82979855],\n",
       "        [ 0.87641922,  0.67275114],\n",
       "        [-0.95323839,  0.14605533],\n",
       "        [-0.77908748,  0.89592526],\n",
       "        [ 1.43356988, -2.04582687],\n",
       "        [ 1.57819648,  1.08627959],\n",
       "        [-0.61657599,  0.47610294],\n",
       "        [ 0.89143699,  0.16012711],\n",
       "        [-2.79685813, -2.7609471 ],\n",
       "        [ 1.72580543,  0.63914025],\n",
       "        [ 1.34184934,  0.87596456],\n",
       "        [-0.71721375,  1.54113044],\n",
       "        [-0.90306712, -0.93691247],\n",
       "        [ 1.59127779, -1.71332101],\n",
       "        [-1.61250351, -2.38473903],\n",
       "        [ 0.44761754, -0.08718238],\n",
       "        [ 1.21104444,  1.269382  ],\n",
       "        [ 1.57763768, -1.24649519],\n",
       "        [-0.3350409 ,  0.25145398],\n",
       "        [ 0.58068077, -0.56490334],\n",
       "        [ 0.34020524,  0.83103034],\n",
       "        [ 3.09341696,  0.2642797 ],\n",
       "        [-1.79351692, -1.86479033],\n",
       "        [ 0.49110639, -1.0027839 ],\n",
       "        [ 0.14991877, -0.44137887],\n",
       "        [-1.35870689, -1.71049795],\n",
       "        [-0.25118495,  1.49557229],\n",
       "        [ 0.22324575,  0.77860378],\n",
       "        [ 1.56502072, -0.87500641],\n",
       "        [-0.9540373 , -1.35965203],\n",
       "        [-0.85185205, -1.06521096],\n",
       "        [-0.45131031,  1.89714222],\n",
       "        [ 0.86046927,  1.02079008],\n",
       "        [ 0.32221549,  1.20790313],\n",
       "        [-1.05380328,  1.26847073],\n",
       "        [-0.52331309, -0.31047354],\n",
       "        [ 1.68009182,  0.80468018],\n",
       "        [ 0.73813567, -1.33535126],\n",
       "        [-0.43924932,  0.24598937],\n",
       "        [-1.16229538, -1.09221896],\n",
       "        [-1.86908461,  2.13865844],\n",
       "        [ 0.45425555, -0.11700118],\n",
       "        [-0.63093789, -0.7580824 ],\n",
       "        [ 1.64565525,  1.10814454],\n",
       "        [-1.52019744,  1.88935469],\n",
       "        [-1.77735457,  1.42253746],\n",
       "        [-0.42923866,  1.77551221],\n",
       "        [ 2.0526639 , -2.25321229],\n",
       "        [ 1.02235834,  0.65244611],\n",
       "        [-0.10486048,  1.23513447],\n",
       "        [-0.62240616,  1.00136601],\n",
       "        [ 1.21521437,  0.86936293],\n",
       "        [ 2.29634859, -2.39761689],\n",
       "        [-1.30973892,  3.28577938],\n",
       "        [-2.37394415,  1.25410807],\n",
       "        [-1.54577235, -1.37087715],\n",
       "        [-0.98756442, -0.99015723],\n",
       "        [ 1.68440381,  1.01504855],\n",
       "        [-1.00064121,  0.56301586],\n",
       "        [-0.43991967,  1.1748131 ],\n",
       "        [-0.94815092, -0.35376304],\n",
       "        [-1.78874409, -1.69821849],\n",
       "        [ 1.46754965,  0.56223431],\n",
       "        [-0.04459203, -0.41424355],\n",
       "        [-0.50791017,  0.22758726],\n",
       "        [ 0.60941276,  0.45721864],\n",
       "        [ 1.93142378, -3.16264181],\n",
       "        [ 0.8468609 , -0.9108242 ],\n",
       "        [ 0.30653089,  0.88629641],\n",
       "        [-0.84143682, -0.70036111],\n",
       "        [-0.49555122,  1.46719015],\n",
       "        [-0.14295929, -0.35580956],\n",
       "        [ 1.65866073, -1.45381725],\n",
       "        [-1.18731526, -1.30460225],\n",
       "        [ 0.24823151, -0.23567872],\n",
       "        [-0.11009426,  2.87737153],\n",
       "        [-0.24679167,  0.93046398],\n",
       "        [ 0.71183174,  1.24238792],\n",
       "        [-2.06870981, -1.45488984],\n",
       "        [ 0.53534805, -0.75002518],\n",
       "        [-0.90104204, -0.91356236],\n",
       "        [-1.84575591, -0.20606604],\n",
       "        [-1.84589038, -1.6936143 ],\n",
       "        [-0.18342047,  1.89191167],\n",
       "        [-1.30386008, -0.90885114],\n",
       "        [ 2.14935326,  0.62130743],\n",
       "        [-2.26405466, -2.52118855],\n",
       "        [-0.15349345,  1.59897426],\n",
       "        [-0.14983265, -0.97170764],\n",
       "        [-1.3537839 ,  1.79507952],\n",
       "        [ 1.15186738, -1.83974897],\n",
       "        [ 1.10669371,  1.44441411],\n",
       "        [ 0.36531158, -0.44099545],\n",
       "        [ 0.71767735,  1.25413201],\n",
       "        [ 0.54533707, -0.88368928],\n",
       "        [-0.11900145, -0.17575457],\n",
       "        [-1.25511172, -0.76716497],\n",
       "        [-1.5935941 ,  1.17055602],\n",
       "        [-2.92621815, -3.14103539],\n",
       "        [ 1.89221622,  0.5111409 ],\n",
       "        [ 1.52461467,  0.60447861],\n",
       "        [-1.20976826,  1.07129884],\n",
       "        [-0.86589214, -0.85290614],\n",
       "        [-0.47085848,  1.56742841],\n",
       "        [ 2.79251315, -2.67808256],\n",
       "        [-1.01956716, -1.35728009],\n",
       "        [-1.97053873, -0.07459159],\n",
       "        [-1.66950425,  0.62822426],\n",
       "        [-0.59427183,  0.71018956],\n",
       "        [-1.80795406,  0.93476523],\n",
       "        [-0.86679403,  0.40879986],\n",
       "        [ 0.57872905,  2.29109026],\n",
       "        [ 1.08430732,  0.69589135],\n",
       "        [-1.37175835,  0.9899953 ],\n",
       "        [-1.60066414,  0.23517727],\n",
       "        [-1.18570194,  1.65243974],\n",
       "        [ 2.56178835, -2.86548594],\n",
       "        [ 0.50990245,  0.55529506],\n",
       "        [-0.61513726,  0.23561016],\n",
       "        [ 0.30438842, -0.90131413],\n",
       "        [-0.90877396, -1.15088896],\n",
       "        [-0.13602035,  0.28030218],\n",
       "        [-1.65977144,  2.12790663],\n",
       "        [ 2.3588664 ,  0.69923238],\n",
       "        [ 2.51494606, -2.83592386],\n",
       "        [ 1.71199761,  0.98097583],\n",
       "        [-2.2628026 , -2.66104948],\n",
       "        [-0.92715746, -1.33398219],\n",
       "        [ 0.67534798,  0.88888182],\n",
       "        [ 0.28383535, -0.16587256],\n",
       "        [ 1.31721259,  0.97776228],\n",
       "        [-0.50022607,  1.7028164 ],\n",
       "        [-1.53058908,  1.14015734],\n",
       "        [ 1.16565114, -0.82755975],\n",
       "        [-0.40206007, -0.33637659],\n",
       "        [-1.53211381, -1.85909278],\n",
       "        [-0.37028987, -0.25180128],\n",
       "        [-1.63489877,  1.01330365],\n",
       "        [ 0.6793999 ,  1.24150912],\n",
       "        [-2.36474978,  0.59724994],\n",
       "        [-1.05890809, -0.65807229],\n",
       "        [-1.43258774, -1.68421317],\n",
       "        [-0.92319899,  1.60269444],\n",
       "        [-2.13888065,  1.37180476],\n",
       "        [ 0.65716313,  1.12303796],\n",
       "        [ 2.08810121,  0.57072003],\n",
       "        [ 1.11153846,  1.33646538],\n",
       "        [-1.88752154,  0.68047916],\n",
       "        [ 0.11467765, -0.27183048],\n",
       "        [ 0.44738385,  1.27412691],\n",
       "        [-2.69935112,  3.02191475],\n",
       "        [-1.48665984, -1.09032811],\n",
       "        [ 3.75901431, -3.54087244]]),\n",
       " array([1, 0, 1, 0, 0, 0, 0, 1, 0, 0, 0, 1, 0, 1, 0, 1, 1, 0, 1, 0, 0, 0,\n",
       "        1, 1, 1, 1, 1, 1, 0, 1, 0, 0, 1, 0, 0, 0, 1, 1, 0, 0, 0, 0, 0, 0,\n",
       "        1, 0, 0, 1, 0, 0, 1, 1, 1, 1, 1, 1, 1, 0, 1, 1, 0, 0, 0, 1, 1, 0,\n",
       "        0, 0, 0, 1, 0, 1, 1, 0, 1, 1, 1, 1, 1, 0, 0, 1, 0, 0, 1, 0, 1, 0,\n",
       "        1, 0, 0, 0, 0, 0, 1, 1, 1, 1, 1, 1, 1, 0, 1, 1, 1, 0, 1, 0, 0, 0,\n",
       "        1, 0, 1, 1, 0, 1, 0, 1, 1, 1, 0, 1, 0, 0, 0, 1, 0, 1, 1, 0, 1, 1,\n",
       "        1, 1, 0, 0, 0, 1, 0, 0, 1, 0, 0, 0, 0, 1, 0, 0, 1, 1, 0, 1, 1, 0,\n",
       "        1, 0, 0, 1, 1, 0, 0, 0, 0, 0, 0, 0, 0, 1, 1, 0, 1, 0, 0, 0, 0, 0,\n",
       "        0, 0, 1, 1, 0, 1, 0, 1, 1, 0, 1, 1, 0, 0, 0, 0, 1, 0, 0, 0, 0, 1,\n",
       "        0, 1, 0, 1, 0, 1, 0, 1, 0, 0, 0, 1, 0, 0, 0, 1, 1, 1, 0, 0, 0, 0,\n",
       "        0, 1, 1, 1, 1, 1, 0, 1, 1, 0, 1, 1, 1, 1, 1, 0, 0, 0, 0, 1, 0, 1,\n",
       "        0, 1, 0, 1, 0, 0, 0, 1, 1, 0, 1, 1, 0, 1, 1, 1, 0, 1, 1, 1, 0, 1,\n",
       "        1, 0, 1, 0, 0, 0, 1, 1, 1, 1, 0, 0, 1, 0, 0, 0, 0, 1, 1, 0, 0, 1,\n",
       "        1, 1, 1, 1, 0, 0, 0, 1, 1, 1, 0, 0, 1, 0, 0, 1, 1, 0, 0, 1, 0, 1,\n",
       "        0, 0, 1, 0, 1, 0, 0, 0, 1, 0, 0, 1, 0, 0, 0, 0, 0, 1, 1, 1, 0, 1,\n",
       "        0, 0, 1, 1, 1, 1, 0, 0, 1, 1, 1, 1, 1, 0, 0, 1, 0, 0, 1, 1, 1, 0,\n",
       "        1, 1, 0, 0, 1, 1, 1, 0, 0, 0, 0, 1, 0, 0, 0, 1, 1, 0, 0, 0, 0, 1,\n",
       "        1, 0, 0, 0, 1, 1, 1, 1, 1, 1, 0, 0, 0, 1, 0, 0, 1, 1, 1, 1, 0, 1,\n",
       "        1, 1, 1, 0, 1, 1, 0, 0, 1, 1, 1, 0, 0, 1, 0, 1, 0, 0, 0, 1, 0, 1,\n",
       "        0, 0, 0, 0, 1, 1, 1, 0, 0, 0, 1, 0, 1, 0, 1, 0, 1, 0, 1, 0, 1, 0,\n",
       "        1, 0, 0, 0, 1, 0, 1, 1, 1, 0, 1, 0, 0, 1, 1, 1, 1, 1, 1, 1, 1, 1,\n",
       "        1, 0, 1, 1, 1, 0, 0, 1, 1, 0, 1, 0, 0, 1, 1, 1, 1, 1, 0, 0, 0, 0,\n",
       "        1, 1, 1, 1, 0, 1, 1, 1, 1, 1, 1, 0, 1, 1, 0, 0]))"
      ]
     },
     "execution_count": 88,
     "metadata": {},
     "output_type": "execute_result"
    }
   ],
   "source": [
    "data"
   ]
  },
  {
   "cell_type": "code",
   "execution_count": null,
   "metadata": {},
   "outputs": [],
   "source": []
  },
  {
   "cell_type": "code",
   "execution_count": 89,
   "metadata": {},
   "outputs": [
    {
     "data": {
      "text/plain": [
       "array([[ 2.76025409,  0.14972185],\n",
       "       [ 0.04178023,  0.39037211],\n",
       "       [-0.58198647,  0.90512326],\n",
       "       [ 0.31480609, -0.84286856],\n",
       "       [ 2.65353098, -3.11802035],\n",
       "       [-0.73507186,  0.6769099 ],\n",
       "       [ 3.19661398, -3.07745597],\n",
       "       [-0.25009558,  1.36548754],\n",
       "       [-1.43846523, -1.31134489],\n",
       "       [-1.0114854 , -0.8894869 ],\n",
       "       [ 3.39716996, -3.47695046],\n",
       "       [ 0.65528967,  0.64650298],\n",
       "       [-0.9226429 , -0.74684497],\n",
       "       [-0.33919246, -1.45792078],\n",
       "       [ 0.18175904, -0.20965302],\n",
       "       [ 1.20846877,  0.81627507],\n",
       "       [-1.81635567, -0.33895916],\n",
       "       [ 0.63244078, -0.36112151],\n",
       "       [ 0.58362039,  1.24497016],\n",
       "       [ 1.03480333, -1.01548994],\n",
       "       [ 2.29787966,  0.80302421],\n",
       "       [-0.35345764,  0.52479877],\n",
       "       [ 1.04253462,  0.47895117],\n",
       "       [-0.4534809 ,  1.70934813],\n",
       "       [ 3.07363322,  0.15867007],\n",
       "       [ 2.83371275,  0.4423501 ],\n",
       "       [-1.7121883 ,  1.1173544 ],\n",
       "       [ 0.351539  ,  1.01282378],\n",
       "       [ 1.52472404, -2.05477695],\n",
       "       [-0.78681761, -0.12257138],\n",
       "       [-1.30759267, -2.07180751],\n",
       "       [ 1.06629875, -0.07116688],\n",
       "       [ 1.81377774,  0.54351754],\n",
       "       [ 2.49408055, -1.86846649],\n",
       "       [-0.51738297, -0.1287162 ],\n",
       "       [-1.35455186, -1.26789104],\n",
       "       [-3.23429748, -1.23941155],\n",
       "       [-1.83570816,  2.22736839],\n",
       "       [ 0.64170953, -0.49540053],\n",
       "       [ 0.61048852,  0.38223432],\n",
       "       [-0.39907043, -0.60227978],\n",
       "       [ 0.6140264 , -0.51812789],\n",
       "       [-1.76155797, -2.00622579],\n",
       "       [ 0.26870958, -0.2680748 ],\n",
       "       [ 2.72743537,  0.41653666],\n",
       "       [-0.94143007, -1.22201753],\n",
       "       [ 0.55732666, -1.00479948],\n",
       "       [ 0.54658924,  0.90638905],\n",
       "       [-0.17032465, -0.36026056],\n",
       "       [-2.44377948, -2.85054272],\n",
       "       [ 0.68829847,  1.24668036],\n",
       "       [ 0.05231203,  0.45959664],\n",
       "       [ 0.13589149,  1.22228737],\n",
       "       [ 0.55653003,  0.68443011],\n",
       "       [-1.02166108, -0.55202443],\n",
       "       [ 1.09839559,  1.23716084],\n",
       "       [ 2.08599787,  0.31250587],\n",
       "       [ 0.02611695,  0.09099511],\n",
       "       [ 1.1753665 ,  0.81768256],\n",
       "       [-3.39929382,  2.43193448],\n",
       "       [ 1.19436317, -2.3199859 ],\n",
       "       [ 1.94199352, -2.19293166],\n",
       "       [-1.3821796 , -1.55825799],\n",
       "       [-2.42374543,  3.88577455],\n",
       "       [-1.42661417,  0.29613578],\n",
       "       [ 0.06120338, -0.13589895],\n",
       "       [-0.04889488, -0.24703962],\n",
       "       [-1.22439645,  1.18680772],\n",
       "       [-1.17809584, -1.80545664],\n",
       "       [ 0.59980389,  1.57384727],\n",
       "       [ 1.96708027, -2.07474195],\n",
       "       [ 0.39645173,  0.80761096],\n",
       "       [ 2.57911545,  1.20497896],\n",
       "       [-1.21785684, -1.53918606],\n",
       "       [ 1.81792449,  0.75824324],\n",
       "       [-0.50688682, -0.3625788 ],\n",
       "       [ 0.99371037,  1.27582846],\n",
       "       [ 0.20207565,  1.34478942],\n",
       "       [ 1.63997214,  0.43945811],\n",
       "       [ 1.4113813 , -1.40996136],\n",
       "       [-1.45555658, -1.5884656 ],\n",
       "       [-0.42383159, -0.60145816],\n",
       "       [-1.65867593, -1.13482282],\n",
       "       [ 0.43223646, -0.47471186],\n",
       "       [-0.74976585,  0.46666807],\n",
       "       [-0.16905302,  0.33504237],\n",
       "       [-1.32534093,  1.91859   ],\n",
       "       [-1.3580011 , -1.2242777 ],\n",
       "       [ 0.11942084,  1.23097763],\n",
       "       [-1.26980317, -1.29505646],\n",
       "       [ 2.50536051, -2.73995475],\n",
       "       [-1.30670524, -1.54095933],\n",
       "       [-0.87844222, -1.56205318],\n",
       "       [-1.08793669, -0.86833889],\n",
       "       [ 1.39631743,  0.63015538],\n",
       "       [-2.5602794 ,  1.04369976],\n",
       "       [-1.58552684,  2.71009466],\n",
       "       [-0.29788072, -0.49246264],\n",
       "       [-0.52873033, -0.43341344],\n",
       "       [ 1.66023227,  1.12764445],\n",
       "       [ 0.44412119,  0.77983182],\n",
       "       [ 2.19757834, -2.0393018 ],\n",
       "       [ 3.34045317,  0.5333612 ],\n",
       "       [-1.01363404,  1.03007989],\n",
       "       [ 1.82993461,  0.65699173],\n",
       "       [-1.43157961, -1.5056203 ],\n",
       "       [-2.19705543, -2.40969221],\n",
       "       [ 1.78134985, -1.89955687],\n",
       "       [-0.26929053, -0.65075823],\n",
       "       [-0.30177248, -1.03992585],\n",
       "       [ 1.58291142,  1.00735677],\n",
       "       [-1.05568669, -0.70264571],\n",
       "       [-1.17244192,  0.71364316],\n",
       "       [-1.08425815,  0.96499265],\n",
       "       [ 1.38817845, -1.35268   ],\n",
       "       [ 0.25333877,  0.49081023],\n",
       "       [ 0.30084682, -0.68425797],\n",
       "       [-1.31642407,  0.09356341],\n",
       "       [-0.88043001,  0.86763852],\n",
       "       [ 0.21398579,  1.39086006],\n",
       "       [ 0.05319275, -0.34550222],\n",
       "       [-0.03376397,  0.22144767],\n",
       "       [-1.00644508, -0.77725652],\n",
       "       [-0.05714021, -0.47240577],\n",
       "       [ 0.20817268,  0.04298125],\n",
       "       [-1.1190659 ,  0.80995232],\n",
       "       [-1.38372222, -1.40233114],\n",
       "       [ 1.90380845,  0.72171847],\n",
       "       [ 1.59557199,  0.57906192],\n",
       "       [-0.10896576, -0.03674602],\n",
       "       [-1.08500303,  1.09790287],\n",
       "       [-1.61320049,  1.32406115],\n",
       "       [-2.24501755,  1.47976233],\n",
       "       [ 0.44025708,  1.87251363],\n",
       "       [-1.55988713, -1.3218529 ],\n",
       "       [-1.82222212, -1.69213596],\n",
       "       [ 1.20053425, -0.67018961],\n",
       "       [-0.82074865,  2.24672478],\n",
       "       [-1.2376592 , -1.43260389],\n",
       "       [ 0.02635305,  0.15986201],\n",
       "       [-0.23378388,  1.35007163],\n",
       "       [ 1.569145  , -1.53551529],\n",
       "       [-0.65468466, -1.17127319],\n",
       "       [-0.66757162, -0.62011161],\n",
       "       [ 1.34309412, -0.67951644],\n",
       "       [ 1.04617462,  1.07215438],\n",
       "       [-0.69415176, -0.7520569 ],\n",
       "       [-1.35391688,  0.62222071],\n",
       "       [ 1.28520739,  1.13011173],\n",
       "       [ 1.63584781,  0.80506305],\n",
       "       [ 0.19161699, -1.08661697],\n",
       "       [-0.76335267,  1.35750404],\n",
       "       [ 2.10588567,  0.39143564],\n",
       "       [ 0.61827457, -0.68185441],\n",
       "       [-0.89694494,  1.29219726],\n",
       "       [-1.29140778, -0.8943828 ],\n",
       "       [ 0.53546332, -0.98863884],\n",
       "       [-1.91032551,  0.75614887],\n",
       "       [-0.03840734,  1.2909047 ],\n",
       "       [ 1.3984971 , -0.43136006],\n",
       "       [ 1.11904245, -1.44018429],\n",
       "       [-2.06968367, -1.42176763],\n",
       "       [-0.83280919, -0.80681757],\n",
       "       [ 0.74604451,  0.24822541],\n",
       "       [ 1.5590508 , -1.19188417],\n",
       "       [ 3.71098518, -3.66557421],\n",
       "       [ 1.7219194 , -2.40197258],\n",
       "       [-2.36399938,  0.69356015],\n",
       "       [ 1.81293542,  0.19219755],\n",
       "       [ 0.0740041 , -0.23964663],\n",
       "       [ 0.21500292,  1.56347297],\n",
       "       [-0.99071332, -1.29802345],\n",
       "       [ 1.47738738, -2.84115904],\n",
       "       [ 0.89271877, -0.40415824],\n",
       "       [-1.4121753 , -1.50825824],\n",
       "       [ 0.30788973, -0.78324944],\n",
       "       [ 0.83730581, -2.10311275],\n",
       "       [-0.98890047, -1.46847485],\n",
       "       [ 1.05639406,  1.15000044],\n",
       "       [-1.00346845,  1.43639903],\n",
       "       [ 0.70397582,  0.61404357],\n",
       "       [-0.7193614 ,  1.17004564],\n",
       "       [-0.45777589, -0.67799705],\n",
       "       [ 0.57006906,  1.08012656],\n",
       "       [ 1.91944963,  0.39914847],\n",
       "       [ 1.89379566, -1.78096396],\n",
       "       [ 1.63883104,  1.00392265],\n",
       "       [ 0.95926082, -0.55065199],\n",
       "       [-1.2658567 , -1.45788726],\n",
       "       [-0.88378571, -0.36850601],\n",
       "       [ 0.56150425, -0.14021648],\n",
       "       [ 0.31806788, -0.98722151],\n",
       "       [ 1.20309137,  0.63410249],\n",
       "       [-0.55979642,  0.65650103],\n",
       "       [ 2.44906004, -2.36894441],\n",
       "       [ 0.5345327 ,  0.4824287 ],\n",
       "       [-1.03426678, -0.55478945],\n",
       "       [ 1.05024427,  1.53772018],\n",
       "       [-1.17704268, -1.67436818],\n",
       "       [-0.52251426, -0.30296519],\n",
       "       [ 0.4200957 ,  0.4630682 ],\n",
       "       [ 0.03312809,  1.47483417],\n",
       "       [ 1.40360775, -1.12550047],\n",
       "       [ 2.96914174,  0.35844467],\n",
       "       [-0.43273268,  0.75218669],\n",
       "       [ 1.78546847,  1.21786177],\n",
       "       [-1.89787333, -2.04833695],\n",
       "       [ 0.58771668, -0.22722878],\n",
       "       [-1.18454676, -1.81428443],\n",
       "       [ 0.15778868,  1.4881716 ],\n",
       "       [ 2.69968288, -2.95807556],\n",
       "       [-1.22585531, -1.81932625],\n",
       "       [-2.20538742, -2.55389328],\n",
       "       [ 0.73161057,  1.00438855],\n",
       "       [-0.04191246, -1.53215563],\n",
       "       [-0.62815592,  1.44493714],\n",
       "       [ 2.01765691, -3.02699969],\n",
       "       [ 1.37137064, -1.76108891],\n",
       "       [ 0.45707483, -0.45232655],\n",
       "       [-0.70036275, -0.66304463],\n",
       "       [ 1.8267806 , -1.90970456],\n",
       "       [-1.46012771,  1.66112671],\n",
       "       [-0.65533152,  1.74412408],\n",
       "       [-2.60584508,  0.7549036 ],\n",
       "       [-0.41081958,  0.64024162],\n",
       "       [-1.34988731, -0.55597925],\n",
       "       [ 0.04927735, -0.56287062],\n",
       "       [ 0.45718256,  0.9039456 ],\n",
       "       [-1.37398206, -0.19638228],\n",
       "       [ 2.02083482, -1.69813893],\n",
       "       [-2.7170251 ,  0.21459863],\n",
       "       [ 0.00990942,  1.28488433],\n",
       "       [-1.99409619,  0.03925239],\n",
       "       [-1.19067543,  0.71677691],\n",
       "       [ 0.50149926, -0.13472649],\n",
       "       [-0.80847658, -0.88924177],\n",
       "       [-1.41303918, -1.31170145],\n",
       "       [-2.92547326, -2.95739049],\n",
       "       [-0.46155845, -0.21540413],\n",
       "       [-0.27525808,  0.93828352],\n",
       "       [ 2.39729263, -2.09352739],\n",
       "       [ 2.01265386,  0.69063072],\n",
       "       [-0.61459205,  0.26610409],\n",
       "       [ 0.40226536,  0.98255096],\n",
       "       [-2.13257016, -1.97567452],\n",
       "       [-1.42770598, -0.98403538],\n",
       "       [-1.31859357, -1.19533503],\n",
       "       [-1.3338928 , -1.63648287],\n",
       "       [-1.01453863, -1.04470213],\n",
       "       [ 0.04665968,  1.24434251],\n",
       "       [ 1.90518204,  0.3406163 ],\n",
       "       [ 1.69683355, -1.5466798 ],\n",
       "       [ 2.37668099, -0.06348234],\n",
       "       [ 0.83496786,  1.00132311],\n",
       "       [-0.35270621, -0.50627593],\n",
       "       [-0.06165357,  1.36972212],\n",
       "       [ 2.38442252,  0.46498506],\n",
       "       [ 0.52897372,  0.56737211],\n",
       "       [-1.02734029, -0.89135001],\n",
       "       [ 2.725117  ,  0.12069033],\n",
       "       [-0.98160716,  2.57762183],\n",
       "       [ 2.11468886,  0.59645219],\n",
       "       [ 0.10896672, -0.29255919],\n",
       "       [ 0.45308958,  1.41415921],\n",
       "       [ 0.85280069,  1.09521156],\n",
       "       [ 1.39222048, -2.03532987],\n",
       "       [ 0.01394301,  1.05973286],\n",
       "       [ 2.62956361, -2.29115454],\n",
       "       [ 1.21405523, -1.74874149],\n",
       "       [-1.04384932, -0.62291504],\n",
       "       [ 1.66722743,  0.73088964],\n",
       "       [-2.12158749, -0.02699681],\n",
       "       [-0.22490887,  1.54869555],\n",
       "       [-1.49367043,  1.32906744],\n",
       "       [-0.39828747, -0.0151061 ],\n",
       "       [ 0.51210739, -0.31009073],\n",
       "       [-0.64790934,  0.85622012],\n",
       "       [-0.17029208, -0.42304235],\n",
       "       [-1.00378606, -1.157625  ],\n",
       "       [ 2.221432  , -2.06271904],\n",
       "       [-1.89194243,  1.46430319],\n",
       "       [ 1.86300854,  0.67576851],\n",
       "       [-1.53736812,  0.18682477],\n",
       "       [-1.29655803, -1.46071097],\n",
       "       [-1.1224978 , -0.693575  ],\n",
       "       [ 0.76979291,  0.70365507],\n",
       "       [ 1.55429006,  0.8382132 ],\n",
       "       [-0.72513215,  0.10641717],\n",
       "       [-0.15729658,  0.14836862],\n",
       "       [ 2.6066961 ,  1.14108086],\n",
       "       [ 1.08440301, -1.77161935],\n",
       "       [-1.44936498, -1.78051151],\n",
       "       [ 1.95512789, -1.97000153],\n",
       "       [ 2.14553252,  0.66343709],\n",
       "       [ 2.04680783,  1.12304517],\n",
       "       [-0.59797141,  1.03499723],\n",
       "       [-1.44123374, -1.39891613],\n",
       "       [-1.95885237, -1.88198623],\n",
       "       [-0.66141922,  0.533344  ],\n",
       "       [-1.64503802, -1.29897353],\n",
       "       [-1.67313196, -1.40918176],\n",
       "       [-1.29369171,  1.57015747],\n",
       "       [-1.05713392,  1.19611554],\n",
       "       [-1.47936671, -1.38305593],\n",
       "       [ 2.06589219, -2.60419929],\n",
       "       [-0.20114881,  0.98312492],\n",
       "       [-1.35384298, -1.7944116 ],\n",
       "       [-1.02763645,  1.55899197],\n",
       "       [-1.7693672 , -1.76716359],\n",
       "       [ 0.55423678, -0.86495138],\n",
       "       [ 0.32795246,  0.88394916],\n",
       "       [ 0.20587153, -0.42563848],\n",
       "       [-0.98175398,  1.00121254],\n",
       "       [-1.47434542, -1.6034169 ],\n",
       "       [ 1.4657714 , -1.57468367],\n",
       "       [-1.32349506, -1.98075632],\n",
       "       [ 2.03572077,  0.7796819 ],\n",
       "       [-1.43109838, -1.89112775],\n",
       "       [ 1.42940529, -1.93816839],\n",
       "       [ 0.9642296 ,  0.95714076],\n",
       "       [ 1.64724743, -1.1108332 ],\n",
       "       [ 1.86830812, -2.39057769],\n",
       "       [-1.0973059 , -0.77066799],\n",
       "       [ 0.59962432, -1.05112945],\n",
       "       [-1.66755187,  1.5889892 ],\n",
       "       [-0.93857418,  0.8765546 ],\n",
       "       [ 3.05263941,  0.48532447],\n",
       "       [-0.11318385,  1.62928332],\n",
       "       [-1.10523696, -1.0902436 ],\n",
       "       [-0.53072879,  1.43783611],\n",
       "       [-0.25092775, -1.05386225],\n",
       "       [-1.59477978, -1.31954199],\n",
       "       [-0.36531984,  1.74739894],\n",
       "       [-0.55245493,  0.70350815],\n",
       "       [-0.34888559,  1.24179129],\n",
       "       [ 0.10903235,  1.80033292],\n",
       "       [ 2.57471227, -2.70941064],\n",
       "       [ 1.11953042, -0.86065878],\n",
       "       [ 0.19587611,  0.14380906],\n",
       "       [-0.01719062,  0.51368656],\n",
       "       [ 3.1262283 ,  0.53017785],\n",
       "       [ 0.12599748,  0.4166585 ],\n",
       "       [ 0.19297572,  0.3234995 ],\n",
       "       [ 1.11348463, -1.1646948 ],\n",
       "       [-0.32052828, -0.29569111],\n",
       "       [-0.06851831,  1.02239369],\n",
       "       [-0.59980696,  0.08997861],\n",
       "       [ 2.24102617, -1.82979855],\n",
       "       [ 0.87641922,  0.67275114],\n",
       "       [-0.95323839,  0.14605533],\n",
       "       [-0.77908748,  0.89592526],\n",
       "       [ 1.43356988, -2.04582687],\n",
       "       [ 1.57819648,  1.08627959],\n",
       "       [-0.61657599,  0.47610294],\n",
       "       [ 0.89143699,  0.16012711],\n",
       "       [-2.79685813, -2.7609471 ],\n",
       "       [ 1.72580543,  0.63914025],\n",
       "       [ 1.34184934,  0.87596456],\n",
       "       [-0.71721375,  1.54113044],\n",
       "       [-0.90306712, -0.93691247],\n",
       "       [ 1.59127779, -1.71332101],\n",
       "       [-1.61250351, -2.38473903],\n",
       "       [ 0.44761754, -0.08718238],\n",
       "       [ 1.21104444,  1.269382  ],\n",
       "       [ 1.57763768, -1.24649519],\n",
       "       [-0.3350409 ,  0.25145398],\n",
       "       [ 0.58068077, -0.56490334],\n",
       "       [ 0.34020524,  0.83103034],\n",
       "       [ 3.09341696,  0.2642797 ],\n",
       "       [-1.79351692, -1.86479033],\n",
       "       [ 0.49110639, -1.0027839 ],\n",
       "       [ 0.14991877, -0.44137887],\n",
       "       [-1.35870689, -1.71049795],\n",
       "       [-0.25118495,  1.49557229],\n",
       "       [ 0.22324575,  0.77860378],\n",
       "       [ 1.56502072, -0.87500641],\n",
       "       [-0.9540373 , -1.35965203],\n",
       "       [-0.85185205, -1.06521096],\n",
       "       [-0.45131031,  1.89714222],\n",
       "       [ 0.86046927,  1.02079008],\n",
       "       [ 0.32221549,  1.20790313],\n",
       "       [-1.05380328,  1.26847073],\n",
       "       [-0.52331309, -0.31047354],\n",
       "       [ 1.68009182,  0.80468018],\n",
       "       [ 0.73813567, -1.33535126],\n",
       "       [-0.43924932,  0.24598937],\n",
       "       [-1.16229538, -1.09221896],\n",
       "       [-1.86908461,  2.13865844],\n",
       "       [ 0.45425555, -0.11700118],\n",
       "       [-0.63093789, -0.7580824 ],\n",
       "       [ 1.64565525,  1.10814454],\n",
       "       [-1.52019744,  1.88935469],\n",
       "       [-1.77735457,  1.42253746],\n",
       "       [-0.42923866,  1.77551221],\n",
       "       [ 2.0526639 , -2.25321229],\n",
       "       [ 1.02235834,  0.65244611],\n",
       "       [-0.10486048,  1.23513447],\n",
       "       [-0.62240616,  1.00136601],\n",
       "       [ 1.21521437,  0.86936293],\n",
       "       [ 2.29634859, -2.39761689],\n",
       "       [-1.30973892,  3.28577938],\n",
       "       [-2.37394415,  1.25410807],\n",
       "       [-1.54577235, -1.37087715],\n",
       "       [-0.98756442, -0.99015723],\n",
       "       [ 1.68440381,  1.01504855],\n",
       "       [-1.00064121,  0.56301586],\n",
       "       [-0.43991967,  1.1748131 ],\n",
       "       [-0.94815092, -0.35376304],\n",
       "       [-1.78874409, -1.69821849],\n",
       "       [ 1.46754965,  0.56223431],\n",
       "       [-0.04459203, -0.41424355],\n",
       "       [-0.50791017,  0.22758726],\n",
       "       [ 0.60941276,  0.45721864],\n",
       "       [ 1.93142378, -3.16264181],\n",
       "       [ 0.8468609 , -0.9108242 ],\n",
       "       [ 0.30653089,  0.88629641],\n",
       "       [-0.84143682, -0.70036111],\n",
       "       [-0.49555122,  1.46719015],\n",
       "       [-0.14295929, -0.35580956],\n",
       "       [ 1.65866073, -1.45381725],\n",
       "       [-1.18731526, -1.30460225],\n",
       "       [ 0.24823151, -0.23567872],\n",
       "       [-0.11009426,  2.87737153],\n",
       "       [-0.24679167,  0.93046398],\n",
       "       [ 0.71183174,  1.24238792],\n",
       "       [-2.06870981, -1.45488984],\n",
       "       [ 0.53534805, -0.75002518],\n",
       "       [-0.90104204, -0.91356236],\n",
       "       [-1.84575591, -0.20606604],\n",
       "       [-1.84589038, -1.6936143 ],\n",
       "       [-0.18342047,  1.89191167],\n",
       "       [-1.30386008, -0.90885114],\n",
       "       [ 2.14935326,  0.62130743],\n",
       "       [-2.26405466, -2.52118855],\n",
       "       [-0.15349345,  1.59897426],\n",
       "       [-0.14983265, -0.97170764],\n",
       "       [-1.3537839 ,  1.79507952],\n",
       "       [ 1.15186738, -1.83974897],\n",
       "       [ 1.10669371,  1.44441411],\n",
       "       [ 0.36531158, -0.44099545],\n",
       "       [ 0.71767735,  1.25413201],\n",
       "       [ 0.54533707, -0.88368928],\n",
       "       [-0.11900145, -0.17575457],\n",
       "       [-1.25511172, -0.76716497],\n",
       "       [-1.5935941 ,  1.17055602],\n",
       "       [-2.92621815, -3.14103539],\n",
       "       [ 1.89221622,  0.5111409 ],\n",
       "       [ 1.52461467,  0.60447861],\n",
       "       [-1.20976826,  1.07129884],\n",
       "       [-0.86589214, -0.85290614],\n",
       "       [-0.47085848,  1.56742841],\n",
       "       [ 2.79251315, -2.67808256],\n",
       "       [-1.01956716, -1.35728009],\n",
       "       [-1.97053873, -0.07459159],\n",
       "       [-1.66950425,  0.62822426],\n",
       "       [-0.59427183,  0.71018956],\n",
       "       [-1.80795406,  0.93476523],\n",
       "       [-0.86679403,  0.40879986],\n",
       "       [ 0.57872905,  2.29109026],\n",
       "       [ 1.08430732,  0.69589135],\n",
       "       [-1.37175835,  0.9899953 ],\n",
       "       [-1.60066414,  0.23517727],\n",
       "       [-1.18570194,  1.65243974],\n",
       "       [ 2.56178835, -2.86548594],\n",
       "       [ 0.50990245,  0.55529506],\n",
       "       [-0.61513726,  0.23561016],\n",
       "       [ 0.30438842, -0.90131413],\n",
       "       [-0.90877396, -1.15088896],\n",
       "       [-0.13602035,  0.28030218],\n",
       "       [-1.65977144,  2.12790663],\n",
       "       [ 2.3588664 ,  0.69923238],\n",
       "       [ 2.51494606, -2.83592386],\n",
       "       [ 1.71199761,  0.98097583],\n",
       "       [-2.2628026 , -2.66104948],\n",
       "       [-0.92715746, -1.33398219],\n",
       "       [ 0.67534798,  0.88888182],\n",
       "       [ 0.28383535, -0.16587256],\n",
       "       [ 1.31721259,  0.97776228],\n",
       "       [-0.50022607,  1.7028164 ],\n",
       "       [-1.53058908,  1.14015734],\n",
       "       [ 1.16565114, -0.82755975],\n",
       "       [-0.40206007, -0.33637659],\n",
       "       [-1.53211381, -1.85909278],\n",
       "       [-0.37028987, -0.25180128],\n",
       "       [-1.63489877,  1.01330365],\n",
       "       [ 0.6793999 ,  1.24150912],\n",
       "       [-2.36474978,  0.59724994],\n",
       "       [-1.05890809, -0.65807229],\n",
       "       [-1.43258774, -1.68421317],\n",
       "       [-0.92319899,  1.60269444],\n",
       "       [-2.13888065,  1.37180476],\n",
       "       [ 0.65716313,  1.12303796],\n",
       "       [ 2.08810121,  0.57072003],\n",
       "       [ 1.11153846,  1.33646538],\n",
       "       [-1.88752154,  0.68047916],\n",
       "       [ 0.11467765, -0.27183048],\n",
       "       [ 0.44738385,  1.27412691],\n",
       "       [-2.69935112,  3.02191475],\n",
       "       [-1.48665984, -1.09032811],\n",
       "       [ 3.75901431, -3.54087244]])"
      ]
     },
     "execution_count": 89,
     "metadata": {},
     "output_type": "execute_result"
    }
   ],
   "source": [
    "# data[0] is the features\n",
    "data[0]\n",
    "# data[1] is the labels"
   ]
  },
  {
   "cell_type": "code",
   "execution_count": 90,
   "metadata": {},
   "outputs": [
    {
     "data": {
      "text/plain": [
       "1"
      ]
     },
     "execution_count": 90,
     "metadata": {},
     "output_type": "execute_result"
    }
   ],
   "source": [
    "data[1][0]"
   ]
  },
  {
   "cell_type": "code",
   "execution_count": 91,
   "metadata": {},
   "outputs": [
    {
     "data": {
      "text/plain": [
       "array([1, 0, 1, 0, 0, 0, 0, 1, 0, 0, 0, 1, 0, 1, 0, 1, 1, 0, 1, 0, 0, 0,\n",
       "       1, 1, 1, 1, 1, 1, 0, 1, 0, 0, 1, 0, 0, 0, 1, 1, 0, 0, 0, 0, 0, 0,\n",
       "       1, 0, 0, 1, 0, 0, 1, 1, 1, 1, 1, 1, 1, 0, 1, 1, 0, 0, 0, 1, 1, 0,\n",
       "       0, 0, 0, 1, 0, 1, 1, 0, 1, 1, 1, 1, 1, 0, 0, 1, 0, 0, 1, 0, 1, 0,\n",
       "       1, 0, 0, 0, 0, 0, 1, 1, 1, 1, 1, 1, 1, 0, 1, 1, 1, 0, 1, 0, 0, 0,\n",
       "       1, 0, 1, 1, 0, 1, 0, 1, 1, 1, 0, 1, 0, 0, 0, 1, 0, 1, 1, 0, 1, 1,\n",
       "       1, 1, 0, 0, 0, 1, 0, 0, 1, 0, 0, 0, 0, 1, 0, 0, 1, 1, 0, 1, 1, 0,\n",
       "       1, 0, 0, 1, 1, 0, 0, 0, 0, 0, 0, 0, 0, 1, 1, 0, 1, 0, 0, 0, 0, 0,\n",
       "       0, 0, 1, 1, 0, 1, 0, 1, 1, 0, 1, 1, 0, 0, 0, 0, 1, 0, 0, 0, 0, 1,\n",
       "       0, 1, 0, 1, 0, 1, 0, 1, 0, 0, 0, 1, 0, 0, 0, 1, 1, 1, 0, 0, 0, 0,\n",
       "       0, 1, 1, 1, 1, 1, 0, 1, 1, 0, 1, 1, 1, 1, 1, 0, 0, 0, 0, 1, 0, 1,\n",
       "       0, 1, 0, 1, 0, 0, 0, 1, 1, 0, 1, 1, 0, 1, 1, 1, 0, 1, 1, 1, 0, 1,\n",
       "       1, 0, 1, 0, 0, 0, 1, 1, 1, 1, 0, 0, 1, 0, 0, 0, 0, 1, 1, 0, 0, 1,\n",
       "       1, 1, 1, 1, 0, 0, 0, 1, 1, 1, 0, 0, 1, 0, 0, 1, 1, 0, 0, 1, 0, 1,\n",
       "       0, 0, 1, 0, 1, 0, 0, 0, 1, 0, 0, 1, 0, 0, 0, 0, 0, 1, 1, 1, 0, 1,\n",
       "       0, 0, 1, 1, 1, 1, 0, 0, 1, 1, 1, 1, 1, 0, 0, 1, 0, 0, 1, 1, 1, 0,\n",
       "       1, 1, 0, 0, 1, 1, 1, 0, 0, 0, 0, 1, 0, 0, 0, 1, 1, 0, 0, 0, 0, 1,\n",
       "       1, 0, 0, 0, 1, 1, 1, 1, 1, 1, 0, 0, 0, 1, 0, 0, 1, 1, 1, 1, 0, 1,\n",
       "       1, 1, 1, 0, 1, 1, 0, 0, 1, 1, 1, 0, 0, 1, 0, 1, 0, 0, 0, 1, 0, 1,\n",
       "       0, 0, 0, 0, 1, 1, 1, 0, 0, 0, 1, 0, 1, 0, 1, 0, 1, 0, 1, 0, 1, 0,\n",
       "       1, 0, 0, 0, 1, 0, 1, 1, 1, 0, 1, 0, 0, 1, 1, 1, 1, 1, 1, 1, 1, 1,\n",
       "       1, 0, 1, 1, 1, 0, 0, 1, 1, 0, 1, 0, 0, 1, 1, 1, 1, 1, 0, 0, 0, 0,\n",
       "       1, 1, 1, 1, 0, 1, 1, 1, 1, 1, 1, 0, 1, 1, 0, 0])"
      ]
     },
     "execution_count": 91,
     "metadata": {},
     "output_type": "execute_result"
    }
   ],
   "source": [
    "data[1]"
   ]
  },
  {
   "cell_type": "code",
   "execution_count": 92,
   "metadata": {},
   "outputs": [
    {
     "data": {
      "text/html": [
       "<div>\n",
       "<style scoped>\n",
       "    .dataframe tbody tr th:only-of-type {\n",
       "        vertical-align: middle;\n",
       "    }\n",
       "\n",
       "    .dataframe tbody tr th {\n",
       "        vertical-align: top;\n",
       "    }\n",
       "\n",
       "    .dataframe thead th {\n",
       "        text-align: right;\n",
       "    }\n",
       "</style>\n",
       "<table border=\"1\" class=\"dataframe\">\n",
       "  <thead>\n",
       "    <tr style=\"text-align: right;\">\n",
       "      <th></th>\n",
       "      <th>feature_1</th>\n",
       "      <th>feature_2</th>\n",
       "      <th>target</th>\n",
       "    </tr>\n",
       "  </thead>\n",
       "  <tbody>\n",
       "    <tr>\n",
       "      <th>0</th>\n",
       "      <td>2.760254</td>\n",
       "      <td>0.149722</td>\n",
       "      <td>1</td>\n",
       "    </tr>\n",
       "    <tr>\n",
       "      <th>1</th>\n",
       "      <td>0.041780</td>\n",
       "      <td>0.390372</td>\n",
       "      <td>0</td>\n",
       "    </tr>\n",
       "    <tr>\n",
       "      <th>2</th>\n",
       "      <td>-0.581986</td>\n",
       "      <td>0.905123</td>\n",
       "      <td>1</td>\n",
       "    </tr>\n",
       "    <tr>\n",
       "      <th>3</th>\n",
       "      <td>0.314806</td>\n",
       "      <td>-0.842869</td>\n",
       "      <td>0</td>\n",
       "    </tr>\n",
       "    <tr>\n",
       "      <th>4</th>\n",
       "      <td>2.653531</td>\n",
       "      <td>-3.118020</td>\n",
       "      <td>0</td>\n",
       "    </tr>\n",
       "  </tbody>\n",
       "</table>\n",
       "</div>"
      ],
      "text/plain": [
       "   feature_1  feature_2  target\n",
       "0   2.760254   0.149722       1\n",
       "1   0.041780   0.390372       0\n",
       "2  -0.581986   0.905123       1\n",
       "3   0.314806  -0.842869       0\n",
       "4   2.653531  -3.118020       0"
      ]
     },
     "execution_count": 92,
     "metadata": {},
     "output_type": "execute_result"
    }
   ],
   "source": [
    "#Convert to pandas data frame\n",
    "\n",
    "df = pd.DataFrame(data[0], columns=['feature_1', 'feature_2'])\n",
    "\n",
    "#Add target variable to df \n",
    "df['target']=data[1]\n",
    "\n",
    "df.head()"
   ]
  },
  {
   "cell_type": "code",
   "execution_count": null,
   "metadata": {},
   "outputs": [],
   "source": []
  },
  {
   "cell_type": "markdown",
   "metadata": {},
   "source": [
    "Let's plot data with its color-encoded labels. Try to imagine how a decision tree would classify this data. Remember decision trees boundaries are vertical or horizontal."
   ]
  },
  {
   "cell_type": "code",
   "execution_count": 93,
   "metadata": {},
   "outputs": [
    {
     "data": {
      "text/plain": [
       "<matplotlib.axes._subplots.AxesSubplot at 0x1a17a27da0>"
      ]
     },
     "execution_count": 93,
     "metadata": {},
     "output_type": "execute_result"
    },
    {
     "data": {
      "image/png": "[encoded data removed]",
      "text/plain": [
       "<matplotlib.figure.Figure at 0x1a17a3bef0>"
      ]
     },
     "metadata": {},
     "output_type": "display_data"
    }
   ],
   "source": [
    "#Call scatter plot of feature1 vs feature2 with color-encoded target variable\n",
    "\n",
    "plt.style.use(\"fivethirtyeight\")\n",
    "\n",
    "#Color encode target variable\n",
    "cmap = {0:\"r\",1:\"b\"}\n",
    "colors =df.target.map(cmap)\n",
    "df.plot.scatter('feature_1', 'feature_2', c=colors, figsize=(11,8), alpha=0.5, s=100)\n",
    "\n"
   ]
  },
  {
   "cell_type": "code",
   "execution_count": null,
   "metadata": {},
   "outputs": [],
   "source": []
  },
  {
   "cell_type": "markdown",
   "metadata": {},
   "source": [
    "Start thinking about how a model would classify red vs blue."
   ]
  },
  {
   "cell_type": "code",
   "execution_count": null,
   "metadata": {},
   "outputs": [],
   "source": []
  },
  {
   "cell_type": "markdown",
   "metadata": {},
   "source": [
    "Time to see what the model says.\n",
    "<br><br>\n",
    "We are going to use the data to <b>train</b> or <b>fit</b> the model. The empty model \"learns\" from the data."
   ]
  },
  {
   "cell_type": "code",
   "execution_count": 97,
   "metadata": {},
   "outputs": [
    {
     "data": {
      "text/plain": [
       "DecisionTreeClassifier(class_weight=None, criterion='gini', max_depth=2,\n",
       "            max_features=None, max_leaf_nodes=None,\n",
       "            min_impurity_decrease=0.0, min_impurity_split=None,\n",
       "            min_samples_leaf=1, min_samples_split=2,\n",
       "            min_weight_fraction_leaf=0.0, presort=False, random_state=None,\n",
       "            splitter='best')"
      ]
     },
     "execution_count": 97,
     "metadata": {},
     "output_type": "execute_result"
    }
   ],
   "source": [
    "#Assign features to variable X\n",
    "X = data[0]\n",
    "#Assign target column to variable y\n",
    "y = data[1]\n",
    "\n",
    "#Fit a Decision Tree model with 2 depth on the data.\n",
    "\n",
    "#1. Intialize the model, set max_depth = 2\n",
    "# model = DecisionTreeClassifier(max_depth=2)\n",
    "model = DecisionTreeClassifier(max_depth=2)\n",
    "\n",
    "#2. Fit/train the model. \n",
    "model.fit(X,y)\n",
    "\n",
    "#The model specifications \n",
    "model"
   ]
  },
  {
   "cell_type": "markdown",
   "metadata": {},
   "source": [
    "Prediction time."
   ]
  },
  {
   "cell_type": "code",
   "execution_count": 99,
   "metadata": {},
   "outputs": [],
   "source": [
    "point = [[0, 0]]"
   ]
  },
  {
   "cell_type": "code",
   "execution_count": 107,
   "metadata": {},
   "outputs": [
    {
     "data": {
      "text/plain": [
       "array([0])"
      ]
     },
     "execution_count": 107,
     "metadata": {},
     "output_type": "execute_result"
    }
   ],
   "source": [
    "#Call predict on model and pass point vari\n",
    "model.predict(point)"
   ]
  },
  {
   "cell_type": "code",
   "execution_count": 108,
   "metadata": {},
   "outputs": [
    {
     "data": {
      "text/plain": [
       "array([0])"
      ]
     },
     "execution_count": 108,
     "metadata": {},
     "output_type": "execute_result"
    }
   ],
   "source": [
    "model.predict(point, check_input=True)"
   ]
  },
  {
   "cell_type": "code",
   "execution_count": 109,
   "metadata": {},
   "outputs": [],
   "source": [
    "# data[1][0]"
   ]
  },
  {
   "cell_type": "markdown",
   "metadata": {},
   "source": [
    "What if you want the probabilities of each class?"
   ]
  },
  {
   "cell_type": "code",
   "execution_count": 110,
   "metadata": {},
   "outputs": [
    {
     "data": {
      "text/plain": [
       "array([[0.71830986, 0.28169014]])"
      ]
     },
     "execution_count": 110,
     "metadata": {},
     "output_type": "execute_result"
    }
   ],
   "source": [
    "#Call predict_proba()\n",
    "\n",
    "model.predict_proba(point)"
   ]
  },
  {
   "cell_type": "markdown",
   "metadata": {},
   "source": [
    "How strong is the prediction for each class?"
   ]
  },
  {
   "cell_type": "code",
   "execution_count": null,
   "metadata": {},
   "outputs": [],
   "source": []
  },
  {
   "cell_type": "markdown",
   "metadata": {},
   "source": [
    "Check how good our model by scoring the predictions"
   ]
  },
  {
   "cell_type": "code",
   "execution_count": 113,
   "metadata": {},
   "outputs": [
    {
     "data": {
      "text/plain": [
       "0.902"
      ]
     },
     "execution_count": 113,
     "metadata": {},
     "output_type": "execute_result"
    }
   ],
   "source": [
    "#Call .score() on model object and pass in the features and labels\n",
    "model.score(X,y)"
   ]
  },
  {
   "cell_type": "markdown",
   "metadata": {},
   "source": [
    "This is what's known as the accuracy score or the percentage of prediction we got correct."
   ]
  },
  {
   "cell_type": "code",
   "execution_count": 114,
   "metadata": {},
   "outputs": [
    {
     "data": {
      "text/plain": [
       "0.902"
      ]
     },
     "execution_count": 114,
     "metadata": {},
     "output_type": "execute_result"
    }
   ],
   "source": [
    "#Another way to do this\n",
    "\n",
    "#Make predictions on the features\n",
    "predy = model.predict(X)\n",
    "\n",
    "#Sum up all the rows that match and divide by total number of rows\n",
    "sum(predy==y)/len(y)"
   ]
  },
  {
   "cell_type": "code",
   "execution_count": 116,
   "metadata": {},
   "outputs": [
    {
     "data": {
      "text/plain": [
       "0.902"
      ]
     },
     "execution_count": 116,
     "metadata": {},
     "output_type": "execute_result"
    }
   ],
   "source": [
    "#Using sklearn accuracy score function\n",
    "\n",
    "from sklearn.metrics import accuracy_score\n",
    "\n",
    "accuracy_score(y, predy)"
   ]
  },
  {
   "cell_type": "markdown",
   "metadata": {},
   "source": [
    "Now we're going to use a plotting function to visualize the model.\n",
    "\n",
    "What do you think that means?"
   ]
  },
  {
   "cell_type": "code",
   "execution_count": null,
   "metadata": {},
   "outputs": [],
   "source": []
  },
  {
   "cell_type": "code",
   "execution_count": null,
   "metadata": {},
   "outputs": [],
   "source": [
    "#Retrain model but this time with depth 3\n",
    "model = DecisionTreeClassifier(max_depth=3)\n",
    "model.fit(X, y)"
   ]
  },
  {
   "cell_type": "code",
   "execution_count": 150,
   "metadata": {},
   "outputs": [],
   "source": [
    "# X_max = X.max(axis=0)\n",
    "# X_min = X.min(axis=0)\n",
    "# xticks = np.linspace(X_min[0], X_max[0], 100)\n",
    "# yticks = np.linspace(X_min[1], X_max[1], 100)\n",
    "\n",
    "# xx, yy = np.meshgrid(xticks, yticks)\n",
    "# ZZ = model.predict(np.c_[xx.ravel(), yy.ravel()])\n",
    "# Z = ZZ >= 0.5\n",
    "# Z = Z.reshape(xx.shape)\n",
    "# plt.rcParams[\"figure.figsize\"] = (10,7)\n",
    "# fig, ax = plt.subplots()\n",
    "# ax = plt.gca()\n",
    "# ax.contourf(xx, yy, Z, cmap=plt.cm.bwr, alpha=0.2)\n",
    "# ax.scatter(X[:,0], X[:,1], c=y, alpha=0.4, s = 50)"
   ]
  },
  {
   "cell_type": "code",
   "execution_count": 151,
   "metadata": {},
   "outputs": [],
   "source": [
    "def plot_decision_boundary(model, X, y):\n",
    "    X_max = X.max(axis=0)\n",
    "    X_min = X.min(axis=0)\n",
    "    xticks = np.linspace(X_min[0], X_max[0], 100)\n",
    "    yticks = np.linspace(X_min[1], X_max[1], 100)\n",
    "    xx, yy = np.meshgrid(xticks, yticks)\n",
    "    ZZ = model.predict(np.c_[xx.ravel(), yy.ravel()])\n",
    "    Z = ZZ >= 0.5\n",
    "    Z = Z.reshape(xx.shape)\n",
    "    plt.rcParams[\"figure.figsize\"] = (10,7)\n",
    "    fig, ax = plt.subplots()\n",
    "    ax = plt.gca()\n",
    "    ax.contourf(xx, yy, Z, cmap=plt.cm.bwr, alpha=0.2)\n",
    "    ax.scatter(X[:,0], X[:,1], c=y, alpha=0.4, s = 50)"
   ]
  },
  {
   "cell_type": "code",
   "execution_count": 154,
   "metadata": {},
   "outputs": [
    {
     "data": {
      "image/png": "[encoded data removed]",
      "text/plain": [
       "<matplotlib.figure.Figure at 0x1a19e45cf8>"
      ]
     },
     "metadata": {},
     "output_type": "display_data"
    }
   ],
   "source": [
    "#Pass in model and data into function.\n",
    "#Input a pretrained model, then features, then color-encoded target variables\n",
    "X = df.drop('target', axis=1)\n",
    "plot_decision_boundary(model, X.values, colors);"
   ]
  },
  {
   "cell_type": "code",
   "execution_count": null,
   "metadata": {},
   "outputs": [],
   "source": []
  },
  {
   "cell_type": "markdown",
   "metadata": {},
   "source": [
    "Voila! These are the decision boundaries of decision tree model."
   ]
  },
  {
   "cell_type": "code",
   "execution_count": null,
   "metadata": {},
   "outputs": [],
   "source": []
  },
  {
   "cell_type": "markdown",
   "metadata": {},
   "source": [
    "More examples of decision tree boundaries"
   ]
  },
  {
   "cell_type": "code",
   "execution_count": null,
   "metadata": {},
   "outputs": [],
   "source": []
  },
  {
   "cell_type": "markdown",
   "metadata": {},
   "source": [
    "Four blobs \n",
    "\n",
    "![Example1](https://image.ibb.co/m9EjYG/decisionblobs.png)\n",
    "\n",
    "\n",
    "\n",
    "Credit: [Jake VanderPlas](https://jakevdp.github.io/PythonDataScienceHandbook/)"
   ]
  },
  {
   "cell_type": "code",
   "execution_count": null,
   "metadata": {},
   "outputs": [],
   "source": []
  },
  {
   "cell_type": "markdown",
   "metadata": {},
   "source": [
    "Observe how different decision tree models with varying depth values interpret the data."
   ]
  },
  {
   "cell_type": "markdown",
   "metadata": {},
   "source": [
    "![Blobs](https://image.ibb.co/hRE7nb/decisionblobboundaries.png)\n",
    "Credit: Jake VanderPlas"
   ]
  },
  {
   "cell_type": "code",
   "execution_count": null,
   "metadata": {},
   "outputs": [],
   "source": []
  },
  {
   "cell_type": "markdown",
   "metadata": {},
   "source": [
    "### Back to Iris dataset/tree visualization\n",
    "\n",
    "<br><br>\n",
    "We're going to train a decision tree model on the iris dataset and then use visualize the actual decision tree."
   ]
  },
  {
   "cell_type": "code",
   "execution_count": 162,
   "metadata": {},
   "outputs": [],
   "source": [
    "#Assign iris features to X and species to y\n",
    "\n",
    "X = iris.drop(\"species\", axis=1)\n",
    "y = iris.species"
   ]
  },
  {
   "cell_type": "code",
   "execution_count": 166,
   "metadata": {},
   "outputs": [
    {
     "data": {
      "text/plain": [
       "(150, 4)"
      ]
     },
     "execution_count": 166,
     "metadata": {},
     "output_type": "execute_result"
    }
   ],
   "source": [
    "X.shape"
   ]
  },
  {
   "cell_type": "code",
   "execution_count": 167,
   "metadata": {},
   "outputs": [
    {
     "data": {
      "text/plain": [
       "(150,)"
      ]
     },
     "execution_count": 167,
     "metadata": {},
     "output_type": "execute_result"
    }
   ],
   "source": [
    "y.shape"
   ]
  },
  {
   "cell_type": "code",
   "execution_count": 183,
   "metadata": {},
   "outputs": [
    {
     "data": {
      "text/plain": [
       "DecisionTreeClassifier(class_weight=None, criterion='gini', max_depth=3,\n",
       "            max_features=None, max_leaf_nodes=None,\n",
       "            min_impurity_decrease=0.0, min_impurity_split=None,\n",
       "            min_samples_leaf=1, min_samples_split=2,\n",
       "            min_weight_fraction_leaf=0.0, presort=False, random_state=None,\n",
       "            splitter='best')"
      ]
     },
     "execution_count": 183,
     "metadata": {},
     "output_type": "execute_result"
    }
   ],
   "source": [
    "#Fit decision tree model on iris data with max depth set to 3\n",
    "\n",
    "iris_model = DecisionTreeClassifier(max_depth=3)\n",
    "iris_model.fit(X,y)\n",
    "\n",
    "iris_model\n"
   ]
  },
  {
   "cell_type": "code",
   "execution_count": 184,
   "metadata": {},
   "outputs": [
    {
     "data": {
      "text/plain": [
       "0.9733333333333334"
      ]
     },
     "execution_count": 184,
     "metadata": {},
     "output_type": "execute_result"
    }
   ],
   "source": [
    "#Score the model.\n",
    "\n",
    "iris_model.score(X,y)"
   ]
  },
  {
   "cell_type": "markdown",
   "metadata": {},
   "source": [
    "Pretty good right? A little bit better than our hand-coded model"
   ]
  },
  {
   "cell_type": "code",
   "execution_count": null,
   "metadata": {},
   "outputs": [],
   "source": []
  },
  {
   "cell_type": "markdown",
   "metadata": {},
   "source": [
    "Visualize the decision trees using graphviz"
   ]
  },
  {
   "cell_type": "code",
   "execution_count": 185,
   "metadata": {},
   "outputs": [
    {
     "data": {
      "image/svg+xml": [
       "<?xml version=\"1.0\" encoding=\"UTF-8\" standalone=\"no\"?>\n",
       "<!DOCTYPE svg PUBLIC \"-//W3C//DTD SVG 1.1//EN\"\n",
       " \"http://www.w3.org/Graphics/SVG/1.1/DTD/svg11.dtd\">\n",
       "<!-- Generated by graphviz version 2.40.1 (20161225.0304)\n",
       " -->\n",
       "<!-- Title: Tree Pages: 1 -->\n",
       "<svg width=\"516pt\" height=\"467pt\"\n",
       " viewBox=\"0.00 0.00 516.31 467.20\" xmlns=\"http://www.w3.org/2000/svg\" xmlns:xlink=\"http://www.w3.org/1999/xlink\">\n",
       "<g id=\"graph0\" class=\"graph\" transform=\"scale(1 1) rotate(0) translate(4 463.2)\">\n",
       "<title>Tree</title>\n",
       "<polygon fill=\"#ffffff\" stroke=\"transparent\" points=\"-4,4 -4,-463.2 512.3077,-463.2 512.3077,4 -4,4\"/>\n",
       "<!-- 0 -->\n",
       "<g id=\"node1\" class=\"node\">\n",
       "<title>0</title>\n",
       "<polygon fill=\"none\" stroke=\"#000000\" points=\"248.0763,-459.2 122.0035,-459.2 122.0035,-367.2 248.0763,-367.2 248.0763,-459.2\"/>\n",
       "<text text-anchor=\"middle\" x=\"185.0399\" y=\"-442.6\" font-family=\"Times,serif\" font-size=\"14.00\" fill=\"#000000\">petal_width &lt;= 0.8</text>\n",
       "<text text-anchor=\"middle\" x=\"185.0399\" y=\"-425.8\" font-family=\"Times,serif\" font-size=\"14.00\" fill=\"#000000\">gini = 0.667</text>\n",
       "<text text-anchor=\"middle\" x=\"185.0399\" y=\"-409\" font-family=\"Times,serif\" font-size=\"14.00\" fill=\"#000000\">samples = 150</text>\n",
       "<text text-anchor=\"middle\" x=\"185.0399\" y=\"-392.2\" font-family=\"Times,serif\" font-size=\"14.00\" fill=\"#000000\">value = [50, 50, 50]</text>\n",
       "<text text-anchor=\"middle\" x=\"185.0399\" y=\"-375.4\" font-family=\"Times,serif\" font-size=\"14.00\" fill=\"#000000\">class = setosa</text>\n",
       "</g>\n",
       "<!-- 1 -->\n",
       "<g id=\"node2\" class=\"node\">\n",
       "<title>1</title>\n",
       "<polygon fill=\"none\" stroke=\"#000000\" points=\"172.0765,-322.9003 60.0033,-322.9003 60.0033,-247.4997 172.0765,-247.4997 172.0765,-322.9003\"/>\n",
       "<text text-anchor=\"middle\" x=\"116.0399\" y=\"-306.2\" font-family=\"Times,serif\" font-size=\"14.00\" fill=\"#000000\">gini = 0.0</text>\n",
       "<text text-anchor=\"middle\" x=\"116.0399\" y=\"-289.4\" font-family=\"Times,serif\" font-size=\"14.00\" fill=\"#000000\">samples = 50</text>\n",
       "<text text-anchor=\"middle\" x=\"116.0399\" y=\"-272.6\" font-family=\"Times,serif\" font-size=\"14.00\" fill=\"#000000\">value = [50, 0, 0]</text>\n",
       "<text text-anchor=\"middle\" x=\"116.0399\" y=\"-255.8\" font-family=\"Times,serif\" font-size=\"14.00\" fill=\"#000000\">class = setosa</text>\n",
       "</g>\n",
       "<!-- 0&#45;&gt;1 -->\n",
       "<g id=\"edge1\" class=\"edge\">\n",
       "<title>0&#45;&gt;1</title>\n",
       "<path fill=\"none\" stroke=\"#000000\" d=\"M160.1293,-366.9891C153.9765,-355.5752 147.3817,-343.3413 141.2164,-331.9042\"/>\n",
       "<polygon fill=\"#000000\" stroke=\"#000000\" points=\"144.2066,-330.0752 136.3806,-322.9335 138.0449,-333.3968 144.2066,-330.0752\"/>\n",
       "<text text-anchor=\"middle\" x=\"129.2081\" y=\"-342.6825\" font-family=\"Times,serif\" font-size=\"14.00\" fill=\"#000000\">True</text>\n",
       "</g>\n",
       "<!-- 2 -->\n",
       "<g id=\"node3\" class=\"node\">\n",
       "<title>2</title>\n",
       "<polygon fill=\"none\" stroke=\"#000000\" points=\"319.9279,-331.2 190.1519,-331.2 190.1519,-239.2 319.9279,-239.2 319.9279,-331.2\"/>\n",
       "<text text-anchor=\"middle\" x=\"255.0399\" y=\"-314.6\" font-family=\"Times,serif\" font-size=\"14.00\" fill=\"#000000\">petal_width &lt;= 1.75</text>\n",
       "<text text-anchor=\"middle\" x=\"255.0399\" y=\"-297.8\" font-family=\"Times,serif\" font-size=\"14.00\" fill=\"#000000\">gini = 0.5</text>\n",
       "<text text-anchor=\"middle\" x=\"255.0399\" y=\"-281\" font-family=\"Times,serif\" font-size=\"14.00\" fill=\"#000000\">samples = 100</text>\n",
       "<text text-anchor=\"middle\" x=\"255.0399\" y=\"-264.2\" font-family=\"Times,serif\" font-size=\"14.00\" fill=\"#000000\">value = [0, 50, 50]</text>\n",
       "<text text-anchor=\"middle\" x=\"255.0399\" y=\"-247.4\" font-family=\"Times,serif\" font-size=\"14.00\" fill=\"#000000\">class = versicolor</text>\n",
       "</g>\n",
       "<!-- 0&#45;&gt;2 -->\n",
       "<g id=\"edge2\" class=\"edge\">\n",
       "<title>0&#45;&gt;2</title>\n",
       "<path fill=\"none\" stroke=\"#000000\" d=\"M210.3115,-366.9891C215.0696,-358.2885 220.0883,-349.1115 224.9759,-340.1741\"/>\n",
       "<polygon fill=\"#000000\" stroke=\"#000000\" points=\"228.078,-341.7962 229.8054,-331.3431 221.9364,-338.4375 228.078,-341.7962\"/>\n",
       "<text text-anchor=\"middle\" x=\"236.8333\" y=\"-351.1349\" font-family=\"Times,serif\" font-size=\"14.00\" fill=\"#000000\">False</text>\n",
       "</g>\n",
       "<!-- 3 -->\n",
       "<g id=\"node4\" class=\"node\">\n",
       "<title>3</title>\n",
       "<polygon fill=\"none\" stroke=\"#000000\" points=\"246.5362,-203.2 113.5436,-203.2 113.5436,-111.2 246.5362,-111.2 246.5362,-203.2\"/>\n",
       "<text text-anchor=\"middle\" x=\"180.0399\" y=\"-186.6\" font-family=\"Times,serif\" font-size=\"14.00\" fill=\"#000000\">petal_length &lt;= 4.95</text>\n",
       "<text text-anchor=\"middle\" x=\"180.0399\" y=\"-169.8\" font-family=\"Times,serif\" font-size=\"14.00\" fill=\"#000000\">gini = 0.168</text>\n",
       "<text text-anchor=\"middle\" x=\"180.0399\" y=\"-153\" font-family=\"Times,serif\" font-size=\"14.00\" fill=\"#000000\">samples = 54</text>\n",
       "<text text-anchor=\"middle\" x=\"180.0399\" y=\"-136.2\" font-family=\"Times,serif\" font-size=\"14.00\" fill=\"#000000\">value = [0, 49, 5]</text>\n",
       "<text text-anchor=\"middle\" x=\"180.0399\" y=\"-119.4\" font-family=\"Times,serif\" font-size=\"14.00\" fill=\"#000000\">class = versicolor</text>\n",
       "</g>\n",
       "<!-- 2&#45;&gt;3 -->\n",
       "<g id=\"edge3\" class=\"edge\">\n",
       "<title>2&#45;&gt;3</title>\n",
       "<path fill=\"none\" stroke=\"#000000\" d=\"M227.9632,-238.9891C222.8652,-230.2885 217.488,-221.1115 212.2513,-212.1741\"/>\n",
       "<polygon fill=\"#000000\" stroke=\"#000000\" points=\"215.1522,-210.2017 207.0769,-203.3431 209.1126,-213.7405 215.1522,-210.2017\"/>\n",
       "</g>\n",
       "<!-- 6 -->\n",
       "<g id=\"node7\" class=\"node\">\n",
       "<title>6</title>\n",
       "<polygon fill=\"none\" stroke=\"#000000\" points=\"396.5362,-203.2 263.5436,-203.2 263.5436,-111.2 396.5362,-111.2 396.5362,-203.2\"/>\n",
       "<text text-anchor=\"middle\" x=\"330.0399\" y=\"-186.6\" font-family=\"Times,serif\" font-size=\"14.00\" fill=\"#000000\">petal_length &lt;= 4.85</text>\n",
       "<text text-anchor=\"middle\" x=\"330.0399\" y=\"-169.8\" font-family=\"Times,serif\" font-size=\"14.00\" fill=\"#000000\">gini = 0.043</text>\n",
       "<text text-anchor=\"middle\" x=\"330.0399\" y=\"-153\" font-family=\"Times,serif\" font-size=\"14.00\" fill=\"#000000\">samples = 46</text>\n",
       "<text text-anchor=\"middle\" x=\"330.0399\" y=\"-136.2\" font-family=\"Times,serif\" font-size=\"14.00\" fill=\"#000000\">value = [0, 1, 45]</text>\n",
       "<text text-anchor=\"middle\" x=\"330.0399\" y=\"-119.4\" font-family=\"Times,serif\" font-size=\"14.00\" fill=\"#000000\">class = virginica</text>\n",
       "</g>\n",
       "<!-- 2&#45;&gt;6 -->\n",
       "<g id=\"edge6\" class=\"edge\">\n",
       "<title>2&#45;&gt;6</title>\n",
       "<path fill=\"none\" stroke=\"#000000\" d=\"M282.1166,-238.9891C287.2146,-230.2885 292.5918,-221.1115 297.8285,-212.1741\"/>\n",
       "<polygon fill=\"#000000\" stroke=\"#000000\" points=\"300.9672,-213.7405 303.0029,-203.3431 294.9276,-210.2017 300.9672,-213.7405\"/>\n",
       "</g>\n",
       "<!-- 4 -->\n",
       "<g id=\"node5\" class=\"node\">\n",
       "<title>4</title>\n",
       "<polygon fill=\"none\" stroke=\"#000000\" points=\"114.1197,-75.3003 -.0399,-75.3003 -.0399,.1003 114.1197,.1003 114.1197,-75.3003\"/>\n",
       "<text text-anchor=\"middle\" x=\"57.0399\" y=\"-58.6\" font-family=\"Times,serif\" font-size=\"14.00\" fill=\"#000000\">gini = 0.041</text>\n",
       "<text text-anchor=\"middle\" x=\"57.0399\" y=\"-41.8\" font-family=\"Times,serif\" font-size=\"14.00\" fill=\"#000000\">samples = 48</text>\n",
       "<text text-anchor=\"middle\" x=\"57.0399\" y=\"-25\" font-family=\"Times,serif\" font-size=\"14.00\" fill=\"#000000\">value = [0, 47, 1]</text>\n",
       "<text text-anchor=\"middle\" x=\"57.0399\" y=\"-8.2\" font-family=\"Times,serif\" font-size=\"14.00\" fill=\"#000000\">class = versicolor</text>\n",
       "</g>\n",
       "<!-- 3&#45;&gt;4 -->\n",
       "<g id=\"edge4\" class=\"edge\">\n",
       "<title>3&#45;&gt;4</title>\n",
       "<path fill=\"none\" stroke=\"#000000\" d=\"M132.4849,-110.9595C122.7882,-101.5309 112.6034,-91.6276 102.9649,-82.2555\"/>\n",
       "<polygon fill=\"#000000\" stroke=\"#000000\" points=\"105.3273,-79.6708 95.7179,-75.2088 100.4474,-84.6895 105.3273,-79.6708\"/>\n",
       "</g>\n",
       "<!-- 5 -->\n",
       "<g id=\"node6\" class=\"node\">\n",
       "<title>5</title>\n",
       "<polygon fill=\"none\" stroke=\"#000000\" points=\"239.9052,-75.3003 132.1746,-75.3003 132.1746,.1003 239.9052,.1003 239.9052,-75.3003\"/>\n",
       "<text text-anchor=\"middle\" x=\"186.0399\" y=\"-58.6\" font-family=\"Times,serif\" font-size=\"14.00\" fill=\"#000000\">gini = 0.444</text>\n",
       "<text text-anchor=\"middle\" x=\"186.0399\" y=\"-41.8\" font-family=\"Times,serif\" font-size=\"14.00\" fill=\"#000000\">samples = 6</text>\n",
       "<text text-anchor=\"middle\" x=\"186.0399\" y=\"-25\" font-family=\"Times,serif\" font-size=\"14.00\" fill=\"#000000\">value = [0, 2, 4]</text>\n",
       "<text text-anchor=\"middle\" x=\"186.0399\" y=\"-8.2\" font-family=\"Times,serif\" font-size=\"14.00\" fill=\"#000000\">class = virginica</text>\n",
       "</g>\n",
       "<!-- 3&#45;&gt;5 -->\n",
       "<g id=\"edge5\" class=\"edge\">\n",
       "<title>3&#45;&gt;5</title>\n",
       "<path fill=\"none\" stroke=\"#000000\" d=\"M182.3597,-110.9595C182.7817,-102.5477 183.2226,-93.7581 183.6467,-85.3049\"/>\n",
       "<polygon fill=\"#000000\" stroke=\"#000000\" points=\"187.1476,-85.3717 184.1532,-75.2088 180.1564,-85.0209 187.1476,-85.3717\"/>\n",
       "</g>\n",
       "<!-- 7 -->\n",
       "<g id=\"node8\" class=\"node\">\n",
       "<title>7</title>\n",
       "<polygon fill=\"none\" stroke=\"#000000\" points=\"377.9052,-75.3003 270.1746,-75.3003 270.1746,.1003 377.9052,.1003 377.9052,-75.3003\"/>\n",
       "<text text-anchor=\"middle\" x=\"324.0399\" y=\"-58.6\" font-family=\"Times,serif\" font-size=\"14.00\" fill=\"#000000\">gini = 0.444</text>\n",
       "<text text-anchor=\"middle\" x=\"324.0399\" y=\"-41.8\" font-family=\"Times,serif\" font-size=\"14.00\" fill=\"#000000\">samples = 3</text>\n",
       "<text text-anchor=\"middle\" x=\"324.0399\" y=\"-25\" font-family=\"Times,serif\" font-size=\"14.00\" fill=\"#000000\">value = [0, 1, 2]</text>\n",
       "<text text-anchor=\"middle\" x=\"324.0399\" y=\"-8.2\" font-family=\"Times,serif\" font-size=\"14.00\" fill=\"#000000\">class = virginica</text>\n",
       "</g>\n",
       "<!-- 6&#45;&gt;7 -->\n",
       "<g id=\"edge7\" class=\"edge\">\n",
       "<title>6&#45;&gt;7</title>\n",
       "<path fill=\"none\" stroke=\"#000000\" d=\"M327.7201,-110.9595C327.2981,-102.5477 326.8572,-93.7581 326.4331,-85.3049\"/>\n",
       "<polygon fill=\"#000000\" stroke=\"#000000\" points=\"329.9234,-85.0209 325.9266,-75.2088 322.9322,-85.3717 329.9234,-85.0209\"/>\n",
       "</g>\n",
       "<!-- 8 -->\n",
       "<g id=\"node9\" class=\"node\">\n",
       "<title>8</title>\n",
       "<polygon fill=\"none\" stroke=\"#000000\" points=\"508.0765,-75.3003 396.0033,-75.3003 396.0033,.1003 508.0765,.1003 508.0765,-75.3003\"/>\n",
       "<text text-anchor=\"middle\" x=\"452.0399\" y=\"-58.6\" font-family=\"Times,serif\" font-size=\"14.00\" fill=\"#000000\">gini = 0.0</text>\n",
       "<text text-anchor=\"middle\" x=\"452.0399\" y=\"-41.8\" font-family=\"Times,serif\" font-size=\"14.00\" fill=\"#000000\">samples = 43</text>\n",
       "<text text-anchor=\"middle\" x=\"452.0399\" y=\"-25\" font-family=\"Times,serif\" font-size=\"14.00\" fill=\"#000000\">value = [0, 0, 43]</text>\n",
       "<text text-anchor=\"middle\" x=\"452.0399\" y=\"-8.2\" font-family=\"Times,serif\" font-size=\"14.00\" fill=\"#000000\">class = virginica</text>\n",
       "</g>\n",
       "<!-- 6&#45;&gt;8 -->\n",
       "<g id=\"edge8\" class=\"edge\">\n",
       "<title>6&#45;&gt;8</title>\n",
       "<path fill=\"none\" stroke=\"#000000\" d=\"M377.2083,-110.9595C386.8261,-101.5309 396.9282,-91.6276 406.4883,-82.2555\"/>\n",
       "<polygon fill=\"#000000\" stroke=\"#000000\" points=\"408.9856,-84.7087 413.6764,-75.2088 404.0852,-79.71 408.9856,-84.7087\"/>\n",
       "</g>\n",
       "</g>\n",
       "</svg>\n"
      ],
      "text/plain": [
       "<graphviz.files.Source at 0x1a19f13dd8>"
      ]
     },
     "execution_count": 185,
     "metadata": {},
     "output_type": "execute_result"
    }
   ],
   "source": [
    "#imports\n",
    "from sklearn.tree import export_graphviz\n",
    "import graphviz\n",
    "\n",
    "#Export the decision tree graph viz object. We have to export and the re-import it\n",
    "export_graphviz(iris_model, out_file='iris2.dot', \n",
    "                    feature_names=X.columns, \n",
    "                    class_names=y.unique())\n",
    "with open(\"iris2.dot\") as f: \n",
    "        dot_graph = f.read()\n",
    "graphviz.Source(dot_graph)"
   ]
  },
  {
   "cell_type": "code",
   "execution_count": null,
   "metadata": {},
   "outputs": [],
   "source": [
    "DecisionTreeClassifier()"
   ]
  },
  {
   "cell_type": "markdown",
   "metadata": {},
   "source": [
    "## Notes and resources"
   ]
  },
  {
   "cell_type": "markdown",
   "metadata": {},
   "source": [
    "### Decision trees pros and cons:\n",
    "<br><br>\n",
    "**Advantages of decision trees:**\n",
    "- Can be used for regression or classification\n",
    "- Can be displayed graphically\n",
    "- Highly interpretable\n",
    "- Can be specified as a series of rules, and more closely approximate human decision-making than other models\n",
    "- Prediction is fast\n",
    "- Features don't need scaling\n",
    "- Automatically learns feature interactions\n",
    "- Tends to ignore irrelevant features\n",
    "- Non-parametric (will outperform linear models if relationship between features and response is highly non-linear)\n",
    "\n",
    "**Disadvantages of decision trees:**\n",
    "- Performance is (generally) not competitive with the best supervised learning methods (low bias)\n",
    "- Can easily overfit the training data (tuning is required)\n",
    "- Small variations in the data can result in a completely different tree (high variance)\n",
    "- Recursive binary splitting makes \"locally optimal\" decisions that may not result in a globally optimal tree\n",
    "- Doesn't tend to work well if the classes are highly unbalanced\n",
    "- Doesn't tend to work well with very small datasets"
   ]
  },
  {
   "cell_type": "markdown",
   "metadata": {},
   "source": [
    "### BONUS Gini section\n",
    "<br><br>\n",
    "Common options for the splitting criteria:\n",
    "\n",
    "- **classification error rate:** fraction of training observations in a region that don't belong to the most common class\n",
    "- **Gini index:** measure of total variance across classes in a region\n",
    "\n",
    "#### Example of classification error rate\n",
    "\n",
    "Pretend we are predicting whether someone buys an iPhone or an Android:\n",
    "\n",
    "- At a particular node, there are **25 observations** (phone buyers), of whom **10 bought iPhones and 15 bought Androids**.\n",
    "- Since the majority class is **Android**, that's our prediction for all 25 observations, and thus the classification error rate is **10/25 = 40%**.\n",
    "\n",
    "Our goal in making splits is to **reduce the classification error rate**. Let's try splitting on gender:\n",
    "\n",
    "- **Males:** 2 iPhones and 12 Androids, thus the predicted class is Android\n",
    "- **Females:** 8 iPhones and 3 Androids, thus the predicted class is iPhone\n",
    "- Classification error rate after this split would be **5/25 = 20%**\n",
    "\n",
    "Compare that with a split on age:\n",
    "\n",
    "- **30 or younger:** 4 iPhones and 8 Androids, thus the predicted class is Android\n",
    "- **31 or older:** 6 iPhones and 7 Androids, thus the predicted class is Android\n",
    "- Classification error rate after this split would be **10/25 = 40%**\n",
    "\n",
    "The decision tree algorithm will try **every possible split across all features**, and choose the split that **reduces the error rate the most.**\n",
    "\n",
    "#### Example of Gini index\n",
    "\n",
    "Calculate the Gini index before making a split:\n",
    "\n",
    "$$1 - \\left(\\frac {iPhone} {Total}\\right)^2 - \\left(\\frac {Android} {Total}\\right)^2 = 1 - \\left(\\frac {10} {25}\\right)^2 - \\left(\\frac {15} {25}\\right)^2 = 0.48$$\n",
    "\n",
    "- The **maximum value** of the Gini index is 0.5, and occurs when the classes are perfectly balanced in a node.\n",
    "- The **minimum value** of the Gini index is 0, and occurs when there is only one class represented in a node.\n",
    "- A node with a lower Gini index is said to be more \"pure\".\n",
    "\n",
    "Evaluating the split on **gender** using Gini index:\n",
    "\n",
    "$$\\text{Males: } 1 - \\left(\\frac {2} {14}\\right)^2 - \\left(\\frac {12} {14}\\right)^2 = 0.24$$\n",
    "$$\\text{Females: } 1 - \\left(\\frac {8} {11}\\right)^2 - \\left(\\frac {3} {11}\\right)^2 = 0.40$$\n",
    "$$\\text{Weighted Average: } 0.24 \\left(\\frac {14} {25}\\right) + 0.40 \\left(\\frac {11} {25}\\right) = 0.31$$\n",
    "\n",
    "Evaluating the split on **age** using Gini index:\n",
    "\n",
    "$$\\text{30 or younger: } 1 - \\left(\\frac {4} {12}\\right)^2 - \\left(\\frac {8} {12}\\right)^2 = 0.44$$\n",
    "$$\\text{31 or older: } 1 - \\left(\\frac {6} {13}\\right)^2 - \\left(\\frac {7} {13}\\right)^2 = 0.50$$\n",
    "$$\\text{Weighted Average: } 0.44 \\left(\\frac {12} {25}\\right) + 0.50 \\left(\\frac {13} {25}\\right) = 0.47$$\n",
    "\n",
    "Again, the decision tree algorithm will try **every possible split**, and will choose the split that **reduces the Gini index (and thus increases the \"node purity\") the most.**"
   ]
  },
  {
   "cell_type": "markdown",
   "metadata": {},
   "source": [
    "#### Decision tree resources\n",
    "- http://dataaspirant.com/2017/01/30/how-decision-tree-algorithm-works/\n",
    "- http://dataaspirant.com/2017/02/01/decision-tree-algorithm-python-with-scikit-learn/\n",
    "- https://www.youtube.com/watch?v=eKD5gxPPeY0&t=7s\n",
    "- https://github.com/josiahdavis/DecisionTrees/blob/master/DecisionTrees.ipynb\n",
    "- https://www.talend.com/blog/2016/09/29/machine-learning-made-easy-with-talend-decision-trees/\n",
    "- https://machinelearningmastery.com/classification-and-regression-trees-for-machine-learning/"
   ]
  },
  {
   "cell_type": "markdown",
   "metadata": {},
   "source": [
    "#### Machine learning resources\n",
    "\n",
    "- Intro to ML in sklearn http://scikit-learn.org/stable/tutorial/basic/tutorial.html\n",
    "- https://www.digitalocean.com/community/tutorials/an-introduction-to-machine-learning\n",
    "- https://www.toptal.com/machine-learning/machine-learning-theory-an-introductory-primer\n",
    "- https://www.youtube.com/watch?v=IpGxLWOIZy4\n",
    "- https://www.analyticsvidhya.com/blog/2015/06/machine-learning-basics/\n",
    "- [Visual introduction to machine learning](http://www.r2d3.us/visual-intro-to-machine-learning-part-1/)\n",
    "- Great series -> https://medium.com/machine-learning-for-humans/why-machine-learning-matters-6164faf1df12\n"
   ]
  }
 ],
 "metadata": {
  "kernelspec": {
   "display_name": "Python 3",
   "language": "python",
   "name": "python3"
  },
  "language_info": {
   "codemirror_mode": {
    "name": "ipython",
    "version": 3
   },
   "file_extension": ".py",
   "mimetype": "text/x-python",
   "name": "python",
   "nbconvert_exporter": "python",
   "pygments_lexer": "ipython3",
   "version": "3.6.4"
  }
 },
 "nbformat": 4,
 "nbformat_minor": 2
}
