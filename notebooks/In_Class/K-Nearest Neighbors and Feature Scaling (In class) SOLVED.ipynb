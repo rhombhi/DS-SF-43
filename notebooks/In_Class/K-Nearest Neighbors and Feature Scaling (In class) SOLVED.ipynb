{
 "cells": [
  {
   "cell_type": "markdown",
   "metadata": {},
   "source": [
    "# K-Nearest Neighbors and Feature Scaling"
   ]
  },
  {
   "cell_type": "markdown",
   "metadata": {},
   "source": [
    "Goals:\n",
    "\n",
    "- Learn about the K-Nearest Neighbors machine learning algorithm. How it works and how to use it.\n",
    "- Use the KNN model on the 2016 Democratic dataset.\n",
    "- Feature engineering continued: scaling data with standard and minmax scalers.\n",
    "- How and when to use scaling for you data.\n",
    "- Class work: compare and contrast KNN and decision tree models on classification supervised learning datasets"
   ]
  },
  {
   "cell_type": "markdown",
   "metadata": {},
   "source": [
    "## K-Nearest Neighbors"
   ]
  },
  {
   "cell_type": "markdown",
   "metadata": {},
   "source": [
    "- Known as the \"easy\" machine learning model\n",
    "- Classifies an event based on its closest relatives in the data the model has been trained on. Hence the term \"Nearest Neighbors\". K = number of neighbors.\n",
    "- Known as a voting classifier because n neighbors vote for the classification.\n",
    "- Uses Euclidean Distance to calculate similarity.\n",
    "- Pros: Fast, intuitive, easy to interpret, ability to make probabilities.\n",
    "- Cons: Poor at handling many features, especially \"noisy\" features because it treats every feature equally. Not good with small sample sizes. Usually requires scaling."
   ]
  },
  {
   "cell_type": "markdown",
   "metadata": {},
   "source": [
    "![ED](https://4.bp.blogspot.com/-UDuXTjw5pbw/WkZ_Yt7qrWI/AAAAAAAAARw/BWh39dRCPzwP1jowVg9lSOH8yfHvrv1lQCLcBGAs/s1600/euclidian.PNG)\n",
    "\n",
    "Source: Sumit Jha"
   ]
  },
  {
   "cell_type": "code",
   "execution_count": 3,
   "metadata": {},
   "outputs": [],
   "source": [
    "#Imports\n",
    "import pandas as pd\n",
    "import numpy as np\n",
    "from sklearn.datasets import make_classification\n",
    "from sklearn.neighbors import KNeighborsClassifier\n",
    "from sklearn.cross_validation import train_test_split, cross_val_score\n",
    "from sklearn.metrics import accuracy_score, confusion_matrix\n",
    "import matplotlib.pyplot as plt\n",
    "%matplotlib inline\n",
    "plt.style.use(\"fivethirtyeight\");"
   ]
  },
  {
   "cell_type": "code",
   "execution_count": 4,
   "metadata": {},
   "outputs": [],
   "source": [
    "#Fake data time\n",
    "data = make_classification(n_samples=200,\n",
    "                           n_features=2,\n",
    "                           n_classes=2,\n",
    "                           n_informative=2,\n",
    "                           n_redundant=0,\n",
    "                            class_sep=.35,\n",
    "                           random_state=5)"
   ]
  },
  {
   "cell_type": "code",
   "execution_count": 14,
   "metadata": {},
   "outputs": [
    {
     "data": {
      "text/plain": [
       "array([[-1.64208426e+00,  1.33909368e+00],\n",
       "       [-7.84022851e-01,  1.00602461e+00],\n",
       "       [-4.58630519e-01,  4.11381175e-01],\n",
       "       [-5.71093230e-01,  5.55352704e-01],\n",
       "       [-7.84698646e-01, -2.82529900e-01],\n",
       "       [-3.95547667e-01, -6.58290421e-01],\n",
       "       [ 5.33008619e-01, -1.22384013e-01],\n",
       "       [-1.22196125e+00,  1.33124762e+00],\n",
       "       [-1.27122681e+00,  1.77389896e+00],\n",
       "       [-1.11883838e-01, -9.56891610e-01],\n",
       "       [ 1.29540037e+00, -1.79779965e-01],\n",
       "       [-9.88677972e-01,  9.06186213e-01],\n",
       "       [-1.94784129e+00,  1.49455341e+00],\n",
       "       [-4.25436206e-01,  1.12583269e-01],\n",
       "       [-2.04561794e+00,  1.48736352e+00],\n",
       "       [ 9.36101853e-01,  4.05150046e-01],\n",
       "       [ 1.33423013e+00, -5.96080277e-01],\n",
       "       [-1.28381235e+00,  9.23115513e-01],\n",
       "       [ 4.42584545e-01,  7.92360332e-01],\n",
       "       [-4.32201004e-01,  2.93243248e-01],\n",
       "       [ 4.09036084e-02, -4.43595996e-01],\n",
       "       [ 3.54283081e-01, -1.96840898e+00],\n",
       "       [-1.35628777e+00,  1.53617903e+00],\n",
       "       [-1.87322790e-01, -5.04076990e-01],\n",
       "       [ 8.18177718e-01, -2.72930954e-01],\n",
       "       [ 3.01723914e-01, -1.74605041e+00],\n",
       "       [ 2.02388717e+00,  1.03794868e+00],\n",
       "       [ 2.41134854e-01, -5.30522346e-01],\n",
       "       [ 2.12499966e-01, -2.09666538e+00],\n",
       "       [ 4.25712016e-01, -2.79373987e-01],\n",
       "       [-1.06691372e+00,  1.01720319e+00],\n",
       "       [-2.19228024e-01, -2.75189183e-01],\n",
       "       [-3.52661808e-01,  4.95664754e-01],\n",
       "       [-2.09698208e-02,  3.06841271e-01],\n",
       "       [-1.84594677e+00,  3.25547484e+00],\n",
       "       [-4.85573176e-01,  1.50886163e-01],\n",
       "       [-4.35750266e-01,  7.49830276e-01],\n",
       "       [ 9.98131089e-01, -5.76991437e-01],\n",
       "       [ 1.88124510e-02, -9.36324573e-01],\n",
       "       [-5.07550906e-01,  3.51306331e-01],\n",
       "       [-9.24012629e-02,  4.95820358e-01],\n",
       "       [-9.14154186e-01,  4.46120562e-01],\n",
       "       [-4.38904845e-01, -1.00065884e+00],\n",
       "       [-4.57287747e-01, -3.60990829e-01],\n",
       "       [-1.21094066e-01, -1.52362942e+00],\n",
       "       [ 4.13629332e-01,  9.91979657e-01],\n",
       "       [-1.07747546e-01,  6.83431361e-01],\n",
       "       [ 2.88207308e-01,  4.77792758e-02],\n",
       "       [ 8.28236264e-01, -8.84366902e-01],\n",
       "       [ 1.40006355e+00, -1.58971112e+00],\n",
       "       [ 7.44774998e-01, -1.96812292e+00],\n",
       "       [ 1.48389305e+00, -1.95916619e+00],\n",
       "       [-2.59818422e-01,  1.53859050e-01],\n",
       "       [ 1.18839847e+00, -1.41499486e+00],\n",
       "       [ 1.63625697e+00, -1.78772187e-01],\n",
       "       [-1.36923962e-01,  5.01806163e-01],\n",
       "       [-1.38756925e+00, -1.70583413e+00],\n",
       "       [-3.41979406e-01, -1.25915224e-02],\n",
       "       [-4.87811252e-01,  5.86594829e-01],\n",
       "       [ 7.75052711e-01, -1.50816120e+00],\n",
       "       [ 1.05357326e-01, -1.01576090e-01],\n",
       "       [ 6.14681114e-01, -1.19455970e+00],\n",
       "       [ 5.59318804e-01, -2.57366562e+00],\n",
       "       [ 1.21857749e+00,  9.19584815e-01],\n",
       "       [-6.35794008e-01,  3.95970835e-01],\n",
       "       [-1.50139407e-01, -9.03492525e-01],\n",
       "       [-9.01832384e-01,  6.30331317e-01],\n",
       "       [ 6.69485777e-01,  1.73567701e-01],\n",
       "       [ 3.28675942e-02,  4.13044378e-01],\n",
       "       [ 1.55415350e-02, -1.12912901e-01],\n",
       "       [ 4.52328971e-01, -1.03449577e+00],\n",
       "       [ 4.18368768e-01, -2.03115118e-01],\n",
       "       [-1.01842636e+00,  7.76448788e-01],\n",
       "       [ 3.30355628e-01,  1.72219718e+00],\n",
       "       [ 1.95971247e+00, -7.61920173e-01],\n",
       "       [-1.73647122e+00,  1.50863839e+00],\n",
       "       [-1.69078723e-01,  2.71154931e-01],\n",
       "       [-8.27243966e-01,  5.86676770e-01],\n",
       "       [-1.02367377e-01, -5.90034396e-01],\n",
       "       [-2.04949109e+00,  1.39039355e+00],\n",
       "       [-4.42801985e-01, -1.07444549e+00],\n",
       "       [ 5.14380246e-01,  1.11409720e+00],\n",
       "       [ 3.38237068e-01,  3.67400087e-01],\n",
       "       [ 1.15553837e+00, -8.76198360e-01],\n",
       "       [ 6.81140286e-01, -3.01255753e+00],\n",
       "       [-2.15776034e-01, -1.96135619e-01],\n",
       "       [-2.81716893e-01,  7.69618929e-02],\n",
       "       [ 1.97212952e-02,  7.89297251e-02],\n",
       "       [ 1.68811470e-01,  1.34291370e+00],\n",
       "       [-2.30838806e+00,  1.73497616e+00],\n",
       "       [ 4.40544930e-01, -5.69471571e-02],\n",
       "       [-1.04411109e+00,  7.34683356e-01],\n",
       "       [-1.68636385e+00,  1.92651141e+00],\n",
       "       [ 3.05891394e+00,  6.32573490e-01],\n",
       "       [ 1.01535020e+00, -2.83015650e-01],\n",
       "       [-2.18315131e-01, -1.00986290e+00],\n",
       "       [ 8.21521532e-04, -1.10701946e+00],\n",
       "       [ 8.42495495e-02, -1.41302305e+00],\n",
       "       [-5.17282244e-01, -1.09078073e-01],\n",
       "       [-3.46746229e-01,  7.35274153e-03],\n",
       "       [-1.21835998e+00,  1.06010070e+00],\n",
       "       [ 5.70695238e-01, -9.61774110e-02],\n",
       "       [-8.97708269e-01,  5.20760717e-01],\n",
       "       [-9.22429958e-02, -8.53502651e-01],\n",
       "       [-4.14688969e-01, -2.09903568e-01],\n",
       "       [ 5.94699022e-01, -3.41810364e-01],\n",
       "       [ 1.51691354e+00, -4.79055685e-01],\n",
       "       [ 5.24710265e-01, -7.55395321e-02],\n",
       "       [-2.92902246e-02,  6.53325857e-01],\n",
       "       [ 1.49696045e+00,  4.61355950e-02],\n",
       "       [-9.15665383e-01,  7.30808696e-01],\n",
       "       [ 1.55546749e-01, -9.65400020e-02],\n",
       "       [-1.04573194e+00,  7.45811256e-01],\n",
       "       [-1.27798883e+00,  1.23564725e+00],\n",
       "       [ 3.84326877e-02, -1.54503468e+00],\n",
       "       [ 3.45383235e-01, -8.01548647e-01],\n",
       "       [-7.84018214e-01,  1.23006177e+00],\n",
       "       [-2.00424577e-01,  2.25188144e-01],\n",
       "       [-6.62232243e-01, -1.26803282e+00],\n",
       "       [-5.66845352e-01, -5.13745495e-01],\n",
       "       [ 9.66403988e-01, -1.05742697e+00],\n",
       "       [ 8.09574345e-01,  7.70235955e-01],\n",
       "       [ 1.03043350e+00, -5.46105736e-01],\n",
       "       [ 2.08173359e+00, -5.64662139e-01],\n",
       "       [-6.67373836e-01,  6.41053278e-01],\n",
       "       [-2.67012960e-03, -3.62595738e-02],\n",
       "       [ 5.17708037e-02,  1.48631426e+00],\n",
       "       [ 1.17348039e+00,  7.48409803e-01],\n",
       "       [ 2.71720941e-02, -5.31451567e-01],\n",
       "       [-5.23991022e-01, -3.46723362e-01],\n",
       "       [-9.96210199e-01,  2.86572695e-01],\n",
       "       [-1.32214690e-01,  1.16538582e+00],\n",
       "       [-5.87814857e-01, -3.45191404e-01],\n",
       "       [-1.91799920e+00,  2.99710745e+00],\n",
       "       [-1.01884161e+00,  9.97646648e-01],\n",
       "       [ 1.72873551e+00, -4.88080799e-01],\n",
       "       [-9.93256114e-01,  6.21862332e-01],\n",
       "       [-1.86068375e+00,  1.13502165e+00],\n",
       "       [ 1.79939923e-03,  5.92090958e-01],\n",
       "       [ 1.23083212e+00, -9.90690747e-01],\n",
       "       [ 8.66435437e-02,  1.70781401e+00],\n",
       "       [ 4.79056644e-01, -7.60653247e-01],\n",
       "       [ 3.58210606e-01, -4.19684813e-01],\n",
       "       [ 6.20068323e-01,  5.84528973e-02],\n",
       "       [-4.14901549e-01, -1.11673663e-01],\n",
       "       [-2.85097589e-01,  9.12567176e-01],\n",
       "       [-6.72174221e-02, -1.69402503e-01],\n",
       "       [-5.12124483e-01, -5.86525076e-02],\n",
       "       [ 1.26195038e-01, -4.67580840e-01],\n",
       "       [ 7.93404677e-01, -4.17418282e-01],\n",
       "       [-1.82185484e-01, -8.84035445e-01],\n",
       "       [-5.55209307e-01,  6.35578642e-01],\n",
       "       [-3.88744170e-01, -1.51969656e-01],\n",
       "       [-4.28485848e-01,  1.21477615e-02],\n",
       "       [-1.19893938e-01, -7.57689147e-01],\n",
       "       [-2.35703894e-01, -3.69301002e-01],\n",
       "       [-9.36132188e-01, -1.71297351e-01],\n",
       "       [ 1.95538886e-01,  9.40484427e-02],\n",
       "       [ 5.48608934e-01, -5.49364467e-01],\n",
       "       [-3.69674763e-01,  7.05803648e-01],\n",
       "       [-1.03053028e+00,  5.83847083e-01],\n",
       "       [ 3.83424552e-01,  6.89778026e-01],\n",
       "       [-4.90832725e-01,  2.55337257e-01],\n",
       "       [-3.54086198e-01,  1.79452857e+00],\n",
       "       [-2.94247099e-01, -4.40860373e-01],\n",
       "       [ 6.85228661e-01, -8.60453870e-01],\n",
       "       [-2.90140374e-01,  4.46137744e-01],\n",
       "       [-2.87997386e-01, -4.54972724e-01],\n",
       "       [ 9.73786273e-01, -6.33542947e-01],\n",
       "       [-1.62084841e-01,  2.20217774e-01],\n",
       "       [ 1.19884936e+00,  3.67964727e-01],\n",
       "       [ 4.77793940e-01,  3.37669629e-01],\n",
       "       [ 1.10935202e+00, -2.91902365e-01],\n",
       "       [-3.04455980e-01,  6.88275412e-01],\n",
       "       [ 3.52591744e-02, -9.01495716e-01],\n",
       "       [-1.11900366e+00,  3.86851505e+00],\n",
       "       [ 1.25862652e-01, -1.60470785e+00],\n",
       "       [ 1.74239853e+00, -2.91203432e-01],\n",
       "       [ 9.50693563e-02,  1.59654894e-01],\n",
       "       [ 2.37172084e-01,  5.96338916e-01],\n",
       "       [ 1.63869095e+00, -9.10402460e-01],\n",
       "       [ 1.70153231e-01,  3.46272024e-01],\n",
       "       [ 3.13166343e-01,  3.63856319e-01],\n",
       "       [-8.60024126e-01,  7.87891640e-01],\n",
       "       [-1.09835167e+00, -2.62622611e-01],\n",
       "       [-2.46138231e-01, -1.42265848e+00],\n",
       "       [-6.81982274e-01,  6.30540899e-01],\n",
       "       [ 1.21892965e+00, -3.33253505e-01],\n",
       "       [ 1.08510483e+00, -1.14775409e+00],\n",
       "       [ 5.75959666e-01,  1.17225646e+00],\n",
       "       [-1.33651970e+00,  1.07709524e+00],\n",
       "       [ 1.05341141e+00, -3.71327943e-01],\n",
       "       [-1.69434573e+00, -1.64736847e+00],\n",
       "       [-7.38745958e-01,  6.42063916e-01],\n",
       "       [ 6.02001835e-01,  1.26715612e-01],\n",
       "       [ 5.13416394e-01, -5.03338829e-02],\n",
       "       [-1.58346087e+00,  1.14769256e+00],\n",
       "       [-2.99004521e-01, -3.67617948e-01],\n",
       "       [-6.06200779e-02, -9.26716766e-01],\n",
       "       [ 1.40932694e+00, -9.87166059e-01]])"
      ]
     },
     "execution_count": 14,
     "metadata": {},
     "output_type": "execute_result"
    }
   ],
   "source": [
    "data[0]"
   ]
  },
  {
   "cell_type": "code",
   "execution_count": 15,
   "metadata": {},
   "outputs": [
    {
     "data": {
      "text/plain": [
       "array([0, 0, 0, 1, 1, 0, 1, 0, 0, 1, 1, 0, 0, 0, 0, 1, 1, 0, 1, 0, 1, 0,\n",
       "       0, 0, 1, 0, 1, 1, 0, 0, 0, 0, 0, 1, 0, 0, 0, 1, 0, 0, 1, 1, 1, 0,\n",
       "       1, 1, 1, 0, 1, 1, 1, 1, 0, 1, 1, 1, 1, 0, 0, 1, 0, 1, 0, 1, 1, 0,\n",
       "       0, 1, 0, 0, 1, 0, 0, 1, 1, 0, 0, 0, 1, 0, 1, 1, 1, 1, 0, 0, 0, 1,\n",
       "       1, 0, 0, 0, 0, 1, 0, 0, 0, 0, 0, 0, 0, 0, 0, 0, 1, 0, 1, 1, 1, 1,\n",
       "       0, 1, 0, 0, 0, 1, 1, 0, 1, 1, 1, 1, 0, 1, 0, 0, 1, 1, 0, 0, 0, 1,\n",
       "       0, 0, 0, 1, 0, 0, 1, 1, 1, 1, 1, 1, 0, 1, 1, 0, 1, 0, 0, 0, 1, 0,\n",
       "       0, 0, 1, 0, 1, 1, 1, 1, 0, 1, 0, 1, 0, 0, 0, 1, 1, 1, 1, 1, 0, 1,\n",
       "       0, 1, 1, 1, 1, 1, 1, 0, 1, 1, 0, 1, 0, 1, 0, 1, 1, 0, 1, 0, 0, 1,\n",
       "       1, 1])"
      ]
     },
     "execution_count": 15,
     "metadata": {},
     "output_type": "execute_result"
    }
   ],
   "source": [
    "data[1]"
   ]
  },
  {
   "cell_type": "code",
   "execution_count": 5,
   "metadata": {},
   "outputs": [],
   "source": [
    "#Slice the features and target variable from data\n",
    "\n",
    "X = data[0]\n",
    "y = data[1]"
   ]
  },
  {
   "cell_type": "code",
   "execution_count": 7,
   "metadata": {},
   "outputs": [
    {
     "data": {
      "text/plain": [
       "(-3, 3)"
      ]
     },
     "execution_count": 7,
     "metadata": {},
     "output_type": "execute_result"
    },
    {
     "data": {
      "image/png": "[encoded data removed]",
      "text/plain": [
       "<matplotlib.figure.Figure at 0x1a172e7128>"
      ]
     },
     "metadata": {},
     "output_type": "display_data"
    }
   ],
   "source": [
    "#Plot the data with its color-encodings\n",
    "\n",
    "plt.figure(figsize=(15,11))\n",
    "plt.scatter(X[:,0],X[:,1], c=y, cmap = \"RdBu\", s = 150, alpha =0.6)\n",
    "plt.xlabel(\"Feature 1\")\n",
    "plt.ylabel(\"Feature 2\")\n",
    "plt.xlim(-3,3)\n",
    "plt.ylim(-3,3)"
   ]
  },
  {
   "cell_type": "code",
   "execution_count": null,
   "metadata": {},
   "outputs": [],
   "source": []
  },
  {
   "cell_type": "code",
   "execution_count": null,
   "metadata": {},
   "outputs": [],
   "source": []
  },
  {
   "cell_type": "markdown",
   "metadata": {},
   "source": [
    "Time to use K-Nearest Neighbors (KNN) to model this data."
   ]
  },
  {
   "cell_type": "code",
   "execution_count": null,
   "metadata": {},
   "outputs": [],
   "source": []
  },
  {
   "cell_type": "code",
   "execution_count": null,
   "metadata": {},
   "outputs": [],
   "source": []
  },
  {
   "cell_type": "markdown",
   "metadata": {},
   "source": [
    "Train a KNN model using 3 neighbors"
   ]
  },
  {
   "cell_type": "code",
   "execution_count": 20,
   "metadata": {},
   "outputs": [
    {
     "name": "stdout",
     "output_type": "stream",
     "text": [
      "The model accurately labelled 89.50 percent of the data\n"
     ]
    }
   ],
   "source": [
    "#intialize model and set n_neighbors equal to 3\n",
    "knn3 = KNeighborsClassifier(n_neighbors=3)\n",
    "\n",
    "#Fit the model on the \"fake data\"\n",
    "knn3.fit(X,y)\n",
    "\n",
    "#Find the accuracy score of the model on the data\n",
    "score3 = knn3.score(X,y)\n",
    "\n",
    "print (\"The model accurately labelled {:.2f} percent of the data\".format(score3*100))"
   ]
  },
  {
   "cell_type": "markdown",
   "metadata": {},
   "source": [
    "Now with 5 neighbors"
   ]
  },
  {
   "cell_type": "code",
   "execution_count": 21,
   "metadata": {},
   "outputs": [
    {
     "name": "stdout",
     "output_type": "stream",
     "text": [
      "The model accurately labelled 85.00 percent of the data\n"
     ]
    }
   ],
   "source": [
    "#intialize model and set n_neighbors equal to 5\n",
    "knn5 = KNeighborsClassifier(n_neighbors=5)\n",
    "\n",
    "#Fit the model on the \"fake data\"\n",
    "knn5.fit(X,y)\n",
    "\n",
    "#Find the accuracy score of the model on the data\n",
    "score5 = knn5.score(X,y)\n",
    "\n",
    "print (\"The model accurately labelled {:.2f} percent of the data\".format(score5 * 100))"
   ]
  },
  {
   "cell_type": "code",
   "execution_count": null,
   "metadata": {},
   "outputs": [],
   "source": []
  },
  {
   "cell_type": "code",
   "execution_count": null,
   "metadata": {},
   "outputs": [],
   "source": []
  },
  {
   "cell_type": "markdown",
   "metadata": {},
   "source": [
    "Apply model on a new point"
   ]
  },
  {
   "cell_type": "code",
   "execution_count": 22,
   "metadata": {},
   "outputs": [
    {
     "name": "stdout",
     "output_type": "stream",
     "text": [
      "The knn3 model thinks new_data belongs to class 0\n",
      "The knn5 model thinks new_data belongs to class 1\n"
     ]
    }
   ],
   "source": [
    "#New data point\n",
    "new_data = np.asarray([0.18,0.15]).reshape(1,-1)\n",
    "\n",
    "#Make predictions on new_data using both models\n",
    "pred3 = knn3.predict(new_data)\n",
    "pred5 = knn5.predict(new_data)\n",
    "\n",
    "#Call those predictions\n",
    "print (\"The knn3 model thinks new_data belongs to class {}\".format(pred3[0]))\n",
    "print (\"The knn5 model thinks new_data belongs to class {}\".format(pred5[0]))"
   ]
  },
  {
   "cell_type": "markdown",
   "metadata": {},
   "source": [
    "Look at class probabilities"
   ]
  },
  {
   "cell_type": "code",
   "execution_count": 24,
   "metadata": {},
   "outputs": [
    {
     "data": {
      "text/plain": [
       "array([[0.66666667, 0.33333333]])"
      ]
     },
     "execution_count": 24,
     "metadata": {},
     "output_type": "execute_result"
    }
   ],
   "source": [
    "#Use predict_proba to find class probabilities on new_data\n",
    "knn3.predict_proba(new_data)"
   ]
  },
  {
   "cell_type": "code",
   "execution_count": 25,
   "metadata": {},
   "outputs": [
    {
     "data": {
      "text/plain": [
       "array([[0.4, 0.6]])"
      ]
     },
     "execution_count": 25,
     "metadata": {},
     "output_type": "execute_result"
    }
   ],
   "source": [
    "#For 5 neighbors\n",
    "knn5.predict_proba(new_data)"
   ]
  },
  {
   "cell_type": "markdown",
   "metadata": {},
   "source": [
    "These probabilites are the vote percentages."
   ]
  },
  {
   "cell_type": "code",
   "execution_count": null,
   "metadata": {},
   "outputs": [],
   "source": []
  },
  {
   "cell_type": "code",
   "execution_count": null,
   "metadata": {},
   "outputs": [],
   "source": []
  },
  {
   "cell_type": "code",
   "execution_count": null,
   "metadata": {},
   "outputs": [],
   "source": []
  },
  {
   "cell_type": "markdown",
   "metadata": {},
   "source": [
    "Visualize new point in relation to data"
   ]
  },
  {
   "cell_type": "code",
   "execution_count": 26,
   "metadata": {},
   "outputs": [
    {
     "data": {
      "image/png": "[encoded data removed]",
      "text/plain": [
       "<matplotlib.figure.Figure at 0x1a17874cc0>"
      ]
     },
     "metadata": {},
     "output_type": "display_data"
    }
   ],
   "source": [
    "plt.figure(figsize=(15,11))\n",
    "plt.xlim(0,0.4)\n",
    "plt.ylim(0,.4)\n",
    "plt.scatter(X[:,0], X[:,1], c=y, cmap = \"RdBu\", s=350)\n",
    "#Plot of new_data point\n",
    "plt.scatter([0.18], [0.15], c=\"purple\", cmap = \"RdBu\",marker=\"*\", s= 2500)\n",
    "plt.xlabel(\"Feature One\")\n",
    "plt.ylabel(\"Feature Two\");"
   ]
  },
  {
   "cell_type": "code",
   "execution_count": null,
   "metadata": {},
   "outputs": [],
   "source": []
  },
  {
   "cell_type": "code",
   "execution_count": null,
   "metadata": {},
   "outputs": [],
   "source": []
  },
  {
   "cell_type": "markdown",
   "metadata": {},
   "source": [
    "Classify the purple star using the KNN method."
   ]
  },
  {
   "cell_type": "code",
   "execution_count": null,
   "metadata": {},
   "outputs": [],
   "source": []
  },
  {
   "cell_type": "code",
   "execution_count": null,
   "metadata": {},
   "outputs": [],
   "source": []
  },
  {
   "cell_type": "code",
   "execution_count": null,
   "metadata": {},
   "outputs": [],
   "source": []
  },
  {
   "cell_type": "markdown",
   "metadata": {},
   "source": [
    "Visualizing KNN"
   ]
  },
  {
   "cell_type": "code",
   "execution_count": 34,
   "metadata": {},
   "outputs": [],
   "source": [
    "#Load in the plot_decision_boundary function\n",
    "def plot_decision_boundary(model, X, y, n_neighbors):\n",
    "    X_max = X.max(axis=0)\n",
    "    X_min = X.min(axis=0)\n",
    "    xticks = np.linspace(X_min[0], X_max[0], 100)\n",
    "    yticks = np.linspace(X_min[1], X_max[1], 100)\n",
    "    xx, yy = np.meshgrid(xticks, yticks)\n",
    "    ZZ = model.predict(np.c_[xx.ravel(), yy.ravel()])\n",
    "    Z = ZZ >= 0.5\n",
    "    Z = Z.reshape(xx.shape)\n",
    "    fig, ax = plt.subplots()\n",
    "    ax = plt.gca()\n",
    "    ax.contourf(xx, yy, Z, cmap=\"RdBu\", alpha=0.2)\n",
    "    ax.scatter(X[:,0], X[:,1], c=y, cmap = \"RdBu\",s=40, alpha=0.4)\n",
    "    plt.title(\"Plot of {} neighbors\".format(n_neighbors))\n",
    "    plt.xlabel(\"Feature One\")\n",
    "    plt.ylabel(\"Feature Two\")"
   ]
  },
  {
   "cell_type": "code",
   "execution_count": null,
   "metadata": {},
   "outputs": [],
   "source": []
  },
  {
   "cell_type": "code",
   "execution_count": null,
   "metadata": {},
   "outputs": [],
   "source": []
  },
  {
   "cell_type": "code",
   "execution_count": 35,
   "metadata": {},
   "outputs": [
    {
     "data": {
      "text/plain": [
       "<matplotlib.figure.Figure at 0x1a16a55cf8>"
      ]
     },
     "metadata": {},
     "output_type": "display_data"
    },
    {
     "data": {
      "image/png": "[encoded data removed]",
      "text/plain": [
       "<matplotlib.figure.Figure at 0x1a16a316a0>"
      ]
     },
     "metadata": {},
     "output_type": "display_data"
    }
   ],
   "source": [
    "#Visualize the knn3 model\n",
    "\n",
    "plot_decision_boundary(knn3,X,y,3)"
   ]
  },
  {
   "cell_type": "code",
   "execution_count": null,
   "metadata": {},
   "outputs": [],
   "source": []
  },
  {
   "cell_type": "code",
   "execution_count": null,
   "metadata": {},
   "outputs": [],
   "source": []
  },
  {
   "cell_type": "code",
   "execution_count": 36,
   "metadata": {},
   "outputs": [
    {
     "data": {
      "text/plain": [
       "<matplotlib.figure.Figure at 0x1a183632e8>"
      ]
     },
     "metadata": {},
     "output_type": "display_data"
    },
    {
     "data": {
      "image/png": "[encoded data removed]",
      "text/plain": [
       "<matplotlib.figure.Figure at 0x1a18687a90>"
      ]
     },
     "metadata": {},
     "output_type": "display_data"
    }
   ],
   "source": [
    "#Visualize the knn5 model\n",
    "plot_decision_boundary(knn5, X, y, 5)"
   ]
  },
  {
   "cell_type": "code",
   "execution_count": null,
   "metadata": {},
   "outputs": [],
   "source": []
  },
  {
   "cell_type": "code",
   "execution_count": null,
   "metadata": {},
   "outputs": [],
   "source": []
  },
  {
   "cell_type": "markdown",
   "metadata": {},
   "source": [
    "13 neighbors"
   ]
  },
  {
   "cell_type": "code",
   "execution_count": 37,
   "metadata": {},
   "outputs": [
    {
     "data": {
      "text/plain": [
       "<matplotlib.figure.Figure at 0x1a1882de48>"
      ]
     },
     "metadata": {},
     "output_type": "display_data"
    },
    {
     "data": {
      "image/png": "[encoded data removed]",
      "text/plain": [
       "<matplotlib.figure.Figure at 0x1a18810e48>"
      ]
     },
     "metadata": {},
     "output_type": "display_data"
    }
   ],
   "source": [
    "#Plot 13 neighbors\n",
    "#Fit model first before you plot\n",
    "\n",
    "knn13 = KNeighborsClassifier(n_neighbors=13)\n",
    "knn13.fit(X, y)\n",
    "plot_decision_boundary(knn13, X, y, 13)"
   ]
  },
  {
   "cell_type": "code",
   "execution_count": null,
   "metadata": {},
   "outputs": [],
   "source": []
  },
  {
   "cell_type": "code",
   "execution_count": null,
   "metadata": {},
   "outputs": [],
   "source": []
  },
  {
   "cell_type": "markdown",
   "metadata": {},
   "source": [
    "25 neighbors! "
   ]
  },
  {
   "cell_type": "code",
   "execution_count": 40,
   "metadata": {},
   "outputs": [
    {
     "data": {
      "text/plain": [
       "<matplotlib.figure.Figure at 0x1a18862b70>"
      ]
     },
     "metadata": {},
     "output_type": "display_data"
    },
    {
     "data": {
      "image/png": "[encoded data removed]",
      "text/plain": [
       "<matplotlib.figure.Figure at 0x1a188dd828>"
      ]
     },
     "metadata": {},
     "output_type": "display_data"
    }
   ],
   "source": [
    "#Plot 25 neighbors\n",
    "#Fit model first before you plot\n",
    "\n",
    "knn25 = KNeighborsClassifier(n_neighbors=25)\n",
    "knn25.fit(X, y)\n",
    "plot_decision_boundary(knn25, X, y, 25)"
   ]
  },
  {
   "cell_type": "code",
   "execution_count": null,
   "metadata": {},
   "outputs": [],
   "source": []
  },
  {
   "cell_type": "code",
   "execution_count": 41,
   "metadata": {},
   "outputs": [
    {
     "data": {
      "text/plain": [
       "<matplotlib.figure.Figure at 0x1a193ce668>"
      ]
     },
     "metadata": {},
     "output_type": "display_data"
    },
    {
     "data": {
      "image/png": "[encoded data removed]",
      "text/plain": [
       "<matplotlib.figure.Figure at 0x1a18921588>"
      ]
     },
     "metadata": {},
     "output_type": "display_data"
    }
   ],
   "source": [
    "knn100 = KNeighborsClassifier(n_neighbors=100)\n",
    "knn100.fit(X, y)\n",
    "plot_decision_boundary(knn100, X, y, 100)"
   ]
  },
  {
   "cell_type": "markdown",
   "metadata": {},
   "source": [
    "## 2016 Democratic Primary Data"
   ]
  },
  {
   "cell_type": "markdown",
   "metadata": {},
   "source": [
    "### Data cleaning"
   ]
  },
  {
   "cell_type": "markdown",
   "metadata": {},
   "source": [
    "Dataset: County-level results of 2016 Democratic Primary and county demographic information.\n",
    "\n",
    "Kaggle page: https://www.kaggle.com/benhamner/2016-us-election"
   ]
  },
  {
   "cell_type": "code",
   "execution_count": 48,
   "metadata": {},
   "outputs": [],
   "source": [
    "#Load in data files\n",
    "primary = pd.read_csv(\"../../data/primary_data//primary_results.csv\")\n",
    "county = pd.read_csv(\"../../data/primary_data/county_facts.csv\")\n",
    "county_dict = pd.read_csv(\"../../data/primary_data/county_facts_dictionary.csv\")"
   ]
  },
  {
   "cell_type": "code",
   "execution_count": 49,
   "metadata": {},
   "outputs": [
    {
     "data": {
      "text/html": [
       "<div>\n",
       "<style scoped>\n",
       "    .dataframe tbody tr th:only-of-type {\n",
       "        vertical-align: middle;\n",
       "    }\n",
       "\n",
       "    .dataframe tbody tr th {\n",
       "        vertical-align: top;\n",
       "    }\n",
       "\n",
       "    .dataframe thead th {\n",
       "        text-align: right;\n",
       "    }\n",
       "</style>\n",
       "<table border=\"1\" class=\"dataframe\">\n",
       "  <thead>\n",
       "    <tr style=\"text-align: right;\">\n",
       "      <th></th>\n",
       "      <th>state</th>\n",
       "      <th>state_abbreviation</th>\n",
       "      <th>county</th>\n",
       "      <th>fips</th>\n",
       "      <th>party</th>\n",
       "      <th>candidate</th>\n",
       "      <th>votes</th>\n",
       "      <th>fraction_votes</th>\n",
       "    </tr>\n",
       "  </thead>\n",
       "  <tbody>\n",
       "    <tr>\n",
       "      <th>0</th>\n",
       "      <td>Alabama</td>\n",
       "      <td>AL</td>\n",
       "      <td>Autauga</td>\n",
       "      <td>1001.0</td>\n",
       "      <td>Democrat</td>\n",
       "      <td>Bernie Sanders</td>\n",
       "      <td>544</td>\n",
       "      <td>0.182</td>\n",
       "    </tr>\n",
       "    <tr>\n",
       "      <th>1</th>\n",
       "      <td>Alabama</td>\n",
       "      <td>AL</td>\n",
       "      <td>Autauga</td>\n",
       "      <td>1001.0</td>\n",
       "      <td>Democrat</td>\n",
       "      <td>Hillary Clinton</td>\n",
       "      <td>2387</td>\n",
       "      <td>0.800</td>\n",
       "    </tr>\n",
       "    <tr>\n",
       "      <th>2</th>\n",
       "      <td>Alabama</td>\n",
       "      <td>AL</td>\n",
       "      <td>Baldwin</td>\n",
       "      <td>1003.0</td>\n",
       "      <td>Democrat</td>\n",
       "      <td>Bernie Sanders</td>\n",
       "      <td>2694</td>\n",
       "      <td>0.329</td>\n",
       "    </tr>\n",
       "    <tr>\n",
       "      <th>3</th>\n",
       "      <td>Alabama</td>\n",
       "      <td>AL</td>\n",
       "      <td>Baldwin</td>\n",
       "      <td>1003.0</td>\n",
       "      <td>Democrat</td>\n",
       "      <td>Hillary Clinton</td>\n",
       "      <td>5290</td>\n",
       "      <td>0.647</td>\n",
       "    </tr>\n",
       "    <tr>\n",
       "      <th>4</th>\n",
       "      <td>Alabama</td>\n",
       "      <td>AL</td>\n",
       "      <td>Barbour</td>\n",
       "      <td>1005.0</td>\n",
       "      <td>Democrat</td>\n",
       "      <td>Bernie Sanders</td>\n",
       "      <td>222</td>\n",
       "      <td>0.078</td>\n",
       "    </tr>\n",
       "  </tbody>\n",
       "</table>\n",
       "</div>"
      ],
      "text/plain": [
       "     state state_abbreviation   county    fips     party        candidate  \\\n",
       "0  Alabama                 AL  Autauga  1001.0  Democrat   Bernie Sanders   \n",
       "1  Alabama                 AL  Autauga  1001.0  Democrat  Hillary Clinton   \n",
       "2  Alabama                 AL  Baldwin  1003.0  Democrat   Bernie Sanders   \n",
       "3  Alabama                 AL  Baldwin  1003.0  Democrat  Hillary Clinton   \n",
       "4  Alabama                 AL  Barbour  1005.0  Democrat   Bernie Sanders   \n",
       "\n",
       "   votes  fraction_votes  \n",
       "0    544           0.182  \n",
       "1   2387           0.800  \n",
       "2   2694           0.329  \n",
       "3   5290           0.647  \n",
       "4    222           0.078  "
      ]
     },
     "execution_count": 49,
     "metadata": {},
     "output_type": "execute_result"
    }
   ],
   "source": [
    "primary.head()"
   ]
  },
  {
   "cell_type": "code",
   "execution_count": 50,
   "metadata": {},
   "outputs": [
    {
     "data": {
      "text/html": [
       "<div>\n",
       "<style scoped>\n",
       "    .dataframe tbody tr th:only-of-type {\n",
       "        vertical-align: middle;\n",
       "    }\n",
       "\n",
       "    .dataframe tbody tr th {\n",
       "        vertical-align: top;\n",
       "    }\n",
       "\n",
       "    .dataframe thead th {\n",
       "        text-align: right;\n",
       "    }\n",
       "</style>\n",
       "<table border=\"1\" class=\"dataframe\">\n",
       "  <thead>\n",
       "    <tr style=\"text-align: right;\">\n",
       "      <th></th>\n",
       "      <th>fips</th>\n",
       "      <th>area_name</th>\n",
       "      <th>state_abbreviation</th>\n",
       "      <th>PST045214</th>\n",
       "      <th>PST040210</th>\n",
       "      <th>PST120214</th>\n",
       "      <th>POP010210</th>\n",
       "      <th>AGE135214</th>\n",
       "      <th>AGE295214</th>\n",
       "      <th>AGE775214</th>\n",
       "      <th>...</th>\n",
       "      <th>SBO415207</th>\n",
       "      <th>SBO015207</th>\n",
       "      <th>MAN450207</th>\n",
       "      <th>WTN220207</th>\n",
       "      <th>RTN130207</th>\n",
       "      <th>RTN131207</th>\n",
       "      <th>AFN120207</th>\n",
       "      <th>BPS030214</th>\n",
       "      <th>LND110210</th>\n",
       "      <th>POP060210</th>\n",
       "    </tr>\n",
       "  </thead>\n",
       "  <tbody>\n",
       "    <tr>\n",
       "      <th>0</th>\n",
       "      <td>0</td>\n",
       "      <td>United States</td>\n",
       "      <td>NaN</td>\n",
       "      <td>318857056</td>\n",
       "      <td>308758105</td>\n",
       "      <td>3.3</td>\n",
       "      <td>308745538</td>\n",
       "      <td>6.2</td>\n",
       "      <td>23.1</td>\n",
       "      <td>14.5</td>\n",
       "      <td>...</td>\n",
       "      <td>8.3</td>\n",
       "      <td>28.8</td>\n",
       "      <td>5319456312</td>\n",
       "      <td>4174286516</td>\n",
       "      <td>3917663456</td>\n",
       "      <td>12990</td>\n",
       "      <td>613795732</td>\n",
       "      <td>1046363</td>\n",
       "      <td>3531905.43</td>\n",
       "      <td>87.4</td>\n",
       "    </tr>\n",
       "    <tr>\n",
       "      <th>1</th>\n",
       "      <td>1000</td>\n",
       "      <td>Alabama</td>\n",
       "      <td>NaN</td>\n",
       "      <td>4849377</td>\n",
       "      <td>4780127</td>\n",
       "      <td>1.4</td>\n",
       "      <td>4779736</td>\n",
       "      <td>6.1</td>\n",
       "      <td>22.8</td>\n",
       "      <td>15.3</td>\n",
       "      <td>...</td>\n",
       "      <td>1.2</td>\n",
       "      <td>28.1</td>\n",
       "      <td>112858843</td>\n",
       "      <td>52252752</td>\n",
       "      <td>57344851</td>\n",
       "      <td>12364</td>\n",
       "      <td>6426342</td>\n",
       "      <td>13369</td>\n",
       "      <td>50645.33</td>\n",
       "      <td>94.4</td>\n",
       "    </tr>\n",
       "    <tr>\n",
       "      <th>2</th>\n",
       "      <td>1001</td>\n",
       "      <td>Autauga County</td>\n",
       "      <td>AL</td>\n",
       "      <td>55395</td>\n",
       "      <td>54571</td>\n",
       "      <td>1.5</td>\n",
       "      <td>54571</td>\n",
       "      <td>6.0</td>\n",
       "      <td>25.2</td>\n",
       "      <td>13.8</td>\n",
       "      <td>...</td>\n",
       "      <td>0.7</td>\n",
       "      <td>31.7</td>\n",
       "      <td>0</td>\n",
       "      <td>0</td>\n",
       "      <td>598175</td>\n",
       "      <td>12003</td>\n",
       "      <td>88157</td>\n",
       "      <td>131</td>\n",
       "      <td>594.44</td>\n",
       "      <td>91.8</td>\n",
       "    </tr>\n",
       "    <tr>\n",
       "      <th>3</th>\n",
       "      <td>1003</td>\n",
       "      <td>Baldwin County</td>\n",
       "      <td>AL</td>\n",
       "      <td>200111</td>\n",
       "      <td>182265</td>\n",
       "      <td>9.8</td>\n",
       "      <td>182265</td>\n",
       "      <td>5.6</td>\n",
       "      <td>22.2</td>\n",
       "      <td>18.7</td>\n",
       "      <td>...</td>\n",
       "      <td>1.3</td>\n",
       "      <td>27.3</td>\n",
       "      <td>1410273</td>\n",
       "      <td>0</td>\n",
       "      <td>2966489</td>\n",
       "      <td>17166</td>\n",
       "      <td>436955</td>\n",
       "      <td>1384</td>\n",
       "      <td>1589.78</td>\n",
       "      <td>114.6</td>\n",
       "    </tr>\n",
       "    <tr>\n",
       "      <th>4</th>\n",
       "      <td>1005</td>\n",
       "      <td>Barbour County</td>\n",
       "      <td>AL</td>\n",
       "      <td>26887</td>\n",
       "      <td>27457</td>\n",
       "      <td>-2.1</td>\n",
       "      <td>27457</td>\n",
       "      <td>5.7</td>\n",
       "      <td>21.2</td>\n",
       "      <td>16.5</td>\n",
       "      <td>...</td>\n",
       "      <td>0.0</td>\n",
       "      <td>27.0</td>\n",
       "      <td>0</td>\n",
       "      <td>0</td>\n",
       "      <td>188337</td>\n",
       "      <td>6334</td>\n",
       "      <td>0</td>\n",
       "      <td>8</td>\n",
       "      <td>884.88</td>\n",
       "      <td>31.0</td>\n",
       "    </tr>\n",
       "  </tbody>\n",
       "</table>\n",
       "<p>5 rows × 54 columns</p>\n",
       "</div>"
      ],
      "text/plain": [
       "   fips       area_name state_abbreviation  PST045214  PST040210  PST120214  \\\n",
       "0     0   United States                NaN  318857056  308758105        3.3   \n",
       "1  1000         Alabama                NaN    4849377    4780127        1.4   \n",
       "2  1001  Autauga County                 AL      55395      54571        1.5   \n",
       "3  1003  Baldwin County                 AL     200111     182265        9.8   \n",
       "4  1005  Barbour County                 AL      26887      27457       -2.1   \n",
       "\n",
       "   POP010210  AGE135214  AGE295214  AGE775214    ...      SBO415207  \\\n",
       "0  308745538        6.2       23.1       14.5    ...            8.3   \n",
       "1    4779736        6.1       22.8       15.3    ...            1.2   \n",
       "2      54571        6.0       25.2       13.8    ...            0.7   \n",
       "3     182265        5.6       22.2       18.7    ...            1.3   \n",
       "4      27457        5.7       21.2       16.5    ...            0.0   \n",
       "\n",
       "   SBO015207   MAN450207   WTN220207   RTN130207  RTN131207  AFN120207  \\\n",
       "0       28.8  5319456312  4174286516  3917663456      12990  613795732   \n",
       "1       28.1   112858843    52252752    57344851      12364    6426342   \n",
       "2       31.7           0           0      598175      12003      88157   \n",
       "3       27.3     1410273           0     2966489      17166     436955   \n",
       "4       27.0           0           0      188337       6334          0   \n",
       "\n",
       "   BPS030214   LND110210  POP060210  \n",
       "0    1046363  3531905.43       87.4  \n",
       "1      13369    50645.33       94.4  \n",
       "2        131      594.44       91.8  \n",
       "3       1384     1589.78      114.6  \n",
       "4          8      884.88       31.0  \n",
       "\n",
       "[5 rows x 54 columns]"
      ]
     },
     "execution_count": 50,
     "metadata": {},
     "output_type": "execute_result"
    }
   ],
   "source": [
    "county.head()"
   ]
  },
  {
   "cell_type": "code",
   "execution_count": 51,
   "metadata": {},
   "outputs": [
    {
     "data": {
      "text/html": [
       "<div>\n",
       "<style scoped>\n",
       "    .dataframe tbody tr th:only-of-type {\n",
       "        vertical-align: middle;\n",
       "    }\n",
       "\n",
       "    .dataframe tbody tr th {\n",
       "        vertical-align: top;\n",
       "    }\n",
       "\n",
       "    .dataframe thead th {\n",
       "        text-align: right;\n",
       "    }\n",
       "</style>\n",
       "<table border=\"1\" class=\"dataframe\">\n",
       "  <thead>\n",
       "    <tr style=\"text-align: right;\">\n",
       "      <th></th>\n",
       "      <th>column_name</th>\n",
       "      <th>description</th>\n",
       "    </tr>\n",
       "  </thead>\n",
       "  <tbody>\n",
       "    <tr>\n",
       "      <th>0</th>\n",
       "      <td>PST045214</td>\n",
       "      <td>Population, 2014 estimate</td>\n",
       "    </tr>\n",
       "    <tr>\n",
       "      <th>1</th>\n",
       "      <td>PST040210</td>\n",
       "      <td>Population, 2010 (April 1) estimates base</td>\n",
       "    </tr>\n",
       "    <tr>\n",
       "      <th>2</th>\n",
       "      <td>PST120214</td>\n",
       "      <td>Population, percent change - April 1, 2010 to ...</td>\n",
       "    </tr>\n",
       "    <tr>\n",
       "      <th>3</th>\n",
       "      <td>POP010210</td>\n",
       "      <td>Population, 2010</td>\n",
       "    </tr>\n",
       "    <tr>\n",
       "      <th>4</th>\n",
       "      <td>AGE135214</td>\n",
       "      <td>Persons under 5 years, percent, 2014</td>\n",
       "    </tr>\n",
       "  </tbody>\n",
       "</table>\n",
       "</div>"
      ],
      "text/plain": [
       "  column_name                                        description\n",
       "0   PST045214                          Population, 2014 estimate\n",
       "1   PST040210          Population, 2010 (April 1) estimates base\n",
       "2   PST120214  Population, percent change - April 1, 2010 to ...\n",
       "3   POP010210                                   Population, 2010\n",
       "4   AGE135214               Persons under 5 years, percent, 2014"
      ]
     },
     "execution_count": 51,
     "metadata": {},
     "output_type": "execute_result"
    }
   ],
   "source": [
    "county_dict.head()"
   ]
  },
  {
   "cell_type": "markdown",
   "metadata": {},
   "source": [
    "Before we can clean model, we have to clean first, but I've already done the work on that already."
   ]
  },
  {
   "cell_type": "code",
   "execution_count": 52,
   "metadata": {},
   "outputs": [
    {
     "data": {
      "text/html": [
       "<div>\n",
       "<style scoped>\n",
       "    .dataframe tbody tr th:only-of-type {\n",
       "        vertical-align: middle;\n",
       "    }\n",
       "\n",
       "    .dataframe tbody tr th {\n",
       "        vertical-align: top;\n",
       "    }\n",
       "\n",
       "    .dataframe thead th {\n",
       "        text-align: right;\n",
       "    }\n",
       "</style>\n",
       "<table border=\"1\" class=\"dataframe\">\n",
       "  <thead>\n",
       "    <tr style=\"text-align: right;\">\n",
       "      <th></th>\n",
       "      <th>population</th>\n",
       "      <th>pop_change</th>\n",
       "      <th>senior_pop_per</th>\n",
       "      <th>female_pop_per</th>\n",
       "      <th>black_pop_per</th>\n",
       "      <th>white_pop_per</th>\n",
       "      <th>foreign_pop_per</th>\n",
       "      <th>college_degree_pop_</th>\n",
       "      <th>commute_time</th>\n",
       "      <th>median_income</th>\n",
       "      <th>poverty_rate</th>\n",
       "      <th>pop_density</th>\n",
       "      <th>winner</th>\n",
       "    </tr>\n",
       "    <tr>\n",
       "      <th>fips</th>\n",
       "      <th></th>\n",
       "      <th></th>\n",
       "      <th></th>\n",
       "      <th></th>\n",
       "      <th></th>\n",
       "      <th></th>\n",
       "      <th></th>\n",
       "      <th></th>\n",
       "      <th></th>\n",
       "      <th></th>\n",
       "      <th></th>\n",
       "      <th></th>\n",
       "      <th></th>\n",
       "    </tr>\n",
       "  </thead>\n",
       "  <tbody>\n",
       "    <tr>\n",
       "      <th>1001</th>\n",
       "      <td>55395</td>\n",
       "      <td>1.5</td>\n",
       "      <td>13.8</td>\n",
       "      <td>51.4</td>\n",
       "      <td>18.7</td>\n",
       "      <td>75.6</td>\n",
       "      <td>1.6</td>\n",
       "      <td>20.9</td>\n",
       "      <td>26.2</td>\n",
       "      <td>53682</td>\n",
       "      <td>12.1</td>\n",
       "      <td>91.8</td>\n",
       "      <td>H</td>\n",
       "    </tr>\n",
       "    <tr>\n",
       "      <th>1003</th>\n",
       "      <td>200111</td>\n",
       "      <td>9.8</td>\n",
       "      <td>18.7</td>\n",
       "      <td>51.2</td>\n",
       "      <td>9.6</td>\n",
       "      <td>83.0</td>\n",
       "      <td>3.6</td>\n",
       "      <td>27.7</td>\n",
       "      <td>25.9</td>\n",
       "      <td>50221</td>\n",
       "      <td>13.9</td>\n",
       "      <td>114.6</td>\n",
       "      <td>H</td>\n",
       "    </tr>\n",
       "    <tr>\n",
       "      <th>1005</th>\n",
       "      <td>26887</td>\n",
       "      <td>-2.1</td>\n",
       "      <td>16.5</td>\n",
       "      <td>46.6</td>\n",
       "      <td>47.6</td>\n",
       "      <td>46.6</td>\n",
       "      <td>2.9</td>\n",
       "      <td>13.4</td>\n",
       "      <td>24.6</td>\n",
       "      <td>32911</td>\n",
       "      <td>26.7</td>\n",
       "      <td>31.0</td>\n",
       "      <td>H</td>\n",
       "    </tr>\n",
       "    <tr>\n",
       "      <th>1007</th>\n",
       "      <td>22506</td>\n",
       "      <td>-1.8</td>\n",
       "      <td>14.8</td>\n",
       "      <td>45.9</td>\n",
       "      <td>22.1</td>\n",
       "      <td>74.5</td>\n",
       "      <td>1.2</td>\n",
       "      <td>12.1</td>\n",
       "      <td>27.6</td>\n",
       "      <td>36447</td>\n",
       "      <td>18.1</td>\n",
       "      <td>36.8</td>\n",
       "      <td>H</td>\n",
       "    </tr>\n",
       "    <tr>\n",
       "      <th>1009</th>\n",
       "      <td>57719</td>\n",
       "      <td>0.7</td>\n",
       "      <td>17.0</td>\n",
       "      <td>50.5</td>\n",
       "      <td>1.8</td>\n",
       "      <td>87.8</td>\n",
       "      <td>4.3</td>\n",
       "      <td>12.1</td>\n",
       "      <td>33.9</td>\n",
       "      <td>44145</td>\n",
       "      <td>15.8</td>\n",
       "      <td>88.9</td>\n",
       "      <td>H</td>\n",
       "    </tr>\n",
       "  </tbody>\n",
       "</table>\n",
       "</div>"
      ],
      "text/plain": [
       "      population  pop_change  senior_pop_per  female_pop_per  black_pop_per  \\\n",
       "fips                                                                          \n",
       "1001       55395         1.5            13.8            51.4           18.7   \n",
       "1003      200111         9.8            18.7            51.2            9.6   \n",
       "1005       26887        -2.1            16.5            46.6           47.6   \n",
       "1007       22506        -1.8            14.8            45.9           22.1   \n",
       "1009       57719         0.7            17.0            50.5            1.8   \n",
       "\n",
       "      white_pop_per  foreign_pop_per  college_degree_pop_  commute_time  \\\n",
       "fips                                                                      \n",
       "1001           75.6              1.6                 20.9          26.2   \n",
       "1003           83.0              3.6                 27.7          25.9   \n",
       "1005           46.6              2.9                 13.4          24.6   \n",
       "1007           74.5              1.2                 12.1          27.6   \n",
       "1009           87.8              4.3                 12.1          33.9   \n",
       "\n",
       "      median_income  poverty_rate  pop_density winner  \n",
       "fips                                                   \n",
       "1001          53682          12.1         91.8      H  \n",
       "1003          50221          13.9        114.6      H  \n",
       "1005          32911          26.7         31.0      H  \n",
       "1007          36447          18.1         36.8      H  \n",
       "1009          44145          15.8         88.9      H  "
      ]
     },
     "execution_count": 52,
     "metadata": {},
     "output_type": "execute_result"
    }
   ],
   "source": [
    "#Data cleaning \n",
    "\n",
    "subset_col_index = [0,3,5,9,10,12,18,20,23,25,33,34,53]\n",
    "\n",
    "county = county.iloc[:,subset_col_index].copy()\n",
    "\n",
    "subset_cols = [\"fips\",\"population\", \"pop_change\", \"senior_pop_per\", \"female_pop_per\", \"black_pop_per\",\n",
    "               \"white_pop_per\", \"foreign_pop_per\", \"college_degree_pop_\", \"commute_time\", \"median_income\",\n",
    "               \"poverty_rate\", \"pop_density\"]\n",
    "\n",
    "col_dict = dict(zip(county.columns, subset_cols))\n",
    "#Use dictionary to rename the columns\n",
    "county.rename(columns=col_dict, inplace=True)\n",
    "primary.dropna(inplace=True)\n",
    "bern = primary[primary.candidate== \"Bernie Sanders\"]\n",
    "hill = primary[primary.candidate== \"Hillary Clinton\"]\n",
    "bern = bern[[\"fips\", \"candidate\", \"votes\"]]\n",
    "dem = pd.merge(hill, bern, on=\"fips\")\n",
    "dem.rename(columns={\"votes_x\":\"clinton_votes\", \"votes_y\":\"sanders_votes\"}, inplace=True)\n",
    "dem[\"winner\"] = dem.clinton_votes - dem.sanders_votes\n",
    "def vote_winner(x):\n",
    "    if x >0:\n",
    "        return \"H\"\n",
    "    elif x == 0:\n",
    "        return \"TIE\"\n",
    "    else:\n",
    "        return \"B\"\n",
    "    \n",
    "dem[\"winner\"] = dem.winner.apply(vote_winner)\n",
    "\n",
    "dem = dem[dem.winner!= \"TIE\"]\n",
    "dem = dem[[\"fips\", \"winner\"]]\n",
    "df = pd.merge(county, dem, on=\"fips\")\n",
    "df.set_index(\"fips\", inplace=True)\n",
    "df.head()"
   ]
  },
  {
   "cell_type": "code",
   "execution_count": 55,
   "metadata": {},
   "outputs": [
    {
     "data": {
      "text/plain": [
       "{'AGE775214': 'senior_pop_per',\n",
       " 'EDU685213': 'college_degree_pop_',\n",
       " 'INC110213': 'median_income',\n",
       " 'LFE305213': 'commute_time',\n",
       " 'POP060210': 'pop_density',\n",
       " 'POP645213': 'foreign_pop_per',\n",
       " 'PST045214': 'population',\n",
       " 'PST120214': 'pop_change',\n",
       " 'PVY020213': 'poverty_rate',\n",
       " 'RHI225214': 'black_pop_per',\n",
       " 'RHI825214': 'white_pop_per',\n",
       " 'SEX255214': 'female_pop_per',\n",
       " 'fips': 'fips'}"
      ]
     },
     "execution_count": 55,
     "metadata": {},
     "output_type": "execute_result"
    }
   ],
   "source": [
    "col_dict"
   ]
  },
  {
   "cell_type": "code",
   "execution_count": null,
   "metadata": {},
   "outputs": [],
   "source": []
  },
  {
   "cell_type": "code",
   "execution_count": null,
   "metadata": {},
   "outputs": [],
   "source": []
  },
  {
   "cell_type": "code",
   "execution_count": null,
   "metadata": {},
   "outputs": [],
   "source": []
  },
  {
   "cell_type": "markdown",
   "metadata": {},
   "source": [
    "Time for some modeling. We're going to use KNN to classify counties as Hillary or Bernie."
   ]
  },
  {
   "cell_type": "code",
   "execution_count": 56,
   "metadata": {},
   "outputs": [
    {
     "data": {
      "text/plain": [
       "H    0.592272\n",
       "B    0.407728\n",
       "Name: winner, dtype: float64"
      ]
     },
     "execution_count": 56,
     "metadata": {},
     "output_type": "execute_result"
    }
   ],
   "source": [
    "#Check null accuracy\n",
    "df.winner.value_counts(normalize=True)"
   ]
  },
  {
   "cell_type": "code",
   "execution_count": 58,
   "metadata": {},
   "outputs": [],
   "source": [
    "#Assign X and y\n",
    "\n",
    "X = df.drop(\"winner\", axis=1)\n",
    "y = df.winner"
   ]
  },
  {
   "cell_type": "code",
   "execution_count": 60,
   "metadata": {},
   "outputs": [
    {
     "data": {
      "text/plain": [
       "1.0"
      ]
     },
     "execution_count": 60,
     "metadata": {},
     "output_type": "execute_result"
    }
   ],
   "source": [
    "#Fit model using a single neighbor\n",
    "\n",
    "knn1 = KNeighborsClassifier(n_neighbors=1)\n",
    "knn1.fit(X, y)\n",
    "knn1.score(X, y)\n"
   ]
  },
  {
   "cell_type": "markdown",
   "metadata": {},
   "source": [
    "<b>NOTE:<b>\n",
    "    With n=1, The nearest neigbor is itself when evaluating. Hence it will always be 1"
   ]
  },
  {
   "cell_type": "code",
   "execution_count": null,
   "metadata": {},
   "outputs": [],
   "source": []
  },
  {
   "cell_type": "code",
   "execution_count": null,
   "metadata": {},
   "outputs": [],
   "source": []
  },
  {
   "cell_type": "markdown",
   "metadata": {},
   "source": [
    "Perfect model!!!!"
   ]
  },
  {
   "cell_type": "code",
   "execution_count": null,
   "metadata": {},
   "outputs": [],
   "source": []
  },
  {
   "cell_type": "code",
   "execution_count": null,
   "metadata": {},
   "outputs": [],
   "source": []
  },
  {
   "cell_type": "code",
   "execution_count": null,
   "metadata": {},
   "outputs": [],
   "source": []
  },
  {
   "cell_type": "markdown",
   "metadata": {},
   "source": [
    "Oh wait"
   ]
  },
  {
   "cell_type": "code",
   "execution_count": null,
   "metadata": {},
   "outputs": [],
   "source": []
  },
  {
   "cell_type": "code",
   "execution_count": null,
   "metadata": {},
   "outputs": [],
   "source": []
  },
  {
   "cell_type": "code",
   "execution_count": null,
   "metadata": {},
   "outputs": [],
   "source": []
  },
  {
   "cell_type": "code",
   "execution_count": 62,
   "metadata": {},
   "outputs": [
    {
     "data": {
      "text/plain": [
       "0.7681473456121344"
      ]
     },
     "execution_count": 62,
     "metadata": {},
     "output_type": "execute_result"
    }
   ],
   "source": [
    "#Fit model using three neighbors\n",
    "\n",
    "knn3 = KNeighborsClassifier(n_neighbors=3)\n",
    "knn3.fit(X, y)\n",
    "knn3.score(X,y)"
   ]
  },
  {
   "cell_type": "markdown",
   "metadata": {},
   "source": [
    "What happened here?"
   ]
  },
  {
   "cell_type": "code",
   "execution_count": null,
   "metadata": {},
   "outputs": [],
   "source": []
  },
  {
   "cell_type": "code",
   "execution_count": null,
   "metadata": {},
   "outputs": [],
   "source": []
  },
  {
   "cell_type": "markdown",
   "metadata": {},
   "source": [
    "What about 7 neighbors?"
   ]
  },
  {
   "cell_type": "code",
   "execution_count": 64,
   "metadata": {},
   "outputs": [
    {
     "data": {
      "text/plain": [
       "0.7038642109064644"
      ]
     },
     "execution_count": 64,
     "metadata": {},
     "output_type": "execute_result"
    }
   ],
   "source": [
    "#Fit model using seven neighbors\n",
    "\n",
    "knn7 = KNeighborsClassifier(n_neighbors=7)\n",
    "knn7.fit(X, y)\n",
    "knn7.score(X,y) "
   ]
  },
  {
   "cell_type": "code",
   "execution_count": null,
   "metadata": {},
   "outputs": [],
   "source": []
  },
  {
   "cell_type": "code",
   "execution_count": null,
   "metadata": {},
   "outputs": [],
   "source": []
  },
  {
   "cell_type": "markdown",
   "metadata": {},
   "source": [
    "Let's try something much higher"
   ]
  },
  {
   "cell_type": "code",
   "execution_count": 65,
   "metadata": {},
   "outputs": [
    {
     "data": {
      "text/plain": [
       "0.6522210184182016"
      ]
     },
     "execution_count": 65,
     "metadata": {},
     "output_type": "execute_result"
    }
   ],
   "source": [
    "#Fit model using 29 neighbors\n",
    "knn29 = KNeighborsClassifier(n_neighbors=29)\n",
    "knn29.fit(X, y)\n",
    "knn29.score(X,y)"
   ]
  },
  {
   "cell_type": "code",
   "execution_count": null,
   "metadata": {},
   "outputs": [],
   "source": []
  },
  {
   "cell_type": "markdown",
   "metadata": {},
   "source": [
    "Try it out on a testing set"
   ]
  },
  {
   "cell_type": "code",
   "execution_count": 66,
   "metadata": {},
   "outputs": [],
   "source": [
    "#Make a train/test split. Set test_size = .25\n",
    "X_train, X_test, y_train, y_test = train_test_split(X, y, \n",
    "                                                    test_size=.25, \n",
    "                                                    random_state=42)"
   ]
  },
  {
   "cell_type": "markdown",
   "metadata": {},
   "source": [
    "Fit model with 5 neighbors on training data and test model on testing data"
   ]
  },
  {
   "cell_type": "code",
   "execution_count": 67,
   "metadata": {},
   "outputs": [
    {
     "data": {
      "text/plain": [
       "0.5800865800865801"
      ]
     },
     "execution_count": 67,
     "metadata": {},
     "output_type": "execute_result"
    }
   ],
   "source": [
    "#Fit model on training data\n",
    "\n",
    "knn5 = KNeighborsClassifier(n_neighbors=5)\n",
    "knn5.fit(X_train, y_train)\n",
    "knn5.score(X_test, y_test)"
   ]
  },
  {
   "cell_type": "code",
   "execution_count": 69,
   "metadata": {},
   "outputs": [
    {
     "data": {
      "text/plain": [
       "array([[126, 157],\n",
       "       [134, 276]])"
      ]
     },
     "execution_count": 69,
     "metadata": {},
     "output_type": "execute_result"
    }
   ],
   "source": [
    "#Call confusion_matrix \n",
    "\n",
    "preds = knn5.predict(X_test)\n",
    "confusion_matrix(y_test, preds)"
   ]
  },
  {
   "cell_type": "markdown",
   "metadata": {},
   "source": [
    "Good or bad?\n",
    "<br><br>\n",
    "Let's increase number of neighbors"
   ]
  },
  {
   "cell_type": "code",
   "execution_count": null,
   "metadata": {},
   "outputs": [],
   "source": []
  },
  {
   "cell_type": "code",
   "execution_count": 71,
   "metadata": {},
   "outputs": [
    {
     "data": {
      "text/plain": [
       "0.5930735930735931"
      ]
     },
     "execution_count": 71,
     "metadata": {},
     "output_type": "execute_result"
    }
   ],
   "source": [
    "#Fit model on training data\n",
    "knn17 = KNeighborsClassifier(n_neighbors=17)\n",
    "knn17.fit(X_train, y_train)\n",
    "knn17.score(X_test, y_test)"
   ]
  },
  {
   "cell_type": "code",
   "execution_count": null,
   "metadata": {},
   "outputs": [],
   "source": []
  },
  {
   "cell_type": "code",
   "execution_count": 72,
   "metadata": {},
   "outputs": [
    {
     "data": {
      "text/plain": [
       "0.5887445887445888"
      ]
     },
     "execution_count": 72,
     "metadata": {},
     "output_type": "execute_result"
    }
   ],
   "source": [
    "knn27 = KNeighborsClassifier(n_neighbors=27)\n",
    "knn27.fit(X_train, y_train)\n",
    "knn27.score(X_test, y_test)"
   ]
  },
  {
   "cell_type": "markdown",
   "metadata": {},
   "source": [
    "Big difference?"
   ]
  },
  {
   "cell_type": "code",
   "execution_count": null,
   "metadata": {},
   "outputs": [],
   "source": []
  },
  {
   "cell_type": "code",
   "execution_count": null,
   "metadata": {},
   "outputs": [],
   "source": []
  },
  {
   "cell_type": "code",
   "execution_count": null,
   "metadata": {},
   "outputs": [],
   "source": []
  },
  {
   "cell_type": "code",
   "execution_count": null,
   "metadata": {},
   "outputs": [],
   "source": []
  },
  {
   "cell_type": "markdown",
   "metadata": {},
   "source": [
    "**Cross validation.**\n",
    "<br><br>\n",
    "Class exercise time: Make a validation curve plot of neighbors vs the 5-fold cross validated accuracy score of a KNN model. Use odd numbers from 3 to 39."
   ]
  },
  {
   "cell_type": "code",
   "execution_count": 127,
   "metadata": {},
   "outputs": [
    {
     "data": {
      "text/plain": [
       "Text(0,0.5,'CV Accuracy curve')"
      ]
     },
     "execution_count": 127,
     "metadata": {},
     "output_type": "execute_result"
    },
    {
     "data": {
      "image/png": "[encoded data removed]",
      "text/plain": [
       "<matplotlib.figure.Figure at 0x1a1ea13b70>"
      ]
     },
     "metadata": {},
     "output_type": "display_data"
    }
   ],
   "source": [
    "#Answer\n",
    "\n",
    "neighbors = range(3, 51, 2)\n",
    "\n",
    "cv_scores = []\n",
    "\n",
    "for neighbor in neighbors:\n",
    "    cv_score = cross_val_score(KNeighborsClassifier(n_neighbors=neighbor),X, y, cv=5, scoring=\"accuracy\").mean()\n",
    "    cv_scores.append(cv_score)\n",
    "    \n",
    "plt.figure(figsize=(20,12))\n",
    "plt.plot(neighbors,cv_scores, linewidth=4)\n",
    "plt.xlabel(\"n neighbors\")\n",
    "plt.ylabel(\"CV Accuracy curve\")"
   ]
  },
  {
   "cell_type": "code",
   "execution_count": null,
   "metadata": {},
   "outputs": [],
   "source": []
  },
  {
   "cell_type": "code",
   "execution_count": 92,
   "metadata": {},
   "outputs": [
    {
     "data": {
      "text/plain": [
       "[<matplotlib.lines.Line2D at 0x1a19ddebe0>]"
      ]
     },
     "execution_count": 92,
     "metadata": {},
     "output_type": "execute_result"
    },
    {
     "data": {
      "image/png": "[encoded data removed]",
      "text/plain": [
       "<matplotlib.figure.Figure at 0x1a17c71a90>"
      ]
     },
     "metadata": {},
     "output_type": "display_data"
    }
   ],
   "source": [
    "#Test error vs Train errors\n",
    "\n",
    "X_train, X_test, y_train, y_test = train_test_split(X, y, test_size = 0.25, random_state=38)\n",
    "\n",
    "neighbors = range(3, 81, 2)\n",
    "\n",
    "test_errors = []\n",
    "train_errors = []\n",
    "\n",
    "for neighbor in neighbors:\n",
    "    knn = KNeighborsClassifier(n_neighbors=neighbor)\n",
    "    knn.fit(X_train, y_train)\n",
    "    train_error = 1 - knn.score(X_train, y_train)\n",
    "    test_error = 1 - knn.score(X_test, y_test)\n",
    "    train_errors.append(train_error)\n",
    "    test_errors.append(test_error)\n",
    "    \n",
    "plt.figure(figsize=(20,12))\n",
    "plt.plot(neighbors, train_errors, c=\"r\", linewidth=4, label = \"Train\")\n",
    "plt.plot(neighbors, test_errors, c=\"g\", linewidth=4, label = \"Test\")\n"
   ]
  },
  {
   "cell_type": "code",
   "execution_count": null,
   "metadata": {},
   "outputs": [],
   "source": []
  },
  {
   "cell_type": "code",
   "execution_count": null,
   "metadata": {},
   "outputs": [],
   "source": []
  },
  {
   "cell_type": "code",
   "execution_count": null,
   "metadata": {},
   "outputs": [],
   "source": []
  },
  {
   "cell_type": "markdown",
   "metadata": {},
   "source": [
    "Which neighbor value/s produces the best accuracy score?\n",
    "<br><br>\n",
    "How does that compare to the null accuracy?"
   ]
  },
  {
   "cell_type": "code",
   "execution_count": null,
   "metadata": {},
   "outputs": [],
   "source": []
  },
  {
   "cell_type": "code",
   "execution_count": null,
   "metadata": {},
   "outputs": [],
   "source": []
  },
  {
   "cell_type": "code",
   "execution_count": null,
   "metadata": {},
   "outputs": [],
   "source": []
  },
  {
   "cell_type": "markdown",
   "metadata": {},
   "source": [
    "What is the issue here? We can't seem to build a model that can significantly beat our null accuracy.\n",
    "<br><br>\n",
    "Think about the features and how they differ from each other."
   ]
  },
  {
   "cell_type": "code",
   "execution_count": null,
   "metadata": {},
   "outputs": [],
   "source": []
  },
  {
   "cell_type": "code",
   "execution_count": null,
   "metadata": {},
   "outputs": [],
   "source": []
  },
  {
   "cell_type": "markdown",
   "metadata": {},
   "source": [
    "\n",
    "## Scaling Data\n",
    "<br><br>\n",
    "[Feature scaling:](https://en.wikipedia.org/wiki/Feature_scaling) A method used to standardize the range of independent variables or features of data"
   ]
  },
  {
   "cell_type": "code",
   "execution_count": null,
   "metadata": {},
   "outputs": [],
   "source": []
  },
  {
   "cell_type": "code",
   "execution_count": null,
   "metadata": {},
   "outputs": [],
   "source": []
  },
  {
   "cell_type": "markdown",
   "metadata": {},
   "source": [
    "Let's take a look at this sample data set."
   ]
  },
  {
   "cell_type": "code",
   "execution_count": 93,
   "metadata": {},
   "outputs": [
    {
     "data": {
      "text/html": [
       "<div>\n",
       "<style scoped>\n",
       "    .dataframe tbody tr th:only-of-type {\n",
       "        vertical-align: middle;\n",
       "    }\n",
       "\n",
       "    .dataframe tbody tr th {\n",
       "        vertical-align: top;\n",
       "    }\n",
       "\n",
       "    .dataframe thead th {\n",
       "        text-align: right;\n",
       "    }\n",
       "</style>\n",
       "<table border=\"1\" class=\"dataframe\">\n",
       "  <thead>\n",
       "    <tr style=\"text-align: right;\">\n",
       "      <th></th>\n",
       "      <th>class</th>\n",
       "      <th>college_deg</th>\n",
       "      <th>income</th>\n",
       "      <th>white_pop</th>\n",
       "    </tr>\n",
       "  </thead>\n",
       "  <tbody>\n",
       "    <tr>\n",
       "      <th>0</th>\n",
       "      <td>A</td>\n",
       "      <td>15</td>\n",
       "      <td>30000</td>\n",
       "      <td>50</td>\n",
       "    </tr>\n",
       "    <tr>\n",
       "      <th>1</th>\n",
       "      <td>B</td>\n",
       "      <td>40</td>\n",
       "      <td>55000</td>\n",
       "      <td>85</td>\n",
       "    </tr>\n",
       "    <tr>\n",
       "      <th>2</th>\n",
       "      <td>X</td>\n",
       "      <td>50</td>\n",
       "      <td>36000</td>\n",
       "      <td>95</td>\n",
       "    </tr>\n",
       "  </tbody>\n",
       "</table>\n",
       "</div>"
      ],
      "text/plain": [
       "  class  college_deg  income  white_pop\n",
       "0     A           15   30000         50\n",
       "1     B           40   55000         85\n",
       "2     X           50   36000         95"
      ]
     },
     "execution_count": 93,
     "metadata": {},
     "output_type": "execute_result"
    }
   ],
   "source": [
    "#Initialize data\n",
    "sample = {\"income\":[30000, 55000, 36000], \n",
    "          \"white_pop\":[50, 85, 95], \n",
    "          \"college_deg\":[15, 40, 50], \n",
    "          \"class\":[\"A\",\"B\", \"X\"]}\n",
    "\n",
    "sample= pd.DataFrame(sample)\n",
    "sample"
   ]
  },
  {
   "cell_type": "markdown",
   "metadata": {},
   "source": [
    "Which class is row 2 closer to? A or B?\n",
    "Let's use euclidean distance to figure that out."
   ]
  },
  {
   "cell_type": "code",
   "execution_count": 94,
   "metadata": {},
   "outputs": [],
   "source": [
    "#Assign rows in data to variables\n",
    "class_A = sample.iloc[0, 1:].values\n",
    "class_B = sample.iloc[1, 1:].values\n",
    "class_X = sample.iloc[2, 1:].values"
   ]
  },
  {
   "cell_type": "code",
   "execution_count": 97,
   "metadata": {},
   "outputs": [
    {
     "data": {
      "text/plain": [
       "6000.270827221051"
      ]
     },
     "execution_count": 97,
     "metadata": {},
     "output_type": "execute_result"
    }
   ],
   "source": [
    "#Euclidean distance between class A and class x\n",
    "\n",
    "np.sqrt(((class_A-class_X)**2).sum())"
   ]
  },
  {
   "cell_type": "code",
   "execution_count": 98,
   "metadata": {},
   "outputs": [
    {
     "data": {
      "text/plain": [
       "19000.005263157167"
      ]
     },
     "execution_count": 98,
     "metadata": {},
     "output_type": "execute_result"
    }
   ],
   "source": [
    "#Euclidean distance between class B and class x\n",
    "np.sqrt(((class_B-class_X)**2).sum())"
   ]
  },
  {
   "cell_type": "code",
   "execution_count": null,
   "metadata": {},
   "outputs": [],
   "source": []
  },
  {
   "cell_type": "code",
   "execution_count": null,
   "metadata": {},
   "outputs": [],
   "source": []
  },
  {
   "cell_type": "markdown",
   "metadata": {},
   "source": [
    "Which class should class_X be assigned to based on this calculation? Do you agree or disagree"
   ]
  },
  {
   "cell_type": "code",
   "execution_count": null,
   "metadata": {},
   "outputs": [],
   "source": []
  },
  {
   "cell_type": "code",
   "execution_count": null,
   "metadata": {},
   "outputs": [],
   "source": []
  },
  {
   "cell_type": "markdown",
   "metadata": {},
   "source": [
    "This example demonstrates the necessity of feature scaling."
   ]
  },
  {
   "cell_type": "markdown",
   "metadata": {},
   "source": [
    "From [Sebastian Raschka](http://sebastianraschka.com/Articles/2014_about_feature_scaling.html)\n",
    "\n",
    "<b>Standardization</b>: \"The result of standardization (or Z-score normalization) is that the features will be rescaled so that they’ll have the properties of a standard normal distribution with μ=0μ=0  and σ=1\n",
    "\n",
    "Where μ is the mean (average) and σσ is the standard deviation from the mean; standard scores (also called z scores) of the samples are calculated as follows:\"\n",
    "![e](http://www.statisticshowto.com/wp-content/uploads/2016/11/alternate-z-score.png)\n",
    "<br><br>\n",
    "<b>MinMax Scaling</b>: \"An alternative approach to Z-score normalization (or standardization) is the so-called Min-Max scaling (often also simply called “normalization” - a common cause for ambiguities).\n",
    "In this approach, the data is scaled to a fixed range - usually 0 to 1.\n",
    "The cost of having this bounded range - in contrast to standardization - is that we will end up with smaller standard deviations, which can suppress the effect of outliers.\n",
    "\n",
    "A Min-Max scaling is typically done via the following equation:\"\n",
    "![d](https://qph.ec.quoracdn.net/main-qimg-0d692d88876aeb26b1f1a578d1c5a94e)"
   ]
  },
  {
   "cell_type": "markdown",
   "metadata": {},
   "source": [
    "Let's scale the features using StandardScaler and MinMaxScaler"
   ]
  },
  {
   "cell_type": "code",
   "execution_count": 99,
   "metadata": {},
   "outputs": [],
   "source": [
    "#Imports\n",
    "from sklearn.preprocessing import StandardScaler, MinMaxScaler"
   ]
  },
  {
   "cell_type": "code",
   "execution_count": 100,
   "metadata": {},
   "outputs": [
    {
     "data": {
      "text/plain": [
       "MinMaxScaler(copy=True, feature_range=(0, 1))"
      ]
     },
     "execution_count": 100,
     "metadata": {},
     "output_type": "execute_result"
    }
   ],
   "source": [
    "#Intialize scalers\n",
    "\n",
    "ss = StandardScaler()\n",
    "mm = MinMaxScaler()\n",
    "\n",
    "#Fit data on scalers\n",
    "\n",
    "ss.fit(X)\n",
    "mm.fit(X)\n"
   ]
  },
  {
   "cell_type": "markdown",
   "metadata": {},
   "source": [
    "We don't have any data yet, we need then transform the data using the fit scalers"
   ]
  },
  {
   "cell_type": "code",
   "execution_count": 101,
   "metadata": {},
   "outputs": [],
   "source": [
    "#Use ss and mm to transform X\n",
    "\n",
    "Xss = ss.transform(X)\n",
    "Xmm = mm.transform(X)\n"
   ]
  },
  {
   "cell_type": "code",
   "execution_count": null,
   "metadata": {},
   "outputs": [],
   "source": []
  },
  {
   "cell_type": "code",
   "execution_count": null,
   "metadata": {},
   "outputs": [],
   "source": []
  },
  {
   "cell_type": "markdown",
   "metadata": {},
   "source": [
    "We can fit and transform at the same time"
   ]
  },
  {
   "cell_type": "code",
   "execution_count": null,
   "metadata": {},
   "outputs": [],
   "source": []
  },
  {
   "cell_type": "code",
   "execution_count": null,
   "metadata": {},
   "outputs": [],
   "source": [
    "#Intialize scalers\n",
    "ss = StandardScaler()\n",
    "mm = MinMaxScaler()\n",
    "\n",
    "#Fit and transform data using scalers\n",
    "X_ss = ss.fit_transform(X)\n",
    "X_mm = mm.fit_transform(X)"
   ]
  },
  {
   "cell_type": "code",
   "execution_count": 106,
   "metadata": {},
   "outputs": [],
   "source": [
    "#Make data frames from scaled data. Use columns from X\n",
    "\n",
    "# X_ss = pd.DataFrame(Xss, columns=X.columns, index=df.index)\n",
    "# X_mm = pd.DataFrame(Xmm, columns=X.columns, index=df.index)\n",
    "\n",
    "X_ss = pd.DataFrame(X_ss, columns=X.columns, index=df.index)\n",
    "X_mm = pd.DataFrame(X_mm, columns=X.columns, index=df.index)"
   ]
  },
  {
   "cell_type": "code",
   "execution_count": 107,
   "metadata": {},
   "outputs": [
    {
     "data": {
      "text/html": [
       "<div>\n",
       "<style scoped>\n",
       "    .dataframe tbody tr th:only-of-type {\n",
       "        vertical-align: middle;\n",
       "    }\n",
       "\n",
       "    .dataframe tbody tr th {\n",
       "        vertical-align: top;\n",
       "    }\n",
       "\n",
       "    .dataframe thead th {\n",
       "        text-align: right;\n",
       "    }\n",
       "</style>\n",
       "<table border=\"1\" class=\"dataframe\">\n",
       "  <thead>\n",
       "    <tr style=\"text-align: right;\">\n",
       "      <th></th>\n",
       "      <th>population</th>\n",
       "      <th>pop_change</th>\n",
       "      <th>senior_pop_per</th>\n",
       "      <th>female_pop_per</th>\n",
       "      <th>black_pop_per</th>\n",
       "      <th>white_pop_per</th>\n",
       "      <th>foreign_pop_per</th>\n",
       "      <th>college_degree_pop_</th>\n",
       "      <th>commute_time</th>\n",
       "      <th>median_income</th>\n",
       "      <th>poverty_rate</th>\n",
       "      <th>pop_density</th>\n",
       "    </tr>\n",
       "    <tr>\n",
       "      <th>fips</th>\n",
       "      <th></th>\n",
       "      <th></th>\n",
       "      <th></th>\n",
       "      <th></th>\n",
       "      <th></th>\n",
       "      <th></th>\n",
       "      <th></th>\n",
       "      <th></th>\n",
       "      <th></th>\n",
       "      <th></th>\n",
       "      <th></th>\n",
       "      <th></th>\n",
       "    </tr>\n",
       "  </thead>\n",
       "  <tbody>\n",
       "    <tr>\n",
       "      <th>1001</th>\n",
       "      <td>-0.148823</td>\n",
       "      <td>0.278481</td>\n",
       "      <td>-0.851504</td>\n",
       "      <td>0.622683</td>\n",
       "      <td>0.565499</td>\n",
       "      <td>-0.027820</td>\n",
       "      <td>-0.527947</td>\n",
       "      <td>0.178889</td>\n",
       "      <td>0.518359</td>\n",
       "      <td>0.721738</td>\n",
       "      <td>-0.795982</td>\n",
       "      <td>-0.097887</td>\n",
       "    </tr>\n",
       "    <tr>\n",
       "      <th>1003</th>\n",
       "      <td>0.293712</td>\n",
       "      <td>2.412106</td>\n",
       "      <td>0.273221</td>\n",
       "      <td>0.535213</td>\n",
       "      <td>-0.039386</td>\n",
       "      <td>0.342080</td>\n",
       "      <td>-0.170632</td>\n",
       "      <td>0.950101</td>\n",
       "      <td>0.461523</td>\n",
       "      <td>0.429408</td>\n",
       "      <td>-0.518507</td>\n",
       "      <td>-0.085256</td>\n",
       "    </tr>\n",
       "    <tr>\n",
       "      <th>1005</th>\n",
       "      <td>-0.235999</td>\n",
       "      <td>-0.646947</td>\n",
       "      <td>-0.231757</td>\n",
       "      <td>-1.476598</td>\n",
       "      <td>2.486508</td>\n",
       "      <td>-1.477430</td>\n",
       "      <td>-0.295692</td>\n",
       "      <td>-0.671712</td>\n",
       "      <td>0.215234</td>\n",
       "      <td>-1.032661</td>\n",
       "      <td>1.454647</td>\n",
       "      <td>-0.131570</td>\n",
       "    </tr>\n",
       "    <tr>\n",
       "      <th>1007</th>\n",
       "      <td>-0.249396</td>\n",
       "      <td>-0.569828</td>\n",
       "      <td>-0.621968</td>\n",
       "      <td>-1.782744</td>\n",
       "      <td>0.791500</td>\n",
       "      <td>-0.082805</td>\n",
       "      <td>-0.599411</td>\n",
       "      <td>-0.819149</td>\n",
       "      <td>0.783594</td>\n",
       "      <td>-0.733997</td>\n",
       "      <td>0.128934</td>\n",
       "      <td>-0.128357</td>\n",
       "    </tr>\n",
       "    <tr>\n",
       "      <th>1009</th>\n",
       "      <td>-0.141716</td>\n",
       "      <td>0.072830</td>\n",
       "      <td>-0.116989</td>\n",
       "      <td>0.229068</td>\n",
       "      <td>-0.557859</td>\n",
       "      <td>0.582016</td>\n",
       "      <td>-0.045571</td>\n",
       "      <td>-0.819149</td>\n",
       "      <td>1.977151</td>\n",
       "      <td>-0.083794</td>\n",
       "      <td>-0.225617</td>\n",
       "      <td>-0.099494</td>\n",
       "    </tr>\n",
       "  </tbody>\n",
       "</table>\n",
       "</div>"
      ],
      "text/plain": [
       "      population  pop_change  senior_pop_per  female_pop_per  black_pop_per  \\\n",
       "fips                                                                          \n",
       "1001   -0.148823    0.278481       -0.851504        0.622683       0.565499   \n",
       "1003    0.293712    2.412106        0.273221        0.535213      -0.039386   \n",
       "1005   -0.235999   -0.646947       -0.231757       -1.476598       2.486508   \n",
       "1007   -0.249396   -0.569828       -0.621968       -1.782744       0.791500   \n",
       "1009   -0.141716    0.072830       -0.116989        0.229068      -0.557859   \n",
       "\n",
       "      white_pop_per  foreign_pop_per  college_degree_pop_  commute_time  \\\n",
       "fips                                                                      \n",
       "1001      -0.027820        -0.527947             0.178889      0.518359   \n",
       "1003       0.342080        -0.170632             0.950101      0.461523   \n",
       "1005      -1.477430        -0.295692            -0.671712      0.215234   \n",
       "1007      -0.082805        -0.599411            -0.819149      0.783594   \n",
       "1009       0.582016        -0.045571            -0.819149      1.977151   \n",
       "\n",
       "      median_income  poverty_rate  pop_density  \n",
       "fips                                            \n",
       "1001       0.721738     -0.795982    -0.097887  \n",
       "1003       0.429408     -0.518507    -0.085256  \n",
       "1005      -1.032661      1.454647    -0.131570  \n",
       "1007      -0.733997      0.128934    -0.128357  \n",
       "1009      -0.083794     -0.225617    -0.099494  "
      ]
     },
     "execution_count": 107,
     "metadata": {},
     "output_type": "execute_result"
    }
   ],
   "source": [
    "#Take a look at both data frames\n",
    "X_ss.head()"
   ]
  },
  {
   "cell_type": "code",
   "execution_count": 108,
   "metadata": {},
   "outputs": [
    {
     "data": {
      "text/html": [
       "<div>\n",
       "<style scoped>\n",
       "    .dataframe tbody tr th:only-of-type {\n",
       "        vertical-align: middle;\n",
       "    }\n",
       "\n",
       "    .dataframe tbody tr th {\n",
       "        vertical-align: top;\n",
       "    }\n",
       "\n",
       "    .dataframe thead th {\n",
       "        text-align: right;\n",
       "    }\n",
       "</style>\n",
       "<table border=\"1\" class=\"dataframe\">\n",
       "  <thead>\n",
       "    <tr style=\"text-align: right;\">\n",
       "      <th></th>\n",
       "      <th>population</th>\n",
       "      <th>pop_change</th>\n",
       "      <th>senior_pop_per</th>\n",
       "      <th>female_pop_per</th>\n",
       "      <th>black_pop_per</th>\n",
       "      <th>white_pop_per</th>\n",
       "      <th>foreign_pop_per</th>\n",
       "      <th>college_degree_pop_</th>\n",
       "      <th>commute_time</th>\n",
       "      <th>median_income</th>\n",
       "      <th>poverty_rate</th>\n",
       "      <th>pop_density</th>\n",
       "    </tr>\n",
       "    <tr>\n",
       "      <th>fips</th>\n",
       "      <th></th>\n",
       "      <th></th>\n",
       "      <th></th>\n",
       "      <th></th>\n",
       "      <th></th>\n",
       "      <th></th>\n",
       "      <th></th>\n",
       "      <th></th>\n",
       "      <th></th>\n",
       "      <th></th>\n",
       "      <th></th>\n",
       "      <th></th>\n",
       "    </tr>\n",
       "  </thead>\n",
       "  <tbody>\n",
       "    <tr>\n",
       "      <th>1001</th>\n",
       "      <td>0.005467</td>\n",
       "      <td>0.454545</td>\n",
       "      <td>0.198770</td>\n",
       "      <td>0.797753</td>\n",
       "      <td>0.219741</td>\n",
       "      <td>0.759162</td>\n",
       "      <td>0.031189</td>\n",
       "      <td>0.248596</td>\n",
       "      <td>0.500000</td>\n",
       "      <td>0.329539</td>\n",
       "      <td>0.214149</td>\n",
       "      <td>0.001320</td>\n",
       "    </tr>\n",
       "    <tr>\n",
       "      <th>1003</th>\n",
       "      <td>0.019772</td>\n",
       "      <td>0.658477</td>\n",
       "      <td>0.299180</td>\n",
       "      <td>0.790262</td>\n",
       "      <td>0.112808</td>\n",
       "      <td>0.836649</td>\n",
       "      <td>0.070175</td>\n",
       "      <td>0.344101</td>\n",
       "      <td>0.491667</td>\n",
       "      <td>0.295691</td>\n",
       "      <td>0.248566</td>\n",
       "      <td>0.001648</td>\n",
       "    </tr>\n",
       "    <tr>\n",
       "      <th>1005</th>\n",
       "      <td>0.002649</td>\n",
       "      <td>0.366093</td>\n",
       "      <td>0.254098</td>\n",
       "      <td>0.617978</td>\n",
       "      <td>0.559342</td>\n",
       "      <td>0.455497</td>\n",
       "      <td>0.056530</td>\n",
       "      <td>0.143258</td>\n",
       "      <td>0.455556</td>\n",
       "      <td>0.126403</td>\n",
       "      <td>0.493308</td>\n",
       "      <td>0.000445</td>\n",
       "    </tr>\n",
       "    <tr>\n",
       "      <th>1007</th>\n",
       "      <td>0.002216</td>\n",
       "      <td>0.373464</td>\n",
       "      <td>0.219262</td>\n",
       "      <td>0.591760</td>\n",
       "      <td>0.259694</td>\n",
       "      <td>0.747644</td>\n",
       "      <td>0.023392</td>\n",
       "      <td>0.125000</td>\n",
       "      <td>0.538889</td>\n",
       "      <td>0.160985</td>\n",
       "      <td>0.328872</td>\n",
       "      <td>0.000528</td>\n",
       "    </tr>\n",
       "    <tr>\n",
       "      <th>1009</th>\n",
       "      <td>0.005697</td>\n",
       "      <td>0.434889</td>\n",
       "      <td>0.264344</td>\n",
       "      <td>0.764045</td>\n",
       "      <td>0.021152</td>\n",
       "      <td>0.886911</td>\n",
       "      <td>0.083821</td>\n",
       "      <td>0.125000</td>\n",
       "      <td>0.713889</td>\n",
       "      <td>0.236269</td>\n",
       "      <td>0.284895</td>\n",
       "      <td>0.001278</td>\n",
       "    </tr>\n",
       "  </tbody>\n",
       "</table>\n",
       "</div>"
      ],
      "text/plain": [
       "      population  pop_change  senior_pop_per  female_pop_per  black_pop_per  \\\n",
       "fips                                                                          \n",
       "1001    0.005467    0.454545        0.198770        0.797753       0.219741   \n",
       "1003    0.019772    0.658477        0.299180        0.790262       0.112808   \n",
       "1005    0.002649    0.366093        0.254098        0.617978       0.559342   \n",
       "1007    0.002216    0.373464        0.219262        0.591760       0.259694   \n",
       "1009    0.005697    0.434889        0.264344        0.764045       0.021152   \n",
       "\n",
       "      white_pop_per  foreign_pop_per  college_degree_pop_  commute_time  \\\n",
       "fips                                                                      \n",
       "1001       0.759162         0.031189             0.248596      0.500000   \n",
       "1003       0.836649         0.070175             0.344101      0.491667   \n",
       "1005       0.455497         0.056530             0.143258      0.455556   \n",
       "1007       0.747644         0.023392             0.125000      0.538889   \n",
       "1009       0.886911         0.083821             0.125000      0.713889   \n",
       "\n",
       "      median_income  poverty_rate  pop_density  \n",
       "fips                                            \n",
       "1001       0.329539      0.214149     0.001320  \n",
       "1003       0.295691      0.248566     0.001648  \n",
       "1005       0.126403      0.493308     0.000445  \n",
       "1007       0.160985      0.328872     0.000528  \n",
       "1009       0.236269      0.284895     0.001278  "
      ]
     },
     "execution_count": 108,
     "metadata": {},
     "output_type": "execute_result"
    }
   ],
   "source": [
    "X_mm.head()"
   ]
  },
  {
   "cell_type": "code",
   "execution_count": 109,
   "metadata": {},
   "outputs": [
    {
     "data": {
      "text/html": [
       "<div>\n",
       "<style scoped>\n",
       "    .dataframe tbody tr th:only-of-type {\n",
       "        vertical-align: middle;\n",
       "    }\n",
       "\n",
       "    .dataframe tbody tr th {\n",
       "        vertical-align: top;\n",
       "    }\n",
       "\n",
       "    .dataframe thead th {\n",
       "        text-align: right;\n",
       "    }\n",
       "</style>\n",
       "<table border=\"1\" class=\"dataframe\">\n",
       "  <thead>\n",
       "    <tr style=\"text-align: right;\">\n",
       "      <th></th>\n",
       "      <th>population</th>\n",
       "      <th>pop_change</th>\n",
       "      <th>senior_pop_per</th>\n",
       "      <th>female_pop_per</th>\n",
       "      <th>black_pop_per</th>\n",
       "      <th>white_pop_per</th>\n",
       "      <th>foreign_pop_per</th>\n",
       "      <th>college_degree_pop_</th>\n",
       "      <th>commute_time</th>\n",
       "      <th>median_income</th>\n",
       "      <th>poverty_rate</th>\n",
       "      <th>pop_density</th>\n",
       "    </tr>\n",
       "  </thead>\n",
       "  <tbody>\n",
       "    <tr>\n",
       "      <th>count</th>\n",
       "      <td>2.769000e+03</td>\n",
       "      <td>2.769000e+03</td>\n",
       "      <td>2.769000e+03</td>\n",
       "      <td>2.769000e+03</td>\n",
       "      <td>2.769000e+03</td>\n",
       "      <td>2.769000e+03</td>\n",
       "      <td>2.769000e+03</td>\n",
       "      <td>2.769000e+03</td>\n",
       "      <td>2.769000e+03</td>\n",
       "      <td>2.769000e+03</td>\n",
       "      <td>2.769000e+03</td>\n",
       "      <td>2.769000e+03</td>\n",
       "    </tr>\n",
       "    <tr>\n",
       "      <th>mean</th>\n",
       "      <td>-4.270089e-18</td>\n",
       "      <td>-1.368834e-16</td>\n",
       "      <td>5.410784e-16</td>\n",
       "      <td>1.488196e-15</td>\n",
       "      <td>-5.244390e-17</td>\n",
       "      <td>-1.033843e-16</td>\n",
       "      <td>-4.972247e-17</td>\n",
       "      <td>3.570436e-17</td>\n",
       "      <td>7.334128e-16</td>\n",
       "      <td>1.133277e-16</td>\n",
       "      <td>2.190776e-16</td>\n",
       "      <td>7.467643e-18</td>\n",
       "    </tr>\n",
       "    <tr>\n",
       "      <th>std</th>\n",
       "      <td>1.000181e+00</td>\n",
       "      <td>1.000181e+00</td>\n",
       "      <td>1.000181e+00</td>\n",
       "      <td>1.000181e+00</td>\n",
       "      <td>1.000181e+00</td>\n",
       "      <td>1.000181e+00</td>\n",
       "      <td>1.000181e+00</td>\n",
       "      <td>1.000181e+00</td>\n",
       "      <td>1.000181e+00</td>\n",
       "      <td>1.000181e+00</td>\n",
       "      <td>1.000181e+00</td>\n",
       "      <td>1.000181e+00</td>\n",
       "    </tr>\n",
       "    <tr>\n",
       "      <th>min</th>\n",
       "      <td>-3.179549e-01</td>\n",
       "      <td>-4.477190e+00</td>\n",
       "      <td>-3.078000e+00</td>\n",
       "      <td>-8.692878e+00</td>\n",
       "      <td>-6.775061e-01</td>\n",
       "      <td>-3.651845e+00</td>\n",
       "      <td>-8.138002e-01</td>\n",
       "      <td>-1.828529e+00</td>\n",
       "      <td>-2.891802e+00</td>\n",
       "      <td>-2.124356e+00</td>\n",
       "      <td>-2.522492e+00</td>\n",
       "      <td>-1.486885e-01</td>\n",
       "    </tr>\n",
       "    <tr>\n",
       "      <th>25%</th>\n",
       "      <td>-2.799873e-01</td>\n",
       "      <td>-6.212409e-01</td>\n",
       "      <td>-6.219680e-01</td>\n",
       "      <td>-1.645473e-01</td>\n",
       "      <td>-6.176823e-01</td>\n",
       "      <td>-5.976668e-01</td>\n",
       "      <td>-5.994107e-01</td>\n",
       "      <td>-6.943944e-01</td>\n",
       "      <td>-6.941425e-01</td>\n",
       "      <td>-6.461542e-01</td>\n",
       "      <td>-6.880754e-01</td>\n",
       "      <td>-1.372763e-01</td>\n",
       "    </tr>\n",
       "    <tr>\n",
       "      <th>50%</th>\n",
       "      <td>-2.349804e-01</td>\n",
       "      <td>-1.585270e-01</td>\n",
       "      <td>-9.403586e-02</td>\n",
       "      <td>1.853329e-01</td>\n",
       "      <td>-4.847405e-01</td>\n",
       "      <td>3.370815e-01</td>\n",
       "      <td>-3.671553e-01</td>\n",
       "      <td>-2.634232e-01</td>\n",
       "      <td>-6.894627e-02</td>\n",
       "      <td>-1.466350e-01</td>\n",
       "      <td>-1.022952e-01</td>\n",
       "      <td>-1.218199e-01</td>\n",
       "    </tr>\n",
       "    <tr>\n",
       "      <th>75%</th>\n",
       "      <td>-9.862318e-02</td>\n",
       "      <td>4.841312e-01</td>\n",
       "      <td>5.257105e-01</td>\n",
       "      <td>4.914781e-01</td>\n",
       "      <td>1.733212e-01</td>\n",
       "      <td>8.269496e-01</td>\n",
       "      <td>1.866843e-01</td>\n",
       "      <td>3.830336e-01</td>\n",
       "      <td>6.320314e-01</td>\n",
       "      <td>4.408955e-01</td>\n",
       "      <td>5.605612e-01</td>\n",
       "      <td>-8.054745e-02</td>\n",
       "    </tr>\n",
       "    <tr>\n",
       "      <th>max</th>\n",
       "      <td>3.061820e+01</td>\n",
       "      <td>5.985285e+00</td>\n",
       "      <td>8.123342e+00</td>\n",
       "      <td>2.984375e+00</td>\n",
       "      <td>4.979166e+00</td>\n",
       "      <td>1.121870e+00</td>\n",
       "      <td>8.351353e+00</td>\n",
       "      <td>6.246510e+00</td>\n",
       "      <td>3.928521e+00</td>\n",
       "      <td>6.512241e+00</td>\n",
       "      <td>5.539692e+00</td>\n",
       "      <td>3.833573e+01</td>\n",
       "    </tr>\n",
       "  </tbody>\n",
       "</table>\n",
       "</div>"
      ],
      "text/plain": [
       "         population    pop_change  senior_pop_per  female_pop_per  \\\n",
       "count  2.769000e+03  2.769000e+03    2.769000e+03    2.769000e+03   \n",
       "mean  -4.270089e-18 -1.368834e-16    5.410784e-16    1.488196e-15   \n",
       "std    1.000181e+00  1.000181e+00    1.000181e+00    1.000181e+00   \n",
       "min   -3.179549e-01 -4.477190e+00   -3.078000e+00   -8.692878e+00   \n",
       "25%   -2.799873e-01 -6.212409e-01   -6.219680e-01   -1.645473e-01   \n",
       "50%   -2.349804e-01 -1.585270e-01   -9.403586e-02    1.853329e-01   \n",
       "75%   -9.862318e-02  4.841312e-01    5.257105e-01    4.914781e-01   \n",
       "max    3.061820e+01  5.985285e+00    8.123342e+00    2.984375e+00   \n",
       "\n",
       "       black_pop_per  white_pop_per  foreign_pop_per  college_degree_pop_  \\\n",
       "count   2.769000e+03   2.769000e+03     2.769000e+03         2.769000e+03   \n",
       "mean   -5.244390e-17  -1.033843e-16    -4.972247e-17         3.570436e-17   \n",
       "std     1.000181e+00   1.000181e+00     1.000181e+00         1.000181e+00   \n",
       "min    -6.775061e-01  -3.651845e+00    -8.138002e-01        -1.828529e+00   \n",
       "25%    -6.176823e-01  -5.976668e-01    -5.994107e-01        -6.943944e-01   \n",
       "50%    -4.847405e-01   3.370815e-01    -3.671553e-01        -2.634232e-01   \n",
       "75%     1.733212e-01   8.269496e-01     1.866843e-01         3.830336e-01   \n",
       "max     4.979166e+00   1.121870e+00     8.351353e+00         6.246510e+00   \n",
       "\n",
       "       commute_time  median_income  poverty_rate   pop_density  \n",
       "count  2.769000e+03   2.769000e+03  2.769000e+03  2.769000e+03  \n",
       "mean   7.334128e-16   1.133277e-16  2.190776e-16  7.467643e-18  \n",
       "std    1.000181e+00   1.000181e+00  1.000181e+00  1.000181e+00  \n",
       "min   -2.891802e+00  -2.124356e+00 -2.522492e+00 -1.486885e-01  \n",
       "25%   -6.941425e-01  -6.461542e-01 -6.880754e-01 -1.372763e-01  \n",
       "50%   -6.894627e-02  -1.466350e-01 -1.022952e-01 -1.218199e-01  \n",
       "75%    6.320314e-01   4.408955e-01  5.605612e-01 -8.054745e-02  \n",
       "max    3.928521e+00   6.512241e+00  5.539692e+00  3.833573e+01  "
      ]
     },
     "execution_count": 109,
     "metadata": {},
     "output_type": "execute_result"
    }
   ],
   "source": [
    "#What happens when you call .describe() on X_ss\n",
    "X_ss.describe()"
   ]
  },
  {
   "cell_type": "code",
   "execution_count": 110,
   "metadata": {},
   "outputs": [
    {
     "data": {
      "text/html": [
       "<div>\n",
       "<style scoped>\n",
       "    .dataframe tbody tr th:only-of-type {\n",
       "        vertical-align: middle;\n",
       "    }\n",
       "\n",
       "    .dataframe tbody tr th {\n",
       "        vertical-align: top;\n",
       "    }\n",
       "\n",
       "    .dataframe thead th {\n",
       "        text-align: right;\n",
       "    }\n",
       "</style>\n",
       "<table border=\"1\" class=\"dataframe\">\n",
       "  <thead>\n",
       "    <tr style=\"text-align: right;\">\n",
       "      <th></th>\n",
       "      <th>population</th>\n",
       "      <th>pop_change</th>\n",
       "      <th>senior_pop_per</th>\n",
       "      <th>female_pop_per</th>\n",
       "      <th>black_pop_per</th>\n",
       "      <th>white_pop_per</th>\n",
       "      <th>foreign_pop_per</th>\n",
       "      <th>college_degree_pop_</th>\n",
       "      <th>commute_time</th>\n",
       "      <th>median_income</th>\n",
       "      <th>poverty_rate</th>\n",
       "      <th>pop_density</th>\n",
       "    </tr>\n",
       "  </thead>\n",
       "  <tbody>\n",
       "    <tr>\n",
       "      <th>count</th>\n",
       "      <td>2769.000000</td>\n",
       "      <td>2769.000000</td>\n",
       "      <td>2769.000000</td>\n",
       "      <td>2769.000000</td>\n",
       "      <td>2769.000000</td>\n",
       "      <td>2769.000000</td>\n",
       "      <td>2769.000000</td>\n",
       "      <td>2769.000000</td>\n",
       "      <td>2769.000000</td>\n",
       "      <td>2769.000000</td>\n",
       "      <td>2769.000000</td>\n",
       "      <td>2769.000000</td>\n",
       "    </tr>\n",
       "    <tr>\n",
       "      <th>mean</th>\n",
       "      <td>0.010278</td>\n",
       "      <td>0.427928</td>\n",
       "      <td>0.274788</td>\n",
       "      <td>0.744428</td>\n",
       "      <td>0.119771</td>\n",
       "      <td>0.764990</td>\n",
       "      <td>0.088793</td>\n",
       "      <td>0.226442</td>\n",
       "      <td>0.423998</td>\n",
       "      <td>0.245971</td>\n",
       "      <td>0.312879</td>\n",
       "      <td>0.003864</td>\n",
       "    </tr>\n",
       "    <tr>\n",
       "      <th>std</th>\n",
       "      <td>0.032330</td>\n",
       "      <td>0.095597</td>\n",
       "      <td>0.089291</td>\n",
       "      <td>0.085652</td>\n",
       "      <td>0.176814</td>\n",
       "      <td>0.209518</td>\n",
       "      <td>0.109129</td>\n",
       "      <td>0.123861</td>\n",
       "      <td>0.146647</td>\n",
       "      <td>0.115807</td>\n",
       "      <td>0.124058</td>\n",
       "      <td>0.025989</td>\n",
       "    </tr>\n",
       "    <tr>\n",
       "      <th>min</th>\n",
       "      <td>0.000000</td>\n",
       "      <td>0.000000</td>\n",
       "      <td>0.000000</td>\n",
       "      <td>0.000000</td>\n",
       "      <td>0.000000</td>\n",
       "      <td>0.000000</td>\n",
       "      <td>0.000000</td>\n",
       "      <td>0.000000</td>\n",
       "      <td>0.000000</td>\n",
       "      <td>0.000000</td>\n",
       "      <td>0.000000</td>\n",
       "      <td>0.000000</td>\n",
       "    </tr>\n",
       "    <tr>\n",
       "      <th>25%</th>\n",
       "      <td>0.001227</td>\n",
       "      <td>0.368550</td>\n",
       "      <td>0.219262</td>\n",
       "      <td>0.730337</td>\n",
       "      <td>0.010576</td>\n",
       "      <td>0.639791</td>\n",
       "      <td>0.023392</td>\n",
       "      <td>0.140449</td>\n",
       "      <td>0.322222</td>\n",
       "      <td>0.171156</td>\n",
       "      <td>0.227533</td>\n",
       "      <td>0.000297</td>\n",
       "    </tr>\n",
       "    <tr>\n",
       "      <th>50%</th>\n",
       "      <td>0.002682</td>\n",
       "      <td>0.412776</td>\n",
       "      <td>0.266393</td>\n",
       "      <td>0.760300</td>\n",
       "      <td>0.034078</td>\n",
       "      <td>0.835602</td>\n",
       "      <td>0.048733</td>\n",
       "      <td>0.193820</td>\n",
       "      <td>0.413889</td>\n",
       "      <td>0.228993</td>\n",
       "      <td>0.300191</td>\n",
       "      <td>0.000698</td>\n",
       "    </tr>\n",
       "    <tr>\n",
       "      <th>75%</th>\n",
       "      <td>0.007090</td>\n",
       "      <td>0.474201</td>\n",
       "      <td>0.321721</td>\n",
       "      <td>0.786517</td>\n",
       "      <td>0.150411</td>\n",
       "      <td>0.938220</td>\n",
       "      <td>0.109162</td>\n",
       "      <td>0.273876</td>\n",
       "      <td>0.516667</td>\n",
       "      <td>0.297021</td>\n",
       "      <td>0.382409</td>\n",
       "      <td>0.001771</td>\n",
       "    </tr>\n",
       "    <tr>\n",
       "      <th>max</th>\n",
       "      <td>1.000000</td>\n",
       "      <td>1.000000</td>\n",
       "      <td>1.000000</td>\n",
       "      <td>1.000000</td>\n",
       "      <td>1.000000</td>\n",
       "      <td>1.000000</td>\n",
       "      <td>1.000000</td>\n",
       "      <td>1.000000</td>\n",
       "      <td>1.000000</td>\n",
       "      <td>1.000000</td>\n",
       "      <td>1.000000</td>\n",
       "      <td>1.000000</td>\n",
       "    </tr>\n",
       "  </tbody>\n",
       "</table>\n",
       "</div>"
      ],
      "text/plain": [
       "        population   pop_change  senior_pop_per  female_pop_per  \\\n",
       "count  2769.000000  2769.000000     2769.000000     2769.000000   \n",
       "mean      0.010278     0.427928        0.274788        0.744428   \n",
       "std       0.032330     0.095597        0.089291        0.085652   \n",
       "min       0.000000     0.000000        0.000000        0.000000   \n",
       "25%       0.001227     0.368550        0.219262        0.730337   \n",
       "50%       0.002682     0.412776        0.266393        0.760300   \n",
       "75%       0.007090     0.474201        0.321721        0.786517   \n",
       "max       1.000000     1.000000        1.000000        1.000000   \n",
       "\n",
       "       black_pop_per  white_pop_per  foreign_pop_per  college_degree_pop_  \\\n",
       "count    2769.000000    2769.000000      2769.000000          2769.000000   \n",
       "mean        0.119771       0.764990         0.088793             0.226442   \n",
       "std         0.176814       0.209518         0.109129             0.123861   \n",
       "min         0.000000       0.000000         0.000000             0.000000   \n",
       "25%         0.010576       0.639791         0.023392             0.140449   \n",
       "50%         0.034078       0.835602         0.048733             0.193820   \n",
       "75%         0.150411       0.938220         0.109162             0.273876   \n",
       "max         1.000000       1.000000         1.000000             1.000000   \n",
       "\n",
       "       commute_time  median_income  poverty_rate  pop_density  \n",
       "count   2769.000000    2769.000000   2769.000000  2769.000000  \n",
       "mean       0.423998       0.245971      0.312879     0.003864  \n",
       "std        0.146647       0.115807      0.124058     0.025989  \n",
       "min        0.000000       0.000000      0.000000     0.000000  \n",
       "25%        0.322222       0.171156      0.227533     0.000297  \n",
       "50%        0.413889       0.228993      0.300191     0.000698  \n",
       "75%        0.516667       0.297021      0.382409     0.001771  \n",
       "max        1.000000       1.000000      1.000000     1.000000  "
      ]
     },
     "execution_count": 110,
     "metadata": {},
     "output_type": "execute_result"
    }
   ],
   "source": [
    "X_mm.describe()"
   ]
  },
  {
   "cell_type": "markdown",
   "metadata": {},
   "source": [
    "What do you notice about the means and standard deviations?"
   ]
  },
  {
   "cell_type": "code",
   "execution_count": null,
   "metadata": {},
   "outputs": [],
   "source": []
  },
  {
   "cell_type": "code",
   "execution_count": null,
   "metadata": {},
   "outputs": [],
   "source": []
  },
  {
   "cell_type": "markdown",
   "metadata": {},
   "source": [
    "What happens when we receive new data? How do we scale it using the scale of our previous data?"
   ]
  },
  {
   "cell_type": "code",
   "execution_count": 111,
   "metadata": {},
   "outputs": [
    {
     "data": {
      "text/html": [
       "<div>\n",
       "<style scoped>\n",
       "    .dataframe tbody tr th:only-of-type {\n",
       "        vertical-align: middle;\n",
       "    }\n",
       "\n",
       "    .dataframe tbody tr th {\n",
       "        vertical-align: top;\n",
       "    }\n",
       "\n",
       "    .dataframe thead th {\n",
       "        text-align: right;\n",
       "    }\n",
       "</style>\n",
       "<table border=\"1\" class=\"dataframe\">\n",
       "  <thead>\n",
       "    <tr style=\"text-align: right;\">\n",
       "      <th></th>\n",
       "      <th>population</th>\n",
       "      <th>pop_change</th>\n",
       "      <th>senior_pop_per</th>\n",
       "      <th>female_pop_per</th>\n",
       "      <th>black_pop_per</th>\n",
       "      <th>white_pop_per</th>\n",
       "      <th>foreign_pop_per</th>\n",
       "      <th>college_degree_pop_</th>\n",
       "      <th>commute_time</th>\n",
       "      <th>median_income</th>\n",
       "      <th>poverty_rate</th>\n",
       "      <th>pop_density</th>\n",
       "    </tr>\n",
       "  </thead>\n",
       "  <tbody>\n",
       "    <tr>\n",
       "      <th>229</th>\n",
       "      <td>852469</td>\n",
       "      <td>5.9</td>\n",
       "      <td>14.4</td>\n",
       "      <td>49.1</td>\n",
       "      <td>5.8</td>\n",
       "      <td>41.2</td>\n",
       "      <td>35.6</td>\n",
       "      <td>52.4</td>\n",
       "      <td>30.5</td>\n",
       "      <td>75604</td>\n",
       "      <td>13.5</td>\n",
       "      <td>17179.1</td>\n",
       "    </tr>\n",
       "    <tr>\n",
       "      <th>235</th>\n",
       "      <td>271804</td>\n",
       "      <td>3.6</td>\n",
       "      <td>13.5</td>\n",
       "      <td>50.4</td>\n",
       "      <td>1.4</td>\n",
       "      <td>58.2</td>\n",
       "      <td>18.3</td>\n",
       "      <td>37.0</td>\n",
       "      <td>25.4</td>\n",
       "      <td>66519</td>\n",
       "      <td>14.6</td>\n",
       "      <td>589.4</td>\n",
       "    </tr>\n",
       "  </tbody>\n",
       "</table>\n",
       "</div>"
      ],
      "text/plain": [
       "     population  pop_change  senior_pop_per  female_pop_per  black_pop_per  \\\n",
       "229      852469         5.9            14.4            49.1            5.8   \n",
       "235      271804         3.6            13.5            50.4            1.4   \n",
       "\n",
       "     white_pop_per  foreign_pop_per  college_degree_pop_  commute_time  \\\n",
       "229           41.2             35.6                 52.4          30.5   \n",
       "235           58.2             18.3                 37.0          25.4   \n",
       "\n",
       "     median_income  poverty_rate  pop_density  \n",
       "229          75604          13.5      17179.1  \n",
       "235          66519          14.6        589.4  "
      ]
     },
     "execution_count": 111,
     "metadata": {},
     "output_type": "execute_result"
    }
   ],
   "source": [
    "#Select San Francisco and Santa Cruz counties\n",
    "ba = county[(county.fips==6075) | (county.fips==6087)].drop(\"fips\", axis=1)\n",
    "ba"
   ]
  },
  {
   "cell_type": "code",
   "execution_count": 113,
   "metadata": {},
   "outputs": [
    {
     "data": {
      "text/plain": [
       "array([[ 2.28859267,  1.4095589 , -0.71378225, -0.38322249, -0.29197498,\n",
       "        -1.74735729,  5.54642291,  3.75141389,  1.33300903,  2.57335405,\n",
       "        -0.58016851,  9.36834919],\n",
       "       [ 0.51294611,  0.8183134 , -0.92036438,  0.18533292, -0.58444687,\n",
       "        -0.89758608,  2.45564033,  2.00484635,  0.3667966 ,  1.80600006,\n",
       "        -0.41060058,  0.17777926]])"
      ]
     },
     "execution_count": 113,
     "metadata": {},
     "output_type": "execute_result"
    }
   ],
   "source": [
    "#Use the ss scaler object used to fit and transform X to transform ba.\n",
    "ba_ss = ss.transform(ba)\n",
    "ba_ss"
   ]
  },
  {
   "cell_type": "code",
   "execution_count": 115,
   "metadata": {},
   "outputs": [
    {
     "data": {
      "text/plain": [
       "array([ 2.28859267,  1.4095589 , -0.71378225, -0.38322249, -0.29197498,\n",
       "       -1.74735729,  5.54642291,  3.75141389,  1.33300903,  2.57335405,\n",
       "       -0.58016851,  9.36834919])"
      ]
     },
     "execution_count": 115,
     "metadata": {},
     "output_type": "execute_result"
    }
   ],
   "source": [
    "ba_ss[0]"
   ]
  },
  {
   "cell_type": "code",
   "execution_count": 116,
   "metadata": {},
   "outputs": [
    {
     "data": {
      "text/plain": [
       "array([ 0.51294611,  0.8183134 , -0.92036438,  0.18533292, -0.58444687,\n",
       "       -0.89758608,  2.45564033,  2.00484635,  0.3667966 ,  1.80600006,\n",
       "       -0.41060058,  0.17777926])"
      ]
     },
     "execution_count": 116,
     "metadata": {},
     "output_type": "execute_result"
    }
   ],
   "source": [
    "ba_ss[1]"
   ]
  },
  {
   "cell_type": "code",
   "execution_count": null,
   "metadata": {},
   "outputs": [],
   "source": []
  },
  {
   "cell_type": "code",
   "execution_count": 117,
   "metadata": {},
   "outputs": [
    {
     "data": {
      "text/plain": [
       "array([[0.08425572, 0.56265356, 0.21106557, 0.71161049, 0.06815511,\n",
       "        0.39895288, 0.69395712, 0.69101124, 0.61944444, 0.54393068,\n",
       "        0.24091778, 0.24729585],\n",
       "       [0.02685858, 0.50614251, 0.19262295, 0.76029963, 0.01645123,\n",
       "        0.57696335, 0.35672515, 0.4747191 , 0.47777778, 0.45508156,\n",
       "        0.26195029, 0.00848312]])"
      ]
     },
     "execution_count": 117,
     "metadata": {},
     "output_type": "execute_result"
    }
   ],
   "source": [
    "#Use the mm scaler object used to fit and transform X to transform ba.\n",
    "ba_mm = mm.transform(ba)\n",
    "ba_mm"
   ]
  },
  {
   "cell_type": "code",
   "execution_count": 118,
   "metadata": {},
   "outputs": [
    {
     "data": {
      "text/plain": [
       "array([0.08425572, 0.56265356, 0.21106557, 0.71161049, 0.06815511,\n",
       "       0.39895288, 0.69395712, 0.69101124, 0.61944444, 0.54393068,\n",
       "       0.24091778, 0.24729585])"
      ]
     },
     "execution_count": 118,
     "metadata": {},
     "output_type": "execute_result"
    }
   ],
   "source": [
    "ba_mm[0]"
   ]
  },
  {
   "cell_type": "code",
   "execution_count": 119,
   "metadata": {},
   "outputs": [
    {
     "data": {
      "text/plain": [
       "array([0.02685858, 0.50614251, 0.19262295, 0.76029963, 0.01645123,\n",
       "       0.57696335, 0.35672515, 0.4747191 , 0.47777778, 0.45508156,\n",
       "       0.26195029, 0.00848312])"
      ]
     },
     "execution_count": 119,
     "metadata": {},
     "output_type": "execute_result"
    }
   ],
   "source": [
    "ba_mm[1]"
   ]
  },
  {
   "cell_type": "code",
   "execution_count": null,
   "metadata": {},
   "outputs": [],
   "source": []
  },
  {
   "cell_type": "code",
   "execution_count": null,
   "metadata": {},
   "outputs": [],
   "source": []
  },
  {
   "cell_type": "code",
   "execution_count": null,
   "metadata": {},
   "outputs": [],
   "source": []
  },
  {
   "cell_type": "markdown",
   "metadata": {},
   "source": [
    "Class exercise time: \n",
    "\n",
    "Work with partner to investigate whether or not our model significantly improves when using scaled data. Which scaler improves our modeling more? Use cross validation and charts and examine as many neighbors as possible.\n"
   ]
  },
  {
   "cell_type": "code",
   "execution_count": null,
   "metadata": {},
   "outputs": [],
   "source": []
  },
  {
   "cell_type": "code",
   "execution_count": 124,
   "metadata": {},
   "outputs": [
    {
     "data": {
      "text/plain": [
       "Text(0.5,1,'MinMax scale Scores')"
      ]
     },
     "execution_count": 124,
     "metadata": {},
     "output_type": "execute_result"
    },
    {
     "data": {
      "image/png": "[encoded data removed]",
      "text/plain": [
       "<matplotlib.figure.Figure at 0x1a17acc0f0>"
      ]
     },
     "metadata": {},
     "output_type": "display_data"
    }
   ],
   "source": [
    "#Answer\n",
    "\n",
    "neighbors = range(3, 61, 2)\n",
    "\n",
    "cv_scores_ss = []\n",
    "cv_scores_mm = []\n",
    "\n",
    "for neighbor in neighbors:\n",
    "    model = KNeighborsClassifier(n_neighbors=neighbor)\n",
    "    cv_score = cross_val_score(model, X_ss, y, cv=5, scoring=\"accuracy\").mean()\n",
    "    cv_scores_ss.append(cv_score)\n",
    "    \n",
    "for neighbor in neighbors:\n",
    "    model = KNeighborsClassifier(n_neighbors=neighbor)\n",
    "    cv_score = cross_val_score(model, X_mm, y, cv=5, scoring=\"accuracy\").mean()\n",
    "    cv_scores_mm.append(cv_score)\n",
    "    \n",
    "plt.figure(figsize=(15,16))\n",
    "plt.subplot(2,1,1)\n",
    "plt.plot(neighbors,cv_scores_ss, linewidth=4)\n",
    "plt.title(\"Stndard scale Scores\")\n",
    "\n",
    "plt.subplot(2,1,2)\n",
    "plt.plot(neighbors,cv_scores_mm, linewidth=4)\n",
    "plt.title(\"MinMax scale Scores\")"
   ]
  },
  {
   "cell_type": "code",
   "execution_count": 135,
   "metadata": {},
   "outputs": [],
   "source": [
    "# plt.figure(figsize=(15,8))\n",
    "# # plt.subplot(2,1,1)\n",
    "# plt.plot(neighbors,cv_scores_ss,linewidth=4)\n",
    "# plt.plot(neighbors,cv_scores_mm, linewidth=4)\n",
    "# # plt.title(\"Stndard scale Scores\")\n",
    "\n",
    "# # plt.subplot(2,1,2)\n",
    "# # plt.plot(neighbors,cv_scores_mm, linewidth=4)\n",
    "# # plt.title(\"MinMax scale Scores\")"
   ]
  },
  {
   "cell_type": "code",
   "execution_count": 150,
   "metadata": {},
   "outputs": [],
   "source": [
    "X_train, X_test, y_train, y_test = train_test_split(X, y, test_size = 0.05, random_state=42)"
   ]
  },
  {
   "cell_type": "code",
   "execution_count": 151,
   "metadata": {},
   "outputs": [],
   "source": [
    "ss = StandardScaler()\n",
    "X_train_s = ss.fit_transform(X_train)\n",
    "X_test_s = ss.transform(X_test)"
   ]
  },
  {
   "cell_type": "code",
   "execution_count": 152,
   "metadata": {},
   "outputs": [
    {
     "data": {
      "text/plain": [
       "0.7194244604316546"
      ]
     },
     "execution_count": 152,
     "metadata": {},
     "output_type": "execute_result"
    }
   ],
   "source": [
    "knn43 = KNeighborsClassifier(n_neighbors=43)\n",
    "knn43.fit(X_train_s, y_train)\n",
    "knn43.score(X_test_s, y_test)"
   ]
  },
  {
   "cell_type": "markdown",
   "metadata": {},
   "source": []
  },
  {
   "cell_type": "code",
   "execution_count": 153,
   "metadata": {},
   "outputs": [],
   "source": [
    "ss_test = StandardScaler()\n",
    "X_test_s = ss_test.fit_transform(X_test)"
   ]
  },
  {
   "cell_type": "code",
   "execution_count": 154,
   "metadata": {},
   "outputs": [
    {
     "data": {
      "text/plain": [
       "0.7266187050359713"
      ]
     },
     "execution_count": 154,
     "metadata": {},
     "output_type": "execute_result"
    }
   ],
   "source": [
    "knn43.score(X_test_s, y_test)"
   ]
  },
  {
   "cell_type": "code",
   "execution_count": null,
   "metadata": {},
   "outputs": [],
   "source": []
  },
  {
   "cell_type": "markdown",
   "metadata": {},
   "source": [
    "### Resources:\n",
    "<br>\n",
    "KNN:\n",
    "- https://kevinzakka.github.io/2016/07/13/k-nearest-neighbor/\n",
    "- https://www.dataquest.io/blog/k-nearest-neighbors-in-python/\n",
    "- https://saravananthirumuruganathan.wordpress.com/2010/05/17/a-detailed-introduction-to-k-nearest-neighbor-knn-algorithm/\n",
    "- http://people.revoledu.com/kardi/tutorial/KNN/index.html\n",
    "<br><br>\n",
    "\n",
    "Feature scaling:\n",
    "\n",
    "- https://machinelearningmastery.com/scale-machine-learning-data-scratch-python/\n",
    "- https://www.datacamp.com/community/tutorials/preprocessing-in-data-science-part-1-centering-scaling-and-knn\n",
    "- https://pythonprogramming.net/preprocessing-machine-learning/\n",
    "- http://benalexkeen.com/feature-scaling-with-scikit-learn/"
   ]
  },
  {
   "cell_type": "markdown",
   "metadata": {},
   "source": [
    "## In-class lab.\n",
    "<br><br>\n",
    "For the rest of class work on modeling one of the following datasets: primary, spotify, employee churn (HR_comma_sep.csv), iris, titanic, or use fake data from sklearn.\n",
    "<br><br>\n",
    "Compare and contrast decision trees with KNN. Drop and transform features. Play around as much as possible with the data and see if that improves your model.\n",
    "<br><br>\n",
    "Check out bonus lesson in which I use KNN-like algorithm to determine similarities between soccer players and decide which city Amazon should choose for their new headquarters."
   ]
  },
  {
   "cell_type": "markdown",
   "metadata": {},
   "source": [
    "### Spotify data\n",
    "\n",
    "A dataset of songs I like and dislike and their attributes from Spotify. 1 = like, 0 = dislike<br><br>\n",
    "\n",
    "\n",
    "\n",
    "<b>Attributes:</b>\n",
    "\n",
    "        Acousticness: A confidence measure from 0.0 to 1.0 of whether the track is acoustic. 1.0 represents high confidence the track is acoustic.\n",
    "        \n",
    "        Danceability: Danceability describes how suitable a track is for dancing based on a combination of musical elements including tempo, rhythm stability, beat strength, and overall regularity. A value of 0.0 is least danceable and 1.0 is most danceable.\n",
    "        \n",
    "        Instrumentalness: Predicts whether a track contains no vocals. \"Ooh\" and \"aah\" sounds are treated as instrumental in this context. Rap or spoken word tracks are clearly \"vocal\". The closer the instrumentalness value is to 1.0, the greater likelihood the track contains no vocal content. Values above 0.5 are intended to represent instrumental tracks, but confidence is higher as the value approaches 1.0.\n",
    "        \n",
    "        Valence: A measure from 0.0 to 1.0 describing the musical positiveness conveyed by a track. Tracks with high valence sound more positive (e.g. happy, cheerful, euphoric), while tracks with low valence sound more negative (e.g. sad, depressed, angry).\n",
    "        \n",
    "        Energy: Energy is a measure from 0.0 to 1.0 and represents a perceptual measure of intensity and activity. Typically, energetic tracks feel fast, loud, and noisy. For example, death metal has high energy, while a Bach prelude scores low on the scale. Perceptual features contributing to this attribute include dynamic range, perceived loudness, timbre, onset rate, and general entropy.\n",
    "        \n",
    "More details: https://developer.spotify.com/web-api/get-audio-features/\n",
    "\n",
    "My article using this dataset: https://opendatascience.com/blog/a-machine-learning-deep-dive-into-my-spotify-data/"
   ]
  },
  {
   "cell_type": "code",
   "execution_count": 155,
   "metadata": {},
   "outputs": [
    {
     "data": {
      "text/html": [
       "<div>\n",
       "<style scoped>\n",
       "    .dataframe tbody tr th:only-of-type {\n",
       "        vertical-align: middle;\n",
       "    }\n",
       "\n",
       "    .dataframe tbody tr th {\n",
       "        vertical-align: top;\n",
       "    }\n",
       "\n",
       "    .dataframe thead th {\n",
       "        text-align: right;\n",
       "    }\n",
       "</style>\n",
       "<table border=\"1\" class=\"dataframe\">\n",
       "  <thead>\n",
       "    <tr style=\"text-align: right;\">\n",
       "      <th></th>\n",
       "      <th>acousticness</th>\n",
       "      <th>mode</th>\n",
       "      <th>tempo</th>\n",
       "      <th>loudness</th>\n",
       "      <th>danceability</th>\n",
       "      <th>instrumentalness</th>\n",
       "      <th>valence</th>\n",
       "      <th>energy</th>\n",
       "      <th>target</th>\n",
       "    </tr>\n",
       "  </thead>\n",
       "  <tbody>\n",
       "    <tr>\n",
       "      <th>Mask_Off***Future</th>\n",
       "      <td>0.010200</td>\n",
       "      <td>1</td>\n",
       "      <td>150.062</td>\n",
       "      <td>-8.795</td>\n",
       "      <td>0.833</td>\n",
       "      <td>0.021900</td>\n",
       "      <td>0.286</td>\n",
       "      <td>0.434</td>\n",
       "      <td>1</td>\n",
       "    </tr>\n",
       "    <tr>\n",
       "      <th>Redbone***Childish_Gambino</th>\n",
       "      <td>0.199000</td>\n",
       "      <td>1</td>\n",
       "      <td>160.083</td>\n",
       "      <td>-10.401</td>\n",
       "      <td>0.743</td>\n",
       "      <td>0.006110</td>\n",
       "      <td>0.588</td>\n",
       "      <td>0.359</td>\n",
       "      <td>1</td>\n",
       "    </tr>\n",
       "    <tr>\n",
       "      <th>Xanny_Family***Future</th>\n",
       "      <td>0.034400</td>\n",
       "      <td>1</td>\n",
       "      <td>75.044</td>\n",
       "      <td>-7.148</td>\n",
       "      <td>0.838</td>\n",
       "      <td>0.000234</td>\n",
       "      <td>0.173</td>\n",
       "      <td>0.412</td>\n",
       "      <td>1</td>\n",
       "    </tr>\n",
       "    <tr>\n",
       "      <th>Master_Of_None***Beach_House</th>\n",
       "      <td>0.604000</td>\n",
       "      <td>1</td>\n",
       "      <td>86.468</td>\n",
       "      <td>-15.236</td>\n",
       "      <td>0.494</td>\n",
       "      <td>0.510000</td>\n",
       "      <td>0.230</td>\n",
       "      <td>0.338</td>\n",
       "      <td>1</td>\n",
       "    </tr>\n",
       "    <tr>\n",
       "      <th>Parallel_Lines***Junior_Boys</th>\n",
       "      <td>0.180000</td>\n",
       "      <td>0</td>\n",
       "      <td>174.004</td>\n",
       "      <td>-11.648</td>\n",
       "      <td>0.678</td>\n",
       "      <td>0.512000</td>\n",
       "      <td>0.904</td>\n",
       "      <td>0.561</td>\n",
       "      <td>1</td>\n",
       "    </tr>\n",
       "    <tr>\n",
       "      <th>Sneakinâ***Drake</th>\n",
       "      <td>0.004790</td>\n",
       "      <td>1</td>\n",
       "      <td>85.023</td>\n",
       "      <td>-6.682</td>\n",
       "      <td>0.804</td>\n",
       "      <td>0.000000</td>\n",
       "      <td>0.264</td>\n",
       "      <td>0.560</td>\n",
       "      <td>1</td>\n",
       "    </tr>\n",
       "    <tr>\n",
       "      <th>Childs_Play***Drake</th>\n",
       "      <td>0.014500</td>\n",
       "      <td>1</td>\n",
       "      <td>80.030</td>\n",
       "      <td>-11.204</td>\n",
       "      <td>0.739</td>\n",
       "      <td>0.000007</td>\n",
       "      <td>0.308</td>\n",
       "      <td>0.472</td>\n",
       "      <td>1</td>\n",
       "    </tr>\n",
       "    <tr>\n",
       "      <th>GyÃ¶ngyhajÃº_lÃ¡ny***Omega</th>\n",
       "      <td>0.020200</td>\n",
       "      <td>0</td>\n",
       "      <td>144.154</td>\n",
       "      <td>-11.609</td>\n",
       "      <td>0.266</td>\n",
       "      <td>0.664000</td>\n",
       "      <td>0.393</td>\n",
       "      <td>0.348</td>\n",
       "      <td>1</td>\n",
       "    </tr>\n",
       "    <tr>\n",
       "      <th>I've_Seen_Footage***Death_Grips</th>\n",
       "      <td>0.048100</td>\n",
       "      <td>0</td>\n",
       "      <td>130.035</td>\n",
       "      <td>-3.626</td>\n",
       "      <td>0.603</td>\n",
       "      <td>0.000000</td>\n",
       "      <td>0.398</td>\n",
       "      <td>0.944</td>\n",
       "      <td>1</td>\n",
       "    </tr>\n",
       "    <tr>\n",
       "      <th>Digital_Animal***Honey_Claws</th>\n",
       "      <td>0.002080</td>\n",
       "      <td>1</td>\n",
       "      <td>99.994</td>\n",
       "      <td>-7.792</td>\n",
       "      <td>0.836</td>\n",
       "      <td>0.000000</td>\n",
       "      <td>0.386</td>\n",
       "      <td>0.603</td>\n",
       "      <td>1</td>\n",
       "    </tr>\n",
       "    <tr>\n",
       "      <th>Subways_-_In_Flagranti_Extended_Edit***The_Avalanches</th>\n",
       "      <td>0.057200</td>\n",
       "      <td>0</td>\n",
       "      <td>111.951</td>\n",
       "      <td>-7.372</td>\n",
       "      <td>0.525</td>\n",
       "      <td>0.014300</td>\n",
       "      <td>0.524</td>\n",
       "      <td>0.855</td>\n",
       "      <td>1</td>\n",
       "    </tr>\n",
       "    <tr>\n",
       "      <th>Donme_Dolap_-_Baris_K_Edit***Modern_Folk_ÃÃ§lÃ¼sÃ¼</th>\n",
       "      <td>0.091500</td>\n",
       "      <td>1</td>\n",
       "      <td>104.322</td>\n",
       "      <td>-8.620</td>\n",
       "      <td>0.753</td>\n",
       "      <td>0.003480</td>\n",
       "      <td>0.642</td>\n",
       "      <td>0.748</td>\n",
       "      <td>1</td>\n",
       "    </tr>\n",
       "    <tr>\n",
       "      <th>Cemalim***Erkin_Koray</th>\n",
       "      <td>0.253000</td>\n",
       "      <td>1</td>\n",
       "      <td>127.681</td>\n",
       "      <td>-11.062</td>\n",
       "      <td>0.603</td>\n",
       "      <td>0.061900</td>\n",
       "      <td>0.381</td>\n",
       "      <td>0.434</td>\n",
       "      <td>1</td>\n",
       "    </tr>\n",
       "    <tr>\n",
       "      <th>One_Night***Lil_Yachty</th>\n",
       "      <td>0.366000</td>\n",
       "      <td>1</td>\n",
       "      <td>130.007</td>\n",
       "      <td>-12.686</td>\n",
       "      <td>0.762</td>\n",
       "      <td>0.000000</td>\n",
       "      <td>0.367</td>\n",
       "      <td>0.476</td>\n",
       "      <td>1</td>\n",
       "    </tr>\n",
       "    <tr>\n",
       "      <th>Oh_lala***PNL</th>\n",
       "      <td>0.440000</td>\n",
       "      <td>0</td>\n",
       "      <td>125.011</td>\n",
       "      <td>-8.317</td>\n",
       "      <td>0.662</td>\n",
       "      <td>0.000000</td>\n",
       "      <td>0.351</td>\n",
       "      <td>0.603</td>\n",
       "      <td>1</td>\n",
       "    </tr>\n",
       "    <tr>\n",
       "      <th>Char***Crystal_Castles</th>\n",
       "      <td>0.019000</td>\n",
       "      <td>1</td>\n",
       "      <td>99.988</td>\n",
       "      <td>-6.637</td>\n",
       "      <td>0.637</td>\n",
       "      <td>0.056300</td>\n",
       "      <td>0.317</td>\n",
       "      <td>0.832</td>\n",
       "      <td>1</td>\n",
       "    </tr>\n",
       "    <tr>\n",
       "      <th>World_In_Motion***New_Order</th>\n",
       "      <td>0.023900</td>\n",
       "      <td>1</td>\n",
       "      <td>123.922</td>\n",
       "      <td>-4.111</td>\n",
       "      <td>0.603</td>\n",
       "      <td>0.045100</td>\n",
       "      <td>0.773</td>\n",
       "      <td>0.955</td>\n",
       "      <td>1</td>\n",
       "    </tr>\n",
       "    <tr>\n",
       "      <th>One_Nation_Under_a_Groove***Funkadelic</th>\n",
       "      <td>0.233000</td>\n",
       "      <td>0</td>\n",
       "      <td>122.415</td>\n",
       "      <td>-12.654</td>\n",
       "      <td>0.789</td>\n",
       "      <td>0.000490</td>\n",
       "      <td>0.842</td>\n",
       "      <td>0.659</td>\n",
       "      <td>1</td>\n",
       "    </tr>\n",
       "    <tr>\n",
       "      <th>Bouncin***Chief_Keef</th>\n",
       "      <td>0.314000</td>\n",
       "      <td>0</td>\n",
       "      <td>140.061</td>\n",
       "      <td>-6.702</td>\n",
       "      <td>0.713</td>\n",
       "      <td>0.000000</td>\n",
       "      <td>0.783</td>\n",
       "      <td>0.611</td>\n",
       "      <td>1</td>\n",
       "    </tr>\n",
       "    <tr>\n",
       "      <th>C_O_O_L_-_Radio_Edit***Le_Youth</th>\n",
       "      <td>0.024200</td>\n",
       "      <td>0</td>\n",
       "      <td>109.982</td>\n",
       "      <td>-6.914</td>\n",
       "      <td>0.735</td>\n",
       "      <td>0.185000</td>\n",
       "      <td>0.763</td>\n",
       "      <td>0.759</td>\n",
       "      <td>1</td>\n",
       "    </tr>\n",
       "    <tr>\n",
       "      <th>Percolator_(Jamie_Jones_Vault_Mix)_-_mixed***Cajmere</th>\n",
       "      <td>0.000702</td>\n",
       "      <td>0</td>\n",
       "      <td>128.049</td>\n",
       "      <td>-9.335</td>\n",
       "      <td>0.854</td>\n",
       "      <td>0.308000</td>\n",
       "      <td>0.471</td>\n",
       "      <td>0.719</td>\n",
       "      <td>1</td>\n",
       "    </tr>\n",
       "    <tr>\n",
       "      <th>House_of_Jealous_Lovers***The_Rapture</th>\n",
       "      <td>0.000240</td>\n",
       "      <td>1</td>\n",
       "      <td>130.031</td>\n",
       "      <td>-4.134</td>\n",
       "      <td>0.747</td>\n",
       "      <td>0.369000</td>\n",
       "      <td>0.770</td>\n",
       "      <td>0.740</td>\n",
       "      <td>1</td>\n",
       "    </tr>\n",
       "    <tr>\n",
       "      <th>Imma_Ride***Young_Thug</th>\n",
       "      <td>0.118000</td>\n",
       "      <td>1</td>\n",
       "      <td>139.922</td>\n",
       "      <td>-8.553</td>\n",
       "      <td>0.854</td>\n",
       "      <td>0.000000</td>\n",
       "      <td>0.441</td>\n",
       "      <td>0.401</td>\n",
       "      <td>1</td>\n",
       "    </tr>\n",
       "    <tr>\n",
       "      <th>Girlfriend***Ty_Segall</th>\n",
       "      <td>0.000596</td>\n",
       "      <td>0</td>\n",
       "      <td>138.022</td>\n",
       "      <td>-1.710</td>\n",
       "      <td>0.224</td>\n",
       "      <td>0.000001</td>\n",
       "      <td>0.364</td>\n",
       "      <td>0.925</td>\n",
       "      <td>1</td>\n",
       "    </tr>\n",
       "    <tr>\n",
       "      <th>If_I_Gave_You_My_Love***Myron_&amp;_E</th>\n",
       "      <td>0.279000</td>\n",
       "      <td>1</td>\n",
       "      <td>94.498</td>\n",
       "      <td>-5.892</td>\n",
       "      <td>0.512</td>\n",
       "      <td>0.000015</td>\n",
       "      <td>0.401</td>\n",
       "      <td>0.564</td>\n",
       "      <td>1</td>\n",
       "    </tr>\n",
       "    <tr>\n",
       "      <th>This_Ready_Flesh***TR/ST</th>\n",
       "      <td>0.002190</td>\n",
       "      <td>1</td>\n",
       "      <td>109.977</td>\n",
       "      <td>-6.758</td>\n",
       "      <td>0.781</td>\n",
       "      <td>0.269000</td>\n",
       "      <td>0.795</td>\n",
       "      <td>0.795</td>\n",
       "      <td>1</td>\n",
       "    </tr>\n",
       "    <tr>\n",
       "      <th>Lose_My_Mind***A-Trak</th>\n",
       "      <td>0.341000</td>\n",
       "      <td>0</td>\n",
       "      <td>110.016</td>\n",
       "      <td>-6.889</td>\n",
       "      <td>0.411</td>\n",
       "      <td>0.000001</td>\n",
       "      <td>0.598</td>\n",
       "      <td>0.684</td>\n",
       "      <td>1</td>\n",
       "    </tr>\n",
       "    <tr>\n",
       "      <th>Char***Crystal_Castles</th>\n",
       "      <td>0.018000</td>\n",
       "      <td>1</td>\n",
       "      <td>100.040</td>\n",
       "      <td>-6.615</td>\n",
       "      <td>0.646</td>\n",
       "      <td>0.040300</td>\n",
       "      <td>0.320</td>\n",
       "      <td>0.837</td>\n",
       "      <td>1</td>\n",
       "    </tr>\n",
       "    <tr>\n",
       "      <th>Look_Alive***Rae_Sremmurd</th>\n",
       "      <td>0.051600</td>\n",
       "      <td>0</td>\n",
       "      <td>120.021</td>\n",
       "      <td>-7.467</td>\n",
       "      <td>0.782</td>\n",
       "      <td>0.000000</td>\n",
       "      <td>0.237</td>\n",
       "      <td>0.572</td>\n",
       "      <td>1</td>\n",
       "    </tr>\n",
       "    <tr>\n",
       "      <th>Please_Stop_Making_Fake_Versace***Father</th>\n",
       "      <td>0.282000</td>\n",
       "      <td>1</td>\n",
       "      <td>129.004</td>\n",
       "      <td>-12.766</td>\n",
       "      <td>0.735</td>\n",
       "      <td>0.125000</td>\n",
       "      <td>0.326</td>\n",
       "      <td>0.400</td>\n",
       "      <td>1</td>\n",
       "    </tr>\n",
       "    <tr>\n",
       "      <th>...</th>\n",
       "      <td>...</td>\n",
       "      <td>...</td>\n",
       "      <td>...</td>\n",
       "      <td>...</td>\n",
       "      <td>...</td>\n",
       "      <td>...</td>\n",
       "      <td>...</td>\n",
       "      <td>...</td>\n",
       "      <td>...</td>\n",
       "    </tr>\n",
       "    <tr>\n",
       "      <th>Work_This_Body***WALK_THE_MOON</th>\n",
       "      <td>0.028300</td>\n",
       "      <td>1</td>\n",
       "      <td>134.027</td>\n",
       "      <td>-5.128</td>\n",
       "      <td>0.421</td>\n",
       "      <td>0.000000</td>\n",
       "      <td>0.489</td>\n",
       "      <td>0.831</td>\n",
       "      <td>0</td>\n",
       "    </tr>\n",
       "    <tr>\n",
       "      <th>Tightrope***WALK_THE_MOON</th>\n",
       "      <td>0.000084</td>\n",
       "      <td>0</td>\n",
       "      <td>162.435</td>\n",
       "      <td>-6.174</td>\n",
       "      <td>0.467</td>\n",
       "      <td>0.002040</td>\n",
       "      <td>0.577</td>\n",
       "      <td>0.794</td>\n",
       "      <td>0</td>\n",
       "    </tr>\n",
       "    <tr>\n",
       "      <th>Different_Colors***WALK_THE_MOON</th>\n",
       "      <td>0.000797</td>\n",
       "      <td>1</td>\n",
       "      <td>96.000</td>\n",
       "      <td>-4.602</td>\n",
       "      <td>0.480</td>\n",
       "      <td>0.000001</td>\n",
       "      <td>0.701</td>\n",
       "      <td>0.826</td>\n",
       "      <td>0</td>\n",
       "    </tr>\n",
       "    <tr>\n",
       "      <th>Avalanche***WALK_THE_MOON</th>\n",
       "      <td>0.000590</td>\n",
       "      <td>1</td>\n",
       "      <td>138.021</td>\n",
       "      <td>-4.339</td>\n",
       "      <td>0.594</td>\n",
       "      <td>0.000003</td>\n",
       "      <td>0.646</td>\n",
       "      <td>0.858</td>\n",
       "      <td>0</td>\n",
       "    </tr>\n",
       "    <tr>\n",
       "      <th>Jenny***WALK_THE_MOON</th>\n",
       "      <td>0.000366</td>\n",
       "      <td>0</td>\n",
       "      <td>148.121</td>\n",
       "      <td>-5.593</td>\n",
       "      <td>0.544</td>\n",
       "      <td>0.000000</td>\n",
       "      <td>0.821</td>\n",
       "      <td>0.788</td>\n",
       "      <td>0</td>\n",
       "    </tr>\n",
       "    <tr>\n",
       "      <th>Portugal***WALK_THE_MOON</th>\n",
       "      <td>0.007490</td>\n",
       "      <td>1</td>\n",
       "      <td>169.889</td>\n",
       "      <td>-4.368</td>\n",
       "      <td>0.446</td>\n",
       "      <td>0.000000</td>\n",
       "      <td>0.428</td>\n",
       "      <td>0.881</td>\n",
       "      <td>0</td>\n",
       "    </tr>\n",
       "    <tr>\n",
       "      <th>Quesadilla***WALK_THE_MOON</th>\n",
       "      <td>0.001900</td>\n",
       "      <td>1</td>\n",
       "      <td>145.107</td>\n",
       "      <td>-6.081</td>\n",
       "      <td>0.551</td>\n",
       "      <td>0.000000</td>\n",
       "      <td>0.628</td>\n",
       "      <td>0.732</td>\n",
       "      <td>0</td>\n",
       "    </tr>\n",
       "    <tr>\n",
       "      <th>Aquaman***WALK_THE_MOON</th>\n",
       "      <td>0.510000</td>\n",
       "      <td>1</td>\n",
       "      <td>99.964</td>\n",
       "      <td>-6.986</td>\n",
       "      <td>0.630</td>\n",
       "      <td>0.000023</td>\n",
       "      <td>0.714</td>\n",
       "      <td>0.772</td>\n",
       "      <td>0</td>\n",
       "    </tr>\n",
       "    <tr>\n",
       "      <th>Paris_-_Pegboard_Nerds_Remix***The_Chainsmokers</th>\n",
       "      <td>0.020200</td>\n",
       "      <td>1</td>\n",
       "      <td>99.889</td>\n",
       "      <td>-3.722</td>\n",
       "      <td>0.333</td>\n",
       "      <td>0.000000</td>\n",
       "      <td>0.129</td>\n",
       "      <td>0.913</td>\n",
       "      <td>0</td>\n",
       "    </tr>\n",
       "    <tr>\n",
       "      <th>Quit_You_-_Wuki_Remix***Lost_Kings</th>\n",
       "      <td>0.003630</td>\n",
       "      <td>1</td>\n",
       "      <td>103.963</td>\n",
       "      <td>-5.567</td>\n",
       "      <td>0.743</td>\n",
       "      <td>0.143000</td>\n",
       "      <td>0.186</td>\n",
       "      <td>0.889</td>\n",
       "      <td>0</td>\n",
       "    </tr>\n",
       "    <tr>\n",
       "      <th>Don't_Let_Me_Down_-_Zomboy_Remix***The_Chainsmokers</th>\n",
       "      <td>0.000870</td>\n",
       "      <td>0</td>\n",
       "      <td>160.064</td>\n",
       "      <td>-4.684</td>\n",
       "      <td>0.465</td>\n",
       "      <td>0.014600</td>\n",
       "      <td>0.554</td>\n",
       "      <td>0.953</td>\n",
       "      <td>0</td>\n",
       "    </tr>\n",
       "    <tr>\n",
       "      <th>Faded_-_Slushii_Remix***Alan_Walker</th>\n",
       "      <td>0.031600</td>\n",
       "      <td>1</td>\n",
       "      <td>140.048</td>\n",
       "      <td>-3.920</td>\n",
       "      <td>0.680</td>\n",
       "      <td>0.000018</td>\n",
       "      <td>0.260</td>\n",
       "      <td>0.725</td>\n",
       "      <td>0</td>\n",
       "    </tr>\n",
       "    <tr>\n",
       "      <th>Can't_Get_Enough_-_Pegboard_Nerds_Remix***Tommie_Sunshine</th>\n",
       "      <td>0.004990</td>\n",
       "      <td>0</td>\n",
       "      <td>149.935</td>\n",
       "      <td>-4.640</td>\n",
       "      <td>0.619</td>\n",
       "      <td>0.000418</td>\n",
       "      <td>0.257</td>\n",
       "      <td>0.949</td>\n",
       "      <td>0</td>\n",
       "    </tr>\n",
       "    <tr>\n",
       "      <th>Light_-_Loosid_Remix***San_Holo</th>\n",
       "      <td>0.093500</td>\n",
       "      <td>1</td>\n",
       "      <td>170.032</td>\n",
       "      <td>-4.180</td>\n",
       "      <td>0.520</td>\n",
       "      <td>0.003500</td>\n",
       "      <td>0.362</td>\n",
       "      <td>0.809</td>\n",
       "      <td>0</td>\n",
       "    </tr>\n",
       "    <tr>\n",
       "      <th>Something_Just_Like_This_-_ARMNHMR_Remix***The_Chainsmokers</th>\n",
       "      <td>0.002620</td>\n",
       "      <td>0</td>\n",
       "      <td>131.049</td>\n",
       "      <td>-5.652</td>\n",
       "      <td>0.484</td>\n",
       "      <td>0.000000</td>\n",
       "      <td>0.266</td>\n",
       "      <td>0.609</td>\n",
       "      <td>0</td>\n",
       "    </tr>\n",
       "    <tr>\n",
       "      <th>Without_U***Steve_Aoki</th>\n",
       "      <td>0.030100</td>\n",
       "      <td>1</td>\n",
       "      <td>149.843</td>\n",
       "      <td>-3.495</td>\n",
       "      <td>0.583</td>\n",
       "      <td>0.000003</td>\n",
       "      <td>0.321</td>\n",
       "      <td>0.891</td>\n",
       "      <td>0</td>\n",
       "    </tr>\n",
       "    <tr>\n",
       "      <th>Hold_Up***Borgeous</th>\n",
       "      <td>0.000461</td>\n",
       "      <td>1</td>\n",
       "      <td>159.927</td>\n",
       "      <td>-2.981</td>\n",
       "      <td>0.562</td>\n",
       "      <td>0.038300</td>\n",
       "      <td>0.311</td>\n",
       "      <td>0.960</td>\n",
       "      <td>0</td>\n",
       "    </tr>\n",
       "    <tr>\n",
       "      <th>Phone_Down_-_Dodge_&amp;_Fuski_Remix***Lost_Kings</th>\n",
       "      <td>0.096900</td>\n",
       "      <td>0</td>\n",
       "      <td>150.001</td>\n",
       "      <td>-2.339</td>\n",
       "      <td>0.595</td>\n",
       "      <td>0.000000</td>\n",
       "      <td>0.183</td>\n",
       "      <td>0.975</td>\n",
       "      <td>0</td>\n",
       "    </tr>\n",
       "    <tr>\n",
       "      <th>Spoon_Me_-_Slushii_Remix***Elliphant</th>\n",
       "      <td>0.021600</td>\n",
       "      <td>0</td>\n",
       "      <td>150.181</td>\n",
       "      <td>-3.506</td>\n",
       "      <td>0.526</td>\n",
       "      <td>0.000001</td>\n",
       "      <td>0.108</td>\n",
       "      <td>0.825</td>\n",
       "      <td>0</td>\n",
       "    </tr>\n",
       "    <tr>\n",
       "      <th>Scared_To_Be_Lonely_(Conro_Remix)***Martin_Garrix</th>\n",
       "      <td>0.178000</td>\n",
       "      <td>0</td>\n",
       "      <td>154.901</td>\n",
       "      <td>-4.261</td>\n",
       "      <td>0.501</td>\n",
       "      <td>0.000003</td>\n",
       "      <td>0.307</td>\n",
       "      <td>0.683</td>\n",
       "      <td>0</td>\n",
       "    </tr>\n",
       "    <tr>\n",
       "      <th>Let_It_Go_-_Scott_Melker_&amp;_Mister_Gray_Remix***NERVO</th>\n",
       "      <td>0.002170</td>\n",
       "      <td>1</td>\n",
       "      <td>144.986</td>\n",
       "      <td>-2.376</td>\n",
       "      <td>0.639</td>\n",
       "      <td>0.112000</td>\n",
       "      <td>0.494</td>\n",
       "      <td>0.978</td>\n",
       "      <td>0</td>\n",
       "    </tr>\n",
       "    <tr>\n",
       "      <th>Call_On_Me_-_EDWYNN_X_TIKAL,_Spirix_Remix***Starley</th>\n",
       "      <td>0.054100</td>\n",
       "      <td>1</td>\n",
       "      <td>97.957</td>\n",
       "      <td>-6.511</td>\n",
       "      <td>0.646</td>\n",
       "      <td>0.000000</td>\n",
       "      <td>0.589</td>\n",
       "      <td>0.714</td>\n",
       "      <td>0</td>\n",
       "    </tr>\n",
       "    <tr>\n",
       "      <th>Aamon***Kuuro</th>\n",
       "      <td>0.004990</td>\n",
       "      <td>1</td>\n",
       "      <td>149.964</td>\n",
       "      <td>-6.011</td>\n",
       "      <td>0.595</td>\n",
       "      <td>0.035900</td>\n",
       "      <td>0.331</td>\n",
       "      <td>0.837</td>\n",
       "      <td>0</td>\n",
       "    </tr>\n",
       "    <tr>\n",
       "      <th>Hey_Baby_-_Steve_Aoki_Remix***Dimitri_Vegas_&amp;_Like_Mike</th>\n",
       "      <td>0.002310</td>\n",
       "      <td>0</td>\n",
       "      <td>102.003</td>\n",
       "      <td>-0.935</td>\n",
       "      <td>0.624</td>\n",
       "      <td>0.121000</td>\n",
       "      <td>0.442</td>\n",
       "      <td>0.971</td>\n",
       "      <td>0</td>\n",
       "    </tr>\n",
       "    <tr>\n",
       "      <th>Brightside_-_Borgeous_Remix***Icona_Pop</th>\n",
       "      <td>0.000586</td>\n",
       "      <td>0</td>\n",
       "      <td>128.268</td>\n",
       "      <td>-5.891</td>\n",
       "      <td>0.528</td>\n",
       "      <td>0.004890</td>\n",
       "      <td>0.327</td>\n",
       "      <td>0.879</td>\n",
       "      <td>0</td>\n",
       "    </tr>\n",
       "    <tr>\n",
       "      <th>Like_A_Bitch_-_Kill_The_Noise_Remix***Kill_The_Noise</th>\n",
       "      <td>0.001060</td>\n",
       "      <td>1</td>\n",
       "      <td>74.976</td>\n",
       "      <td>-3.501</td>\n",
       "      <td>0.584</td>\n",
       "      <td>0.002690</td>\n",
       "      <td>0.211</td>\n",
       "      <td>0.932</td>\n",
       "      <td>0</td>\n",
       "    </tr>\n",
       "    <tr>\n",
       "      <th>Candy***Dillon_Francis</th>\n",
       "      <td>0.087700</td>\n",
       "      <td>1</td>\n",
       "      <td>110.041</td>\n",
       "      <td>-2.663</td>\n",
       "      <td>0.894</td>\n",
       "      <td>0.001670</td>\n",
       "      <td>0.867</td>\n",
       "      <td>0.892</td>\n",
       "      <td>0</td>\n",
       "    </tr>\n",
       "    <tr>\n",
       "      <th>Habit_-_Dack_Janiels_&amp;_Wenzday_Remix***Rain_Man</th>\n",
       "      <td>0.008570</td>\n",
       "      <td>1</td>\n",
       "      <td>150.082</td>\n",
       "      <td>-2.467</td>\n",
       "      <td>0.637</td>\n",
       "      <td>0.003990</td>\n",
       "      <td>0.470</td>\n",
       "      <td>0.935</td>\n",
       "      <td>0</td>\n",
       "    </tr>\n",
       "    <tr>\n",
       "      <th>First_Contact***Twin_Moons</th>\n",
       "      <td>0.001640</td>\n",
       "      <td>1</td>\n",
       "      <td>150.011</td>\n",
       "      <td>-2.735</td>\n",
       "      <td>0.557</td>\n",
       "      <td>0.677000</td>\n",
       "      <td>0.623</td>\n",
       "      <td>0.992</td>\n",
       "      <td>0</td>\n",
       "    </tr>\n",
       "    <tr>\n",
       "      <th>I_Wanna_Get_Better***Bleachers</th>\n",
       "      <td>0.002810</td>\n",
       "      <td>1</td>\n",
       "      <td>190.013</td>\n",
       "      <td>-6.221</td>\n",
       "      <td>0.446</td>\n",
       "      <td>0.000039</td>\n",
       "      <td>0.402</td>\n",
       "      <td>0.915</td>\n",
       "      <td>0</td>\n",
       "    </tr>\n",
       "  </tbody>\n",
       "</table>\n",
       "<p>2017 rows × 9 columns</p>\n",
       "</div>"
      ],
      "text/plain": [
       "                                                    acousticness  mode  \\\n",
       "Mask_Off***Future                                       0.010200     1   \n",
       "Redbone***Childish_Gambino                              0.199000     1   \n",
       "Xanny_Family***Future                                   0.034400     1   \n",
       "Master_Of_None***Beach_House                            0.604000     1   \n",
       "Parallel_Lines***Junior_Boys                            0.180000     0   \n",
       "Sneakinâ***Drake                                      0.004790     1   \n",
       "Childs_Play***Drake                                     0.014500     1   \n",
       "GyÃ¶ngyhajÃº_lÃ¡ny***Omega                              0.020200     0   \n",
       "I've_Seen_Footage***Death_Grips                         0.048100     0   \n",
       "Digital_Animal***Honey_Claws                            0.002080     1   \n",
       "Subways_-_In_Flagranti_Extended_Edit***The_Aval...      0.057200     0   \n",
       "Donme_Dolap_-_Baris_K_Edit***Modern_Folk_ÃÃ§lÃ...      0.091500     1   \n",
       "Cemalim***Erkin_Koray                                   0.253000     1   \n",
       "One_Night***Lil_Yachty                                  0.366000     1   \n",
       "Oh_lala***PNL                                           0.440000     0   \n",
       "Char***Crystal_Castles                                  0.019000     1   \n",
       "World_In_Motion***New_Order                             0.023900     1   \n",
       "One_Nation_Under_a_Groove***Funkadelic                  0.233000     0   \n",
       "Bouncin***Chief_Keef                                    0.314000     0   \n",
       "C_O_O_L_-_Radio_Edit***Le_Youth                         0.024200     0   \n",
       "Percolator_(Jamie_Jones_Vault_Mix)_-_mixed***Ca...      0.000702     0   \n",
       "House_of_Jealous_Lovers***The_Rapture                   0.000240     1   \n",
       "Imma_Ride***Young_Thug                                  0.118000     1   \n",
       "Girlfriend***Ty_Segall                                  0.000596     0   \n",
       "If_I_Gave_You_My_Love***Myron_&_E                       0.279000     1   \n",
       "This_Ready_Flesh***TR/ST                                0.002190     1   \n",
       "Lose_My_Mind***A-Trak                                   0.341000     0   \n",
       "Char***Crystal_Castles                                  0.018000     1   \n",
       "Look_Alive***Rae_Sremmurd                               0.051600     0   \n",
       "Please_Stop_Making_Fake_Versace***Father                0.282000     1   \n",
       "...                                                          ...   ...   \n",
       "Work_This_Body***WALK_THE_MOON                          0.028300     1   \n",
       "Tightrope***WALK_THE_MOON                               0.000084     0   \n",
       "Different_Colors***WALK_THE_MOON                        0.000797     1   \n",
       "Avalanche***WALK_THE_MOON                               0.000590     1   \n",
       "Jenny***WALK_THE_MOON                                   0.000366     0   \n",
       "Portugal***WALK_THE_MOON                                0.007490     1   \n",
       "Quesadilla***WALK_THE_MOON                              0.001900     1   \n",
       "Aquaman***WALK_THE_MOON                                 0.510000     1   \n",
       "Paris_-_Pegboard_Nerds_Remix***The_Chainsmokers         0.020200     1   \n",
       "Quit_You_-_Wuki_Remix***Lost_Kings                      0.003630     1   \n",
       "Don't_Let_Me_Down_-_Zomboy_Remix***The_Chainsmo...      0.000870     0   \n",
       "Faded_-_Slushii_Remix***Alan_Walker                     0.031600     1   \n",
       "Can't_Get_Enough_-_Pegboard_Nerds_Remix***Tommi...      0.004990     0   \n",
       "Light_-_Loosid_Remix***San_Holo                         0.093500     1   \n",
       "Something_Just_Like_This_-_ARMNHMR_Remix***The_...      0.002620     0   \n",
       "Without_U***Steve_Aoki                                  0.030100     1   \n",
       "Hold_Up***Borgeous                                      0.000461     1   \n",
       "Phone_Down_-_Dodge_&_Fuski_Remix***Lost_Kings           0.096900     0   \n",
       "Spoon_Me_-_Slushii_Remix***Elliphant                    0.021600     0   \n",
       "Scared_To_Be_Lonely_(Conro_Remix)***Martin_Garrix       0.178000     0   \n",
       "Let_It_Go_-_Scott_Melker_&_Mister_Gray_Remix***...      0.002170     1   \n",
       "Call_On_Me_-_EDWYNN_X_TIKAL,_Spirix_Remix***Sta...      0.054100     1   \n",
       "Aamon***Kuuro                                           0.004990     1   \n",
       "Hey_Baby_-_Steve_Aoki_Remix***Dimitri_Vegas_&_L...      0.002310     0   \n",
       "Brightside_-_Borgeous_Remix***Icona_Pop                 0.000586     0   \n",
       "Like_A_Bitch_-_Kill_The_Noise_Remix***Kill_The_...      0.001060     1   \n",
       "Candy***Dillon_Francis                                  0.087700     1   \n",
       "Habit_-_Dack_Janiels_&_Wenzday_Remix***Rain_Man         0.008570     1   \n",
       "First_Contact***Twin_Moons                              0.001640     1   \n",
       "I_Wanna_Get_Better***Bleachers                          0.002810     1   \n",
       "\n",
       "                                                      tempo  loudness  \\\n",
       "Mask_Off***Future                                   150.062    -8.795   \n",
       "Redbone***Childish_Gambino                          160.083   -10.401   \n",
       "Xanny_Family***Future                                75.044    -7.148   \n",
       "Master_Of_None***Beach_House                         86.468   -15.236   \n",
       "Parallel_Lines***Junior_Boys                        174.004   -11.648   \n",
       "Sneakinâ***Drake                                   85.023    -6.682   \n",
       "Childs_Play***Drake                                  80.030   -11.204   \n",
       "GyÃ¶ngyhajÃº_lÃ¡ny***Omega                          144.154   -11.609   \n",
       "I've_Seen_Footage***Death_Grips                     130.035    -3.626   \n",
       "Digital_Animal***Honey_Claws                         99.994    -7.792   \n",
       "Subways_-_In_Flagranti_Extended_Edit***The_Aval...  111.951    -7.372   \n",
       "Donme_Dolap_-_Baris_K_Edit***Modern_Folk_ÃÃ§lÃ...  104.322    -8.620   \n",
       "Cemalim***Erkin_Koray                               127.681   -11.062   \n",
       "One_Night***Lil_Yachty                              130.007   -12.686   \n",
       "Oh_lala***PNL                                       125.011    -8.317   \n",
       "Char***Crystal_Castles                               99.988    -6.637   \n",
       "World_In_Motion***New_Order                         123.922    -4.111   \n",
       "One_Nation_Under_a_Groove***Funkadelic              122.415   -12.654   \n",
       "Bouncin***Chief_Keef                                140.061    -6.702   \n",
       "C_O_O_L_-_Radio_Edit***Le_Youth                     109.982    -6.914   \n",
       "Percolator_(Jamie_Jones_Vault_Mix)_-_mixed***Ca...  128.049    -9.335   \n",
       "House_of_Jealous_Lovers***The_Rapture               130.031    -4.134   \n",
       "Imma_Ride***Young_Thug                              139.922    -8.553   \n",
       "Girlfriend***Ty_Segall                              138.022    -1.710   \n",
       "If_I_Gave_You_My_Love***Myron_&_E                    94.498    -5.892   \n",
       "This_Ready_Flesh***TR/ST                            109.977    -6.758   \n",
       "Lose_My_Mind***A-Trak                               110.016    -6.889   \n",
       "Char***Crystal_Castles                              100.040    -6.615   \n",
       "Look_Alive***Rae_Sremmurd                           120.021    -7.467   \n",
       "Please_Stop_Making_Fake_Versace***Father            129.004   -12.766   \n",
       "...                                                     ...       ...   \n",
       "Work_This_Body***WALK_THE_MOON                      134.027    -5.128   \n",
       "Tightrope***WALK_THE_MOON                           162.435    -6.174   \n",
       "Different_Colors***WALK_THE_MOON                     96.000    -4.602   \n",
       "Avalanche***WALK_THE_MOON                           138.021    -4.339   \n",
       "Jenny***WALK_THE_MOON                               148.121    -5.593   \n",
       "Portugal***WALK_THE_MOON                            169.889    -4.368   \n",
       "Quesadilla***WALK_THE_MOON                          145.107    -6.081   \n",
       "Aquaman***WALK_THE_MOON                              99.964    -6.986   \n",
       "Paris_-_Pegboard_Nerds_Remix***The_Chainsmokers      99.889    -3.722   \n",
       "Quit_You_-_Wuki_Remix***Lost_Kings                  103.963    -5.567   \n",
       "Don't_Let_Me_Down_-_Zomboy_Remix***The_Chainsmo...  160.064    -4.684   \n",
       "Faded_-_Slushii_Remix***Alan_Walker                 140.048    -3.920   \n",
       "Can't_Get_Enough_-_Pegboard_Nerds_Remix***Tommi...  149.935    -4.640   \n",
       "Light_-_Loosid_Remix***San_Holo                     170.032    -4.180   \n",
       "Something_Just_Like_This_-_ARMNHMR_Remix***The_...  131.049    -5.652   \n",
       "Without_U***Steve_Aoki                              149.843    -3.495   \n",
       "Hold_Up***Borgeous                                  159.927    -2.981   \n",
       "Phone_Down_-_Dodge_&_Fuski_Remix***Lost_Kings       150.001    -2.339   \n",
       "Spoon_Me_-_Slushii_Remix***Elliphant                150.181    -3.506   \n",
       "Scared_To_Be_Lonely_(Conro_Remix)***Martin_Garrix   154.901    -4.261   \n",
       "Let_It_Go_-_Scott_Melker_&_Mister_Gray_Remix***...  144.986    -2.376   \n",
       "Call_On_Me_-_EDWYNN_X_TIKAL,_Spirix_Remix***Sta...   97.957    -6.511   \n",
       "Aamon***Kuuro                                       149.964    -6.011   \n",
       "Hey_Baby_-_Steve_Aoki_Remix***Dimitri_Vegas_&_L...  102.003    -0.935   \n",
       "Brightside_-_Borgeous_Remix***Icona_Pop             128.268    -5.891   \n",
       "Like_A_Bitch_-_Kill_The_Noise_Remix***Kill_The_...   74.976    -3.501   \n",
       "Candy***Dillon_Francis                              110.041    -2.663   \n",
       "Habit_-_Dack_Janiels_&_Wenzday_Remix***Rain_Man     150.082    -2.467   \n",
       "First_Contact***Twin_Moons                          150.011    -2.735   \n",
       "I_Wanna_Get_Better***Bleachers                      190.013    -6.221   \n",
       "\n",
       "                                                    danceability  \\\n",
       "Mask_Off***Future                                          0.833   \n",
       "Redbone***Childish_Gambino                                 0.743   \n",
       "Xanny_Family***Future                                      0.838   \n",
       "Master_Of_None***Beach_House                               0.494   \n",
       "Parallel_Lines***Junior_Boys                               0.678   \n",
       "Sneakinâ***Drake                                         0.804   \n",
       "Childs_Play***Drake                                        0.739   \n",
       "GyÃ¶ngyhajÃº_lÃ¡ny***Omega                                 0.266   \n",
       "I've_Seen_Footage***Death_Grips                            0.603   \n",
       "Digital_Animal***Honey_Claws                               0.836   \n",
       "Subways_-_In_Flagranti_Extended_Edit***The_Aval...         0.525   \n",
       "Donme_Dolap_-_Baris_K_Edit***Modern_Folk_ÃÃ§lÃ...         0.753   \n",
       "Cemalim***Erkin_Koray                                      0.603   \n",
       "One_Night***Lil_Yachty                                     0.762   \n",
       "Oh_lala***PNL                                              0.662   \n",
       "Char***Crystal_Castles                                     0.637   \n",
       "World_In_Motion***New_Order                                0.603   \n",
       "One_Nation_Under_a_Groove***Funkadelic                     0.789   \n",
       "Bouncin***Chief_Keef                                       0.713   \n",
       "C_O_O_L_-_Radio_Edit***Le_Youth                            0.735   \n",
       "Percolator_(Jamie_Jones_Vault_Mix)_-_mixed***Ca...         0.854   \n",
       "House_of_Jealous_Lovers***The_Rapture                      0.747   \n",
       "Imma_Ride***Young_Thug                                     0.854   \n",
       "Girlfriend***Ty_Segall                                     0.224   \n",
       "If_I_Gave_You_My_Love***Myron_&_E                          0.512   \n",
       "This_Ready_Flesh***TR/ST                                   0.781   \n",
       "Lose_My_Mind***A-Trak                                      0.411   \n",
       "Char***Crystal_Castles                                     0.646   \n",
       "Look_Alive***Rae_Sremmurd                                  0.782   \n",
       "Please_Stop_Making_Fake_Versace***Father                   0.735   \n",
       "...                                                          ...   \n",
       "Work_This_Body***WALK_THE_MOON                             0.421   \n",
       "Tightrope***WALK_THE_MOON                                  0.467   \n",
       "Different_Colors***WALK_THE_MOON                           0.480   \n",
       "Avalanche***WALK_THE_MOON                                  0.594   \n",
       "Jenny***WALK_THE_MOON                                      0.544   \n",
       "Portugal***WALK_THE_MOON                                   0.446   \n",
       "Quesadilla***WALK_THE_MOON                                 0.551   \n",
       "Aquaman***WALK_THE_MOON                                    0.630   \n",
       "Paris_-_Pegboard_Nerds_Remix***The_Chainsmokers            0.333   \n",
       "Quit_You_-_Wuki_Remix***Lost_Kings                         0.743   \n",
       "Don't_Let_Me_Down_-_Zomboy_Remix***The_Chainsmo...         0.465   \n",
       "Faded_-_Slushii_Remix***Alan_Walker                        0.680   \n",
       "Can't_Get_Enough_-_Pegboard_Nerds_Remix***Tommi...         0.619   \n",
       "Light_-_Loosid_Remix***San_Holo                            0.520   \n",
       "Something_Just_Like_This_-_ARMNHMR_Remix***The_...         0.484   \n",
       "Without_U***Steve_Aoki                                     0.583   \n",
       "Hold_Up***Borgeous                                         0.562   \n",
       "Phone_Down_-_Dodge_&_Fuski_Remix***Lost_Kings              0.595   \n",
       "Spoon_Me_-_Slushii_Remix***Elliphant                       0.526   \n",
       "Scared_To_Be_Lonely_(Conro_Remix)***Martin_Garrix          0.501   \n",
       "Let_It_Go_-_Scott_Melker_&_Mister_Gray_Remix***...         0.639   \n",
       "Call_On_Me_-_EDWYNN_X_TIKAL,_Spirix_Remix***Sta...         0.646   \n",
       "Aamon***Kuuro                                              0.595   \n",
       "Hey_Baby_-_Steve_Aoki_Remix***Dimitri_Vegas_&_L...         0.624   \n",
       "Brightside_-_Borgeous_Remix***Icona_Pop                    0.528   \n",
       "Like_A_Bitch_-_Kill_The_Noise_Remix***Kill_The_...         0.584   \n",
       "Candy***Dillon_Francis                                     0.894   \n",
       "Habit_-_Dack_Janiels_&_Wenzday_Remix***Rain_Man            0.637   \n",
       "First_Contact***Twin_Moons                                 0.557   \n",
       "I_Wanna_Get_Better***Bleachers                             0.446   \n",
       "\n",
       "                                                    instrumentalness  valence  \\\n",
       "Mask_Off***Future                                           0.021900    0.286   \n",
       "Redbone***Childish_Gambino                                  0.006110    0.588   \n",
       "Xanny_Family***Future                                       0.000234    0.173   \n",
       "Master_Of_None***Beach_House                                0.510000    0.230   \n",
       "Parallel_Lines***Junior_Boys                                0.512000    0.904   \n",
       "Sneakinâ***Drake                                          0.000000    0.264   \n",
       "Childs_Play***Drake                                         0.000007    0.308   \n",
       "GyÃ¶ngyhajÃº_lÃ¡ny***Omega                                  0.664000    0.393   \n",
       "I've_Seen_Footage***Death_Grips                             0.000000    0.398   \n",
       "Digital_Animal***Honey_Claws                                0.000000    0.386   \n",
       "Subways_-_In_Flagranti_Extended_Edit***The_Aval...          0.014300    0.524   \n",
       "Donme_Dolap_-_Baris_K_Edit***Modern_Folk_ÃÃ§lÃ...          0.003480    0.642   \n",
       "Cemalim***Erkin_Koray                                       0.061900    0.381   \n",
       "One_Night***Lil_Yachty                                      0.000000    0.367   \n",
       "Oh_lala***PNL                                               0.000000    0.351   \n",
       "Char***Crystal_Castles                                      0.056300    0.317   \n",
       "World_In_Motion***New_Order                                 0.045100    0.773   \n",
       "One_Nation_Under_a_Groove***Funkadelic                      0.000490    0.842   \n",
       "Bouncin***Chief_Keef                                        0.000000    0.783   \n",
       "C_O_O_L_-_Radio_Edit***Le_Youth                             0.185000    0.763   \n",
       "Percolator_(Jamie_Jones_Vault_Mix)_-_mixed***Ca...          0.308000    0.471   \n",
       "House_of_Jealous_Lovers***The_Rapture                       0.369000    0.770   \n",
       "Imma_Ride***Young_Thug                                      0.000000    0.441   \n",
       "Girlfriend***Ty_Segall                                      0.000001    0.364   \n",
       "If_I_Gave_You_My_Love***Myron_&_E                           0.000015    0.401   \n",
       "This_Ready_Flesh***TR/ST                                    0.269000    0.795   \n",
       "Lose_My_Mind***A-Trak                                       0.000001    0.598   \n",
       "Char***Crystal_Castles                                      0.040300    0.320   \n",
       "Look_Alive***Rae_Sremmurd                                   0.000000    0.237   \n",
       "Please_Stop_Making_Fake_Versace***Father                    0.125000    0.326   \n",
       "...                                                              ...      ...   \n",
       "Work_This_Body***WALK_THE_MOON                              0.000000    0.489   \n",
       "Tightrope***WALK_THE_MOON                                   0.002040    0.577   \n",
       "Different_Colors***WALK_THE_MOON                            0.000001    0.701   \n",
       "Avalanche***WALK_THE_MOON                                   0.000003    0.646   \n",
       "Jenny***WALK_THE_MOON                                       0.000000    0.821   \n",
       "Portugal***WALK_THE_MOON                                    0.000000    0.428   \n",
       "Quesadilla***WALK_THE_MOON                                  0.000000    0.628   \n",
       "Aquaman***WALK_THE_MOON                                     0.000023    0.714   \n",
       "Paris_-_Pegboard_Nerds_Remix***The_Chainsmokers             0.000000    0.129   \n",
       "Quit_You_-_Wuki_Remix***Lost_Kings                          0.143000    0.186   \n",
       "Don't_Let_Me_Down_-_Zomboy_Remix***The_Chainsmo...          0.014600    0.554   \n",
       "Faded_-_Slushii_Remix***Alan_Walker                         0.000018    0.260   \n",
       "Can't_Get_Enough_-_Pegboard_Nerds_Remix***Tommi...          0.000418    0.257   \n",
       "Light_-_Loosid_Remix***San_Holo                             0.003500    0.362   \n",
       "Something_Just_Like_This_-_ARMNHMR_Remix***The_...          0.000000    0.266   \n",
       "Without_U***Steve_Aoki                                      0.000003    0.321   \n",
       "Hold_Up***Borgeous                                          0.038300    0.311   \n",
       "Phone_Down_-_Dodge_&_Fuski_Remix***Lost_Kings               0.000000    0.183   \n",
       "Spoon_Me_-_Slushii_Remix***Elliphant                        0.000001    0.108   \n",
       "Scared_To_Be_Lonely_(Conro_Remix)***Martin_Garrix           0.000003    0.307   \n",
       "Let_It_Go_-_Scott_Melker_&_Mister_Gray_Remix***...          0.112000    0.494   \n",
       "Call_On_Me_-_EDWYNN_X_TIKAL,_Spirix_Remix***Sta...          0.000000    0.589   \n",
       "Aamon***Kuuro                                               0.035900    0.331   \n",
       "Hey_Baby_-_Steve_Aoki_Remix***Dimitri_Vegas_&_L...          0.121000    0.442   \n",
       "Brightside_-_Borgeous_Remix***Icona_Pop                     0.004890    0.327   \n",
       "Like_A_Bitch_-_Kill_The_Noise_Remix***Kill_The_...          0.002690    0.211   \n",
       "Candy***Dillon_Francis                                      0.001670    0.867   \n",
       "Habit_-_Dack_Janiels_&_Wenzday_Remix***Rain_Man             0.003990    0.470   \n",
       "First_Contact***Twin_Moons                                  0.677000    0.623   \n",
       "I_Wanna_Get_Better***Bleachers                              0.000039    0.402   \n",
       "\n",
       "                                                    energy  target  \n",
       "Mask_Off***Future                                    0.434       1  \n",
       "Redbone***Childish_Gambino                           0.359       1  \n",
       "Xanny_Family***Future                                0.412       1  \n",
       "Master_Of_None***Beach_House                         0.338       1  \n",
       "Parallel_Lines***Junior_Boys                         0.561       1  \n",
       "Sneakinâ***Drake                                   0.560       1  \n",
       "Childs_Play***Drake                                  0.472       1  \n",
       "GyÃ¶ngyhajÃº_lÃ¡ny***Omega                           0.348       1  \n",
       "I've_Seen_Footage***Death_Grips                      0.944       1  \n",
       "Digital_Animal***Honey_Claws                         0.603       1  \n",
       "Subways_-_In_Flagranti_Extended_Edit***The_Aval...   0.855       1  \n",
       "Donme_Dolap_-_Baris_K_Edit***Modern_Folk_ÃÃ§lÃ...   0.748       1  \n",
       "Cemalim***Erkin_Koray                                0.434       1  \n",
       "One_Night***Lil_Yachty                               0.476       1  \n",
       "Oh_lala***PNL                                        0.603       1  \n",
       "Char***Crystal_Castles                               0.832       1  \n",
       "World_In_Motion***New_Order                          0.955       1  \n",
       "One_Nation_Under_a_Groove***Funkadelic               0.659       1  \n",
       "Bouncin***Chief_Keef                                 0.611       1  \n",
       "C_O_O_L_-_Radio_Edit***Le_Youth                      0.759       1  \n",
       "Percolator_(Jamie_Jones_Vault_Mix)_-_mixed***Ca...   0.719       1  \n",
       "House_of_Jealous_Lovers***The_Rapture                0.740       1  \n",
       "Imma_Ride***Young_Thug                               0.401       1  \n",
       "Girlfriend***Ty_Segall                               0.925       1  \n",
       "If_I_Gave_You_My_Love***Myron_&_E                    0.564       1  \n",
       "This_Ready_Flesh***TR/ST                             0.795       1  \n",
       "Lose_My_Mind***A-Trak                                0.684       1  \n",
       "Char***Crystal_Castles                               0.837       1  \n",
       "Look_Alive***Rae_Sremmurd                            0.572       1  \n",
       "Please_Stop_Making_Fake_Versace***Father             0.400       1  \n",
       "...                                                    ...     ...  \n",
       "Work_This_Body***WALK_THE_MOON                       0.831       0  \n",
       "Tightrope***WALK_THE_MOON                            0.794       0  \n",
       "Different_Colors***WALK_THE_MOON                     0.826       0  \n",
       "Avalanche***WALK_THE_MOON                            0.858       0  \n",
       "Jenny***WALK_THE_MOON                                0.788       0  \n",
       "Portugal***WALK_THE_MOON                             0.881       0  \n",
       "Quesadilla***WALK_THE_MOON                           0.732       0  \n",
       "Aquaman***WALK_THE_MOON                              0.772       0  \n",
       "Paris_-_Pegboard_Nerds_Remix***The_Chainsmokers      0.913       0  \n",
       "Quit_You_-_Wuki_Remix***Lost_Kings                   0.889       0  \n",
       "Don't_Let_Me_Down_-_Zomboy_Remix***The_Chainsmo...   0.953       0  \n",
       "Faded_-_Slushii_Remix***Alan_Walker                  0.725       0  \n",
       "Can't_Get_Enough_-_Pegboard_Nerds_Remix***Tommi...   0.949       0  \n",
       "Light_-_Loosid_Remix***San_Holo                      0.809       0  \n",
       "Something_Just_Like_This_-_ARMNHMR_Remix***The_...   0.609       0  \n",
       "Without_U***Steve_Aoki                               0.891       0  \n",
       "Hold_Up***Borgeous                                   0.960       0  \n",
       "Phone_Down_-_Dodge_&_Fuski_Remix***Lost_Kings        0.975       0  \n",
       "Spoon_Me_-_Slushii_Remix***Elliphant                 0.825       0  \n",
       "Scared_To_Be_Lonely_(Conro_Remix)***Martin_Garrix    0.683       0  \n",
       "Let_It_Go_-_Scott_Melker_&_Mister_Gray_Remix***...   0.978       0  \n",
       "Call_On_Me_-_EDWYNN_X_TIKAL,_Spirix_Remix***Sta...   0.714       0  \n",
       "Aamon***Kuuro                                        0.837       0  \n",
       "Hey_Baby_-_Steve_Aoki_Remix***Dimitri_Vegas_&_L...   0.971       0  \n",
       "Brightside_-_Borgeous_Remix***Icona_Pop              0.879       0  \n",
       "Like_A_Bitch_-_Kill_The_Noise_Remix***Kill_The_...   0.932       0  \n",
       "Candy***Dillon_Francis                               0.892       0  \n",
       "Habit_-_Dack_Janiels_&_Wenzday_Remix***Rain_Man      0.935       0  \n",
       "First_Contact***Twin_Moons                           0.992       0  \n",
       "I_Wanna_Get_Better***Bleachers                       0.915       0  \n",
       "\n",
       "[2017 rows x 9 columns]"
      ]
     },
     "execution_count": 155,
     "metadata": {},
     "output_type": "execute_result"
    }
   ],
   "source": [
    "music = pd.read_pickle(\"../../data/Spotify_Data.pkl\")\n",
    "music"
   ]
  },
  {
   "cell_type": "code",
   "execution_count": 156,
   "metadata": {},
   "outputs": [
    {
     "data": {
      "text/plain": [
       "Index(['acousticness', 'mode', 'tempo', 'loudness', 'danceability',\n",
       "       'instrumentalness', 'valence', 'energy', 'target'],\n",
       "      dtype='object')"
      ]
     },
     "execution_count": 156,
     "metadata": {},
     "output_type": "execute_result"
    }
   ],
   "source": [
    "music.columns"
   ]
  },
  {
   "cell_type": "code",
   "execution_count": 163,
   "metadata": {},
   "outputs": [
    {
     "data": {
      "text/plain": [
       "1    0.505702\n",
       "0    0.494298\n",
       "Name: target, dtype: float64"
      ]
     },
     "execution_count": 163,
     "metadata": {},
     "output_type": "execute_result"
    }
   ],
   "source": [
    "music.target.value_counts(normalize=True)"
   ]
  },
  {
   "cell_type": "code",
   "execution_count": 183,
   "metadata": {},
   "outputs": [],
   "source": [
    "X = music.drop('target', axis = 1)"
   ]
  },
  {
   "cell_type": "code",
   "execution_count": 184,
   "metadata": {},
   "outputs": [],
   "source": [
    "y = music.target"
   ]
  },
  {
   "cell_type": "code",
   "execution_count": null,
   "metadata": {},
   "outputs": [],
   "source": []
  },
  {
   "cell_type": "code",
   "execution_count": 185,
   "metadata": {},
   "outputs": [
    {
     "data": {
      "text/plain": [
       "KNeighborsClassifier(algorithm='auto', leaf_size=30, metric='minkowski',\n",
       "           metric_params=None, n_jobs=1, n_neighbors=5, p=2,\n",
       "           weights='uniform')"
      ]
     },
     "execution_count": 185,
     "metadata": {},
     "output_type": "execute_result"
    }
   ],
   "source": [
    "knn5 = KNeighborsClassifier(n_neighbors=5)\n",
    "knn5.fit(X,y)"
   ]
  },
  {
   "cell_type": "code",
   "execution_count": 186,
   "metadata": {},
   "outputs": [
    {
     "data": {
      "text/plain": [
       "0.7506197322756569"
      ]
     },
     "execution_count": 186,
     "metadata": {},
     "output_type": "execute_result"
    }
   ],
   "source": [
    "knn5.score(X,y)"
   ]
  },
  {
   "cell_type": "code",
   "execution_count": 187,
   "metadata": {},
   "outputs": [
    {
     "data": {
      "text/plain": [
       "[<matplotlib.lines.Line2D at 0x1a1f5a2940>]"
      ]
     },
     "execution_count": 187,
     "metadata": {},
     "output_type": "execute_result"
    },
    {
     "data": {
      "image/png": "[encoded data removed]",
      "text/plain": [
       "<matplotlib.figure.Figure at 0x1a23cb0278>"
      ]
     },
     "metadata": {},
     "output_type": "display_data"
    }
   ],
   "source": [
    "neighbors = range(3,71,2)\n",
    "\n",
    "cv_scores = []\n",
    "\n",
    "for neighbor in neighbors:\n",
    "    model = KNeighborsClassifier(n_neighbors=neighbor)\n",
    "    cv_score = cross_val_score(model, X, y, scoring=\"accuracy\", cv=5).mean()\n",
    "    cv_scores.append(cv_score)\n",
    "    \n",
    "plt.figure(figsize=(20,12))\n",
    "plt.plot(neighbors, cv_scores, linewidth=4)"
   ]
  },
  {
   "cell_type": "code",
   "execution_count": null,
   "metadata": {},
   "outputs": [],
   "source": []
  },
  {
   "cell_type": "code",
   "execution_count": 190,
   "metadata": {},
   "outputs": [],
   "source": [
    "ss = StandardScaler()\n",
    "mm = MinMaxScaler()"
   ]
  },
  {
   "cell_type": "code",
   "execution_count": 191,
   "metadata": {},
   "outputs": [
    {
     "data": {
      "text/plain": [
       "0.7803668815071889"
      ]
     },
     "execution_count": 191,
     "metadata": {},
     "output_type": "execute_result"
    }
   ],
   "source": [
    "X_ss = ss.fit_transform(X)\n",
    "\n",
    "model = KNeighborsClassifier(n_neighbors=5)\n",
    "model.fit(X_ss,y)\n",
    "model.score(X_ss, y)"
   ]
  },
  {
   "cell_type": "code",
   "execution_count": null,
   "metadata": {},
   "outputs": [],
   "source": []
  },
  {
   "cell_type": "code",
   "execution_count": 188,
   "metadata": {},
   "outputs": [],
   "source": [
    "\n",
    "from sklearn.tree import DecisionTreeClassifier"
   ]
  },
  {
   "cell_type": "code",
   "execution_count": 189,
   "metadata": {},
   "outputs": [
    {
     "data": {
      "text/plain": [
       "[<matplotlib.lines.Line2D at 0x1a1e644978>]"
      ]
     },
     "execution_count": 189,
     "metadata": {},
     "output_type": "execute_result"
    },
    {
     "data": {
      "image/png": "[encoded data removed]",
      "text/plain": [
       "<matplotlib.figure.Figure at 0x1a229f6c50>"
      ]
     },
     "metadata": {},
     "output_type": "display_data"
    }
   ],
   "source": [
    "depths = range(1,20)\n",
    "\n",
    "cv_scores = []\n",
    "\n",
    "for depth in depths:\n",
    "    model = DecisionTreeClassifier(max_depth=depth)\n",
    "    cv_score = cross_val_score(model, X, y, scoring=\"accuracy\", cv=5).mean()\n",
    "    cv_scores.append(cv_score)\n",
    "    \n",
    "plt.figure(figsize=(20,12))\n",
    "plt.plot(depths, cv_scores, linewidth=4)"
   ]
  },
  {
   "cell_type": "code",
   "execution_count": 178,
   "metadata": {},
   "outputs": [
    {
     "data": {
      "text/plain": [
       "DecisionTreeClassifier(class_weight=None, criterion='gini', max_depth=4,\n",
       "            max_features=None, max_leaf_nodes=None,\n",
       "            min_impurity_decrease=0.0, min_impurity_split=None,\n",
       "            min_samples_leaf=1, min_samples_split=2,\n",
       "            min_weight_fraction_leaf=0.0, presort=False, random_state=None,\n",
       "            splitter='best')"
      ]
     },
     "execution_count": 178,
     "metadata": {},
     "output_type": "execute_result"
    }
   ],
   "source": [
    "dt = DecisionTreeClassifier(max_depth=4)\n",
    "dt.fit(X,y)\n"
   ]
  },
  {
   "cell_type": "code",
   "execution_count": 180,
   "metadata": {},
   "outputs": [
    {
     "ename": "FileNotFoundError",
     "evalue": "[Errno 2] No such file or directory: 'spotify.dot'",
     "output_type": "error",
     "traceback": [
      "\u001b[0;31m---------------------------------------------------------------------------\u001b[0m",
      "\u001b[0;31mFileNotFoundError\u001b[0m                         Traceback (most recent call last)",
      "\u001b[0;32m<ipython-input-180-e02dc6a287f4>\u001b[0m in \u001b[0;36m<module>\u001b[0;34m()\u001b[0m\n\u001b[1;32m      6\u001b[0m                     \u001b[0mfeature_names\u001b[0m\u001b[0;34m=\u001b[0m\u001b[0mX\u001b[0m\u001b[0;34m.\u001b[0m\u001b[0mcolumns\u001b[0m\u001b[0;34m,\u001b[0m\u001b[0;34m\u001b[0m\u001b[0m\n\u001b[1;32m      7\u001b[0m                     class_names=[\"like\",\"dislike\"])\n\u001b[0;32m----> 8\u001b[0;31m \u001b[0;32mwith\u001b[0m \u001b[0mopen\u001b[0m\u001b[0;34m(\u001b[0m\u001b[0;34m\"spotify.dot\"\u001b[0m\u001b[0;34m)\u001b[0m \u001b[0;32mas\u001b[0m \u001b[0mf\u001b[0m\u001b[0;34m:\u001b[0m\u001b[0;34m\u001b[0m\u001b[0m\n\u001b[0m\u001b[1;32m      9\u001b[0m         \u001b[0mdot_graph\u001b[0m \u001b[0;34m=\u001b[0m \u001b[0mf\u001b[0m\u001b[0;34m.\u001b[0m\u001b[0mread\u001b[0m\u001b[0;34m(\u001b[0m\u001b[0;34m)\u001b[0m\u001b[0;34m\u001b[0m\u001b[0m\n\u001b[1;32m     10\u001b[0m \u001b[0mgraphviz\u001b[0m\u001b[0;34m.\u001b[0m\u001b[0mSource\u001b[0m\u001b[0;34m(\u001b[0m\u001b[0mdot_graph\u001b[0m\u001b[0;34m)\u001b[0m\u001b[0;34m\u001b[0m\u001b[0m\n",
      "\u001b[0;31mFileNotFoundError\u001b[0m: [Errno 2] No such file or directory: 'spotify.dot'"
     ]
    }
   ],
   "source": [
    "from sklearn.tree import export_graphviz\n",
    "import graphviz\n",
    "\n",
    "#Export the decision tree graph viz object. We have to export and the re-import it\n",
    "export_graphviz(dt, out_file='spotoify.dot', \n",
    "                    feature_names=X.columns, \n",
    "                    class_names=[\"like\",\"dislike\"])\n",
    "with open(\"spotify.dot\") as f: \n",
    "        dot_graph = f.read()\n",
    "graphviz.Source(dot_graph)"
   ]
  },
  {
   "cell_type": "code",
   "execution_count": null,
   "metadata": {},
   "outputs": [],
   "source": []
  },
  {
   "cell_type": "code",
   "execution_count": null,
   "metadata": {},
   "outputs": [],
   "source": []
  },
  {
   "cell_type": "code",
   "execution_count": null,
   "metadata": {},
   "outputs": [],
   "source": []
  },
  {
   "cell_type": "code",
   "execution_count": null,
   "metadata": {},
   "outputs": [],
   "source": [
    "X_train, y_train, X_test, y_test = train_test_split(X, y, test_size = 0.25, random_state=56)\n"
   ]
  },
  {
   "cell_type": "code",
   "execution_count": null,
   "metadata": {},
   "outputs": [],
   "source": []
  },
  {
   "cell_type": "code",
   "execution_count": null,
   "metadata": {},
   "outputs": [],
   "source": []
  },
  {
   "cell_type": "code",
   "execution_count": null,
   "metadata": {},
   "outputs": [],
   "source": []
  },
  {
   "cell_type": "code",
   "execution_count": null,
   "metadata": {},
   "outputs": [],
   "source": []
  },
  {
   "cell_type": "code",
   "execution_count": null,
   "metadata": {},
   "outputs": [],
   "source": []
  },
  {
   "cell_type": "code",
   "execution_count": null,
   "metadata": {},
   "outputs": [],
   "source": []
  },
  {
   "cell_type": "code",
   "execution_count": null,
   "metadata": {},
   "outputs": [],
   "source": []
  },
  {
   "cell_type": "code",
   "execution_count": null,
   "metadata": {},
   "outputs": [],
   "source": []
  },
  {
   "cell_type": "code",
   "execution_count": null,
   "metadata": {},
   "outputs": [],
   "source": []
  },
  {
   "cell_type": "code",
   "execution_count": null,
   "metadata": {},
   "outputs": [],
   "source": []
  },
  {
   "cell_type": "code",
   "execution_count": null,
   "metadata": {},
   "outputs": [],
   "source": []
  },
  {
   "cell_type": "code",
   "execution_count": null,
   "metadata": {},
   "outputs": [],
   "source": []
  }
 ],
 "metadata": {
  "kernelspec": {
   "display_name": "Python 3",
   "language": "python",
   "name": "python3"
  },
  "language_info": {
   "codemirror_mode": {
    "name": "ipython",
    "version": 3
   },
   "file_extension": ".py",
   "mimetype": "text/x-python",
   "name": "python",
   "nbconvert_exporter": "python",
   "pygments_lexer": "ipython3",
   "version": "3.6.4"
  }
 },
 "nbformat": 4,
 "nbformat_minor": 2
}
